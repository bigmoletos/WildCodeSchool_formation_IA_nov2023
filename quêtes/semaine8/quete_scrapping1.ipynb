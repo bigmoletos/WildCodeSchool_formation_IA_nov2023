{
 "cells": [
  {
   "cell_type": "markdown",
   "metadata": {},
   "source": [
    "Quete 1 scrapping chuck Norris"
   ]
  },
  {
   "cell_type": "code",
   "execution_count": 1,
   "metadata": {},
   "outputs": [],
   "source": [
    "import requests\n",
    "import numpy as np\n",
    "import pandas as pd\n",
    "from bs4 import BeautifulSoup"
   ]
  },
  {
   "cell_type": "code",
   "execution_count": 2,
   "metadata": {},
   "outputs": [],
   "source": [
    "# scrapping des noms des fichiers\n",
    "url = \"http://www.chucknorrisfacts.fr/facts/history\"\n",
    "# url = \"http://www.chucknorrisfacts.fr/facts/top/1\"\n",
    "\n",
    "# contournement d'éventuels protection anti-scrapping\n",
    "navigator = \"Mozilla/5.0 (Windows NT 10.0; Win64; x64) AppleWebKit/537.36 (KHTML, like Gecko) Chrome/58.0.3029.110 Safari/537.3\"\n",
    "\n",
    "response = requests.get(url, headers={\"User-Agent\": navigator})\n",
    "# response = requests.get(url)\n",
    "soup = BeautifulSoup(response.text, \"html.parser\")\n",
    "\n",
    "# Trouver tous les liens sur la page\n",
    "liens = soup.find_all(\"a\")"
   ]
  },
  {
   "cell_type": "markdown",
   "metadata": {},
   "source": [
    "Structure HTML de la page"
   ]
  },
  {
   "cell_type": "markdown",
   "metadata": {},
   "source": [
    "<div class=\"card\">\n",
    "\n",
    "        <div class=\"card-body bg-light rounded\">\n",
    "            <p class=\"card-text\">Chuck Norris ne dort pas. Il attend.</p>\n",
    "        </div>\n",
    "    <div class=\"card-footer\">\n",
    "        <div class=\"row\">\n",
    "            <div class=\"col-md-8 card-footer-left smaller\">\n",
    "                <a href=\"/voir_fact/13\">#13</a>\n",
    "                <span id=\"moyenne_13\">(7.33/10)</span>\n",
    "            </div>\n",
    "            <!-- <div class=\"col-md-4\">\n",
    "                <a href=\"#\"><i class=\"bi-twitter smaller\" style=\"color:#5C4202;\"></i></a> \n",
    "                <a href=\"#\"><i class=\"bi-facebook smaller\" style=\"color:#5C4202;\"></i></a>                \n",
    "            </div> -->\n",
    "            <div class=\"col-md-4 bold\" id=\"vote_13\">\n",
    "                <a class=\"votelink bold smaller\" data-factid=\"13\" data-note=1 role=\"button\">[+]</a> \n",
    "                <a class=\"votelink bold smaller\" data-factid=\"13\" data-note=2 role=\"button\">[++]</a> \n",
    "                <a class=\"votelink bold smaller\" data-factid=\"13\" data-note=3 role=\"button\">[+++]</a> \n",
    "                           \n",
    "            </div>\n",
    "            </div>\n",
    "        </div>\n",
    "    </div>"
   ]
  },
  {
   "cell_type": "code",
   "execution_count": 3,
   "metadata": {},
   "outputs": [
    {
     "name": "stdout",
     "output_type": "stream",
     "text": [
      "Nombre de blagues trouvées : 20\n",
      "\n",
      "Chuck Norris ne dort pas. Il attend.\n",
      "\n"
     ]
    }
   ],
   "source": [
    "from bs4 import BeautifulSoup\n",
    "\n",
    "# scrapping des noms des fichiers\n",
    "url = \"http://www.chucknorrisfacts.fr/facts/history\"\n",
    "# url = \"http://www.chucknorrisfacts.fr/facts/top/1\"\n",
    "\n",
    "# contournement d'éventuels protection anti-scrapping\n",
    "navigator = \"Mozilla/5.0 (Windows NT 10.0; Win64; x64) AppleWebKit/537.36 (KHTML, like Gecko) Chrome/58.0.3029.110 Safari/537.3\"\n",
    "\n",
    "response = requests.get(url, headers={\"User-Agent\": navigator})\n",
    "# Supposons que 'html' est votre chaîne HTML\n",
    "soup = BeautifulSoup(response.text, \"html.parser\")\n",
    "# liste des blagues\n",
    "jokes = soup.find_all(\"div\", class_=\"card-body bg-light rounded\")\n",
    "\n",
    "# affichage du nombre de blagues trouvées\n",
    "print(f\"Nombre de blagues trouvées : {len(jokes)}\")\n",
    "\n",
    "# Affichage de  la 13 éme blague\n",
    "if len(jokes) > 12:\n",
    "    print(jokes[12].text)\n",
    "else:\n",
    "    print(\"Il n'y a pas assez de blagues sur cette page.\")"
   ]
  },
  {
   "cell_type": "code",
   "execution_count": 4,
   "metadata": {},
   "outputs": [
    {
     "name": "stdout",
     "output_type": "stream",
     "text": [
      "{'1': {'blague': \"Chuck Norris a déjà compté jusqu'à l'infini. Deux fois.\", 'note': '8.25'}, '2': {'blague': 'Certaines personnes portent un pyjama Superman. Superman porte un pyjama Chuck Norris.', 'note': '7.74'}, '3': {'blague': 'Chuck Norris sait parler le braille.', 'note': '7.59'}, '4': {'blague': 'Chuck Norris peut diviser par zéro.', 'note': '7.42'}, '5': {'blague': 'Chuck Norris joue à la roulette russe avec un chargeur plein.', 'note': '7.68'}, '6': {'blague': 'Quand Chuck Norris fait une prise de sang, il refuse la seringue et demande un fusil à pompe et une bassine.', 'note': '7.55'}, '7': {'blague': \"Si Chuck Norris n'a pas écrit sa biographie, c'est tout simplement pour ne pas faire d'ombre à la Bible.\", 'note': '7.46'}, '8': {'blague': \"Dieu a dit: que la lumiere soit! et Chuck Norris répondit : On dit s'il vous plait.\", 'note': '7.49'}, '9': {'blague': \"Chuck Norris est né dans une maison en rondins qu'il avait construite lui-même.\", 'note': '7.39'}, '10': {'blague': \"Chuck Norris ne porte pas de montre. Il décide de l'heure qu'il est.\", 'note': '7.48'}, '11': {'blague': 'Chuck Norris est la raison pour laquelle Charlie se cache.', 'note': '7.47'}, '12': {'blague': \"Il n'y a pas de théorie de l'évolution. Juste une liste d'espèces que Chuck Norris autorise à survivre.\", 'note': '7.47'}, '13': {'blague': 'Chuck Norris ne dort pas. Il attend.', 'note': '7.33'}, '14': {'blague': \"Après de longues discussions, l'on décida d'envoyer une bombe atomique sur Hiroshima au lieu de Chuck Norris, c'était plus humain.\", 'note': '7.75'}, '15': {'blague': \"Chuck Norris est si rapide qu'il peut courir autour du monde et se frapper derrière la tête.\", 'note': '7.30'}, '16': {'blague': 'Les pistolets ne tuent pas les gens. Chuck Norris tue les gens.', 'note': '6.19'}, '17': {'blague': 'Chuck Norris a deux vitesses : Marcher et Tuer.', 'note': '7.10'}, '18': {'blague': 'Les principales causes de décès aux Etats Unis sont : 1) Maladies cardiaques2) Chuck Norris3) Cancer', 'note': '7.14'}, '19': {'blague': \"Chuck Norris ne part pas chasser car la chasse implique la possibilité d'un échec. Chuck Norris part tuer.\", 'note': '7.61'}, '20': {'blague': 'Les suisses ne sont pas neutres, ils attendent de savoir de quel coté Chuck Norris se situe.', 'note': '7.48'}}\n"
     ]
    }
   ],
   "source": [
    "# Trouve toutes les div des blagues pour obtenir les notes\n",
    "jokes_cards = soup.find_all(\"div\", class_=\"card\")\n",
    "\n",
    "\n",
    "# dictionnaire pour stocker les blagues et les notes\n",
    "dico_blagues = {}\n",
    "\n",
    "for card in jokes_cards:\n",
    "    ligne_html_blague = card.find(\n",
    "        \"p\", class_=\"card-text\"\n",
    "    )  # cherche paragraphes avec la classe \"card-text\"\n",
    "    ligne_html_id_blague = card.find(\"a\")  # cherche le premier lien\n",
    "    ligne_html_note_blague = card.find(\n",
    "        \"span\", id=lambda x: x and x.startswith(\"moyenne_\")\n",
    "    )  # cherche le premier élément <span> dont l’ID commence par 'moyenne_'\n",
    "    ligne_html_blague = card.find(\n",
    "        \"p\", class_=\"card-text\"\n",
    "    )  # cherche paragraphes avec la classe \"card-text\"\n",
    "\n",
    "    # print(f\"\\ntexte_blague :\\n{ligne_html_blague}\\n ligne_html_id_blague :\\n{ligne_html_id_blague}\\n ligne_html_note_blague :\\n{ligne_html_note_blague}\\n\")\n",
    "\n",
    "    #  Si tous les elements existent :\n",
    "    if ligne_html_blague and ligne_html_id_blague and ligne_html_note_blague:\n",
    "        texte_blague = ligne_html_blague.text\n",
    "        id_blague = ligne_html_id_blague.text.replace(\n",
    "            \"#\", \"\")  # Enlever le symbole '#'\n",
    "        note_blague = ligne_html_note_blague.text.replace(\"(\", \"\").replace(\n",
    "            \"/10)\", \"\"\n",
    "        )  # Enlever les parenthèses et '/10'\n",
    "\n",
    "        # Ajouter la blague et la note au dictionnaire\n",
    "        dico_blagues[id_blague] = {\"blague\": texte_blague, \"note\": note_blague}\n",
    "\n",
    "print(dico_blagues)"
   ]
  },
  {
   "cell_type": "code",
   "execution_count": 5,
   "metadata": {},
   "outputs": [
    {
     "name": "stdout",
     "output_type": "stream",
     "text": [
      "  Joke                                             Rating\n",
      "0    1  {'blague': 'Chuck Norris a déjà compté jusqu'à...\n",
      "1    2  {'blague': 'Certaines personnes portent un pyj...\n",
      "2    3  {'blague': 'Chuck Norris sait parler le braill...\n",
      "3    4  {'blague': 'Chuck Norris peut diviser par zéro...\n",
      "4    5  {'blague': 'Chuck Norris joue à la roulette ru...\n",
      "\n",
      " 13éme blague :\n",
      "['13' {'blague': 'Chuck Norris ne dort pas. Il attend.', 'note': '7.33'}] \n",
      "\n"
     ]
    }
   ],
   "source": [
    "# Transformation du dictionnaire en DataFrame\n",
    "df = pd.DataFrame(list(dico_blagues.items()), columns=[\"Joke\", \"Rating\"])\n",
    "print(df.head(5))\n",
    "print(f\"\\n 13éme blague :\\n{df.iloc[12].values} \\n\")"
   ]
  }
 ],
 "metadata": {
  "kernelspec": {
   "display_name": "Python 3",
   "language": "python",
   "name": "python3"
  },
  "language_info": {
   "codemirror_mode": {
    "name": "ipython",
    "version": 3
   },
   "file_extension": ".py",
   "mimetype": "text/x-python",
   "name": "python",
   "nbconvert_exporter": "python",
   "pygments_lexer": "ipython3",
   "version": "3.12.0"
  }
 },
 "nbformat": 4,
 "nbformat_minor": 2
}
