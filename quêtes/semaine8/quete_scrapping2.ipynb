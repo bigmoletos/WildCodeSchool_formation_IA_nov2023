{
 "cells": [
  {
   "cell_type": "markdown",
   "metadata": {},
   "source": [
    "Quete 2 scrapping chuck Norris"
   ]
  },
  {
   "cell_type": "code",
   "execution_count": 11,
   "metadata": {},
   "outputs": [],
   "source": [
    "import requests\n",
    "import numpy as np\n",
    "import pandas as pd\n",
    "from bs4 import BeautifulSoup\n",
    "import matplotlib.pyplot as plt"
   ]
  },
  {
   "cell_type": "code",
   "execution_count": 2,
   "metadata": {},
   "outputs": [],
   "source": [
    "# scrapping des noms des fichiers\n",
    "# url = \"http://www.chucknorrisfacts.fr/facts/history\"\n",
    "url = \"http://www.chucknorrisfacts.fr/facts/top/1\"\n",
    "\n",
    "# contournement d'éventuels protection anti-scrapping\n",
    "navigator = \"Mozilla/5.0 (Windows NT 10.0; Win64; x64) AppleWebKit/537.36 (KHTML, like Gecko) Chrome/58.0.3029.110 Safari/537.3\"\n",
    "\n",
    "response = requests.get(url, headers={\"User-Agent\": navigator})\n",
    "# response = requests.get(url)\n",
    "soup = BeautifulSoup(response.text, \"html.parser\")\n",
    "\n",
    "# Trouver tous les liens sur la page\n",
    "liens = soup.find_all(\"a\")"
   ]
  },
  {
   "cell_type": "markdown",
   "metadata": {},
   "source": [
    "1.Observe attentivement l'URL de la page 1. Essaye de passer à la page 2. Dans un notebook python, essaye de générer automatiquement les URL des 5 premières pages (avec une boucle par exemple ?)"
   ]
  },
  {
   "cell_type": "code",
   "execution_count": 5,
   "metadata": {},
   "outputs": [
    {
     "name": "stdout",
     "output_type": "stream",
     "text": [
      "\n",
      "liste_urls :\n",
      "['http://www.chucknorrisfacts.fr/facts/top/1', 'http://www.chucknorrisfacts.fr/facts/top/2', 'http://www.chucknorrisfacts.fr/facts/top/3', 'http://www.chucknorrisfacts.fr/facts/top/4', 'http://www.chucknorrisfacts.fr/facts/top/5'] \n",
      "\n"
     ]
    }
   ],
   "source": [
    "# liste des urls pour chaque page\n",
    "url = \"http://www.chucknorrisfacts.fr/facts/top/\"\n",
    "liste_urls = []\n",
    "liste_urls = [url + str(page) for page in range(1, 6)]\n",
    "print(f\"\\nliste_urls :\\n{liste_urls} \\n\")"
   ]
  },
  {
   "cell_type": "markdown",
   "metadata": {},
   "source": [
    "2.Utilise BeautifulSoup pour scraper les facts et les notes des 5 premières pages, grâce aux URL que tu as générées. (Nous pourrions faire les 100 ou 200 pages suivantes, mais ca risque d'entrainer une charge inutile pour ceux qui administrent ce serveur.) Le résultat doit être dans un dictionnaire."
   ]
  },
  {
   "cell_type": "code",
   "execution_count": 37,
   "metadata": {},
   "outputs": [
    {
     "name": "stdout",
     "output_type": "stream",
     "text": [
      "{'231015': {'blague': \"Les ennemis des amis de Chuck Norris sont ses amis. Et oui! Les ennemis de Chuck Norris n'existent plus.\", 'note': '8.89'}, '145074': {'blague': \"L'avenir se demande parfois ce que Chuck Norris lui réserve.\", 'note': '8.43'}, '100129': {'blague': \"Un jour Chuck Norris a eu un zero en latin, depuis c'est une langue morte.\", 'note': '8.43'}, '124315': {'blague': 'Chuck Norris ne sait pas à quoi ressemble Nicolas Sarkozy,  en effet Chuck Norris ne baisse jamais les yeux.', 'note': '8.42'}, '100889': {'blague': \"Chuck Norris n'a pas de père. On ne nique pas la mère de Chuck Norris.\", 'note': '8.34'}, '35793': {'blague': \"Chuck Norris ne ment pas, c'est la vérité qui se trompe.\", 'note': '8.33'}, '100410': {'blague': 'Les samouraïs tuent des mouches avec leurs sabres...Chuck Norris, lui, tue des samouraïs avec des mouches', 'note': '8.32'}, '96377': {'blague': \"Cherchez l'intrus : Un rouge-gorge, un pigeon, un moineau et Chuck Norris.Réponse : Un rouge-gorge, un pigeon et un moineau.\", 'note': '8.31'}, '150753': {'blague': 'Chuck Norris peut ressusciter un angle mort.', 'note': '8.31'}, '58375': {'blague': \"Les ennemis de Chuck Norris lui disent souvent d'aller au diable. Le Diable aimerait bien qu'ils arrêtent.\", 'note': '8.31'}, '80670': {'blague': 'Chuck Norris est le seul homme à posséder une bible dédicacée.', 'note': '8.29'}, '135321': {'blague': 'Chuck Norris ne se masturbe jamais. Chuck Norris est inébranlable.', 'note': '8.29'}, '131993': {'blague': \"Chuck Norris n'est pas égal à lui-même, il est meilleur.\", 'note': '8.29'}, '69970': {'blague': 'Un jour, les PowerRangers ont rencontré Chuck Norris. Maintenant on les appelle les Télétubbies.', 'note': '8.29'}, '100744': {'blague': 'Quand Chuck Norris lance une pièce, elle fait toujours pile: personne ne fait face à Chuck Norris!', 'note': '8.28'}, '76835': {'blague': 'Chuck Norris peut se souvenir du futur.', 'note': '8.27'}, '127126': {'blague': 'Hercule est un demi-dieu, Dieu est un demi-Chuck Norris', 'note': '8.27'}, '87072': {'blague': \"Un jour, Chuck Norris a courru si vite qu'il a failli se rentrer dedans.\", 'note': '8.26'}, '65064': {'blague': \"Chuck Norris peut faire rentrer 3 litres d'eau dans une bouteille d'un litre. En tassant bien.\", 'note': '8.25'}, '99154': {'blague': \"Un jour, un gaulois a cru qu'il pouvait attaquer Chuck Norris après avoir bu de la potion magiqueIl s'appelait Paraplégix\", 'note': '8.25'}, '36833': {'blague': 'Chuck Norris a gagné un tournoi de poker avec des cartes pokémon', 'note': '8.25'}, '71002': {'blague': 'Moïse a coupé la mer en deux. Chuck Norris l\\'a recollé en disant \"tu refais ça, je te pète la gueule\".', 'note': '8.25'}, '60978': {'blague': 'Certains disent : \"La violence ne résout rien\"Chuck Norris leur répond \"C\\'est que t\\'as pas tapé assez fort\"', 'note': '8.25'}, '1': {'blague': \"Chuck Norris a déjà compté jusqu'à l'infini. Deux fois.\", 'note': '8.25'}, '118603': {'blague': 'Un jour un mec a refuser de filer une clope à Chuck Norris. Depuis, on prévient sur tous les paquets que \"Fumer tue\".', 'note': '8.25'}, '125174': {'blague': \"Une seule Tortue Ninja à osé défié Chuck Norris. Maintenant on l'appelle Franklin.\", 'note': '8.24'}, '83412': {'blague': 'Quand Chuck Norris viole la loi, elle en redemande.', 'note': '8.24'}, '120926': {'blague': 'Chuck Norris a retrouvé Ornicar.', 'note': '8.24'}, '113938': {'blague': 'Chuck Norris a planté son ordinateur. Et il a fleuri.', 'note': '8.23'}, '71227': {'blague': \"Chuck Norris a déjà eu Alzheimer. Il s'en souvient très bien.\", 'note': '8.23'}, '76790': {'blague': 'Chuck Norris joue au cerf-volant avec de vrais cerfs.', 'note': '8.23'}, '61593': {'blague': \"Il n'y avait pas 12 mais 13 travaux d'Hercule. Le 13ème étant de mettre une baffe à Chuck Norris. Depuis, le 13 porte malheur.\", 'note': '8.23'}, '73416': {'blague': 'Selon certaines sources, il y aurait un spermatozoïde de Chuck Norris dans un lac écossais...', 'note': '8.23'}, '37884': {'blague': \"Un jour Chuck Norris a lu le dictionnaire. Il a compris l'histoire.\", 'note': '8.23'}, '47517': {'blague': \"Chuck Norris a déja frôlé la mort....elle ne s'en est jamais remise.\", 'note': '8.23'}, '102306': {'blague': 'Chuck Norris peut y aller par 4 chemins', 'note': '8.23'}, '41265': {'blague': \"Le fusil a pompe de Chuck Norris est en prison pour port d'arme illégal.\", 'note': '8.23'}, '122451': {'blague': 'Si Chuck Norris avait joué dans \"il faut sauver le soldat Ryan\", le film se serait appelé \"il faut sauver l\\'armée allemande\".', 'note': '8.23'}, '65835': {'blague': 'Il y a bien longtemps Chuck Norris et Dieu se sont battus. Vous avez vu Dieu récemment ?', 'note': '8.23'}, '58780': {'blague': \"Chuck Norris a déjà bu toute l'eau du robinet.\", 'note': '8.23'}, '40097': {'blague': 'Chuck Norris a fait loucher un cyclope.', 'note': '8.23'}, '62773': {'blague': \"Chuck Norris peut te prouver que la condamnation à mort n'est pas la peine maximale.\", 'note': '8.23'}, '96984': {'blague': 'Chuck Norris a invité Albert Einstein à son dîner de cons.', 'note': '8.23'}, '94791': {'blague': \"Même l'évidence se rend à Chuck Norris.\", 'note': '8.23'}, '74823': {'blague': 'Lorsque Chuck Norris va au cinema et que son portable sonne, on met sur pause.', 'note': '8.23'}, '76210': {'blague': 'Si Chuck Norris beurre une tartine des deux côté elle retombera sur la tranche.', 'note': '8.22'}, '87694': {'blague': \"Chuck Norris ne dépose pas d'argent à la banque. Chuck Norris n'épargne rien, ni personne.\", 'note': '8.22'}, '102108': {'blague': \"Wall Street n'est que la 3ème bourse au monde, il y a d'abord les deux de Chuck Norris.\", 'note': '8.22'}, '49706': {'blague': \"Chuck Norris n'a pas reçu son diplôme du bac. Les correcteurs comptent encore les points.\", 'note': '8.22'}, '71435': {'blague': 'Chuck Norris sait qui est le méchant dans Tetris.', 'note': '8.22'}, '86010': {'blague': \"Si Mickey a quatre doigts, c'est parce qu'il a fait un doigt d'honneur à Chuck Norris.\", 'note': '8.22'}, '88078': {'blague': 'Chuck Norris peut dire Schweppes en verlan.', 'note': '8.22'}, '63827': {'blague': \"Chuck Norris a battu le record de saut à la perche, sans prendre d'élan. Et sans perche. Et sans sauter.\", 'note': '8.22'}, '78163': {'blague': \"Quand Chuck Norris lui dit qu'il est gros, Obélix ferme sa gueule.\", 'note': '8.22'}, '108684': {'blague': 'Chuck Norris est vraiment le 100 000ème internaute à voir cette bannière et à remporter la voiture.', 'note': '8.22'}, '68132': {'blague': \"Un jour, Chuck Norris a parié qu'il pouvait sodomiser un ours. Il a gagné son pari. Neuf mois plus tard naissait Sébastien Chabal.\", 'note': '8.22'}, '95632': {'blague': 'Chuck Norris a une vision très nette du flou.', 'note': '8.22'}, '80546': {'blague': 'Si le Titanic a coulé, c\\'est parce que Chuck Norris avait entendu un blondinet crier \"Je suis le maître du monde!\".', 'note': '8.22'}, '55077': {'blague': 'Chuck Norris a déjà battu la montre dans une course contre la montre.', 'note': '8.22'}, '74273': {'blague': 'Chuck Norris a réalisé un film avec Paint', 'note': '8.22'}, '94624': {'blague': 'Quand Chuck Norris fait du ski tout nu, il laisse 3 traces dans la neige.', 'note': '8.22'}, '92814': {'blague': \"A l'école Chuck Norris ne faisait pas une sarbacane avec ses vieux stylos, il faisait un 357 magnum\", 'note': '8.22'}, '71392': {'blague': 'Chuck Norris a accroché Magneto des X-men sur son frigo.', 'note': '8.22'}, '30991': {'blague': \"Chuck Norris connait la dernière décimale de Pi, et celle d'après aussi.\", 'note': '8.22'}, '86108': {'blague': \"Quand Chuck Norris va aux toilettes, il y a toujours du papier. Chuck Norris n'est jamais au bout du rouleau.\", 'note': '8.22'}, '65098': {'blague': \"Quand Chuck Norris ne répond pas correctement à une énigme du Père Fouras, c'est le Père Fouras qui plonge pour chercher la clef.\", 'note': '8.22'}, '68306': {'blague': 'Archimède a dit: \"Donnez moi un point d\\'appui, un levier, et je vous soulèverai le monde!\".Chuck Norris a dit: \"Donnez moi 30 secondes!\".', 'note': '8.22'}, '94633': {'blague': \"A son mariage, Chuck Norris avait Oncle Ben's en personne pour lui jeter du riz.\", 'note': '8.22'}, '71397': {'blague': \"Avec un concombre, une boîte de thon et de l'huile d'olive, Chuck Norris fait de très bons brownies au chocolat.\", 'note': '8.22'}, '96282': {'blague': 'Contrairement à ce que croient ceux qui se lèvent tôt, le monde appartient à Chuck Norris.', 'note': '8.22'}, '72881': {'blague': \"Les seuls qui ont osé défier Chuck Norris sont: les dinosaures, le gouvernement de l'Atlantide et Charlie.Résultat: tous ont disparu, mais on cherche encore Charlie !\", 'note': '8.22'}, '87330': {'blague': \"Pi est égale a 3,14...Pas par coïncidence, seulement parce que la 3eme lettre de l'alphabet est C et la 14eme est N...Pi=CN=Chuck Norris\", 'note': '8.22'}, '46360': {'blague': 'A Halloween les enfants qui se déguisent en Chuck Norris et qui demandent des bonbons chez les voisins repartent avec les bonbons, la carte de crédit, les clefs de la voiture et la femme du voisin.', 'note': '8.22'}, '56096': {'blague': \"Quand Chuck Norris s'est mis aux arts martiaux, les Japonais se sont reconvertis dans les jeux videos.\", 'note': '8.22'}, '90274': {'blague': 'Comme la foudre, Chuck Norris ne frappe jamais deux fois au même endroit. Pas besoin.', 'note': '8.22'}, '93630': {'blague': \"Si la douleur n'est qu'une information pour le Terminator, elle n'est qu'une rumeur sans fondement pour Chuck Norris.\", 'note': '8.22'}, '67901': {'blague': 'Quand Chuck Norris joue à Resident Evil, ce sont les zombies qui doivent survivre...', 'note': '8.22'}, '45834': {'blague': \"Quand Chuck Norris fait le Tour de France, il passe par les DOM TOM sinon c'est trop facile.\", 'note': '8.22'}, '42091': {'blague': \"C'est Chuck Norris qui a décidé que toute phrase se terminait par un poing.\", 'note': '8.22'}, '93036': {'blague': 'Un jour, Chuck Norris a pété un câble. Ainsi est né le wi-fi.', 'note': '8.22'}, '55490': {'blague': 'Hercule est un demi Dieu et Dieu est un demi Chuck Norris.', 'note': '8.22'}, '87183': {'blague': \"Aux Jeux Olympiques, Chuck Norris a été disqualifié de l'épreuve de natation. Il courait sur l'eau.\", 'note': '8.22'}, '69443': {'blague': 'Chuck Norris peut mettre un headshot au cavalier sans tête.', 'note': '8.22'}, '100764': {'blague': \"Si Chuck Norris dit que tu vas passer un sale quart d'heure, rassure-toi, tu ne tiendras pas aussi longtemps.\", 'note': '8.22'}, '85968': {'blague': \"Indiana Jones a survécu à l'explosion d'une bombe nucléaire en se cachant dans un frigo. Chuck Norris a survécu à la chute de l'astéroïde qui pulvérisa les dinosaures en mettant un k-way.\", 'note': '8.22'}, '89343': {'blague': 'Chuck Norris x 0 = Chuck Norris. On élimine pas Chuck Norris aussi facilement.', 'note': '8.22'}, '84719': {'blague': \"Certains arrivent à faire des O en expirant la fumée d'un cigare. Chuck Norris, lui, sait reproduire l'intégralité de l'alphabet chinois.\", 'note': '8.22'}, '64848': {'blague': \"La dernière fois que Chuck Norris a joué a Call of Duty, c'était de 1939 à 1945.\", 'note': '8.22'}, '60118': {'blague': 'Chuck Norris a eu 20/20 au bac philo 2009 en répondant \"pas pour moi\" à la question \"est il absurde de désirer l\\'impossible ?\".', 'note': '8.22'}, '55208': {'blague': \"Si les anglais roulent à gauche, c'est parce que Chuck Norris roule à droite\", 'note': '8.22'}, '83955': {'blague': \"Un jour, Chuck Norris a souri à une inconnue. La fille est tombée enceinte. Depuis on construit des églises pour vénérer l'enfant.\", 'note': '8.22'}, '122317': {'blague': \"Chuck Norris n'a pas de père... On ne nique pas la mère de Chuck Norris.\", 'note': '8.22'}, '67409': {'blague': 'Chuck Norris sait employer le mot \"fur\" ailleurs que dans \"au fur et à mesure\".', 'note': '8.22'}, '54556': {'blague': 'Quand Chuck Norris laisse sa voiture ouverte la nuit dans une cité difficile, le lendemain matin il la retrouve nettoyée, aspirée avec des lettres de remerciements.', 'note': '8.22'}, '91208': {'blague': \"Jésus : Buvez ce vin, c'est mon sang.Chuck Norris : Mangez cette patate, c'est mon poing.\", 'note': '8.22'}, '88874': {'blague': 'Quand Chuck norris achète un produit et que le deuxième est gratuit, il ne prend que le deuxième.', 'note': '8.22'}, '93096': {'blague': 'Chuck Norris cueille les cerises avec la queue, alors que beaucoup galèrent encore avec la main.', 'note': '8.22'}, '81460': {'blague': \"Si Chuck Norris n'utilise pas l'Oreal, c'est parce qu'il vaut mieux.\", 'note': '8.21'}, '159472': {'blague': \"Chuck Norris traverse le terrain d'Olive et Tom en moins d'un épisode\", 'note': '8.21'}}\n"
     ]
    }
   ],
   "source": [
    "\n",
    "# dictionnaire pour stocker les blagues et les notes\n",
    "dico_blagues = {}\n",
    "for url in liste_urls:\n",
    "    # contournement d'éventuels protection anti-scrapping\n",
    "    navigator = \"Mozilla/5.0 (Windows NT 10.0; Win64; x64) AppleWebKit/537.36 (KHTML, like Gecko) Chrome/58.0.3029.110 Safari/537.3\"\n",
    "\n",
    "    response = requests.get(url, headers={\"User-Agent\": navigator})\n",
    "    # Supposons que 'html' est votre chaîne HTML\n",
    "    soup = BeautifulSoup(response.text, \"html.parser\")\n",
    "    # liste des blagues\n",
    "    blagues = soup.find_all(\"div\", class_=\"card-body bg-light rounded\")\n",
    "\n",
    "    # Trouve toutes les div des blagues pour obtenir les notes\n",
    "    lignes_blagues = soup.find_all(\"div\", class_=\"card\")\n",
    "\n",
    "    for index, card in enumerate(lignes_blagues):\n",
    "        ligne_html_blague = card.find(\n",
    "            \"p\", class_=\"card-text\"\n",
    "        )  # cherche paragraphes avec la classe \"card-text\"\n",
    "        ligne_html_id_blague = card.find(\"a\")  # cherche le premier lien\n",
    "        ligne_html_note_blague = card.find(\n",
    "            \"span\", id=lambda x: x and x.startswith(\"moyenne_\")\n",
    "        )  # cherche le premier élément <span> dont l’ID commence par 'moyenne_'\n",
    "        ligne_html_blague = card.find(\n",
    "            \"p\", class_=\"card-text\"\n",
    "        )  # cherche paragraphes avec la classe \"card-text\"\n",
    "\n",
    "        # print(f\"\\ntexte_blague :\\n{ligne_html_blague}\\n ligne_html_id_blague :\\n{ligne_html_id_blague}\\n ligne_html_note_blague :\\n{ligne_html_note_blague}\\n\")\n",
    "\n",
    "        #  Si tous les elements existent et si le texte de la blague n'est pas vide :\n",
    "        if ligne_html_blague.text != '' and ligne_html_blague and ligne_html_id_blague and ligne_html_note_blague:\n",
    "            texte_blague = ligne_html_blague.text\n",
    "            id_blague = ligne_html_id_blague.text.replace(\n",
    "                \"#\", \"\")  # Enlever le symbole '#'\n",
    "            note_blague = ligne_html_note_blague.text.replace(\"(\", \"\").replace(\n",
    "                \"/10)\", \"\"\n",
    "            )  # Enlever les parenthèses et '/10'\n",
    "\n",
    "            # Ajouter la blague et la note au dictionnaire\n",
    "            dico_blagues[id_blague] = {\n",
    "                \"blague\": texte_blague, \"note\": note_blague}\n",
    "            # dico_blagues = {\"blague\": texte_blague, \"note\": note_blague}\n",
    "\n",
    "print(dico_blagues)"
   ]
  },
  {
   "cell_type": "markdown",
   "metadata": {},
   "source": [
    "3. Crée un DataFrame contenant ces données, il doit donc posséder 2 colonnes et 100 lignes."
   ]
  },
  {
   "cell_type": "markdown",
   "metadata": {},
   "source": [
    "!! je n'ai que 99 blagues car j'ai supprimée celle qui était vide "
   ]
  },
  {
   "cell_type": "code",
   "execution_count": 46,
   "metadata": {},
   "outputs": [
    {
     "name": "stdout",
     "output_type": "stream",
     "text": [
      "                                               Blague  Note\n",
      "0   Les ennemis des amis de Chuck Norris sont ses ...  8.89\n",
      "1   L'avenir se demande parfois ce que Chuck Norri...  8.43\n",
      "2   Un jour Chuck Norris a eu un zero en latin, de...  8.43\n",
      "3   Chuck Norris ne sait pas à quoi ressemble Nico...  8.42\n",
      "4   Chuck Norris n'a pas de père. On ne nique pas ...  8.34\n",
      "5   Chuck Norris ne ment pas, c'est la vérité qui ...  8.33\n",
      "6   Les samouraïs tuent des mouches avec leurs sab...  8.32\n",
      "7   Cherchez l'intrus : Un rouge-gorge, un pigeon,...  8.31\n",
      "8        Chuck Norris peut ressusciter un angle mort.  8.31\n",
      "9   Les ennemis de Chuck Norris lui disent souvent...  8.31\n",
      "10  Chuck Norris est le seul homme à posséder une ...  8.29\n",
      "11  Chuck Norris ne se masturbe jamais. Chuck Norr...  8.29\n",
      "12  Chuck Norris n'est pas égal à lui-même, il est...  8.29\n",
      "13  Un jour, les PowerRangers ont rencontré Chuck ...  8.29\n",
      "14  Quand Chuck Norris lance une pièce, elle fait ...  8.28\n",
      "15            Chuck Norris peut se souvenir du futur.  8.27\n",
      "16  Hercule est un demi-dieu, Dieu est un demi-Chu...  8.27\n",
      "17  Un jour, Chuck Norris a courru si vite qu'il a...  8.26\n",
      "18  Chuck Norris peut faire rentrer 3 litres d'eau...  8.25\n",
      "19  Un jour, un gaulois a cru qu'il pouvait attaqu...  8.25\n"
     ]
    }
   ],
   "source": [
    "# Transformation du dictionnaire en DataFrame\n",
    "df = pd.DataFrame(list(dico_blagues.items()), columns=[\"Blague\", \"Note\"])\n",
    "# print(f\"\\n shape:\\n{df.shape} \\n\")\n",
    "# print(df.head(20))\n",
    "# print(f\"\\n 13éme blague :\\n{df.iloc[12].values} \\n\")\n",
    "# df = df.drop(\"Blague\", axis=1)\n",
    "\n",
    "# transofamtion du df pour n'avoir que 2 colonnes blague et note\n",
    "df[\"Blague\"] = df[\"Note\"].apply(lambda x: x[\"blague\"])\n",
    "df[\"Note\"] = df[\"Note\"].apply(lambda x: x[\"note\"])\n",
    "print(df.head(20))"
   ]
  },
  {
   "cell_type": "code",
   "execution_count": null,
   "metadata": {},
   "outputs": [],
   "source": [
    "df.shape"
   ]
  },
  {
   "cell_type": "code",
   "execution_count": 42,
   "metadata": {},
   "outputs": [
    {
     "name": "stdout",
     "output_type": "stream",
     "text": [
      "\n",
      " 13éme blague :\n",
      "[\"Chuck Norris n'est pas égal à lui-même, il est meilleur.\" '8.29'] \n",
      "\n"
     ]
    }
   ],
   "source": [
    "print(f\"\\n 13éme blague :\\n{df.iloc[12].values} \\n\")"
   ]
  },
  {
   "cell_type": "markdown",
   "metadata": {},
   "source": [
    "4.Crée une visualisation de la distribution des notes"
   ]
  },
  {
   "cell_type": "code",
   "execution_count": 43,
   "metadata": {},
   "outputs": [
    {
     "data": {
      "image/png": "[encoded data removed]",
      "text/plain": [
       "<Figure size 640x480 with 1 Axes>"
      ]
     },
     "metadata": {},
     "output_type": "display_data"
    }
   ],
   "source": [
    "plt.hist(df[\"Note\"], bins=10, edgecolor=\"black\")\n",
    "plt.xlabel(\"Note\")\n",
    "plt.ylabel(\"Nombre\")\n",
    "plt.title(\"Distribution des notes\")\n",
    "plt.show()"
   ]
  },
  {
   "cell_type": "code",
   "execution_count": 47,
   "metadata": {},
   "outputs": [
    {
     "data": {
      "application/vnd.plotly.v1+json": {
       "config": {
        "linkText": "Export to plot.ly",
        "plotlyServerURL": "https://plot.ly",
        "showLink": false
       },
       "data": [
        {
         "nbinsx": 10,
         "orientation": "v",
         "type": "histogram",
         "x": [
          "8.89",
          "8.43",
          "8.43",
          "8.42",
          "8.34",
          "8.33",
          "8.32",
          "8.31",
          "8.31",
          "8.31",
          "8.29",
          "8.29",
          "8.29",
          "8.29",
          "8.28",
          "8.27",
          "8.27",
          "8.26",
          "8.25",
          "8.25",
          "8.25",
          "8.25",
          "8.25",
          "8.25",
          "8.25",
          "8.24",
          "8.24",
          "8.24",
          "8.23",
          "8.23",
          "8.23",
          "8.23",
          "8.23",
          "8.23",
          "8.23",
          "8.23",
          "8.23",
          "8.23",
          "8.23",
          "8.23",
          "8.23",
          "8.23",
          "8.23",
          "8.23",
          "8.23",
          "8.22",
          "8.22",
          "8.22",
          "8.22",
          "8.22",
          "8.22",
          "8.22",
          "8.22",
          "8.22",
          "8.22",
          "8.22",
          "8.22",
          "8.22",
          "8.22",
          "8.22",
          "8.22",
          "8.22",
          "8.22",
          "8.22",
          "8.22",
          "8.22",
          "8.22",
          "8.22",
          "8.22",
          "8.22",
          "8.22",
          "8.22",
          "8.22",
          "8.22",
          "8.22",
          "8.22",
          "8.22",
          "8.22",
          "8.22",
          "8.22",
          "8.22",
          "8.22",
          "8.22",
          "8.22",
          "8.22",
          "8.22",
          "8.22",
          "8.22",
          "8.22",
          "8.22",
          "8.22",
          "8.22",
          "8.22",
          "8.22",
          "8.22",
          "8.22",
          "8.22",
          "8.21",
          "8.21"
         ]
        }
       ],
       "layout": {
        "template": {
         "data": {
          "bar": [
           {
            "error_x": {
             "color": "#2a3f5f"
            },
            "error_y": {
             "color": "#2a3f5f"
            },
            "marker": {
             "line": {
              "color": "#E5ECF6",
              "width": 0.5
             },
             "pattern": {
              "fillmode": "overlay",
              "size": 10,
              "solidity": 0.2
             }
            },
            "type": "bar"
           }
          ],
          "barpolar": [
           {
            "marker": {
             "line": {
              "color": "#E5ECF6",
              "width": 0.5
             },
             "pattern": {
              "fillmode": "overlay",
              "size": 10,
              "solidity": 0.2
             }
            },
            "type": "barpolar"
           }
          ],
          "carpet": [
           {
            "aaxis": {
             "endlinecolor": "#2a3f5f",
             "gridcolor": "white",
             "linecolor": "white",
             "minorgridcolor": "white",
             "startlinecolor": "#2a3f5f"
            },
            "baxis": {
             "endlinecolor": "#2a3f5f",
             "gridcolor": "white",
             "linecolor": "white",
             "minorgridcolor": "white",
             "startlinecolor": "#2a3f5f"
            },
            "type": "carpet"
           }
          ],
          "choropleth": [
           {
            "colorbar": {
             "outlinewidth": 0,
             "ticks": ""
            },
            "type": "choropleth"
           }
          ],
          "contour": [
           {
            "colorbar": {
             "outlinewidth": 0,
             "ticks": ""
            },
            "colorscale": [
             [
              0,
              "#0d0887"
             ],
             [
              0.1111111111111111,
              "#46039f"
             ],
             [
              0.2222222222222222,
              "#7201a8"
             ],
             [
              0.3333333333333333,
              "#9c179e"
             ],
             [
              0.4444444444444444,
              "#bd3786"
             ],
             [
              0.5555555555555556,
              "#d8576b"
             ],
             [
              0.6666666666666666,
              "#ed7953"
             ],
             [
              0.7777777777777778,
              "#fb9f3a"
             ],
             [
              0.8888888888888888,
              "#fdca26"
             ],
             [
              1,
              "#f0f921"
             ]
            ],
            "type": "contour"
           }
          ],
          "contourcarpet": [
           {
            "colorbar": {
             "outlinewidth": 0,
             "ticks": ""
            },
            "type": "contourcarpet"
           }
          ],
          "heatmap": [
           {
            "colorbar": {
             "outlinewidth": 0,
             "ticks": ""
            },
            "colorscale": [
             [
              0,
              "#0d0887"
             ],
             [
              0.1111111111111111,
              "#46039f"
             ],
             [
              0.2222222222222222,
              "#7201a8"
             ],
             [
              0.3333333333333333,
              "#9c179e"
             ],
             [
              0.4444444444444444,
              "#bd3786"
             ],
             [
              0.5555555555555556,
              "#d8576b"
             ],
             [
              0.6666666666666666,
              "#ed7953"
             ],
             [
              0.7777777777777778,
              "#fb9f3a"
             ],
             [
              0.8888888888888888,
              "#fdca26"
             ],
             [
              1,
              "#f0f921"
             ]
            ],
            "type": "heatmap"
           }
          ],
          "heatmapgl": [
           {
            "colorbar": {
             "outlinewidth": 0,
             "ticks": ""
            },
            "colorscale": [
             [
              0,
              "#0d0887"
             ],
             [
              0.1111111111111111,
              "#46039f"
             ],
             [
              0.2222222222222222,
              "#7201a8"
             ],
             [
              0.3333333333333333,
              "#9c179e"
             ],
             [
              0.4444444444444444,
              "#bd3786"
             ],
             [
              0.5555555555555556,
              "#d8576b"
             ],
             [
              0.6666666666666666,
              "#ed7953"
             ],
             [
              0.7777777777777778,
              "#fb9f3a"
             ],
             [
              0.8888888888888888,
              "#fdca26"
             ],
             [
              1,
              "#f0f921"
             ]
            ],
            "type": "heatmapgl"
           }
          ],
          "histogram": [
           {
            "marker": {
             "pattern": {
              "fillmode": "overlay",
              "size": 10,
              "solidity": 0.2
             }
            },
            "type": "histogram"
           }
          ],
          "histogram2d": [
           {
            "colorbar": {
             "outlinewidth": 0,
             "ticks": ""
            },
            "colorscale": [
             [
              0,
              "#0d0887"
             ],
             [
              0.1111111111111111,
              "#46039f"
             ],
             [
              0.2222222222222222,
              "#7201a8"
             ],
             [
              0.3333333333333333,
              "#9c179e"
             ],
             [
              0.4444444444444444,
              "#bd3786"
             ],
             [
              0.5555555555555556,
              "#d8576b"
             ],
             [
              0.6666666666666666,
              "#ed7953"
             ],
             [
              0.7777777777777778,
              "#fb9f3a"
             ],
             [
              0.8888888888888888,
              "#fdca26"
             ],
             [
              1,
              "#f0f921"
             ]
            ],
            "type": "histogram2d"
           }
          ],
          "histogram2dcontour": [
           {
            "colorbar": {
             "outlinewidth": 0,
             "ticks": ""
            },
            "colorscale": [
             [
              0,
              "#0d0887"
             ],
             [
              0.1111111111111111,
              "#46039f"
             ],
             [
              0.2222222222222222,
              "#7201a8"
             ],
             [
              0.3333333333333333,
              "#9c179e"
             ],
             [
              0.4444444444444444,
              "#bd3786"
             ],
             [
              0.5555555555555556,
              "#d8576b"
             ],
             [
              0.6666666666666666,
              "#ed7953"
             ],
             [
              0.7777777777777778,
              "#fb9f3a"
             ],
             [
              0.8888888888888888,
              "#fdca26"
             ],
             [
              1,
              "#f0f921"
             ]
            ],
            "type": "histogram2dcontour"
           }
          ],
          "mesh3d": [
           {
            "colorbar": {
             "outlinewidth": 0,
             "ticks": ""
            },
            "type": "mesh3d"
           }
          ],
          "parcoords": [
           {
            "line": {
             "colorbar": {
              "outlinewidth": 0,
              "ticks": ""
             }
            },
            "type": "parcoords"
           }
          ],
          "pie": [
           {
            "automargin": true,
            "type": "pie"
           }
          ],
          "scatter": [
           {
            "fillpattern": {
             "fillmode": "overlay",
             "size": 10,
             "solidity": 0.2
            },
            "type": "scatter"
           }
          ],
          "scatter3d": [
           {
            "line": {
             "colorbar": {
              "outlinewidth": 0,
              "ticks": ""
             }
            },
            "marker": {
             "colorbar": {
              "outlinewidth": 0,
              "ticks": ""
             }
            },
            "type": "scatter3d"
           }
          ],
          "scattercarpet": [
           {
            "marker": {
             "colorbar": {
              "outlinewidth": 0,
              "ticks": ""
             }
            },
            "type": "scattercarpet"
           }
          ],
          "scattergeo": [
           {
            "marker": {
             "colorbar": {
              "outlinewidth": 0,
              "ticks": ""
             }
            },
            "type": "scattergeo"
           }
          ],
          "scattergl": [
           {
            "marker": {
             "colorbar": {
              "outlinewidth": 0,
              "ticks": ""
             }
            },
            "type": "scattergl"
           }
          ],
          "scattermapbox": [
           {
            "marker": {
             "colorbar": {
              "outlinewidth": 0,
              "ticks": ""
             }
            },
            "type": "scattermapbox"
           }
          ],
          "scatterpolar": [
           {
            "marker": {
             "colorbar": {
              "outlinewidth": 0,
              "ticks": ""
             }
            },
            "type": "scatterpolar"
           }
          ],
          "scatterpolargl": [
           {
            "marker": {
             "colorbar": {
              "outlinewidth": 0,
              "ticks": ""
             }
            },
            "type": "scatterpolargl"
           }
          ],
          "scatterternary": [
           {
            "marker": {
             "colorbar": {
              "outlinewidth": 0,
              "ticks": ""
             }
            },
            "type": "scatterternary"
           }
          ],
          "surface": [
           {
            "colorbar": {
             "outlinewidth": 0,
             "ticks": ""
            },
            "colorscale": [
             [
              0,
              "#0d0887"
             ],
             [
              0.1111111111111111,
              "#46039f"
             ],
             [
              0.2222222222222222,
              "#7201a8"
             ],
             [
              0.3333333333333333,
              "#9c179e"
             ],
             [
              0.4444444444444444,
              "#bd3786"
             ],
             [
              0.5555555555555556,
              "#d8576b"
             ],
             [
              0.6666666666666666,
              "#ed7953"
             ],
             [
              0.7777777777777778,
              "#fb9f3a"
             ],
             [
              0.8888888888888888,
              "#fdca26"
             ],
             [
              1,
              "#f0f921"
             ]
            ],
            "type": "surface"
           }
          ],
          "table": [
           {
            "cells": {
             "fill": {
              "color": "#EBF0F8"
             },
             "line": {
              "color": "white"
             }
            },
            "header": {
             "fill": {
              "color": "#C8D4E3"
             },
             "line": {
              "color": "white"
             }
            },
            "type": "table"
           }
          ]
         },
         "layout": {
          "annotationdefaults": {
           "arrowcolor": "#2a3f5f",
           "arrowhead": 0,
           "arrowwidth": 1
          },
          "autotypenumbers": "strict",
          "coloraxis": {
           "colorbar": {
            "outlinewidth": 0,
            "ticks": ""
           }
          },
          "colorscale": {
           "diverging": [
            [
             0,
             "#8e0152"
            ],
            [
             0.1,
             "#c51b7d"
            ],
            [
             0.2,
             "#de77ae"
            ],
            [
             0.3,
             "#f1b6da"
            ],
            [
             0.4,
             "#fde0ef"
            ],
            [
             0.5,
             "#f7f7f7"
            ],
            [
             0.6,
             "#e6f5d0"
            ],
            [
             0.7,
             "#b8e186"
            ],
            [
             0.8,
             "#7fbc41"
            ],
            [
             0.9,
             "#4d9221"
            ],
            [
             1,
             "#276419"
            ]
           ],
           "sequential": [
            [
             0,
             "#0d0887"
            ],
            [
             0.1111111111111111,
             "#46039f"
            ],
            [
             0.2222222222222222,
             "#7201a8"
            ],
            [
             0.3333333333333333,
             "#9c179e"
            ],
            [
             0.4444444444444444,
             "#bd3786"
            ],
            [
             0.5555555555555556,
             "#d8576b"
            ],
            [
             0.6666666666666666,
             "#ed7953"
            ],
            [
             0.7777777777777778,
             "#fb9f3a"
            ],
            [
             0.8888888888888888,
             "#fdca26"
            ],
            [
             1,
             "#f0f921"
            ]
           ],
           "sequentialminus": [
            [
             0,
             "#0d0887"
            ],
            [
             0.1111111111111111,
             "#46039f"
            ],
            [
             0.2222222222222222,
             "#7201a8"
            ],
            [
             0.3333333333333333,
             "#9c179e"
            ],
            [
             0.4444444444444444,
             "#bd3786"
            ],
            [
             0.5555555555555556,
             "#d8576b"
            ],
            [
             0.6666666666666666,
             "#ed7953"
            ],
            [
             0.7777777777777778,
             "#fb9f3a"
            ],
            [
             0.8888888888888888,
             "#fdca26"
            ],
            [
             1,
             "#f0f921"
            ]
           ]
          },
          "colorway": [
           "#636efa",
           "#EF553B",
           "#00cc96",
           "#ab63fa",
           "#FFA15A",
           "#19d3f3",
           "#FF6692",
           "#B6E880",
           "#FF97FF",
           "#FECB52"
          ],
          "font": {
           "color": "#2a3f5f"
          },
          "geo": {
           "bgcolor": "white",
           "lakecolor": "white",
           "landcolor": "#E5ECF6",
           "showlakes": true,
           "showland": true,
           "subunitcolor": "white"
          },
          "hoverlabel": {
           "align": "left"
          },
          "hovermode": "closest",
          "mapbox": {
           "style": "light"
          },
          "paper_bgcolor": "white",
          "plot_bgcolor": "#E5ECF6",
          "polar": {
           "angularaxis": {
            "gridcolor": "white",
            "linecolor": "white",
            "ticks": ""
           },
           "bgcolor": "#E5ECF6",
           "radialaxis": {
            "gridcolor": "white",
            "linecolor": "white",
            "ticks": ""
           }
          },
          "scene": {
           "xaxis": {
            "backgroundcolor": "#E5ECF6",
            "gridcolor": "white",
            "gridwidth": 2,
            "linecolor": "white",
            "showbackground": true,
            "ticks": "",
            "zerolinecolor": "white"
           },
           "yaxis": {
            "backgroundcolor": "#E5ECF6",
            "gridcolor": "white",
            "gridwidth": 2,
            "linecolor": "white",
            "showbackground": true,
            "ticks": "",
            "zerolinecolor": "white"
           },
           "zaxis": {
            "backgroundcolor": "#E5ECF6",
            "gridcolor": "white",
            "gridwidth": 2,
            "linecolor": "white",
            "showbackground": true,
            "ticks": "",
            "zerolinecolor": "white"
           }
          },
          "shapedefaults": {
           "line": {
            "color": "#2a3f5f"
           }
          },
          "ternary": {
           "aaxis": {
            "gridcolor": "white",
            "linecolor": "white",
            "ticks": ""
           },
           "baxis": {
            "gridcolor": "white",
            "linecolor": "white",
            "ticks": ""
           },
           "bgcolor": "#E5ECF6",
           "caxis": {
            "gridcolor": "white",
            "linecolor": "white",
            "ticks": ""
           }
          },
          "title": {
           "x": 0.05
          },
          "xaxis": {
           "automargin": true,
           "gridcolor": "white",
           "linecolor": "white",
           "ticks": "",
           "title": {
            "standoff": 15
           },
           "zerolinecolor": "white",
           "zerolinewidth": 2
          },
          "yaxis": {
           "automargin": true,
           "gridcolor": "white",
           "linecolor": "white",
           "ticks": "",
           "title": {
            "standoff": 15
           },
           "zerolinecolor": "white",
           "zerolinewidth": 2
          }
         }
        },
        "title": {
         "text": "Distribution des notes"
        },
        "xaxis": {
         "title": {
          "text": "Nombre"
         }
        },
        "yaxis": {
         "title": {
          "text": "Note"
         }
        }
       }
      }
     },
     "metadata": {},
     "output_type": "display_data"
    }
   ],
   "source": [
    "import plotly.offline as pyo\n",
    "import plotly.graph_objs as go\n",
    "\n",
    "# Créer un histogramme avec Plotly\n",
    "data = [go.Histogram(x=df[\"Note\"], nbinsx=10, orientation=\"v\")]\n",
    "\n",
    "# Créer un layout\n",
    "layout = go.Layout(\n",
    "    title=\"Distribution des notes\", xaxis=dict(title=\"Nombre\"), yaxis=dict(title=\"Note\")\n",
    ")\n",
    "\n",
    "# Créer une figure et afficher le graphique\n",
    "fig = go.Figure(data=data, layout=layout)\n",
    "pyo.iplot(fig)"
   ]
  },
  {
   "cell_type": "code",
   "execution_count": 52,
   "metadata": {},
   "outputs": [
    {
     "name": "stdout",
     "output_type": "stream",
     "text": [
      "<class 'pandas.core.frame.DataFrame'>\n",
      "RangeIndex: 99 entries, 0 to 98\n",
      "Data columns (total 2 columns):\n",
      " #   Column  Non-Null Count  Dtype \n",
      "---  ------  --------------  ----- \n",
      " 0   Blague  99 non-null     object\n",
      " 1   Note    99 non-null     object\n",
      "dtypes: object(2)\n",
      "memory usage: 1.7+ KB\n"
     ]
    }
   ],
   "source": [
    "# df.describe\n",
    "df.info()"
   ]
  },
  {
   "cell_type": "markdown",
   "metadata": {},
   "source": [
    "Structure HTML de la page"
   ]
  },
  {
   "cell_type": "markdown",
   "metadata": {},
   "source": [
    "<div class=\"card\">\n",
    "\n",
    "        <div class=\"card-body bg-light rounded\">\n",
    "            <p class=\"card-text\">Chuck Norris ne dort pas. Il attend.</p>\n",
    "        </div>\n",
    "    <div class=\"card-footer\">\n",
    "        <div class=\"row\">\n",
    "            <div class=\"col-md-8 card-footer-left smaller\">\n",
    "                <a href=\"/voir_fact/13\">#13</a>\n",
    "                <span id=\"moyenne_13\">(7.33/10)</span>\n",
    "            </div>\n",
    "            <!-- <div class=\"col-md-4\">\n",
    "                <a href=\"#\"><i class=\"bi-twitter smaller\" style=\"color:#5C4202;\"></i></a> \n",
    "                <a href=\"#\"><i class=\"bi-facebook smaller\" style=\"color:#5C4202;\"></i></a>                \n",
    "            </div> -->\n",
    "            <div class=\"col-md-4 bold\" id=\"vote_13\">\n",
    "                <a class=\"votelink bold smaller\" data-factid=\"13\" data-note=1 role=\"button\">[+]</a> \n",
    "                <a class=\"votelink bold smaller\" data-factid=\"13\" data-note=2 role=\"button\">[++]</a> \n",
    "                <a class=\"votelink bold smaller\" data-factid=\"13\" data-note=3 role=\"button\">[+++]</a> \n",
    "                           \n",
    "            </div>\n",
    "            </div>\n",
    "        </div>\n",
    "    </div>"
   ]
  }
 ],
 "metadata": {
  "kernelspec": {
   "display_name": "Python 3",
   "language": "python",
   "name": "python3"
  },
  "language_info": {
   "codemirror_mode": {
    "name": "ipython",
    "version": 3
   },
   "file_extension": ".py",
   "mimetype": "text/x-python",
   "name": "python",
   "nbconvert_exporter": "python",
   "pygments_lexer": "ipython3",
   "version": "3.12.0"
  }
 },
 "nbformat": 4,
 "nbformat_minor": 2
}
