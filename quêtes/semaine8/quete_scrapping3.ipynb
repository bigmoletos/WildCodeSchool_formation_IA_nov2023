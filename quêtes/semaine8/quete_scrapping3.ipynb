{
 "cells": [
  {
   "cell_type": "markdown",
   "metadata": {},
   "source": [
    "Quete 3 scrapping chuck Norris"
   ]
  },
  {
   "cell_type": "code",
   "execution_count": 2,
   "metadata": {},
   "outputs": [],
   "source": [
    "import requests\n",
    "import numpy as np\n",
    "import pandas as pd\n",
    "from bs4 import BeautifulSoup\n",
    "import matplotlib.pyplot as plt"
   ]
  },
  {
   "cell_type": "code",
   "execution_count": 3,
   "metadata": {},
   "outputs": [],
   "source": [
    "# scrapping des noms des fichiers\n",
    "# url = \"http://www.chucknorrisfacts.fr/facts/history\"\n",
    "# url = \"http://www.chucknorrisfacts.fr/facts/top/1\"\n",
    "url = \"https://www.allocine.fr/personne/fichepersonne-30367/filmographie/\"\n",
    "\n",
    "# contournement d'éventuels protection anti-scrapping\n",
    "navigator = \"Mozilla/5.0 (Windows NT 10.0; Win64; x64) AppleWebKit/537.36 (KHTML, like Gecko) Chrome/58.0.3029.110 Safari/537.3\"\n",
    "\n",
    "response = requests.get(url, headers={\"User-Agent\": navigator})\n",
    "# response = requests.get(url)\n",
    "soup = BeautifulSoup(response.text, \"html.parser\")\n",
    "\n",
    "# Trouver tous les liens sur la page\n",
    "liens = soup.find_all(\"a\")\n",
    "\n",
    "\n",
    "# Nous filtrons maintenant uniquement sur les films dont l'artiste est le réalisateur :\n",
    "soup_director = soup.find('div', {\"class\": \"gd-col-left\"})\n",
    "# Puis nous cherchons tous les liens contenus dans cet encadré :\n",
    "links = soup_director.find_all('a')\n",
    "print(f\"\\n :\\n{links} \\n\")"
   ]
  },
  {
   "cell_type": "code",
   "execution_count": 5,
   "metadata": {},
   "outputs": [
    {
     "data": {
      "text/plain": [
       "<a class=\"responsive-table-link blue-link\" href=\"/film/fichefilm_gen_cfilm=296168.html\" title=\"Oppenheimer\">Oppenheimer</a>"
      ]
     },
     "execution_count": 5,
     "metadata": {},
     "output_type": "execute_result"
    }
   ],
   "source": [
    "links[0]"
   ]
  },
  {
   "cell_type": "code",
   "execution_count": 6,
   "metadata": {},
   "outputs": [
    {
     "name": "stdout",
     "output_type": "stream",
     "text": [
      "/film/fichefilm_gen_cfilm=296168.html\n",
      "Oppenheimer\n"
     ]
    }
   ],
   "source": [
    "print(links[0][\"href\"])\n",
    "print(links[0][\"title\"])"
   ]
  },
  {
   "cell_type": "markdown",
   "metadata": {},
   "source": [
    "Nous allons pouvoir les stocker dans un DataFrame :"
   ]
  },
  {
   "cell_type": "code",
   "execution_count": 7,
   "metadata": {},
   "outputs": [
    {
     "data": {
      "text/html": [
       "<div>\n",
       "<style scoped>\n",
       "    .dataframe tbody tr th:only-of-type {\n",
       "        vertical-align: middle;\n",
       "    }\n",
       "\n",
       "    .dataframe tbody tr th {\n",
       "        vertical-align: top;\n",
       "    }\n",
       "\n",
       "    .dataframe thead th {\n",
       "        text-align: right;\n",
       "    }\n",
       "</style>\n",
       "<table border=\"1\" class=\"dataframe\">\n",
       "  <thead>\n",
       "    <tr style=\"text-align: right;\">\n",
       "      <th></th>\n",
       "      <th>title</th>\n",
       "      <th>href</th>\n",
       "    </tr>\n",
       "  </thead>\n",
       "  <tbody>\n",
       "    <tr>\n",
       "      <th>0</th>\n",
       "      <td>Oppenheimer</td>\n",
       "      <td>/film/fichefilm_gen_cfilm=296168.html</td>\n",
       "    </tr>\n",
       "    <tr>\n",
       "      <th>1</th>\n",
       "      <td>Tenet</td>\n",
       "      <td>/film/fichefilm_gen_cfilm=251315.html</td>\n",
       "    </tr>\n",
       "    <tr>\n",
       "      <th>2</th>\n",
       "      <td>Untitled Howard Hughes Biopic</td>\n",
       "      <td>/film/fichefilm_gen_cfilm=190437.html</td>\n",
       "    </tr>\n",
       "  </tbody>\n",
       "</table>\n",
       "</div>"
      ],
      "text/plain": [
       "                           title                                   href\n",
       "0                    Oppenheimer  /film/fichefilm_gen_cfilm=296168.html\n",
       "1                          Tenet  /film/fichefilm_gen_cfilm=251315.html\n",
       "2  Untitled Howard Hughes Biopic  /film/fichefilm_gen_cfilm=190437.html"
      ]
     },
     "execution_count": 7,
     "metadata": {},
     "output_type": "execute_result"
    }
   ],
   "source": [
    "df_url = pd.DataFrame({\"title\": [i[\"title\"] for i in links],\"href\": [i[\"href\"] for i in links]})\n",
    "df_url.head(3)"
   ]
  },
  {
   "cell_type": "markdown",
   "metadata": {},
   "source": [
    "Scraping de niveau 2 : date pour un premier film\n",
    "Nous allons maintenant devoir collecter les informations de chacun des liens du DataFrame.\n",
    "Nous nous apercevons que Allociné renseigne des liens \"courts\" : il n'y a pas le début de l'URL, nous devrons les compléter.\n",
    "\n",
    "Essayons sur un seul film (le second : Tenet). Nous créons un script pour récupérer le contenu depuis un lien \"court."
   ]
  },
  {
   "cell_type": "code",
   "execution_count": 8,
   "metadata": {},
   "outputs": [
    {
     "data": {
      "text/plain": [
       "<div class=\"meta-body-item meta-body-info\">\n",
       "<span class=\"ACrL2ZACrpbG0vYWdlbmRhL3NlbS0yMDIwLTA4LTI2Lw== date blue-link\">\n",
       "26 août 2020\n",
       "</span>\n",
       "<strong>\n",
       "en salle\n",
       "</strong>\n",
       "<span class=\"spacer\">/</span>\n",
       "2h 30min\n",
       "<span class=\"spacer\">/</span>\n",
       "<span class=\"ACrL2ZACrpbG1zL2dlbnJlLTEzMDI1Lw==\">Action</span>,\n",
       "<span class=\"ACrL2ZACrpbG1zL2dlbnJlLTEzMDIxLw==\">Science Fiction</span>\n",
       "</div>"
      ]
     },
     "execution_count": 8,
     "metadata": {},
     "output_type": "execute_result"
    }
   ],
   "source": [
    "url = \"https://www.allocine.fr\" + \"/film/fichefilm_gen_cfilm=251315.html\"\n",
    "html = requests.get(url)\n",
    "soup = BeautifulSoup(html.text, 'html.parser')\n",
    "detail = soup.find(\"div\", {\"class\": \"meta-body-item meta-body-info\"})\n",
    "detail"
   ]
  },
  {
   "cell_type": "markdown",
   "metadata": {},
   "source": [
    " la durée (2h 30min) n'est pas dans une balise spécifique. Nous allons passer par du RegEx pour l'extraire."
   ]
  },
  {
   "cell_type": "code",
   "execution_count": 14,
   "metadata": {},
   "outputs": [
    {
     "data": {
      "text/plain": [
       "[('2', 'h ', '30', 'min')]"
      ]
     },
     "execution_count": 14,
     "metadata": {},
     "output_type": "execute_result"
    }
   ],
   "source": [
    "import re\n",
    "re.findall(r\"(\\d+)(h )(\\d+)(min)\", str(detail))"
   ]
  },
  {
   "cell_type": "markdown",
   "metadata": {},
   "source": [
    "Cela semble correct. Nous pouvons maintenant convertir en minutes la durée du film :"
   ]
  },
  {
   "cell_type": "code",
   "execution_count": 13,
   "metadata": {},
   "outputs": [],
   "source": [
    "def crawl(url_short):\n",
    "    url = \"https://www.allocine.fr\" + url_short\n",
    "    html = requests.get(url)\n",
    "    soup = BeautifulSoup(html.text, 'html.parser')\n",
    "    detail = soup.find(\"div\", {\"class\": \"meta-body-item meta-body-info\"})\n",
    "    regex_output = re.findall(r\"(\\d+)(h )(\\d+)(min)\", str(detail))[0]\n",
    "    return int(regex_output[0]) * 60 + int(regex_output[2])"
   ]
  },
  {
   "cell_type": "markdown",
   "metadata": {},
   "source": [
    "Utilisons cette fonction sur Tenet :"
   ]
  },
  {
   "cell_type": "code",
   "execution_count": 11,
   "metadata": {},
   "outputs": [
    {
     "data": {
      "text/plain": [
       "150"
      ]
     },
     "execution_count": 11,
     "metadata": {},
     "output_type": "execute_result"
    }
   ],
   "source": [
    "crawl(\"/film/fichefilm_gen_cfilm=251315.html\")"
   ]
  },
  {
   "cell_type": "markdown",
   "metadata": {},
   "source": [
    "Essayons sur le premier film :"
   ]
  },
  {
   "cell_type": "code",
   "execution_count": 15,
   "metadata": {},
   "outputs": [
    {
     "data": {
      "text/plain": [
       "181"
      ]
     },
     "execution_count": 15,
     "metadata": {},
     "output_type": "execute_result"
    }
   ],
   "source": [
    "crawl(\"/film/fichefilm_gen_cfilm=296168.html\")"
   ]
  },
  {
   "cell_type": "code",
   "execution_count": 16,
   "metadata": {},
   "outputs": [],
   "source": [
    "# modif foncrtion en intégrant un try except si le film n'est pas encore sortie\n",
    "def crawl(url_short):\n",
    "    url = \"https://www.allocine.fr\" + url_short\n",
    "    html = requests.get(url)\n",
    "    soup = BeautifulSoup(html.text, 'html.parser')\n",
    "    detail = soup.find(\"div\", {\"class\": \"meta-body-item meta-body-info\"})\n",
    "    try:\n",
    "        regex_output = re.findall(r\"(\\d+)(h )(\\d+)(min)\", str(detail))[0]\n",
    "        return int(regex_output[0]) * 60 + int(regex_output[2])\n",
    "    except:\n",
    "        pass\n",
    "\n"
   ]
  },
  {
   "cell_type": "markdown",
   "metadata": {},
   "source": [
    "Application à l'ensemble des films de la liste\n",
    "Il n'y a plus qu'à appliquer avec apply puis de calculer la moyenne :"
   ]
  },
  {
   "cell_type": "code",
   "execution_count": 18,
   "metadata": {},
   "outputs": [
    {
     "name": "stdout",
     "output_type": "stream",
     "text": [
      "\n",
      "Les films de Christopher Nolan font en moyenne 137 minutes, soit plus de 2h. :\n",
      "138.83 \n",
      "\n"
     ]
    }
   ],
   "source": [
    "df_url[\"duration_min\"] = df_url[\"href\"].apply(crawl)\n",
    "duree_film = df_url[\"duration_min\"].mean()"
   ]
  },
  {
   "cell_type": "code",
   "execution_count": 24,
   "metadata": {},
   "outputs": [
    {
     "name": "stdout",
     "output_type": "stream",
     "text": [
      "\n",
      "Les films de Christopher Nolan font en moyenne 139 minutes, soit :\n",
      "2h18min \n",
      "\n"
     ]
    }
   ],
   "source": [
    "heures=int(duree_film //60)\n",
    "minutes=int(duree_film %60)\n",
    "print(f\"\\nLes films de Christopher Nolan font en moyenne 139 minutes, soit :\\n{heures}h{minutes}min \\n\")"
   ]
  },
  {
   "cell_type": "markdown",
   "metadata": {},
   "source": [
    "### Challenge\n",
    "\n",
    "-Essaye de calculer l'âge moyen des acteurs et actrices dans le film Interstellar."
   ]
  },
  {
   "cell_type": "code",
   "execution_count": 34,
   "metadata": {},
   "outputs": [
    {
     "name": "stdout",
     "output_type": "stream",
     "text": [
      "\n",
      "shape: (26, 3) \n",
      "list columns :\n",
      "['title', 'href', 'duration_min'] \n",
      "liste des colonnes numeriques: \n",
      "['duration_min']\n",
      "\n",
      "liste des colonnes non numeriques: \n",
      "['title', 'href'] \n",
      "Noms des colonnes avec au moins une valeur NA : ['duration_min']\n",
      "Nombre de lignes avec au moins une valeur NA : 3\n",
      "Colonne avec des na :title           0\n",
      "href            0\n",
      "duration_min    3\n",
      "dtype: int64 \n",
      "\n",
      "\n",
      "df head :\n",
      "         title                                   href  duration_min\n",
      "0  Oppenheimer  /film/fichefilm_gen_cfilm=296168.html         181.0\n",
      "1        Tenet  /film/fichefilm_gen_cfilm=251315.html         150.0 \n",
      "\n",
      "\n",
      "df describe :\n",
      "       duration_min\n",
      "count     23.000000\n",
      "mean     138.826087\n",
      "std       59.495341\n",
      "min        3.000000\n",
      "25%      114.500000\n",
      "50%      143.000000\n",
      "75%      166.500000\n",
      "max      242.000000 \n",
      "\n"
     ]
    }
   ],
   "source": [
    "df_url.head()\n",
    "# Résumé des informations du dataframe\n",
    "your_dataframe = df_url\n",
    "print(f\"\\nshape: {your_dataframe.shape} \\nlist columns :\\n{your_dataframe.columns.tolist()} \")\n",
    "print(f\"liste des colonnes numeriques: \\n{your_dataframe.select_dtypes(include=[np.number]).columns.tolist()}\\n\")\n",
    "print(f\"liste des colonnes non numeriques: \\n{your_dataframe.select_dtypes(exclude=[np.number]).columns.tolist()} \")\n",
    "print(f\"Noms des colonnes avec au moins une valeur NA : {your_dataframe.columns[your_dataframe.isna().any()].tolist()}\")\n",
    "print(f\"Nombre de lignes avec au moins une valeur NA : {your_dataframe.isna().any(axis=1).sum()}\")\n",
    "print(f\"Colonne avec des na :{your_dataframe.isna().sum()} \\n\")\n",
    "print(f\"\\ndf head :\\n{your_dataframe.head(2)} \\n\")\n",
    "print(f\"\\ndf describe :\\n{your_dataframe.describe()} \\n\")"
   ]
  },
  {
   "cell_type": "code",
   "execution_count": 59,
   "metadata": {},
   "outputs": [
    {
     "name": "stdout",
     "output_type": "stream",
     "text": [
      "\n",
      "urls_interstellar :\n",
      "/film/fichefilm_gen_cfilm=114782.html \n",
      "\n",
      "\n",
      "url_casting :\n",
      "/film/fichefilm-114782/casting/ \n",
      "\n"
     ]
    }
   ],
   "source": [
    "nom_film = \"interstellar\"\n",
    "nom_film = nom_film.capitalize()\n",
    "\n",
    "url_film = my_dataframe[\"href\"][my_dataframe[\"title\"] == nom_film].values.item()\n",
    "print(f\"\\nurls_interstellar :\\n{url_film} \\n\")\n",
    "\n",
    "url_casting = url_film.replace(\".html\", \"\").replace(\"_gen_cfilm=\",\"-\")+\"/casting/\"\n",
    "print(f\"\\nurl_casting :\\n{url_casting} \\n\")"
   ]
  },
  {
   "cell_type": "code",
   "execution_count": 48,
   "metadata": {},
   "outputs": [
    {
     "name": "stdout",
     "output_type": "stream",
     "text": [
      "\n",
      "Le film interstellar dure 169 minutes, soit :\n",
      "2h49min \n",
      "C'est supérieur à la moyenne generale de ses films qui est de 2h18\n"
     ]
    }
   ],
   "source": [
    "duree_film = crawl(url_film)\n",
    "heures = int(duree_film // 60)\n",
    "minutes = int(duree_film % 60)\n",
    "print(f\"\\nLe film interstellar dure {      duree_film} minutes, soit :\\n{heures}h{minutes}min \\nC'est supérieur à la moyenne generale de ses films qui est de 2h18\")"
   ]
  },
  {
   "cell_type": "markdown",
   "metadata": {},
   "source": [
    "### age moyen des acteurs du film interstellar"
   ]
  },
  {
   "cell_type": "code",
   "execution_count": 151,
   "metadata": {},
   "outputs": [],
   "source": [
    "import re\n",
    "import requests\n",
    "import pandas as pd\n",
    "from bs4 import BeautifulSoup\n",
    "\n",
    "#  fonction recensant les liens du site allocine d'un producteur de films\n",
    "def dataframe_liens_producteur(url):\n",
    "    try:\n",
    "        # Contournement d'éventuelles protections anti-scrapping\n",
    "        navigateur = \"Mozilla/5.0 (Windows NT 10.0; Win64; x64) AppleWebKit/537.36 (KHTML, like Gecko) Chrome/58.0.3029.110 Safari/537.3\"\n",
    "\n",
    "        # Faire une requête HTTP pour obtenir le contenu de la page\n",
    "        reponse = requests.get(url, headers={\"User-Agent\": navigateur})\n",
    "\n",
    "        # Parser le contenu HTML avec BeautifulSoup\n",
    "        soupe = BeautifulSoup(reponse.text, \"html.parser\")\n",
    "        # on ne prend que le body\n",
    "        soupe = soupe.body\n",
    "        # on supprime les balises scripts\n",
    "        for script in soupe(\"script\"):\n",
    "            script.decompose()\n",
    "\n",
    "        # Trouver tous les liens sur la page\n",
    "        liens = soupe.find_all(\"a\")\n",
    "\n",
    "        # Filtrer uniquement sur les films dont l'artiste est le réalisateur\n",
    "        soupe_directeur = soupe.find('div', {\"class\": \"gd-col-left\"})\n",
    "\n",
    "        # Chercher tous les liens contenus dans cet encadré\n",
    "        liens = soupe_directeur.find_all('a')\n",
    "\n",
    "        # Créer un dataframe avec les titres et les liens\n",
    "        df_url_producteur = pd.DataFrame(\n",
    "            {\"title\": [i[\"title\"] for i in liens], \"href\": [i[\"href\"] for i in liens]})\n",
    "\n",
    "        return df_url_producteur\n",
    "    except Exception as e:\n",
    "        print(f\"Erreur dans dataframe_liens_producteur: {e}\")\n",
    "        return None\n",
    "# ----------------------------------------------------------------\n",
    "# Récupère les liens des acteurs (casting) à partir de l'URL du film\n",
    "def obtenir_liens_acteurs(url_court):\n",
    "    try:\n",
    "        url = \"https://www.allocine.fr\" + url_court\n",
    "        html = requests.get(url)\n",
    "        soupe = BeautifulSoup(html.text, 'html.parser')\n",
    "        # on ne prend que le body\n",
    "        soupe = soupe.body\n",
    "        # on supprime les balises scripts\n",
    "        for script in soupe(\"script\"):\n",
    "            script.decompose()\n",
    "        sections_acteurs = soupe.find_all(\n",
    "            \"div\", {\"class\": \"card person-card person-card-col\"})\n",
    "        liens_acteurs = []\n",
    "        for acteur in sections_acteurs:\n",
    "            a_element = acteur.find('a', {\"class\": \"meta-title-link\"})\n",
    "            if a_element is not None:\n",
    "                liens_acteurs.append(a_element['href'])\n",
    "        return liens_acteurs\n",
    "    except Exception as e:\n",
    "        print(f\"Erreur dans obtenir_liens_acteurs: {e}\")\n",
    "        return []\n",
    "#----------------------------------------------------------------\n",
    "# Récupère l'âge de l'acteur à partir de son lien\n",
    "def obtenir_age_acteur(lien_acteur):\n",
    "    try:\n",
    "        url = \"https://www.allocine.fr\" + lien_acteur\n",
    "        html = requests.get(url)\n",
    "        soupe = BeautifulSoup(html.text, 'html.parser')\n",
    "        # on ne prend que le body\n",
    "        soupe = soupe.body\n",
    "        # on supprime les balises scripts\n",
    "        for script in soupe(\"script\"):\n",
    "            script.decompose()\n",
    "        elements_meta = soupe.find_all(\"div\", {\"class\": \"meta-body-item\"})\n",
    "        # Regex \"Age\\s*\" correspond à \"Age\" suivi de zéro ou plusieurs espaces\n",
    "        element_age = soupe.find(\n",
    "            \"span\", string=re.compile(r\"Age\\s*\", re.IGNORECASE))\n",
    "        if element_age:\n",
    "            # Trouve le prochain élément frère qui est une balise <strong>\n",
    "            age = element_age.find_next_sibling(\"strong\")\n",
    "            if age:\n",
    "                return age.text\n",
    "        return None\n",
    "    except Exception as e:\n",
    "        print(f\"Erreur dans obtenir_age_acteur: {e}\")\n",
    "        return None\n",
    "# ----------------------------------------------------------------\n",
    "# Calcule l'âge moyen des acteurs à partir de leurs liens\n",
    "def calculer_age_moyen(liens_acteurs):\n",
    "    try:\n",
    "        ages = []\n",
    "        for lien in liens_acteurs:\n",
    "            age = obtenir_age_acteur(lien)\n",
    "            # Vérifie si l'âge est un nombre\n",
    "            if age is not None and age.isdigit():\n",
    "                ages.append(int(age))\n",
    "        age_moyen = sum(ages) / len(ages) if ages else None\n",
    "        age_moyen = round(age_moyen, 2)\n",
    "        return age_moyen\n",
    "    except Exception as e:\n",
    "        print(f\"Erreur dans calculer_age_moyen: {e}\")\n",
    "        return None\n",
    "# ----------------------------------------------------------------\n",
    "# Fonction principale pour obtenir l'âge moyen des acteurs d'un film d'un producteur au choix\n",
    "def age_moyen_acteur(nom_film, my_dataframe):\n",
    "    try:\n",
    "        nom_film = nom_film.capitalize()\n",
    "        # print(f\"\\nnom_film :\\n{nom_film} \\n\")\n",
    "        # Construit l'URL du film à partir du dataframe\n",
    "        url_film = my_dataframe[\"href\"][my_dataframe[\"title\"] == nom_film].values.item().replace(\".html\", \"\").replace(\"_gen_cfilm=\", \"-\")\n",
    "        url_casting = url_film.replace(\".html\", \"\").replace(\"_gen_cfilm=\", \"-\")+\"/casting/\"\n",
    "        # print(f\"\\nurl_film :\\n{url_film} \\n\")\n",
    "        # print(f\"\\nurl_casting :\\n{url_casting} \\n\")\n",
    "        liens_acteurs = obtenir_liens_acteurs(url_casting)\n",
    "        age_moyen = calculer_age_moyen(liens_acteurs)\n",
    "        # print(f\"\\nliens_acteurs :\\n{liens_acteurs} \\n\")\n",
    "        # print(f\"\\nage_moyen :\\n{age_moyen} \\n\")\n",
    "        if age_moyen is not None:\n",
    "            print(f\"L'âge moyen des acteurs du film {nom_film} est de {age_moyen} ans.\")\n",
    "        else:\n",
    "            print(\"Aucun âge trouvé pour les acteurs du film.\")\n",
    "    except Exception as e:\n",
    "        print(f\"Erreur dans age_moyen_acteur: {e}\")"
   ]
  },
  {
   "cell_type": "code",
   "execution_count": 160,
   "metadata": {},
   "outputs": [
    {
     "name": "stdout",
     "output_type": "stream",
     "text": [
      "L'âge moyen des acteurs du film Interstellar est de 53.11 ans.\n"
     ]
    }
   ],
   "source": [
    "# Test fonction age moyen\n",
    "# url du producteur Christopher Nolan\n",
    "url = \"https://www.allocine.fr/personne/fichepersonne-30367/filmographie/\"\n",
    "nom_film = 'interstellar'\n",
    "my_dataframe1 = dataframe_liens_producteur(url)\n",
    "# my_dataframe = df_url\n",
    "\n",
    "age_moyen_acteur(nom_film, my_dataframe1)"
   ]
  }
 ],
 "metadata": {
  "kernelspec": {
   "display_name": "Python 3",
   "language": "python",
   "name": "python3"
  },
  "language_info": {
   "codemirror_mode": {
    "name": "ipython",
    "version": 3
   },
   "file_extension": ".py",
   "mimetype": "text/x-python",
   "name": "python",
   "nbconvert_exporter": "python",
   "pygments_lexer": "ipython3",
   "version": "3.12.0"
  }
 },
 "nbformat": 4,
 "nbformat_minor": 2
}
