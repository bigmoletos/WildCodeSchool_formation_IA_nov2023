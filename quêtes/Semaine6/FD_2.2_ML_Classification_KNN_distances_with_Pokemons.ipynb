{
 "cells": [
  {
   "cell_type": "markdown",
   "metadata": {},
   "source": [
    "Un champion du monde Pokémon (oui, cela existe) a entendu parler de tes connaissances en Machine Learning et demande ton expertise.\n",
    "\n",
    "Le champion a l'habitude d'utiliser les Pokemon suivants : Mewtwo, Lugia, Rayquaza, Giratina, Dialga, et Palkia.\n",
    "\n",
    " Mais pour sa prochaine compétition, il est interdit d'utiliser un Pokémon légendaire. \n",
    " \n",
    " Un pokemon est soit légendaire, soit non-légendaire. La dernière colonne du dataset indique True ou False suivant les cas.\n",
    "\n",
    " \n",
    "Le champion devra donc remplacer ses Pokemon légendaires préférés par d'autres Pokémons non-légendaires, avec des caractéristiques similaires. \n",
    "\n",
    "C'est là que tu interviens !\n",
    "\n",
    "Pour l'aider, suis les étapes suivantes :\n",
    "\n",
    "Importe le dataset pokemon.csv. Chaque ligne représente un pokemon, avec ses différentes caractéristiques (attaque, défense, vitesse, etc...), ainsi que la colonne \"légendaire\".\n",
    "\n",
    "Entraine l'algorithme NN en utilisant l'ensemble des colonnes numériques en variables explicatives X.\n",
    "\n",
    "\n",
    "Les valeurs nulles (NaN) posent problème à l'ensemble des algorithmes. Ici, pour simplifier, tu peux supprimer la colonne concernée avant d'entrainer ton modèle.\n",
    "\n",
    "\n",
    "Pas besoin de traintestsplit dans ce cas précis : en effet, sinon tu chercheras les voisins sur un sous-échantillon. Alors qu'il y a peut-être des voisins plus proche.\n",
    "\n",
    "\n",
    "Pas besoin de predict ou de score non plus : nous calculons uniquement des distances.\n",
    "\n",
    "\n",
    "Utilise la fonction kneighbors() pour trouver le ou les Pokémons le(s) plus proche(s) de chacun des Pokémon légendaires que le champion a l'habitude d'utiliser.\n",
    "\n",
    "\n",
    "Fais des recommandations de Pokémon à utiliser par le champion pour sa prochaine compétition, en lui priorisant par distance. \n",
    "\n",
    "Evidemment, ta recommandation ne doit pas indiquer un autre pokemon légendaire, même si ce dernier est très proche..."
   ]
  },
  {
   "cell_type": "code",
   "execution_count": 19,
   "metadata": {},
   "outputs": [],
   "source": [
    "import os\n",
    "import random\n",
    "import secrets\n",
    "import numpy as np\n",
    "import pandas as pd\n",
    "import seaborn as sns\n",
    "import plotly.io as pio\n",
    "import plotly.express as px\n",
    "import plotly.graph_objects as go\n",
    "import matplotlib.pyplot as plt\n",
    "from sklearn import svm\n",
    "from sklearn import tree\n",
    "from sklearn.cluster import KMeans\n",
    "from sklearn.metrics import accuracy_score\n",
    "from sklearn.metrics import silhouette_score\n",
    "from sklearn.linear_model import SGDRegressor\n",
    "from sklearn.tree import DecisionTreeRegressor\n",
    "from sklearn.tree import DecisionTreeClassifier\n",
    "from sklearn.model_selection import GridSearchCV\n",
    "from sklearn.preprocessing import StandardScaler\n",
    "from sklearn.linear_model import LinearRegression\n",
    "from sklearn.neighbors import KNeighborsRegressor\n",
    "from sklearn.metrics import classification_report\n",
    "from sklearn.neighbors import KNeighborsClassifier\n",
    "from sklearn.linear_model import LogisticRegression\n",
    "from sklearn.cluster import AgglomerativeClustering\n",
    "from sklearn.ensemble import RandomForestClassifier\n",
    "from sklearn.linear_model import LogisticRegression\n",
    "from sklearn.model_selection import train_test_split\n",
    "from sklearn.metrics import accuracy_score, r2_score\n",
    "from scipy.cluster import hierarchy\n",
    "from scipy.spatial.distance import pdist, squareform\n",
    "from scipy.cluster.hierarchy import dendrogram, linkage, fcluster\n",
    "from flask import Flask, request, render_template, session, url_for, redirect"
   ]
  },
  {
   "cell_type": "code",
   "execution_count": 10,
   "metadata": {},
   "outputs": [],
   "source": [
    "import pandas as pd\n",
    "import seaborn as sns\n",
    "import numpy as np\n",
    "from sklearn.neighbors import NearestNeighbors\n",
    "from sklearn.neighbors import KNeighborsClassifier\n",
    "\n",
    "# Charger le jeu de données\n",
    "df = pd.read_csv(\n",
    "    'https://raw.githubusercontent.com/murpi/wilddata/master/pokemon.csv', sep=\",\")"
   ]
  },
  {
   "cell_type": "code",
   "execution_count": 26,
   "metadata": {},
   "outputs": [
    {
     "data": {
      "text/html": [
       "<div>\n",
       "<style scoped>\n",
       "    .dataframe tbody tr th:only-of-type {\n",
       "        vertical-align: middle;\n",
       "    }\n",
       "\n",
       "    .dataframe tbody tr th {\n",
       "        vertical-align: top;\n",
       "    }\n",
       "\n",
       "    .dataframe thead th {\n",
       "        text-align: right;\n",
       "    }\n",
       "</style>\n",
       "<table border=\"1\" class=\"dataframe\">\n",
       "  <thead>\n",
       "    <tr style=\"text-align: right;\">\n",
       "      <th></th>\n",
       "      <th>#</th>\n",
       "      <th>Name</th>\n",
       "      <th>Type 1</th>\n",
       "      <th>Type 2</th>\n",
       "      <th>HP</th>\n",
       "      <th>Attack</th>\n",
       "      <th>Defense</th>\n",
       "      <th>Sp. Atk</th>\n",
       "      <th>Sp. Def</th>\n",
       "      <th>Speed</th>\n",
       "      <th>Generation</th>\n",
       "      <th>Legendary</th>\n",
       "    </tr>\n",
       "  </thead>\n",
       "  <tbody>\n",
       "    <tr>\n",
       "      <th>0</th>\n",
       "      <td>1</td>\n",
       "      <td>Bulbasaur</td>\n",
       "      <td>Grass</td>\n",
       "      <td>Poison</td>\n",
       "      <td>45</td>\n",
       "      <td>49</td>\n",
       "      <td>49</td>\n",
       "      <td>65</td>\n",
       "      <td>65</td>\n",
       "      <td>45</td>\n",
       "      <td>1</td>\n",
       "      <td>False</td>\n",
       "    </tr>\n",
       "    <tr>\n",
       "      <th>1</th>\n",
       "      <td>2</td>\n",
       "      <td>Ivysaur</td>\n",
       "      <td>Grass</td>\n",
       "      <td>Poison</td>\n",
       "      <td>60</td>\n",
       "      <td>62</td>\n",
       "      <td>63</td>\n",
       "      <td>80</td>\n",
       "      <td>80</td>\n",
       "      <td>60</td>\n",
       "      <td>1</td>\n",
       "      <td>False</td>\n",
       "    </tr>\n",
       "  </tbody>\n",
       "</table>\n",
       "</div>"
      ],
      "text/plain": [
       "   #       Name Type 1  Type 2  HP  Attack  Defense  Sp. Atk  Sp. Def  Speed  \\\n",
       "0  1  Bulbasaur  Grass  Poison  45      49       49       65       65     45   \n",
       "1  2    Ivysaur  Grass  Poison  60      62       63       80       80     60   \n",
       "\n",
       "   Generation  Legendary  \n",
       "0           1      False  \n",
       "1           1      False  "
      ]
     },
     "execution_count": 26,
     "metadata": {},
     "output_type": "execute_result"
    }
   ],
   "source": [
    "df.head(2)"
   ]
  },
  {
   "cell_type": "code",
   "execution_count": 12,
   "metadata": {},
   "outputs": [
    {
     "data": {
      "text/plain": [
       "Index(['#', 'Name', 'Type 1', 'Type 2', 'HP', 'Attack', 'Defense', 'Sp. Atk',\n",
       "       'Sp. Def', 'Speed', 'Generation', 'Legendary'],\n",
       "      dtype='object')"
      ]
     },
     "execution_count": 12,
     "metadata": {},
     "output_type": "execute_result"
    }
   ],
   "source": [
    "df.columns"
   ]
  },
  {
   "cell_type": "code",
   "execution_count": 13,
   "metadata": {},
   "outputs": [
    {
     "name": "stdout",
     "output_type": "stream",
     "text": [
      "['Bulbasaur' 'Ivysaur' 'Venusaur' 'Mega Venusaur' 'Charmander'\n",
      " 'Charmeleon' 'Charizard' 'Mega Charizard X' 'Mega Charizard Y' 'Squirtle'\n",
      " 'Wartortle' 'Blastoise' 'Mega Blastoise' 'Caterpie' 'Metapod'\n",
      " 'Butterfree' 'Weedle' 'Kakuna' 'Beedrill' 'Mega Beedrill' 'Pidgey'\n",
      " 'Pidgeotto' 'Pidgeot' 'Mega Pidgeot' 'Rattata' 'Raticate' 'Spearow'\n",
      " 'Fearow' 'Ekans' 'Arbok' 'Pikachu' 'Raichu' 'Sandshrew' 'Sandslash'\n",
      " 'Nidoran♀' 'Nidorina' 'Nidoqueen' 'Nidoran♂' 'Nidorino' 'Nidoking'\n",
      " 'Clefairy' 'Clefable' 'Vulpix' 'Ninetales' 'Jigglypuff' 'Wigglytuff'\n",
      " 'Zubat' 'Golbat' 'Oddish' 'Gloom' 'Vileplume' 'Paras' 'Parasect'\n",
      " 'Venonat' 'Venomoth' 'Diglett' 'Dugtrio' 'Meowth' 'Persian' 'Psyduck'\n",
      " 'Golduck' 'Mankey' 'Mankeyduck' 'Growlithe' 'Arcanine' 'Poliwag'\n",
      " 'Poliwhirl' 'Poliwrath' 'Abra' 'Kadabra' 'Alakazam' 'Mega Alakazam'\n",
      " 'Machop' 'Machoke' 'Machamp' 'Bellsprout' 'Weepinbell' 'Victreebel'\n",
      " 'Tentacool' 'Tentacruel' 'Geodude' 'Graveler' 'Golem' 'Ponyta' 'Rapidash'\n",
      " 'Slowpoke' 'Slowbro' 'Mega Slowbro' 'Magnemite' 'Magneton' \"Farfetch'd\"\n",
      " 'Doduo' 'Dodrio' 'Seel' 'Dewgong' 'Grimer' 'Muk' 'Shellder' 'Cloyster'\n",
      " 'Gastly' 'Haunter' 'Gengar' 'Mega Gengar' 'Onix' 'Drowzee' 'Hypno'\n",
      " 'Krabby' 'Kingler' 'Voltorb' 'Electrode' 'Exeggcute' 'Exeggutor' 'Cubone'\n",
      " 'Marowak' 'Hitmonlee' 'Hitmonchan' 'Lickitung' 'Koffing' 'Weezing'\n",
      " 'Rhyhorn' 'Rhydon' 'Chansey' 'Tangela' 'Kangaskhan' 'Mega Kangaskhan'\n",
      " 'Horsea' 'Seadra' 'Goldeen' 'Seaking' 'Staryu' 'Starmie' 'Mr. Mime'\n",
      " 'Scyther' 'Jynx' 'Electabuzz' 'Magmar' 'Pinsir' 'Mega Pinsir' 'Tauros'\n",
      " 'Magikarp' 'Gyarados' 'Mega Gyarados' 'Lapras' 'Ditto' 'Eevee' 'Vaporeon'\n",
      " 'Jolteon' 'Flareon' 'Porygon' 'Omanyte' 'Omastar' 'Kabuto' 'Kabutops'\n",
      " 'Aerodactyl' 'Mega Aerodactyl' 'Snorlax' 'Dratini' 'Dragonair'\n",
      " 'Dragonite' 'Mew' 'Chikorita' 'Bayleef' 'Meganium' 'Cyndaquil' 'Quilava'\n",
      " 'Typhlosion' 'Totodile' 'Croconaw' 'Feraligatr' 'Sentret' 'Furret'\n",
      " 'Hoothoot' 'Noctowl' 'Ledyba' 'Ledian' 'Spinarak' 'Ariados' 'Crobat'\n",
      " 'Chinchou' 'Lanturn' 'Pichu' 'Cleffa' 'Igglybuff' 'Togepi' 'Togetic'\n",
      " 'Natu' 'Xatu' 'Mareep' 'Flaaffy' 'Ampharos' 'Mega Ampharos' 'Bellossom'\n",
      " 'Marill' 'Azumarill' 'Sudowoodo' 'Politoed' 'Hoppip' 'Skiploom'\n",
      " 'Jumpluff' 'Aipom' 'Sunkern' 'Sunflora' 'Yanma' 'Wooper' 'Quagsire'\n",
      " 'Espeon' 'Umbreon' 'Murkrow' 'Slowking' 'Misdreavus' 'Unown' 'Wobbuffet'\n",
      " 'Girafarig' 'Pineco' 'Forretress' 'Dunsparce' 'Gligar' 'Steelix'\n",
      " 'Mega Steelix' 'Snubbull' 'Granbull' 'Qwilfish' 'Scizor' 'Mega Scizor'\n",
      " 'Shuckle' 'Heracross' 'Mega Heracross' 'Sneasel' 'Teddiursa' 'Ursaring'\n",
      " 'Slugma' 'Magcargo' 'Swinub' 'Piloswine' 'Corsola' 'Remoraid' 'Octillery'\n",
      " 'Delibird' 'Mantine' 'Skarmory' 'Houndour' 'Houndoom' 'Mega Houndoom'\n",
      " 'Kingdra' 'Phanpy' 'Donphan' 'Porygon2' 'Stantler' 'Smeargle' 'Tyrogue'\n",
      " 'Hitmontop' 'Smoochum' 'Elekid' 'Magby' 'Miltank' 'Blissey' 'Larvitar'\n",
      " 'Pupitar' 'Tyranitar' 'Mega Tyranitar' 'Celebi' 'Treecko' 'Grovyle'\n",
      " 'Sceptile' 'Mega Sceptile' 'Torchic' 'Combusken' 'Blaziken'\n",
      " 'Mega Blaziken' 'Mudkip' 'Marshtomp' 'Swampert' 'Mega Swampert'\n",
      " 'Poochyena' 'Mightyena' 'Zigzagoon' 'Linoone' 'Wurmple' 'Silcoon'\n",
      " 'Beautifly' 'Cascoon' 'Dustox' 'Lotad' 'Lombre' 'Ludicolo' 'Seedot'\n",
      " 'Nuzleaf' 'Shiftry' 'Taillow' 'Swellow' 'Wingull' 'Pelipper' 'Ralts'\n",
      " 'Kirlia' 'Gardevoir' 'Mega Gardevoir' 'Surskit' 'Masquerain' 'Shroomish'\n",
      " 'Breloom' 'Slakoth' 'Vigoroth' 'Slaking' 'Nincada' 'Ninjask' 'Shedinja'\n",
      " 'Whismur' 'Loudred' 'Exploud' 'Makuhita' 'Hariyama' 'Azurill' 'Nosepass'\n",
      " 'Skitty' 'Delcatty' 'Sableye' 'Mega Sableye' 'Mawile' 'Mega Mawile'\n",
      " 'Aron' 'Lairon' 'Aggron' 'Mega Aggron' 'Meditite' 'Medicham'\n",
      " 'Mega Medicham' 'Electrike' 'Manectric' 'Mega Manectric' 'Plusle' 'Minun'\n",
      " 'Volbeat' 'Illumise' 'Roselia' 'Gulpin' 'Swalot' 'Carvanha' 'Sharpedo'\n",
      " 'Mega Sharpedo' 'Wailmer' 'Wailord' 'Numel' 'Camerupt' 'Mega Camerupt'\n",
      " 'Torkoal' 'Spoink' 'Grumpig' 'Spinda' 'Trapinch' 'Vibrava' 'Flygon'\n",
      " 'Cacnea' 'Cacturne' 'Swablu' 'Altaria' 'Mega Altaria' 'Zangoose'\n",
      " 'Seviper' 'Lunatone' 'Solrock' 'Barboach' 'Whiscash' 'Corphish'\n",
      " 'Crawdaunt' 'Baltoy' 'Claydol' 'Lileep' 'Cradily' 'Anorith' 'Armaldo'\n",
      " 'Feebas' 'Milotic' 'Castform' 'Kecleon' 'Shuppet' 'Banette'\n",
      " 'Mega Banette' 'Duskull' 'Dusclops' 'Tropius' 'Chimecho' 'Absol'\n",
      " 'Mega Absol' 'Wynaut' 'Snorunt' 'Glalie' 'Mega Glalie' 'Spheal' 'Sealeo'\n",
      " 'Walrein' 'Clamperl' 'Huntail' 'Gorebyss' 'Relicanth' 'Luvdisc' 'Bagon'\n",
      " 'Shelgon' 'Salamence' 'Mega Salamence' 'Beldum' 'Metang' 'Metagross'\n",
      " 'Mega Metagross' 'Turtwig' 'Grotle' 'Torterra' 'Chimchar' 'Monferno'\n",
      " 'Infernape' 'Piplup' 'Prinplup' 'Empoleon' 'Starly' 'Staravia'\n",
      " 'Staraptor' 'Bidoof' 'Bibarel' 'Kricketot' 'Kricketune' 'Shinx' 'Luxio'\n",
      " 'Luxray' 'Budew' 'Roserade' 'Cranidos' 'Rampardos' 'Shieldon' 'Bastiodon'\n",
      " 'Burmy' 'Wormadam Plant Cloak' 'Wormadam Sandy Cloak'\n",
      " 'Wormadam Trash Cloak' 'Mothim' 'Combee' 'Vespiquen' 'Pachirisu' 'Buizel'\n",
      " 'Floatzel' 'Cherubi' 'Cherrim' 'Shellos' 'Gastrodon' 'Ambipom' 'Drifloon'\n",
      " 'Drifblim' 'Buneary' 'Lopunny' 'Mega Lopunny' 'Mismagius' 'Honchkrow'\n",
      " 'Glameow' 'Purugly' 'Chingling' 'Stunky' 'Skuntank' 'Bronzor' 'Bronzong'\n",
      " 'Bonsly' 'Mime Jr.' 'Happiny' 'Chatot' 'Spiritomb' 'Gible' 'Gabite'\n",
      " 'Garchomp' 'Mega Garchomp' 'Munchlax' 'Riolu' 'Lucario' 'Mega Lucario'\n",
      " 'Hippopotas' 'Hippowdon' 'Skorupi' 'Drapion' 'Croagunk' 'Toxicroak'\n",
      " 'Carnivine' 'Finneon' 'Lumineon' 'Mantyke' 'Snover' 'Abomasnow'\n",
      " 'Mega Abomasnow' 'Weavile' 'Magnezone' 'Lickilicky' 'Rhyperior'\n",
      " 'Tangrowth' 'Electivire' 'Magmortar' 'Togekiss' 'Yanmega' 'Leafeon'\n",
      " 'Glaceon' 'Gliscor' 'Mamoswine' 'Porygon-Z' 'Gallade' 'Mega Gallade'\n",
      " 'Probopass' 'Dusknoir' 'Froslass' 'Rotom' 'Heat Rotom' 'Wash Rotom'\n",
      " 'Frost Rotom' 'Fan Rotom' 'Mow Rotom' 'Cresselia' 'Phione' 'Manaphy'\n",
      " 'Snivy' 'Servine' 'Serperior' 'Tepig' 'Pignite' 'Emboar' 'Oshawott'\n",
      " 'Dewott' 'Samurott' 'Patrat' 'Watchog' 'Lillipup' 'Herdier' 'Stoutland'\n",
      " 'Purrloin' 'Liepard' 'Pansage' 'Simisage' 'Pansear' 'Simisear' 'Panpour'\n",
      " 'Simipour' 'Munna' 'Musharna' 'Pidove' 'Tranquill' 'Unfezant' 'Blitzle'\n",
      " 'Zebstrika' 'Roggenrola' 'Boldore' 'Gigalith' 'Woobat' 'Swoobat'\n",
      " 'Drilbur' 'Excadrill' 'Audino' 'Mega Audino' 'Timburr' 'Gurdurr'\n",
      " 'Conkeldurr' 'Tympole' 'Palpitoad' 'Seismitoad' 'Throh' 'Sawk' 'Sewaddle'\n",
      " 'Swadloon' 'Leavanny' 'Venipede' 'Whirlipede' 'Scolipede' 'Cottonee'\n",
      " 'Whimsicott' 'Petilil' 'Lilligant' 'Basculin' 'Sandile' 'Krokorok'\n",
      " 'Krookodile' 'Darumaka' 'Darmanitan Standard Mode' 'Darmanitan Zen Mode'\n",
      " 'Maractus' 'Dwebble' 'Crustle' 'Scraggy' 'Scrafty' 'Sigilyph' 'Yamask'\n",
      " 'Cofagrigus' 'Tirtouga' 'Carracosta' 'Archen' 'Archeops' 'Trubbish'\n",
      " 'Garbodor' 'Zorua' 'Zoroark' 'Minccino' 'Cinccino' 'Gothita' 'Gothorita'\n",
      " 'Gothitelle' 'Solosis' 'Duosion' 'Reuniclus' 'Ducklett' 'Swanna'\n",
      " 'Vanillite' 'Vanillish' 'Vanilluxe' 'Deerling' 'Sawsbuck' 'Emolga'\n",
      " 'Karrablast' 'Escavalier' 'Foongus' 'Amoonguss' 'Frillish' 'Jellicent'\n",
      " 'Alomomola' 'Joltik' 'Galvantula' 'Ferroseed' 'Ferrothorn' 'Klink'\n",
      " 'Klang' 'Klinklang' 'Tynamo' 'Eelektrik' 'Eelektross' 'Elgyem' 'Beheeyem'\n",
      " 'Litwick' 'Lampent' 'Chandelure' 'Axew' 'Fraxure' 'Haxorus' 'Cubchoo'\n",
      " 'Beartic' 'Cryogonal' 'Shelmet' 'Accelgor' 'Stunfisk' 'Mienfoo'\n",
      " 'Mienshao' 'Druddigon' 'Golett' 'Golurk' 'Pawniard' 'Bisharp'\n",
      " 'Bouffalant' 'Rufflet' 'Braviary' 'Vullaby' 'Mandibuzz' 'Heatmor'\n",
      " 'Durant' 'Deino' 'Zweilous' 'Hydreigon' 'Larvesta' 'Volcarona'\n",
      " 'Keldeo Ordinary Forme' 'Keldeo Resolute Forme' 'Meloetta Aria Forme'\n",
      " 'Meloetta Pirouette Forme' 'Genesect' 'Chespin' 'Quilladin' 'Chesnaught'\n",
      " 'Fennekin' 'Braixen' 'Delphox' 'Froakie' 'Frogadier' 'Greninja'\n",
      " 'Bunnelby' 'Diggersby' 'Fletchling' 'Fletchinder' 'Talonflame'\n",
      " 'Scatterbug' 'Spewpa' 'Vivillon' 'Litleo' 'Pyroar' 'Flabébé' 'Floette'\n",
      " 'Florges' 'Skiddo' 'Gogoat' 'Pancham' 'Pangoro' 'Furfrou' 'Espurr'\n",
      " 'Meowstic Male' 'Meowstic Female' 'Honedge' 'Doublade'\n",
      " 'Aegislash Blade Forme' 'Aegislash Shield Forme' 'Spritzee' 'Aromatisse'\n",
      " 'Swirlix' 'Slurpuff' 'Inkay' 'Malamar' 'Binacle' 'Barbaracle' 'Skrelp'\n",
      " 'Dragalge' 'Clauncher' 'Clawitzer' 'Helioptile' 'Heliolisk' 'Tyrunt'\n",
      " 'Tyrantrum' 'Amaura' 'Aurorus' 'Sylveon' 'Hawlucha' 'Dedenne' 'Carbink'\n",
      " 'Goomy' 'Sliggoo' 'Goodra' 'Klefki' 'Phantump' 'Trevenant'\n",
      " 'Pumpkaboo Average Size' 'Pumpkaboo Small Size' 'Pumpkaboo Large Size'\n",
      " 'Pumpkaboo Super Size' 'Gourgeist Average Size' 'Gourgeist Small Size'\n",
      " 'Gourgeist Large Size' 'Gourgeist Super Size' 'Bergmite' 'Avalugg'\n",
      " 'Noibat' 'Noivern']\n"
     ]
    }
   ],
   "source": [
    "df_non_legendaire = df[df['Legendary'] == False]['Name'].unique()\n",
    "print(df_non_legendaire)"
   ]
  },
  {
   "cell_type": "code",
   "execution_count": 14,
   "metadata": {},
   "outputs": [],
   "source": [
    "# compte les valeurs unique de legendaire\n",
    "# liste_legendaires=df_legendaire.apply(pd.Series.value_counts)"
   ]
  },
  {
   "cell_type": "code",
   "execution_count": 15,
   "metadata": {},
   "outputs": [],
   "source": [
    "# liste_legendaire = df[df['Legendary']==True].values\n",
    "# print(liste_legendaire)"
   ]
  },
  {
   "cell_type": "code",
   "execution_count": null,
   "metadata": {},
   "outputs": [],
   "source": []
  },
  {
   "cell_type": "markdown",
   "metadata": {},
   "source": []
  },
  {
   "cell_type": "code",
   "execution_count": 16,
   "metadata": {},
   "outputs": [
    {
     "name": "stdout",
     "output_type": "stream",
     "text": [
      "<class 'pandas.core.frame.DataFrame'>\n",
      "RangeIndex: 800 entries, 0 to 799\n",
      "Data columns (total 8 columns):\n",
      " #   Column      Non-Null Count  Dtype\n",
      "---  ------      --------------  -----\n",
      " 0   #           800 non-null    int64\n",
      " 1   HP          800 non-null    int64\n",
      " 2   Attack      800 non-null    int64\n",
      " 3   Defense     800 non-null    int64\n",
      " 4   Sp. Atk     800 non-null    int64\n",
      " 5   Sp. Def     800 non-null    int64\n",
      " 6   Speed       800 non-null    int64\n",
      " 7   Generation  800 non-null    int64\n",
      "dtypes: int64(8)\n",
      "memory usage: 50.1 KB\n",
      "<class 'pandas.core.frame.DataFrame'>\n",
      "RangeIndex: 800 entries, 0 to 799\n",
      "Data columns (total 8 columns):\n",
      " #   Column      Non-Null Count  Dtype\n",
      "---  ------      --------------  -----\n",
      " 0   #           800 non-null    int64\n",
      " 1   HP          800 non-null    int64\n",
      " 2   Attack      800 non-null    int64\n",
      " 3   Defense     800 non-null    int64\n",
      " 4   Sp. Atk     800 non-null    int64\n",
      " 5   Sp. Def     800 non-null    int64\n",
      " 6   Speed       800 non-null    int64\n",
      " 7   Generation  800 non-null    int64\n",
      "dtypes: int64(8)\n",
      "memory usage: 50.1 KB\n"
     ]
    }
   ],
   "source": [
    "df.select_dtypes(include=[np.number]).info()\n",
    "df.select_dtypes(include=['float64', 'int64']).info()"
   ]
  },
  {
   "cell_type": "code",
   "execution_count": 27,
   "metadata": {},
   "outputs": [
    {
     "ename": "InvalidParameterError",
     "evalue": "The 'n_neighbors' parameter of NearestNeighbors must be an int in the range [1, inf) or None. Got range(1, 10) instead.",
     "output_type": "error",
     "traceback": [
      "\u001b[1;31m---------------------------------------------------------------------------\u001b[0m",
      "\u001b[1;31mInvalidParameterError\u001b[0m                     Traceback (most recent call last)",
      "Cell \u001b[1;32mIn[27], line 10\u001b[0m\n\u001b[0;32m      8\u001b[0m \u001b[38;5;66;03m# Entraîner l'algorithme KNN\u001b[39;00m\n\u001b[0;32m      9\u001b[0m knn \u001b[38;5;241m=\u001b[39m NearestNeighbors(n_neighbors\u001b[38;5;241m=\u001b[39m\u001b[38;5;28mrange\u001b[39m(\u001b[38;5;241m1\u001b[39m, \u001b[38;5;241m10\u001b[39m))\n\u001b[1;32m---> 10\u001b[0m \u001b[43mknn\u001b[49m\u001b[38;5;241;43m.\u001b[39;49m\u001b[43mfit\u001b[49m\u001b[43m(\u001b[49m\u001b[43mX\u001b[49m\u001b[43m)\u001b[49m\n",
      "File \u001b[1;32mc:\\Users\\romar\\AppData\\Local\\Programs\\Python\\Python312\\Lib\\site-packages\\sklearn\\base.py:1145\u001b[0m, in \u001b[0;36m_fit_context.<locals>.decorator.<locals>.wrapper\u001b[1;34m(estimator, *args, **kwargs)\u001b[0m\n\u001b[0;32m   1140\u001b[0m partial_fit_and_fitted \u001b[38;5;241m=\u001b[39m (\n\u001b[0;32m   1141\u001b[0m     fit_method\u001b[38;5;241m.\u001b[39m\u001b[38;5;18m__name__\u001b[39m \u001b[38;5;241m==\u001b[39m \u001b[38;5;124m\"\u001b[39m\u001b[38;5;124mpartial_fit\u001b[39m\u001b[38;5;124m\"\u001b[39m \u001b[38;5;129;01mand\u001b[39;00m _is_fitted(estimator)\n\u001b[0;32m   1142\u001b[0m )\n\u001b[0;32m   1144\u001b[0m \u001b[38;5;28;01mif\u001b[39;00m \u001b[38;5;129;01mnot\u001b[39;00m global_skip_validation \u001b[38;5;129;01mand\u001b[39;00m \u001b[38;5;129;01mnot\u001b[39;00m partial_fit_and_fitted:\n\u001b[1;32m-> 1145\u001b[0m     \u001b[43mestimator\u001b[49m\u001b[38;5;241;43m.\u001b[39;49m\u001b[43m_validate_params\u001b[49m\u001b[43m(\u001b[49m\u001b[43m)\u001b[49m\n\u001b[0;32m   1147\u001b[0m \u001b[38;5;28;01mwith\u001b[39;00m config_context(\n\u001b[0;32m   1148\u001b[0m     skip_parameter_validation\u001b[38;5;241m=\u001b[39m(\n\u001b[0;32m   1149\u001b[0m         prefer_skip_nested_validation \u001b[38;5;129;01mor\u001b[39;00m global_skip_validation\n\u001b[0;32m   1150\u001b[0m     )\n\u001b[0;32m   1151\u001b[0m ):\n\u001b[0;32m   1152\u001b[0m     \u001b[38;5;28;01mreturn\u001b[39;00m fit_method(estimator, \u001b[38;5;241m*\u001b[39margs, \u001b[38;5;241m*\u001b[39m\u001b[38;5;241m*\u001b[39mkwargs)\n",
      "File \u001b[1;32mc:\\Users\\romar\\AppData\\Local\\Programs\\Python\\Python312\\Lib\\site-packages\\sklearn\\base.py:638\u001b[0m, in \u001b[0;36mBaseEstimator._validate_params\u001b[1;34m(self)\u001b[0m\n\u001b[0;32m    630\u001b[0m \u001b[38;5;28;01mdef\u001b[39;00m \u001b[38;5;21m_validate_params\u001b[39m(\u001b[38;5;28mself\u001b[39m):\n\u001b[0;32m    631\u001b[0m \u001b[38;5;250m    \u001b[39m\u001b[38;5;124;03m\"\"\"Validate types and values of constructor parameters\u001b[39;00m\n\u001b[0;32m    632\u001b[0m \n\u001b[0;32m    633\u001b[0m \u001b[38;5;124;03m    The expected type and values must be defined in the `_parameter_constraints`\u001b[39;00m\n\u001b[1;32m   (...)\u001b[0m\n\u001b[0;32m    636\u001b[0m \u001b[38;5;124;03m    accepted constraints.\u001b[39;00m\n\u001b[0;32m    637\u001b[0m \u001b[38;5;124;03m    \"\"\"\u001b[39;00m\n\u001b[1;32m--> 638\u001b[0m     \u001b[43mvalidate_parameter_constraints\u001b[49m\u001b[43m(\u001b[49m\n\u001b[0;32m    639\u001b[0m \u001b[43m        \u001b[49m\u001b[38;5;28;43mself\u001b[39;49m\u001b[38;5;241;43m.\u001b[39;49m\u001b[43m_parameter_constraints\u001b[49m\u001b[43m,\u001b[49m\n\u001b[0;32m    640\u001b[0m \u001b[43m        \u001b[49m\u001b[38;5;28;43mself\u001b[39;49m\u001b[38;5;241;43m.\u001b[39;49m\u001b[43mget_params\u001b[49m\u001b[43m(\u001b[49m\u001b[43mdeep\u001b[49m\u001b[38;5;241;43m=\u001b[39;49m\u001b[38;5;28;43;01mFalse\u001b[39;49;00m\u001b[43m)\u001b[49m\u001b[43m,\u001b[49m\n\u001b[0;32m    641\u001b[0m \u001b[43m        \u001b[49m\u001b[43mcaller_name\u001b[49m\u001b[38;5;241;43m=\u001b[39;49m\u001b[38;5;28;43mself\u001b[39;49m\u001b[38;5;241;43m.\u001b[39;49m\u001b[38;5;18;43m__class__\u001b[39;49m\u001b[38;5;241;43m.\u001b[39;49m\u001b[38;5;18;43m__name__\u001b[39;49m\u001b[43m,\u001b[49m\n\u001b[0;32m    642\u001b[0m \u001b[43m    \u001b[49m\u001b[43m)\u001b[49m\n",
      "File \u001b[1;32mc:\\Users\\romar\\AppData\\Local\\Programs\\Python\\Python312\\Lib\\site-packages\\sklearn\\utils\\_param_validation.py:96\u001b[0m, in \u001b[0;36mvalidate_parameter_constraints\u001b[1;34m(parameter_constraints, params, caller_name)\u001b[0m\n\u001b[0;32m     90\u001b[0m \u001b[38;5;28;01melse\u001b[39;00m:\n\u001b[0;32m     91\u001b[0m     constraints_str \u001b[38;5;241m=\u001b[39m (\n\u001b[0;32m     92\u001b[0m         \u001b[38;5;124mf\u001b[39m\u001b[38;5;124m\"\u001b[39m\u001b[38;5;132;01m{\u001b[39;00m\u001b[38;5;124m'\u001b[39m\u001b[38;5;124m, \u001b[39m\u001b[38;5;124m'\u001b[39m\u001b[38;5;241m.\u001b[39mjoin([\u001b[38;5;28mstr\u001b[39m(c)\u001b[38;5;250m \u001b[39m\u001b[38;5;28;01mfor\u001b[39;00m\u001b[38;5;250m \u001b[39mc\u001b[38;5;250m \u001b[39m\u001b[38;5;129;01min\u001b[39;00m\u001b[38;5;250m \u001b[39mconstraints[:\u001b[38;5;241m-\u001b[39m\u001b[38;5;241m1\u001b[39m]])\u001b[38;5;132;01m}\u001b[39;00m\u001b[38;5;124m or\u001b[39m\u001b[38;5;124m\"\u001b[39m\n\u001b[0;32m     93\u001b[0m         \u001b[38;5;124mf\u001b[39m\u001b[38;5;124m\"\u001b[39m\u001b[38;5;124m \u001b[39m\u001b[38;5;132;01m{\u001b[39;00mconstraints[\u001b[38;5;241m-\u001b[39m\u001b[38;5;241m1\u001b[39m]\u001b[38;5;132;01m}\u001b[39;00m\u001b[38;5;124m\"\u001b[39m\n\u001b[0;32m     94\u001b[0m     )\n\u001b[1;32m---> 96\u001b[0m \u001b[38;5;28;01mraise\u001b[39;00m InvalidParameterError(\n\u001b[0;32m     97\u001b[0m     \u001b[38;5;124mf\u001b[39m\u001b[38;5;124m\"\u001b[39m\u001b[38;5;124mThe \u001b[39m\u001b[38;5;132;01m{\u001b[39;00mparam_name\u001b[38;5;132;01m!r}\u001b[39;00m\u001b[38;5;124m parameter of \u001b[39m\u001b[38;5;132;01m{\u001b[39;00mcaller_name\u001b[38;5;132;01m}\u001b[39;00m\u001b[38;5;124m must be\u001b[39m\u001b[38;5;124m\"\u001b[39m\n\u001b[0;32m     98\u001b[0m     \u001b[38;5;124mf\u001b[39m\u001b[38;5;124m\"\u001b[39m\u001b[38;5;124m \u001b[39m\u001b[38;5;132;01m{\u001b[39;00mconstraints_str\u001b[38;5;132;01m}\u001b[39;00m\u001b[38;5;124m. Got \u001b[39m\u001b[38;5;132;01m{\u001b[39;00mparam_val\u001b[38;5;132;01m!r}\u001b[39;00m\u001b[38;5;124m instead.\u001b[39m\u001b[38;5;124m\"\u001b[39m\n\u001b[0;32m     99\u001b[0m )\n",
      "\u001b[1;31mInvalidParameterError\u001b[0m: The 'n_neighbors' parameter of NearestNeighbors must be an int in the range [1, inf) or None. Got range(1, 10) instead."
     ]
    }
   ],
   "source": [
    "# Supprimer les colonnes avec des valeurs manquantes\n",
    "df = df.dropna(axis=1)\n",
    "\n",
    "# Sélectionner uniquement les colonnes numériques pour l'entraînement\n",
    "X = df.select_dtypes(include=[np.number])\n",
    "# pas besoin de la colonne index\n",
    "X.drop(['#'], axis=1)\n",
    "# Entraîner l'algorithme KNN\n",
    "knn = NearestNeighbors(n_neighbors=range(1, 10))\n",
    "knn.fit(X)"
   ]
  },
  {
   "cell_type": "code",
   "execution_count": 28,
   "metadata": {},
   "outputs": [
    {
     "data": {
      "text/html": [
       "<div>\n",
       "<style scoped>\n",
       "    .dataframe tbody tr th:only-of-type {\n",
       "        vertical-align: middle;\n",
       "    }\n",
       "\n",
       "    .dataframe tbody tr th {\n",
       "        vertical-align: top;\n",
       "    }\n",
       "\n",
       "    .dataframe thead th {\n",
       "        text-align: right;\n",
       "    }\n",
       "</style>\n",
       "<table border=\"1\" class=\"dataframe\">\n",
       "  <thead>\n",
       "    <tr style=\"text-align: right;\">\n",
       "      <th></th>\n",
       "      <th>HP</th>\n",
       "      <th>Attack</th>\n",
       "      <th>Defense</th>\n",
       "      <th>Sp. Atk</th>\n",
       "      <th>Sp. Def</th>\n",
       "      <th>Speed</th>\n",
       "      <th>Generation</th>\n",
       "    </tr>\n",
       "  </thead>\n",
       "  <tbody>\n",
       "    <tr>\n",
       "      <th>0</th>\n",
       "      <td>45</td>\n",
       "      <td>49</td>\n",
       "      <td>49</td>\n",
       "      <td>65</td>\n",
       "      <td>65</td>\n",
       "      <td>45</td>\n",
       "      <td>1</td>\n",
       "    </tr>\n",
       "    <tr>\n",
       "      <th>1</th>\n",
       "      <td>60</td>\n",
       "      <td>62</td>\n",
       "      <td>63</td>\n",
       "      <td>80</td>\n",
       "      <td>80</td>\n",
       "      <td>60</td>\n",
       "      <td>1</td>\n",
       "    </tr>\n",
       "    <tr>\n",
       "      <th>2</th>\n",
       "      <td>80</td>\n",
       "      <td>82</td>\n",
       "      <td>83</td>\n",
       "      <td>100</td>\n",
       "      <td>100</td>\n",
       "      <td>80</td>\n",
       "      <td>1</td>\n",
       "    </tr>\n",
       "    <tr>\n",
       "      <th>3</th>\n",
       "      <td>80</td>\n",
       "      <td>100</td>\n",
       "      <td>123</td>\n",
       "      <td>122</td>\n",
       "      <td>120</td>\n",
       "      <td>80</td>\n",
       "      <td>1</td>\n",
       "    </tr>\n",
       "    <tr>\n",
       "      <th>4</th>\n",
       "      <td>39</td>\n",
       "      <td>52</td>\n",
       "      <td>43</td>\n",
       "      <td>60</td>\n",
       "      <td>50</td>\n",
       "      <td>65</td>\n",
       "      <td>1</td>\n",
       "    </tr>\n",
       "    <tr>\n",
       "      <th>...</th>\n",
       "      <td>...</td>\n",
       "      <td>...</td>\n",
       "      <td>...</td>\n",
       "      <td>...</td>\n",
       "      <td>...</td>\n",
       "      <td>...</td>\n",
       "      <td>...</td>\n",
       "    </tr>\n",
       "    <tr>\n",
       "      <th>795</th>\n",
       "      <td>50</td>\n",
       "      <td>100</td>\n",
       "      <td>150</td>\n",
       "      <td>100</td>\n",
       "      <td>150</td>\n",
       "      <td>50</td>\n",
       "      <td>6</td>\n",
       "    </tr>\n",
       "    <tr>\n",
       "      <th>796</th>\n",
       "      <td>50</td>\n",
       "      <td>160</td>\n",
       "      <td>110</td>\n",
       "      <td>160</td>\n",
       "      <td>110</td>\n",
       "      <td>110</td>\n",
       "      <td>6</td>\n",
       "    </tr>\n",
       "    <tr>\n",
       "      <th>797</th>\n",
       "      <td>80</td>\n",
       "      <td>110</td>\n",
       "      <td>60</td>\n",
       "      <td>150</td>\n",
       "      <td>130</td>\n",
       "      <td>70</td>\n",
       "      <td>6</td>\n",
       "    </tr>\n",
       "    <tr>\n",
       "      <th>798</th>\n",
       "      <td>80</td>\n",
       "      <td>160</td>\n",
       "      <td>60</td>\n",
       "      <td>170</td>\n",
       "      <td>130</td>\n",
       "      <td>80</td>\n",
       "      <td>6</td>\n",
       "    </tr>\n",
       "    <tr>\n",
       "      <th>799</th>\n",
       "      <td>80</td>\n",
       "      <td>110</td>\n",
       "      <td>120</td>\n",
       "      <td>130</td>\n",
       "      <td>90</td>\n",
       "      <td>70</td>\n",
       "      <td>6</td>\n",
       "    </tr>\n",
       "  </tbody>\n",
       "</table>\n",
       "<p>800 rows × 7 columns</p>\n",
       "</div>"
      ],
      "text/plain": [
       "     HP  Attack  Defense  Sp. Atk  Sp. Def  Speed  Generation\n",
       "0    45      49       49       65       65     45           1\n",
       "1    60      62       63       80       80     60           1\n",
       "2    80      82       83      100      100     80           1\n",
       "3    80     100      123      122      120     80           1\n",
       "4    39      52       43       60       50     65           1\n",
       "..   ..     ...      ...      ...      ...    ...         ...\n",
       "795  50     100      150      100      150     50           6\n",
       "796  50     160      110      160      110    110           6\n",
       "797  80     110       60      150      130     70           6\n",
       "798  80     160       60      170      130     80           6\n",
       "799  80     110      120      130       90     70           6\n",
       "\n",
       "[800 rows x 7 columns]"
      ]
     },
     "execution_count": 28,
     "metadata": {},
     "output_type": "execute_result"
    }
   ],
   "source": [
    "X.drop(['#'], axis=1)"
   ]
  },
  {
   "cell_type": "code",
   "execution_count": 29,
   "metadata": {},
   "outputs": [
    {
     "ename": "TypeError",
     "evalue": "       #  HP  Attack  Defense  Sp. Atk  Sp. Def  Speed  Generation\n0      1  45      49       49       65       65     45           1\n1      2  60      62       63       80       80     60           1\n2      3  80      82       83      100      100     80           1\n3      4  80     100      123      122      120     80           1\n4      5  39      52       43       60       50     65           1\n..   ...  ..     ...      ...      ...      ...    ...         ...\n795  796  50     100      150      100      150     50           6\n796  797  50     160      110      160      110    110           6\n797  798  80     110       60      150      130     70           6\n798  799  80     160       60      170      130     80           6\n799  800  80     110      120      130       90     70           6\n\n[800 rows x 8 columns] is not an estimator instance.",
     "output_type": "error",
     "traceback": [
      "\u001b[1;31m---------------------------------------------------------------------------\u001b[0m",
      "\u001b[1;31mTypeError\u001b[0m                                 Traceback (most recent call last)",
      "Cell \u001b[1;32mIn[29], line 1\u001b[0m\n\u001b[1;32m----> 1\u001b[0m \u001b[43mNearestNeighbors\u001b[49m\u001b[38;5;241;43m.\u001b[39;49m\u001b[43mkneighbors\u001b[49m\u001b[43m(\u001b[49m\u001b[43mX\u001b[49m\u001b[43m)\u001b[49m\n",
      "File \u001b[1;32mc:\\Users\\romar\\AppData\\Local\\Programs\\Python\\Python312\\Lib\\site-packages\\sklearn\\neighbors\\_base.py:782\u001b[0m, in \u001b[0;36mKNeighborsMixin.kneighbors\u001b[1;34m(self, X, n_neighbors, return_distance)\u001b[0m\n\u001b[0;32m    730\u001b[0m \u001b[38;5;28;01mdef\u001b[39;00m \u001b[38;5;21mkneighbors\u001b[39m(\u001b[38;5;28mself\u001b[39m, X\u001b[38;5;241m=\u001b[39m\u001b[38;5;28;01mNone\u001b[39;00m, n_neighbors\u001b[38;5;241m=\u001b[39m\u001b[38;5;28;01mNone\u001b[39;00m, return_distance\u001b[38;5;241m=\u001b[39m\u001b[38;5;28;01mTrue\u001b[39;00m):\n\u001b[0;32m    731\u001b[0m \u001b[38;5;250m    \u001b[39m\u001b[38;5;124;03m\"\"\"Find the K-neighbors of a point.\u001b[39;00m\n\u001b[0;32m    732\u001b[0m \n\u001b[0;32m    733\u001b[0m \u001b[38;5;124;03m    Returns indices of and distances to the neighbors of each point.\u001b[39;00m\n\u001b[1;32m   (...)\u001b[0m\n\u001b[0;32m    780\u001b[0m \u001b[38;5;124;03m           [2]]...)\u001b[39;00m\n\u001b[0;32m    781\u001b[0m \u001b[38;5;124;03m    \"\"\"\u001b[39;00m\n\u001b[1;32m--> 782\u001b[0m     \u001b[43mcheck_is_fitted\u001b[49m\u001b[43m(\u001b[49m\u001b[38;5;28;43mself\u001b[39;49m\u001b[43m)\u001b[49m\n\u001b[0;32m    784\u001b[0m     \u001b[38;5;28;01mif\u001b[39;00m n_neighbors \u001b[38;5;129;01mis\u001b[39;00m \u001b[38;5;28;01mNone\u001b[39;00m:\n\u001b[0;32m    785\u001b[0m         n_neighbors \u001b[38;5;241m=\u001b[39m \u001b[38;5;28mself\u001b[39m\u001b[38;5;241m.\u001b[39mn_neighbors\n",
      "File \u001b[1;32mc:\\Users\\romar\\AppData\\Local\\Programs\\Python\\Python312\\Lib\\site-packages\\sklearn\\utils\\validation.py:1458\u001b[0m, in \u001b[0;36mcheck_is_fitted\u001b[1;34m(estimator, attributes, msg, all_or_any)\u001b[0m\n\u001b[0;32m   1452\u001b[0m     msg \u001b[38;5;241m=\u001b[39m (\n\u001b[0;32m   1453\u001b[0m         \u001b[38;5;124m\"\u001b[39m\u001b[38;5;124mThis \u001b[39m\u001b[38;5;132;01m%(name)s\u001b[39;00m\u001b[38;5;124m instance is not fitted yet. Call \u001b[39m\u001b[38;5;124m'\u001b[39m\u001b[38;5;124mfit\u001b[39m\u001b[38;5;124m'\u001b[39m\u001b[38;5;124m with \u001b[39m\u001b[38;5;124m\"\u001b[39m\n\u001b[0;32m   1454\u001b[0m         \u001b[38;5;124m\"\u001b[39m\u001b[38;5;124mappropriate arguments before using this estimator.\u001b[39m\u001b[38;5;124m\"\u001b[39m\n\u001b[0;32m   1455\u001b[0m     )\n\u001b[0;32m   1457\u001b[0m \u001b[38;5;28;01mif\u001b[39;00m \u001b[38;5;129;01mnot\u001b[39;00m \u001b[38;5;28mhasattr\u001b[39m(estimator, \u001b[38;5;124m\"\u001b[39m\u001b[38;5;124mfit\u001b[39m\u001b[38;5;124m\"\u001b[39m):\n\u001b[1;32m-> 1458\u001b[0m     \u001b[38;5;28;01mraise\u001b[39;00m \u001b[38;5;167;01mTypeError\u001b[39;00m(\u001b[38;5;124m\"\u001b[39m\u001b[38;5;132;01m%s\u001b[39;00m\u001b[38;5;124m is not an estimator instance.\u001b[39m\u001b[38;5;124m\"\u001b[39m \u001b[38;5;241m%\u001b[39m (estimator))\n\u001b[0;32m   1460\u001b[0m \u001b[38;5;28;01mif\u001b[39;00m \u001b[38;5;129;01mnot\u001b[39;00m _is_fitted(estimator, attributes, all_or_any):\n\u001b[0;32m   1461\u001b[0m     \u001b[38;5;28;01mraise\u001b[39;00m NotFittedError(msg \u001b[38;5;241m%\u001b[39m {\u001b[38;5;124m\"\u001b[39m\u001b[38;5;124mname\u001b[39m\u001b[38;5;124m\"\u001b[39m: \u001b[38;5;28mtype\u001b[39m(estimator)\u001b[38;5;241m.\u001b[39m\u001b[38;5;18m__name__\u001b[39m})\n",
      "\u001b[1;31mTypeError\u001b[0m:        #  HP  Attack  Defense  Sp. Atk  Sp. Def  Speed  Generation\n0      1  45      49       49       65       65     45           1\n1      2  60      62       63       80       80     60           1\n2      3  80      82       83      100      100     80           1\n3      4  80     100      123      122      120     80           1\n4      5  39      52       43       60       50     65           1\n..   ...  ..     ...      ...      ...      ...    ...         ...\n795  796  50     100      150      100      150     50           6\n796  797  50     160      110      160      110    110           6\n797  798  80     110       60      150      130     70           6\n798  799  80     160       60      170      130     80           6\n799  800  80     110      120      130       90     70           6\n\n[800 rows x 8 columns] is not an estimator instance."
     ]
    }
   ],
   "source": [
    "NearestNeighbors.kneighbors(X)"
   ]
  },
  {
   "cell_type": "code",
   "execution_count": 30,
   "metadata": {},
   "outputs": [
    {
     "name": "stdout",
     "output_type": "stream",
     "text": [
      "Les Pokémons suivants sont legendaires : ['Mewtwo', 'Palkia', 'Rayquaza', 'Lugia', 'Dialga']\n",
      "Les Pokémons preferés suivants pourront être utilisés par le champion : ['Giratina']\n",
      "{'Giratina'}\n"
     ]
    }
   ],
   "source": [
    "\n",
    "\n",
    "# Liste des Pokémon légendaires ou non que le champion utilise habituellement\n",
    "champion_pokemons = ['Mewtwo', 'Lugia',\n",
    "                     'Rayquaza', 'Giratina', 'Dialga', 'Palkia']\n",
    "\n",
    "\n",
    "# Liste des Pokemon  legendaires\n",
    "df_legendaire = df[df['Legendary'] == True]['Name'].unique()\n",
    "# Liste des Pokemon non legendaires parmis lesquels le champion devra faire un choix\n",
    "df_non_legendaire = df[df['Legendary'] == False]['Name'].unique()\n",
    "\n",
    "# extraction des Pokemon legendaire de la liste des Pokemons preferés du champion\n",
    "# Convertir df_legendaire_list et champion_pokemons en ensembles\n",
    "df_legendaire_set = set(df_legendaire)\n",
    "champion_pokemons_set = set(champion_pokemons)\n",
    "\n",
    "# Obtenir les Pokémon qui sont dans df_legendaire_set et champion_pokemons_set\n",
    "in_both = df_legendaire_set & champion_pokemons_set\n",
    "\n",
    "# Obtenir les Pokémon qui sont dans champion_pokemons_set mais pas dans df_legendaire_set\n",
    "not_in_df_legendaire = champion_pokemons_set - df_legendaire_set\n",
    "\n",
    "print(f\"Les Pokémons suivants sont legendaires : {list(in_both)}\")\n",
    "print(f\"Les Pokémons preferés suivants pourront être utilisés par le champion : {\n",
    "      list(not_in_df_legendaire)}\")\n",
    "\n",
    "# Modification  de la liste des pokemon que notre champion pourra utiliser  'Giratina'\n",
    "champion_pokemons_ajusted = not_in_df_legendaire\n",
    "print(champion_pokemons_ajusted)"
   ]
  },
  {
   "cell_type": "code",
   "execution_count": 31,
   "metadata": {},
   "outputs": [
    {
     "name": "stdout",
     "output_type": "stream",
     "text": [
      "pokemon: Bulbasaur\n"
     ]
    },
    {
     "ename": "NotFittedError",
     "evalue": "This NearestNeighbors instance is not fitted yet. Call 'fit' with appropriate arguments before using this estimator.",
     "output_type": "error",
     "traceback": [
      "\u001b[1;31m---------------------------------------------------------------------------\u001b[0m",
      "\u001b[1;31mNotFittedError\u001b[0m                            Traceback (most recent call last)",
      "Cell \u001b[1;32mIn[31], line 8\u001b[0m\n\u001b[0;32m      6\u001b[0m     \u001b[38;5;28mprint\u001b[39m(\u001b[38;5;124mf\u001b[39m\u001b[38;5;124m\"\u001b[39m\u001b[38;5;132;01m{\u001b[39;00mpokemon\u001b[38;5;132;01m}\u001b[39;00m\u001b[38;5;124m n\u001b[39m\u001b[38;5;124m'\u001b[39m\u001b[38;5;124mest pas dans le DataFrame.\u001b[39m\u001b[38;5;124m\"\u001b[39m)\n\u001b[0;32m      7\u001b[0m \u001b[38;5;28;01melse\u001b[39;00m:\n\u001b[1;32m----> 8\u001b[0m     distance, index \u001b[38;5;241m=\u001b[39m \u001b[43mknn\u001b[49m\u001b[38;5;241;43m.\u001b[39;49m\u001b[43mkneighbors\u001b[49m\u001b[43m(\u001b[49m\u001b[43mpokemon_data\u001b[49m\u001b[43m)\u001b[49m\n\u001b[0;32m      9\u001b[0m \u001b[38;5;28mprint\u001b[39m(\u001b[38;5;124mf\u001b[39m\u001b[38;5;124m\"\u001b[39m\u001b[38;5;124mpokemon_data:\u001b[39m\u001b[38;5;132;01m{\u001b[39;00mpokemon_data\u001b[38;5;132;01m}\u001b[39;00m\u001b[38;5;124m\"\u001b[39m)\n\u001b[0;32m     10\u001b[0m distance, index \u001b[38;5;241m=\u001b[39m knn\u001b[38;5;241m.\u001b[39mkneighbors(pokemon_data)\n",
      "File \u001b[1;32mc:\\Users\\romar\\AppData\\Local\\Programs\\Python\\Python312\\Lib\\site-packages\\sklearn\\neighbors\\_base.py:782\u001b[0m, in \u001b[0;36mKNeighborsMixin.kneighbors\u001b[1;34m(self, X, n_neighbors, return_distance)\u001b[0m\n\u001b[0;32m    730\u001b[0m \u001b[38;5;28;01mdef\u001b[39;00m \u001b[38;5;21mkneighbors\u001b[39m(\u001b[38;5;28mself\u001b[39m, X\u001b[38;5;241m=\u001b[39m\u001b[38;5;28;01mNone\u001b[39;00m, n_neighbors\u001b[38;5;241m=\u001b[39m\u001b[38;5;28;01mNone\u001b[39;00m, return_distance\u001b[38;5;241m=\u001b[39m\u001b[38;5;28;01mTrue\u001b[39;00m):\n\u001b[0;32m    731\u001b[0m \u001b[38;5;250m    \u001b[39m\u001b[38;5;124;03m\"\"\"Find the K-neighbors of a point.\u001b[39;00m\n\u001b[0;32m    732\u001b[0m \n\u001b[0;32m    733\u001b[0m \u001b[38;5;124;03m    Returns indices of and distances to the neighbors of each point.\u001b[39;00m\n\u001b[1;32m   (...)\u001b[0m\n\u001b[0;32m    780\u001b[0m \u001b[38;5;124;03m           [2]]...)\u001b[39;00m\n\u001b[0;32m    781\u001b[0m \u001b[38;5;124;03m    \"\"\"\u001b[39;00m\n\u001b[1;32m--> 782\u001b[0m     \u001b[43mcheck_is_fitted\u001b[49m\u001b[43m(\u001b[49m\u001b[38;5;28;43mself\u001b[39;49m\u001b[43m)\u001b[49m\n\u001b[0;32m    784\u001b[0m     \u001b[38;5;28;01mif\u001b[39;00m n_neighbors \u001b[38;5;129;01mis\u001b[39;00m \u001b[38;5;28;01mNone\u001b[39;00m:\n\u001b[0;32m    785\u001b[0m         n_neighbors \u001b[38;5;241m=\u001b[39m \u001b[38;5;28mself\u001b[39m\u001b[38;5;241m.\u001b[39mn_neighbors\n",
      "File \u001b[1;32mc:\\Users\\romar\\AppData\\Local\\Programs\\Python\\Python312\\Lib\\site-packages\\sklearn\\utils\\validation.py:1461\u001b[0m, in \u001b[0;36mcheck_is_fitted\u001b[1;34m(estimator, attributes, msg, all_or_any)\u001b[0m\n\u001b[0;32m   1458\u001b[0m     \u001b[38;5;28;01mraise\u001b[39;00m \u001b[38;5;167;01mTypeError\u001b[39;00m(\u001b[38;5;124m\"\u001b[39m\u001b[38;5;132;01m%s\u001b[39;00m\u001b[38;5;124m is not an estimator instance.\u001b[39m\u001b[38;5;124m\"\u001b[39m \u001b[38;5;241m%\u001b[39m (estimator))\n\u001b[0;32m   1460\u001b[0m \u001b[38;5;28;01mif\u001b[39;00m \u001b[38;5;129;01mnot\u001b[39;00m _is_fitted(estimator, attributes, all_or_any):\n\u001b[1;32m-> 1461\u001b[0m     \u001b[38;5;28;01mraise\u001b[39;00m NotFittedError(msg \u001b[38;5;241m%\u001b[39m {\u001b[38;5;124m\"\u001b[39m\u001b[38;5;124mname\u001b[39m\u001b[38;5;124m\"\u001b[39m: \u001b[38;5;28mtype\u001b[39m(estimator)\u001b[38;5;241m.\u001b[39m\u001b[38;5;18m__name__\u001b[39m})\n",
      "\u001b[1;31mNotFittedError\u001b[0m: This NearestNeighbors instance is not fitted yet. Call 'fit' with appropriate arguments before using this estimator."
     ]
    }
   ],
   "source": [
    "\n",
    "# Trouver le Pokémon non-légendaire le plus proche pour chaque Pokémon légendaire\n",
    "for pokemon in df_non_legendaire:\n",
    "    print(\"pokemon:\", pokemon)\n",
    "    pokemon_data = X[df['Name'] == pokemon]\n",
    "    if pokemon_data.empty:\n",
    "        print(f\"{pokemon} n'est pas dans le DataFrame.\")\n",
    "    else:\n",
    "        distance, index = knn.kneighbors(pokemon_data)\n",
    "    print(f\"pokemon_data:{pokemon_data}\")\n",
    "    distance, index = knn.kneighbors(pokemon_data)\n",
    "    print(f\"distance {distance}, index{index}\")\n",
    "    nearest_pokemon = df.iloc[index[0]]\n",
    "    print(f\"nearest_pokemon= {nearest_pokemon}\")\n",
    "    nearest_pokemon = nearest_pokemon[~nearest_pokemon['Legendary']]\n",
    "    print(f\"nearest_pokemon: {nearest_pokemon}\")\n",
    "    if not nearest_pokemon.empty:\n",
    "        print(f\"Le Pokémon non-légendaire le plus proche de {pokemon} est {\n",
    "            nearest_pokemon['Name'].values[0]} avec une distance de {distance[0][0]}\")\n",
    "    else:\n",
    "        print(\n",
    "            f\"Aucun Pokémon non-légendaire n'a été trouvé comme le plus proche de {pokemon}\")"
   ]
  },
  {
   "cell_type": "code",
   "execution_count": null,
   "metadata": {},
   "outputs": [],
   "source": [
    "# X.drop([\"#\"], inplace=True)\n",
    "# X.head(2)"
   ]
  },
  {
   "cell_type": "code",
   "execution_count": 32,
   "metadata": {},
   "outputs": [
    {
     "ename": "AttributeError",
     "evalue": "'DataFrame' object has no attribute 'reshape'",
     "output_type": "error",
     "traceback": [
      "\u001b[1;31m---------------------------------------------------------------------------\u001b[0m",
      "\u001b[1;31mAttributeError\u001b[0m                            Traceback (most recent call last)",
      "\u001b[1;32m~\\AppData\\Local\\Temp\\ipykernel_25528\\3273071589.py\u001b[0m in \u001b[0;36m?\u001b[1;34m()\u001b[0m\n\u001b[1;32m----> 1\u001b[1;33m \u001b[0mdistanceKNN\u001b[0m \u001b[1;33m=\u001b[0m \u001b[0mNearestNeighbors\u001b[0m\u001b[1;33m(\u001b[0m\u001b[0mn_neighbors\u001b[0m\u001b[1;33m=\u001b[0m\u001b[1;36m1\u001b[0m\u001b[1;33m)\u001b[0m\u001b[1;33m.\u001b[0m\u001b[0mfit\u001b[0m\u001b[1;33m(\u001b[0m\u001b[0mX\u001b[0m\u001b[1;33m.\u001b[0m\u001b[0mreshape\u001b[0m\u001b[1;33m(\u001b[0m\u001b[1;33m)\u001b[0m\u001b[1;33m)\u001b[0m\u001b[1;33m\u001b[0m\u001b[1;33m\u001b[0m\u001b[0m\n\u001b[0m\u001b[0;32m      2\u001b[0m \u001b[0mdistanceKNN\u001b[0m\u001b[1;33m.\u001b[0m\u001b[0mkneighbors\u001b[0m\u001b[1;33m(\u001b[0m\u001b[0mX\u001b[0m\u001b[1;33m)\u001b[0m\u001b[1;33m\u001b[0m\u001b[1;33m\u001b[0m\u001b[0m\n",
      "\u001b[1;32mc:\\Users\\romar\\AppData\\Local\\Programs\\Python\\Python312\\Lib\\site-packages\\pandas\\core\\generic.py\u001b[0m in \u001b[0;36m?\u001b[1;34m(self, name)\u001b[0m\n\u001b[0;32m   6200\u001b[0m             \u001b[1;32mand\u001b[0m \u001b[0mname\u001b[0m \u001b[1;32mnot\u001b[0m \u001b[1;32min\u001b[0m \u001b[0mself\u001b[0m\u001b[1;33m.\u001b[0m\u001b[0m_accessors\u001b[0m\u001b[1;33m\u001b[0m\u001b[1;33m\u001b[0m\u001b[0m\n\u001b[0;32m   6201\u001b[0m             \u001b[1;32mand\u001b[0m \u001b[0mself\u001b[0m\u001b[1;33m.\u001b[0m\u001b[0m_info_axis\u001b[0m\u001b[1;33m.\u001b[0m\u001b[0m_can_hold_identifiers_and_holds_name\u001b[0m\u001b[1;33m(\u001b[0m\u001b[0mname\u001b[0m\u001b[1;33m)\u001b[0m\u001b[1;33m\u001b[0m\u001b[1;33m\u001b[0m\u001b[0m\n\u001b[0;32m   6202\u001b[0m         \u001b[1;33m)\u001b[0m\u001b[1;33m:\u001b[0m\u001b[1;33m\u001b[0m\u001b[1;33m\u001b[0m\u001b[0m\n\u001b[0;32m   6203\u001b[0m             \u001b[1;32mreturn\u001b[0m \u001b[0mself\u001b[0m\u001b[1;33m[\u001b[0m\u001b[0mname\u001b[0m\u001b[1;33m]\u001b[0m\u001b[1;33m\u001b[0m\u001b[1;33m\u001b[0m\u001b[0m\n\u001b[1;32m-> 6204\u001b[1;33m         \u001b[1;32mreturn\u001b[0m \u001b[0mobject\u001b[0m\u001b[1;33m.\u001b[0m\u001b[0m__getattribute__\u001b[0m\u001b[1;33m(\u001b[0m\u001b[0mself\u001b[0m\u001b[1;33m,\u001b[0m \u001b[0mname\u001b[0m\u001b[1;33m)\u001b[0m\u001b[1;33m\u001b[0m\u001b[1;33m\u001b[0m\u001b[0m\n\u001b[0m",
      "\u001b[1;31mAttributeError\u001b[0m: 'DataFrame' object has no attribute 'reshape'"
     ]
    }
   ],
   "source": [
    "distanceKNN = NearestNeighbors(n_neighbors=1).fit(X.reshape())\n",
    "distanceKNN.kneighbors(X)"
   ]
  },
  {
   "cell_type": "code",
   "execution_count": null,
   "metadata": {},
   "outputs": [],
   "source": [
    "# L’erreur ValueError: n_splits=5 cannot be greater than the number of members in each class. se produit lorsque le nombre de subdivisions (n_splits) dans une validation croisée est supérieur au nombre d’échantillons disponibles dans chaque classe12.\n",
    "\n",
    "# Dans votre cas, vous utilisez GridSearchCV avec KNeighborsClassifier sur le jeu de données Pokémon. La variable cible y est le nom du Pokémon. Chaque Pokémon est unique, donc chaque classe (c’est-à-dire chaque Pokémon) n’a qu’un seul membre. Par défaut, GridSearchCV utilise une validation croisée stratifiée à 5 subdivisions (StratifiedKFold avec n_splits=5), ce qui signifie qu’elle essaie de diviser chaque classe en 5 subdivisions. Comme chaque classe n’a qu’un seul membre, vous obtenez cette erreur12.\n",
    "\n",
    "# Pour résoudre ce problème, vous pouvez essayer de définir cv à KFold(n_splits=2) lors de l’initialisation de GridSearchCV, ce qui effectuera une validation croisée non stratifiée avec 2 subdivisions."
   ]
  },
  {
   "cell_type": "code",
   "execution_count": 33,
   "metadata": {},
   "outputs": [
    {
     "data": {
      "text/html": [
       "<style>#sk-container-id-1 {color: black;}#sk-container-id-1 pre{padding: 0;}#sk-container-id-1 div.sk-toggleable {background-color: white;}#sk-container-id-1 label.sk-toggleable__label {cursor: pointer;display: block;width: 100%;margin-bottom: 0;padding: 0.3em;box-sizing: border-box;text-align: center;}#sk-container-id-1 label.sk-toggleable__label-arrow:before {content: \"▸\";float: left;margin-right: 0.25em;color: #696969;}#sk-container-id-1 label.sk-toggleable__label-arrow:hover:before {color: black;}#sk-container-id-1 div.sk-estimator:hover label.sk-toggleable__label-arrow:before {color: black;}#sk-container-id-1 div.sk-toggleable__content {max-height: 0;max-width: 0;overflow: hidden;text-align: left;background-color: #f0f8ff;}#sk-container-id-1 div.sk-toggleable__content pre {margin: 0.2em;color: black;border-radius: 0.25em;background-color: #f0f8ff;}#sk-container-id-1 input.sk-toggleable__control:checked~div.sk-toggleable__content {max-height: 200px;max-width: 100%;overflow: auto;}#sk-container-id-1 input.sk-toggleable__control:checked~label.sk-toggleable__label-arrow:before {content: \"▾\";}#sk-container-id-1 div.sk-estimator input.sk-toggleable__control:checked~label.sk-toggleable__label {background-color: #d4ebff;}#sk-container-id-1 div.sk-label input.sk-toggleable__control:checked~label.sk-toggleable__label {background-color: #d4ebff;}#sk-container-id-1 input.sk-hidden--visually {border: 0;clip: rect(1px 1px 1px 1px);clip: rect(1px, 1px, 1px, 1px);height: 1px;margin: -1px;overflow: hidden;padding: 0;position: absolute;width: 1px;}#sk-container-id-1 div.sk-estimator {font-family: monospace;background-color: #f0f8ff;border: 1px dotted black;border-radius: 0.25em;box-sizing: border-box;margin-bottom: 0.5em;}#sk-container-id-1 div.sk-estimator:hover {background-color: #d4ebff;}#sk-container-id-1 div.sk-parallel-item::after {content: \"\";width: 100%;border-bottom: 1px solid gray;flex-grow: 1;}#sk-container-id-1 div.sk-label:hover label.sk-toggleable__label {background-color: #d4ebff;}#sk-container-id-1 div.sk-serial::before {content: \"\";position: absolute;border-left: 1px solid gray;box-sizing: border-box;top: 0;bottom: 0;left: 50%;z-index: 0;}#sk-container-id-1 div.sk-serial {display: flex;flex-direction: column;align-items: center;background-color: white;padding-right: 0.2em;padding-left: 0.2em;position: relative;}#sk-container-id-1 div.sk-item {position: relative;z-index: 1;}#sk-container-id-1 div.sk-parallel {display: flex;align-items: stretch;justify-content: center;background-color: white;position: relative;}#sk-container-id-1 div.sk-item::before, #sk-container-id-1 div.sk-parallel-item::before {content: \"\";position: absolute;border-left: 1px solid gray;box-sizing: border-box;top: 0;bottom: 0;left: 50%;z-index: -1;}#sk-container-id-1 div.sk-parallel-item {display: flex;flex-direction: column;z-index: 1;position: relative;background-color: white;}#sk-container-id-1 div.sk-parallel-item:first-child::after {align-self: flex-end;width: 50%;}#sk-container-id-1 div.sk-parallel-item:last-child::after {align-self: flex-start;width: 50%;}#sk-container-id-1 div.sk-parallel-item:only-child::after {width: 0;}#sk-container-id-1 div.sk-dashed-wrapped {border: 1px dashed gray;margin: 0 0.4em 0.5em 0.4em;box-sizing: border-box;padding-bottom: 0.4em;background-color: white;}#sk-container-id-1 div.sk-label label {font-family: monospace;font-weight: bold;display: inline-block;line-height: 1.2em;}#sk-container-id-1 div.sk-label-container {text-align: center;}#sk-container-id-1 div.sk-container {/* jupyter's `normalize.less` sets `[hidden] { display: none; }` but bootstrap.min.css set `[hidden] { display: none !important; }` so we also need the `!important` here to be able to override the default hidden behavior on the sphinx rendered scikit-learn.org. See: https://github.com/scikit-learn/scikit-learn/issues/21755 */display: inline-block !important;position: relative;}#sk-container-id-1 div.sk-text-repr-fallback {display: none;}</style><div id=\"sk-container-id-1\" class=\"sk-top-container\"><div class=\"sk-text-repr-fallback\"><pre>GridSearchCV(cv=KFold(n_splits=3, random_state=None, shuffle=False),\n",
       "             estimator=KNeighborsClassifier(),\n",
       "             param_grid={&#x27;metric&#x27;: [&#x27;minkowski&#x27;, &#x27;manhattan&#x27;, &#x27;euclidean&#x27;],\n",
       "                         &#x27;n_neighbors&#x27;: range(2, 10),\n",
       "                         &#x27;weights&#x27;: [&#x27;uniform&#x27;, &#x27;distance&#x27;]})</pre><b>In a Jupyter environment, please rerun this cell to show the HTML representation or trust the notebook. <br />On GitHub, the HTML representation is unable to render, please try loading this page with nbviewer.org.</b></div><div class=\"sk-container\" hidden><div class=\"sk-item sk-dashed-wrapped\"><div class=\"sk-label-container\"><div class=\"sk-label sk-toggleable\"><input class=\"sk-toggleable__control sk-hidden--visually\" id=\"sk-estimator-id-1\" type=\"checkbox\" ><label for=\"sk-estimator-id-1\" class=\"sk-toggleable__label sk-toggleable__label-arrow\">GridSearchCV</label><div class=\"sk-toggleable__content\"><pre>GridSearchCV(cv=KFold(n_splits=3, random_state=None, shuffle=False),\n",
       "             estimator=KNeighborsClassifier(),\n",
       "             param_grid={&#x27;metric&#x27;: [&#x27;minkowski&#x27;, &#x27;manhattan&#x27;, &#x27;euclidean&#x27;],\n",
       "                         &#x27;n_neighbors&#x27;: range(2, 10),\n",
       "                         &#x27;weights&#x27;: [&#x27;uniform&#x27;, &#x27;distance&#x27;]})</pre></div></div></div><div class=\"sk-parallel\"><div class=\"sk-parallel-item\"><div class=\"sk-item\"><div class=\"sk-label-container\"><div class=\"sk-label sk-toggleable\"><input class=\"sk-toggleable__control sk-hidden--visually\" id=\"sk-estimator-id-2\" type=\"checkbox\" ><label for=\"sk-estimator-id-2\" class=\"sk-toggleable__label sk-toggleable__label-arrow\">estimator: KNeighborsClassifier</label><div class=\"sk-toggleable__content\"><pre>KNeighborsClassifier()</pre></div></div></div><div class=\"sk-serial\"><div class=\"sk-item\"><div class=\"sk-estimator sk-toggleable\"><input class=\"sk-toggleable__control sk-hidden--visually\" id=\"sk-estimator-id-3\" type=\"checkbox\" ><label for=\"sk-estimator-id-3\" class=\"sk-toggleable__label sk-toggleable__label-arrow\">KNeighborsClassifier</label><div class=\"sk-toggleable__content\"><pre>KNeighborsClassifier()</pre></div></div></div></div></div></div></div></div></div></div>"
      ],
      "text/plain": [
       "GridSearchCV(cv=KFold(n_splits=3, random_state=None, shuffle=False),\n",
       "             estimator=KNeighborsClassifier(),\n",
       "             param_grid={'metric': ['minkowski', 'manhattan', 'euclidean'],\n",
       "                         'n_neighbors': range(2, 10),\n",
       "                         'weights': ['uniform', 'distance']})"
      ]
     },
     "execution_count": 33,
     "metadata": {},
     "output_type": "execute_result"
    }
   ],
   "source": [
    "from sklearn.model_selection import GridSearchCV\n",
    "from sklearn.model_selection import KFold\n",
    "\n",
    "y = df['Name']\n",
    "\n",
    "grid = GridSearchCV(estimator=KNeighborsClassifier(),\n",
    "                    param_grid={\n",
    "                        \"n_neighbors\": range(2, 10),\n",
    "                        \"weights\": [\"uniform\", \"distance\"],\n",
    "                        \"metric\": [\"minkowski\", \"manhattan\", \"euclidean\"]},\n",
    "                    cv=KFold(n_splits=3))\n",
    "\n",
    "grid.fit(X, y)"
   ]
  },
  {
   "cell_type": "code",
   "execution_count": 34,
   "metadata": {},
   "outputs": [
    {
     "data": {
      "text/plain": [
       "{'metric': 'minkowski', 'n_neighbors': 2, 'weights': 'uniform'}"
      ]
     },
     "execution_count": 34,
     "metadata": {},
     "output_type": "execute_result"
    }
   ],
   "source": [
    "grid.best_params_"
   ]
  },
  {
   "cell_type": "code",
   "execution_count": 35,
   "metadata": {},
   "outputs": [
    {
     "data": {
      "text/plain": [
       "Index(['#', 'Name', 'Type 1', 'HP', 'Attack', 'Defense', 'Sp. Atk', 'Sp. Def',\n",
       "       'Speed', 'Generation', 'Legendary'],\n",
       "      dtype='object')"
      ]
     },
     "execution_count": 35,
     "metadata": {},
     "output_type": "execute_result"
    }
   ],
   "source": [
    "df.columns"
   ]
  },
  {
   "cell_type": "code",
   "execution_count": 39,
   "metadata": {},
   "outputs": [
    {
     "name": "stdout",
     "output_type": "stream",
     "text": [
      "(800, 11)\n",
      "pour  Mewtwo nous avons les features: \n",
      "       #   HP  Attack  Defense  Sp. Atk  Sp. Def  Speed  Generation\n",
      "162  163  106     110       90      154       90    130           1\n",
      "163  164  106     190      100      154      100    130           1\n",
      "164  165  106     150       70      194      120    140           1\n",
      "pour  Lugia nous avons les features: \n",
      "       #   HP  Attack  Defense  Sp. Atk  Sp. Def  Speed  Generation\n",
      "269  270  106      90      130       90      154    110           2\n",
      "pour  Rayquaza nous avons les features: \n",
      "       #   HP  Attack  Defense  Sp. Atk  Sp. Def  Speed  Generation\n",
      "425  426  105     150       90      150       90     95           3\n",
      "426  427  105     180      100      180      100    115           3\n",
      "Le Pokémon Giratina n'étant pas un légendaire notre champion peut-donc l'utiliser.\n",
      "pour  Dialga nous avons les features: \n",
      "       #   HP  Attack  Defense  Sp. Atk  Sp. Def  Speed  Generation\n",
      "540  541  100     120      120      150      100     90           4\n",
      "pour  Palkia nous avons les features: \n",
      "       #  HP  Attack  Defense  Sp. Atk  Sp. Def  Speed  Generation\n",
      "541  542  90     120      100      150      120    100           4\n"
     ]
    }
   ],
   "source": [
    "import pandas as pd\n",
    "from sklearn.neighbors import NearestNeighbors\n",
    "\n",
    "# Importer le dataset\n",
    "df = pd.read_csv(\n",
    "    'https://raw.githubusercontent.com/murpi/wilddata/master/pokemon.csv', sep=\",\")\n",
    "\n",
    "# Supprimer les colonnes avec des valeurs nulles\n",
    "df = df.dropna(axis=1)\n",
    "print(df.shape)\n",
    "# Liste des Pokemon  legendaires\n",
    "df_legendaire = df[df['Legendary'] == True]['Name'].unique()\n",
    "# df_legendaire = df[df['Legendary'] == True]['Name'].unique()\n",
    "\n",
    "# Liste des Pokemon non legendaires parmis lesquels le champion devra faire un choix\n",
    "df_non_legendaire = df[df['Legendary'] == False]['Name'].unique()\n",
    "\n",
    "# Sélectionner uniquement les colonnes numériques pour l'entraînement\n",
    "X = df.select_dtypes(include=['float64', 'int64'])\n",
    "\n",
    "# Entraîner l'algorithme k-NN pour trouver les 3 voisins les plus proches\n",
    "k = 4\n",
    "# k=range(1,5)\n",
    "knn = NearestNeighbors(n_neighbors=k)\n",
    "# knn = NearestNeighbors(n_neighbors=3)\n",
    "knn.fit(X)\n",
    "champion_pokemons = ['Mewtwo', 'Lugia',\n",
    "                     'Rayquaza', 'Giratina', 'Dialga', 'Palkia']\n",
    "# Trouver les 2 ou 3 Pokémons non-légendaires les plus proches pour chaque Pokémon légendaire du champion\n",
    "# suppression de la colonne #\n",
    "df = df.drop(\"#\", axis=1)\n",
    "recommendations = {}\n",
    "for pokemon in champion_pokemons:\n",
    "    # if pokemon in df['Name'].values:\n",
    "    if pokemon in df_legendaire:\n",
    "        # print(f\"pokemon: {pokemon}\")\n",
    "        # legendary_features =  X[pokemon]\n",
    "        # legendary_features = X[df['Name'] == pokemon]\n",
    "        # au lieu de faire une recherche sur le nom, comme il y a des noms composés on fait une recherche avec contains et sachant que str est sensible à la casse, on rajoute le case=False\n",
    "        legendary_features = X[df['Name'].str.contains(pokemon, case=False)]\n",
    "        # print(f\"pour  {pokemon} nous avons les features: \\n{\n",
    "        #       legendary_features.head(3)}\")\n",
    "        distances, indices = knn.kneighbors(legendary_features)\n",
    "        recommendations[pokemon] = []\n",
    "        # print(f\"recommendations :{recommendations} \")\n",
    "        # print(f\"distance :{distances} \\nindice: {indices}\")\n",
    "        # on cherche sur le nombre de pokemons proches qui depend de k, k=3 signifie que nous cherchons 3 voisins\n",
    "        for i in range(1, k):\n",
    "            pokemon_voisin = df.iloc[indices[0][i]]\n",
    "            # print(f\" i :{i} \")\n",
    "            # Assurez-vous que le Pokémon recommandé n'est pas légendaire\n",
    "            recommendations[pokemon].append(pokemon_voisin['Name'])\n",
    "    else:\n",
    "        print(f\"Le Pokémon {\n",
    "              pokemon} n'étant pas un légendaire notre champion peut-donc l'utiliser.\")\n",
    "# print(set(recommendations))\n",
    "\n",
    "    # print(f\"Les pokemons les plus proches de {pokemon} sont\\n: {\n",
    "    #     recommendations}\")"
   ]
  },
  {
   "cell_type": "code",
   "execution_count": 38,
   "metadata": {},
   "outputs": [
    {
     "name": "stdout",
     "output_type": "stream",
     "text": [
      "\n",
      "A la place de ses pokemons legendaires 'Mewtwo', 'Lugia','Rayquaza','Dialga', 'Palkia', \n",
      "notre champion pourra utiliser au choix les pokemons ci-dessous:\n",
      "\n",
      "Les plus proches voisins de Mewtwo sont: \n",
      "Zapdos, Moltres, Mew\n",
      "Les plus proches voisins de Lugia sont: \n",
      "Suicune, Ho-oh, Celebi\n",
      "Les plus proches voisins de Rayquaza sont: \n",
      "Mega Latios, Mega Rayquaza, Salamence\n",
      "Les plus proches voisins de Dialga sont: \n",
      "Palkia, Heatran, Arceus\n",
      "Les plus proches voisins de Palkia sont: \n",
      "Dialga, Heatran, Arceus\n"
     ]
    }
   ],
   "source": [
    "\n",
    "print(\"\\nA la place de ses pokemons legendaires 'Mewtwo', 'Lugia','Rayquaza','Dialga', 'Palkia', \\nnotre champion pourra utiliser au choix les pokemons ci-dessous:\\n\")\n",
    "for pokemon, voisin in recommendations.items():\n",
    "    voisin_str = ', '.join(voisin)\n",
    "    print(f\"Les plus proches voisins de {pokemon} sont: \\n{voisin_str}\")"
   ]
  },
  {
   "cell_type": "code",
   "execution_count": null,
   "metadata": {},
   "outputs": [
    {
     "data": {
      "text/plain": [
       "{}"
      ]
     },
     "execution_count": 47,
     "metadata": {},
     "output_type": "execute_result"
    }
   ],
   "source": []
  },
  {
   "cell_type": "code",
   "execution_count": null,
   "metadata": {},
   "outputs": [],
   "source": [
    "import pandas as pd\n",
    "from sklearn.neighbors import NearestNeighbors\n",
    "\n",
    "# Importer le dataset\n",
    "df = pd.read_csv(\n",
    "    'https://raw.githubusercontent.com/murpi/wilddata/master/pokemon.csv', sep=\",\")\n",
    "\n",
    "# Supprimer les colonnes avec des valeurs nulles\n",
    "df = df.dropna(axis=1)\n",
    "print(df.shape)\n",
    "# Liste des Pokemon  legendaires\n",
    "df_legendaire = df[df['Legendary'] == True]['Name'].unique()\n",
    "# Liste des Pokemon non legendaires parmis lesquels le champion devra faire un choix\n",
    "df_non_legendaire = df[df['Legendary'] == False]['Name'].unique()\n",
    "\n",
    "# Sélectionner uniquement les colonnes numériques pour l'entraînement\n",
    "X = df.select_dtypes(include=['float64', 'int64'])\n",
    "\n",
    "# Entraîner l'algorithme k-NN pour trouver les 3 voisins les plus proches\n",
    "k = 3\n",
    "# k=range(1,5)\n",
    "knn = NearestNeighbors(n_neighbors=k)\n",
    "# knn = NearestNeighbors(n_neighbors=3)\n",
    "knn.fit(X)\n",
    "champion_pokemons = ['Mewtwo', 'Lugia',\n",
    "                     'Rayquaza', 'Giratina', 'Dialga', 'Palkia']\n",
    "# Trouver les 2 ou 3 Pokémons non-légendaires les plus proches pour chaque Pokémon légendaire du champion\n",
    "recommendations = []\n",
    "for pokemon in champion_pokemons:\n",
    "    # if pokemon in df['Name'].values:\n",
    "    if pokemon in df_legendaire:\n",
    "        # print(f\"pokemon: {pokemon}\")\n",
    "        # legendary_features =  X[pokemon]\n",
    "        legendary_features = X[df['Name'] == pokemon]\n",
    "        print(f\"pour le  {pokemon} nous avons les features: \\n{\n",
    "              legendary_features.head(4)}\")\n",
    "        distances, indices = knn.kneighbors(legendary_features)\n",
    "        print(f\"\\ndistance :{distances} \\nindice: {indices}\")\n",
    "\n",
    "        pokemon_plus_proche = df.iloc[indices[0][i]]\n",
    "\n",
    "        print(f\"pour le  {pokemon} les pokemons  les plus proches\\n: {\n",
    "              pokemon_plus_proche[\"Name\"]}\")\n",
    "        recommendations.append(pokemon_plus_proche['Name'])\n",
    "    else:\n",
    "        print(f\"Le Pokémon {pokemon} n'existe pas dans l'ensemble de données.\")\n",
    "print(set(recommendations))"
   ]
  }
 ],
 "metadata": {
  "kernelspec": {
   "display_name": "Python 3",
   "language": "python",
   "name": "python3"
  },
  "language_info": {
   "codemirror_mode": {
    "name": "ipython",
    "version": 3
   },
   "file_extension": ".py",
   "mimetype": "text/x-python",
   "name": "python",
   "nbconvert_exporter": "python",
   "pygments_lexer": "ipython3",
   "version": "3.12.0"
  }
 },
 "nbformat": 4,
 "nbformat_minor": 2
}
