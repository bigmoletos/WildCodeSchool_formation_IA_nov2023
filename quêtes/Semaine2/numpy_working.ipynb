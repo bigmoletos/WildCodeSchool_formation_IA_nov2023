import numpy as np


# constructeur numpy
my_tableau=np.array([1,2,3])
print(" my_tableau: ", my_tableau)
my_tableau.shape
