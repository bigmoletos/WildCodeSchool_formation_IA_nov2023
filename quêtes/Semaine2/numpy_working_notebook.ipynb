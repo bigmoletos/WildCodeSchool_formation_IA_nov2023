{
 "cells": [
  {
   "cell_type": "code",
   "execution_count": 2,
   "metadata": {},
   "outputs": [],
   "source": [
    "import numpy as np\n",
    "import pandas as pd\n",
    "import matplotlib.pyplot as plt\n",
    "import seaborn as sns\n",
    "import sklearn as sk\n",
    "import random"
   ]
  },
  {
   "cell_type": "code",
   "execution_count": 3,
   "metadata": {},
   "outputs": [
    {
     "name": "stdout",
     "output_type": "stream",
     "text": [
      " my_tableau:  [1 2 3]\n",
      "ma variable:  [1 2 3]\n",
      "3\n",
      "ma variable:  [[0. 0.]\n",
      " [0. 0.]\n",
      " [0. 0.]]\n",
      "ma variable:  [[1. 1.]\n",
      " [1. 1.]\n",
      " [1. 1.]]\n",
      "ma variable:  [[7 7]\n",
      " [7 7]\n",
      " [7 7]]\n",
      "ma variable:  [[-0.53565997 -0.51520155 -1.00799789 -0.49012885]\n",
      " [ 1.66196498  0.43949845 -1.01889893 -0.97370265]\n",
      " [ 1.00283009 -1.06508739  0.01900313 -0.95997346]]\n"
     ]
    }
   ],
   "source": [
    "\n",
    "# constructeur numpy\n",
    "my_tableau=np.array([1,2,3])\n",
    "print(\" my_tableau: \", my_tableau)\n",
    "my_tableau.shape\n",
    "\n",
    "#  taille d'un tableau\n",
    "import numpy as np\n",
    "tableau=np.array([1,2,3])\n",
    "tableau.shape\n",
    "print(\"ma variable: \", tableau)\n",
    "print(tableau.size)\n",
    "#  faire un tableau de 0 avec 3 lignes et 2 colonnes\n",
    "tableau2=np.zeros((3,2))\n",
    "tableau2.shape\n",
    "print(\"ma variable: \", tableau2)\n",
    "#  faire un tableau de 1 avec 3 lignes et 2 colonnes\n",
    "tableau3=np.ones((3,2))\n",
    "tableau3.shape\n",
    "print(\"ma variable: \", tableau3)\n",
    "\n",
    "#  faire un tableau de 7 avec 3 lignes et 2 colonnes\n",
    "tableau4=np.full((3,2),7)\n",
    "tableau4.shape\n",
    "print(\"ma variable: \", tableau4)\n",
    "\n",
    "# faire un tableau de valeurs aleatoire de 3 lignes et 4 colonnes repartie selon la loi normale centrée en zero\n",
    "tableau5=np.random.randn(3,4)\n",
    "tableau5.shape\n",
    "print(\"ma variable: \", tableau5)\n",
    "\n",
    "####################################"
   ]
  }
 ],
 "metadata": {
  "kernelspec": {
   "display_name": "Python 3",
   "language": "python",
   "name": "python3"
  },
  "language_info": {
   "codemirror_mode": {
    "name": "ipython",
    "version": 3
   },
   "file_extension": ".py",
   "mimetype": "text/x-python",
   "name": "python",
   "nbconvert_exporter": "python",
   "pygments_lexer": "ipython3",
   "version": "3.12.0"
  }
 },
 "nbformat": 4,
 "nbformat_minor": 2
}
