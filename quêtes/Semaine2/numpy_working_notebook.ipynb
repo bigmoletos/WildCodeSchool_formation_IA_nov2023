{
 "cells": [
  {
   "cell_type": "code",
   "execution_count": 2,
   "metadata": {},
   "outputs": [],
   "source": [
    "import numpy as np\n",
    "import pandas as pd\n",
    "import matplotlib.pyplot as plt\n",
    "import seaborn as sns\n",
    "import sklearn as sk\n",
    "import random"
   ]
  },
  {
   "cell_type": "code",
   "execution_count": 3,
   "metadata": {},
   "outputs": [
    {
     "name": "stdout",
     "output_type": "stream",
     "text": [
      " my_tableau:  [1 2 3]\n",
      "mon tableau:  [1 2 3]\n",
      "3\n",
      "mon tableau2:  [[0. 0.]\n",
      " [0. 0.]\n",
      " [0. 0.]]\n",
      "mon tableau3:  [[1. 1.]\n",
      " [1. 1.]\n",
      " [1. 1.]]\n",
      "mon tableau4:  [[7 7]\n",
      " [7 7]\n",
      " [7 7]]\n",
      "mon tableau44:  [[1. 0. 0. 0.]\n",
      " [0. 1. 0. 0.]\n",
      " [0. 0. 1. 0.]\n",
      " [0. 0. 0. 1.]]\n",
      "mon tableau5:  [[-1.80149344  0.33930869  0.49070163 -0.56639717]\n",
      " [ 0.64948147 -0.12209004  1.68037062 -0.16401704]\n",
      " [ 1.85435191 -0.56209659 -0.82261563  0.71094909]]\n",
      "mon tableau5:  [[ 1.15483949  0.97944189 -0.64563345  0.44423002]\n",
      " [ 1.01640103 -0.758861   -0.55795719  0.47722151]\n",
      " [ 0.39048958  1.86447606  1.2136078   1.92671514]]\n",
      "mon variable tableau6 :  [ 0.          0.52631579  1.05263158  1.57894737  2.10526316  2.63157895\n",
      "  3.15789474  3.68421053  4.21052632  4.73684211  5.26315789  5.78947368\n",
      "  6.31578947  6.84210526  7.36842105  7.89473684  8.42105263  8.94736842\n",
      "  9.47368421 10.        ]\n",
      "mon variable tableau7:  [0.  0.1 0.2 0.3 0.4 0.5 0.6 0.7 0.8 0.9 1.  1.1 1.2 1.3 1.4 1.5 1.6 1.7\n",
      " 1.8 1.9 2.  2.1 2.2 2.3 2.4 2.5 2.6 2.7 2.8 2.9 3.  3.1 3.2 3.3 3.4 3.5\n",
      " 3.6 3.7 3.8 3.9 4.  4.1 4.2 4.3 4.4 4.5 4.6 4.7 4.8 4.9 5.  5.1 5.2 5.3\n",
      " 5.4 5.5 5.6 5.7 5.8 5.9 6.  6.1 6.2 6.3 6.4 6.5 6.6 6.7 6.8 6.9 7.  7.1\n",
      " 7.2 7.3 7.4 7.5 7.6 7.7 7.8 7.9 8.  8.1 8.2 8.3 8.4 8.5 8.6 8.7 8.8 8.9\n",
      " 9.  9.1 9.2 9.3 9.4 9.5 9.6 9.7 9.8 9.9]\n",
      "mon variable tableau8 :  [ 0.          0.52631579  1.05263158  1.57894737  2.10526316  2.63157895\n",
      "  3.15789474  3.68421053  4.21052632  4.73684211  5.26315789  5.78947368\n",
      "  6.31578947  6.84210526  7.36842105  7.89473684  8.42105263  8.94736842\n",
      "  9.47368421 10.        ]\n",
      "mon variable tableau88 :  [ 0.      0.5264  1.053   1.579   2.105   2.63    3.158   3.684   4.21\n",
      "  4.74    5.26    5.79    6.316   6.844   7.367   7.895   8.42    8.945\n",
      "  9.48   10.    ]\n"
     ]
    }
   ],
   "source": [
    "\n",
    "# constructeur numpy\n",
    "my_tableau=np.array([1,2,3])\n",
    "print(\" my_tableau: \", my_tableau)\n",
    "my_tableau.shape\n",
    "\n",
    "#  taille d'un tableau\n",
    "import numpy as np\n",
    "tableau=np.array([1,2,3])\n",
    "tableau.shape\n",
    "print(\"mon tableau: \", tableau)\n",
    "print(tableau.size)\n",
    "#  faire un tableau de 0 avec 3 lignes et 2 colonnes\n",
    "tableau2=np.zeros((3,2))\n",
    "tableau2.shape\n",
    "print(\"mon tableau2: \", tableau2)\n",
    "#  faire un tableau de 1 avec 3 lignes et 2 colonnes\n",
    "tableau3=np.ones((3,2))\n",
    "tableau3.shape\n",
    "print(\"mon tableau3: \", tableau3)\n",
    "\n",
    "#  faire un tableau de 7 avec 3 lignes et 2 colonnes\n",
    "tableau4=np.full((3,2),7)\n",
    "tableau4.shape\n",
    "print(\"mon tableau4: \", tableau4)\n",
    "\n",
    "#  faire un tableau de 0 ou 1 avec 4 lignes et 4 colonnes\n",
    "tableau44=np.eye(4)\n",
    "tableau44.shape\n",
    "print(\"mon tableau44: \", tableau44)\n",
    "\n",
    "# faire un tableau de valeurs aleatoire de 3 lignes et 4 colonnes\n",
    "# reparties selon la loi normale centrée en zero donc utlisation\n",
    "#  de la distribution normale\n",
    "tableau5=np.random.randn(3,4)\n",
    "tableau5.shape\n",
    "print(\"mon tableau5: \", tableau5)\n",
    "# pour fixer le generateur afin d'avoir toujours le meme aleatoire on utilise seed, on voit que les valeurs aléatoires sont fixées\n",
    "# np.random.seed(0)\n",
    "tableau5=np.random.randn(3,4)\n",
    "tableau5.shape\n",
    "print(\"mon tableau5: \", tableau5)\n",
    "# on peut aussi fixer les aléatoires à une autre valeur\n",
    "# np.random.seed(4544454)\n",
    "\n",
    "# pour avoir un tableau de 20 points répartis de maniére équitable entre 0 et 10\n",
    "# np.linspace(0,10,20)\n",
    "tableau6=np.linspace(0,10,20)\n",
    "tableau6.shape\n",
    "print(\"mon variable tableau6 : \", tableau6)\n",
    "# arange permet d'avoir un tableau avec un pas. Ici des valeurs de 0 à 10 avec un pas de 0.1\n",
    "\n",
    "tableau7=np.arange(0,10,0.1)\n",
    "tableau7.shape\n",
    "print(\"mon variable tableau7: \", tableau7)\n",
    "\n",
    "# choix du nombre de byte des variables de 16 à 128 il faut rajouter dtytpe=np.float64 influence la vitesse de traitement du programme\n",
    "\n",
    "tableau8=np.linspace(0,10,20, dtype=np.float64)\n",
    "tableau8.shape\n",
    "print(\"mon variable tableau8 : \", tableau8)\n",
    "\n",
    "tableau88=np.linspace(0,10,20, dtype=np.float16)\n",
    "tableau88.shape\n",
    "print(\"mon variable tableau88 : \", tableau88)\n",
    "\n",
    "####################################\n",
    "# MANIPULATION DES TABLEAUX\n",
    "\n",
    "####################################\n",
    "####################################\n",
    "####################################"
   ]
  },
  {
   "cell_type": "code",
   "execution_count": 9,
   "metadata": {},
   "outputs": [],
   "source": [
    "import pandas as pd\n",
    "import requests\n",
    "import json\n"
   ]
  },
  {
   "cell_type": "code",
   "execution_count": 1,
   "metadata": {},
   "outputs": [
    {
     "ename": "NameError",
     "evalue": "name 'requests' is not defined",
     "output_type": "error",
     "traceback": [
      "\u001b[1;31m---------------------------------------------------------------------------\u001b[0m",
      "\u001b[1;31mNameError\u001b[0m                                 Traceback (most recent call last)",
      "\u001b[1;32mg:\\programmation\\WildCodeSchool\\Formation_IA_DATA_nov2023\\quêtes\\Semaine2\\numpy_working_notebook.ipynb Cellule 4\u001b[0m line \u001b[0;36m1\n\u001b[1;32m----> <a href='vscode-notebook-cell:/g%3A/programmation/WildCodeSchool/Formation_IA_DATA_nov2023/qu%C3%AAtes/Semaine2/numpy_working_notebook.ipynb#W3sZmlsZQ%3D%3D?line=0'>1</a>\u001b[0m requests\u001b[39m.\u001b[39mget(\u001b[39m\"\u001b[39m\u001b[39mhttp://127.0.0.1:5000/\u001b[39m\u001b[39m\"\u001b[39m)\u001b[39m.\u001b[39mtext\n",
      "\u001b[1;31mNameError\u001b[0m: name 'requests' is not defined"
     ]
    }
   ],
   "source": [
    "requests.get(\"http://127.0.0.1:5000/\").text"
   ]
  },
  {
   "cell_type": "code",
   "execution_count": null,
   "metadata": {},
   "outputs": [],
   "source": [
    "data=json.loads(requests.get(\"http://127.0.0.1:5000/\").text)\n",
    "\n",
    "\n"
   ]
  },
  {
   "cell_type": "code",
   "execution_count": null,
   "metadata": {},
   "outputs": [
    {
     "data": {
      "text/plain": [
       "localidsation  prenoms   salire  typeDePoste\n",
       "france         Paul      4000    CDD            4\n",
       "                         6000    CDI            4\n",
       "canada         Caroline  2000    freelance      3\n",
       "               Michel    6000    CDD            3\n",
       "               Paul      3000    CDI            3\n",
       "                                               ..\n",
       "france         Fabrice   2000    CDI            1\n",
       "                         3000    CDI            1\n",
       "                         4000    CDD            1\n",
       "                                 CDI            1\n",
       "thailande      Yvna      6000    freelance      1\n",
       "Name: count, Length: 205, dtype: int64"
      ]
     },
     "execution_count": 2,
     "metadata": {},
     "output_type": "execute_result"
    }
   ],
   "source": [
    "pd.DataFrame(data).value_counts()\n"
   ]
  },
  {
   "cell_type": "code",
   "execution_count": 6,
   "metadata": {},
   "outputs": [
    {
     "ename": "NameError",
     "evalue": "name 'data' is not defined",
     "output_type": "error",
     "traceback": [
      "\u001b[1;31m---------------------------------------------------------------------------\u001b[0m",
      "\u001b[1;31mNameError\u001b[0m                                 Traceback (most recent call last)",
      "\u001b[1;32mg:\\programmation\\WildCodeSchool\\Formation_IA_DATA_nov2023\\quêtes\\Semaine2\\numpy_working_notebook.ipynb Cellule 5\u001b[0m line \u001b[0;36m1\n\u001b[1;32m----> <a href='vscode-notebook-cell:/g%3A/programmation/WildCodeSchool/Formation_IA_DATA_nov2023/qu%C3%AAtes/Semaine2/numpy_working_notebook.ipynb#W4sZmlsZQ%3D%3D?line=0'>1</a>\u001b[0m pd\u001b[39m.\u001b[39mDataFrame(data)\u001b[39m.\u001b[39mprenoms\u001b[39m.\u001b[39mvalue_counts()\n",
      "\u001b[1;31mNameError\u001b[0m: name 'data' is not defined"
     ]
    }
   ],
   "source": [
    "pd.DataFrame(data).prenoms.value_counts()"
   ]
  },
  {
   "cell_type": "code",
   "execution_count": null,
   "metadata": {},
   "outputs": [],
   "source": []
  },
  {
   "cell_type": "code",
   "execution_count": null,
   "metadata": {},
   "outputs": [],
   "source": []
  },
  {
   "cell_type": "code",
   "execution_count": null,
   "metadata": {},
   "outputs": [],
   "source": []
  },
  {
   "cell_type": "code",
   "execution_count": null,
   "metadata": {},
   "outputs": [],
   "source": []
  },
  {
   "cell_type": "code",
   "execution_count": null,
   "metadata": {},
   "outputs": [],
   "source": []
  },
  {
   "cell_type": "markdown",
   "metadata": {},
   "source": []
  }
 ],
 "metadata": {
  "kernelspec": {
   "display_name": "Python 3",
   "language": "python",
   "name": "python3"
  },
  "language_info": {
   "codemirror_mode": {
    "name": "ipython",
    "version": 3
   },
   "file_extension": ".py",
   "mimetype": "text/x-python",
   "name": "python",
   "nbconvert_exporter": "python",
   "pygments_lexer": "ipython3",
   "version": "3.12.0"
  }
 },
 "nbformat": 4,
 "nbformat_minor": 2
}
