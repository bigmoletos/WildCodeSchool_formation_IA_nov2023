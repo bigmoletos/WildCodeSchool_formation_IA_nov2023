{
 "cells": [
  {
   "cell_type": "code",
   "execution_count": 3,
   "metadata": {},
   "outputs": [],
   "source": [
    "# excel pour exceler travail sur les regressions linéaires et polynomiales\n",
    "import numpy as np\n",
    "import pandas as pd\n",
    "import matplotlib.pyplot as plt\n",
    "import seaborn as sns\n",
    "from sklearn.linear_model import LogisticRegression\n",
    "from sklearn.tree import DecisionTreeClassifier\n",
    "\n",
    "import random\n",
    "\n",
    "\n"
   ]
  },
  {
   "cell_type": "code",
   "execution_count": 4,
   "metadata": {},
   "outputs": [
    {
     "ename": "AttributeError",
     "evalue": "module 'pandas' has no attribute 're'",
     "output_type": "error",
     "traceback": [
      "\u001b[1;31m---------------------------------------------------------------------------\u001b[0m",
      "\u001b[1;31mAttributeError\u001b[0m                            Traceback (most recent call last)",
      "\u001b[1;32mg:\\programmation\\WildCodeSchool\\Formation_IA_DATA_nov2023\\quêtes\\Semaine3\\quete_excel_regression _polynomiale\\notebook_excel_polynomiale.ipynb Cellule 2\u001b[0m line \u001b[0;36m1\n\u001b[1;32m----> <a href='vscode-notebook-cell:/g%3A/programmation/WildCodeSchool/Formation_IA_DATA_nov2023/qu%C3%AAtes/Semaine3/quete_excel_regression%20_polynomiale/notebook_excel_polynomiale.ipynb#W1sZmlsZQ%3D%3D?line=0'>1</a>\u001b[0m df\u001b[39m=\u001b[39mpd\u001b[39m.\u001b[39mre(\u001b[39m\"\u001b[39m\u001b[39mquêtes\u001b[39m\u001b[39m\\\u001b[39m\u001b[39mSemaine3\u001b[39m\u001b[39m\\\u001b[39m\u001b[39mquete_excel_regression _polynomiale\u001b[39m\u001b[39m\\\u001b[39m\u001b[39m_#1 Exceler à Excel - Statistiques - data.csv\u001b[39m\u001b[39m\"\u001b[39m)\n\u001b[0;32m      <a href='vscode-notebook-cell:/g%3A/programmation/WildCodeSchool/Formation_IA_DATA_nov2023/qu%C3%AAtes/Semaine3/quete_excel_regression%20_polynomiale/notebook_excel_polynomiale.ipynb#W1sZmlsZQ%3D%3D?line=2'>3</a>\u001b[0m df\u001b[39m.\u001b[39minfo()\n",
      "\u001b[1;31mAttributeError\u001b[0m: module 'pandas' has no attribute 're'"
     ]
    }
   ],
   "source": [
    "df=pd.re(\"quêtes\\Semaine3\\quete_excel_regression _polynomiale\\_#1 Exceler à Excel - Statistiques - data.csv\")\n",
    "\n",
    "df.info()"
   ]
  }
 ],
 "metadata": {
  "kernelspec": {
   "display_name": "base",
   "language": "python",
   "name": "python3"
  },
  "language_info": {
   "codemirror_mode": {
    "name": "ipython",
    "version": 3
   },
   "file_extension": ".py",
   "mimetype": "text/x-python",
   "name": "python",
   "nbconvert_exporter": "python",
   "pygments_lexer": "ipython3",
   "version": "3.11.5"
  }
 },
 "nbformat": 4,
 "nbformat_minor": 2
}
