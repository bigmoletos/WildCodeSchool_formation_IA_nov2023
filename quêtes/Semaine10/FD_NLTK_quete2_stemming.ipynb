{
 "cells": [
  {
   "cell_type": "markdown",
   "metadata": {},
   "source": [
    "# NTLK Quetes 1"
   ]
  },
  {
   "cell_type": "markdown",
   "metadata": {},
   "source": [
    "#### Importe NLTK et télécharge les fonctions dont tu auras besoin (au fur et à mesure si nécessaire).\n",
    "#### Récupère le texte d'un article de presse de ton choix sur internet (en anglais ce sera plus simple, mais tu peux prendre la langue de ton choix). \n",
    "#### Affecte-le à une variable via un copier/coller dans ton notebook. Par simplicité pour la suite de cette quête, nous te conseillons de prendre un texte qui fait entre 10 et 30 lignes environ. \n",
    "#### Transforme ton texte en tokens de phrases\n",
    "#### Transforme ton texte en tokens de mots\n",
    "#### Compte la fréquence d'apparition de chaque mot et réalise un graphique (si possible un diagramme en barre) qui représente les 20 mots les plus présents dans ton texte. Y a-t-il beaucoup de mots qui te semblent être des stopwords ?\n",
    "#### Enlève les stop words et la ponctuation, et regarde à nouveau quels sont les mots les plus présents. Là encore, réalise le même graphique pour comparer."
   ]
  },
  {
   "cell_type": "code",
   "execution_count": 1,
   "metadata": {},
   "outputs": [],
   "source": [
    "import nltk\n",
    "from nltk.stem import PorterStemmer\n",
    "from nltk.tokenize import word_tokenize\n",
    "from nltk.tokenize import sent_tokenize\n",
    "from nltk.corpus import stopwords\n",
    "import os\n",
    "import io\n",
    "import random\n",
    "import requests\n",
    "import numpy as np\n",
    "import pandas as pd\n",
    "import seaborn as sns\n",
    "import matplotlib.pyplot as plt\n",
    "import plotly.express as px\n",
    "from collections import Counter\n",
    "import string\n",
    "import spacy\n",
    "import plotly.graph_objects as go\n"
   ]
  },
  {
   "cell_type": "code",
   "execution_count": null,
   "metadata": {},
   "outputs": [],
   "source": [
    "# Télécharger le popular plus de 50min!!\n",
    "nltk.download()\n"
   ]
  },
  {
   "cell_type": "code",
   "execution_count": 2,
   "metadata": {},
   "outputs": [
    {
     "name": "stdout",
     "output_type": "stream",
     "text": [
      "['au', 'aux', 'avec', 'ce', 'ces', 'dans', 'de', 'des', 'du', 'elle', 'en', 'et', 'eux', 'il', 'ils', 'je', 'la', 'le', 'les', 'leur', 'lui', 'ma', 'mais', 'me', 'même', 'mes', 'moi', 'mon', 'ne', 'nos', 'notre', 'nous', 'on', 'ou', 'par', 'pas', 'pour', 'qu', 'que', 'qui', 'sa', 'se', 'ses', 'son', 'sur', 'ta', 'te', 'tes', 'toi', 'ton', 'tu', 'un', 'une', 'vos', 'votre', 'vous', 'c', 'd', 'j', 'l', 'à', 'm', 'n', 's', 't', 'y', 'été', 'étée', 'étées', 'étés', 'étant', 'étante', 'étants', 'étantes', 'suis', 'es', 'est', 'sommes', 'êtes', 'sont', 'serai', 'seras', 'sera', 'serons', 'serez', 'seront', 'serais', 'serait', 'serions', 'seriez', 'seraient', 'étais', 'était', 'étions', 'étiez', 'étaient', 'fus', 'fut', 'fûmes', 'fûtes', 'furent', 'sois', 'soit', 'soyons', 'soyez', 'soient', 'fusse', 'fusses', 'fût', 'fussions', 'fussiez', 'fussent', 'ayant', 'ayante', 'ayantes', 'ayants', 'eu', 'eue', 'eues', 'eus', 'ai', 'as', 'avons', 'avez', 'ont', 'aurai', 'auras', 'aura', 'aurons', 'aurez', 'auront', 'aurais', 'aurait', 'aurions', 'auriez', 'auraient', 'avais', 'avait', 'avions', 'aviez', 'avaient', 'eut', 'eûmes', 'eûtes', 'eurent', 'aie', 'aies', 'ait', 'ayons', 'ayez', 'aient', 'eusse', 'eusses', 'eût', 'eussions', 'eussiez', 'eussent']\n"
     ]
    },
    {
     "name": "stderr",
     "output_type": "stream",
     "text": [
      "[nltk_data] Downloading package stopwords to\n",
      "[nltk_data]     C:\\Users\\romar\\AppData\\Roaming\\nltk_data...\n",
      "[nltk_data]   Package stopwords is already up-to-date!\n",
      "[nltk_data] Downloading package punkt to\n",
      "[nltk_data]     C:\\Users\\romar\\AppData\\Roaming\\nltk_data...\n",
      "[nltk_data]   Package punkt is already up-to-date!\n"
     ]
    },
    {
     "data": {
      "text/plain": [
       "True"
      ]
     },
     "execution_count": 2,
     "metadata": {},
     "output_type": "execute_result"
    }
   ],
   "source": [
    "# Télécharger les stopwords en français\n",
    "nltk.download(\"stopwords\")\n",
    "# Vérifier que les stopwords en français sont disponibles\n",
    "print(stopwords.words(\"french\"))\n",
    "\n",
    "# Télécharger le corpus Punkt pour toekniser les phrases\n",
    "nltk.download(\"punkt\")\n",
    "# Vérifier que les stopwords en français sont disponibles\n"
   ]
  },
  {
   "cell_type": "code",
   "execution_count": 51,
   "metadata": {},
   "outputs": [
    {
     "name": "stdout",
     "output_type": "stream",
     "text": [
      "Collecting spacy\n",
      "  Using cached spacy-3.7.2-cp312-cp312-win_amd64.whl.metadata (26 kB)\n",
      "Collecting spacy-legacy<3.1.0,>=3.0.11 (from spacy)\n",
      "  Using cached spacy_legacy-3.0.12-py2.py3-none-any.whl (29 kB)\n",
      "Collecting spacy-loggers<2.0.0,>=1.0.0 (from spacy)\n",
      "  Using cached spacy_loggers-1.0.5-py3-none-any.whl.metadata (23 kB)\n",
      "Collecting murmurhash<1.1.0,>=0.28.0 (from spacy)\n",
      "  Using cached murmurhash-1.0.10-cp312-cp312-win_amd64.whl.metadata (2.0 kB)\n",
      "Collecting cymem<2.1.0,>=2.0.2 (from spacy)\n",
      "  Using cached cymem-2.0.8-cp312-cp312-win_amd64.whl.metadata (8.6 kB)\n",
      "Collecting preshed<3.1.0,>=3.0.2 (from spacy)\n",
      "  Using cached preshed-3.0.9-cp312-cp312-win_amd64.whl.metadata (2.2 kB)\n",
      "Collecting thinc<8.3.0,>=8.1.8 (from spacy)\n",
      "  Using cached thinc-8.2.2-cp312-cp312-win_amd64.whl.metadata (15 kB)\n",
      "Collecting wasabi<1.2.0,>=0.9.1 (from spacy)\n",
      "  Using cached wasabi-1.1.2-py3-none-any.whl.metadata (28 kB)\n",
      "Collecting srsly<3.0.0,>=2.4.3 (from spacy)\n",
      "  Using cached srsly-2.4.8-cp312-cp312-win_amd64.whl.metadata (20 kB)\n",
      "Collecting catalogue<2.1.0,>=2.0.6 (from spacy)\n",
      "  Using cached catalogue-2.0.10-py3-none-any.whl.metadata (14 kB)\n",
      "Collecting weasel<0.4.0,>=0.1.0 (from spacy)\n",
      "  Using cached weasel-0.3.4-py3-none-any.whl.metadata (4.7 kB)\n",
      "Requirement already satisfied: typer<0.10.0,>=0.3.0 in c:\\users\\romar\\appdata\\local\\programs\\python\\python312\\lib\\site-packages (from spacy) (0.9.0)\n",
      "Collecting smart-open<7.0.0,>=5.2.1 (from spacy)\n",
      "  Using cached smart_open-6.4.0-py3-none-any.whl.metadata (21 kB)\n",
      "Requirement already satisfied: tqdm<5.0.0,>=4.38.0 in c:\\users\\romar\\appdata\\local\\programs\\python\\python312\\lib\\site-packages (from spacy) (4.66.1)\n",
      "Requirement already satisfied: requests<3.0.0,>=2.13.0 in c:\\users\\romar\\appdata\\local\\programs\\python\\python312\\lib\\site-packages (from spacy) (2.31.0)\n",
      "Requirement already satisfied: pydantic!=1.8,!=1.8.1,<3.0.0,>=1.7.4 in c:\\users\\romar\\appdata\\local\\programs\\python\\python312\\lib\\site-packages (from spacy) (2.5.1)\n",
      "Requirement already satisfied: jinja2 in c:\\users\\romar\\appdata\\local\\programs\\python\\python312\\lib\\site-packages (from spacy) (3.1.2)\n",
      "Requirement already satisfied: setuptools in c:\\users\\romar\\appdata\\local\\programs\\python\\python312\\lib\\site-packages (from spacy) (69.0.2)\n",
      "Requirement already satisfied: packaging>=20.0 in c:\\users\\romar\\appdata\\roaming\\python\\python312\\site-packages (from spacy) (23.2)\n",
      "Collecting langcodes<4.0.0,>=3.2.0 (from spacy)\n",
      "  Using cached langcodes-3.3.0-py3-none-any.whl (181 kB)\n",
      "Requirement already satisfied: numpy>=1.19.0 in c:\\users\\romar\\appdata\\local\\programs\\python\\python312\\lib\\site-packages (from spacy) (1.26.1)\n",
      "Requirement already satisfied: annotated-types>=0.4.0 in c:\\users\\romar\\appdata\\local\\programs\\python\\python312\\lib\\site-packages (from pydantic!=1.8,!=1.8.1,<3.0.0,>=1.7.4->spacy) (0.6.0)\n",
      "Requirement already satisfied: pydantic-core==2.14.3 in c:\\users\\romar\\appdata\\local\\programs\\python\\python312\\lib\\site-packages (from pydantic!=1.8,!=1.8.1,<3.0.0,>=1.7.4->spacy) (2.14.3)\n",
      "Requirement already satisfied: typing-extensions>=4.6.1 in c:\\users\\romar\\appdata\\local\\programs\\python\\python312\\lib\\site-packages (from pydantic!=1.8,!=1.8.1,<3.0.0,>=1.7.4->spacy) (4.8.0)\n",
      "Requirement already satisfied: charset-normalizer<4,>=2 in c:\\users\\romar\\appdata\\local\\programs\\python\\python312\\lib\\site-packages (from requests<3.0.0,>=2.13.0->spacy) (3.3.1)\n",
      "Requirement already satisfied: idna<4,>=2.5 in c:\\users\\romar\\appdata\\local\\programs\\python\\python312\\lib\\site-packages (from requests<3.0.0,>=2.13.0->spacy) (3.4)\n",
      "Requirement already satisfied: urllib3<3,>=1.21.1 in c:\\users\\romar\\appdata\\local\\programs\\python\\python312\\lib\\site-packages (from requests<3.0.0,>=2.13.0->spacy) (2.0.7)\n",
      "Requirement already satisfied: certifi>=2017.4.17 in c:\\users\\romar\\appdata\\local\\programs\\python\\python312\\lib\\site-packages (from requests<3.0.0,>=2.13.0->spacy) (2023.7.22)\n",
      "Collecting blis<0.8.0,>=0.7.8 (from thinc<8.3.0,>=8.1.8->spacy)\n",
      "  Using cached blis-0.7.11-cp312-cp312-win_amd64.whl.metadata (7.6 kB)\n",
      "Collecting confection<1.0.0,>=0.0.1 (from thinc<8.3.0,>=8.1.8->spacy)\n",
      "  Using cached confection-0.1.4-py3-none-any.whl.metadata (19 kB)\n",
      "Requirement already satisfied: colorama in c:\\users\\romar\\appdata\\roaming\\python\\python312\\site-packages (from tqdm<5.0.0,>=4.38.0->spacy) (0.4.6)\n",
      "Requirement already satisfied: click<9.0.0,>=7.1.1 in c:\\users\\romar\\appdata\\local\\programs\\python\\python312\\lib\\site-packages (from typer<0.10.0,>=0.3.0->spacy) (8.1.7)\n",
      "Collecting cloudpathlib<0.17.0,>=0.7.0 (from weasel<0.4.0,>=0.1.0->spacy)\n",
      "  Using cached cloudpathlib-0.16.0-py3-none-any.whl.metadata (14 kB)\n",
      "Requirement already satisfied: MarkupSafe>=2.0 in c:\\users\\romar\\appdata\\local\\programs\\python\\python312\\lib\\site-packages (from jinja2->spacy) (2.1.3)\n",
      "Using cached spacy-3.7.2-cp312-cp312-win_amd64.whl (11.7 MB)\n",
      "Using cached catalogue-2.0.10-py3-none-any.whl (17 kB)\n",
      "Using cached cymem-2.0.8-cp312-cp312-win_amd64.whl (39 kB)\n",
      "Using cached murmurhash-1.0.10-cp312-cp312-win_amd64.whl (25 kB)\n",
      "Using cached preshed-3.0.9-cp312-cp312-win_amd64.whl (122 kB)\n",
      "Using cached smart_open-6.4.0-py3-none-any.whl (57 kB)\n",
      "Using cached spacy_loggers-1.0.5-py3-none-any.whl (22 kB)\n",
      "Using cached srsly-2.4.8-cp312-cp312-win_amd64.whl (478 kB)\n",
      "Using cached thinc-8.2.2-cp312-cp312-win_amd64.whl (1.4 MB)\n",
      "Using cached wasabi-1.1.2-py3-none-any.whl (27 kB)\n",
      "Using cached weasel-0.3.4-py3-none-any.whl (50 kB)\n",
      "Using cached blis-0.7.11-cp312-cp312-win_amd64.whl (6.6 MB)\n",
      "Using cached cloudpathlib-0.16.0-py3-none-any.whl (45 kB)\n",
      "Using cached confection-0.1.4-py3-none-any.whl (35 kB)\n",
      "Installing collected packages: cymem, wasabi, spacy-loggers, spacy-legacy, smart-open, murmurhash, langcodes, cloudpathlib, catalogue, blis, srsly, preshed, confection, weasel, thinc, spacy\n",
      "Successfully installed blis-0.7.11 catalogue-2.0.10 cloudpathlib-0.16.0 confection-0.1.4 cymem-2.0.8 langcodes-3.3.0 murmurhash-1.0.10 preshed-3.0.9 smart-open-6.4.0 spacy-3.7.2 spacy-legacy-3.0.12 spacy-loggers-1.0.5 srsly-2.4.8 thinc-8.2.2 wasabi-1.1.2 weasel-0.3.4\n",
      "Collecting fr-core-news-sm==3.7.0\n",
      "  Using cached https://github.com/explosion/spacy-models/releases/download/fr_core_news_sm-3.7.0/fr_core_news_sm-3.7.0-py3-none-any.whl (16.3 MB)\n",
      "Requirement already satisfied: spacy<3.8.0,>=3.7.0 in c:\\users\\romar\\appdata\\local\\programs\\python\\python312\\lib\\site-packages (from fr-core-news-sm==3.7.0) (3.7.2)\n",
      "Requirement already satisfied: spacy-legacy<3.1.0,>=3.0.11 in c:\\users\\romar\\appdata\\local\\programs\\python\\python312\\lib\\site-packages (from spacy<3.8.0,>=3.7.0->fr-core-news-sm==3.7.0) (3.0.12)\n",
      "Requirement already satisfied: spacy-loggers<2.0.0,>=1.0.0 in c:\\users\\romar\\appdata\\local\\programs\\python\\python312\\lib\\site-packages (from spacy<3.8.0,>=3.7.0->fr-core-news-sm==3.7.0) (1.0.5)\n",
      "Requirement already satisfied: murmurhash<1.1.0,>=0.28.0 in c:\\users\\romar\\appdata\\local\\programs\\python\\python312\\lib\\site-packages (from spacy<3.8.0,>=3.7.0->fr-core-news-sm==3.7.0) (1.0.10)\n",
      "Requirement already satisfied: cymem<2.1.0,>=2.0.2 in c:\\users\\romar\\appdata\\local\\programs\\python\\python312\\lib\\site-packages (from spacy<3.8.0,>=3.7.0->fr-core-news-sm==3.7.0) (2.0.8)\n",
      "Requirement already satisfied: preshed<3.1.0,>=3.0.2 in c:\\users\\romar\\appdata\\local\\programs\\python\\python312\\lib\\site-packages (from spacy<3.8.0,>=3.7.0->fr-core-news-sm==3.7.0) (3.0.9)\n",
      "Requirement already satisfied: thinc<8.3.0,>=8.1.8 in c:\\users\\romar\\appdata\\local\\programs\\python\\python312\\lib\\site-packages (from spacy<3.8.0,>=3.7.0->fr-core-news-sm==3.7.0) (8.2.2)\n",
      "Requirement already satisfied: wasabi<1.2.0,>=0.9.1 in c:\\users\\romar\\appdata\\local\\programs\\python\\python312\\lib\\site-packages (from spacy<3.8.0,>=3.7.0->fr-core-news-sm==3.7.0) (1.1.2)\n",
      "Requirement already satisfied: srsly<3.0.0,>=2.4.3 in c:\\users\\romar\\appdata\\local\\programs\\python\\python312\\lib\\site-packages (from spacy<3.8.0,>=3.7.0->fr-core-news-sm==3.7.0) (2.4.8)\n",
      "Requirement already satisfied: catalogue<2.1.0,>=2.0.6 in c:\\users\\romar\\appdata\\local\\programs\\python\\python312\\lib\\site-packages (from spacy<3.8.0,>=3.7.0->fr-core-news-sm==3.7.0) (2.0.10)\n",
      "Requirement already satisfied: weasel<0.4.0,>=0.1.0 in c:\\users\\romar\\appdata\\local\\programs\\python\\python312\\lib\\site-packages (from spacy<3.8.0,>=3.7.0->fr-core-news-sm==3.7.0) (0.3.4)\n",
      "Requirement already satisfied: typer<0.10.0,>=0.3.0 in c:\\users\\romar\\appdata\\local\\programs\\python\\python312\\lib\\site-packages (from spacy<3.8.0,>=3.7.0->fr-core-news-sm==3.7.0) (0.9.0)\n",
      "Requirement already satisfied: smart-open<7.0.0,>=5.2.1 in c:\\users\\romar\\appdata\\local\\programs\\python\\python312\\lib\\site-packages (from spacy<3.8.0,>=3.7.0->fr-core-news-sm==3.7.0) (6.4.0)\n",
      "Requirement already satisfied: tqdm<5.0.0,>=4.38.0 in c:\\users\\romar\\appdata\\local\\programs\\python\\python312\\lib\\site-packages (from spacy<3.8.0,>=3.7.0->fr-core-news-sm==3.7.0) (4.66.1)\n",
      "Requirement already satisfied: requests<3.0.0,>=2.13.0 in c:\\users\\romar\\appdata\\local\\programs\\python\\python312\\lib\\site-packages (from spacy<3.8.0,>=3.7.0->fr-core-news-sm==3.7.0) (2.31.0)\n",
      "Requirement already satisfied: pydantic!=1.8,!=1.8.1,<3.0.0,>=1.7.4 in c:\\users\\romar\\appdata\\local\\programs\\python\\python312\\lib\\site-packages (from spacy<3.8.0,>=3.7.0->fr-core-news-sm==3.7.0) (2.5.1)\n",
      "Requirement already satisfied: jinja2 in c:\\users\\romar\\appdata\\local\\programs\\python\\python312\\lib\\site-packages (from spacy<3.8.0,>=3.7.0->fr-core-news-sm==3.7.0) (3.1.2)\n",
      "Requirement already satisfied: setuptools in c:\\users\\romar\\appdata\\local\\programs\\python\\python312\\lib\\site-packages (from spacy<3.8.0,>=3.7.0->fr-core-news-sm==3.7.0) (69.0.2)\n",
      "Requirement already satisfied: packaging>=20.0 in c:\\users\\romar\\appdata\\roaming\\python\\python312\\site-packages (from spacy<3.8.0,>=3.7.0->fr-core-news-sm==3.7.0) (23.2)\n",
      "Requirement already satisfied: langcodes<4.0.0,>=3.2.0 in c:\\users\\romar\\appdata\\local\\programs\\python\\python312\\lib\\site-packages (from spacy<3.8.0,>=3.7.0->fr-core-news-sm==3.7.0) (3.3.0)\n",
      "Requirement already satisfied: numpy>=1.19.0 in c:\\users\\romar\\appdata\\local\\programs\\python\\python312\\lib\\site-packages (from spacy<3.8.0,>=3.7.0->fr-core-news-sm==3.7.0) (1.26.1)\n",
      "Requirement already satisfied: annotated-types>=0.4.0 in c:\\users\\romar\\appdata\\local\\programs\\python\\python312\\lib\\site-packages (from pydantic!=1.8,!=1.8.1,<3.0.0,>=1.7.4->spacy<3.8.0,>=3.7.0->fr-core-news-sm==3.7.0) (0.6.0)\n",
      "Requirement already satisfied: pydantic-core==2.14.3 in c:\\users\\romar\\appdata\\local\\programs\\python\\python312\\lib\\site-packages (from pydantic!=1.8,!=1.8.1,<3.0.0,>=1.7.4->spacy<3.8.0,>=3.7.0->fr-core-news-sm==3.7.0) (2.14.3)\n",
      "Requirement already satisfied: typing-extensions>=4.6.1 in c:\\users\\romar\\appdata\\local\\programs\\python\\python312\\lib\\site-packages (from pydantic!=1.8,!=1.8.1,<3.0.0,>=1.7.4->spacy<3.8.0,>=3.7.0->fr-core-news-sm==3.7.0) (4.8.0)\n",
      "Requirement already satisfied: charset-normalizer<4,>=2 in c:\\users\\romar\\appdata\\local\\programs\\python\\python312\\lib\\site-packages (from requests<3.0.0,>=2.13.0->spacy<3.8.0,>=3.7.0->fr-core-news-sm==3.7.0) (3.3.1)\n",
      "Requirement already satisfied: idna<4,>=2.5 in c:\\users\\romar\\appdata\\local\\programs\\python\\python312\\lib\\site-packages (from requests<3.0.0,>=2.13.0->spacy<3.8.0,>=3.7.0->fr-core-news-sm==3.7.0) (3.4)\n",
      "Requirement already satisfied: urllib3<3,>=1.21.1 in c:\\users\\romar\\appdata\\local\\programs\\python\\python312\\lib\\site-packages (from requests<3.0.0,>=2.13.0->spacy<3.8.0,>=3.7.0->fr-core-news-sm==3.7.0) (2.0.7)\n",
      "Requirement already satisfied: certifi>=2017.4.17 in c:\\users\\romar\\appdata\\local\\programs\\python\\python312\\lib\\site-packages (from requests<3.0.0,>=2.13.0->spacy<3.8.0,>=3.7.0->fr-core-news-sm==3.7.0) (2023.7.22)\n",
      "Requirement already satisfied: blis<0.8.0,>=0.7.8 in c:\\users\\romar\\appdata\\local\\programs\\python\\python312\\lib\\site-packages (from thinc<8.3.0,>=8.1.8->spacy<3.8.0,>=3.7.0->fr-core-news-sm==3.7.0) (0.7.11)\n",
      "Requirement already satisfied: confection<1.0.0,>=0.0.1 in c:\\users\\romar\\appdata\\local\\programs\\python\\python312\\lib\\site-packages (from thinc<8.3.0,>=8.1.8->spacy<3.8.0,>=3.7.0->fr-core-news-sm==3.7.0) (0.1.4)\n",
      "Requirement already satisfied: colorama in c:\\users\\romar\\appdata\\roaming\\python\\python312\\site-packages (from tqdm<5.0.0,>=4.38.0->spacy<3.8.0,>=3.7.0->fr-core-news-sm==3.7.0) (0.4.6)\n",
      "Requirement already satisfied: click<9.0.0,>=7.1.1 in c:\\users\\romar\\appdata\\local\\programs\\python\\python312\\lib\\site-packages (from typer<0.10.0,>=0.3.0->spacy<3.8.0,>=3.7.0->fr-core-news-sm==3.7.0) (8.1.7)\n",
      "Requirement already satisfied: cloudpathlib<0.17.0,>=0.7.0 in c:\\users\\romar\\appdata\\local\\programs\\python\\python312\\lib\\site-packages (from weasel<0.4.0,>=0.1.0->spacy<3.8.0,>=3.7.0->fr-core-news-sm==3.7.0) (0.16.0)\n",
      "Requirement already satisfied: MarkupSafe>=2.0 in c:\\users\\romar\\appdata\\local\\programs\\python\\python312\\lib\\site-packages (from jinja2->spacy<3.8.0,>=3.7.0->fr-core-news-sm==3.7.0) (2.1.3)\n",
      "Installing collected packages: fr-core-news-sm\n",
      "Successfully installed fr-core-news-sm-3.7.0\n",
      "\u001b[38;5;2m✔ Download and installation successful\u001b[0m\n",
      "You can now load the package via spacy.load('fr_core_news_sm')\n"
     ]
    }
   ],
   "source": [
    "# !pip install spacy\n",
    "# !python -m spacy download fr_core_news_sm\n"
   ]
  },
  {
   "cell_type": "code",
   "execution_count": 3,
   "metadata": {},
   "outputs": [
    {
     "name": "stdout",
     "output_type": "stream",
     "text": [
      "\n",
      " fichier_to_test :\n",
      "./le_bonheur.txt \n",
      "\n",
      "\n",
      " token_phrases:\n",
      "['Le bonheur, mes chers amis, est ce phare éternel vers lequel toutes les âmes naviguent avec espoir.', \"Mais qu'est-ce que le bonheur, sinon l'harmonie entre l'homme et l'existence qu'il mène ?\", \"Ce n'est pas un lieu lointain ou un sommet à atteindre, mais plutôt un chemin sur lequel on marche, un ensemble de petits moments, une suite de respirations conscientes.\", 'Socrate, dans son humilité, nous a enseigné que la connaissance de soi est la clé de la sagesse et, par extension, du bonheur.', 'Car en se connaissant, on comprend mieux ses désirs et on distingue les plaisirs éphémères des joies durables.', \"Épicure, quant à lui, a souligné l'importance des plaisirs simples : le chant des oiseaux, la douceur d'une brise, la compagnie d'un bon ami.\", \"Il nous a invités à chercher le bonheur dans la modération et dans la liberté des tourments de l'âme.\", \"Et que dire de Sénèque, ce stoïcien qui a prôné la vertu, la patience et l'acceptation ?\", \"Le bonheur n'est pas l'absence de souffrance, mais la façon dont on y fait face.\", 'Il nous rappelle que les vagues de la vie doivent être naviguées avec courage et que le bonheur est souvent le fruit de notre capacité à ne pas vouloir contrôler ce qui échappe à notre contrôle.', \"Enfin, Montaigne, avec son esprit libre et curieux, nous a appris que le bonheur réside dans l'appréciation des joies de la vie quotidienne, dans l'acceptation de soi et dans le courage d'être authentique.\", \"Cherchons donc le bonheur non pas comme une terre promise que l'on conquiert, mais comme un jardin que l'on cultive chaque jour.\", \"Que chaque pas soit guidé par l'amour, la gratitude et la bienveillance.\", 'Que chaque regard posé sur le monde soit empreint de merveille et de respect.', \"Le bonheur est là, dans l'ici et maintenant, dans la pleine conscience de chaque instant vécu, dans l'union paisible de notre esprit avec le cœur battant de l'univers.\", \"Vivez, aimez, riez et trouvez votre bonheur dans cette merveilleuse aventure qu'est la vie.\", \"Aristote nous disait que le bonheur est l'activité de l'âme conforme à la vertu.\", 'Il voyait le bonheur non comme un état passif, mais comme une activité pleine et engagée dans la poursuite du bien et de la vertu.', \"Pour lui, le bonheur était l'aboutissement d'une vie de pratique et de réflexion, un point culminant de l'excellence humaine et de la réalisation de soi.\", 'Pascal, avec sa profondeur et sa perspicacité, a considéré le bonheur comme un état insaisissable et éphémère.', \"Il croyait que le vrai bonheur ne pouvait être trouvé que dans la recherche de l'infini, dans la quête d'une transcendance qui dépasse les plaisirs et les peines de ce monde.\", \"Pour Pascal, le bonheur résidait dans la foi et dans la lutte intérieure vers une compréhension plus profonde de l'existence.\", \"Nietzsche, d'autre part, a contesté les idées traditionnelles sur le bonheur.\", \"Il a proclamé que le bonheur n'était pas le produit de la conformité ou du confort, mais plutôt le résultat de l'acceptation et de l'affirmation de la vie dans toute sa complexité.\", \"Pour lui, le bonheur était intimement lié à la volonté de puissance, à l'aspiration de l'individu à surmonter les défis et à forger son propre chemin dans la vie.\", \"Kierkegaard a exploré le bonheur à travers le prisme de l'existence individuelle et de la subjectivité.\", \"Il a soutenu que le bonheur dépend de la capacité de l'individu à se comprendre soi-même, à faire des choix authentiques et à embrasser pleinement son existence unique.\", \"Pour Kierkegaard, le bonheur était profondément personnel et inextricablement lié à la quête de sens et de vérité dans la vie d'une personne.\", \"Rumi, le poète soufi, a vu le bonheur comme une union avec le divin, une immersion dans l'amour et la spiritualité.\", \"Il a parlé du bonheur comme d'un voyage vers l'intérieur, une quête pour découvrir la lumière et la vérité qui résident au cœur de chaque être.\", \"Pour Rumi, le bonheur était une expérience de l'extase et de la connexion profonde avec le tout.\", \"Emerson, dans ses réflexions sur la nature et l'âme humaine, a suggéré que le bonheur réside dans l'harmonie avec le monde naturel et dans l'expression authentique de soi.\", \"Il a encouragé une approche de la vie qui embrasse l'individualité, la créativité et un lien profond avec le monde naturel comme sources de bonheur et d'épanouissement.\", \"Thoreau, dans sa vie simple à Walden, a cherché le bonheur dans la simplicité et l'autosuffisance.\", 'Il a vu le bonheur comme quelque chose qui vient de vivre intentionnellement, en harmonie avec la nature et en accord avec ses propres convictions et valeurs.', \"Camus, avec sa philosophie de l'absurde, a considéré le bonheur comme une révolte contre l'absurdité de l'existence.\", \"Il a suggéré que trouver le bonheur nécessite une acceptation de l'absurde tout en se révoltant contre lui par la recherche de sens, de passion et de beauté dans la vie.\", \"Tagore, le poète et philosophe indien, a parlé du bonheur comme d'une communion avec l'univers, une célébration de la beauté et de la diversité de la vie.\", \"Il a vu le bonheur comme un état d'émerveillement et d'appréciation pour la richesse de l'existence.\", 'Lao Tseu, dans son enseignement taoïste, a vu le bonheur comme une question de vivre en harmonie avec le Tao, le chemin naturel des choses.', \"Pour lui, le bonheur vient de l'acceptation, de la simplicité et de l'alignement avec le flux naturel de la vie.\", \"Confucius a souligné l'importance de l'harmonie sociale, de la moralité et du devoir comme chemins vers le bonheur.\", \"Pour lui, le bonheur était lié à la réalisation de soi dans le contexte de relations saines et d'une société juste.\", 'Baudelaire, dans ses poèmes, a exploré le bonheur dans les plaisirs fugaces et les beautés cachées du monde.', \"Il a vu le bonheur dans les moments de révélation et de beauté qui émergent même dans les aspects les plus sombres de l'existence.\", 'Gandhi, dans sa quête de vérité et de justice, a vu le bonheur comme inséparable de la vie de service et de dévouement aux autres.', 'Pour lui, le bonheur venait de vivre en accord avec des principes moraux élevés et de travailler pour le bien-être des autres.', 'Schopenhauer, avec son pessimisme philosophique, a vu le bonheur comme un idéal souvent inaccessible, compte tenu de la nature souffrante de la vie.', 'Néanmoins, il a suggéré que le bonheur, dans la mesure où il peut être atteint, vient de la contemplation esthétique, de la compassion et de la modération des désirs.'] \n",
      "\n",
      "\n",
      " tokens_words:\n",
      "['Le', 'bonheur', ',', 'mes', 'chers', 'amis', ',', 'est', 'ce', 'phare', 'éternel', 'vers', 'lequel', 'toutes', 'les', 'âmes', 'naviguent', 'avec', 'espoir', '.', 'Mais', \"qu'est-ce\", 'que', 'le', 'bonheur', ',', 'sinon', \"l'harmonie\", 'entre', \"l'homme\", 'et', \"l'existence\", \"qu'il\", 'mène', '?', 'Ce', \"n'est\", 'pas', 'un', 'lieu', 'lointain', 'ou', 'un', 'sommet', 'à', 'atteindre', ',', 'mais', 'plutôt', 'un', 'chemin', 'sur', 'lequel', 'on', 'marche', ',', 'un', 'ensemble', 'de', 'petits', 'moments', ',', 'une', 'suite', 'de', 'respirations', 'conscientes', '.', 'Socrate', ',', 'dans', 'son', 'humilité', ',', 'nous', 'a', 'enseigné', 'que', 'la', 'connaissance', 'de', 'soi', 'est', 'la', 'clé', 'de', 'la', 'sagesse', 'et', ',', 'par', 'extension', ',', 'du', 'bonheur', '.', 'Car', 'en', 'se', 'connaissant', ',', 'on', 'comprend', 'mieux', 'ses', 'désirs', 'et', 'on', 'distingue', 'les', 'plaisirs', 'éphémères', 'des', 'joies', 'durables', '.', 'Épicure', ',', 'quant', 'à', 'lui', ',', 'a', 'souligné', \"l'importance\", 'des', 'plaisirs', 'simples', ':', 'le', 'chant', 'des', 'oiseaux', ',', 'la', 'douceur', \"d'une\", 'brise', ',', 'la', 'compagnie', \"d'un\", 'bon', 'ami', '.', 'Il', 'nous', 'a', 'invités', 'à', 'chercher', 'le', 'bonheur', 'dans', 'la', 'modération', 'et', 'dans', 'la', 'liberté', 'des', 'tourments', 'de', \"l'âme\", '.', 'Et', 'que', 'dire', 'de', 'Sénèque', ',', 'ce', 'stoïcien', 'qui', 'a', 'prôné', 'la', 'vertu', ',', 'la', 'patience', 'et', \"l'acceptation\", '?', 'Le', 'bonheur', \"n'est\", 'pas', \"l'absence\", 'de', 'souffrance', ',', 'mais', 'la', 'façon', 'dont', 'on', 'y', 'fait', 'face', '.', 'Il', 'nous', 'rappelle', 'que', 'les', 'vagues', 'de', 'la', 'vie', 'doivent', 'être', 'naviguées', 'avec', 'courage', 'et', 'que', 'le', 'bonheur', 'est', 'souvent', 'le', 'fruit', 'de', 'notre', 'capacité', 'à', 'ne', 'pas', 'vouloir', 'contrôler', 'ce', 'qui', 'échappe', 'à', 'notre', 'contrôle', '.', 'Enfin', ',', 'Montaigne', ',', 'avec', 'son', 'esprit', 'libre', 'et', 'curieux', ',', 'nous', 'a', 'appris', 'que', 'le', 'bonheur', 'réside', 'dans', \"l'appréciation\", 'des', 'joies', 'de', 'la', 'vie', 'quotidienne', ',', 'dans', \"l'acceptation\", 'de', 'soi', 'et', 'dans', 'le', 'courage', \"d'être\", 'authentique', '.', 'Cherchons', 'donc', 'le', 'bonheur', 'non', 'pas', 'comme', 'une', 'terre', 'promise', 'que', \"l'on\", 'conquiert', ',', 'mais', 'comme', 'un', 'jardin', 'que', \"l'on\", 'cultive', 'chaque', 'jour', '.', 'Que', 'chaque', 'pas', 'soit', 'guidé', 'par', \"l'amour\", ',', 'la', 'gratitude', 'et', 'la', 'bienveillance', '.', 'Que', 'chaque', 'regard', 'posé', 'sur', 'le', 'monde', 'soit', 'empreint', 'de', 'merveille', 'et', 'de', 'respect', '.', 'Le', 'bonheur', 'est', 'là', ',', 'dans', \"l'ici\", 'et', 'maintenant', ',', 'dans', 'la', 'pleine', 'conscience', 'de', 'chaque', 'instant', 'vécu', ',', 'dans', \"l'union\", 'paisible', 'de', 'notre', 'esprit', 'avec', 'le', 'cœur', 'battant', 'de', \"l'univers\", '.', 'Vivez', ',', 'aimez', ',', 'riez', 'et', 'trouvez', 'votre', 'bonheur', 'dans', 'cette', 'merveilleuse', 'aventure', \"qu'est\", 'la', 'vie', '.', 'Aristote', 'nous', 'disait', 'que', 'le', 'bonheur', 'est', \"l'activité\", 'de', \"l'âme\", 'conforme', 'à', 'la', 'vertu', '.', 'Il', 'voyait', 'le', 'bonheur', 'non', 'comme', 'un', 'état', 'passif', ',', 'mais', 'comme', 'une', 'activité', 'pleine', 'et', 'engagée', 'dans', 'la', 'poursuite', 'du', 'bien', 'et', 'de', 'la', 'vertu', '.', 'Pour', 'lui', ',', 'le', 'bonheur', 'était', \"l'aboutissement\", \"d'une\", 'vie', 'de', 'pratique', 'et', 'de', 'réflexion', ',', 'un', 'point', 'culminant', 'de', \"l'excellence\", 'humaine', 'et', 'de', 'la', 'réalisation', 'de', 'soi', '.', 'Pascal', ',', 'avec', 'sa', 'profondeur', 'et', 'sa', 'perspicacité', ',', 'a', 'considéré', 'le', 'bonheur', 'comme', 'un', 'état', 'insaisissable', 'et', 'éphémère', '.', 'Il', 'croyait', 'que', 'le', 'vrai', 'bonheur', 'ne', 'pouvait', 'être', 'trouvé', 'que', 'dans', 'la', 'recherche', 'de', \"l'infini\", ',', 'dans', 'la', 'quête', \"d'une\", 'transcendance', 'qui', 'dépasse', 'les', 'plaisirs', 'et', 'les', 'peines', 'de', 'ce', 'monde', '.', 'Pour', 'Pascal', ',', 'le', 'bonheur', 'résidait', 'dans', 'la', 'foi', 'et', 'dans', 'la', 'lutte', 'intérieure', 'vers', 'une', 'compréhension', 'plus', 'profonde', 'de', \"l'existence\", '.', 'Nietzsche', ',', \"d'autre\", 'part', ',', 'a', 'contesté', 'les', 'idées', 'traditionnelles', 'sur', 'le', 'bonheur', '.', 'Il', 'a', 'proclamé', 'que', 'le', 'bonheur', \"n'était\", 'pas', 'le', 'produit', 'de', 'la', 'conformité', 'ou', 'du', 'confort', ',', 'mais', 'plutôt', 'le', 'résultat', 'de', \"l'acceptation\", 'et', 'de', \"l'affirmation\", 'de', 'la', 'vie', 'dans', 'toute', 'sa', 'complexité', '.', 'Pour', 'lui', ',', 'le', 'bonheur', 'était', 'intimement', 'lié', 'à', 'la', 'volonté', 'de', 'puissance', ',', 'à', \"l'aspiration\", 'de', \"l'individu\", 'à', 'surmonter', 'les', 'défis', 'et', 'à', 'forger', 'son', 'propre', 'chemin', 'dans', 'la', 'vie', '.', 'Kierkegaard', 'a', 'exploré', 'le', 'bonheur', 'à', 'travers', 'le', 'prisme', 'de', \"l'existence\", 'individuelle', 'et', 'de', 'la', 'subjectivité', '.', 'Il', 'a', 'soutenu', 'que', 'le', 'bonheur', 'dépend', 'de', 'la', 'capacité', 'de', \"l'individu\", 'à', 'se', 'comprendre', 'soi-même', ',', 'à', 'faire', 'des', 'choix', 'authentiques', 'et', 'à', 'embrasser', 'pleinement', 'son', 'existence', 'unique', '.', 'Pour', 'Kierkegaard', ',', 'le', 'bonheur', 'était', 'profondément', 'personnel', 'et', 'inextricablement', 'lié', 'à', 'la', 'quête', 'de', 'sens', 'et', 'de', 'vérité', 'dans', 'la', 'vie', \"d'une\", 'personne', '.', 'Rumi', ',', 'le', 'poète', 'soufi', ',', 'a', 'vu', 'le', 'bonheur', 'comme', 'une', 'union', 'avec', 'le', 'divin', ',', 'une', 'immersion', 'dans', \"l'amour\", 'et', 'la', 'spiritualité', '.', 'Il', 'a', 'parlé', 'du', 'bonheur', 'comme', \"d'un\", 'voyage', 'vers', \"l'intérieur\", ',', 'une', 'quête', 'pour', 'découvrir', 'la', 'lumière', 'et', 'la', 'vérité', 'qui', 'résident', 'au', 'cœur', 'de', 'chaque', 'être', '.', 'Pour', 'Rumi', ',', 'le', 'bonheur', 'était', 'une', 'expérience', 'de', \"l'extase\", 'et', 'de', 'la', 'connexion', 'profonde', 'avec', 'le', 'tout', '.', 'Emerson', ',', 'dans', 'ses', 'réflexions', 'sur', 'la', 'nature', 'et', \"l'âme\", 'humaine', ',', 'a', 'suggéré', 'que', 'le', 'bonheur', 'réside', 'dans', \"l'harmonie\", 'avec', 'le', 'monde', 'naturel', 'et', 'dans', \"l'expression\", 'authentique', 'de', 'soi', '.', 'Il', 'a', 'encouragé', 'une', 'approche', 'de', 'la', 'vie', 'qui', 'embrasse', \"l'individualité\", ',', 'la', 'créativité', 'et', 'un', 'lien', 'profond', 'avec', 'le', 'monde', 'naturel', 'comme', 'sources', 'de', 'bonheur', 'et', \"d'épanouissement\", '.', 'Thoreau', ',', 'dans', 'sa', 'vie', 'simple', 'à', 'Walden', ',', 'a', 'cherché', 'le', 'bonheur', 'dans', 'la', 'simplicité', 'et', \"l'autosuffisance\", '.', 'Il', 'a', 'vu', 'le', 'bonheur', 'comme', 'quelque', 'chose', 'qui', 'vient', 'de', 'vivre', 'intentionnellement', ',', 'en', 'harmonie', 'avec', 'la', 'nature', 'et', 'en', 'accord', 'avec', 'ses', 'propres', 'convictions', 'et', 'valeurs', '.', 'Camus', ',', 'avec', 'sa', 'philosophie', 'de', \"l'absurde\", ',', 'a', 'considéré', 'le', 'bonheur', 'comme', 'une', 'révolte', 'contre', \"l'absurdité\", 'de', \"l'existence\", '.', 'Il', 'a', 'suggéré', 'que', 'trouver', 'le', 'bonheur', 'nécessite', 'une', 'acceptation', 'de', \"l'absurde\", 'tout', 'en', 'se', 'révoltant', 'contre', 'lui', 'par', 'la', 'recherche', 'de', 'sens', ',', 'de', 'passion', 'et', 'de', 'beauté', 'dans', 'la', 'vie', '.', 'Tagore', ',', 'le', 'poète', 'et', 'philosophe', 'indien', ',', 'a', 'parlé', 'du', 'bonheur', 'comme', \"d'une\", 'communion', 'avec', \"l'univers\", ',', 'une', 'célébration', 'de', 'la', 'beauté', 'et', 'de', 'la', 'diversité', 'de', 'la', 'vie', '.', 'Il', 'a', 'vu', 'le', 'bonheur', 'comme', 'un', 'état', \"d'émerveillement\", 'et', \"d'appréciation\", 'pour', 'la', 'richesse', 'de', \"l'existence\", '.', 'Lao', 'Tseu', ',', 'dans', 'son', 'enseignement', 'taoïste', ',', 'a', 'vu', 'le', 'bonheur', 'comme', 'une', 'question', 'de', 'vivre', 'en', 'harmonie', 'avec', 'le', 'Tao', ',', 'le', 'chemin', 'naturel', 'des', 'choses', '.', 'Pour', 'lui', ',', 'le', 'bonheur', 'vient', 'de', \"l'acceptation\", ',', 'de', 'la', 'simplicité', 'et', 'de', \"l'alignement\", 'avec', 'le', 'flux', 'naturel', 'de', 'la', 'vie', '.', 'Confucius', 'a', 'souligné', \"l'importance\", 'de', \"l'harmonie\", 'sociale', ',', 'de', 'la', 'moralité', 'et', 'du', 'devoir', 'comme', 'chemins', 'vers', 'le', 'bonheur', '.', 'Pour', 'lui', ',', 'le', 'bonheur', 'était', 'lié', 'à', 'la', 'réalisation', 'de', 'soi', 'dans', 'le', 'contexte', 'de', 'relations', 'saines', 'et', \"d'une\", 'société', 'juste', '.', 'Baudelaire', ',', 'dans', 'ses', 'poèmes', ',', 'a', 'exploré', 'le', 'bonheur', 'dans', 'les', 'plaisirs', 'fugaces', 'et', 'les', 'beautés', 'cachées', 'du', 'monde', '.', 'Il', 'a', 'vu', 'le', 'bonheur', 'dans', 'les', 'moments', 'de', 'révélation', 'et', 'de', 'beauté', 'qui', 'émergent', 'même', 'dans', 'les', 'aspects', 'les', 'plus', 'sombres', 'de', \"l'existence\", '.', 'Gandhi', ',', 'dans', 'sa', 'quête', 'de', 'vérité', 'et', 'de', 'justice', ',', 'a', 'vu', 'le', 'bonheur', 'comme', 'inséparable', 'de', 'la', 'vie', 'de', 'service', 'et', 'de', 'dévouement', 'aux', 'autres', '.', 'Pour', 'lui', ',', 'le', 'bonheur', 'venait', 'de', 'vivre', 'en', 'accord', 'avec', 'des', 'principes', 'moraux', 'élevés', 'et', 'de', 'travailler', 'pour', 'le', 'bien-être', 'des', 'autres', '.', 'Schopenhauer', ',', 'avec', 'son', 'pessimisme', 'philosophique', ',', 'a', 'vu', 'le', 'bonheur', 'comme', 'un', 'idéal', 'souvent', 'inaccessible', ',', 'compte', 'tenu', 'de', 'la', 'nature', 'souffrante', 'de', 'la', 'vie', '.', 'Néanmoins', ',', 'il', 'a', 'suggéré', 'que', 'le', 'bonheur', ',', 'dans', 'la', 'mesure', 'où', 'il', 'peut', 'être', 'atteint', ',', 'vient', 'de', 'la', 'contemplation', 'esthétique', ',', 'de', 'la', 'compassion', 'et', 'de', 'la', 'modération', 'des', 'désirs', '.'] \n",
      "\n",
      "\n",
      " stop_words:\n",
      "{'sont', 'd', 'ayez', 'les', 'étiez', 'fusse', 'votre', 'étantes', 'c', 'qui', 'soit', 'aurons', 'eurent', 'que', 'eussions', 'mais', 'soient', 'lui', 'sera', 'sa', 'notre', 'avions', 'nos', 'étant', 'soyons', 'au', 'serions', 'ces', 'eusse', 'seraient', 'elle', 'sois', 'eût', 'aurai', 'eûmes', 'eussiez', 'avons', 'aurais', 'ou', 'ce', 'étée', 'te', 'pour', 'eux', 'y', 'aient', 'n', 'ayants', 'de', 'vous', 'auras', 'même', 'furent', 'tes', 'avais', 'ses', 'aies', 'm', 'sur', 'sommes', 'ne', 'fussiez', 'dans', 'étées', 'tu', 'serait', 'un', 'soyez', 'ai', 'eue', 'auriez', 'eûtes', 'aux', 'moi', 'ton', 'fûtes', 'mes', 'ils', 'son', 'aviez', 'étais', 'ayant', 'est', 'eus', 'avait', 's', 'ta', 'fus', 'serai', 'j', 'avez', 'fussent', 'je', 'la', 'on', 'il', 'fussions', 'es', 'mon', 'étante', 'et', 'fût', 'aura', 'serons', 'eusses', 'ayante', 'aurait', 'le', 'vos', 'étions', 'ayons', 'auraient', 'aurez', 'était', 'eut', 'aie', 't', 'toi', 'eues', 'seriez', 'une', 'à', 'eussent', 'eu', 'étés', 'du', 'êtes', 'fut', 'ait', 'qu', 'seras', 'seront', 'en', 'étants', 'auront', 'se', 'fûmes', 'avec', 'ont', 'serais', 'l', 'étaient', 'ayantes', 'nous', 'été', 'aurions', 'ma', 'as', 'me', 'par', 'leur', 'fusses', 'des', 'serez', 'avaient', 'suis', 'pas'} \n",
      "\n",
      "\n",
      " freq:\n",
      "Counter({',': 79, 'de': 79, 'la': 58, 'le': 54, 'et': 49, '.': 47, 'bonheur': 43, 'dans': 33, 'a': 27, 'avec': 17, 'à': 17, 'que': 16, 'comme': 16, 'vie': 14, 'une': 13, 'les': 12, 'Il': 12, 'un': 11, 'des': 10, 'Pour': 8, 'du': 7, 'lui': 7, 'qui': 7, 'vu': 7, \"l'existence\": 6, 'pas': 6, 'son': 6, 'en': 6, \"d'une\": 6, 'sa': 6, 'est': 5, 'mais': 5, 'nous': 5, 'soi': 5, 'chaque': 5, 'monde': 5, 'était': 5, 'ce': 4, 'vers': 4, 'sur': 4, 'on': 4, 'ses': 4, 'plaisirs': 4, \"l'acceptation\": 4, 'être': 4, 'quête': 4, 'naturel': 4, 'Le': 3, \"l'harmonie\": 3, 'chemin': 3, 'par': 3, 'se': 3, \"l'âme\": 3, 'vertu': 3, 'notre': 3, 'état': 3, 'lié': 3, 'vérité': 3, 'pour': 3, 'nature': 3, 'suggéré': 3, 'vient': 3, 'vivre': 3, 'beauté': 3, 'lequel': 2, '?': 2, \"n'est\": 2, 'ou': 2, 'plutôt': 2, 'moments': 2, 'désirs': 2, 'joies': 2, 'souligné': 2, \"l'importance\": 2, \"d'un\": 2, 'modération': 2, 'courage': 2, 'souvent': 2, 'capacité': 2, 'ne': 2, 'esprit': 2, 'réside': 2, 'authentique': 2, 'non': 2, \"l'on\": 2, 'Que': 2, 'soit': 2, \"l'amour\": 2, 'pleine': 2, 'cœur': 2, \"l'univers\": 2, 'humaine': 2, 'réalisation': 2, 'Pascal': 2, 'considéré': 2, 'recherche': 2, 'plus': 2, 'profonde': 2, \"l'individu\": 2, 'Kierkegaard': 2, 'exploré': 2, 'sens': 2, 'Rumi': 2, 'poète': 2, 'parlé': 2, 'tout': 2, 'simplicité': 2, 'harmonie': 2, 'accord': 2, \"l'absurde\": 2, 'contre': 2, 'autres': 2, 'il': 2, 'mes': 1, 'chers': 1, 'amis': 1, 'phare': 1, 'éternel': 1, 'toutes': 1, 'âmes': 1, 'naviguent': 1, 'espoir': 1, 'Mais': 1, \"qu'est-ce\": 1, 'sinon': 1, 'entre': 1, \"l'homme\": 1, \"qu'il\": 1, 'mène': 1, 'Ce': 1, 'lieu': 1, 'lointain': 1, 'sommet': 1, 'atteindre': 1, 'marche': 1, 'ensemble': 1, 'petits': 1, 'suite': 1, 'respirations': 1, 'conscientes': 1, 'Socrate': 1, 'humilité': 1, 'enseigné': 1, 'connaissance': 1, 'clé': 1, 'sagesse': 1, 'extension': 1, 'Car': 1, 'connaissant': 1, 'comprend': 1, 'mieux': 1, 'distingue': 1, 'éphémères': 1, 'durables': 1, 'Épicure': 1, 'quant': 1, 'simples': 1, ':': 1, 'chant': 1, 'oiseaux': 1, 'douceur': 1, 'brise': 1, 'compagnie': 1, 'bon': 1, 'ami': 1, 'invités': 1, 'chercher': 1, 'liberté': 1, 'tourments': 1, 'Et': 1, 'dire': 1, 'Sénèque': 1, 'stoïcien': 1, 'prôné': 1, 'patience': 1, \"l'absence\": 1, 'souffrance': 1, 'façon': 1, 'dont': 1, 'y': 1, 'fait': 1, 'face': 1, 'rappelle': 1, 'vagues': 1, 'doivent': 1, 'naviguées': 1, 'fruit': 1, 'vouloir': 1, 'contrôler': 1, 'échappe': 1, 'contrôle': 1, 'Enfin': 1, 'Montaigne': 1, 'libre': 1, 'curieux': 1, 'appris': 1, \"l'appréciation\": 1, 'quotidienne': 1, \"d'être\": 1, 'Cherchons': 1, 'donc': 1, 'terre': 1, 'promise': 1, 'conquiert': 1, 'jardin': 1, 'cultive': 1, 'jour': 1, 'guidé': 1, 'gratitude': 1, 'bienveillance': 1, 'regard': 1, 'posé': 1, 'empreint': 1, 'merveille': 1, 'respect': 1, 'là': 1, \"l'ici\": 1, 'maintenant': 1, 'conscience': 1, 'instant': 1, 'vécu': 1, \"l'union\": 1, 'paisible': 1, 'battant': 1, 'Vivez': 1, 'aimez': 1, 'riez': 1, 'trouvez': 1, 'votre': 1, 'cette': 1, 'merveilleuse': 1, 'aventure': 1, \"qu'est\": 1, 'Aristote': 1, 'disait': 1, \"l'activité\": 1, 'conforme': 1, 'voyait': 1, 'passif': 1, 'activité': 1, 'engagée': 1, 'poursuite': 1, 'bien': 1, \"l'aboutissement\": 1, 'pratique': 1, 'réflexion': 1, 'point': 1, 'culminant': 1, \"l'excellence\": 1, 'profondeur': 1, 'perspicacité': 1, 'insaisissable': 1, 'éphémère': 1, 'croyait': 1, 'vrai': 1, 'pouvait': 1, 'trouvé': 1, \"l'infini\": 1, 'transcendance': 1, 'dépasse': 1, 'peines': 1, 'résidait': 1, 'foi': 1, 'lutte': 1, 'intérieure': 1, 'compréhension': 1, 'Nietzsche': 1, \"d'autre\": 1, 'part': 1, 'contesté': 1, 'idées': 1, 'traditionnelles': 1, 'proclamé': 1, \"n'était\": 1, 'produit': 1, 'conformité': 1, 'confort': 1, 'résultat': 1, \"l'affirmation\": 1, 'toute': 1, 'complexité': 1, 'intimement': 1, 'volonté': 1, 'puissance': 1, \"l'aspiration\": 1, 'surmonter': 1, 'défis': 1, 'forger': 1, 'propre': 1, 'travers': 1, 'prisme': 1, 'individuelle': 1, 'subjectivité': 1, 'soutenu': 1, 'dépend': 1, 'comprendre': 1, 'soi-même': 1, 'faire': 1, 'choix': 1, 'authentiques': 1, 'embrasser': 1, 'pleinement': 1, 'existence': 1, 'unique': 1, 'profondément': 1, 'personnel': 1, 'inextricablement': 1, 'personne': 1, 'soufi': 1, 'union': 1, 'divin': 1, 'immersion': 1, 'spiritualité': 1, 'voyage': 1, \"l'intérieur\": 1, 'découvrir': 1, 'lumière': 1, 'résident': 1, 'au': 1, 'expérience': 1, \"l'extase\": 1, 'connexion': 1, 'Emerson': 1, 'réflexions': 1, \"l'expression\": 1, 'encouragé': 1, 'approche': 1, 'embrasse': 1, \"l'individualité\": 1, 'créativité': 1, 'lien': 1, 'profond': 1, 'sources': 1, \"d'épanouissement\": 1, 'Thoreau': 1, 'simple': 1, 'Walden': 1, 'cherché': 1, \"l'autosuffisance\": 1, 'quelque': 1, 'chose': 1, 'intentionnellement': 1, 'propres': 1, 'convictions': 1, 'valeurs': 1, 'Camus': 1, 'philosophie': 1, 'révolte': 1, \"l'absurdité\": 1, 'trouver': 1, 'nécessite': 1, 'acceptation': 1, 'révoltant': 1, 'passion': 1, 'Tagore': 1, 'philosophe': 1, 'indien': 1, 'communion': 1, 'célébration': 1, 'diversité': 1, \"d'émerveillement\": 1, \"d'appréciation\": 1, 'richesse': 1, 'Lao': 1, 'Tseu': 1, 'enseignement': 1, 'taoïste': 1, 'question': 1, 'Tao': 1, 'choses': 1, \"l'alignement\": 1, 'flux': 1, 'Confucius': 1, 'sociale': 1, 'moralité': 1, 'devoir': 1, 'chemins': 1, 'contexte': 1, 'relations': 1, 'saines': 1, 'société': 1, 'juste': 1, 'Baudelaire': 1, 'poèmes': 1, 'fugaces': 1, 'beautés': 1, 'cachées': 1, 'révélation': 1, 'émergent': 1, 'même': 1, 'aspects': 1, 'sombres': 1, 'Gandhi': 1, 'justice': 1, 'inséparable': 1, 'service': 1, 'dévouement': 1, 'aux': 1, 'venait': 1, 'principes': 1, 'moraux': 1, 'élevés': 1, 'travailler': 1, 'bien-être': 1, 'Schopenhauer': 1, 'pessimisme': 1, 'philosophique': 1, 'idéal': 1, 'inaccessible': 1, 'compte': 1, 'tenu': 1, 'souffrante': 1, 'Néanmoins': 1, 'mesure': 1, 'où': 1, 'peut': 1, 'atteint': 1, 'contemplation': 1, 'esthétique': 1, 'compassion': 1})\n",
      "\n",
      " mots:\n",
      "420 \n",
      "\n",
      "\n",
      " mots:\n",
      "['Le', 'bonheur', ',', 'mes', 'chers', 'amis', 'est', 'ce', 'phare', 'éternel', 'vers', 'lequel', 'toutes', 'les', 'âmes', 'naviguent', 'avec', 'espoir', '.', 'Mais', \"qu'est-ce\", 'que', 'le', 'sinon', \"l'harmonie\", 'entre', \"l'homme\", 'et', \"l'existence\", \"qu'il\", 'mène', '?', 'Ce', \"n'est\", 'pas', 'un', 'lieu', 'lointain', 'ou', 'sommet', 'à', 'atteindre', 'mais', 'plutôt', 'chemin', 'sur', 'on', 'marche', 'ensemble', 'de', 'petits', 'moments', 'une', 'suite', 'respirations', 'conscientes', 'Socrate', 'dans', 'son', 'humilité', 'nous', 'a', 'enseigné', 'la', 'connaissance', 'soi', 'clé', 'sagesse', 'par', 'extension', 'du', 'Car', 'en', 'se', 'connaissant', 'comprend', 'mieux', 'ses', 'désirs', 'distingue', 'plaisirs', 'éphémères', 'des', 'joies', 'durables', 'Épicure', 'quant', 'lui', 'souligné', \"l'importance\", 'simples', ':', 'chant', 'oiseaux', 'douceur', \"d'une\", 'brise', 'compagnie', \"d'un\", 'bon', 'ami', 'Il', 'invités', 'chercher', 'modération', 'liberté', 'tourments', \"l'âme\", 'Et', 'dire', 'Sénèque', 'stoïcien', 'qui', 'prôné', 'vertu', 'patience', \"l'acceptation\", \"l'absence\", 'souffrance', 'façon', 'dont', 'y', 'fait', 'face', 'rappelle', 'vagues', 'vie', 'doivent', 'être', 'naviguées', 'courage', 'souvent', 'fruit', 'notre', 'capacité', 'ne', 'vouloir', 'contrôler', 'échappe', 'contrôle', 'Enfin', 'Montaigne', 'esprit', 'libre', 'curieux', 'appris', 'réside', \"l'appréciation\", 'quotidienne', \"d'être\", 'authentique', 'Cherchons', 'donc', 'non', 'comme', 'terre', 'promise', \"l'on\", 'conquiert', 'jardin', 'cultive', 'chaque', 'jour', 'Que', 'soit', 'guidé', \"l'amour\", 'gratitude', 'bienveillance', 'regard', 'posé', 'monde', 'empreint', 'merveille', 'respect', 'là', \"l'ici\", 'maintenant', 'pleine', 'conscience', 'instant', 'vécu', \"l'union\", 'paisible', 'cœur', 'battant', \"l'univers\", 'Vivez', 'aimez', 'riez', 'trouvez', 'votre', 'cette', 'merveilleuse', 'aventure', \"qu'est\", 'Aristote', 'disait', \"l'activité\", 'conforme', 'voyait', 'état', 'passif', 'activité', 'engagée', 'poursuite', 'bien', 'Pour', 'était', \"l'aboutissement\", 'pratique', 'réflexion', 'point', 'culminant', \"l'excellence\", 'humaine', 'réalisation', 'Pascal', 'sa', 'profondeur', 'perspicacité', 'considéré', 'insaisissable', 'éphémère', 'croyait', 'vrai', 'pouvait', 'trouvé', 'recherche', \"l'infini\", 'quête', 'transcendance', 'dépasse', 'peines', 'résidait', 'foi', 'lutte', 'intérieure', 'compréhension', 'plus', 'profonde', 'Nietzsche', \"d'autre\", 'part', 'contesté', 'idées', 'traditionnelles', 'proclamé', \"n'était\", 'produit', 'conformité', 'confort', 'résultat', \"l'affirmation\", 'toute', 'complexité', 'intimement', 'lié', 'volonté', 'puissance', \"l'aspiration\", \"l'individu\", 'surmonter', 'défis', 'forger', 'propre', 'Kierkegaard', 'exploré', 'travers', 'prisme', 'individuelle', 'subjectivité', 'soutenu', 'dépend', 'comprendre', 'soi-même', 'faire', 'choix', 'authentiques', 'embrasser', 'pleinement', 'existence', 'unique', 'profondément', 'personnel', 'inextricablement', 'sens', 'vérité', 'personne', 'Rumi', 'poète', 'soufi', 'vu', 'union', 'divin', 'immersion', 'spiritualité', 'parlé', 'voyage', \"l'intérieur\", 'pour', 'découvrir', 'lumière', 'résident', 'au', 'expérience', \"l'extase\", 'connexion', 'tout', 'Emerson', 'réflexions', 'nature', 'suggéré', 'naturel', \"l'expression\", 'encouragé', 'approche', 'embrasse', \"l'individualité\", 'créativité', 'lien', 'profond', 'sources', \"d'épanouissement\", 'Thoreau', 'simple', 'Walden', 'cherché', 'simplicité', \"l'autosuffisance\", 'quelque', 'chose', 'vient', 'vivre', 'intentionnellement', 'harmonie', 'accord', 'propres', 'convictions', 'valeurs', 'Camus', 'philosophie', \"l'absurde\", 'révolte', 'contre', \"l'absurdité\", 'trouver', 'nécessite', 'acceptation', 'révoltant', 'passion', 'beauté', 'Tagore', 'philosophe', 'indien', 'communion', 'célébration', 'diversité', \"d'émerveillement\", \"d'appréciation\", 'richesse', 'Lao', 'Tseu', 'enseignement', 'taoïste', 'question', 'Tao', 'choses', \"l'alignement\", 'flux', 'Confucius', 'sociale', 'moralité', 'devoir', 'chemins', 'contexte', 'relations', 'saines', 'société', 'juste', 'Baudelaire', 'poèmes', 'fugaces', 'beautés', 'cachées', 'révélation', 'émergent', 'même', 'aspects', 'sombres', 'Gandhi', 'justice', 'inséparable', 'service', 'dévouement', 'aux', 'autres', 'venait', 'principes', 'moraux', 'élevés', 'travailler', 'bien-être', 'Schopenhauer', 'pessimisme', 'philosophique', 'idéal', 'inaccessible', 'compte', 'tenu', 'souffrante', 'Néanmoins', 'il', 'mesure', 'où', 'peut', 'atteint', 'contemplation', 'esthétique', 'compassion'] \n",
      "\n",
      "\n",
      " frequences:\n",
      "[3, 43, 79, 1, 1, 1, 5, 4, 1, 1, 4, 2, 1, 12, 1, 1, 17, 1, 47, 1, 1, 16, 54, 1, 3, 1, 1, 49, 6, 1, 1, 2, 1, 2, 6, 11, 1, 1, 2, 1, 17, 1, 5, 2, 3, 4, 4, 1, 1, 79, 1, 2, 13, 1, 1, 1, 1, 33, 6, 1, 5, 27, 1, 58, 1, 5, 1, 1, 3, 1, 7, 1, 6, 3, 1, 1, 1, 4, 2, 1, 4, 1, 10, 2, 1, 1, 1, 7, 2, 2, 1, 1, 1, 1, 1, 6, 1, 1, 2, 1, 1, 12, 1, 1, 2, 1, 1, 3, 1, 1, 1, 1, 7, 1, 3, 1, 4, 1, 1, 1, 1, 1, 1, 1, 1, 1, 14, 1, 4, 1, 2, 2, 1, 3, 2, 2, 1, 1, 1, 1, 1, 1, 2, 1, 1, 1, 2, 1, 1, 1, 2, 1, 1, 2, 16, 1, 1, 2, 1, 1, 1, 5, 1, 2, 2, 1, 2, 1, 1, 1, 1, 5, 1, 1, 1, 1, 1, 1, 2, 1, 1, 1, 1, 1, 2, 1, 2, 1, 1, 1, 1, 1, 1, 1, 1, 1, 1, 1, 1, 1, 1, 3, 1, 1, 1, 1, 1, 8, 5, 1, 1, 1, 1, 1, 1, 2, 2, 2, 6, 1, 1, 2, 1, 1, 1, 1, 1, 1, 2, 1, 4, 1, 1, 1, 1, 1, 1, 1, 1, 2, 2, 1, 1, 1, 1, 1, 1, 1, 1, 1, 1, 1, 1, 1, 1, 1, 1, 3, 1, 1, 1, 2, 1, 1, 1, 1, 2, 2, 1, 1, 1, 1, 1, 1, 1, 1, 1, 1, 1, 1, 1, 1, 1, 1, 1, 1, 2, 3, 1, 2, 2, 1, 7, 1, 1, 1, 1, 2, 1, 1, 3, 1, 1, 1, 1, 1, 1, 1, 2, 1, 1, 3, 3, 4, 1, 1, 1, 1, 1, 1, 1, 1, 1, 1, 1, 1, 1, 1, 2, 1, 1, 1, 3, 3, 1, 2, 2, 1, 1, 1, 1, 1, 2, 1, 2, 1, 1, 1, 1, 1, 1, 3, 1, 1, 1, 1, 1, 1, 1, 1, 1, 1, 1, 1, 1, 1, 1, 1, 1, 1, 1, 1, 1, 1, 1, 1, 1, 1, 1, 1, 1, 1, 1, 1, 1, 1, 1, 1, 1, 1, 1, 1, 1, 1, 1, 1, 2, 1, 1, 1, 1, 1, 1, 1, 1, 1, 1, 1, 1, 1, 1, 1, 2, 1, 1, 1, 1, 1, 1, 1] \n",
      "\n"
     ]
    },
    {
     "data": {
      "image/png": "[encoded data removed]",
      "text/plain": [
       "<Figure size 1000x600 with 1 Axes>"
      ]
     },
     "metadata": {},
     "output_type": "display_data"
    }
   ],
   "source": [
    "# Définir le chemin d'accès au fichier\n",
    "from collections import Counter\n",
    "import matplotlib.pyplot as plt\n",
    "import nltk\n",
    "from nltk.corpus import stopwords\n",
    "\n",
    "fichier_to_test = \"./le_bonheur.txt\"\n",
    "print(f\"\\n fichier_to_test :\\n{fichier_to_test} \\n\")\n",
    "\n",
    "# Lire le fichier\n",
    "with open(fichier_to_test, \"r\", encoding=\"utf-8\") as file:\n",
    "    texte = file.read()\n",
    "\n",
    "# Tokenisation par phrase, liste les phrases dans le texte\n",
    "token_phrases = nltk.sent_tokenize(texte)\n",
    "print(f\"\\n token_phrases:\\n{token_phrases} \\n\")\n",
    "\n",
    "# Tokenisation par mots, liste les mots dans le texte\n",
    "tokens_words = nltk.word_tokenize(texte, language=\"french\")\n",
    "print(f\"\\n tokens_words:\\n{tokens_words} \\n\")\n",
    "\n",
    "# Création de la liste des stop words\n",
    "stop_words = set(stopwords.words(\"french\"))\n",
    "print(f\"\\n stop_words:\\n{stop_words} \\n\")\n",
    "\n",
    "# Compter la fréquence des mots\n",
    "freq_tokens_words = Counter(tokens_words)\n",
    "print(f\"\\n freq:\\n{freq_tokens_words}\")\n",
    "\n",
    "# Préparer les données pour le graphique\n",
    "mots = list(freq_tokens_words.keys())\n",
    "frequences = list(freq_tokens_words.values())\n",
    "print(f\"\\n mots:\\n{len(mots)} \\n\")\n",
    "print(f\"\\n mots:\\n{mots} \\n\")\n",
    "print(f\"\\n frequences:\\n{frequences} \\n\")\n",
    "\n",
    "# Créer un graphique en barres\n",
    "plt.figure(figsize=(10, 6))\n",
    "# Affiche les 20 premiers mots pour la lisibilité\n",
    "plt.bar(mots[:20], frequences[:20])\n",
    "plt.xlabel(\"Mots\")\n",
    "plt.ylabel(\"Fréquence\")\n",
    "plt.title(\"Fréquence des mots dans le texte avant suppression des tokens_words\")\n",
    "plt.xticks(rotation=45)\n",
    "plt.show()\n"
   ]
  },
  {
   "cell_type": "code",
   "execution_count": 39,
   "metadata": {},
   "outputs": [
    {
     "name": "stdout",
     "output_type": "stream",
     "text": [
      "\n",
      " Tokens nettoyés:\n",
      "['bonheur', ',', 'chers', 'amis', ',', 'phare', 'éternel', 'vers', 'lequel', 'toutes', 'âmes', 'naviguent', 'espoir', '.', \"qu'\", '-ce', 'bonheur', ',', 'sinon', \"l'\", 'harmonie', 'entre', \"l'\", 'homme', \"l'\", 'existence', \"qu'\", 'mène', '?', \"n'\", 'lieu', 'lointain', 'sommet', 'atteindre', ',', 'plutôt', 'chemin', 'lequel', 'marche', ',', 'ensemble', 'petits', 'moments', ',', 'suite', 'respirations', 'conscientes', '.', '\\n\\n', 'Socrate', ',', 'humilité', ',', 'a', 'enseigné', 'connaissance', 'soi', 'clé', 'sagesse', ',', 'extension', ',', 'bonheur', '.', 'Car', 'connaissant', ',', 'comprend', 'mieux', 'désirs', 'distingue', 'plaisirs', 'éphémères', 'joies', 'durables', '.', '\\n\\n', 'Épicure', ',', 'quant', ',', 'a', 'souligné', \"l'\", 'importance', 'plaisirs', 'simples', ':', 'chant', 'oiseaux', ',', 'douceur', \"d'\", 'brise', ',', 'compagnie', \"d'\", 'bon', 'ami', '.', 'a', 'invités', 'chercher', 'bonheur', 'modération', 'liberté', 'tourments', \"l'\", 'âme', '.', '\\n\\n', 'dire', 'Sénèque', ',', 'stoïcien', 'a', 'prôné', 'vertu', ',', 'patience', \"l'\", 'acceptation', '?', 'bonheur', \"n'\", \"l'\", 'absence', 'souffrance', ',', 'façon', 'dont', 'fait', 'face', '.', 'rappelle', 'vagues', 'vie', 'doivent', 'être', 'naviguées', 'courage', 'bonheur', 'souvent', 'fruit', 'capacité', 'vouloir', 'contrôler', 'échappe', 'contrôle', '.', '\\n\\n', 'Enfin', ',', 'Montaigne', ',', 'esprit', 'libre', 'curieux', ',', 'a', 'appris', 'bonheur', 'réside', \"l'\", 'appréciation', 'joies', 'vie', 'quotidienne', ',', \"l'\", 'acceptation', 'soi', 'courage', \"d'\", 'être', 'authentique', '.', '\\n\\n', 'Cherchons', 'donc', 'bonheur', 'non', 'comme', 'terre', 'promise', \"l'\", 'conquiert', ',', 'comme', 'jardin', \"l'\", 'cultive', 'chaque', 'jour', '.', 'chaque', 'guidé', \"l'\", 'amour', ',', 'gratitude', 'bienveillance', '.', 'chaque', 'regard', 'posé', 'monde', 'empreint', 'merveille', 'respect', '.', 'bonheur', 'là', ',', \"l'\", 'ici', 'maintenant', ',', 'pleine', 'conscience', 'chaque', 'instant', 'vécu', ',', \"l'\", 'union', 'paisible', 'esprit', 'cœur', 'battant', \"l'\", 'univers', '.', '\\n\\n', 'Vivez', ',', 'aimez', ',', 'riez', 'trouvez', 'bonheur', 'cette', 'merveilleuse', 'aventure', \"qu'\", 'vie', '.', '\\n\\n', 'Aristote', 'disait', 'bonheur', \"l'\", 'activité', \"l'\", 'âme', 'conforme', 'vertu', '.', 'voyait', 'bonheur', 'non', 'comme', 'état', 'passif', ',', 'comme', 'activité', 'pleine', 'engagée', 'poursuite', 'bien', 'vertu', '.', ',', 'bonheur', \"l'\", 'aboutissement', \"d'\", 'vie', 'pratique', 'réflexion', ',', 'point', 'culminant', \"l'\", 'excellence', 'humaine', 'réalisation', 'soi', '.', '\\n\\n', 'Pascal', ',', 'profondeur', 'perspicacité', ',', 'a', 'considéré', 'bonheur', 'comme', 'état', 'insaisissable', 'éphémère', '.', 'croyait', 'vrai', 'bonheur', 'pouvait', 'être', 'trouvé', 'recherche', \"l'\", 'infini', ',', 'quête', \"d'\", 'transcendance', 'dépasse', 'plaisirs', 'peines', 'monde', '.', 'Pascal', ',', 'bonheur', 'résidait', 'foi', 'lutte', 'intérieure', 'vers', 'compréhension', 'plus', 'profonde', \"l'\", 'existence', '.', '\\n\\n', 'Nietzsche', ',', \"d'\", 'autre', 'part', ',', 'a', 'contesté', 'idées', 'traditionnelles', 'bonheur', '.', 'a', 'proclamé', 'bonheur', \"n'\", 'produit', 'conformité', 'confort', ',', 'plutôt', 'résultat', \"l'\", 'acceptation', \"l'\", 'affirmation', 'vie', 'toute', 'complexité', '.', ',', 'bonheur', 'intimement', 'lié', 'volonté', 'puissance', ',', \"l'\", 'aspiration', \"l'\", 'individu', 'surmonter', 'défis', 'forger', 'propre', 'chemin', 'vie', '.', '\\n\\n', 'Kierkegaard', 'a', 'exploré', 'bonheur', 'travers', 'prisme', \"l'\", 'existence', 'individuelle', 'subjectivité', '.', 'a', 'soutenu', 'bonheur', 'dépend', 'capacité', \"l'\", 'individu', 'comprendre', 'soi', '-', ',', 'faire', 'choix', 'authentiques', 'embrasser', 'pleinement', 'existence', 'unique', '.', 'Kierkegaard', ',', 'bonheur', 'profondément', 'personnel', 'inextricablement', 'lié', 'quête', 'sens', 'vérité', 'vie', \"d'\", 'personne', '.', '\\n\\n', 'Rumi', ',', 'poète', 'soufi', ',', 'a', 'vu', 'bonheur', 'comme', 'union', 'divin', ',', 'immersion', \"l'\", 'amour', 'spiritualité', '.', 'a', 'parlé', 'bonheur', 'comme', \"d'\", 'voyage', 'vers', \"l'\", 'intérieur', ',', 'quête', 'découvrir', 'lumière', 'vérité', 'résident', 'cœur', 'chaque', 'être', '.', 'Rumi', ',', 'bonheur', 'expérience', \"l'\", 'extase', 'connexion', 'profonde', 'tout', '.', '\\n\\n', 'Emerson', ',', 'réflexions', 'nature', \"l'\", 'âme', 'humaine', ',', 'a', 'suggéré', 'bonheur', 'réside', \"l'\", 'harmonie', 'monde', 'naturel', \"l'\", 'expression', 'authentique', 'soi', '.', 'a', 'encouragé', 'approche', 'vie', 'embrasse', \"l'\", 'individualité', ',', 'créativité', 'lien', 'profond', 'monde', 'naturel', 'comme', 'sources', 'bonheur', \"d'\", 'épanouissement', '.', '\\n\\n', 'Thoreau', ',', 'vie', 'simple', 'Walden', ',', 'a', 'cherché', 'bonheur', 'simplicité', \"l'\", 'autosuffisance', '.', 'a', 'vu', 'bonheur', 'comme', 'quelque', 'chose', 'vient', 'vivre', 'intentionnellement', ',', 'harmonie', 'nature', 'accord', 'propres', 'convictions', 'valeurs', '.', '\\n\\n', 'Camus', ',', 'philosophie', \"l'\", 'absurde', ',', 'a', 'considéré', 'bonheur', 'comme', 'révolte', 'contre', \"l'\", 'absurdité', \"l'\", 'existence', '.', 'a', 'suggéré', 'trouver', 'bonheur', 'nécessite', 'acceptation', \"l'\", 'absurde', 'tout', 'révoltant', 'contre', 'recherche', 'sens', ',', 'passion', 'beauté', 'vie', '.', '\\n\\n', 'Tagore', ',', 'poète', 'philosophe', 'indien', ',', 'a', 'parlé', 'bonheur', 'comme', \"d'\", 'communion', \"l'\", 'univers', ',', 'célébration', 'beauté', 'diversité', 'vie', '.', 'a', 'vu', 'bonheur', 'comme', 'état', \"d'\", 'émerveillement', \"d'\", 'appréciation', 'richesse', \"l'\", 'existence', '.', '\\n\\n', 'Lao', 'Tseu', ',', 'enseignement', 'taoïste', ',', 'a', 'vu', 'bonheur', 'comme', 'question', 'vivre', 'harmonie', 'Tao', ',', 'chemin', 'naturel', 'choses', '.', ',', 'bonheur', 'vient', \"l'\", 'acceptation', ',', 'simplicité', \"l'\", 'alignement', 'flux', 'naturel', 'vie', '.', '\\n\\n', 'Confucius', 'a', 'souligné', \"l'\", 'importance', \"l'\", 'harmonie', 'sociale', ',', 'moralité', 'devoir', 'comme', 'chemins', 'vers', 'bonheur', '.', ',', 'bonheur', 'lié', 'réalisation', 'soi', 'contexte', 'relations', 'saines', \"d'\", 'société', 'juste', '.', '\\n\\n', 'Baudelaire', ',', 'poèmes', ',', 'a', 'exploré', 'bonheur', 'plaisirs', 'fugaces', 'beautés', 'cachées', 'monde', '.', 'a', 'vu', 'bonheur', 'moments', 'révélation', 'beauté', 'émergent', 'aspects', 'plus', 'sombres', \"l'\", 'existence', '.', '\\n\\n', 'Gandhi', ',', 'quête', 'vérité', 'justice', ',', 'a', 'vu', 'bonheur', 'comme', 'inséparable', 'vie', 'service', 'dévouement', 'autres', '.', ',', 'bonheur', 'venait', 'vivre', 'accord', 'principes', 'moraux', 'élevés', 'travailler', 'bien-être', 'autres', '.', '\\n\\n', 'Schopenhauer', ',', 'pessimisme', 'philosophique', ',', 'a', 'vu', 'bonheur', 'comme', 'idéal', 'souvent', 'inaccessible', ',', 'compte', 'tenu', 'nature', 'souffrante', 'vie', '.', 'Néanmoins', ',', 'a', 'suggéré', 'bonheur', ',', 'mesure', 'où', 'peut', 'être', 'atteint', ',', 'vient', 'contemplation', 'esthétique', ',', 'compassion', 'modération', 'désirs', '.'] \n",
      "\n",
      "\n",
      " liste_ponctuation:\n",
      "!\"#$%&'()*+,-./:;<=>?@[\\]^_`{|}~ \n",
      "\n",
      "\n",
      " tokens_clean_ponctuation:\n",
      "['bonheur', '', 'chers', 'amis', '', 'phare', 'éternel', 'vers', 'lequel', 'toutes', 'âmes', 'naviguent', 'espoir', '', 'qu', 'ce', 'bonheur', '', 'sinon', 'l', 'harmonie', 'entre', 'l', 'homme', 'l', 'existence', 'qu', 'mène', '', 'n', 'lieu', 'lointain', 'sommet', 'atteindre', '', 'plutôt', 'chemin', 'lequel', 'marche', '', 'ensemble', 'petits', 'moments', '', 'suite', 'respirations', 'conscientes', '', '\\n\\n', 'Socrate', '', 'humilité', '', 'a', 'enseigné', 'connaissance', 'soi', 'clé', 'sagesse', '', 'extension', '', 'bonheur', '', 'Car', 'connaissant', '', 'comprend', 'mieux', 'désirs', 'distingue', 'plaisirs', 'éphémères', 'joies', 'durables', '', '\\n\\n', 'Épicure', '', 'quant', '', 'a', 'souligné', 'l', 'importance', 'plaisirs', 'simples', '', 'chant', 'oiseaux', '', 'douceur', 'd', 'brise', '', 'compagnie', 'd', 'bon', 'ami', '', 'a', 'invités', 'chercher', 'bonheur', 'modération', 'liberté', 'tourments', 'l', 'âme', '', '\\n\\n', 'dire', 'Sénèque', '', 'stoïcien', 'a', 'prôné', 'vertu', '', 'patience', 'l', 'acceptation', '', 'bonheur', 'n', 'l', 'absence', 'souffrance', '', 'façon', 'dont', 'fait', 'face', '', 'rappelle', 'vagues', 'vie', 'doivent', 'être', 'naviguées', 'courage', 'bonheur', 'souvent', 'fruit', 'capacité', 'vouloir', 'contrôler', 'échappe', 'contrôle', '', '\\n\\n', 'Enfin', '', 'Montaigne', '', 'esprit', 'libre', 'curieux', '', 'a', 'appris', 'bonheur', 'réside', 'l', 'appréciation', 'joies', 'vie', 'quotidienne', '', 'l', 'acceptation', 'soi', 'courage', 'd', 'être', 'authentique', '', '\\n\\n', 'Cherchons', 'donc', 'bonheur', 'non', 'comme', 'terre', 'promise', 'l', 'conquiert', '', 'comme', 'jardin', 'l', 'cultive', 'chaque', 'jour', '', 'chaque', 'guidé', 'l', 'amour', '', 'gratitude', 'bienveillance', '', 'chaque', 'regard', 'posé', 'monde', 'empreint', 'merveille', 'respect', '', 'bonheur', 'là', '', 'l', 'ici', 'maintenant', '', 'pleine', 'conscience', 'chaque', 'instant', 'vécu', '', 'l', 'union', 'paisible', 'esprit', 'cœur', 'battant', 'l', 'univers', '', '\\n\\n', 'Vivez', '', 'aimez', '', 'riez', 'trouvez', 'bonheur', 'cette', 'merveilleuse', 'aventure', 'qu', 'vie', '', '\\n\\n', 'Aristote', 'disait', 'bonheur', 'l', 'activité', 'l', 'âme', 'conforme', 'vertu', '', 'voyait', 'bonheur', 'non', 'comme', 'état', 'passif', '', 'comme', 'activité', 'pleine', 'engagée', 'poursuite', 'bien', 'vertu', '', '', 'bonheur', 'l', 'aboutissement', 'd', 'vie', 'pratique', 'réflexion', '', 'point', 'culminant', 'l', 'excellence', 'humaine', 'réalisation', 'soi', '', '\\n\\n', 'Pascal', '', 'profondeur', 'perspicacité', '', 'a', 'considéré', 'bonheur', 'comme', 'état', 'insaisissable', 'éphémère', '', 'croyait', 'vrai', 'bonheur', 'pouvait', 'être', 'trouvé', 'recherche', 'l', 'infini', '', 'quête', 'd', 'transcendance', 'dépasse', 'plaisirs', 'peines', 'monde', '', 'Pascal', '', 'bonheur', 'résidait', 'foi', 'lutte', 'intérieure', 'vers', 'compréhension', 'plus', 'profonde', 'l', 'existence', '', '\\n\\n', 'Nietzsche', '', 'd', 'autre', 'part', '', 'a', 'contesté', 'idées', 'traditionnelles', 'bonheur', '', 'a', 'proclamé', 'bonheur', 'n', 'produit', 'conformité', 'confort', '', 'plutôt', 'résultat', 'l', 'acceptation', 'l', 'affirmation', 'vie', 'toute', 'complexité', '', '', 'bonheur', 'intimement', 'lié', 'volonté', 'puissance', '', 'l', 'aspiration', 'l', 'individu', 'surmonter', 'défis', 'forger', 'propre', 'chemin', 'vie', '', '\\n\\n', 'Kierkegaard', 'a', 'exploré', 'bonheur', 'travers', 'prisme', 'l', 'existence', 'individuelle', 'subjectivité', '', 'a', 'soutenu', 'bonheur', 'dépend', 'capacité', 'l', 'individu', 'comprendre', 'soi', '', '', 'faire', 'choix', 'authentiques', 'embrasser', 'pleinement', 'existence', 'unique', '', 'Kierkegaard', '', 'bonheur', 'profondément', 'personnel', 'inextricablement', 'lié', 'quête', 'sens', 'vérité', 'vie', 'd', 'personne', '', '\\n\\n', 'Rumi', '', 'poète', 'soufi', '', 'a', 'vu', 'bonheur', 'comme', 'union', 'divin', '', 'immersion', 'l', 'amour', 'spiritualité', '', 'a', 'parlé', 'bonheur', 'comme', 'd', 'voyage', 'vers', 'l', 'intérieur', '', 'quête', 'découvrir', 'lumière', 'vérité', 'résident', 'cœur', 'chaque', 'être', '', 'Rumi', '', 'bonheur', 'expérience', 'l', 'extase', 'connexion', 'profonde', 'tout', '', '\\n\\n', 'Emerson', '', 'réflexions', 'nature', 'l', 'âme', 'humaine', '', 'a', 'suggéré', 'bonheur', 'réside', 'l', 'harmonie', 'monde', 'naturel', 'l', 'expression', 'authentique', 'soi', '', 'a', 'encouragé', 'approche', 'vie', 'embrasse', 'l', 'individualité', '', 'créativité', 'lien', 'profond', 'monde', 'naturel', 'comme', 'sources', 'bonheur', 'd', 'épanouissement', '', '\\n\\n', 'Thoreau', '', 'vie', 'simple', 'Walden', '', 'a', 'cherché', 'bonheur', 'simplicité', 'l', 'autosuffisance', '', 'a', 'vu', 'bonheur', 'comme', 'quelque', 'chose', 'vient', 'vivre', 'intentionnellement', '', 'harmonie', 'nature', 'accord', 'propres', 'convictions', 'valeurs', '', '\\n\\n', 'Camus', '', 'philosophie', 'l', 'absurde', '', 'a', 'considéré', 'bonheur', 'comme', 'révolte', 'contre', 'l', 'absurdité', 'l', 'existence', '', 'a', 'suggéré', 'trouver', 'bonheur', 'nécessite', 'acceptation', 'l', 'absurde', 'tout', 'révoltant', 'contre', 'recherche', 'sens', '', 'passion', 'beauté', 'vie', '', '\\n\\n', 'Tagore', '', 'poète', 'philosophe', 'indien', '', 'a', 'parlé', 'bonheur', 'comme', 'd', 'communion', 'l', 'univers', '', 'célébration', 'beauté', 'diversité', 'vie', '', 'a', 'vu', 'bonheur', 'comme', 'état', 'd', 'émerveillement', 'd', 'appréciation', 'richesse', 'l', 'existence', '', '\\n\\n', 'Lao', 'Tseu', '', 'enseignement', 'taoïste', '', 'a', 'vu', 'bonheur', 'comme', 'question', 'vivre', 'harmonie', 'Tao', '', 'chemin', 'naturel', 'choses', '', '', 'bonheur', 'vient', 'l', 'acceptation', '', 'simplicité', 'l', 'alignement', 'flux', 'naturel', 'vie', '', '\\n\\n', 'Confucius', 'a', 'souligné', 'l', 'importance', 'l', 'harmonie', 'sociale', '', 'moralité', 'devoir', 'comme', 'chemins', 'vers', 'bonheur', '', '', 'bonheur', 'lié', 'réalisation', 'soi', 'contexte', 'relations', 'saines', 'd', 'société', 'juste', '', '\\n\\n', 'Baudelaire', '', 'poèmes', '', 'a', 'exploré', 'bonheur', 'plaisirs', 'fugaces', 'beautés', 'cachées', 'monde', '', 'a', 'vu', 'bonheur', 'moments', 'révélation', 'beauté', 'émergent', 'aspects', 'plus', 'sombres', 'l', 'existence', '', '\\n\\n', 'Gandhi', '', 'quête', 'vérité', 'justice', '', 'a', 'vu', 'bonheur', 'comme', 'inséparable', 'vie', 'service', 'dévouement', 'autres', '', '', 'bonheur', 'venait', 'vivre', 'accord', 'principes', 'moraux', 'élevés', 'travailler', 'bienêtre', 'autres', '', '\\n\\n', 'Schopenhauer', '', 'pessimisme', 'philosophique', '', 'a', 'vu', 'bonheur', 'comme', 'idéal', 'souvent', 'inaccessible', '', 'compte', 'tenu', 'nature', 'souffrante', 'vie', '', 'Néanmoins', '', 'a', 'suggéré', 'bonheur', '', 'mesure', 'où', 'peut', 'être', 'atteint', '', 'vient', 'contemplation', 'esthétique', '', 'compassion', 'modération', 'désirs', ''] \n",
      "\n",
      "\n",
      " tokens_clean_ponctuation_sans_espaces:\n",
      "['bonheur', 'chers', 'amis', 'phare', 'éternel', 'vers', 'lequel', 'toutes', 'âmes', 'naviguent', 'espoir', 'qu', 'ce', 'bonheur', 'sinon', 'harmonie', 'entre', 'homme', 'existence', 'qu', 'mène', 'lieu', 'lointain', 'sommet', 'atteindre', 'plutôt', 'chemin', 'lequel', 'marche', 'ensemble', 'petits', 'moments', 'suite', 'respirations', 'conscientes', '\\n\\n', 'Socrate', 'humilité', 'enseigné', 'connaissance', 'soi', 'clé', 'sagesse', 'extension', 'bonheur', 'Car', 'connaissant', 'comprend', 'mieux', 'désirs', 'distingue', 'plaisirs', 'éphémères', 'joies', 'durables', '\\n\\n', 'Épicure', 'quant', 'souligné', 'importance', 'plaisirs', 'simples', 'chant', 'oiseaux', 'douceur', 'brise', 'compagnie', 'bon', 'ami', 'invités', 'chercher', 'bonheur', 'modération', 'liberté', 'tourments', 'âme', '\\n\\n', 'dire', 'Sénèque', 'stoïcien', 'prôné', 'vertu', 'patience', 'acceptation', 'bonheur', 'absence', 'souffrance', 'façon', 'dont', 'fait', 'face', 'rappelle', 'vagues', 'vie', 'doivent', 'être', 'naviguées', 'courage', 'bonheur', 'souvent', 'fruit', 'capacité', 'vouloir', 'contrôler', 'échappe', 'contrôle', '\\n\\n', 'Enfin', 'Montaigne', 'esprit', 'libre', 'curieux', 'appris', 'bonheur', 'réside', 'appréciation', 'joies', 'vie', 'quotidienne', 'acceptation', 'soi', 'courage', 'être', 'authentique', '\\n\\n', 'Cherchons', 'donc', 'bonheur', 'non', 'comme', 'terre', 'promise', 'conquiert', 'comme', 'jardin', 'cultive', 'chaque', 'jour', 'chaque', 'guidé', 'amour', 'gratitude', 'bienveillance', 'chaque', 'regard', 'posé', 'monde', 'empreint', 'merveille', 'respect', 'bonheur', 'là', 'ici', 'maintenant', 'pleine', 'conscience', 'chaque', 'instant', 'vécu', 'union', 'paisible', 'esprit', 'cœur', 'battant', 'univers', '\\n\\n', 'Vivez', 'aimez', 'riez', 'trouvez', 'bonheur', 'cette', 'merveilleuse', 'aventure', 'qu', 'vie', '\\n\\n', 'Aristote', 'disait', 'bonheur', 'activité', 'âme', 'conforme', 'vertu', 'voyait', 'bonheur', 'non', 'comme', 'état', 'passif', 'comme', 'activité', 'pleine', 'engagée', 'poursuite', 'bien', 'vertu', 'bonheur', 'aboutissement', 'vie', 'pratique', 'réflexion', 'point', 'culminant', 'excellence', 'humaine', 'réalisation', 'soi', '\\n\\n', 'Pascal', 'profondeur', 'perspicacité', 'considéré', 'bonheur', 'comme', 'état', 'insaisissable', 'éphémère', 'croyait', 'vrai', 'bonheur', 'pouvait', 'être', 'trouvé', 'recherche', 'infini', 'quête', 'transcendance', 'dépasse', 'plaisirs', 'peines', 'monde', 'Pascal', 'bonheur', 'résidait', 'foi', 'lutte', 'intérieure', 'vers', 'compréhension', 'plus', 'profonde', 'existence', '\\n\\n', 'Nietzsche', 'autre', 'part', 'contesté', 'idées', 'traditionnelles', 'bonheur', 'proclamé', 'bonheur', 'produit', 'conformité', 'confort', 'plutôt', 'résultat', 'acceptation', 'affirmation', 'vie', 'toute', 'complexité', 'bonheur', 'intimement', 'lié', 'volonté', 'puissance', 'aspiration', 'individu', 'surmonter', 'défis', 'forger', 'propre', 'chemin', 'vie', '\\n\\n', 'Kierkegaard', 'exploré', 'bonheur', 'travers', 'prisme', 'existence', 'individuelle', 'subjectivité', 'soutenu', 'bonheur', 'dépend', 'capacité', 'individu', 'comprendre', 'soi', 'faire', 'choix', 'authentiques', 'embrasser', 'pleinement', 'existence', 'unique', 'Kierkegaard', 'bonheur', 'profondément', 'personnel', 'inextricablement', 'lié', 'quête', 'sens', 'vérité', 'vie', 'personne', '\\n\\n', 'Rumi', 'poète', 'soufi', 'vu', 'bonheur', 'comme', 'union', 'divin', 'immersion', 'amour', 'spiritualité', 'parlé', 'bonheur', 'comme', 'voyage', 'vers', 'intérieur', 'quête', 'découvrir', 'lumière', 'vérité', 'résident', 'cœur', 'chaque', 'être', 'Rumi', 'bonheur', 'expérience', 'extase', 'connexion', 'profonde', 'tout', '\\n\\n', 'Emerson', 'réflexions', 'nature', 'âme', 'humaine', 'suggéré', 'bonheur', 'réside', 'harmonie', 'monde', 'naturel', 'expression', 'authentique', 'soi', 'encouragé', 'approche', 'vie', 'embrasse', 'individualité', 'créativité', 'lien', 'profond', 'monde', 'naturel', 'comme', 'sources', 'bonheur', 'épanouissement', '\\n\\n', 'Thoreau', 'vie', 'simple', 'Walden', 'cherché', 'bonheur', 'simplicité', 'autosuffisance', 'vu', 'bonheur', 'comme', 'quelque', 'chose', 'vient', 'vivre', 'intentionnellement', 'harmonie', 'nature', 'accord', 'propres', 'convictions', 'valeurs', '\\n\\n', 'Camus', 'philosophie', 'absurde', 'considéré', 'bonheur', 'comme', 'révolte', 'contre', 'absurdité', 'existence', 'suggéré', 'trouver', 'bonheur', 'nécessite', 'acceptation', 'absurde', 'tout', 'révoltant', 'contre', 'recherche', 'sens', 'passion', 'beauté', 'vie', '\\n\\n', 'Tagore', 'poète', 'philosophe', 'indien', 'parlé', 'bonheur', 'comme', 'communion', 'univers', 'célébration', 'beauté', 'diversité', 'vie', 'vu', 'bonheur', 'comme', 'état', 'émerveillement', 'appréciation', 'richesse', 'existence', '\\n\\n', 'Lao', 'Tseu', 'enseignement', 'taoïste', 'vu', 'bonheur', 'comme', 'question', 'vivre', 'harmonie', 'Tao', 'chemin', 'naturel', 'choses', 'bonheur', 'vient', 'acceptation', 'simplicité', 'alignement', 'flux', 'naturel', 'vie', '\\n\\n', 'Confucius', 'souligné', 'importance', 'harmonie', 'sociale', 'moralité', 'devoir', 'comme', 'chemins', 'vers', 'bonheur', 'bonheur', 'lié', 'réalisation', 'soi', 'contexte', 'relations', 'saines', 'société', 'juste', '\\n\\n', 'Baudelaire', 'poèmes', 'exploré', 'bonheur', 'plaisirs', 'fugaces', 'beautés', 'cachées', 'monde', 'vu', 'bonheur', 'moments', 'révélation', 'beauté', 'émergent', 'aspects', 'plus', 'sombres', 'existence', '\\n\\n', 'Gandhi', 'quête', 'vérité', 'justice', 'vu', 'bonheur', 'comme', 'inséparable', 'vie', 'service', 'dévouement', 'autres', 'bonheur', 'venait', 'vivre', 'accord', 'principes', 'moraux', 'élevés', 'travailler', 'bienêtre', 'autres', '\\n\\n', 'Schopenhauer', 'pessimisme', 'philosophique', 'vu', 'bonheur', 'comme', 'idéal', 'souvent', 'inaccessible', 'compte', 'tenu', 'nature', 'souffrante', 'vie', 'Néanmoins', 'suggéré', 'bonheur', 'mesure', 'où', 'peut', 'être', 'atteint', 'vient', 'contemplation', 'esthétique', 'compassion', 'modération', 'désirs'] \n",
      "\n",
      "\n",
      " freq:\n",
      "Counter({'bonheur': 43, '\\n\\n': 20, 'comme': 16, 'vie': 14, 'existence': 7, 'vu': 7, 'soi': 6, 'harmonie': 5, 'acceptation': 5, 'être': 5, 'chaque': 5, 'monde': 5, 'vers': 4, 'plaisirs': 4, 'quête': 4, 'naturel': 4, 'qu': 3, 'chemin': 3, 'âme': 3, 'vertu': 3, 'état': 3, 'lié': 3, 'vérité': 3, 'nature': 3, 'suggéré': 3, 'vient': 3, 'vivre': 3, 'beauté': 3, 'lequel': 2, 'plutôt': 2, 'moments': 2, 'désirs': 2, 'joies': 2, 'souligné': 2, 'importance': 2, 'modération': 2, 'courage': 2, 'souvent': 2, 'capacité': 2, 'esprit': 2, 'réside': 2, 'appréciation': 2, 'authentique': 2, 'non': 2, 'amour': 2, 'pleine': 2, 'union': 2, 'cœur': 2, 'univers': 2, 'activité': 2, 'humaine': 2, 'réalisation': 2, 'Pascal': 2, 'considéré': 2, 'recherche': 2, 'plus': 2, 'profonde': 2, 'individu': 2, 'Kierkegaard': 2, 'exploré': 2, 'sens': 2, 'Rumi': 2, 'poète': 2, 'parlé': 2, 'tout': 2, 'simplicité': 2, 'accord': 2, 'absurde': 2, 'contre': 2, 'autres': 2, 'chers': 1, 'amis': 1, 'phare': 1, 'éternel': 1, 'toutes': 1, 'âmes': 1, 'naviguent': 1, 'espoir': 1, 'ce': 1, 'sinon': 1, 'entre': 1, 'homme': 1, 'mène': 1, 'lieu': 1, 'lointain': 1, 'sommet': 1, 'atteindre': 1, 'marche': 1, 'ensemble': 1, 'petits': 1, 'suite': 1, 'respirations': 1, 'conscientes': 1, 'Socrate': 1, 'humilité': 1, 'enseigné': 1, 'connaissance': 1, 'clé': 1, 'sagesse': 1, 'extension': 1, 'Car': 1, 'connaissant': 1, 'comprend': 1, 'mieux': 1, 'distingue': 1, 'éphémères': 1, 'durables': 1, 'Épicure': 1, 'quant': 1, 'simples': 1, 'chant': 1, 'oiseaux': 1, 'douceur': 1, 'brise': 1, 'compagnie': 1, 'bon': 1, 'ami': 1, 'invités': 1, 'chercher': 1, 'liberté': 1, 'tourments': 1, 'dire': 1, 'Sénèque': 1, 'stoïcien': 1, 'prôné': 1, 'patience': 1, 'absence': 1, 'souffrance': 1, 'façon': 1, 'dont': 1, 'fait': 1, 'face': 1, 'rappelle': 1, 'vagues': 1, 'doivent': 1, 'naviguées': 1, 'fruit': 1, 'vouloir': 1, 'contrôler': 1, 'échappe': 1, 'contrôle': 1, 'Enfin': 1, 'Montaigne': 1, 'libre': 1, 'curieux': 1, 'appris': 1, 'quotidienne': 1, 'Cherchons': 1, 'donc': 1, 'terre': 1, 'promise': 1, 'conquiert': 1, 'jardin': 1, 'cultive': 1, 'jour': 1, 'guidé': 1, 'gratitude': 1, 'bienveillance': 1, 'regard': 1, 'posé': 1, 'empreint': 1, 'merveille': 1, 'respect': 1, 'là': 1, 'ici': 1, 'maintenant': 1, 'conscience': 1, 'instant': 1, 'vécu': 1, 'paisible': 1, 'battant': 1, 'Vivez': 1, 'aimez': 1, 'riez': 1, 'trouvez': 1, 'cette': 1, 'merveilleuse': 1, 'aventure': 1, 'Aristote': 1, 'disait': 1, 'conforme': 1, 'voyait': 1, 'passif': 1, 'engagée': 1, 'poursuite': 1, 'bien': 1, 'aboutissement': 1, 'pratique': 1, 'réflexion': 1, 'point': 1, 'culminant': 1, 'excellence': 1, 'profondeur': 1, 'perspicacité': 1, 'insaisissable': 1, 'éphémère': 1, 'croyait': 1, 'vrai': 1, 'pouvait': 1, 'trouvé': 1, 'infini': 1, 'transcendance': 1, 'dépasse': 1, 'peines': 1, 'résidait': 1, 'foi': 1, 'lutte': 1, 'intérieure': 1, 'compréhension': 1, 'Nietzsche': 1, 'autre': 1, 'part': 1, 'contesté': 1, 'idées': 1, 'traditionnelles': 1, 'proclamé': 1, 'produit': 1, 'conformité': 1, 'confort': 1, 'résultat': 1, 'affirmation': 1, 'toute': 1, 'complexité': 1, 'intimement': 1, 'volonté': 1, 'puissance': 1, 'aspiration': 1, 'surmonter': 1, 'défis': 1, 'forger': 1, 'propre': 1, 'travers': 1, 'prisme': 1, 'individuelle': 1, 'subjectivité': 1, 'soutenu': 1, 'dépend': 1, 'comprendre': 1, 'faire': 1, 'choix': 1, 'authentiques': 1, 'embrasser': 1, 'pleinement': 1, 'unique': 1, 'profondément': 1, 'personnel': 1, 'inextricablement': 1, 'personne': 1, 'soufi': 1, 'divin': 1, 'immersion': 1, 'spiritualité': 1, 'voyage': 1, 'intérieur': 1, 'découvrir': 1, 'lumière': 1, 'résident': 1, 'expérience': 1, 'extase': 1, 'connexion': 1, 'Emerson': 1, 'réflexions': 1, 'expression': 1, 'encouragé': 1, 'approche': 1, 'embrasse': 1, 'individualité': 1, 'créativité': 1, 'lien': 1, 'profond': 1, 'sources': 1, 'épanouissement': 1, 'Thoreau': 1, 'simple': 1, 'Walden': 1, 'cherché': 1, 'autosuffisance': 1, 'quelque': 1, 'chose': 1, 'intentionnellement': 1, 'propres': 1, 'convictions': 1, 'valeurs': 1, 'Camus': 1, 'philosophie': 1, 'révolte': 1, 'absurdité': 1, 'trouver': 1, 'nécessite': 1, 'révoltant': 1, 'passion': 1, 'Tagore': 1, 'philosophe': 1, 'indien': 1, 'communion': 1, 'célébration': 1, 'diversité': 1, 'émerveillement': 1, 'richesse': 1, 'Lao': 1, 'Tseu': 1, 'enseignement': 1, 'taoïste': 1, 'question': 1, 'Tao': 1, 'choses': 1, 'alignement': 1, 'flux': 1, 'Confucius': 1, 'sociale': 1, 'moralité': 1, 'devoir': 1, 'chemins': 1, 'contexte': 1, 'relations': 1, 'saines': 1, 'société': 1, 'juste': 1, 'Baudelaire': 1, 'poèmes': 1, 'fugaces': 1, 'beautés': 1, 'cachées': 1, 'révélation': 1, 'émergent': 1, 'aspects': 1, 'sombres': 1, 'Gandhi': 1, 'justice': 1, 'inséparable': 1, 'service': 1, 'dévouement': 1, 'venait': 1, 'principes': 1, 'moraux': 1, 'élevés': 1, 'travailler': 1, 'bienêtre': 1, 'Schopenhauer': 1, 'pessimisme': 1, 'philosophique': 1, 'idéal': 1, 'inaccessible': 1, 'compte': 1, 'tenu': 1, 'souffrante': 1, 'Néanmoins': 1, 'mesure': 1, 'où': 1, 'peut': 1, 'atteint': 1, 'contemplation': 1, 'esthétique': 1, 'compassion': 1}) \n",
      "\n",
      "\n",
      " mots:\n",
      "['bonheur', 'chers', 'amis', 'phare', 'éternel', 'vers', 'lequel', 'toutes', 'âmes', 'naviguent', 'espoir', 'qu', 'ce', 'sinon', 'harmonie', 'entre', 'homme', 'existence', 'mène', 'lieu', 'lointain', 'sommet', 'atteindre', 'plutôt', 'chemin', 'marche', 'ensemble', 'petits', 'moments', 'suite', 'respirations', 'conscientes', '\\n\\n', 'Socrate', 'humilité', 'enseigné', 'connaissance', 'soi', 'clé', 'sagesse', 'extension', 'Car', 'connaissant', 'comprend', 'mieux', 'désirs', 'distingue', 'plaisirs', 'éphémères', 'joies', 'durables', 'Épicure', 'quant', 'souligné', 'importance', 'simples', 'chant', 'oiseaux', 'douceur', 'brise', 'compagnie', 'bon', 'ami', 'invités', 'chercher', 'modération', 'liberté', 'tourments', 'âme', 'dire', 'Sénèque', 'stoïcien', 'prôné', 'vertu', 'patience', 'acceptation', 'absence', 'souffrance', 'façon', 'dont', 'fait', 'face', 'rappelle', 'vagues', 'vie', 'doivent', 'être', 'naviguées', 'courage', 'souvent', 'fruit', 'capacité', 'vouloir', 'contrôler', 'échappe', 'contrôle', 'Enfin', 'Montaigne', 'esprit', 'libre', 'curieux', 'appris', 'réside', 'appréciation', 'quotidienne', 'authentique', 'Cherchons', 'donc', 'non', 'comme', 'terre', 'promise', 'conquiert', 'jardin', 'cultive', 'chaque', 'jour', 'guidé', 'amour', 'gratitude', 'bienveillance', 'regard', 'posé', 'monde', 'empreint', 'merveille', 'respect', 'là', 'ici', 'maintenant', 'pleine', 'conscience', 'instant', 'vécu', 'union', 'paisible', 'cœur', 'battant', 'univers', 'Vivez', 'aimez', 'riez', 'trouvez', 'cette', 'merveilleuse', 'aventure', 'Aristote', 'disait', 'activité', 'conforme', 'voyait', 'état', 'passif', 'engagée', 'poursuite', 'bien', 'aboutissement', 'pratique', 'réflexion', 'point', 'culminant', 'excellence', 'humaine', 'réalisation', 'Pascal', 'profondeur', 'perspicacité', 'considéré', 'insaisissable', 'éphémère', 'croyait', 'vrai', 'pouvait', 'trouvé', 'recherche', 'infini', 'quête', 'transcendance', 'dépasse', 'peines', 'résidait', 'foi', 'lutte', 'intérieure', 'compréhension', 'plus', 'profonde', 'Nietzsche', 'autre', 'part', 'contesté', 'idées', 'traditionnelles', 'proclamé', 'produit', 'conformité', 'confort', 'résultat', 'affirmation', 'toute', 'complexité', 'intimement', 'lié', 'volonté', 'puissance', 'aspiration', 'individu', 'surmonter', 'défis', 'forger', 'propre', 'Kierkegaard', 'exploré', 'travers', 'prisme', 'individuelle', 'subjectivité', 'soutenu', 'dépend', 'comprendre', 'faire', 'choix', 'authentiques', 'embrasser', 'pleinement', 'unique', 'profondément', 'personnel', 'inextricablement', 'sens', 'vérité', 'personne', 'Rumi', 'poète', 'soufi', 'vu', 'divin', 'immersion', 'spiritualité', 'parlé', 'voyage', 'intérieur', 'découvrir', 'lumière', 'résident', 'expérience', 'extase', 'connexion', 'tout', 'Emerson', 'réflexions', 'nature', 'suggéré', 'naturel', 'expression', 'encouragé', 'approche', 'embrasse', 'individualité', 'créativité', 'lien', 'profond', 'sources', 'épanouissement', 'Thoreau', 'simple', 'Walden', 'cherché', 'simplicité', 'autosuffisance', 'quelque', 'chose', 'vient', 'vivre', 'intentionnellement', 'accord', 'propres', 'convictions', 'valeurs', 'Camus', 'philosophie', 'absurde', 'révolte', 'contre', 'absurdité', 'trouver', 'nécessite', 'révoltant', 'passion', 'beauté', 'Tagore', 'philosophe', 'indien', 'communion', 'célébration', 'diversité', 'émerveillement', 'richesse', 'Lao', 'Tseu', 'enseignement', 'taoïste', 'question', 'Tao', 'choses', 'alignement', 'flux', 'Confucius', 'sociale', 'moralité', 'devoir', 'chemins', 'contexte', 'relations', 'saines', 'société', 'juste', 'Baudelaire', 'poèmes', 'fugaces', 'beautés', 'cachées', 'révélation', 'émergent', 'aspects', 'sombres', 'Gandhi', 'justice', 'inséparable', 'service', 'dévouement', 'autres', 'venait', 'principes', 'moraux', 'élevés', 'travailler', 'bienêtre', 'Schopenhauer', 'pessimisme', 'philosophique', 'idéal', 'inaccessible', 'compte', 'tenu', 'souffrante', 'Néanmoins', 'mesure', 'où', 'peut', 'atteint', 'contemplation', 'esthétique', 'compassion'] \n",
      "\n",
      "\n",
      " frequences:\n",
      "[43, 1, 1, 1, 1, 4, 2, 1, 1, 1, 1, 3, 1, 1, 5, 1, 1, 7, 1, 1, 1, 1, 1, 2, 3, 1, 1, 1, 2, 1, 1, 1, 20, 1, 1, 1, 1, 6, 1, 1, 1, 1, 1, 1, 1, 2, 1, 4, 1, 2, 1, 1, 1, 2, 2, 1, 1, 1, 1, 1, 1, 1, 1, 1, 1, 2, 1, 1, 3, 1, 1, 1, 1, 3, 1, 5, 1, 1, 1, 1, 1, 1, 1, 1, 14, 1, 5, 1, 2, 2, 1, 2, 1, 1, 1, 1, 1, 1, 2, 1, 1, 1, 2, 2, 1, 2, 1, 1, 2, 16, 1, 1, 1, 1, 1, 5, 1, 1, 2, 1, 1, 1, 1, 5, 1, 1, 1, 1, 1, 1, 2, 1, 1, 1, 2, 1, 2, 1, 2, 1, 1, 1, 1, 1, 1, 1, 1, 1, 2, 1, 1, 3, 1, 1, 1, 1, 1, 1, 1, 1, 1, 1, 2, 2, 2, 1, 1, 2, 1, 1, 1, 1, 1, 1, 2, 1, 4, 1, 1, 1, 1, 1, 1, 1, 1, 2, 2, 1, 1, 1, 1, 1, 1, 1, 1, 1, 1, 1, 1, 1, 1, 1, 3, 1, 1, 1, 2, 1, 1, 1, 1, 2, 2, 1, 1, 1, 1, 1, 1, 1, 1, 1, 1, 1, 1, 1, 1, 1, 1, 2, 3, 1, 2, 2, 1, 7, 1, 1, 1, 2, 1, 1, 1, 1, 1, 1, 1, 1, 2, 1, 1, 3, 3, 4, 1, 1, 1, 1, 1, 1, 1, 1, 1, 1, 1, 1, 1, 1, 2, 1, 1, 1, 3, 3, 1, 2, 1, 1, 1, 1, 1, 2, 1, 2, 1, 1, 1, 1, 1, 3, 1, 1, 1, 1, 1, 1, 1, 1, 1, 1, 1, 1, 1, 1, 1, 1, 1, 1, 1, 1, 1, 1, 1, 1, 1, 1, 1, 1, 1, 1, 1, 1, 1, 1, 1, 1, 1, 1, 1, 1, 1, 2, 1, 1, 1, 1, 1, 1, 1, 1, 1, 1, 1, 1, 1, 1, 1, 1, 1, 1, 1, 1, 1, 1] \n",
      "\n"
     ]
    },
    {
     "data": {
      "image/png": "[encoded data removed]",
      "text/plain": [
       "<Figure size 1000x600 with 1 Axes>"
      ]
     },
     "metadata": {},
     "output_type": "display_data"
    }
   ],
   "source": [
    "# Nettoyage des mots vides, retire les stops words de la liste des tokens_words\n",
    "import string\n",
    "from collections import Counter\n",
    "\n",
    "import matplotlib.pyplot as plt\n",
    "\n",
    "tokens_clean = [word for word in tokens_words if word.lower()\n",
    "                not in stop_words]\n",
    "# Affiche les 20 premiers mots nettoyés pour vérification\n",
    "print(f\"\\n Tokens nettoyés:\\n{tokens_clean} \\n\")\n",
    "\n",
    "# suppression de la ponctuation avec string_ponctuation\n",
    "# liste des ponctuations\n",
    "# suppression ponctuation\n",
    "liste_ponctuation = string.punctuation\n",
    "\n",
    "print(f\"\\n liste_ponctuation:\\n{liste_ponctuation} \\n\")\n",
    "# liste en comprehension  prend chaque caractére de chaque mot de token_cleans s'il ne sont pas dans la liste des ponctuations, puis recreeé le mot avec le \"\".join\n",
    "tokens_clean_ponctuation = [\n",
    "    \"\".join(charactere for charactere in word if charactere not in liste_ponctuation)\n",
    "    for word in tokens_clean\n",
    "]\n",
    "\n",
    "print(f\"\\n tokens_clean_ponctuation:\\n{tokens_clean_ponctuation} \\n\")\n",
    "# Suppression des espaces de la liste\n",
    "tokens_clean_ponctuation_sans_espaces = [\n",
    "    word for word in tokens_clean_ponctuation if len(word) > 1]\n",
    "\n",
    "# sauve la liste preparée sans ponctuaction ni stop words\n",
    "texte_sans_espaces_ni_ponctuation = pd.DataFrame(\n",
    "    tokens_clean_ponctuation_sans_espaces, columns=[\"tokens\"])\n",
    "texte_sans_espaces_ni_ponctuation.to_csv(\n",
    "    \"texte_sans_espaces_ni_ponctuation.csv\", index=False)\n",
    "\n",
    "\n",
    "print(f\"\\n tokens_clean_ponctuation_sans_espaces:\\n{\n",
    "      tokens_clean_ponctuation_sans_espaces} \\n\")\n",
    "# Compter la fréquence des mots\n",
    "frequence_mots_clean_ponctuation_sans_espaces = Counter(\n",
    "    tokens_clean_ponctuation_sans_espaces)\n",
    "print(f\"\\n freq:\\n{frequence_mots_clean_ponctuation_sans_espaces} \\n\")\n",
    "# Préparer les données pour le graphique\n",
    "frequence_mots = list(frequence_mots_clean_ponctuation_sans_espaces.keys())\n",
    "frequences_valeur = list(\n",
    "    frequence_mots_clean_ponctuation_sans_espaces.values())\n",
    "print(f\"\\n mots:\\n{frequence_mots} \\n\")\n",
    "print(f\"\\n frequences:\\n{frequences_valeur} \\n\")\n",
    "# Créer un graphique en barres\n",
    "plt.figure(figsize=(10, 6))\n",
    "# Affiche les 20 premiers mots pour la lisibilité\n",
    "plt.bar(frequence_mots[:20], frequences_valeur[:20])\n",
    "plt.xlabel(\"Mots\")\n",
    "plt.ylabel(\"Fréquence\")\n",
    "plt.title(\"Fréquence des mots dans le texte après suppression des tokens_words\")\n",
    "plt.xticks(rotation=45)\n",
    "plt.show()\n"
   ]
  },
  {
   "cell_type": "markdown",
   "metadata": {},
   "source": [
    "## Lemmatisation avec Spacy\n",
    "Aprés analyse on remarque que word_tokenize ne gere pas les contractions dse mots francais par ex:\n",
    " \"est-ce qu'il\" donnera \"estce\" et \"quil\"\n",
    " \"l'acceptaion\" donnera \"lacceptaion\"\n",
    " On va donc passer par spacy qui supporte le francais"
   ]
  },
  {
   "cell_type": "code",
   "execution_count": 5,
   "metadata": {},
   "outputs": [],
   "source": [
    "# !pip install spacy\n",
    "# !python -m spacy download fr_core_news_sm\n"
   ]
  },
  {
   "cell_type": "code",
   "execution_count": 45,
   "metadata": {},
   "outputs": [
    {
     "name": "stdout",
     "output_type": "stream",
     "text": [
      "\n",
      " fichier_to_test :\n",
      "./le_bonheur.txt \n",
      "\n",
      "\n",
      " tokens_texte:\n",
      "Le bonheur, mes chers amis, est ce phare éternel vers lequel toutes les âmes naviguent avec espoir. Mais qu'est-ce que le bonheur, sinon l'harmonie entre l'homme et l'existence qu'il mène ? Ce n'est pas un lieu lointain ou un sommet à atteindre, mais plutôt un chemin sur lequel on marche, un ensemble de petits moments, une suite de respirations conscientes.\n",
      "\n",
      "Socrate, dans son humilité, nous a enseigné que la connaissance de soi est la clé de la sagesse et, par extension, du bonheur. Car en se connaissant, on comprend mieux ses désirs et on distingue les plaisirs éphémères des joies durables.\n",
      "\n",
      "Épicure, quant à lui, a souligné l'importance des plaisirs simples : le chant des oiseaux, la douceur d'une brise, la compagnie d'un bon ami. Il nous a invités à chercher le bonheur dans la modération et dans la liberté des tourments de l'âme.\n",
      "\n",
      "Et que dire de Sénèque, ce stoïcien qui a prôné la vertu, la patience et l'acceptation ? Le bonheur n'est pas l'absence de souffrance, mais la façon dont on y fait face. Il nous rappelle que les vagues de la vie doivent être naviguées avec courage et que le bonheur est souvent le fruit de notre capacité à ne pas vouloir contrôler ce qui échappe à notre contrôle.\n",
      "\n",
      "Enfin, Montaigne, avec son esprit libre et curieux, nous a appris que le bonheur réside dans l'appréciation des joies de la vie quotidienne, dans l'acceptation de soi et dans le courage d'être authentique.\n",
      "\n",
      "Cherchons donc le bonheur non pas comme une terre promise que l'on conquiert, mais comme un jardin que l'on cultive chaque jour. Que chaque pas soit guidé par l'amour, la gratitude et la bienveillance. Que chaque regard posé sur le monde soit empreint de merveille et de respect. Le bonheur est là, dans l'ici et maintenant, dans la pleine conscience de chaque instant vécu, dans l'union paisible de notre esprit avec le cœur battant de l'univers.\n",
      "\n",
      "Vivez, aimez, riez et trouvez votre bonheur dans cette merveilleuse aventure qu'est la vie.\n",
      "\n",
      "Aristote nous disait que le bonheur est l'activité de l'âme conforme à la vertu. Il voyait le bonheur non comme un état passif, mais comme une activité pleine et engagée dans la poursuite du bien et de la vertu. Pour lui, le bonheur était l'aboutissement d'une vie de pratique et de réflexion, un point culminant de l'excellence humaine et de la réalisation de soi.\n",
      "\n",
      "Pascal, avec sa profondeur et sa perspicacité, a considéré le bonheur comme un état insaisissable et éphémère. Il croyait que le vrai bonheur ne pouvait être trouvé que dans la recherche de l'infini, dans la quête d'une transcendance qui dépasse les plaisirs et les peines de ce monde. Pour Pascal, le bonheur résidait dans la foi et dans la lutte intérieure vers une compréhension plus profonde de l'existence.\n",
      "\n",
      "Nietzsche, d'autre part, a contesté les idées traditionnelles sur le bonheur. Il a proclamé que le bonheur n'était pas le produit de la conformité ou du confort, mais plutôt le résultat de l'acceptation et de l'affirmation de la vie dans toute sa complexité. Pour lui, le bonheur était intimement lié à la volonté de puissance, à l'aspiration de l'individu à surmonter les défis et à forger son propre chemin dans la vie.\n",
      "\n",
      "Kierkegaard a exploré le bonheur à travers le prisme de l'existence individuelle et de la subjectivité. Il a soutenu que le bonheur dépend de la capacité de l'individu à se comprendre soi-même, à faire des choix authentiques et à embrasser pleinement son existence unique. Pour Kierkegaard, le bonheur était profondément personnel et inextricablement lié à la quête de sens et de vérité dans la vie d'une personne.\n",
      "\n",
      "Rumi, le poète soufi, a vu le bonheur comme une union avec le divin, une immersion dans l'amour et la spiritualité. Il a parlé du bonheur comme d'un voyage vers l'intérieur, une quête pour découvrir la lumière et la vérité qui résident au cœur de chaque être. Pour Rumi, le bonheur était une expérience de l'extase et de la connexion profonde avec le tout.\n",
      "\n",
      "Emerson, dans ses réflexions sur la nature et l'âme humaine, a suggéré que le bonheur réside dans l'harmonie avec le monde naturel et dans l'expression authentique de soi. Il a encouragé une approche de la vie qui embrasse l'individualité, la créativité et un lien profond avec le monde naturel comme sources de bonheur et d'épanouissement.\n",
      "\n",
      "Thoreau, dans sa vie simple à Walden, a cherché le bonheur dans la simplicité et l'autosuffisance. Il a vu le bonheur comme quelque chose qui vient de vivre intentionnellement, en harmonie avec la nature et en accord avec ses propres convictions et valeurs.\n",
      "\n",
      "Camus, avec sa philosophie de l'absurde, a considéré le bonheur comme une révolte contre l'absurdité de l'existence. Il a suggéré que trouver le bonheur nécessite une acceptation de l'absurde tout en se révoltant contre lui par la recherche de sens, de passion et de beauté dans la vie.\n",
      "\n",
      "Tagore, le poète et philosophe indien, a parlé du bonheur comme d'une communion avec l'univers, une célébration de la beauté et de la diversité de la vie. Il a vu le bonheur comme un état d'émerveillement et d'appréciation pour la richesse de l'existence.\n",
      "\n",
      "Lao Tseu, dans son enseignement taoïste, a vu le bonheur comme une question de vivre en harmonie avec le Tao, le chemin naturel des choses. Pour lui, le bonheur vient de l'acceptation, de la simplicité et de l'alignement avec le flux naturel de la vie.\n",
      "\n",
      "Confucius a souligné l'importance de l'harmonie sociale, de la moralité et du devoir comme chemins vers le bonheur. Pour lui, le bonheur était lié à la réalisation de soi dans le contexte de relations saines et d'une société juste.\n",
      "\n",
      "Baudelaire, dans ses poèmes, a exploré le bonheur dans les plaisirs fugaces et les beautés cachées du monde. Il a vu le bonheur dans les moments de révélation et de beauté qui émergent même dans les aspects les plus sombres de l'existence.\n",
      "\n",
      "Gandhi, dans sa quête de vérité et de justice, a vu le bonheur comme inséparable de la vie de service et de dévouement aux autres. Pour lui, le bonheur venait de vivre en accord avec des principes moraux élevés et de travailler pour le bien-être des autres.\n",
      "\n",
      "Schopenhauer, avec son pessimisme philosophique, a vu le bonheur comme un idéal souvent inaccessible, compte tenu de la nature souffrante de la vie. Néanmoins, il a suggéré que le bonheur, dans la mesure où il peut être atteint, vient de la contemplation esthétique, de la compassion et de la modération des désirs. \n",
      "\n",
      "\n",
      " tokens_words:\n",
      "['Le', 'bonheur', ',', 'mes', 'chers', 'amis', ',', 'est', 'ce', 'phare', 'éternel', 'vers', 'lequel', 'toutes', 'les', 'âmes', 'naviguent', 'avec', 'espoir', '.', 'Mais', \"qu'\", 'est', '-ce', 'que', 'le', 'bonheur', ',', 'sinon', \"l'\", 'harmonie', 'entre', \"l'\", 'homme', 'et', \"l'\", 'existence', \"qu'\", 'il', 'mène', '?', 'Ce', \"n'\", 'est', 'pas', 'un', 'lieu', 'lointain', 'ou', 'un', 'sommet', 'à', 'atteindre', ',', 'mais', 'plutôt', 'un', 'chemin', 'sur', 'lequel', 'on', 'marche', ',', 'un', 'ensemble', 'de', 'petits', 'moments', ',', 'une', 'suite', 'de', 'respirations', 'conscientes', '.', '\\n\\n', 'Socrate', ',', 'dans', 'son', 'humilité', ',', 'nous', 'a', 'enseigné', 'que', 'la', 'connaissance', 'de', 'soi', 'est', 'la', 'clé', 'de', 'la', 'sagesse', 'et', ',', 'par', 'extension', ',', 'du', 'bonheur', '.', 'Car', 'en', 'se', 'connaissant', ',', 'on', 'comprend', 'mieux', 'ses', 'désirs', 'et', 'on', 'distingue', 'les', 'plaisirs', 'éphémères', 'des', 'joies', 'durables', '.', '\\n\\n', 'Épicure', ',', 'quant', 'à', 'lui', ',', 'a', 'souligné', \"l'\", 'importance', 'des', 'plaisirs', 'simples', ':', 'le', 'chant', 'des', 'oiseaux', ',', 'la', 'douceur', \"d'\", 'une', 'brise', ',', 'la', 'compagnie', \"d'\", 'un', 'bon', 'ami', '.', 'Il', 'nous', 'a', 'invités', 'à', 'chercher', 'le', 'bonheur', 'dans', 'la', 'modération', 'et', 'dans', 'la', 'liberté', 'des', 'tourments', 'de', \"l'\", 'âme', '.', '\\n\\n', 'Et', 'que', 'dire', 'de', 'Sénèque', ',', 'ce', 'stoïcien', 'qui', 'a', 'prôné', 'la', 'vertu', ',', 'la', 'patience', 'et', \"l'\", 'acceptation', '?', 'Le', 'bonheur', \"n'\", 'est', 'pas', \"l'\", 'absence', 'de', 'souffrance', ',', 'mais', 'la', 'façon', 'dont', 'on', 'y', 'fait', 'face', '.', 'Il', 'nous', 'rappelle', 'que', 'les', 'vagues', 'de', 'la', 'vie', 'doivent', 'être', 'naviguées', 'avec', 'courage', 'et', 'que', 'le', 'bonheur', 'est', 'souvent', 'le', 'fruit', 'de', 'notre', 'capacité', 'à', 'ne', 'pas', 'vouloir', 'contrôler', 'ce', 'qui', 'échappe', 'à', 'notre', 'contrôle', '.', '\\n\\n', 'Enfin', ',', 'Montaigne', ',', 'avec', 'son', 'esprit', 'libre', 'et', 'curieux', ',', 'nous', 'a', 'appris', 'que', 'le', 'bonheur', 'réside', 'dans', \"l'\", 'appréciation', 'des', 'joies', 'de', 'la', 'vie', 'quotidienne', ',', 'dans', \"l'\", 'acceptation', 'de', 'soi', 'et', 'dans', 'le', 'courage', \"d'\", 'être', 'authentique', '.', '\\n\\n', 'Cherchons', 'donc', 'le', 'bonheur', 'non', 'pas', 'comme', 'une', 'terre', 'promise', 'que', \"l'\", 'on', 'conquiert', ',', 'mais', 'comme', 'un', 'jardin', 'que', \"l'\", 'on', 'cultive', 'chaque', 'jour', '.', 'Que', 'chaque', 'pas', 'soit', 'guidé', 'par', \"l'\", 'amour', ',', 'la', 'gratitude', 'et', 'la', 'bienveillance', '.', 'Que', 'chaque', 'regard', 'posé', 'sur', 'le', 'monde', 'soit', 'empreint', 'de', 'merveille', 'et', 'de', 'respect', '.', 'Le', 'bonheur', 'est', 'là', ',', 'dans', \"l'\", 'ici', 'et', 'maintenant', ',', 'dans', 'la', 'pleine', 'conscience', 'de', 'chaque', 'instant', 'vécu', ',', 'dans', \"l'\", 'union', 'paisible', 'de', 'notre', 'esprit', 'avec', 'le', 'cœur', 'battant', 'de', \"l'\", 'univers', '.', '\\n\\n', 'Vivez', ',', 'aimez', ',', 'riez', 'et', 'trouvez', 'votre', 'bonheur', 'dans', 'cette', 'merveilleuse', 'aventure', \"qu'\", 'est', 'la', 'vie', '.', '\\n\\n', 'Aristote', 'nous', 'disait', 'que', 'le', 'bonheur', 'est', \"l'\", 'activité', 'de', \"l'\", 'âme', 'conforme', 'à', 'la', 'vertu', '.', 'Il', 'voyait', 'le', 'bonheur', 'non', 'comme', 'un', 'état', 'passif', ',', 'mais', 'comme', 'une', 'activité', 'pleine', 'et', 'engagée', 'dans', 'la', 'poursuite', 'du', 'bien', 'et', 'de', 'la', 'vertu', '.', 'Pour', 'lui', ',', 'le', 'bonheur', 'était', \"l'\", 'aboutissement', \"d'\", 'une', 'vie', 'de', 'pratique', 'et', 'de', 'réflexion', ',', 'un', 'point', 'culminant', 'de', \"l'\", 'excellence', 'humaine', 'et', 'de', 'la', 'réalisation', 'de', 'soi', '.', '\\n\\n', 'Pascal', ',', 'avec', 'sa', 'profondeur', 'et', 'sa', 'perspicacité', ',', 'a', 'considéré', 'le', 'bonheur', 'comme', 'un', 'état', 'insaisissable', 'et', 'éphémère', '.', 'Il', 'croyait', 'que', 'le', 'vrai', 'bonheur', 'ne', 'pouvait', 'être', 'trouvé', 'que', 'dans', 'la', 'recherche', 'de', \"l'\", 'infini', ',', 'dans', 'la', 'quête', \"d'\", 'une', 'transcendance', 'qui', 'dépasse', 'les', 'plaisirs', 'et', 'les', 'peines', 'de', 'ce', 'monde', '.', 'Pour', 'Pascal', ',', 'le', 'bonheur', 'résidait', 'dans', 'la', 'foi', 'et', 'dans', 'la', 'lutte', 'intérieure', 'vers', 'une', 'compréhension', 'plus', 'profonde', 'de', \"l'\", 'existence', '.', '\\n\\n', 'Nietzsche', ',', \"d'\", 'autre', 'part', ',', 'a', 'contesté', 'les', 'idées', 'traditionnelles', 'sur', 'le', 'bonheur', '.', 'Il', 'a', 'proclamé', 'que', 'le', 'bonheur', \"n'\", 'était', 'pas', 'le', 'produit', 'de', 'la', 'conformité', 'ou', 'du', 'confort', ',', 'mais', 'plutôt', 'le', 'résultat', 'de', \"l'\", 'acceptation', 'et', 'de', \"l'\", 'affirmation', 'de', 'la', 'vie', 'dans', 'toute', 'sa', 'complexité', '.', 'Pour', 'lui', ',', 'le', 'bonheur', 'était', 'intimement', 'lié', 'à', 'la', 'volonté', 'de', 'puissance', ',', 'à', \"l'\", 'aspiration', 'de', \"l'\", 'individu', 'à', 'surmonter', 'les', 'défis', 'et', 'à', 'forger', 'son', 'propre', 'chemin', 'dans', 'la', 'vie', '.', '\\n\\n', 'Kierkegaard', 'a', 'exploré', 'le', 'bonheur', 'à', 'travers', 'le', 'prisme', 'de', \"l'\", 'existence', 'individuelle', 'et', 'de', 'la', 'subjectivité', '.', 'Il', 'a', 'soutenu', 'que', 'le', 'bonheur', 'dépend', 'de', 'la', 'capacité', 'de', \"l'\", 'individu', 'à', 'se', 'comprendre', 'soi', '-', 'même', ',', 'à', 'faire', 'des', 'choix', 'authentiques', 'et', 'à', 'embrasser', 'pleinement', 'son', 'existence', 'unique', '.', 'Pour', 'Kierkegaard', ',', 'le', 'bonheur', 'était', 'profondément', 'personnel', 'et', 'inextricablement', 'lié', 'à', 'la', 'quête', 'de', 'sens', 'et', 'de', 'vérité', 'dans', 'la', 'vie', \"d'\", 'une', 'personne', '.', '\\n\\n', 'Rumi', ',', 'le', 'poète', 'soufi', ',', 'a', 'vu', 'le', 'bonheur', 'comme', 'une', 'union', 'avec', 'le', 'divin', ',', 'une', 'immersion', 'dans', \"l'\", 'amour', 'et', 'la', 'spiritualité', '.', 'Il', 'a', 'parlé', 'du', 'bonheur', 'comme', \"d'\", 'un', 'voyage', 'vers', \"l'\", 'intérieur', ',', 'une', 'quête', 'pour', 'découvrir', 'la', 'lumière', 'et', 'la', 'vérité', 'qui', 'résident', 'au', 'cœur', 'de', 'chaque', 'être', '.', 'Pour', 'Rumi', ',', 'le', 'bonheur', 'était', 'une', 'expérience', 'de', \"l'\", 'extase', 'et', 'de', 'la', 'connexion', 'profonde', 'avec', 'le', 'tout', '.', '\\n\\n', 'Emerson', ',', 'dans', 'ses', 'réflexions', 'sur', 'la', 'nature', 'et', \"l'\", 'âme', 'humaine', ',', 'a', 'suggéré', 'que', 'le', 'bonheur', 'réside', 'dans', \"l'\", 'harmonie', 'avec', 'le', 'monde', 'naturel', 'et', 'dans', \"l'\", 'expression', 'authentique', 'de', 'soi', '.', 'Il', 'a', 'encouragé', 'une', 'approche', 'de', 'la', 'vie', 'qui', 'embrasse', \"l'\", 'individualité', ',', 'la', 'créativité', 'et', 'un', 'lien', 'profond', 'avec', 'le', 'monde', 'naturel', 'comme', 'sources', 'de', 'bonheur', 'et', \"d'\", 'épanouissement', '.', '\\n\\n', 'Thoreau', ',', 'dans', 'sa', 'vie', 'simple', 'à', 'Walden', ',', 'a', 'cherché', 'le', 'bonheur', 'dans', 'la', 'simplicité', 'et', \"l'\", 'autosuffisance', '.', 'Il', 'a', 'vu', 'le', 'bonheur', 'comme', 'quelque', 'chose', 'qui', 'vient', 'de', 'vivre', 'intentionnellement', ',', 'en', 'harmonie', 'avec', 'la', 'nature', 'et', 'en', 'accord', 'avec', 'ses', 'propres', 'convictions', 'et', 'valeurs', '.', '\\n\\n', 'Camus', ',', 'avec', 'sa', 'philosophie', 'de', \"l'\", 'absurde', ',', 'a', 'considéré', 'le', 'bonheur', 'comme', 'une', 'révolte', 'contre', \"l'\", 'absurdité', 'de', \"l'\", 'existence', '.', 'Il', 'a', 'suggéré', 'que', 'trouver', 'le', 'bonheur', 'nécessite', 'une', 'acceptation', 'de', \"l'\", 'absurde', 'tout', 'en', 'se', 'révoltant', 'contre', 'lui', 'par', 'la', 'recherche', 'de', 'sens', ',', 'de', 'passion', 'et', 'de', 'beauté', 'dans', 'la', 'vie', '.', '\\n\\n', 'Tagore', ',', 'le', 'poète', 'et', 'philosophe', 'indien', ',', 'a', 'parlé', 'du', 'bonheur', 'comme', \"d'\", 'une', 'communion', 'avec', \"l'\", 'univers', ',', 'une', 'célébration', 'de', 'la', 'beauté', 'et', 'de', 'la', 'diversité', 'de', 'la', 'vie', '.', 'Il', 'a', 'vu', 'le', 'bonheur', 'comme', 'un', 'état', \"d'\", 'émerveillement', 'et', \"d'\", 'appréciation', 'pour', 'la', 'richesse', 'de', \"l'\", 'existence', '.', '\\n\\n', 'Lao', 'Tseu', ',', 'dans', 'son', 'enseignement', 'taoïste', ',', 'a', 'vu', 'le', 'bonheur', 'comme', 'une', 'question', 'de', 'vivre', 'en', 'harmonie', 'avec', 'le', 'Tao', ',', 'le', 'chemin', 'naturel', 'des', 'choses', '.', 'Pour', 'lui', ',', 'le', 'bonheur', 'vient', 'de', \"l'\", 'acceptation', ',', 'de', 'la', 'simplicité', 'et', 'de', \"l'\", 'alignement', 'avec', 'le', 'flux', 'naturel', 'de', 'la', 'vie', '.', '\\n\\n', 'Confucius', 'a', 'souligné', \"l'\", 'importance', 'de', \"l'\", 'harmonie', 'sociale', ',', 'de', 'la', 'moralité', 'et', 'du', 'devoir', 'comme', 'chemins', 'vers', 'le', 'bonheur', '.', 'Pour', 'lui', ',', 'le', 'bonheur', 'était', 'lié', 'à', 'la', 'réalisation', 'de', 'soi', 'dans', 'le', 'contexte', 'de', 'relations', 'saines', 'et', \"d'\", 'une', 'société', 'juste', '.', '\\n\\n', 'Baudelaire', ',', 'dans', 'ses', 'poèmes', ',', 'a', 'exploré', 'le', 'bonheur', 'dans', 'les', 'plaisirs', 'fugaces', 'et', 'les', 'beautés', 'cachées', 'du', 'monde', '.', 'Il', 'a', 'vu', 'le', 'bonheur', 'dans', 'les', 'moments', 'de', 'révélation', 'et', 'de', 'beauté', 'qui', 'émergent', 'même', 'dans', 'les', 'aspects', 'les', 'plus', 'sombres', 'de', \"l'\", 'existence', '.', '\\n\\n', 'Gandhi', ',', 'dans', 'sa', 'quête', 'de', 'vérité', 'et', 'de', 'justice', ',', 'a', 'vu', 'le', 'bonheur', 'comme', 'inséparable', 'de', 'la', 'vie', 'de', 'service', 'et', 'de', 'dévouement', 'aux', 'autres', '.', 'Pour', 'lui', ',', 'le', 'bonheur', 'venait', 'de', 'vivre', 'en', 'accord', 'avec', 'des', 'principes', 'moraux', 'élevés', 'et', 'de', 'travailler', 'pour', 'le', 'bien-être', 'des', 'autres', '.', '\\n\\n', 'Schopenhauer', ',', 'avec', 'son', 'pessimisme', 'philosophique', ',', 'a', 'vu', 'le', 'bonheur', 'comme', 'un', 'idéal', 'souvent', 'inaccessible', ',', 'compte', 'tenu', 'de', 'la', 'nature', 'souffrante', 'de', 'la', 'vie', '.', 'Néanmoins', ',', 'il', 'a', 'suggéré', 'que', 'le', 'bonheur', ',', 'dans', 'la', 'mesure', 'où', 'il', 'peut', 'être', 'atteint', ',', 'vient', 'de', 'la', 'contemplation', 'esthétique', ',', 'de', 'la', 'compassion', 'et', 'de', 'la', 'modération', 'des', 'désirs', '.'] \n",
      "\n",
      "\n",
      " stop_words:\n",
      "{'sont', 'd', 'ayez', 'les', 'étiez', 'fusse', 'votre', 'étantes', 'c', 'qui', 'soit', 'aurons', 'eurent', 'que', 'eussions', 'mais', 'soient', 'lui', 'sera', 'sa', 'notre', 'avions', 'nos', 'étant', 'soyons', 'au', 'serions', 'ces', 'eusse', 'seraient', 'elle', 'sois', 'eût', 'aurai', 'eûmes', 'eussiez', 'avons', 'aurais', 'ou', 'ce', 'étée', 'te', 'pour', 'eux', 'y', 'aient', 'n', 'ayants', 'de', 'vous', 'auras', 'même', 'furent', 'tes', 'avais', 'ses', 'aies', 'm', 'sur', 'sommes', 'ne', 'fussiez', 'dans', 'étées', 'tu', 'serait', 'un', 'soyez', 'ai', 'eue', 'auriez', 'eûtes', 'aux', 'moi', 'ton', 'fûtes', 'mes', 'ils', 'son', 'aviez', 'étais', 'ayant', 'est', 'eus', 'avait', 's', 'ta', 'fus', 'serai', 'j', 'avez', 'fussent', 'je', 'la', 'on', 'il', 'fussions', 'es', 'mon', 'étante', 'et', 'fût', 'aura', 'serons', 'eusses', 'ayante', 'aurait', 'le', 'vos', 'étions', 'ayons', 'auraient', 'aurez', 'était', 'eut', 'aie', 't', 'toi', 'eues', 'seriez', 'une', 'à', 'eussent', 'eu', 'étés', 'du', 'êtes', 'fut', 'ait', 'qu', 'seras', 'seront', 'en', 'étants', 'auront', 'se', 'fûmes', 'avec', 'ont', 'serais', 'l', 'étaient', 'ayantes', 'nous', 'été', 'aurions', 'ma', 'as', 'me', 'par', 'leur', 'fusses', 'des', 'serez', 'avaient', 'suis', 'pas'} \n",
      "\n",
      "\n",
      " Tokens nettoyés:\n",
      "['bonheur', ',', 'chers', 'amis', ',', 'phare', 'éternel', 'vers', 'lequel', 'toutes', 'âmes', 'naviguent', 'espoir', '.', \"qu'\", '-ce', 'bonheur', ',', 'sinon', \"l'\", 'harmonie', 'entre', \"l'\", 'homme', \"l'\", 'existence', \"qu'\", 'mène', '?', \"n'\", 'lieu', 'lointain', 'sommet', 'atteindre', ',', 'plutôt', 'chemin', 'lequel', 'marche', ',', 'ensemble', 'petits', 'moments', ',', 'suite', 'respirations', 'conscientes', '.', '\\n\\n', 'Socrate', ',', 'humilité', ',', 'a', 'enseigné', 'connaissance', 'soi', 'clé', 'sagesse', ',', 'extension', ',', 'bonheur', '.', 'Car', 'connaissant', ',', 'comprend', 'mieux', 'désirs', 'distingue', 'plaisirs', 'éphémères', 'joies', 'durables', '.', '\\n\\n', 'Épicure', ',', 'quant', ',', 'a', 'souligné', \"l'\", 'importance', 'plaisirs', 'simples', ':', 'chant', 'oiseaux', ',', 'douceur', \"d'\", 'brise', ',', 'compagnie', \"d'\", 'bon', 'ami', '.', 'a', 'invités', 'chercher', 'bonheur', 'modération', 'liberté', 'tourments', \"l'\", 'âme', '.', '\\n\\n', 'dire', 'Sénèque', ',', 'stoïcien', 'a', 'prôné', 'vertu', ',', 'patience', \"l'\", 'acceptation', '?', 'bonheur', \"n'\", \"l'\", 'absence', 'souffrance', ',', 'façon', 'dont', 'fait', 'face', '.', 'rappelle', 'vagues', 'vie', 'doivent', 'être', 'naviguées', 'courage', 'bonheur', 'souvent', 'fruit', 'capacité', 'vouloir', 'contrôler', 'échappe', 'contrôle', '.', '\\n\\n', 'Enfin', ',', 'Montaigne', ',', 'esprit', 'libre', 'curieux', ',', 'a', 'appris', 'bonheur', 'réside', \"l'\", 'appréciation', 'joies', 'vie', 'quotidienne', ',', \"l'\", 'acceptation', 'soi', 'courage', \"d'\", 'être', 'authentique', '.', '\\n\\n', 'Cherchons', 'donc', 'bonheur', 'non', 'comme', 'terre', 'promise', \"l'\", 'conquiert', ',', 'comme', 'jardin', \"l'\", 'cultive', 'chaque', 'jour', '.', 'chaque', 'guidé', \"l'\", 'amour', ',', 'gratitude', 'bienveillance', '.', 'chaque', 'regard', 'posé', 'monde', 'empreint', 'merveille', 'respect', '.', 'bonheur', 'là', ',', \"l'\", 'ici', 'maintenant', ',', 'pleine', 'conscience', 'chaque', 'instant', 'vécu', ',', \"l'\", 'union', 'paisible', 'esprit', 'cœur', 'battant', \"l'\", 'univers', '.', '\\n\\n', 'Vivez', ',', 'aimez', ',', 'riez', 'trouvez', 'bonheur', 'cette', 'merveilleuse', 'aventure', \"qu'\", 'vie', '.', '\\n\\n', 'Aristote', 'disait', 'bonheur', \"l'\", 'activité', \"l'\", 'âme', 'conforme', 'vertu', '.', 'voyait', 'bonheur', 'non', 'comme', 'état', 'passif', ',', 'comme', 'activité', 'pleine', 'engagée', 'poursuite', 'bien', 'vertu', '.', ',', 'bonheur', \"l'\", 'aboutissement', \"d'\", 'vie', 'pratique', 'réflexion', ',', 'point', 'culminant', \"l'\", 'excellence', 'humaine', 'réalisation', 'soi', '.', '\\n\\n', 'Pascal', ',', 'profondeur', 'perspicacité', ',', 'a', 'considéré', 'bonheur', 'comme', 'état', 'insaisissable', 'éphémère', '.', 'croyait', 'vrai', 'bonheur', 'pouvait', 'être', 'trouvé', 'recherche', \"l'\", 'infini', ',', 'quête', \"d'\", 'transcendance', 'dépasse', 'plaisirs', 'peines', 'monde', '.', 'Pascal', ',', 'bonheur', 'résidait', 'foi', 'lutte', 'intérieure', 'vers', 'compréhension', 'plus', 'profonde', \"l'\", 'existence', '.', '\\n\\n', 'Nietzsche', ',', \"d'\", 'autre', 'part', ',', 'a', 'contesté', 'idées', 'traditionnelles', 'bonheur', '.', 'a', 'proclamé', 'bonheur', \"n'\", 'produit', 'conformité', 'confort', ',', 'plutôt', 'résultat', \"l'\", 'acceptation', \"l'\", 'affirmation', 'vie', 'toute', 'complexité', '.', ',', 'bonheur', 'intimement', 'lié', 'volonté', 'puissance', ',', \"l'\", 'aspiration', \"l'\", 'individu', 'surmonter', 'défis', 'forger', 'propre', 'chemin', 'vie', '.', '\\n\\n', 'Kierkegaard', 'a', 'exploré', 'bonheur', 'travers', 'prisme', \"l'\", 'existence', 'individuelle', 'subjectivité', '.', 'a', 'soutenu', 'bonheur', 'dépend', 'capacité', \"l'\", 'individu', 'comprendre', 'soi', '-', ',', 'faire', 'choix', 'authentiques', 'embrasser', 'pleinement', 'existence', 'unique', '.', 'Kierkegaard', ',', 'bonheur', 'profondément', 'personnel', 'inextricablement', 'lié', 'quête', 'sens', 'vérité', 'vie', \"d'\", 'personne', '.', '\\n\\n', 'Rumi', ',', 'poète', 'soufi', ',', 'a', 'vu', 'bonheur', 'comme', 'union', 'divin', ',', 'immersion', \"l'\", 'amour', 'spiritualité', '.', 'a', 'parlé', 'bonheur', 'comme', \"d'\", 'voyage', 'vers', \"l'\", 'intérieur', ',', 'quête', 'découvrir', 'lumière', 'vérité', 'résident', 'cœur', 'chaque', 'être', '.', 'Rumi', ',', 'bonheur', 'expérience', \"l'\", 'extase', 'connexion', 'profonde', 'tout', '.', '\\n\\n', 'Emerson', ',', 'réflexions', 'nature', \"l'\", 'âme', 'humaine', ',', 'a', 'suggéré', 'bonheur', 'réside', \"l'\", 'harmonie', 'monde', 'naturel', \"l'\", 'expression', 'authentique', 'soi', '.', 'a', 'encouragé', 'approche', 'vie', 'embrasse', \"l'\", 'individualité', ',', 'créativité', 'lien', 'profond', 'monde', 'naturel', 'comme', 'sources', 'bonheur', \"d'\", 'épanouissement', '.', '\\n\\n', 'Thoreau', ',', 'vie', 'simple', 'Walden', ',', 'a', 'cherché', 'bonheur', 'simplicité', \"l'\", 'autosuffisance', '.', 'a', 'vu', 'bonheur', 'comme', 'quelque', 'chose', 'vient', 'vivre', 'intentionnellement', ',', 'harmonie', 'nature', 'accord', 'propres', 'convictions', 'valeurs', '.', '\\n\\n', 'Camus', ',', 'philosophie', \"l'\", 'absurde', ',', 'a', 'considéré', 'bonheur', 'comme', 'révolte', 'contre', \"l'\", 'absurdité', \"l'\", 'existence', '.', 'a', 'suggéré', 'trouver', 'bonheur', 'nécessite', 'acceptation', \"l'\", 'absurde', 'tout', 'révoltant', 'contre', 'recherche', 'sens', ',', 'passion', 'beauté', 'vie', '.', '\\n\\n', 'Tagore', ',', 'poète', 'philosophe', 'indien', ',', 'a', 'parlé', 'bonheur', 'comme', \"d'\", 'communion', \"l'\", 'univers', ',', 'célébration', 'beauté', 'diversité', 'vie', '.', 'a', 'vu', 'bonheur', 'comme', 'état', \"d'\", 'émerveillement', \"d'\", 'appréciation', 'richesse', \"l'\", 'existence', '.', '\\n\\n', 'Lao', 'Tseu', ',', 'enseignement', 'taoïste', ',', 'a', 'vu', 'bonheur', 'comme', 'question', 'vivre', 'harmonie', 'Tao', ',', 'chemin', 'naturel', 'choses', '.', ',', 'bonheur', 'vient', \"l'\", 'acceptation', ',', 'simplicité', \"l'\", 'alignement', 'flux', 'naturel', 'vie', '.', '\\n\\n', 'Confucius', 'a', 'souligné', \"l'\", 'importance', \"l'\", 'harmonie', 'sociale', ',', 'moralité', 'devoir', 'comme', 'chemins', 'vers', 'bonheur', '.', ',', 'bonheur', 'lié', 'réalisation', 'soi', 'contexte', 'relations', 'saines', \"d'\", 'société', 'juste', '.', '\\n\\n', 'Baudelaire', ',', 'poèmes', ',', 'a', 'exploré', 'bonheur', 'plaisirs', 'fugaces', 'beautés', 'cachées', 'monde', '.', 'a', 'vu', 'bonheur', 'moments', 'révélation', 'beauté', 'émergent', 'aspects', 'plus', 'sombres', \"l'\", 'existence', '.', '\\n\\n', 'Gandhi', ',', 'quête', 'vérité', 'justice', ',', 'a', 'vu', 'bonheur', 'comme', 'inséparable', 'vie', 'service', 'dévouement', 'autres', '.', ',', 'bonheur', 'venait', 'vivre', 'accord', 'principes', 'moraux', 'élevés', 'travailler', 'bien-être', 'autres', '.', '\\n\\n', 'Schopenhauer', ',', 'pessimisme', 'philosophique', ',', 'a', 'vu', 'bonheur', 'comme', 'idéal', 'souvent', 'inaccessible', ',', 'compte', 'tenu', 'nature', 'souffrante', 'vie', '.', 'Néanmoins', ',', 'a', 'suggéré', 'bonheur', ',', 'mesure', 'où', 'peut', 'être', 'atteint', ',', 'vient', 'contemplation', 'esthétique', ',', 'compassion', 'modération', 'désirs', '.'] \n",
      "\n",
      "\n",
      " liste_ponctuation:\n",
      "!\"#$%&'()*+,-./:;<=>?@[\\]^_`{|}~ \n",
      "\n",
      "\n",
      " tokens_clean_ponctuation:\n",
      "['bonheur', '', 'chers', 'amis', '', 'phare', 'éternel', 'vers', 'lequel', 'toutes', 'âmes', 'naviguent', 'espoir', '', 'qu', 'ce', 'bonheur', '', 'sinon', 'l', 'harmonie', 'entre', 'l', 'homme', 'l', 'existence', 'qu', 'mène', '', 'n', 'lieu', 'lointain', 'sommet', 'atteindre', '', 'plutôt', 'chemin', 'lequel', 'marche', '', 'ensemble', 'petits', 'moments', '', 'suite', 'respirations', 'conscientes', '', '\\n\\n', 'Socrate', '', 'humilité', '', 'a', 'enseigné', 'connaissance', 'soi', 'clé', 'sagesse', '', 'extension', '', 'bonheur', '', 'Car', 'connaissant', '', 'comprend', 'mieux', 'désirs', 'distingue', 'plaisirs', 'éphémères', 'joies', 'durables', '', '\\n\\n', 'Épicure', '', 'quant', '', 'a', 'souligné', 'l', 'importance', 'plaisirs', 'simples', '', 'chant', 'oiseaux', '', 'douceur', 'd', 'brise', '', 'compagnie', 'd', 'bon', 'ami', '', 'a', 'invités', 'chercher', 'bonheur', 'modération', 'liberté', 'tourments', 'l', 'âme', '', '\\n\\n', 'dire', 'Sénèque', '', 'stoïcien', 'a', 'prôné', 'vertu', '', 'patience', 'l', 'acceptation', '', 'bonheur', 'n', 'l', 'absence', 'souffrance', '', 'façon', 'dont', 'fait', 'face', '', 'rappelle', 'vagues', 'vie', 'doivent', 'être', 'naviguées', 'courage', 'bonheur', 'souvent', 'fruit', 'capacité', 'vouloir', 'contrôler', 'échappe', 'contrôle', '', '\\n\\n', 'Enfin', '', 'Montaigne', '', 'esprit', 'libre', 'curieux', '', 'a', 'appris', 'bonheur', 'réside', 'l', 'appréciation', 'joies', 'vie', 'quotidienne', '', 'l', 'acceptation', 'soi', 'courage', 'd', 'être', 'authentique', '', '\\n\\n', 'Cherchons', 'donc', 'bonheur', 'non', 'comme', 'terre', 'promise', 'l', 'conquiert', '', 'comme', 'jardin', 'l', 'cultive', 'chaque', 'jour', '', 'chaque', 'guidé', 'l', 'amour', '', 'gratitude', 'bienveillance', '', 'chaque', 'regard', 'posé', 'monde', 'empreint', 'merveille', 'respect', '', 'bonheur', 'là', '', 'l', 'ici', 'maintenant', '', 'pleine', 'conscience', 'chaque', 'instant', 'vécu', '', 'l', 'union', 'paisible', 'esprit', 'cœur', 'battant', 'l', 'univers', '', '\\n\\n', 'Vivez', '', 'aimez', '', 'riez', 'trouvez', 'bonheur', 'cette', 'merveilleuse', 'aventure', 'qu', 'vie', '', '\\n\\n', 'Aristote', 'disait', 'bonheur', 'l', 'activité', 'l', 'âme', 'conforme', 'vertu', '', 'voyait', 'bonheur', 'non', 'comme', 'état', 'passif', '', 'comme', 'activité', 'pleine', 'engagée', 'poursuite', 'bien', 'vertu', '', '', 'bonheur', 'l', 'aboutissement', 'd', 'vie', 'pratique', 'réflexion', '', 'point', 'culminant', 'l', 'excellence', 'humaine', 'réalisation', 'soi', '', '\\n\\n', 'Pascal', '', 'profondeur', 'perspicacité', '', 'a', 'considéré', 'bonheur', 'comme', 'état', 'insaisissable', 'éphémère', '', 'croyait', 'vrai', 'bonheur', 'pouvait', 'être', 'trouvé', 'recherche', 'l', 'infini', '', 'quête', 'd', 'transcendance', 'dépasse', 'plaisirs', 'peines', 'monde', '', 'Pascal', '', 'bonheur', 'résidait', 'foi', 'lutte', 'intérieure', 'vers', 'compréhension', 'plus', 'profonde', 'l', 'existence', '', '\\n\\n', 'Nietzsche', '', 'd', 'autre', 'part', '', 'a', 'contesté', 'idées', 'traditionnelles', 'bonheur', '', 'a', 'proclamé', 'bonheur', 'n', 'produit', 'conformité', 'confort', '', 'plutôt', 'résultat', 'l', 'acceptation', 'l', 'affirmation', 'vie', 'toute', 'complexité', '', '', 'bonheur', 'intimement', 'lié', 'volonté', 'puissance', '', 'l', 'aspiration', 'l', 'individu', 'surmonter', 'défis', 'forger', 'propre', 'chemin', 'vie', '', '\\n\\n', 'Kierkegaard', 'a', 'exploré', 'bonheur', 'travers', 'prisme', 'l', 'existence', 'individuelle', 'subjectivité', '', 'a', 'soutenu', 'bonheur', 'dépend', 'capacité', 'l', 'individu', 'comprendre', 'soi', '', '', 'faire', 'choix', 'authentiques', 'embrasser', 'pleinement', 'existence', 'unique', '', 'Kierkegaard', '', 'bonheur', 'profondément', 'personnel', 'inextricablement', 'lié', 'quête', 'sens', 'vérité', 'vie', 'd', 'personne', '', '\\n\\n', 'Rumi', '', 'poète', 'soufi', '', 'a', 'vu', 'bonheur', 'comme', 'union', 'divin', '', 'immersion', 'l', 'amour', 'spiritualité', '', 'a', 'parlé', 'bonheur', 'comme', 'd', 'voyage', 'vers', 'l', 'intérieur', '', 'quête', 'découvrir', 'lumière', 'vérité', 'résident', 'cœur', 'chaque', 'être', '', 'Rumi', '', 'bonheur', 'expérience', 'l', 'extase', 'connexion', 'profonde', 'tout', '', '\\n\\n', 'Emerson', '', 'réflexions', 'nature', 'l', 'âme', 'humaine', '', 'a', 'suggéré', 'bonheur', 'réside', 'l', 'harmonie', 'monde', 'naturel', 'l', 'expression', 'authentique', 'soi', '', 'a', 'encouragé', 'approche', 'vie', 'embrasse', 'l', 'individualité', '', 'créativité', 'lien', 'profond', 'monde', 'naturel', 'comme', 'sources', 'bonheur', 'd', 'épanouissement', '', '\\n\\n', 'Thoreau', '', 'vie', 'simple', 'Walden', '', 'a', 'cherché', 'bonheur', 'simplicité', 'l', 'autosuffisance', '', 'a', 'vu', 'bonheur', 'comme', 'quelque', 'chose', 'vient', 'vivre', 'intentionnellement', '', 'harmonie', 'nature', 'accord', 'propres', 'convictions', 'valeurs', '', '\\n\\n', 'Camus', '', 'philosophie', 'l', 'absurde', '', 'a', 'considéré', 'bonheur', 'comme', 'révolte', 'contre', 'l', 'absurdité', 'l', 'existence', '', 'a', 'suggéré', 'trouver', 'bonheur', 'nécessite', 'acceptation', 'l', 'absurde', 'tout', 'révoltant', 'contre', 'recherche', 'sens', '', 'passion', 'beauté', 'vie', '', '\\n\\n', 'Tagore', '', 'poète', 'philosophe', 'indien', '', 'a', 'parlé', 'bonheur', 'comme', 'd', 'communion', 'l', 'univers', '', 'célébration', 'beauté', 'diversité', 'vie', '', 'a', 'vu', 'bonheur', 'comme', 'état', 'd', 'émerveillement', 'd', 'appréciation', 'richesse', 'l', 'existence', '', '\\n\\n', 'Lao', 'Tseu', '', 'enseignement', 'taoïste', '', 'a', 'vu', 'bonheur', 'comme', 'question', 'vivre', 'harmonie', 'Tao', '', 'chemin', 'naturel', 'choses', '', '', 'bonheur', 'vient', 'l', 'acceptation', '', 'simplicité', 'l', 'alignement', 'flux', 'naturel', 'vie', '', '\\n\\n', 'Confucius', 'a', 'souligné', 'l', 'importance', 'l', 'harmonie', 'sociale', '', 'moralité', 'devoir', 'comme', 'chemins', 'vers', 'bonheur', '', '', 'bonheur', 'lié', 'réalisation', 'soi', 'contexte', 'relations', 'saines', 'd', 'société', 'juste', '', '\\n\\n', 'Baudelaire', '', 'poèmes', '', 'a', 'exploré', 'bonheur', 'plaisirs', 'fugaces', 'beautés', 'cachées', 'monde', '', 'a', 'vu', 'bonheur', 'moments', 'révélation', 'beauté', 'émergent', 'aspects', 'plus', 'sombres', 'l', 'existence', '', '\\n\\n', 'Gandhi', '', 'quête', 'vérité', 'justice', '', 'a', 'vu', 'bonheur', 'comme', 'inséparable', 'vie', 'service', 'dévouement', 'autres', '', '', 'bonheur', 'venait', 'vivre', 'accord', 'principes', 'moraux', 'élevés', 'travailler', 'bienêtre', 'autres', '', '\\n\\n', 'Schopenhauer', '', 'pessimisme', 'philosophique', '', 'a', 'vu', 'bonheur', 'comme', 'idéal', 'souvent', 'inaccessible', '', 'compte', 'tenu', 'nature', 'souffrante', 'vie', '', 'Néanmoins', '', 'a', 'suggéré', 'bonheur', '', 'mesure', 'où', 'peut', 'être', 'atteint', '', 'vient', 'contemplation', 'esthétique', '', 'compassion', 'modération', 'désirs', ''] \n",
      "\n",
      "\n",
      " tokens_clean_ponctuation_sans_espaces:\n",
      "['bonheur', 'chers', 'amis', 'phare', 'éternel', 'vers', 'lequel', 'toutes', 'âmes', 'naviguent', 'espoir', 'qu', 'ce', 'bonheur', 'sinon', 'harmonie', 'entre', 'homme', 'existence', 'qu', 'mène', 'lieu', 'lointain', 'sommet', 'atteindre', 'plutôt', 'chemin', 'lequel', 'marche', 'ensemble', 'petits', 'moments', 'suite', 'respirations', 'conscientes', '\\n\\n', 'Socrate', 'humilité', 'enseigné', 'connaissance', 'soi', 'clé', 'sagesse', 'extension', 'bonheur', 'Car', 'connaissant', 'comprend', 'mieux', 'désirs', 'distingue', 'plaisirs', 'éphémères', 'joies', 'durables', '\\n\\n', 'Épicure', 'quant', 'souligné', 'importance', 'plaisirs', 'simples', 'chant', 'oiseaux', 'douceur', 'brise', 'compagnie', 'bon', 'ami', 'invités', 'chercher', 'bonheur', 'modération', 'liberté', 'tourments', 'âme', '\\n\\n', 'dire', 'Sénèque', 'stoïcien', 'prôné', 'vertu', 'patience', 'acceptation', 'bonheur', 'absence', 'souffrance', 'façon', 'dont', 'fait', 'face', 'rappelle', 'vagues', 'vie', 'doivent', 'être', 'naviguées', 'courage', 'bonheur', 'souvent', 'fruit', 'capacité', 'vouloir', 'contrôler', 'échappe', 'contrôle', '\\n\\n', 'Enfin', 'Montaigne', 'esprit', 'libre', 'curieux', 'appris', 'bonheur', 'réside', 'appréciation', 'joies', 'vie', 'quotidienne', 'acceptation', 'soi', 'courage', 'être', 'authentique', '\\n\\n', 'Cherchons', 'donc', 'bonheur', 'non', 'comme', 'terre', 'promise', 'conquiert', 'comme', 'jardin', 'cultive', 'chaque', 'jour', 'chaque', 'guidé', 'amour', 'gratitude', 'bienveillance', 'chaque', 'regard', 'posé', 'monde', 'empreint', 'merveille', 'respect', 'bonheur', 'là', 'ici', 'maintenant', 'pleine', 'conscience', 'chaque', 'instant', 'vécu', 'union', 'paisible', 'esprit', 'cœur', 'battant', 'univers', '\\n\\n', 'Vivez', 'aimez', 'riez', 'trouvez', 'bonheur', 'cette', 'merveilleuse', 'aventure', 'qu', 'vie', '\\n\\n', 'Aristote', 'disait', 'bonheur', 'activité', 'âme', 'conforme', 'vertu', 'voyait', 'bonheur', 'non', 'comme', 'état', 'passif', 'comme', 'activité', 'pleine', 'engagée', 'poursuite', 'bien', 'vertu', 'bonheur', 'aboutissement', 'vie', 'pratique', 'réflexion', 'point', 'culminant', 'excellence', 'humaine', 'réalisation', 'soi', '\\n\\n', 'Pascal', 'profondeur', 'perspicacité', 'considéré', 'bonheur', 'comme', 'état', 'insaisissable', 'éphémère', 'croyait', 'vrai', 'bonheur', 'pouvait', 'être', 'trouvé', 'recherche', 'infini', 'quête', 'transcendance', 'dépasse', 'plaisirs', 'peines', 'monde', 'Pascal', 'bonheur', 'résidait', 'foi', 'lutte', 'intérieure', 'vers', 'compréhension', 'plus', 'profonde', 'existence', '\\n\\n', 'Nietzsche', 'autre', 'part', 'contesté', 'idées', 'traditionnelles', 'bonheur', 'proclamé', 'bonheur', 'produit', 'conformité', 'confort', 'plutôt', 'résultat', 'acceptation', 'affirmation', 'vie', 'toute', 'complexité', 'bonheur', 'intimement', 'lié', 'volonté', 'puissance', 'aspiration', 'individu', 'surmonter', 'défis', 'forger', 'propre', 'chemin', 'vie', '\\n\\n', 'Kierkegaard', 'exploré', 'bonheur', 'travers', 'prisme', 'existence', 'individuelle', 'subjectivité', 'soutenu', 'bonheur', 'dépend', 'capacité', 'individu', 'comprendre', 'soi', 'faire', 'choix', 'authentiques', 'embrasser', 'pleinement', 'existence', 'unique', 'Kierkegaard', 'bonheur', 'profondément', 'personnel', 'inextricablement', 'lié', 'quête', 'sens', 'vérité', 'vie', 'personne', '\\n\\n', 'Rumi', 'poète', 'soufi', 'vu', 'bonheur', 'comme', 'union', 'divin', 'immersion', 'amour', 'spiritualité', 'parlé', 'bonheur', 'comme', 'voyage', 'vers', 'intérieur', 'quête', 'découvrir', 'lumière', 'vérité', 'résident', 'cœur', 'chaque', 'être', 'Rumi', 'bonheur', 'expérience', 'extase', 'connexion', 'profonde', 'tout', '\\n\\n', 'Emerson', 'réflexions', 'nature', 'âme', 'humaine', 'suggéré', 'bonheur', 'réside', 'harmonie', 'monde', 'naturel', 'expression', 'authentique', 'soi', 'encouragé', 'approche', 'vie', 'embrasse', 'individualité', 'créativité', 'lien', 'profond', 'monde', 'naturel', 'comme', 'sources', 'bonheur', 'épanouissement', '\\n\\n', 'Thoreau', 'vie', 'simple', 'Walden', 'cherché', 'bonheur', 'simplicité', 'autosuffisance', 'vu', 'bonheur', 'comme', 'quelque', 'chose', 'vient', 'vivre', 'intentionnellement', 'harmonie', 'nature', 'accord', 'propres', 'convictions', 'valeurs', '\\n\\n', 'Camus', 'philosophie', 'absurde', 'considéré', 'bonheur', 'comme', 'révolte', 'contre', 'absurdité', 'existence', 'suggéré', 'trouver', 'bonheur', 'nécessite', 'acceptation', 'absurde', 'tout', 'révoltant', 'contre', 'recherche', 'sens', 'passion', 'beauté', 'vie', '\\n\\n', 'Tagore', 'poète', 'philosophe', 'indien', 'parlé', 'bonheur', 'comme', 'communion', 'univers', 'célébration', 'beauté', 'diversité', 'vie', 'vu', 'bonheur', 'comme', 'état', 'émerveillement', 'appréciation', 'richesse', 'existence', '\\n\\n', 'Lao', 'Tseu', 'enseignement', 'taoïste', 'vu', 'bonheur', 'comme', 'question', 'vivre', 'harmonie', 'Tao', 'chemin', 'naturel', 'choses', 'bonheur', 'vient', 'acceptation', 'simplicité', 'alignement', 'flux', 'naturel', 'vie', '\\n\\n', 'Confucius', 'souligné', 'importance', 'harmonie', 'sociale', 'moralité', 'devoir', 'comme', 'chemins', 'vers', 'bonheur', 'bonheur', 'lié', 'réalisation', 'soi', 'contexte', 'relations', 'saines', 'société', 'juste', '\\n\\n', 'Baudelaire', 'poèmes', 'exploré', 'bonheur', 'plaisirs', 'fugaces', 'beautés', 'cachées', 'monde', 'vu', 'bonheur', 'moments', 'révélation', 'beauté', 'émergent', 'aspects', 'plus', 'sombres', 'existence', '\\n\\n', 'Gandhi', 'quête', 'vérité', 'justice', 'vu', 'bonheur', 'comme', 'inséparable', 'vie', 'service', 'dévouement', 'autres', 'bonheur', 'venait', 'vivre', 'accord', 'principes', 'moraux', 'élevés', 'travailler', 'bienêtre', 'autres', '\\n\\n', 'Schopenhauer', 'pessimisme', 'philosophique', 'vu', 'bonheur', 'comme', 'idéal', 'souvent', 'inaccessible', 'compte', 'tenu', 'nature', 'souffrante', 'vie', 'Néanmoins', 'suggéré', 'bonheur', 'mesure', 'où', 'peut', 'être', 'atteint', 'vient', 'contemplation', 'esthétique', 'compassion', 'modération', 'désirs'] \n",
      "\n",
      "\n",
      " tokens_clean_ponctuation_sans_espaces2:\n",
      "['bonheur', 'chers', 'amis', 'phare', 'éternel', 'vers', 'lequel', 'toutes', 'âmes', 'naviguent', 'espoir', 'bonheur', 'sinon', 'harmonie', 'entre', 'homme', 'existence', 'mène', 'lieu', 'lointain', 'sommet', 'atteindre', 'plutôt', 'chemin', 'lequel', 'marche', 'ensemble', 'petits', 'moments', 'suite', 'respirations', 'conscientes', '\\n\\n', 'Socrate', 'humilité', 'enseigné', 'connaissance', 'soi', 'clé', 'sagesse', 'extension', 'bonheur', 'Car', 'connaissant', 'comprend', 'mieux', 'désirs', 'distingue', 'plaisirs', 'éphémères', 'joies', 'durables', '\\n\\n', 'Épicure', 'quant', 'souligné', 'importance', 'plaisirs', 'simples', 'chant', 'oiseaux', 'douceur', 'brise', 'compagnie', 'bon', 'ami', 'invités', 'chercher', 'bonheur', 'modération', 'liberté', 'tourments', 'âme', '\\n\\n', 'dire', 'Sénèque', 'stoïcien', 'prôné', 'vertu', 'patience', 'acceptation', 'bonheur', 'absence', 'souffrance', 'façon', 'dont', 'fait', 'face', 'rappelle', 'vagues', 'vie', 'doivent', 'être', 'naviguées', 'courage', 'bonheur', 'souvent', 'fruit', 'capacité', 'vouloir', 'contrôler', 'échappe', 'contrôle', '\\n\\n', 'Enfin', 'Montaigne', 'esprit', 'libre', 'curieux', 'appris', 'bonheur', 'réside', 'appréciation', 'joies', 'vie', 'quotidienne', 'acceptation', 'soi', 'courage', 'être', 'authentique', '\\n\\n', 'Cherchons', 'donc', 'bonheur', 'non', 'comme', 'terre', 'promise', 'conquiert', 'comme', 'jardin', 'cultive', 'chaque', 'jour', 'chaque', 'guidé', 'amour', 'gratitude', 'bienveillance', 'chaque', 'regard', 'posé', 'monde', 'empreint', 'merveille', 'respect', 'bonheur', 'là', 'ici', 'maintenant', 'pleine', 'conscience', 'chaque', 'instant', 'vécu', 'union', 'paisible', 'esprit', 'cœur', 'battant', 'univers', '\\n\\n', 'Vivez', 'aimez', 'riez', 'trouvez', 'bonheur', 'cette', 'merveilleuse', 'aventure', 'vie', '\\n\\n', 'Aristote', 'disait', 'bonheur', 'activité', 'âme', 'conforme', 'vertu', 'voyait', 'bonheur', 'non', 'comme', 'état', 'passif', 'comme', 'activité', 'pleine', 'engagée', 'poursuite', 'bien', 'vertu', 'bonheur', 'aboutissement', 'vie', 'pratique', 'réflexion', 'point', 'culminant', 'excellence', 'humaine', 'réalisation', 'soi', '\\n\\n', 'Pascal', 'profondeur', 'perspicacité', 'considéré', 'bonheur', 'comme', 'état', 'insaisissable', 'éphémère', 'croyait', 'vrai', 'bonheur', 'pouvait', 'être', 'trouvé', 'recherche', 'infini', 'quête', 'transcendance', 'dépasse', 'plaisirs', 'peines', 'monde', 'Pascal', 'bonheur', 'résidait', 'foi', 'lutte', 'intérieure', 'vers', 'compréhension', 'plus', 'profonde', 'existence', '\\n\\n', 'Nietzsche', 'autre', 'part', 'contesté', 'idées', 'traditionnelles', 'bonheur', 'proclamé', 'bonheur', 'produit', 'conformité', 'confort', 'plutôt', 'résultat', 'acceptation', 'affirmation', 'vie', 'toute', 'complexité', 'bonheur', 'intimement', 'lié', 'volonté', 'puissance', 'aspiration', 'individu', 'surmonter', 'défis', 'forger', 'propre', 'chemin', 'vie', '\\n\\n', 'Kierkegaard', 'exploré', 'bonheur', 'travers', 'prisme', 'existence', 'individuelle', 'subjectivité', 'soutenu', 'bonheur', 'dépend', 'capacité', 'individu', 'comprendre', 'soi', 'faire', 'choix', 'authentiques', 'embrasser', 'pleinement', 'existence', 'unique', 'Kierkegaard', 'bonheur', 'profondément', 'personnel', 'inextricablement', 'lié', 'quête', 'sens', 'vérité', 'vie', 'personne', '\\n\\n', 'Rumi', 'poète', 'soufi', 'vu', 'bonheur', 'comme', 'union', 'divin', 'immersion', 'amour', 'spiritualité', 'parlé', 'bonheur', 'comme', 'voyage', 'vers', 'intérieur', 'quête', 'découvrir', 'lumière', 'vérité', 'résident', 'cœur', 'chaque', 'être', 'Rumi', 'bonheur', 'expérience', 'extase', 'connexion', 'profonde', 'tout', '\\n\\n', 'Emerson', 'réflexions', 'nature', 'âme', 'humaine', 'suggéré', 'bonheur', 'réside', 'harmonie', 'monde', 'naturel', 'expression', 'authentique', 'soi', 'encouragé', 'approche', 'vie', 'embrasse', 'individualité', 'créativité', 'lien', 'profond', 'monde', 'naturel', 'comme', 'sources', 'bonheur', 'épanouissement', '\\n\\n', 'Thoreau', 'vie', 'simple', 'Walden', 'cherché', 'bonheur', 'simplicité', 'autosuffisance', 'vu', 'bonheur', 'comme', 'quelque', 'chose', 'vient', 'vivre', 'intentionnellement', 'harmonie', 'nature', 'accord', 'propres', 'convictions', 'valeurs', '\\n\\n', 'Camus', 'philosophie', 'absurde', 'considéré', 'bonheur', 'comme', 'révolte', 'contre', 'absurdité', 'existence', 'suggéré', 'trouver', 'bonheur', 'nécessite', 'acceptation', 'absurde', 'tout', 'révoltant', 'contre', 'recherche', 'sens', 'passion', 'beauté', 'vie', '\\n\\n', 'Tagore', 'poète', 'philosophe', 'indien', 'parlé', 'bonheur', 'comme', 'communion', 'univers', 'célébration', 'beauté', 'diversité', 'vie', 'vu', 'bonheur', 'comme', 'état', 'émerveillement', 'appréciation', 'richesse', 'existence', '\\n\\n', 'Lao', 'Tseu', 'enseignement', 'taoïste', 'vu', 'bonheur', 'comme', 'question', 'vivre', 'harmonie', 'Tao', 'chemin', 'naturel', 'choses', 'bonheur', 'vient', 'acceptation', 'simplicité', 'alignement', 'flux', 'naturel', 'vie', '\\n\\n', 'Confucius', 'souligné', 'importance', 'harmonie', 'sociale', 'moralité', 'devoir', 'comme', 'chemins', 'vers', 'bonheur', 'bonheur', 'lié', 'réalisation', 'soi', 'contexte', 'relations', 'saines', 'société', 'juste', '\\n\\n', 'Baudelaire', 'poèmes', 'exploré', 'bonheur', 'plaisirs', 'fugaces', 'beautés', 'cachées', 'monde', 'vu', 'bonheur', 'moments', 'révélation', 'beauté', 'émergent', 'aspects', 'plus', 'sombres', 'existence', '\\n\\n', 'Gandhi', 'quête', 'vérité', 'justice', 'vu', 'bonheur', 'comme', 'inséparable', 'vie', 'service', 'dévouement', 'autres', 'bonheur', 'venait', 'vivre', 'accord', 'principes', 'moraux', 'élevés', 'travailler', 'bienêtre', 'autres', '\\n\\n', 'Schopenhauer', 'pessimisme', 'philosophique', 'vu', 'bonheur', 'comme', 'idéal', 'souvent', 'inaccessible', 'compte', 'tenu', 'nature', 'souffrante', 'vie', 'Néanmoins', 'suggéré', 'bonheur', 'mesure', 'où', 'peut', 'être', 'atteint', 'vient', 'contemplation', 'esthétique', 'compassion', 'modération', 'désirs'] \n",
      "\n",
      "\n",
      " freq:\n",
      "Counter({'bonheur': 43, '\\n\\n': 20, 'comme': 16, 'vie': 14, 'existence': 7, 'vu': 7, 'soi': 6, 'harmonie': 5, 'acceptation': 5, 'être': 5, 'chaque': 5, 'monde': 5, 'vers': 4, 'plaisirs': 4, 'quête': 4, 'naturel': 4, 'chemin': 3, 'âme': 3, 'vertu': 3, 'état': 3, 'lié': 3, 'vérité': 3, 'nature': 3, 'suggéré': 3, 'vient': 3, 'vivre': 3, 'beauté': 3, 'lequel': 2, 'plutôt': 2, 'moments': 2, 'désirs': 2, 'joies': 2, 'souligné': 2, 'importance': 2, 'modération': 2, 'courage': 2, 'souvent': 2, 'capacité': 2, 'esprit': 2, 'réside': 2, 'appréciation': 2, 'authentique': 2, 'non': 2, 'amour': 2, 'pleine': 2, 'union': 2, 'cœur': 2, 'univers': 2, 'activité': 2, 'humaine': 2, 'réalisation': 2, 'Pascal': 2, 'considéré': 2, 'recherche': 2, 'plus': 2, 'profonde': 2, 'individu': 2, 'Kierkegaard': 2, 'exploré': 2, 'sens': 2, 'Rumi': 2, 'poète': 2, 'parlé': 2, 'tout': 2, 'simplicité': 2, 'accord': 2, 'absurde': 2, 'contre': 2, 'autres': 2, 'chers': 1, 'amis': 1, 'phare': 1, 'éternel': 1, 'toutes': 1, 'âmes': 1, 'naviguent': 1, 'espoir': 1, 'sinon': 1, 'entre': 1, 'homme': 1, 'mène': 1, 'lieu': 1, 'lointain': 1, 'sommet': 1, 'atteindre': 1, 'marche': 1, 'ensemble': 1, 'petits': 1, 'suite': 1, 'respirations': 1, 'conscientes': 1, 'Socrate': 1, 'humilité': 1, 'enseigné': 1, 'connaissance': 1, 'clé': 1, 'sagesse': 1, 'extension': 1, 'Car': 1, 'connaissant': 1, 'comprend': 1, 'mieux': 1, 'distingue': 1, 'éphémères': 1, 'durables': 1, 'Épicure': 1, 'quant': 1, 'simples': 1, 'chant': 1, 'oiseaux': 1, 'douceur': 1, 'brise': 1, 'compagnie': 1, 'bon': 1, 'ami': 1, 'invités': 1, 'chercher': 1, 'liberté': 1, 'tourments': 1, 'dire': 1, 'Sénèque': 1, 'stoïcien': 1, 'prôné': 1, 'patience': 1, 'absence': 1, 'souffrance': 1, 'façon': 1, 'dont': 1, 'fait': 1, 'face': 1, 'rappelle': 1, 'vagues': 1, 'doivent': 1, 'naviguées': 1, 'fruit': 1, 'vouloir': 1, 'contrôler': 1, 'échappe': 1, 'contrôle': 1, 'Enfin': 1, 'Montaigne': 1, 'libre': 1, 'curieux': 1, 'appris': 1, 'quotidienne': 1, 'Cherchons': 1, 'donc': 1, 'terre': 1, 'promise': 1, 'conquiert': 1, 'jardin': 1, 'cultive': 1, 'jour': 1, 'guidé': 1, 'gratitude': 1, 'bienveillance': 1, 'regard': 1, 'posé': 1, 'empreint': 1, 'merveille': 1, 'respect': 1, 'là': 1, 'ici': 1, 'maintenant': 1, 'conscience': 1, 'instant': 1, 'vécu': 1, 'paisible': 1, 'battant': 1, 'Vivez': 1, 'aimez': 1, 'riez': 1, 'trouvez': 1, 'cette': 1, 'merveilleuse': 1, 'aventure': 1, 'Aristote': 1, 'disait': 1, 'conforme': 1, 'voyait': 1, 'passif': 1, 'engagée': 1, 'poursuite': 1, 'bien': 1, 'aboutissement': 1, 'pratique': 1, 'réflexion': 1, 'point': 1, 'culminant': 1, 'excellence': 1, 'profondeur': 1, 'perspicacité': 1, 'insaisissable': 1, 'éphémère': 1, 'croyait': 1, 'vrai': 1, 'pouvait': 1, 'trouvé': 1, 'infini': 1, 'transcendance': 1, 'dépasse': 1, 'peines': 1, 'résidait': 1, 'foi': 1, 'lutte': 1, 'intérieure': 1, 'compréhension': 1, 'Nietzsche': 1, 'autre': 1, 'part': 1, 'contesté': 1, 'idées': 1, 'traditionnelles': 1, 'proclamé': 1, 'produit': 1, 'conformité': 1, 'confort': 1, 'résultat': 1, 'affirmation': 1, 'toute': 1, 'complexité': 1, 'intimement': 1, 'volonté': 1, 'puissance': 1, 'aspiration': 1, 'surmonter': 1, 'défis': 1, 'forger': 1, 'propre': 1, 'travers': 1, 'prisme': 1, 'individuelle': 1, 'subjectivité': 1, 'soutenu': 1, 'dépend': 1, 'comprendre': 1, 'faire': 1, 'choix': 1, 'authentiques': 1, 'embrasser': 1, 'pleinement': 1, 'unique': 1, 'profondément': 1, 'personnel': 1, 'inextricablement': 1, 'personne': 1, 'soufi': 1, 'divin': 1, 'immersion': 1, 'spiritualité': 1, 'voyage': 1, 'intérieur': 1, 'découvrir': 1, 'lumière': 1, 'résident': 1, 'expérience': 1, 'extase': 1, 'connexion': 1, 'Emerson': 1, 'réflexions': 1, 'expression': 1, 'encouragé': 1, 'approche': 1, 'embrasse': 1, 'individualité': 1, 'créativité': 1, 'lien': 1, 'profond': 1, 'sources': 1, 'épanouissement': 1, 'Thoreau': 1, 'simple': 1, 'Walden': 1, 'cherché': 1, 'autosuffisance': 1, 'quelque': 1, 'chose': 1, 'intentionnellement': 1, 'propres': 1, 'convictions': 1, 'valeurs': 1, 'Camus': 1, 'philosophie': 1, 'révolte': 1, 'absurdité': 1, 'trouver': 1, 'nécessite': 1, 'révoltant': 1, 'passion': 1, 'Tagore': 1, 'philosophe': 1, 'indien': 1, 'communion': 1, 'célébration': 1, 'diversité': 1, 'émerveillement': 1, 'richesse': 1, 'Lao': 1, 'Tseu': 1, 'enseignement': 1, 'taoïste': 1, 'question': 1, 'Tao': 1, 'choses': 1, 'alignement': 1, 'flux': 1, 'Confucius': 1, 'sociale': 1, 'moralité': 1, 'devoir': 1, 'chemins': 1, 'contexte': 1, 'relations': 1, 'saines': 1, 'société': 1, 'juste': 1, 'Baudelaire': 1, 'poèmes': 1, 'fugaces': 1, 'beautés': 1, 'cachées': 1, 'révélation': 1, 'émergent': 1, 'aspects': 1, 'sombres': 1, 'Gandhi': 1, 'justice': 1, 'inséparable': 1, 'service': 1, 'dévouement': 1, 'venait': 1, 'principes': 1, 'moraux': 1, 'élevés': 1, 'travailler': 1, 'bienêtre': 1, 'Schopenhauer': 1, 'pessimisme': 1, 'philosophique': 1, 'idéal': 1, 'inaccessible': 1, 'compte': 1, 'tenu': 1, 'souffrante': 1, 'Néanmoins': 1, 'mesure': 1, 'où': 1, 'peut': 1, 'atteint': 1, 'contemplation': 1, 'esthétique': 1, 'compassion': 1}) \n",
      "\n",
      "\n",
      " mots:\n",
      "['bonheur', 'chers', 'amis', 'phare', 'éternel', 'vers', 'lequel', 'toutes', 'âmes', 'naviguent', 'espoir', 'sinon', 'harmonie', 'entre', 'homme', 'existence', 'mène', 'lieu', 'lointain', 'sommet', 'atteindre', 'plutôt', 'chemin', 'marche', 'ensemble', 'petits', 'moments', 'suite', 'respirations', 'conscientes', '\\n\\n', 'Socrate', 'humilité', 'enseigné', 'connaissance', 'soi', 'clé', 'sagesse', 'extension', 'Car', 'connaissant', 'comprend', 'mieux', 'désirs', 'distingue', 'plaisirs', 'éphémères', 'joies', 'durables', 'Épicure', 'quant', 'souligné', 'importance', 'simples', 'chant', 'oiseaux', 'douceur', 'brise', 'compagnie', 'bon', 'ami', 'invités', 'chercher', 'modération', 'liberté', 'tourments', 'âme', 'dire', 'Sénèque', 'stoïcien', 'prôné', 'vertu', 'patience', 'acceptation', 'absence', 'souffrance', 'façon', 'dont', 'fait', 'face', 'rappelle', 'vagues', 'vie', 'doivent', 'être', 'naviguées', 'courage', 'souvent', 'fruit', 'capacité', 'vouloir', 'contrôler', 'échappe', 'contrôle', 'Enfin', 'Montaigne', 'esprit', 'libre', 'curieux', 'appris', 'réside', 'appréciation', 'quotidienne', 'authentique', 'Cherchons', 'donc', 'non', 'comme', 'terre', 'promise', 'conquiert', 'jardin', 'cultive', 'chaque', 'jour', 'guidé', 'amour', 'gratitude', 'bienveillance', 'regard', 'posé', 'monde', 'empreint', 'merveille', 'respect', 'là', 'ici', 'maintenant', 'pleine', 'conscience', 'instant', 'vécu', 'union', 'paisible', 'cœur', 'battant', 'univers', 'Vivez', 'aimez', 'riez', 'trouvez', 'cette', 'merveilleuse', 'aventure', 'Aristote', 'disait', 'activité', 'conforme', 'voyait', 'état', 'passif', 'engagée', 'poursuite', 'bien', 'aboutissement', 'pratique', 'réflexion', 'point', 'culminant', 'excellence', 'humaine', 'réalisation', 'Pascal', 'profondeur', 'perspicacité', 'considéré', 'insaisissable', 'éphémère', 'croyait', 'vrai', 'pouvait', 'trouvé', 'recherche', 'infini', 'quête', 'transcendance', 'dépasse', 'peines', 'résidait', 'foi', 'lutte', 'intérieure', 'compréhension', 'plus', 'profonde', 'Nietzsche', 'autre', 'part', 'contesté', 'idées', 'traditionnelles', 'proclamé', 'produit', 'conformité', 'confort', 'résultat', 'affirmation', 'toute', 'complexité', 'intimement', 'lié', 'volonté', 'puissance', 'aspiration', 'individu', 'surmonter', 'défis', 'forger', 'propre', 'Kierkegaard', 'exploré', 'travers', 'prisme', 'individuelle', 'subjectivité', 'soutenu', 'dépend', 'comprendre', 'faire', 'choix', 'authentiques', 'embrasser', 'pleinement', 'unique', 'profondément', 'personnel', 'inextricablement', 'sens', 'vérité', 'personne', 'Rumi', 'poète', 'soufi', 'vu', 'divin', 'immersion', 'spiritualité', 'parlé', 'voyage', 'intérieur', 'découvrir', 'lumière', 'résident', 'expérience', 'extase', 'connexion', 'tout', 'Emerson', 'réflexions', 'nature', 'suggéré', 'naturel', 'expression', 'encouragé', 'approche', 'embrasse', 'individualité', 'créativité', 'lien', 'profond', 'sources', 'épanouissement', 'Thoreau', 'simple', 'Walden', 'cherché', 'simplicité', 'autosuffisance', 'quelque', 'chose', 'vient', 'vivre', 'intentionnellement', 'accord', 'propres', 'convictions', 'valeurs', 'Camus', 'philosophie', 'absurde', 'révolte', 'contre', 'absurdité', 'trouver', 'nécessite', 'révoltant', 'passion', 'beauté', 'Tagore', 'philosophe', 'indien', 'communion', 'célébration', 'diversité', 'émerveillement', 'richesse', 'Lao', 'Tseu', 'enseignement', 'taoïste', 'question', 'Tao', 'choses', 'alignement', 'flux', 'Confucius', 'sociale', 'moralité', 'devoir', 'chemins', 'contexte', 'relations', 'saines', 'société', 'juste', 'Baudelaire', 'poèmes', 'fugaces', 'beautés', 'cachées', 'révélation', 'émergent', 'aspects', 'sombres', 'Gandhi', 'justice', 'inséparable', 'service', 'dévouement', 'autres', 'venait', 'principes', 'moraux', 'élevés', 'travailler', 'bienêtre', 'Schopenhauer', 'pessimisme', 'philosophique', 'idéal', 'inaccessible', 'compte', 'tenu', 'souffrante', 'Néanmoins', 'mesure', 'où', 'peut', 'atteint', 'contemplation', 'esthétique', 'compassion'] \n",
      "\n",
      "\n",
      " frequences:\n",
      "[43, 1, 1, 1, 1, 4, 2, 1, 1, 1, 1, 1, 5, 1, 1, 7, 1, 1, 1, 1, 1, 2, 3, 1, 1, 1, 2, 1, 1, 1, 20, 1, 1, 1, 1, 6, 1, 1, 1, 1, 1, 1, 1, 2, 1, 4, 1, 2, 1, 1, 1, 2, 2, 1, 1, 1, 1, 1, 1, 1, 1, 1, 1, 2, 1, 1, 3, 1, 1, 1, 1, 3, 1, 5, 1, 1, 1, 1, 1, 1, 1, 1, 14, 1, 5, 1, 2, 2, 1, 2, 1, 1, 1, 1, 1, 1, 2, 1, 1, 1, 2, 2, 1, 2, 1, 1, 2, 16, 1, 1, 1, 1, 1, 5, 1, 1, 2, 1, 1, 1, 1, 5, 1, 1, 1, 1, 1, 1, 2, 1, 1, 1, 2, 1, 2, 1, 2, 1, 1, 1, 1, 1, 1, 1, 1, 1, 2, 1, 1, 3, 1, 1, 1, 1, 1, 1, 1, 1, 1, 1, 2, 2, 2, 1, 1, 2, 1, 1, 1, 1, 1, 1, 2, 1, 4, 1, 1, 1, 1, 1, 1, 1, 1, 2, 2, 1, 1, 1, 1, 1, 1, 1, 1, 1, 1, 1, 1, 1, 1, 1, 3, 1, 1, 1, 2, 1, 1, 1, 1, 2, 2, 1, 1, 1, 1, 1, 1, 1, 1, 1, 1, 1, 1, 1, 1, 1, 1, 2, 3, 1, 2, 2, 1, 7, 1, 1, 1, 2, 1, 1, 1, 1, 1, 1, 1, 1, 2, 1, 1, 3, 3, 4, 1, 1, 1, 1, 1, 1, 1, 1, 1, 1, 1, 1, 1, 1, 2, 1, 1, 1, 3, 3, 1, 2, 1, 1, 1, 1, 1, 2, 1, 2, 1, 1, 1, 1, 1, 3, 1, 1, 1, 1, 1, 1, 1, 1, 1, 1, 1, 1, 1, 1, 1, 1, 1, 1, 1, 1, 1, 1, 1, 1, 1, 1, 1, 1, 1, 1, 1, 1, 1, 1, 1, 1, 1, 1, 1, 1, 1, 2, 1, 1, 1, 1, 1, 1, 1, 1, 1, 1, 1, 1, 1, 1, 1, 1, 1, 1, 1, 1, 1, 1] \n",
      "\n"
     ]
    },
    {
     "data": {
      "application/vnd.plotly.v1+json": {
       "config": {
        "plotlyServerURL": "https://plot.ly"
       },
       "data": [
        {
         "type": "bar",
         "x": [
          "bonheur",
          "chers",
          "amis",
          "phare",
          "éternel",
          "vers",
          "lequel",
          "toutes",
          "âmes",
          "naviguent",
          "espoir",
          "sinon",
          "harmonie",
          "entre",
          "homme",
          "existence",
          "mène",
          "lieu",
          "lointain",
          "sommet"
         ],
         "y": [
          43,
          1,
          1,
          1,
          1,
          4,
          2,
          1,
          1,
          1,
          1,
          1,
          5,
          1,
          1,
          7,
          1,
          1,
          1,
          1
         ]
        }
       ],
       "layout": {
        "template": {
         "data": {
          "bar": [
           {
            "error_x": {
             "color": "#2a3f5f"
            },
            "error_y": {
             "color": "#2a3f5f"
            },
            "marker": {
             "line": {
              "color": "#E5ECF6",
              "width": 0.5
             },
             "pattern": {
              "fillmode": "overlay",
              "size": 10,
              "solidity": 0.2
             }
            },
            "type": "bar"
           }
          ],
          "barpolar": [
           {
            "marker": {
             "line": {
              "color": "#E5ECF6",
              "width": 0.5
             },
             "pattern": {
              "fillmode": "overlay",
              "size": 10,
              "solidity": 0.2
             }
            },
            "type": "barpolar"
           }
          ],
          "carpet": [
           {
            "aaxis": {
             "endlinecolor": "#2a3f5f",
             "gridcolor": "white",
             "linecolor": "white",
             "minorgridcolor": "white",
             "startlinecolor": "#2a3f5f"
            },
            "baxis": {
             "endlinecolor": "#2a3f5f",
             "gridcolor": "white",
             "linecolor": "white",
             "minorgridcolor": "white",
             "startlinecolor": "#2a3f5f"
            },
            "type": "carpet"
           }
          ],
          "choropleth": [
           {
            "colorbar": {
             "outlinewidth": 0,
             "ticks": ""
            },
            "type": "choropleth"
           }
          ],
          "contour": [
           {
            "colorbar": {
             "outlinewidth": 0,
             "ticks": ""
            },
            "colorscale": [
             [
              0,
              "#0d0887"
             ],
             [
              0.1111111111111111,
              "#46039f"
             ],
             [
              0.2222222222222222,
              "#7201a8"
             ],
             [
              0.3333333333333333,
              "#9c179e"
             ],
             [
              0.4444444444444444,
              "#bd3786"
             ],
             [
              0.5555555555555556,
              "#d8576b"
             ],
             [
              0.6666666666666666,
              "#ed7953"
             ],
             [
              0.7777777777777778,
              "#fb9f3a"
             ],
             [
              0.8888888888888888,
              "#fdca26"
             ],
             [
              1,
              "#f0f921"
             ]
            ],
            "type": "contour"
           }
          ],
          "contourcarpet": [
           {
            "colorbar": {
             "outlinewidth": 0,
             "ticks": ""
            },
            "type": "contourcarpet"
           }
          ],
          "heatmap": [
           {
            "colorbar": {
             "outlinewidth": 0,
             "ticks": ""
            },
            "colorscale": [
             [
              0,
              "#0d0887"
             ],
             [
              0.1111111111111111,
              "#46039f"
             ],
             [
              0.2222222222222222,
              "#7201a8"
             ],
             [
              0.3333333333333333,
              "#9c179e"
             ],
             [
              0.4444444444444444,
              "#bd3786"
             ],
             [
              0.5555555555555556,
              "#d8576b"
             ],
             [
              0.6666666666666666,
              "#ed7953"
             ],
             [
              0.7777777777777778,
              "#fb9f3a"
             ],
             [
              0.8888888888888888,
              "#fdca26"
             ],
             [
              1,
              "#f0f921"
             ]
            ],
            "type": "heatmap"
           }
          ],
          "heatmapgl": [
           {
            "colorbar": {
             "outlinewidth": 0,
             "ticks": ""
            },
            "colorscale": [
             [
              0,
              "#0d0887"
             ],
             [
              0.1111111111111111,
              "#46039f"
             ],
             [
              0.2222222222222222,
              "#7201a8"
             ],
             [
              0.3333333333333333,
              "#9c179e"
             ],
             [
              0.4444444444444444,
              "#bd3786"
             ],
             [
              0.5555555555555556,
              "#d8576b"
             ],
             [
              0.6666666666666666,
              "#ed7953"
             ],
             [
              0.7777777777777778,
              "#fb9f3a"
             ],
             [
              0.8888888888888888,
              "#fdca26"
             ],
             [
              1,
              "#f0f921"
             ]
            ],
            "type": "heatmapgl"
           }
          ],
          "histogram": [
           {
            "marker": {
             "pattern": {
              "fillmode": "overlay",
              "size": 10,
              "solidity": 0.2
             }
            },
            "type": "histogram"
           }
          ],
          "histogram2d": [
           {
            "colorbar": {
             "outlinewidth": 0,
             "ticks": ""
            },
            "colorscale": [
             [
              0,
              "#0d0887"
             ],
             [
              0.1111111111111111,
              "#46039f"
             ],
             [
              0.2222222222222222,
              "#7201a8"
             ],
             [
              0.3333333333333333,
              "#9c179e"
             ],
             [
              0.4444444444444444,
              "#bd3786"
             ],
             [
              0.5555555555555556,
              "#d8576b"
             ],
             [
              0.6666666666666666,
              "#ed7953"
             ],
             [
              0.7777777777777778,
              "#fb9f3a"
             ],
             [
              0.8888888888888888,
              "#fdca26"
             ],
             [
              1,
              "#f0f921"
             ]
            ],
            "type": "histogram2d"
           }
          ],
          "histogram2dcontour": [
           {
            "colorbar": {
             "outlinewidth": 0,
             "ticks": ""
            },
            "colorscale": [
             [
              0,
              "#0d0887"
             ],
             [
              0.1111111111111111,
              "#46039f"
             ],
             [
              0.2222222222222222,
              "#7201a8"
             ],
             [
              0.3333333333333333,
              "#9c179e"
             ],
             [
              0.4444444444444444,
              "#bd3786"
             ],
             [
              0.5555555555555556,
              "#d8576b"
             ],
             [
              0.6666666666666666,
              "#ed7953"
             ],
             [
              0.7777777777777778,
              "#fb9f3a"
             ],
             [
              0.8888888888888888,
              "#fdca26"
             ],
             [
              1,
              "#f0f921"
             ]
            ],
            "type": "histogram2dcontour"
           }
          ],
          "mesh3d": [
           {
            "colorbar": {
             "outlinewidth": 0,
             "ticks": ""
            },
            "type": "mesh3d"
           }
          ],
          "parcoords": [
           {
            "line": {
             "colorbar": {
              "outlinewidth": 0,
              "ticks": ""
             }
            },
            "type": "parcoords"
           }
          ],
          "pie": [
           {
            "automargin": true,
            "type": "pie"
           }
          ],
          "scatter": [
           {
            "fillpattern": {
             "fillmode": "overlay",
             "size": 10,
             "solidity": 0.2
            },
            "type": "scatter"
           }
          ],
          "scatter3d": [
           {
            "line": {
             "colorbar": {
              "outlinewidth": 0,
              "ticks": ""
             }
            },
            "marker": {
             "colorbar": {
              "outlinewidth": 0,
              "ticks": ""
             }
            },
            "type": "scatter3d"
           }
          ],
          "scattercarpet": [
           {
            "marker": {
             "colorbar": {
              "outlinewidth": 0,
              "ticks": ""
             }
            },
            "type": "scattercarpet"
           }
          ],
          "scattergeo": [
           {
            "marker": {
             "colorbar": {
              "outlinewidth": 0,
              "ticks": ""
             }
            },
            "type": "scattergeo"
           }
          ],
          "scattergl": [
           {
            "marker": {
             "colorbar": {
              "outlinewidth": 0,
              "ticks": ""
             }
            },
            "type": "scattergl"
           }
          ],
          "scattermapbox": [
           {
            "marker": {
             "colorbar": {
              "outlinewidth": 0,
              "ticks": ""
             }
            },
            "type": "scattermapbox"
           }
          ],
          "scatterpolar": [
           {
            "marker": {
             "colorbar": {
              "outlinewidth": 0,
              "ticks": ""
             }
            },
            "type": "scatterpolar"
           }
          ],
          "scatterpolargl": [
           {
            "marker": {
             "colorbar": {
              "outlinewidth": 0,
              "ticks": ""
             }
            },
            "type": "scatterpolargl"
           }
          ],
          "scatterternary": [
           {
            "marker": {
             "colorbar": {
              "outlinewidth": 0,
              "ticks": ""
             }
            },
            "type": "scatterternary"
           }
          ],
          "surface": [
           {
            "colorbar": {
             "outlinewidth": 0,
             "ticks": ""
            },
            "colorscale": [
             [
              0,
              "#0d0887"
             ],
             [
              0.1111111111111111,
              "#46039f"
             ],
             [
              0.2222222222222222,
              "#7201a8"
             ],
             [
              0.3333333333333333,
              "#9c179e"
             ],
             [
              0.4444444444444444,
              "#bd3786"
             ],
             [
              0.5555555555555556,
              "#d8576b"
             ],
             [
              0.6666666666666666,
              "#ed7953"
             ],
             [
              0.7777777777777778,
              "#fb9f3a"
             ],
             [
              0.8888888888888888,
              "#fdca26"
             ],
             [
              1,
              "#f0f921"
             ]
            ],
            "type": "surface"
           }
          ],
          "table": [
           {
            "cells": {
             "fill": {
              "color": "#EBF0F8"
             },
             "line": {
              "color": "white"
             }
            },
            "header": {
             "fill": {
              "color": "#C8D4E3"
             },
             "line": {
              "color": "white"
             }
            },
            "type": "table"
           }
          ]
         },
         "layout": {
          "annotationdefaults": {
           "arrowcolor": "#2a3f5f",
           "arrowhead": 0,
           "arrowwidth": 1
          },
          "autotypenumbers": "strict",
          "coloraxis": {
           "colorbar": {
            "outlinewidth": 0,
            "ticks": ""
           }
          },
          "colorscale": {
           "diverging": [
            [
             0,
             "#8e0152"
            ],
            [
             0.1,
             "#c51b7d"
            ],
            [
             0.2,
             "#de77ae"
            ],
            [
             0.3,
             "#f1b6da"
            ],
            [
             0.4,
             "#fde0ef"
            ],
            [
             0.5,
             "#f7f7f7"
            ],
            [
             0.6,
             "#e6f5d0"
            ],
            [
             0.7,
             "#b8e186"
            ],
            [
             0.8,
             "#7fbc41"
            ],
            [
             0.9,
             "#4d9221"
            ],
            [
             1,
             "#276419"
            ]
           ],
           "sequential": [
            [
             0,
             "#0d0887"
            ],
            [
             0.1111111111111111,
             "#46039f"
            ],
            [
             0.2222222222222222,
             "#7201a8"
            ],
            [
             0.3333333333333333,
             "#9c179e"
            ],
            [
             0.4444444444444444,
             "#bd3786"
            ],
            [
             0.5555555555555556,
             "#d8576b"
            ],
            [
             0.6666666666666666,
             "#ed7953"
            ],
            [
             0.7777777777777778,
             "#fb9f3a"
            ],
            [
             0.8888888888888888,
             "#fdca26"
            ],
            [
             1,
             "#f0f921"
            ]
           ],
           "sequentialminus": [
            [
             0,
             "#0d0887"
            ],
            [
             0.1111111111111111,
             "#46039f"
            ],
            [
             0.2222222222222222,
             "#7201a8"
            ],
            [
             0.3333333333333333,
             "#9c179e"
            ],
            [
             0.4444444444444444,
             "#bd3786"
            ],
            [
             0.5555555555555556,
             "#d8576b"
            ],
            [
             0.6666666666666666,
             "#ed7953"
            ],
            [
             0.7777777777777778,
             "#fb9f3a"
            ],
            [
             0.8888888888888888,
             "#fdca26"
            ],
            [
             1,
             "#f0f921"
            ]
           ]
          },
          "colorway": [
           "#636efa",
           "#EF553B",
           "#00cc96",
           "#ab63fa",
           "#FFA15A",
           "#19d3f3",
           "#FF6692",
           "#B6E880",
           "#FF97FF",
           "#FECB52"
          ],
          "font": {
           "color": "#2a3f5f"
          },
          "geo": {
           "bgcolor": "white",
           "lakecolor": "white",
           "landcolor": "#E5ECF6",
           "showlakes": true,
           "showland": true,
           "subunitcolor": "white"
          },
          "hoverlabel": {
           "align": "left"
          },
          "hovermode": "closest",
          "mapbox": {
           "style": "light"
          },
          "paper_bgcolor": "white",
          "plot_bgcolor": "#E5ECF6",
          "polar": {
           "angularaxis": {
            "gridcolor": "white",
            "linecolor": "white",
            "ticks": ""
           },
           "bgcolor": "#E5ECF6",
           "radialaxis": {
            "gridcolor": "white",
            "linecolor": "white",
            "ticks": ""
           }
          },
          "scene": {
           "xaxis": {
            "backgroundcolor": "#E5ECF6",
            "gridcolor": "white",
            "gridwidth": 2,
            "linecolor": "white",
            "showbackground": true,
            "ticks": "",
            "zerolinecolor": "white"
           },
           "yaxis": {
            "backgroundcolor": "#E5ECF6",
            "gridcolor": "white",
            "gridwidth": 2,
            "linecolor": "white",
            "showbackground": true,
            "ticks": "",
            "zerolinecolor": "white"
           },
           "zaxis": {
            "backgroundcolor": "#E5ECF6",
            "gridcolor": "white",
            "gridwidth": 2,
            "linecolor": "white",
            "showbackground": true,
            "ticks": "",
            "zerolinecolor": "white"
           }
          },
          "shapedefaults": {
           "line": {
            "color": "#2a3f5f"
           }
          },
          "ternary": {
           "aaxis": {
            "gridcolor": "white",
            "linecolor": "white",
            "ticks": ""
           },
           "baxis": {
            "gridcolor": "white",
            "linecolor": "white",
            "ticks": ""
           },
           "bgcolor": "#E5ECF6",
           "caxis": {
            "gridcolor": "white",
            "linecolor": "white",
            "ticks": ""
           }
          },
          "title": {
           "x": 0.05
          },
          "xaxis": {
           "automargin": true,
           "gridcolor": "white",
           "linecolor": "white",
           "ticks": "",
           "title": {
            "standoff": 15
           },
           "zerolinecolor": "white",
           "zerolinewidth": 2
          },
          "yaxis": {
           "automargin": true,
           "gridcolor": "white",
           "linecolor": "white",
           "ticks": "",
           "title": {
            "standoff": 15
           },
           "zerolinecolor": "white",
           "zerolinewidth": 2
          }
         }
        },
        "title": {
         "text": "Fréquence des mots dans le texte après Lemmatisation spaCy"
        },
        "xaxis": {
         "title": {
          "text": "Mots"
         }
        },
        "yaxis": {
         "title": {
          "text": "Fréquence"
         }
        }
       }
      }
     },
     "metadata": {},
     "output_type": "display_data"
    }
   ],
   "source": [
    "import string\n",
    "from typing import Counter\n",
    "\n",
    "import spacy\n",
    "\n",
    "fichier_to_test = \"./le_bonheur.txt\"\n",
    "print(f\"\\n fichier_to_test :\\n{fichier_to_test} \\n\")\n",
    "\n",
    "# Lire le fichier\n",
    "with open(fichier_to_test, \"r\", encoding=\"utf-8\") as file:\n",
    "    fichier_to_test = file.read()\n",
    "\n",
    "# traitement du texte avec spaCy\n",
    "# Charger le modèle français\n",
    "nlp = spacy.load(\"fr_core_news_sm\")\n",
    "\n",
    "# Tokeniser le texte\n",
    "tokens_texte = nlp(fichier_to_test)\n",
    "print(f\"\\n tokens_texte:\\n{tokens_texte} \\n\")\n",
    "\n",
    "# Afficher les tokens\n",
    "tokens_words = [token.text for token in tokens_texte]\n",
    "print(f\"\\n tokens_words:\\n{tokens_words} \\n\")\n",
    "\n",
    "# Création de la liste des stop words\n",
    "stop_words = set(stopwords.words(\"french\"))\n",
    "print(f\"\\n stop_words:\\n{stop_words} \\n\")\n",
    "# Nettoyage des mots vides, retire les stop words de la liste des tokens_words\n",
    "tokens_clean = [word for word in tokens_words if word.lower()\n",
    "                not in stop_words]\n",
    "# Affiche les 20 premiers mots nettoyés pour vérification\n",
    "print(f\"\\n Tokens nettoyés:\\n{tokens_clean} \\n\")\n",
    "\n",
    "# suppression de la ponctuation avec string_ponctuation\n",
    "liste_ponctuation = string.punctuation\n",
    "print(f\"\\n liste_ponctuation:\\n{liste_ponctuation} \\n\")\n",
    "# liste en comprehension  prend chaque caractére de chaque mot de token_cleans s'il ne sont pas dans la liste des ponctuations, puis recreeé le mot avec le \"\".join\n",
    "tokens_clean_ponctuation = [\n",
    "    \"\".join(charactere for charactere in word if charactere not in liste_ponctuation)\n",
    "    for word in tokens_clean\n",
    "]\n",
    "\n",
    "print(f\"\\n tokens_clean_ponctuation:\\n{tokens_clean_ponctuation} \\n\")\n",
    "\n",
    "# Suppression des espaces de la liste\n",
    "tokens_clean_ponctuation_sans_espaces = [\n",
    "    word for word in tokens_clean_ponctuation if len(word) > 1]\n",
    "print(f\"\\n tokens_clean_ponctuation_sans_espaces:\\n{\n",
    "      tokens_clean_ponctuation_sans_espaces} \\n\")\n",
    "\n",
    "# Nouvelle suppression des stop words car on voit qu'il en reste\n",
    "tokens_clean_ponctuation_sans_espaces2 = [\n",
    "    word for word in tokens_clean_ponctuation_sans_espaces if word not in stop_words\n",
    "]\n",
    "print(f\"\\n tokens_clean_ponctuation_sans_espaces2:\\n{\n",
    "      tokens_clean_ponctuation_sans_espaces2} \\n\")\n",
    "\n",
    "# sauve la liste preparée avec scpacy\n",
    "texte_sans_espaces_ni_ponctuation = pd.DataFrame(\n",
    "    tokens_clean_ponctuation_sans_espaces2, columns=[\"tokens\"])\n",
    "texte_sans_espaces_ni_ponctuation.to_csv(\n",
    "    \"texte_sans_espaces_ni_ponctuation_spacy.csv\", index=False)\n",
    "\n",
    "# Compter la fréquence des mots\n",
    "frequence_mots_clean_ponctuation_sans_espaces = Counter(\n",
    "    tokens_clean_ponctuation_sans_espaces2)\n",
    "print(f\"\\n freq:\\n{frequence_mots_clean_ponctuation_sans_espaces} \\n\")\n",
    "# Préparer les données pour le graphique\n",
    "frequence_mots = list(frequence_mots_clean_ponctuation_sans_espaces.keys())\n",
    "frequences_valeur = list(\n",
    "    frequence_mots_clean_ponctuation_sans_espaces.values())\n",
    "print(f\"\\n mots:\\n{frequence_mots} \\n\")\n",
    "print(f\"\\n frequences:\\n{frequences_valeur} \\n\")\n",
    "# Créer un graphique en barres\n",
    "\n",
    "\n",
    "# Créer un graphique en barres\n",
    "fig = go.Figure(data=[go.Bar(x=frequence_mots[:20], y=frequences_valeur[:20])])\n",
    "\n",
    "# Mettre à jour le layout\n",
    "fig.update_layout(\n",
    "    title_text=\"Fréquence des mots dans le texte après Lemmatisation spaCy\",\n",
    "    xaxis_title=\"Mots\",\n",
    "    yaxis_title=\"Fréquence\",\n",
    ")\n",
    "\n",
    "fig.show()\n"
   ]
  },
  {
   "cell_type": "code",
   "execution_count": null,
   "metadata": {},
   "outputs": [],
   "source": []
  },
  {
   "cell_type": "markdown",
   "metadata": {},
   "source": [
    "# Quete2 NLP 2 - Stemming & Lemmatizing"
   ]
  },
  {
   "cell_type": "markdown",
   "metadata": {},
   "source": [
    "Tu vas reprendre ton notebook de la quête précédente, puis effectuer les étapes ci-dessous.\n",
    "\n",
    "A partir de ton texte déjà nettoyé, donc en minuscule, sans stopwords ni ponctuation, utilise un stemmer pour rendre le corpus de mots encore plus pertinent, puis utilise FreqDist. Le stemmer a-t-il permis de faire remonter des informations pertinentes en regroupant certains mots de même racine ?\n",
    "A partir de ton texte déjà nettoyé, donc en minuscule, sans stopwords ni ponctuation, utilise un lemmatizer pour rendre le corpus de mots encore plus pertinent, puis utilise FreqDist. Le lemmatizer a-t-il permis de faire remonter des informations pertinentes en regroupant certains mots de même racine ?\n",
    "Attention, pour cette seconde étape, repars du texte nettoyé, mais pas du texte après stemmer. Le but de cet exercice est de comparer les deux méthodes\n",
    "\n",
    "Compare les deux méthodes : les mots avec les plus grandes valeurs dans le FreqDist sont-ils les mêmes ?\n",
    "Partage le lien vers ton notebook en guise de solution au challenge."
   ]
  },
  {
   "cell_type": "code",
   "execution_count": 40,
   "metadata": {},
   "outputs": [
    {
     "name": "stdout",
     "output_type": "stream",
     "text": [
      "\n",
      " path:\n",
      "n:\\programmation\\WildCodeSchool\\Formation_IA_DATA_nov2023\\quêtes\\Semaine10 \n",
      "\n",
      "n:\\programmation\\WildCodeSchool\\Formation_IA_DATA_nov2023\\quêtes\\Semaine10\n"
     ]
    },
    {
     "data": {
      "text/plain": [
       "['bonheur',\n",
       " 'chers',\n",
       " 'amis',\n",
       " 'phare',\n",
       " 'éternel',\n",
       " 'vers',\n",
       " 'lequel',\n",
       " 'toutes',\n",
       " 'âmes',\n",
       " 'naviguent',\n",
       " 'espoir',\n",
       " 'qu',\n",
       " 'ce',\n",
       " 'bonheur',\n",
       " 'sinon',\n",
       " 'harmonie',\n",
       " 'entre',\n",
       " 'homme',\n",
       " 'existence',\n",
       " 'qu',\n",
       " 'mène',\n",
       " 'lieu',\n",
       " 'lointain',\n",
       " 'sommet',\n",
       " 'atteindre',\n",
       " 'plutôt',\n",
       " 'chemin',\n",
       " 'lequel',\n",
       " 'marche',\n",
       " 'ensemble',\n",
       " 'petits',\n",
       " 'moments',\n",
       " 'suite',\n",
       " 'respirations',\n",
       " 'conscientes',\n",
       " 'Socrate',\n",
       " 'humilité',\n",
       " 'enseigné',\n",
       " 'connaissance',\n",
       " 'soi',\n",
       " 'clé',\n",
       " 'sagesse',\n",
       " 'extension',\n",
       " 'bonheur',\n",
       " 'Car',\n",
       " 'connaissant',\n",
       " 'comprend',\n",
       " 'mieux',\n",
       " 'désirs',\n",
       " 'distingue',\n",
       " 'plaisirs',\n",
       " 'éphémères',\n",
       " 'joies',\n",
       " 'durables',\n",
       " 'Épicure',\n",
       " 'quant',\n",
       " 'souligné',\n",
       " 'importance',\n",
       " 'plaisirs',\n",
       " 'simples',\n",
       " 'chant',\n",
       " 'oiseaux',\n",
       " 'douceur',\n",
       " 'brise',\n",
       " 'compagnie',\n",
       " 'bon',\n",
       " 'ami',\n",
       " 'invités',\n",
       " 'chercher',\n",
       " 'bonheur',\n",
       " 'modération',\n",
       " 'liberté',\n",
       " 'tourments',\n",
       " 'âme',\n",
       " 'dire',\n",
       " 'Sénèque',\n",
       " 'stoïcien',\n",
       " 'prôné',\n",
       " 'vertu',\n",
       " 'patience',\n",
       " 'acceptation',\n",
       " 'bonheur',\n",
       " 'absence',\n",
       " 'souffrance',\n",
       " 'façon',\n",
       " 'dont',\n",
       " 'fait',\n",
       " 'face',\n",
       " 'rappelle',\n",
       " 'vagues',\n",
       " 'vie',\n",
       " 'doivent',\n",
       " 'être',\n",
       " 'naviguées',\n",
       " 'courage',\n",
       " 'bonheur',\n",
       " 'souvent',\n",
       " 'fruit',\n",
       " 'capacité',\n",
       " 'vouloir',\n",
       " 'contrôler',\n",
       " 'échappe',\n",
       " 'contrôle',\n",
       " 'Enfin',\n",
       " 'Montaigne',\n",
       " 'esprit',\n",
       " 'libre',\n",
       " 'curieux',\n",
       " 'appris',\n",
       " 'bonheur',\n",
       " 'réside',\n",
       " 'appréciation',\n",
       " 'joies',\n",
       " 'vie',\n",
       " 'quotidienne',\n",
       " 'acceptation',\n",
       " 'soi',\n",
       " 'courage',\n",
       " 'être',\n",
       " 'authentique',\n",
       " 'Cherchons',\n",
       " 'donc',\n",
       " 'bonheur',\n",
       " 'non',\n",
       " 'comme',\n",
       " 'terre',\n",
       " 'promise',\n",
       " 'conquiert',\n",
       " 'comme',\n",
       " 'jardin',\n",
       " 'cultive',\n",
       " 'chaque',\n",
       " 'jour',\n",
       " 'chaque',\n",
       " 'guidé',\n",
       " 'amour',\n",
       " 'gratitude',\n",
       " 'bienveillance',\n",
       " 'chaque',\n",
       " 'regard',\n",
       " 'posé',\n",
       " 'monde',\n",
       " 'empreint',\n",
       " 'merveille',\n",
       " 'respect',\n",
       " 'bonheur',\n",
       " 'là',\n",
       " 'ici',\n",
       " 'maintenant',\n",
       " 'pleine',\n",
       " 'conscience',\n",
       " 'chaque',\n",
       " 'instant',\n",
       " 'vécu',\n",
       " 'union',\n",
       " 'paisible',\n",
       " 'esprit',\n",
       " 'cœur',\n",
       " 'battant',\n",
       " 'univers',\n",
       " 'Vivez',\n",
       " 'aimez',\n",
       " 'riez',\n",
       " 'trouvez',\n",
       " 'bonheur',\n",
       " 'cette',\n",
       " 'merveilleuse',\n",
       " 'aventure',\n",
       " 'qu',\n",
       " 'vie',\n",
       " 'Aristote',\n",
       " 'disait',\n",
       " 'bonheur',\n",
       " 'activité',\n",
       " 'âme',\n",
       " 'conforme',\n",
       " 'vertu',\n",
       " 'voyait',\n",
       " 'bonheur',\n",
       " 'non',\n",
       " 'comme',\n",
       " 'état',\n",
       " 'passif',\n",
       " 'comme',\n",
       " 'activité',\n",
       " 'pleine',\n",
       " 'engagée',\n",
       " 'poursuite',\n",
       " 'bien',\n",
       " 'vertu',\n",
       " 'bonheur',\n",
       " 'aboutissement',\n",
       " 'vie',\n",
       " 'pratique',\n",
       " 'réflexion',\n",
       " 'point',\n",
       " 'culminant',\n",
       " 'excellence',\n",
       " 'humaine',\n",
       " 'réalisation',\n",
       " 'soi',\n",
       " 'Pascal',\n",
       " 'profondeur',\n",
       " 'perspicacité',\n",
       " 'considéré',\n",
       " 'bonheur',\n",
       " 'comme',\n",
       " 'état',\n",
       " 'insaisissable',\n",
       " 'éphémère',\n",
       " 'croyait',\n",
       " 'vrai',\n",
       " 'bonheur',\n",
       " 'pouvait',\n",
       " 'être',\n",
       " 'trouvé',\n",
       " 'recherche',\n",
       " 'infini',\n",
       " 'quête',\n",
       " 'transcendance',\n",
       " 'dépasse',\n",
       " 'plaisirs',\n",
       " 'peines',\n",
       " 'monde',\n",
       " 'Pascal',\n",
       " 'bonheur',\n",
       " 'résidait',\n",
       " 'foi',\n",
       " 'lutte',\n",
       " 'intérieure',\n",
       " 'vers',\n",
       " 'compréhension',\n",
       " 'plus',\n",
       " 'profonde',\n",
       " 'existence',\n",
       " 'Nietzsche',\n",
       " 'autre',\n",
       " 'part',\n",
       " 'contesté',\n",
       " 'idées',\n",
       " 'traditionnelles',\n",
       " 'bonheur',\n",
       " 'proclamé',\n",
       " 'bonheur',\n",
       " 'produit',\n",
       " 'conformité',\n",
       " 'confort',\n",
       " 'plutôt',\n",
       " 'résultat',\n",
       " 'acceptation',\n",
       " 'affirmation',\n",
       " 'vie',\n",
       " 'toute',\n",
       " 'complexité',\n",
       " 'bonheur',\n",
       " 'intimement',\n",
       " 'lié',\n",
       " 'volonté',\n",
       " 'puissance',\n",
       " 'aspiration',\n",
       " 'individu',\n",
       " 'surmonter',\n",
       " 'défis',\n",
       " 'forger',\n",
       " 'propre',\n",
       " 'chemin',\n",
       " 'vie',\n",
       " 'Kierkegaard',\n",
       " 'exploré',\n",
       " 'bonheur',\n",
       " 'travers',\n",
       " 'prisme',\n",
       " 'existence',\n",
       " 'individuelle',\n",
       " 'subjectivité',\n",
       " 'soutenu',\n",
       " 'bonheur',\n",
       " 'dépend',\n",
       " 'capacité',\n",
       " 'individu',\n",
       " 'comprendre',\n",
       " 'soi',\n",
       " 'faire',\n",
       " 'choix',\n",
       " 'authentiques',\n",
       " 'embrasser',\n",
       " 'pleinement',\n",
       " 'existence',\n",
       " 'unique',\n",
       " 'Kierkegaard',\n",
       " 'bonheur',\n",
       " 'profondément',\n",
       " 'personnel',\n",
       " 'inextricablement',\n",
       " 'lié',\n",
       " 'quête',\n",
       " 'sens',\n",
       " 'vérité',\n",
       " 'vie',\n",
       " 'personne',\n",
       " 'Rumi',\n",
       " 'poète',\n",
       " 'soufi',\n",
       " 'vu',\n",
       " 'bonheur',\n",
       " 'comme',\n",
       " 'union',\n",
       " 'divin',\n",
       " 'immersion',\n",
       " 'amour',\n",
       " 'spiritualité',\n",
       " 'parlé',\n",
       " 'bonheur',\n",
       " 'comme',\n",
       " 'voyage',\n",
       " 'vers',\n",
       " 'intérieur',\n",
       " 'quête',\n",
       " 'découvrir',\n",
       " 'lumière',\n",
       " 'vérité',\n",
       " 'résident',\n",
       " 'cœur',\n",
       " 'chaque',\n",
       " 'être',\n",
       " 'Rumi',\n",
       " 'bonheur',\n",
       " 'expérience',\n",
       " 'extase',\n",
       " 'connexion',\n",
       " 'profonde',\n",
       " 'tout',\n",
       " 'Emerson',\n",
       " 'réflexions',\n",
       " 'nature',\n",
       " 'âme',\n",
       " 'humaine',\n",
       " 'suggéré',\n",
       " 'bonheur',\n",
       " 'réside',\n",
       " 'harmonie',\n",
       " 'monde',\n",
       " 'naturel',\n",
       " 'expression',\n",
       " 'authentique',\n",
       " 'soi',\n",
       " 'encouragé',\n",
       " 'approche',\n",
       " 'vie',\n",
       " 'embrasse',\n",
       " 'individualité',\n",
       " 'créativité',\n",
       " 'lien',\n",
       " 'profond',\n",
       " 'monde',\n",
       " 'naturel',\n",
       " 'comme',\n",
       " 'sources',\n",
       " 'bonheur',\n",
       " 'épanouissement',\n",
       " 'Thoreau',\n",
       " 'vie',\n",
       " 'simple',\n",
       " 'Walden',\n",
       " 'cherché',\n",
       " 'bonheur',\n",
       " 'simplicité',\n",
       " 'autosuffisance',\n",
       " 'vu',\n",
       " 'bonheur',\n",
       " 'comme',\n",
       " 'quelque',\n",
       " 'chose',\n",
       " 'vient',\n",
       " 'vivre',\n",
       " 'intentionnellement',\n",
       " 'harmonie',\n",
       " 'nature',\n",
       " 'accord',\n",
       " 'propres',\n",
       " 'convictions',\n",
       " 'valeurs',\n",
       " 'Camus',\n",
       " 'philosophie',\n",
       " 'absurde',\n",
       " 'considéré',\n",
       " 'bonheur',\n",
       " 'comme',\n",
       " 'révolte',\n",
       " 'contre',\n",
       " 'absurdité',\n",
       " 'existence',\n",
       " 'suggéré',\n",
       " 'trouver',\n",
       " 'bonheur',\n",
       " 'nécessite',\n",
       " 'acceptation',\n",
       " 'absurde',\n",
       " 'tout',\n",
       " 'révoltant',\n",
       " 'contre',\n",
       " 'recherche',\n",
       " 'sens',\n",
       " 'passion',\n",
       " 'beauté',\n",
       " 'vie',\n",
       " 'Tagore',\n",
       " 'poète',\n",
       " 'philosophe',\n",
       " 'indien',\n",
       " 'parlé',\n",
       " 'bonheur',\n",
       " 'comme',\n",
       " 'communion',\n",
       " 'univers',\n",
       " 'célébration',\n",
       " 'beauté',\n",
       " 'diversité',\n",
       " 'vie',\n",
       " 'vu',\n",
       " 'bonheur',\n",
       " 'comme',\n",
       " 'état',\n",
       " 'émerveillement',\n",
       " 'appréciation',\n",
       " 'richesse',\n",
       " 'existence',\n",
       " 'Lao',\n",
       " 'Tseu',\n",
       " 'enseignement',\n",
       " 'taoïste',\n",
       " 'vu',\n",
       " 'bonheur',\n",
       " 'comme',\n",
       " 'question',\n",
       " 'vivre',\n",
       " 'harmonie',\n",
       " 'Tao',\n",
       " 'chemin',\n",
       " 'naturel',\n",
       " 'choses',\n",
       " 'bonheur',\n",
       " 'vient',\n",
       " 'acceptation',\n",
       " 'simplicité',\n",
       " 'alignement',\n",
       " 'flux',\n",
       " 'naturel',\n",
       " 'vie',\n",
       " 'Confucius',\n",
       " 'souligné',\n",
       " 'importance',\n",
       " 'harmonie',\n",
       " 'sociale',\n",
       " 'moralité',\n",
       " 'devoir',\n",
       " 'comme',\n",
       " 'chemins',\n",
       " 'vers',\n",
       " 'bonheur',\n",
       " 'bonheur',\n",
       " 'lié',\n",
       " 'réalisation',\n",
       " 'soi',\n",
       " 'contexte',\n",
       " 'relations',\n",
       " 'saines',\n",
       " 'société',\n",
       " 'juste',\n",
       " 'Baudelaire',\n",
       " 'poèmes',\n",
       " 'exploré',\n",
       " 'bonheur',\n",
       " 'plaisirs',\n",
       " 'fugaces',\n",
       " 'beautés',\n",
       " 'cachées',\n",
       " 'monde',\n",
       " 'vu',\n",
       " 'bonheur',\n",
       " 'moments',\n",
       " 'révélation',\n",
       " 'beauté',\n",
       " 'émergent',\n",
       " 'aspects',\n",
       " 'plus',\n",
       " 'sombres',\n",
       " 'existence',\n",
       " 'Gandhi',\n",
       " 'quête',\n",
       " 'vérité',\n",
       " 'justice',\n",
       " 'vu',\n",
       " 'bonheur',\n",
       " 'comme',\n",
       " 'inséparable',\n",
       " 'vie',\n",
       " 'service',\n",
       " 'dévouement',\n",
       " 'autres',\n",
       " 'bonheur',\n",
       " 'venait',\n",
       " 'vivre',\n",
       " 'accord',\n",
       " 'principes',\n",
       " 'moraux',\n",
       " 'élevés',\n",
       " 'travailler',\n",
       " 'bienêtre',\n",
       " 'autres',\n",
       " 'Schopenhauer',\n",
       " 'pessimisme',\n",
       " 'philosophique',\n",
       " 'vu',\n",
       " 'bonheur',\n",
       " 'comme',\n",
       " 'idéal',\n",
       " 'souvent',\n",
       " 'inaccessible',\n",
       " 'compte',\n",
       " 'tenu',\n",
       " 'nature',\n",
       " 'souffrante',\n",
       " 'vie',\n",
       " 'Néanmoins',\n",
       " 'suggéré',\n",
       " 'bonheur',\n",
       " 'mesure',\n",
       " 'où',\n",
       " 'peut',\n",
       " 'être',\n",
       " 'atteint',\n",
       " 'vient',\n",
       " 'contemplation',\n",
       " 'esthétique',\n",
       " 'compassion',\n",
       " 'modération',\n",
       " 'désirs']"
      ]
     },
     "execution_count": 40,
     "metadata": {},
     "output_type": "execute_result"
    }
   ],
   "source": [
    "import os\n",
    "from nltk.probability import FreqDist\n",
    "\n",
    "# repertoire de travail actuel\n",
    "path = os.getcwd()\n",
    "print(f\"\\n path:\\n{path} \\n\")\n",
    "print(os.getcwd())\n",
    "# Charger le DataFrame à partir du fichier CSV\n",
    "df = pd.read_csv(\"texte_sans_espaces_ni_ponctuation.csv\")\n",
    "# on ne garde pas les lignes \\n\\n\n",
    "df = df[df['tokens'] != \"\\n\\n\"]\n",
    "tokens = df['tokens'].tolist()\n",
    "tokens\n"
   ]
  },
  {
   "cell_type": "markdown",
   "metadata": {},
   "source": [
    "## Stemmatisation avec SnowballStemmer"
   ]
  },
  {
   "cell_type": "code",
   "execution_count": 47,
   "metadata": {},
   "outputs": [
    {
     "name": "stdout",
     "output_type": "stream",
     "text": [
      "\n",
      " tokens_stemmed:\n",
      "['bonheur', 'cher', 'amis', 'phar', 'éternel', 'ver', 'lequel', 'tout', 'âme', 'naviguent', 'espoir', 'qu', 'ce', 'bonheur', 'sinon', 'harmon', 'entre', 'homm', 'existent', 'qu', 'men', 'lieu', 'lointain', 'sommet', 'atteindr', 'plutôt', 'chemin', 'lequel', 'march', 'ensembl', 'petit', 'moment', 'suit', 'respir', 'conscient', 'socrat', 'humil', 'enseign', 'connaiss', 'soi', 'clé', 'sagess', 'extens', 'bonheur', 'car', 'connaiss', 'comprend', 'mieux', 'désir', 'distingu', 'plaisir', 'éphémer', 'joi', 'durabl', 'épicur', 'quant', 'soulign', 'import', 'plaisir', 'simpl', 'chant', 'oiseau', 'douceur', 'bris', 'compagn', 'bon', 'ami', 'invit', 'cherch', 'bonheur', 'moder', 'libert', 'tourment', 'âme', 'dir', 'sénequ', 'stoïcien', 'prôn', 'vertu', 'patienc', 'accept', 'bonheur', 'absenc', 'souffranc', 'façon', 'dont', 'fait', 'fac', 'rappel', 'vagu', 'vi', 'doivent', 'être', 'navigu', 'courag', 'bonheur', 'souvent', 'fruit', 'capac', 'vouloir', 'contrôl', 'échapp', 'contrôl', 'enfin', 'montaign', 'esprit', 'libr', 'curieux', 'appris', 'bonheur', 'résid', 'appréci', 'joi', 'vi', 'quotidien', 'accept', 'soi', 'courag', 'être', 'authent', 'cherchon', 'donc', 'bonheur', 'non', 'comm', 'terr', 'promis', 'conquiert', 'comm', 'jardin', 'cultiv', 'chaqu', 'jour', 'chaqu', 'guid', 'amour', 'gratitud', 'bienveil', 'chaqu', 'regard', 'pos', 'mond', 'empreint', 'merveil', 'respect', 'bonheur', 'là', 'ici', 'mainten', 'plein', 'conscienc', 'chaqu', 'instant', 'vécu', 'union', 'paisibl', 'esprit', 'cœur', 'batt', 'univer', 'viv', 'aim', 'ri', 'trouv', 'bonheur', 'cet', 'merveil', 'aventur', 'qu', 'vi', 'aristot', 'dis', 'bonheur', 'activ', 'âme', 'conform', 'vertu', 'voi', 'bonheur', 'non', 'comm', 'état', 'passif', 'comm', 'activ', 'plein', 'engag', 'poursuit', 'bien', 'vertu', 'bonheur', 'about', 'vi', 'pratiqu', 'réflexion', 'point', 'culmin', 'excellent', 'humain', 'réalis', 'soi', 'pascal', 'profondeur', 'perspicac', 'consider', 'bonheur', 'comm', 'état', 'insaisiss', 'éphémer', 'croi', 'vrai', 'bonheur', 'pouv', 'être', 'trouv', 'recherch', 'infin', 'quêt', 'transcend', 'dep', 'plaisir', 'pein', 'mond', 'pascal', 'bonheur', 'résid', 'foi', 'lutt', 'intérieur', 'ver', 'compréhens', 'plus', 'profond', 'existent', 'nietzsch', 'autr', 'part', 'contest', 'idé', 'traditionnel', 'bonheur', 'proclam', 'bonheur', 'produit', 'conform', 'confort', 'plutôt', 'résultat', 'accept', 'affirm', 'vi', 'tout', 'complex', 'bonheur', 'intim', 'li', 'volont', 'puissanc', 'aspir', 'individu', 'surmont', 'def', 'forg', 'propr', 'chemin', 'vi', 'kierkegaard', 'explor', 'bonheur', 'traver', 'prism', 'existent', 'individuel', 'subject', 'soutenu', 'bonheur', 'dépend', 'capac', 'individu', 'comprendr', 'soi', 'fair', 'choix', 'authent', 'embrass', 'plein', 'existent', 'uniqu', 'kierkegaard', 'bonheur', 'profond', 'personnel', 'inextric', 'li', 'quêt', 'sen', 'vérit', 'vi', 'person', 'rum', 'poet', 'souf', 'vu', 'bonheur', 'comm', 'union', 'divin', 'immers', 'amour', 'spiritual', 'parl', 'bonheur', 'comm', 'voyag', 'ver', 'intérieur', 'quêt', 'découvr', 'lumi', 'vérit', 'résident', 'cœur', 'chaqu', 'être', 'rum', 'bonheur', 'expérient', 'extas', 'connexion', 'profond', 'tout', 'emerson', 'réflex', 'natur', 'âme', 'humain', 'sugger', 'bonheur', 'résid', 'harmon', 'mond', 'naturel', 'express', 'authent', 'soi', 'encourag', 'approch', 'vi', 'embrass', 'individual', 'créativ', 'lien', 'profond', 'mond', 'naturel', 'comm', 'sourc', 'bonheur', 'épanou', 'thoreau', 'vi', 'simpl', 'walden', 'cherch', 'bonheur', 'simpliqu', 'autosuffis', 'vu', 'bonheur', 'comm', 'quelqu', 'chos', 'vient', 'vivr', 'intentionnel', 'harmon', 'natur', 'accord', 'propr', 'convict', 'valeur', 'camus', 'philosoph', 'absurd', 'consider', 'bonheur', 'comm', 'révolt', 'contr', 'absurd', 'existent', 'sugger', 'trouv', 'bonheur', 'nécessit', 'accept', 'absurd', 'tout', 'révolt', 'contr', 'recherch', 'sen', 'passion', 'beaut', 'vi', 'tagor', 'poet', 'philosoph', 'indien', 'parl', 'bonheur', 'comm', 'communion', 'univer', 'célebr', 'beaut', 'divers', 'vi', 'vu', 'bonheur', 'comm', 'état', 'émerveil', 'appréci', 'richess', 'existent', 'lao', 'tseu', 'enseign', 'taoïst', 'vu', 'bonheur', 'comm', 'question', 'vivr', 'harmon', 'tao', 'chemin', 'naturel', 'chos', 'bonheur', 'vient', 'accept', 'simpliqu', 'align', 'flux', 'naturel', 'vi', 'confucius', 'soulign', 'import', 'harmon', 'social', 'moral', 'devoir', 'comm', 'chemin', 'ver', 'bonheur', 'bonheur', 'li', 'réalis', 'soi', 'context', 'relat', 'sain', 'societ', 'just', 'baudelair', 'poem', 'explor', 'bonheur', 'plaisir', 'fugac', 'beaut', 'cach', 'mond', 'vu', 'bonheur', 'moment', 'rével', 'beaut', 'émergent', 'aspect', 'plus', 'sombr', 'existent', 'gandh', 'quêt', 'vérit', 'justic', 'vu', 'bonheur', 'comm', 'insépar', 'vi', 'servic', 'dévou', 'autr', 'bonheur', 'ven', 'vivr', 'accord', 'princip', 'moral', 'élev', 'travaill', 'bienêtr', 'autr', 'schopenhau', 'pessim', 'philosoph', 'vu', 'bonheur', 'comm', 'idéal', 'souvent', 'inaccessibl', 'compt', 'tenu', 'natur', 'souffr', 'vi', 'néanmoin', 'sugger', 'bonheur', 'mesur', 'où', 'peut', 'être', 'atteint', 'vient', 'contempl', 'esthet', 'compass', 'moder', 'désir'] \n",
      "\n",
      "\n",
      " freq_dist_stem:\n",
      "<FreqDist with 323 samples and 538 outcomes> \n",
      "\n",
      "\n",
      " tokens_stemmed_plus_courant:\n",
      "[('bonheur', 43), ('comm', 16), ('vi', 14), ('existent', 7), ('vu', 7), ('soi', 6), ('harmon', 5), ('accept', 5), ('être', 5), ('chaqu', 5)] \n",
      "\n"
     ]
    }
   ],
   "source": [
    "from nltk.stem import SnowballStemmer\n",
    "stemmer = SnowballStemmer(\"french\")\n",
    "tokens_stemmed = [stemmer.stem(word) for word in tokens]\n",
    "print(f\"\\n tokens_stemmed:\\n{tokens_stemmed} \\n\")\n",
    "\n",
    "# fréquence\n",
    "freq_dist_stem = FreqDist(tokens_stemmed)\n",
    "print(f\"\\n freq_dist_stem:\\n{freq_dist_stem} \\n\")\n",
    "#  les 10 mots les plus courants\n",
    "tokens_stemmed_plus_courant = freq_dist_stem.most_common(10)\n",
    "print(f\"\\n tokens_stemmed_plus_courant:\\n{tokens_stemmed_plus_courant} \\n\")\n",
    "\n",
    "# sauve la liste preparée avec SnowballStemmer\n",
    "texte_sans_espaces_ni_ponctuation_SnowballStemmer = pd.DataFrame(\n",
    "    tokens_stemmed, columns=[\"tokens\"])\n",
    "texte_sans_espaces_ni_ponctuation_SnowballStemmer.to_csv(\n",
    "    \"texte_sans_espaces_ni_ponctuation_SnowballStemmer.csv\", index=False)\n"
   ]
  },
  {
   "cell_type": "markdown",
   "metadata": {},
   "source": [
    "### Graphique stemmer"
   ]
  },
  {
   "cell_type": "code",
   "execution_count": 43,
   "metadata": {},
   "outputs": [
    {
     "data": {
      "application/vnd.plotly.v1+json": {
       "config": {
        "plotlyServerURL": "https://plot.ly"
       },
       "data": [
        {
         "type": "bar",
         "x": [
          "bonheur",
          "comm",
          "vi",
          "existent",
          "vu",
          "soi",
          "harmon",
          "accept",
          "être",
          "chaqu"
         ],
         "y": [
          43,
          16,
          14,
          7,
          7,
          6,
          5,
          5,
          5,
          5
         ]
        }
       ],
       "layout": {
        "template": {
         "data": {
          "bar": [
           {
            "error_x": {
             "color": "#2a3f5f"
            },
            "error_y": {
             "color": "#2a3f5f"
            },
            "marker": {
             "line": {
              "color": "#E5ECF6",
              "width": 0.5
             },
             "pattern": {
              "fillmode": "overlay",
              "size": 10,
              "solidity": 0.2
             }
            },
            "type": "bar"
           }
          ],
          "barpolar": [
           {
            "marker": {
             "line": {
              "color": "#E5ECF6",
              "width": 0.5
             },
             "pattern": {
              "fillmode": "overlay",
              "size": 10,
              "solidity": 0.2
             }
            },
            "type": "barpolar"
           }
          ],
          "carpet": [
           {
            "aaxis": {
             "endlinecolor": "#2a3f5f",
             "gridcolor": "white",
             "linecolor": "white",
             "minorgridcolor": "white",
             "startlinecolor": "#2a3f5f"
            },
            "baxis": {
             "endlinecolor": "#2a3f5f",
             "gridcolor": "white",
             "linecolor": "white",
             "minorgridcolor": "white",
             "startlinecolor": "#2a3f5f"
            },
            "type": "carpet"
           }
          ],
          "choropleth": [
           {
            "colorbar": {
             "outlinewidth": 0,
             "ticks": ""
            },
            "type": "choropleth"
           }
          ],
          "contour": [
           {
            "colorbar": {
             "outlinewidth": 0,
             "ticks": ""
            },
            "colorscale": [
             [
              0,
              "#0d0887"
             ],
             [
              0.1111111111111111,
              "#46039f"
             ],
             [
              0.2222222222222222,
              "#7201a8"
             ],
             [
              0.3333333333333333,
              "#9c179e"
             ],
             [
              0.4444444444444444,
              "#bd3786"
             ],
             [
              0.5555555555555556,
              "#d8576b"
             ],
             [
              0.6666666666666666,
              "#ed7953"
             ],
             [
              0.7777777777777778,
              "#fb9f3a"
             ],
             [
              0.8888888888888888,
              "#fdca26"
             ],
             [
              1,
              "#f0f921"
             ]
            ],
            "type": "contour"
           }
          ],
          "contourcarpet": [
           {
            "colorbar": {
             "outlinewidth": 0,
             "ticks": ""
            },
            "type": "contourcarpet"
           }
          ],
          "heatmap": [
           {
            "colorbar": {
             "outlinewidth": 0,
             "ticks": ""
            },
            "colorscale": [
             [
              0,
              "#0d0887"
             ],
             [
              0.1111111111111111,
              "#46039f"
             ],
             [
              0.2222222222222222,
              "#7201a8"
             ],
             [
              0.3333333333333333,
              "#9c179e"
             ],
             [
              0.4444444444444444,
              "#bd3786"
             ],
             [
              0.5555555555555556,
              "#d8576b"
             ],
             [
              0.6666666666666666,
              "#ed7953"
             ],
             [
              0.7777777777777778,
              "#fb9f3a"
             ],
             [
              0.8888888888888888,
              "#fdca26"
             ],
             [
              1,
              "#f0f921"
             ]
            ],
            "type": "heatmap"
           }
          ],
          "heatmapgl": [
           {
            "colorbar": {
             "outlinewidth": 0,
             "ticks": ""
            },
            "colorscale": [
             [
              0,
              "#0d0887"
             ],
             [
              0.1111111111111111,
              "#46039f"
             ],
             [
              0.2222222222222222,
              "#7201a8"
             ],
             [
              0.3333333333333333,
              "#9c179e"
             ],
             [
              0.4444444444444444,
              "#bd3786"
             ],
             [
              0.5555555555555556,
              "#d8576b"
             ],
             [
              0.6666666666666666,
              "#ed7953"
             ],
             [
              0.7777777777777778,
              "#fb9f3a"
             ],
             [
              0.8888888888888888,
              "#fdca26"
             ],
             [
              1,
              "#f0f921"
             ]
            ],
            "type": "heatmapgl"
           }
          ],
          "histogram": [
           {
            "marker": {
             "pattern": {
              "fillmode": "overlay",
              "size": 10,
              "solidity": 0.2
             }
            },
            "type": "histogram"
           }
          ],
          "histogram2d": [
           {
            "colorbar": {
             "outlinewidth": 0,
             "ticks": ""
            },
            "colorscale": [
             [
              0,
              "#0d0887"
             ],
             [
              0.1111111111111111,
              "#46039f"
             ],
             [
              0.2222222222222222,
              "#7201a8"
             ],
             [
              0.3333333333333333,
              "#9c179e"
             ],
             [
              0.4444444444444444,
              "#bd3786"
             ],
             [
              0.5555555555555556,
              "#d8576b"
             ],
             [
              0.6666666666666666,
              "#ed7953"
             ],
             [
              0.7777777777777778,
              "#fb9f3a"
             ],
             [
              0.8888888888888888,
              "#fdca26"
             ],
             [
              1,
              "#f0f921"
             ]
            ],
            "type": "histogram2d"
           }
          ],
          "histogram2dcontour": [
           {
            "colorbar": {
             "outlinewidth": 0,
             "ticks": ""
            },
            "colorscale": [
             [
              0,
              "#0d0887"
             ],
             [
              0.1111111111111111,
              "#46039f"
             ],
             [
              0.2222222222222222,
              "#7201a8"
             ],
             [
              0.3333333333333333,
              "#9c179e"
             ],
             [
              0.4444444444444444,
              "#bd3786"
             ],
             [
              0.5555555555555556,
              "#d8576b"
             ],
             [
              0.6666666666666666,
              "#ed7953"
             ],
             [
              0.7777777777777778,
              "#fb9f3a"
             ],
             [
              0.8888888888888888,
              "#fdca26"
             ],
             [
              1,
              "#f0f921"
             ]
            ],
            "type": "histogram2dcontour"
           }
          ],
          "mesh3d": [
           {
            "colorbar": {
             "outlinewidth": 0,
             "ticks": ""
            },
            "type": "mesh3d"
           }
          ],
          "parcoords": [
           {
            "line": {
             "colorbar": {
              "outlinewidth": 0,
              "ticks": ""
             }
            },
            "type": "parcoords"
           }
          ],
          "pie": [
           {
            "automargin": true,
            "type": "pie"
           }
          ],
          "scatter": [
           {
            "fillpattern": {
             "fillmode": "overlay",
             "size": 10,
             "solidity": 0.2
            },
            "type": "scatter"
           }
          ],
          "scatter3d": [
           {
            "line": {
             "colorbar": {
              "outlinewidth": 0,
              "ticks": ""
             }
            },
            "marker": {
             "colorbar": {
              "outlinewidth": 0,
              "ticks": ""
             }
            },
            "type": "scatter3d"
           }
          ],
          "scattercarpet": [
           {
            "marker": {
             "colorbar": {
              "outlinewidth": 0,
              "ticks": ""
             }
            },
            "type": "scattercarpet"
           }
          ],
          "scattergeo": [
           {
            "marker": {
             "colorbar": {
              "outlinewidth": 0,
              "ticks": ""
             }
            },
            "type": "scattergeo"
           }
          ],
          "scattergl": [
           {
            "marker": {
             "colorbar": {
              "outlinewidth": 0,
              "ticks": ""
             }
            },
            "type": "scattergl"
           }
          ],
          "scattermapbox": [
           {
            "marker": {
             "colorbar": {
              "outlinewidth": 0,
              "ticks": ""
             }
            },
            "type": "scattermapbox"
           }
          ],
          "scatterpolar": [
           {
            "marker": {
             "colorbar": {
              "outlinewidth": 0,
              "ticks": ""
             }
            },
            "type": "scatterpolar"
           }
          ],
          "scatterpolargl": [
           {
            "marker": {
             "colorbar": {
              "outlinewidth": 0,
              "ticks": ""
             }
            },
            "type": "scatterpolargl"
           }
          ],
          "scatterternary": [
           {
            "marker": {
             "colorbar": {
              "outlinewidth": 0,
              "ticks": ""
             }
            },
            "type": "scatterternary"
           }
          ],
          "surface": [
           {
            "colorbar": {
             "outlinewidth": 0,
             "ticks": ""
            },
            "colorscale": [
             [
              0,
              "#0d0887"
             ],
             [
              0.1111111111111111,
              "#46039f"
             ],
             [
              0.2222222222222222,
              "#7201a8"
             ],
             [
              0.3333333333333333,
              "#9c179e"
             ],
             [
              0.4444444444444444,
              "#bd3786"
             ],
             [
              0.5555555555555556,
              "#d8576b"
             ],
             [
              0.6666666666666666,
              "#ed7953"
             ],
             [
              0.7777777777777778,
              "#fb9f3a"
             ],
             [
              0.8888888888888888,
              "#fdca26"
             ],
             [
              1,
              "#f0f921"
             ]
            ],
            "type": "surface"
           }
          ],
          "table": [
           {
            "cells": {
             "fill": {
              "color": "#EBF0F8"
             },
             "line": {
              "color": "white"
             }
            },
            "header": {
             "fill": {
              "color": "#C8D4E3"
             },
             "line": {
              "color": "white"
             }
            },
            "type": "table"
           }
          ]
         },
         "layout": {
          "annotationdefaults": {
           "arrowcolor": "#2a3f5f",
           "arrowhead": 0,
           "arrowwidth": 1
          },
          "autotypenumbers": "strict",
          "coloraxis": {
           "colorbar": {
            "outlinewidth": 0,
            "ticks": ""
           }
          },
          "colorscale": {
           "diverging": [
            [
             0,
             "#8e0152"
            ],
            [
             0.1,
             "#c51b7d"
            ],
            [
             0.2,
             "#de77ae"
            ],
            [
             0.3,
             "#f1b6da"
            ],
            [
             0.4,
             "#fde0ef"
            ],
            [
             0.5,
             "#f7f7f7"
            ],
            [
             0.6,
             "#e6f5d0"
            ],
            [
             0.7,
             "#b8e186"
            ],
            [
             0.8,
             "#7fbc41"
            ],
            [
             0.9,
             "#4d9221"
            ],
            [
             1,
             "#276419"
            ]
           ],
           "sequential": [
            [
             0,
             "#0d0887"
            ],
            [
             0.1111111111111111,
             "#46039f"
            ],
            [
             0.2222222222222222,
             "#7201a8"
            ],
            [
             0.3333333333333333,
             "#9c179e"
            ],
            [
             0.4444444444444444,
             "#bd3786"
            ],
            [
             0.5555555555555556,
             "#d8576b"
            ],
            [
             0.6666666666666666,
             "#ed7953"
            ],
            [
             0.7777777777777778,
             "#fb9f3a"
            ],
            [
             0.8888888888888888,
             "#fdca26"
            ],
            [
             1,
             "#f0f921"
            ]
           ],
           "sequentialminus": [
            [
             0,
             "#0d0887"
            ],
            [
             0.1111111111111111,
             "#46039f"
            ],
            [
             0.2222222222222222,
             "#7201a8"
            ],
            [
             0.3333333333333333,
             "#9c179e"
            ],
            [
             0.4444444444444444,
             "#bd3786"
            ],
            [
             0.5555555555555556,
             "#d8576b"
            ],
            [
             0.6666666666666666,
             "#ed7953"
            ],
            [
             0.7777777777777778,
             "#fb9f3a"
            ],
            [
             0.8888888888888888,
             "#fdca26"
            ],
            [
             1,
             "#f0f921"
            ]
           ]
          },
          "colorway": [
           "#636efa",
           "#EF553B",
           "#00cc96",
           "#ab63fa",
           "#FFA15A",
           "#19d3f3",
           "#FF6692",
           "#B6E880",
           "#FF97FF",
           "#FECB52"
          ],
          "font": {
           "color": "#2a3f5f"
          },
          "geo": {
           "bgcolor": "white",
           "lakecolor": "white",
           "landcolor": "#E5ECF6",
           "showlakes": true,
           "showland": true,
           "subunitcolor": "white"
          },
          "hoverlabel": {
           "align": "left"
          },
          "hovermode": "closest",
          "mapbox": {
           "style": "light"
          },
          "paper_bgcolor": "white",
          "plot_bgcolor": "#E5ECF6",
          "polar": {
           "angularaxis": {
            "gridcolor": "white",
            "linecolor": "white",
            "ticks": ""
           },
           "bgcolor": "#E5ECF6",
           "radialaxis": {
            "gridcolor": "white",
            "linecolor": "white",
            "ticks": ""
           }
          },
          "scene": {
           "xaxis": {
            "backgroundcolor": "#E5ECF6",
            "gridcolor": "white",
            "gridwidth": 2,
            "linecolor": "white",
            "showbackground": true,
            "ticks": "",
            "zerolinecolor": "white"
           },
           "yaxis": {
            "backgroundcolor": "#E5ECF6",
            "gridcolor": "white",
            "gridwidth": 2,
            "linecolor": "white",
            "showbackground": true,
            "ticks": "",
            "zerolinecolor": "white"
           },
           "zaxis": {
            "backgroundcolor": "#E5ECF6",
            "gridcolor": "white",
            "gridwidth": 2,
            "linecolor": "white",
            "showbackground": true,
            "ticks": "",
            "zerolinecolor": "white"
           }
          },
          "shapedefaults": {
           "line": {
            "color": "#2a3f5f"
           }
          },
          "ternary": {
           "aaxis": {
            "gridcolor": "white",
            "linecolor": "white",
            "ticks": ""
           },
           "baxis": {
            "gridcolor": "white",
            "linecolor": "white",
            "ticks": ""
           },
           "bgcolor": "#E5ECF6",
           "caxis": {
            "gridcolor": "white",
            "linecolor": "white",
            "ticks": ""
           }
          },
          "title": {
           "x": 0.05
          },
          "xaxis": {
           "automargin": true,
           "gridcolor": "white",
           "linecolor": "white",
           "ticks": "",
           "title": {
            "standoff": 15
           },
           "zerolinecolor": "white",
           "zerolinewidth": 2
          },
          "yaxis": {
           "automargin": true,
           "gridcolor": "white",
           "linecolor": "white",
           "ticks": "",
           "title": {
            "standoff": 15
           },
           "zerolinecolor": "white",
           "zerolinewidth": 2
          }
         }
        },
        "title": {
         "text": "Fréquence des mots après Stemmatisation SnowballStemmer"
        },
        "xaxis": {
         "title": {
          "text": "Mots"
         }
        },
        "yaxis": {
         "title": {
          "text": "Fréquence"
         }
        }
       }
      }
     },
     "metadata": {},
     "output_type": "display_data"
    }
   ],
   "source": [
    "# Préparer les données pour le graphique\n",
    "mots_stemming = [word for word, freq in tokens_stemmed_plus_courant]\n",
    "frequences_stemming = [freq for word, freq in tokens_stemmed_plus_courant]\n",
    "\n",
    "# Créer un graphique en barres\n",
    "fig_stemming = go.Figure(data=[go.Bar(x=mots_stemming, y=frequences_stemming)])\n",
    "\n",
    "# Mettre à jour le layout\n",
    "fig_stemming.update_layout(\n",
    "    title_text=\"Fréquence des mots après Stemmatisation SnowballStemmer\",\n",
    "    xaxis_title=\"Mots\",\n",
    "    yaxis_title=\"Fréquence\",\n",
    ")\n",
    "\n",
    "fig_stemming.show()\n"
   ]
  },
  {
   "cell_type": "markdown",
   "metadata": {},
   "source": [
    "## Lemmatisation avec Textblob"
   ]
  },
  {
   "cell_type": "code",
   "execution_count": 41,
   "metadata": {},
   "outputs": [
    {
     "name": "stdout",
     "output_type": "stream",
     "text": [
      "Collecting textblob_fr\n",
      "  Using cached textblob_fr-0.2.0-py2.py3-none-any.whl (561 kB)\n",
      "Requirement already satisfied: textblob>=0.8.0 in c:\\users\\romar\\appdata\\local\\programs\\python\\python312\\lib\\site-packages (from textblob_fr) (0.17.1)\n",
      "Requirement already satisfied: nltk>=3.1 in c:\\users\\romar\\appdata\\local\\programs\\python\\python312\\lib\\site-packages (from textblob>=0.8.0->textblob_fr) (3.8.1)\n",
      "Requirement already satisfied: click in c:\\users\\romar\\appdata\\local\\programs\\python\\python312\\lib\\site-packages (from nltk>=3.1->textblob>=0.8.0->textblob_fr) (8.1.7)\n",
      "Requirement already satisfied: joblib in c:\\users\\romar\\appdata\\local\\programs\\python\\python312\\lib\\site-packages (from nltk>=3.1->textblob>=0.8.0->textblob_fr) (1.3.2)\n",
      "Requirement already satisfied: regex>=2021.8.3 in c:\\users\\romar\\appdata\\local\\programs\\python\\python312\\lib\\site-packages (from nltk>=3.1->textblob>=0.8.0->textblob_fr) (2023.10.3)\n",
      "Requirement already satisfied: tqdm in c:\\users\\romar\\appdata\\local\\programs\\python\\python312\\lib\\site-packages (from nltk>=3.1->textblob>=0.8.0->textblob_fr) (4.66.1)\n",
      "Requirement already satisfied: colorama in c:\\users\\romar\\appdata\\roaming\\python\\python312\\site-packages (from click->nltk>=3.1->textblob>=0.8.0->textblob_fr) (0.4.6)\n",
      "Installing collected packages: textblob_fr\n",
      "Successfully installed textblob_fr-0.2.0\n"
     ]
    }
   ],
   "source": [
    "# pour une stemmatisation avec texblob\n",
    "!pip install textblob\n",
    "!pip install textblob_fr\n",
    "!pip install pattern\n",
    "\n"
   ]
  },
  {
   "cell_type": "code",
   "execution_count": 48,
   "metadata": {},
   "outputs": [
    {
     "name": "stdout",
     "output_type": "stream",
     "text": [
      "\n",
      " df:\n",
      "            tokens\n",
      "0          bonheur\n",
      "1            chers\n",
      "2             amis\n",
      "3            phare\n",
      "4          éternel\n",
      "..             ...\n",
      "553  contemplation\n",
      "554     esthétique\n",
      "555     compassion\n",
      "556     modération\n",
      "557         désirs\n",
      "\n",
      "[538 rows x 1 columns] \n",
      "\n",
      "\n",
      " tokens:\n",
      "['bonheur', 'chers', 'amis', 'phare', 'éternel', 'vers', 'lequel', 'toutes', 'âmes', 'naviguent', 'espoir', 'qu', 'ce', 'bonheur', 'sinon', 'harmonie', 'entre', 'homme', 'existence', 'qu', 'mène', 'lieu', 'lointain', 'sommet', 'atteindre', 'plutôt', 'chemin', 'lequel', 'marche', 'ensemble', 'petits', 'moments', 'suite', 'respirations', 'conscientes', 'Socrate', 'humilité', 'enseigné', 'connaissance', 'soi', 'clé', 'sagesse', 'extension', 'bonheur', 'Car', 'connaissant', 'comprend', 'mieux', 'désirs', 'distingue', 'plaisirs', 'éphémères', 'joies', 'durables', 'Épicure', 'quant', 'souligné', 'importance', 'plaisirs', 'simples', 'chant', 'oiseaux', 'douceur', 'brise', 'compagnie', 'bon', 'ami', 'invités', 'chercher', 'bonheur', 'modération', 'liberté', 'tourments', 'âme', 'dire', 'Sénèque', 'stoïcien', 'prôné', 'vertu', 'patience', 'acceptation', 'bonheur', 'absence', 'souffrance', 'façon', 'dont', 'fait', 'face', 'rappelle', 'vagues', 'vie', 'doivent', 'être', 'naviguées', 'courage', 'bonheur', 'souvent', 'fruit', 'capacité', 'vouloir', 'contrôler', 'échappe', 'contrôle', 'Enfin', 'Montaigne', 'esprit', 'libre', 'curieux', 'appris', 'bonheur', 'réside', 'appréciation', 'joies', 'vie', 'quotidienne', 'acceptation', 'soi', 'courage', 'être', 'authentique', 'Cherchons', 'donc', 'bonheur', 'non', 'comme', 'terre', 'promise', 'conquiert', 'comme', 'jardin', 'cultive', 'chaque', 'jour', 'chaque', 'guidé', 'amour', 'gratitude', 'bienveillance', 'chaque', 'regard', 'posé', 'monde', 'empreint', 'merveille', 'respect', 'bonheur', 'là', 'ici', 'maintenant', 'pleine', 'conscience', 'chaque', 'instant', 'vécu', 'union', 'paisible', 'esprit', 'cœur', 'battant', 'univers', 'Vivez', 'aimez', 'riez', 'trouvez', 'bonheur', 'cette', 'merveilleuse', 'aventure', 'qu', 'vie', 'Aristote', 'disait', 'bonheur', 'activité', 'âme', 'conforme', 'vertu', 'voyait', 'bonheur', 'non', 'comme', 'état', 'passif', 'comme', 'activité', 'pleine', 'engagée', 'poursuite', 'bien', 'vertu', 'bonheur', 'aboutissement', 'vie', 'pratique', 'réflexion', 'point', 'culminant', 'excellence', 'humaine', 'réalisation', 'soi', 'Pascal', 'profondeur', 'perspicacité', 'considéré', 'bonheur', 'comme', 'état', 'insaisissable', 'éphémère', 'croyait', 'vrai', 'bonheur', 'pouvait', 'être', 'trouvé', 'recherche', 'infini', 'quête', 'transcendance', 'dépasse', 'plaisirs', 'peines', 'monde', 'Pascal', 'bonheur', 'résidait', 'foi', 'lutte', 'intérieure', 'vers', 'compréhension', 'plus', 'profonde', 'existence', 'Nietzsche', 'autre', 'part', 'contesté', 'idées', 'traditionnelles', 'bonheur', 'proclamé', 'bonheur', 'produit', 'conformité', 'confort', 'plutôt', 'résultat', 'acceptation', 'affirmation', 'vie', 'toute', 'complexité', 'bonheur', 'intimement', 'lié', 'volonté', 'puissance', 'aspiration', 'individu', 'surmonter', 'défis', 'forger', 'propre', 'chemin', 'vie', 'Kierkegaard', 'exploré', 'bonheur', 'travers', 'prisme', 'existence', 'individuelle', 'subjectivité', 'soutenu', 'bonheur', 'dépend', 'capacité', 'individu', 'comprendre', 'soi', 'faire', 'choix', 'authentiques', 'embrasser', 'pleinement', 'existence', 'unique', 'Kierkegaard', 'bonheur', 'profondément', 'personnel', 'inextricablement', 'lié', 'quête', 'sens', 'vérité', 'vie', 'personne', 'Rumi', 'poète', 'soufi', 'vu', 'bonheur', 'comme', 'union', 'divin', 'immersion', 'amour', 'spiritualité', 'parlé', 'bonheur', 'comme', 'voyage', 'vers', 'intérieur', 'quête', 'découvrir', 'lumière', 'vérité', 'résident', 'cœur', 'chaque', 'être', 'Rumi', 'bonheur', 'expérience', 'extase', 'connexion', 'profonde', 'tout', 'Emerson', 'réflexions', 'nature', 'âme', 'humaine', 'suggéré', 'bonheur', 'réside', 'harmonie', 'monde', 'naturel', 'expression', 'authentique', 'soi', 'encouragé', 'approche', 'vie', 'embrasse', 'individualité', 'créativité', 'lien', 'profond', 'monde', 'naturel', 'comme', 'sources', 'bonheur', 'épanouissement', 'Thoreau', 'vie', 'simple', 'Walden', 'cherché', 'bonheur', 'simplicité', 'autosuffisance', 'vu', 'bonheur', 'comme', 'quelque', 'chose', 'vient', 'vivre', 'intentionnellement', 'harmonie', 'nature', 'accord', 'propres', 'convictions', 'valeurs', 'Camus', 'philosophie', 'absurde', 'considéré', 'bonheur', 'comme', 'révolte', 'contre', 'absurdité', 'existence', 'suggéré', 'trouver', 'bonheur', 'nécessite', 'acceptation', 'absurde', 'tout', 'révoltant', 'contre', 'recherche', 'sens', 'passion', 'beauté', 'vie', 'Tagore', 'poète', 'philosophe', 'indien', 'parlé', 'bonheur', 'comme', 'communion', 'univers', 'célébration', 'beauté', 'diversité', 'vie', 'vu', 'bonheur', 'comme', 'état', 'émerveillement', 'appréciation', 'richesse', 'existence', 'Lao', 'Tseu', 'enseignement', 'taoïste', 'vu', 'bonheur', 'comme', 'question', 'vivre', 'harmonie', 'Tao', 'chemin', 'naturel', 'choses', 'bonheur', 'vient', 'acceptation', 'simplicité', 'alignement', 'flux', 'naturel', 'vie', 'Confucius', 'souligné', 'importance', 'harmonie', 'sociale', 'moralité', 'devoir', 'comme', 'chemins', 'vers', 'bonheur', 'bonheur', 'lié', 'réalisation', 'soi', 'contexte', 'relations', 'saines', 'société', 'juste', 'Baudelaire', 'poèmes', 'exploré', 'bonheur', 'plaisirs', 'fugaces', 'beautés', 'cachées', 'monde', 'vu', 'bonheur', 'moments', 'révélation', 'beauté', 'émergent', 'aspects', 'plus', 'sombres', 'existence', 'Gandhi', 'quête', 'vérité', 'justice', 'vu', 'bonheur', 'comme', 'inséparable', 'vie', 'service', 'dévouement', 'autres', 'bonheur', 'venait', 'vivre', 'accord', 'principes', 'moraux', 'élevés', 'travailler', 'bienêtre', 'autres', 'Schopenhauer', 'pessimisme', 'philosophique', 'vu', 'bonheur', 'comme', 'idéal', 'souvent', 'inaccessible', 'compte', 'tenu', 'nature', 'souffrante', 'vie', 'Néanmoins', 'suggéré', 'bonheur', 'mesure', 'où', 'peut', 'être', 'atteint', 'vient', 'contemplation', 'esthétique', 'compassion', 'modération', 'désirs'] \n",
      "\n",
      "\n",
      " texte:\n",
      "bonheur chers amis phare éternel vers lequel toutes âmes naviguent espoir qu ce bonheur sinon harmonie entre homme existence qu mène lieu lointain sommet atteindre plutôt chemin lequel marche ensemble petits moments suite respirations conscientes Socrate humilité enseigné connaissance soi clé sagesse extension bonheur Car connaissant comprend mieux désirs distingue plaisirs éphémères joies durables Épicure quant souligné importance plaisirs simples chant oiseaux douceur brise compagnie bon ami invités chercher bonheur modération liberté tourments âme dire Sénèque stoïcien prôné vertu patience acceptation bonheur absence souffrance façon dont fait face rappelle vagues vie doivent être naviguées courage bonheur souvent fruit capacité vouloir contrôler échappe contrôle Enfin Montaigne esprit libre curieux appris bonheur réside appréciation joies vie quotidienne acceptation soi courage être authentique Cherchons donc bonheur non comme terre promise conquiert comme jardin cultive chaque jour chaque guidé amour gratitude bienveillance chaque regard posé monde empreint merveille respect bonheur là ici maintenant pleine conscience chaque instant vécu union paisible esprit cœur battant univers Vivez aimez riez trouvez bonheur cette merveilleuse aventure qu vie Aristote disait bonheur activité âme conforme vertu voyait bonheur non comme état passif comme activité pleine engagée poursuite bien vertu bonheur aboutissement vie pratique réflexion point culminant excellence humaine réalisation soi Pascal profondeur perspicacité considéré bonheur comme état insaisissable éphémère croyait vrai bonheur pouvait être trouvé recherche infini quête transcendance dépasse plaisirs peines monde Pascal bonheur résidait foi lutte intérieure vers compréhension plus profonde existence Nietzsche autre part contesté idées traditionnelles bonheur proclamé bonheur produit conformité confort plutôt résultat acceptation affirmation vie toute complexité bonheur intimement lié volonté puissance aspiration individu surmonter défis forger propre chemin vie Kierkegaard exploré bonheur travers prisme existence individuelle subjectivité soutenu bonheur dépend capacité individu comprendre soi faire choix authentiques embrasser pleinement existence unique Kierkegaard bonheur profondément personnel inextricablement lié quête sens vérité vie personne Rumi poète soufi vu bonheur comme union divin immersion amour spiritualité parlé bonheur comme voyage vers intérieur quête découvrir lumière vérité résident cœur chaque être Rumi bonheur expérience extase connexion profonde tout Emerson réflexions nature âme humaine suggéré bonheur réside harmonie monde naturel expression authentique soi encouragé approche vie embrasse individualité créativité lien profond monde naturel comme sources bonheur épanouissement Thoreau vie simple Walden cherché bonheur simplicité autosuffisance vu bonheur comme quelque chose vient vivre intentionnellement harmonie nature accord propres convictions valeurs Camus philosophie absurde considéré bonheur comme révolte contre absurdité existence suggéré trouver bonheur nécessite acceptation absurde tout révoltant contre recherche sens passion beauté vie Tagore poète philosophe indien parlé bonheur comme communion univers célébration beauté diversité vie vu bonheur comme état émerveillement appréciation richesse existence Lao Tseu enseignement taoïste vu bonheur comme question vivre harmonie Tao chemin naturel choses bonheur vient acceptation simplicité alignement flux naturel vie Confucius souligné importance harmonie sociale moralité devoir comme chemins vers bonheur bonheur lié réalisation soi contexte relations saines société juste Baudelaire poèmes exploré bonheur plaisirs fugaces beautés cachées monde vu bonheur moments révélation beauté émergent aspects plus sombres existence Gandhi quête vérité justice vu bonheur comme inséparable vie service dévouement autres bonheur venait vivre accord principes moraux élevés travailler bienêtre autres Schopenhauer pessimisme philosophique vu bonheur comme idéal souvent inaccessible compte tenu nature souffrante vie Néanmoins suggéré bonheur mesure où peut être atteint vient contemplation esthétique compassion modération désirs \n",
      "\n",
      "\n",
      " blob:\n",
      "bonheur chers amis phare éternel vers lequel toutes âmes naviguent espoir qu ce bonheur sinon harmonie entre homme existence qu mène lieu lointain sommet atteindre plutôt chemin lequel marche ensemble petits moments suite respirations conscientes Socrate humilité enseigné connaissance soi clé sagesse extension bonheur Car connaissant comprend mieux désirs distingue plaisirs éphémères joies durables Épicure quant souligné importance plaisirs simples chant oiseaux douceur brise compagnie bon ami invités chercher bonheur modération liberté tourments âme dire Sénèque stoïcien prôné vertu patience acceptation bonheur absence souffrance façon dont fait face rappelle vagues vie doivent être naviguées courage bonheur souvent fruit capacité vouloir contrôler échappe contrôle Enfin Montaigne esprit libre curieux appris bonheur réside appréciation joies vie quotidienne acceptation soi courage être authentique Cherchons donc bonheur non comme terre promise conquiert comme jardin cultive chaque jour chaque guidé amour gratitude bienveillance chaque regard posé monde empreint merveille respect bonheur là ici maintenant pleine conscience chaque instant vécu union paisible esprit cœur battant univers Vivez aimez riez trouvez bonheur cette merveilleuse aventure qu vie Aristote disait bonheur activité âme conforme vertu voyait bonheur non comme état passif comme activité pleine engagée poursuite bien vertu bonheur aboutissement vie pratique réflexion point culminant excellence humaine réalisation soi Pascal profondeur perspicacité considéré bonheur comme état insaisissable éphémère croyait vrai bonheur pouvait être trouvé recherche infini quête transcendance dépasse plaisirs peines monde Pascal bonheur résidait foi lutte intérieure vers compréhension plus profonde existence Nietzsche autre part contesté idées traditionnelles bonheur proclamé bonheur produit conformité confort plutôt résultat acceptation affirmation vie toute complexité bonheur intimement lié volonté puissance aspiration individu surmonter défis forger propre chemin vie Kierkegaard exploré bonheur travers prisme existence individuelle subjectivité soutenu bonheur dépend capacité individu comprendre soi faire choix authentiques embrasser pleinement existence unique Kierkegaard bonheur profondément personnel inextricablement lié quête sens vérité vie personne Rumi poète soufi vu bonheur comme union divin immersion amour spiritualité parlé bonheur comme voyage vers intérieur quête découvrir lumière vérité résident cœur chaque être Rumi bonheur expérience extase connexion profonde tout Emerson réflexions nature âme humaine suggéré bonheur réside harmonie monde naturel expression authentique soi encouragé approche vie embrasse individualité créativité lien profond monde naturel comme sources bonheur épanouissement Thoreau vie simple Walden cherché bonheur simplicité autosuffisance vu bonheur comme quelque chose vient vivre intentionnellement harmonie nature accord propres convictions valeurs Camus philosophie absurde considéré bonheur comme révolte contre absurdité existence suggéré trouver bonheur nécessite acceptation absurde tout révoltant contre recherche sens passion beauté vie Tagore poète philosophe indien parlé bonheur comme communion univers célébration beauté diversité vie vu bonheur comme état émerveillement appréciation richesse existence Lao Tseu enseignement taoïste vu bonheur comme question vivre harmonie Tao chemin naturel choses bonheur vient acceptation simplicité alignement flux naturel vie Confucius souligné importance harmonie sociale moralité devoir comme chemins vers bonheur bonheur lié réalisation soi contexte relations saines société juste Baudelaire poèmes exploré bonheur plaisirs fugaces beautés cachées monde vu bonheur moments révélation beauté émergent aspects plus sombres existence Gandhi quête vérité justice vu bonheur comme inséparable vie service dévouement autres bonheur venait vivre accord principes moraux élevés travailler bienêtre autres Schopenhauer pessimisme philosophique vu bonheur comme idéal souvent inaccessible compte tenu nature souffrante vie Néanmoins suggéré bonheur mesure où peut être atteint vient contemplation esthétique compassion modération désirs \n",
      "\n",
      "\n",
      " tokens_lemmatized:\n",
      "['bonheur', 'chers', 'amis', 'phare', 'éternel', 'vers', 'lequel', 'toutes', 'âmes', 'naviguent', 'espoir', 'qu', 'ce', 'bonheur', 'sinon', 'harmonie', 'entre', 'homme', 'existence', 'qu', 'mène', 'lieu', 'lointain', 'sommet', 'atteindre', 'plutôt', 'chemin', 'lequel', 'marche', 'ensemble', 'petits', 'moment', 'suite', 'respiration', 'conscientes', 'Socrate', 'humilité', 'enseigné', 'connaissance', 'soi', 'clé', 'sagesse', 'extension', 'bonheur', 'Car', 'connaissant', 'comprend', 'mieux', 'désirs', 'distingue', 'plaisirs', 'éphémères', 'joy', 'durables', 'Épicure', 'quant', 'souligné', 'importance', 'plaisirs', 'simple', 'chant', 'oiseaux', 'douceur', 'brise', 'compagnie', 'bon', 'ami', 'invités', 'chercher', 'bonheur', 'modération', 'liberté', 'tourments', 'âme', 'dire', 'Sénèque', 'stoïcien', 'prôné', 'vertu', 'patience', 'acceptation', 'bonheur', 'absence', 'souffrance', 'façon', 'dont', 'fait', 'face', 'rappelle', 'vagues', 'vie', 'doivent', 'être', 'naviguées', 'courage', 'bonheur', 'souvent', 'fruit', 'capacité', 'vouloir', 'contrôler', 'échappe', 'contrôle', 'Enfin', 'Montaigne', 'esprit', 'libre', 'curieux', 'appris', 'bonheur', 'réside', 'appréciation', 'joy', 'vie', 'quotidienne', 'acceptation', 'soi', 'courage', 'être', 'authentique', 'Cherchons', 'donc', 'bonheur', 'non', 'comme', 'terre', 'promise', 'conquiert', 'comme', 'jardin', 'cultive', 'chaque', 'jour', 'chaque', 'guidé', 'amour', 'gratitude', 'bienveillance', 'chaque', 'regard', 'posé', 'monde', 'empreint', 'merveille', 'respect', 'bonheur', 'là', 'ici', 'maintenant', 'pleine', 'conscience', 'chaque', 'instant', 'vécu', 'union', 'paisible', 'esprit', 'cœur', 'battant', 'univers', 'Vivez', 'aimez', 'riez', 'trouvez', 'bonheur', 'cette', 'merveilleuse', 'aventure', 'qu', 'vie', 'Aristote', 'disait', 'bonheur', 'activité', 'âme', 'conforme', 'vertu', 'voyait', 'bonheur', 'non', 'comme', 'état', 'passif', 'comme', 'activité', 'pleine', 'engagée', 'poursuite', 'bien', 'vertu', 'bonheur', 'aboutissement', 'vie', 'pratique', 'réflexion', 'point', 'culminant', 'excellence', 'humaine', 'réalisation', 'soi', 'Pascal', 'profondeur', 'perspicacité', 'considéré', 'bonheur', 'comme', 'état', 'insaisissable', 'éphémère', 'croyait', 'vrai', 'bonheur', 'pouvait', 'être', 'trouvé', 'recherche', 'infini', 'quête', 'transcendance', 'dépasse', 'plaisirs', 'peines', 'monde', 'Pascal', 'bonheur', 'résidait', 'foi', 'lutte', 'intérieure', 'vers', 'compréhension', 'plus', 'profonde', 'existence', 'Nietzsche', 'autre', 'part', 'contesté', 'idées', 'traditionnelles', 'bonheur', 'proclamé', 'bonheur', 'produit', 'conformité', 'confort', 'plutôt', 'résultat', 'acceptation', 'affirmation', 'vie', 'toute', 'complexité', 'bonheur', 'intimement', 'lié', 'volonté', 'puissance', 'aspiration', 'individu', 'surmonter', 'défis', 'forger', 'propre', 'chemin', 'vie', 'Kierkegaard', 'exploré', 'bonheur', 'travers', 'prisme', 'existence', 'individuelle', 'subjectivité', 'soutenu', 'bonheur', 'dépend', 'capacité', 'individu', 'comprendre', 'soi', 'faire', 'choix', 'authentiques', 'embrasser', 'pleinement', 'existence', 'unique', 'Kierkegaard', 'bonheur', 'profondément', 'personnel', 'inextricablement', 'lié', 'quête', 'sen', 'vérité', 'vie', 'personne', 'Rumi', 'poète', 'soufi', 'vu', 'bonheur', 'comme', 'union', 'divin', 'immersion', 'amour', 'spiritualité', 'parlé', 'bonheur', 'comme', 'voyage', 'vers', 'intérieur', 'quête', 'découvrir', 'lumière', 'vérité', 'résident', 'cœur', 'chaque', 'être', 'Rumi', 'bonheur', 'expérience', 'extase', 'connexion', 'profonde', 'tout', 'Emerson', 'réflexions', 'nature', 'âme', 'humaine', 'suggéré', 'bonheur', 'réside', 'harmonie', 'monde', 'naturel', 'expression', 'authentique', 'soi', 'encouragé', 'approche', 'vie', 'embrasse', 'individualité', 'créativité', 'lien', 'profond', 'monde', 'naturel', 'comme', 'source', 'bonheur', 'épanouissement', 'Thoreau', 'vie', 'simple', 'Walden', 'cherché', 'bonheur', 'simplicité', 'autosuffisance', 'vu', 'bonheur', 'comme', 'quelque', 'chose', 'vient', 'vivre', 'intentionnellement', 'harmonie', 'nature', 'accord', 'propres', 'conviction', 'valeurs', 'Camus', 'philosophie', 'absurde', 'considéré', 'bonheur', 'comme', 'révolte', 'contre', 'absurdité', 'existence', 'suggéré', 'trouver', 'bonheur', 'nécessite', 'acceptation', 'absurde', 'tout', 'révoltant', 'contre', 'recherche', 'sen', 'passion', 'beauté', 'vie', 'Tagore', 'poète', 'philosophe', 'indien', 'parlé', 'bonheur', 'comme', 'communion', 'univers', 'célébration', 'beauté', 'diversité', 'vie', 'vu', 'bonheur', 'comme', 'état', 'émerveillement', 'appréciation', 'richesse', 'existence', 'Lao', 'Tseu', 'enseignement', 'taoïste', 'vu', 'bonheur', 'comme', 'question', 'vivre', 'harmonie', 'Tao', 'chemin', 'naturel', 'choses', 'bonheur', 'vient', 'acceptation', 'simplicité', 'alignement', 'flux', 'naturel', 'vie', 'Confucius', 'souligné', 'importance', 'harmonie', 'sociale', 'moralité', 'devoir', 'comme', 'chemins', 'vers', 'bonheur', 'bonheur', 'lié', 'réalisation', 'soi', 'contexte', 'relation', 'saines', 'société', 'juste', 'Baudelaire', 'poèmes', 'exploré', 'bonheur', 'plaisirs', 'fugaces', 'beautés', 'cachées', 'monde', 'vu', 'bonheur', 'moment', 'révélation', 'beauté', 'émergent', 'aspect', 'plus', 'sombres', 'existence', 'Gandhi', 'quête', 'vérité', 'justice', 'vu', 'bonheur', 'comme', 'inséparable', 'vie', 'service', 'dévouement', 'autres', 'bonheur', 'venait', 'vivre', 'accord', 'principe', 'moraux', 'élevés', 'travailler', 'bienêtre', 'autres', 'Schopenhauer', 'pessimisme', 'philosophique', 'vu', 'bonheur', 'comme', 'idéal', 'souvent', 'inaccessible', 'compte', 'tenu', 'nature', 'souffrante', 'vie', 'Néanmoins', 'suggéré', 'bonheur', 'mesure', 'où', 'peut', 'être', 'atteint', 'vient', 'contemplation', 'esthétique', 'compassion', 'modération', 'désirs'] \n",
      "\n",
      "\n",
      " freq_dist_lemma:\n",
      "<FreqDist with 352 samples and 538 outcomes> \n",
      "\n",
      "\n",
      " tokens_lemmatized_plus_courant:\n",
      "[('bonheur', 43), ('comme', 16), ('vie', 14), ('existence', 7), ('vu', 7), ('soi', 6), ('harmonie', 5), ('acceptation', 5), ('être', 5), ('chaque', 5)] \n",
      "\n"
     ]
    },
    {
     "data": {
      "application/vnd.plotly.v1+json": {
       "config": {
        "plotlyServerURL": "https://plot.ly"
       },
       "data": [
        {
         "type": "bar",
         "x": [
          "bonheur",
          "comme",
          "vie",
          "existence",
          "vu",
          "soi",
          "harmonie",
          "acceptation",
          "être",
          "chaque"
         ],
         "y": [
          43,
          16,
          14,
          7,
          7,
          6,
          5,
          5,
          5,
          5
         ]
        }
       ],
       "layout": {
        "template": {
         "data": {
          "bar": [
           {
            "error_x": {
             "color": "#2a3f5f"
            },
            "error_y": {
             "color": "#2a3f5f"
            },
            "marker": {
             "line": {
              "color": "#E5ECF6",
              "width": 0.5
             },
             "pattern": {
              "fillmode": "overlay",
              "size": 10,
              "solidity": 0.2
             }
            },
            "type": "bar"
           }
          ],
          "barpolar": [
           {
            "marker": {
             "line": {
              "color": "#E5ECF6",
              "width": 0.5
             },
             "pattern": {
              "fillmode": "overlay",
              "size": 10,
              "solidity": 0.2
             }
            },
            "type": "barpolar"
           }
          ],
          "carpet": [
           {
            "aaxis": {
             "endlinecolor": "#2a3f5f",
             "gridcolor": "white",
             "linecolor": "white",
             "minorgridcolor": "white",
             "startlinecolor": "#2a3f5f"
            },
            "baxis": {
             "endlinecolor": "#2a3f5f",
             "gridcolor": "white",
             "linecolor": "white",
             "minorgridcolor": "white",
             "startlinecolor": "#2a3f5f"
            },
            "type": "carpet"
           }
          ],
          "choropleth": [
           {
            "colorbar": {
             "outlinewidth": 0,
             "ticks": ""
            },
            "type": "choropleth"
           }
          ],
          "contour": [
           {
            "colorbar": {
             "outlinewidth": 0,
             "ticks": ""
            },
            "colorscale": [
             [
              0,
              "#0d0887"
             ],
             [
              0.1111111111111111,
              "#46039f"
             ],
             [
              0.2222222222222222,
              "#7201a8"
             ],
             [
              0.3333333333333333,
              "#9c179e"
             ],
             [
              0.4444444444444444,
              "#bd3786"
             ],
             [
              0.5555555555555556,
              "#d8576b"
             ],
             [
              0.6666666666666666,
              "#ed7953"
             ],
             [
              0.7777777777777778,
              "#fb9f3a"
             ],
             [
              0.8888888888888888,
              "#fdca26"
             ],
             [
              1,
              "#f0f921"
             ]
            ],
            "type": "contour"
           }
          ],
          "contourcarpet": [
           {
            "colorbar": {
             "outlinewidth": 0,
             "ticks": ""
            },
            "type": "contourcarpet"
           }
          ],
          "heatmap": [
           {
            "colorbar": {
             "outlinewidth": 0,
             "ticks": ""
            },
            "colorscale": [
             [
              0,
              "#0d0887"
             ],
             [
              0.1111111111111111,
              "#46039f"
             ],
             [
              0.2222222222222222,
              "#7201a8"
             ],
             [
              0.3333333333333333,
              "#9c179e"
             ],
             [
              0.4444444444444444,
              "#bd3786"
             ],
             [
              0.5555555555555556,
              "#d8576b"
             ],
             [
              0.6666666666666666,
              "#ed7953"
             ],
             [
              0.7777777777777778,
              "#fb9f3a"
             ],
             [
              0.8888888888888888,
              "#fdca26"
             ],
             [
              1,
              "#f0f921"
             ]
            ],
            "type": "heatmap"
           }
          ],
          "heatmapgl": [
           {
            "colorbar": {
             "outlinewidth": 0,
             "ticks": ""
            },
            "colorscale": [
             [
              0,
              "#0d0887"
             ],
             [
              0.1111111111111111,
              "#46039f"
             ],
             [
              0.2222222222222222,
              "#7201a8"
             ],
             [
              0.3333333333333333,
              "#9c179e"
             ],
             [
              0.4444444444444444,
              "#bd3786"
             ],
             [
              0.5555555555555556,
              "#d8576b"
             ],
             [
              0.6666666666666666,
              "#ed7953"
             ],
             [
              0.7777777777777778,
              "#fb9f3a"
             ],
             [
              0.8888888888888888,
              "#fdca26"
             ],
             [
              1,
              "#f0f921"
             ]
            ],
            "type": "heatmapgl"
           }
          ],
          "histogram": [
           {
            "marker": {
             "pattern": {
              "fillmode": "overlay",
              "size": 10,
              "solidity": 0.2
             }
            },
            "type": "histogram"
           }
          ],
          "histogram2d": [
           {
            "colorbar": {
             "outlinewidth": 0,
             "ticks": ""
            },
            "colorscale": [
             [
              0,
              "#0d0887"
             ],
             [
              0.1111111111111111,
              "#46039f"
             ],
             [
              0.2222222222222222,
              "#7201a8"
             ],
             [
              0.3333333333333333,
              "#9c179e"
             ],
             [
              0.4444444444444444,
              "#bd3786"
             ],
             [
              0.5555555555555556,
              "#d8576b"
             ],
             [
              0.6666666666666666,
              "#ed7953"
             ],
             [
              0.7777777777777778,
              "#fb9f3a"
             ],
             [
              0.8888888888888888,
              "#fdca26"
             ],
             [
              1,
              "#f0f921"
             ]
            ],
            "type": "histogram2d"
           }
          ],
          "histogram2dcontour": [
           {
            "colorbar": {
             "outlinewidth": 0,
             "ticks": ""
            },
            "colorscale": [
             [
              0,
              "#0d0887"
             ],
             [
              0.1111111111111111,
              "#46039f"
             ],
             [
              0.2222222222222222,
              "#7201a8"
             ],
             [
              0.3333333333333333,
              "#9c179e"
             ],
             [
              0.4444444444444444,
              "#bd3786"
             ],
             [
              0.5555555555555556,
              "#d8576b"
             ],
             [
              0.6666666666666666,
              "#ed7953"
             ],
             [
              0.7777777777777778,
              "#fb9f3a"
             ],
             [
              0.8888888888888888,
              "#fdca26"
             ],
             [
              1,
              "#f0f921"
             ]
            ],
            "type": "histogram2dcontour"
           }
          ],
          "mesh3d": [
           {
            "colorbar": {
             "outlinewidth": 0,
             "ticks": ""
            },
            "type": "mesh3d"
           }
          ],
          "parcoords": [
           {
            "line": {
             "colorbar": {
              "outlinewidth": 0,
              "ticks": ""
             }
            },
            "type": "parcoords"
           }
          ],
          "pie": [
           {
            "automargin": true,
            "type": "pie"
           }
          ],
          "scatter": [
           {
            "fillpattern": {
             "fillmode": "overlay",
             "size": 10,
             "solidity": 0.2
            },
            "type": "scatter"
           }
          ],
          "scatter3d": [
           {
            "line": {
             "colorbar": {
              "outlinewidth": 0,
              "ticks": ""
             }
            },
            "marker": {
             "colorbar": {
              "outlinewidth": 0,
              "ticks": ""
             }
            },
            "type": "scatter3d"
           }
          ],
          "scattercarpet": [
           {
            "marker": {
             "colorbar": {
              "outlinewidth": 0,
              "ticks": ""
             }
            },
            "type": "scattercarpet"
           }
          ],
          "scattergeo": [
           {
            "marker": {
             "colorbar": {
              "outlinewidth": 0,
              "ticks": ""
             }
            },
            "type": "scattergeo"
           }
          ],
          "scattergl": [
           {
            "marker": {
             "colorbar": {
              "outlinewidth": 0,
              "ticks": ""
             }
            },
            "type": "scattergl"
           }
          ],
          "scattermapbox": [
           {
            "marker": {
             "colorbar": {
              "outlinewidth": 0,
              "ticks": ""
             }
            },
            "type": "scattermapbox"
           }
          ],
          "scatterpolar": [
           {
            "marker": {
             "colorbar": {
              "outlinewidth": 0,
              "ticks": ""
             }
            },
            "type": "scatterpolar"
           }
          ],
          "scatterpolargl": [
           {
            "marker": {
             "colorbar": {
              "outlinewidth": 0,
              "ticks": ""
             }
            },
            "type": "scatterpolargl"
           }
          ],
          "scatterternary": [
           {
            "marker": {
             "colorbar": {
              "outlinewidth": 0,
              "ticks": ""
             }
            },
            "type": "scatterternary"
           }
          ],
          "surface": [
           {
            "colorbar": {
             "outlinewidth": 0,
             "ticks": ""
            },
            "colorscale": [
             [
              0,
              "#0d0887"
             ],
             [
              0.1111111111111111,
              "#46039f"
             ],
             [
              0.2222222222222222,
              "#7201a8"
             ],
             [
              0.3333333333333333,
              "#9c179e"
             ],
             [
              0.4444444444444444,
              "#bd3786"
             ],
             [
              0.5555555555555556,
              "#d8576b"
             ],
             [
              0.6666666666666666,
              "#ed7953"
             ],
             [
              0.7777777777777778,
              "#fb9f3a"
             ],
             [
              0.8888888888888888,
              "#fdca26"
             ],
             [
              1,
              "#f0f921"
             ]
            ],
            "type": "surface"
           }
          ],
          "table": [
           {
            "cells": {
             "fill": {
              "color": "#EBF0F8"
             },
             "line": {
              "color": "white"
             }
            },
            "header": {
             "fill": {
              "color": "#C8D4E3"
             },
             "line": {
              "color": "white"
             }
            },
            "type": "table"
           }
          ]
         },
         "layout": {
          "annotationdefaults": {
           "arrowcolor": "#2a3f5f",
           "arrowhead": 0,
           "arrowwidth": 1
          },
          "autotypenumbers": "strict",
          "coloraxis": {
           "colorbar": {
            "outlinewidth": 0,
            "ticks": ""
           }
          },
          "colorscale": {
           "diverging": [
            [
             0,
             "#8e0152"
            ],
            [
             0.1,
             "#c51b7d"
            ],
            [
             0.2,
             "#de77ae"
            ],
            [
             0.3,
             "#f1b6da"
            ],
            [
             0.4,
             "#fde0ef"
            ],
            [
             0.5,
             "#f7f7f7"
            ],
            [
             0.6,
             "#e6f5d0"
            ],
            [
             0.7,
             "#b8e186"
            ],
            [
             0.8,
             "#7fbc41"
            ],
            [
             0.9,
             "#4d9221"
            ],
            [
             1,
             "#276419"
            ]
           ],
           "sequential": [
            [
             0,
             "#0d0887"
            ],
            [
             0.1111111111111111,
             "#46039f"
            ],
            [
             0.2222222222222222,
             "#7201a8"
            ],
            [
             0.3333333333333333,
             "#9c179e"
            ],
            [
             0.4444444444444444,
             "#bd3786"
            ],
            [
             0.5555555555555556,
             "#d8576b"
            ],
            [
             0.6666666666666666,
             "#ed7953"
            ],
            [
             0.7777777777777778,
             "#fb9f3a"
            ],
            [
             0.8888888888888888,
             "#fdca26"
            ],
            [
             1,
             "#f0f921"
            ]
           ],
           "sequentialminus": [
            [
             0,
             "#0d0887"
            ],
            [
             0.1111111111111111,
             "#46039f"
            ],
            [
             0.2222222222222222,
             "#7201a8"
            ],
            [
             0.3333333333333333,
             "#9c179e"
            ],
            [
             0.4444444444444444,
             "#bd3786"
            ],
            [
             0.5555555555555556,
             "#d8576b"
            ],
            [
             0.6666666666666666,
             "#ed7953"
            ],
            [
             0.7777777777777778,
             "#fb9f3a"
            ],
            [
             0.8888888888888888,
             "#fdca26"
            ],
            [
             1,
             "#f0f921"
            ]
           ]
          },
          "colorway": [
           "#636efa",
           "#EF553B",
           "#00cc96",
           "#ab63fa",
           "#FFA15A",
           "#19d3f3",
           "#FF6692",
           "#B6E880",
           "#FF97FF",
           "#FECB52"
          ],
          "font": {
           "color": "#2a3f5f"
          },
          "geo": {
           "bgcolor": "white",
           "lakecolor": "white",
           "landcolor": "#E5ECF6",
           "showlakes": true,
           "showland": true,
           "subunitcolor": "white"
          },
          "hoverlabel": {
           "align": "left"
          },
          "hovermode": "closest",
          "mapbox": {
           "style": "light"
          },
          "paper_bgcolor": "white",
          "plot_bgcolor": "#E5ECF6",
          "polar": {
           "angularaxis": {
            "gridcolor": "white",
            "linecolor": "white",
            "ticks": ""
           },
           "bgcolor": "#E5ECF6",
           "radialaxis": {
            "gridcolor": "white",
            "linecolor": "white",
            "ticks": ""
           }
          },
          "scene": {
           "xaxis": {
            "backgroundcolor": "#E5ECF6",
            "gridcolor": "white",
            "gridwidth": 2,
            "linecolor": "white",
            "showbackground": true,
            "ticks": "",
            "zerolinecolor": "white"
           },
           "yaxis": {
            "backgroundcolor": "#E5ECF6",
            "gridcolor": "white",
            "gridwidth": 2,
            "linecolor": "white",
            "showbackground": true,
            "ticks": "",
            "zerolinecolor": "white"
           },
           "zaxis": {
            "backgroundcolor": "#E5ECF6",
            "gridcolor": "white",
            "gridwidth": 2,
            "linecolor": "white",
            "showbackground": true,
            "ticks": "",
            "zerolinecolor": "white"
           }
          },
          "shapedefaults": {
           "line": {
            "color": "#2a3f5f"
           }
          },
          "ternary": {
           "aaxis": {
            "gridcolor": "white",
            "linecolor": "white",
            "ticks": ""
           },
           "baxis": {
            "gridcolor": "white",
            "linecolor": "white",
            "ticks": ""
           },
           "bgcolor": "#E5ECF6",
           "caxis": {
            "gridcolor": "white",
            "linecolor": "white",
            "ticks": ""
           }
          },
          "title": {
           "x": 0.05
          },
          "xaxis": {
           "automargin": true,
           "gridcolor": "white",
           "linecolor": "white",
           "ticks": "",
           "title": {
            "standoff": 15
           },
           "zerolinecolor": "white",
           "zerolinewidth": 2
          },
          "yaxis": {
           "automargin": true,
           "gridcolor": "white",
           "linecolor": "white",
           "ticks": "",
           "title": {
            "standoff": 15
           },
           "zerolinecolor": "white",
           "zerolinewidth": 2
          }
         }
        },
        "title": {
         "text": "Fréquence des mots après lemmatisation textBlob"
        },
        "xaxis": {
         "title": {
          "text": "Mots"
         }
        },
        "yaxis": {
         "title": {
          "text": "Fréquence"
         }
        }
       }
      }
     },
     "metadata": {},
     "output_type": "display_data"
    }
   ],
   "source": [
    "from textblob import TextBlob\n",
    "from textblob_fr import PatternTagger, PatternAnalyzer\n",
    "\n",
    "# Charger le DataFrame à partir du fichier CSV\n",
    "df = pd.read_csv(\"texte_sans_espaces_ni_ponctuation.csv\")\n",
    "# on ne garde pas les lignes \\n\\n\n",
    "df = df[df['tokens'] != \"\\n\\n\"]\n",
    "print(f\"\\n df:\\n{df} \\n\")\n",
    "tokens = df['tokens'].tolist()\n",
    "print(f\"\\n tokens:\\n{tokens} \\n\")\n",
    "\n",
    "# Assurez-vous que vos tokens sont dans une chaîne de caractères cohérente\n",
    "texte = \" \".join(tokens)  # 'tokens' est votre liste de mots nettoyés\n",
    "print(f\"\\n texte:\\n{texte} \\n\")\n",
    "# Créer un objet TextBlob pour le texte en français\n",
    "blob = TextBlob(texte, pos_tagger=PatternTagger(), analyzer=PatternAnalyzer())\n",
    "print(f\"\\n blob:\\n{blob} \\n\")\n",
    "\n",
    "# Lemmatisation (cette méthode n'est pas aussi robuste que SpaCy pour le français)\n",
    "tokens_lemmatized = [word.lemma for word in blob.words]\n",
    "print(f\"\\n tokens_lemmatized:\\n{tokens_lemmatized} \\n\")\n",
    "\n",
    "# sauve la liste preparée avec TextBlob\n",
    "texte_sans_espaces_ni_ponctuation_TextBlob = pd.DataFrame(\n",
    "    tokens_lemmatized, columns=[\"tokens\"])\n",
    "texte_sans_espaces_ni_ponctuation_TextBlob.to_csv(\n",
    "    \"texte_sans_espaces_ni_ponctuation_TextBlob.csv\", index=False)\n",
    "\n",
    "# Fréquence des mots après lemmatisation\n",
    "freq_dist_lemma = FreqDist(tokens_lemmatized)\n",
    "print(f\"\\n freq_dist_lemma:\\n{freq_dist_lemma} \\n\")\n",
    "\n",
    "# Les 10 mots les plus courants après lemmatisation\n",
    "tokens_lemmatized_plus_courant = freq_dist_lemma.most_common(10)\n",
    "print(f\"\\n tokens_lemmatized_plus_courant:\\n{\n",
    "      tokens_lemmatized_plus_courant} \\n\")\n",
    "\n",
    "\n",
    "# Préparer les données pour le graphique\n",
    "mots_lemming = [word for word, freq in tokens_lemmatized_plus_courant]\n",
    "frequences_lemming = [freq for word, freq in tokens_lemmatized_plus_courant]\n",
    "\n",
    "# Créer un graphique en barres\n",
    "fig_stemming = go.Figure(data=[go.Bar(x=mots_lemming, y=frequences_lemming)])\n",
    "\n",
    "# Mettre à jour le layout\n",
    "fig_stemming.update_layout(\n",
    "    title_text=\"Fréquence des mots après lemmatisation textBlob\",\n",
    "    xaxis_title=\"Mots\",\n",
    "    yaxis_title=\"Fréquence\",\n",
    ")\n",
    "\n",
    "fig_stemming.show()\n"
   ]
  },
  {
   "cell_type": "markdown",
   "metadata": {},
   "source": [
    "# Quete 3\n",
    " "
   ]
  },
  {
   "cell_type": "code",
   "execution_count": null,
   "metadata": {},
   "outputs": [],
   "source": []
  }
 ],
 "metadata": {
  "kernelspec": {
   "display_name": "Python 3",
   "language": "python",
   "name": "python3"
  },
  "language_info": {
   "codemirror_mode": {
    "name": "ipython",
    "version": 3
   },
   "file_extension": ".py",
   "mimetype": "text/x-python",
   "name": "python",
   "nbconvert_exporter": "python",
   "pygments_lexer": "ipython3",
   "version": "3.12.1"
  }
 },
 "nbformat": 4,
 "nbformat_minor": 2
}
