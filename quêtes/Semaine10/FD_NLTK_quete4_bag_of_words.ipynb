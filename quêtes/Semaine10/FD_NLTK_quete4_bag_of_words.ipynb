{
 "cells": [
  {
   "cell_type": "markdown",
   "metadata": {},
   "source": [
    "# NTLK Quetes 4  Bag of words"
   ]
  },
  {
   "cell_type": "markdown",
   "metadata": {},
   "source": [
    "* 1 Importe cet ensemble de données de tweets dans un DataFrame.\n",
    "* 2 Ne garde que les tweets positifs et négatifs (tu excluras donc les neutral). Quel est le pourcentage de tweets positifs/négatifs ?\n",
    "* 3 Copie la colonne text dans une Série X, et la colonne sentiment dans une Série y. Applique un train test split avec le random_state = 32 et un train_size de 0.75.\n",
    "* 4 Crée un modèle vectorizer avec scikit-learn en utilisant la méthode Countvectorizer. Entraîne ton modèle sur X_train, puis crée une matrice de features X_train_CV. Crée la matrice X_test_CV sans ré-entraîner le modèle. Le format de la matrice X_test_CV doit être 4091x15806 avec 44633 stored elements.\n",
    "* 5 Entraîne maintenant une régression logistique avec les paramètres par défaut. Tu devrais obtenir les résultats suivants : 0.966 pour le test d'entraînement, et * 0.877 pour l'ensemble de test.\n",
    "*  6 Étape bonus : essaye d'afficher 10 tweets qui ont été mal prédits (faux positifs ou faux négatifs). Aurais-tu fait mieux que l'algorithme ?"
   ]
  },
  {
   "cell_type": "markdown",
   "metadata": {},
   "source": [
    "## imports"
   ]
  },
  {
   "cell_type": "code",
   "execution_count": 1,
   "metadata": {},
   "outputs": [
    {
     "name": "stderr",
     "output_type": "stream",
     "text": [
      "c:\\Users\\romar\\AppData\\Local\\Programs\\Python\\Python312\\Lib\\site-packages\\fuzzywuzzy\\fuzz.py:11: UserWarning: Using slow pure-python SequenceMatcher. Install python-Levenshtein to remove this warning\n",
      "  warnings.warn('Using slow pure-python SequenceMatcher. Install python-Levenshtein to remove this warning')\n"
     ]
    }
   ],
   "source": [
    "import os\n",
    "import io\n",
    "import nltk\n",
    "import gzip\n",
    "import spacy\n",
    "import string\n",
    "import random\n",
    "import secrets\n",
    "import datetime\n",
    "import requests\n",
    "import numpy as np\n",
    "import pandas as pd\n",
    "import seaborn as sns\n",
    "from sklearn import svm\n",
    "import plotly.io as pio\n",
    "from sklearn import tree\n",
    "from typing import Counter\n",
    "import plotly.express as px\n",
    "from fuzzywuzzy import fuzz\n",
    "from textblob import TextBlob\n",
    "from joblib import dump, load\n",
    "from bs4 import BeautifulSoup\n",
    "import category_encoders as ce\n",
    "from wordcloud import WordCloud\n",
    "from collections import Counter\n",
    "import matplotlib.pyplot as plt\n",
    "from nltk.corpus import stopwords\n",
    "import plotly.graph_objects as go\n",
    "import plotly.graph_objects as go\n",
    "from sklearn.cluster import KMeans\n",
    "from scipy.cluster import hierarchy\n",
    "from nltk.stem import PorterStemmer\n",
    "from nltk.probability import FreqDist\n",
    "from nltk.stem import SnowballStemmer\n",
    "from sklearn.decomposition import PCA\n",
    "from nltk.tokenize import word_tokenize\n",
    "from nltk.tokenize import sent_tokenize\n",
    "from sklearn.pipeline import make_pipeline\n",
    "from sklearn.metrics import accuracy_score\n",
    "from sklearn.metrics import silhouette_score\n",
    "from sklearn.ensemble import IsolationForest\n",
    "from sklearn.compose import ColumnTransformer\n",
    "from sklearn.linear_model import SGDRegressor\n",
    "from sklearn.tree import DecisionTreeRegressor\n",
    "from sklearn.tree import DecisionTreeClassifier\n",
    "from sklearn.model_selection import GridSearchCV\n",
    "from sklearn.linear_model import LinearRegression\n",
    "from sklearn.neighbors import KNeighborsRegressor\n",
    "from sklearn.metrics import classification_report\n",
    "from sklearn.neighbors import KNeighborsClassifier\n",
    "from sklearn.model_selection import cross_validate\n",
    "from sklearn.linear_model import LogisticRegression\n",
    "from sklearn.cluster import AgglomerativeClustering\n",
    "from sklearn.ensemble import RandomForestClassifier\n",
    "from sklearn.linear_model import LogisticRegression\n",
    "from sklearn.model_selection import train_test_split\n",
    "from sklearn.metrics import accuracy_score, r2_score\n",
    "from scipy.spatial.distance import pdist, squareform\n",
    "from textblob_fr import PatternTagger, PatternAnalyzer\n",
    "from sklearn.ensemble import HistGradientBoostingRegressor\n",
    "from sklearn.feature_extraction.text import CountVectorizer\n",
    "from scipy.cluster.hierarchy import dendrogram, linkage, fcluster\n",
    "from flask import Flask, request, render_template, session, url_for, redirect\n",
    "from sklearn.preprocessing import (MaxAbsScaler, MinMaxScaler, Normalizer, PowerTransformer, QuantileTransformer, RobustScaler, StandardScaler)\n",
    "from sklearn.preprocessing import OneHotEncoder, OrdinalEncoder, TargetEncoder\n",
    "\n"
   ]
  },
  {
   "cell_type": "markdown",
   "metadata": {},
   "source": [
    "# Conseils\n",
    "* Train test split\n",
    "* Fit et transform du Vectorizer sur le train set\n",
    "* Fit et score du classifier sur le train set\n",
    "* Transform (sans fit !) du Vectorizer sur le test set\n",
    "* Predict et score du classifier sur le test set\n",
    "\n",
    "### Paramètres du CountVectorizer\n",
    "\n",
    "A l'initialisation du CountVectorizer, tu peux spécifier quelques paramètres très intéressants. Citons notamment :\n",
    "\n",
    "* lowercase : permet de convertir tout le texte en minuscule\n",
    "* stop_words : permet de spécifier une liste de stopwords, qui ne généreront donc pas de colonnes dédiées\n",
    "* ngram_range : permet de spécifier si des bigrammes ou n-grammes doivent être pris en compte\n",
    "* max_features : limite le nombre de mots maximum, en ne prenant que les mots les plus fréquents\n"
   ]
  },
  {
   "cell_type": "code",
   "execution_count": 17,
   "metadata": {},
   "outputs": [
    {
     "name": "stdout",
     "output_type": "stream",
     "text": [
      "\n",
      " matrice_creuse:\n",
      "3 \n",
      "\n",
      "\n",
      " liste_colonne_matrice_creuse:\n",
      "['negative' 'neutral' 'positive'] \n",
      "\n"
     ]
    }
   ],
   "source": [
    "# fichier_to_test = \"./le_bonheur.txt\"\n",
    "# print(f\"\\n fichier_to_test :\\n{fichier_to_test} \\n\")\n",
    "\n",
    "# # Lire le fichier\n",
    "# with open(fichier_to_test, \"r\", encoding=\"utf-8\") as file:\n",
    "#     texte = file.read()\n",
    "\n",
    "# # Tokenisation par phrase, liste les phrases dans le texte\n",
    "# token_phrases = nltk.sent_tokenize(texte)\n",
    "# print(f\"\\n token_phrases:\\n{token_phrases} \\n\")\n",
    "\n",
    "# Charger le DataFrame à partir du fichier CSV\n",
    "df = pd.read_csv(\"tweets_train.csv\")\n",
    "# on ne garde pas les lignes \\n\\n\n",
    "# df = df['sentiment']\n",
    "# tokens = df['tokens'].tolist()\n",
    "\n",
    "# # transformation en matrice creuse\n",
    "# vectorizer = CountVectorizer()\n",
    "# matrice_creuse=vectorizer.fit_transform(df['sentiment'])\n",
    "# print(f\"\\n matrice_creuse:\\n{matrice_creuse.shape[1]} \\n\")\n",
    "# # afficher la liste des noms de colonnes\n",
    "# liste_colonne_matrice_creuse=vectorizer.get_feature_names_out()\n",
    "# print(f\"\\n liste_colonne_matrice_creuse:\\n{liste_colonne_matrice_creuse} \\n\")\n"
   ]
  },
  {
   "cell_type": "markdown",
   "metadata": {},
   "source": [
    "1. Filtrer les Tweets Positifs et Négatifs\n",
    "['negative' 'neutral' 'positive'] \n"
   ]
  },
  {
   "cell_type": "code",
   "execution_count": 30,
   "metadata": {},
   "outputs": [
    {
     "name": "stdout",
     "output_type": "stream",
     "text": [
      "<class 'pandas.core.frame.DataFrame'>\n",
      "RangeIndex: 27480 entries, 0 to 27479\n",
      "Data columns (total 4 columns):\n",
      " #   Column         Non-Null Count  Dtype \n",
      "---  ------         --------------  ----- \n",
      " 0   textID         27480 non-null  object\n",
      " 1   text           27480 non-null  object\n",
      " 2   selected_text  27480 non-null  object\n",
      " 3   sentiment      27480 non-null  object\n",
      "dtypes: object(4)\n",
      "memory usage: 858.9+ KB\n",
      "\n",
      " df.info():\n",
      "None \n",
      "\n"
     ]
    }
   ],
   "source": [
    "# Charger le DataFrame à partir du fichier CSV\n",
    "df = pd.read_csv(\"tweets_train.csv\")\n",
    "print(f\"\\n df.info():\\n{df.info()} \\n\")\n",
    "# on ne garde pas les lignes \\n\\n\n",
    "#  Filtre les tewets positifs et negatifs\n",
    "df_filtered = df[df['sentiment'].isin(['positive', 'negative'])]\n"
   ]
  },
  {
   "cell_type": "markdown",
   "metadata": {},
   "source": [
    "2. Calculer le Pourcentage de Tweets Positifs/Négatifs"
   ]
  },
  {
   "cell_type": "code",
   "execution_count": 32,
   "metadata": {},
   "outputs": [
    {
     "name": "stdout",
     "output_type": "stream",
     "text": [
      "\n",
      " pourcentage_positif:\n",
      "0.52 \n",
      "\n",
      "\n",
      " pourcentage_negatif:\n",
      "0.48 \n",
      "\n"
     ]
    }
   ],
   "source": [
    "pourcentage_positif = (df_filtered['sentiment'] == 'positive').mean()\n",
    "pourcentage_negatif = (df_filtered['sentiment'] == 'negative').mean()\n",
    "print(f\"\\n pourcentage_positif:\\n{pourcentage_positif:.2f} \\n\")\n",
    "print(f\"\\n pourcentage_negatif:\\n{pourcentage_negatif:.2f} \\n\")\n"
   ]
  },
  {
   "cell_type": "markdown",
   "metadata": {},
   "source": [
    "3. Préparation des Données pour le Modèle"
   ]
  },
  {
   "cell_type": "code",
   "execution_count": 33,
   "metadata": {},
   "outputs": [],
   "source": [
    "X = df_filtered['text']\n",
    "y = df_filtered['sentiment']\n"
   ]
  },
  {
   "cell_type": "markdown",
   "metadata": {},
   "source": [
    "4. Split Train/Test"
   ]
  },
  {
   "cell_type": "code",
   "execution_count": 42,
   "metadata": {},
   "outputs": [
    {
     "name": "stdout",
     "output_type": "stream",
     "text": [
      "\n",
      " X_test_CV.shape:\n",
      "(4091, 15806) \n",
      "\n",
      "\n",
      " X_test_CV.size:\n",
      "44633 \n",
      "\n"
     ]
    }
   ],
   "source": [
    "from sklearn.model_selection import train_test_split\n",
    "\n",
    "X_train, X_test, y_train, y_test = train_test_split(X, y, train_size=0.75, random_state=32)\n",
    "# Vérifier la dimension de X_test_CV\n",
    "X_test_CV.shape\n",
    "print(f\"\\n X_test_CV.shape:\\n{X_test_CV.shape} \\n\")\n",
    "print(f\"\\n X_test_CV.size:\\n{X_test_CV.size} \\n\")\n"
   ]
  },
  {
   "cell_type": "markdown",
   "metadata": {},
   "source": [
    "5. Vectorisation\n",
    " Le format de la matrice X_test_CV doit être 4091x15806 avec 44633 stored elements."
   ]
  },
  {
   "cell_type": "code",
   "execution_count": 46,
   "metadata": {},
   "outputs": [
    {
     "name": "stdout",
     "output_type": "stream",
     "text": [
      "\n",
      " X_train_CV:\n",
      "(12272, 15806) \n",
      "\n",
      "\n",
      " X_test_CV:\n",
      "  (0, 1462)\t1\n",
      "  (0, 7575)\t1\n",
      "  (0, 7883)\t1\n",
      "  (0, 9812)\t1\n",
      "  (0, 12524)\t1\n",
      "  (0, 13294)\t1\n",
      "  (1, 1230)\t1\n",
      "  (1, 2169)\t1\n",
      "  (1, 2227)\t1\n",
      "  (1, 4414)\t1\n",
      "  (1, 4636)\t1\n",
      "  (1, 4645)\t1\n",
      "  (1, 6158)\t1\n",
      "  (1, 6301)\t1\n",
      "  (1, 7591)\t1\n",
      "  (1, 9910)\t1\n",
      "  (1, 10078)\t1\n",
      "  (1, 10617)\t1\n",
      "  (1, 11964)\t1\n",
      "  (1, 12189)\t1\n",
      "  (1, 12838)\t1\n",
      "  (1, 13163)\t1\n",
      "  (1, 13829)\t1\n",
      "  (1, 15209)\t1\n",
      "  (1, 15355)\t1\n",
      "  :\t:\n",
      "  (4087, 12987)\t1\n",
      "  (4087, 13829)\t1\n",
      "  (4087, 13837)\t1\n",
      "  (4087, 15212)\t1\n",
      "  (4088, 12189)\t1\n",
      "  (4088, 12449)\t1\n",
      "  (4088, 13829)\t1\n",
      "  (4088, 14042)\t1\n",
      "  (4088, 15009)\t1\n",
      "  (4088, 15030)\t1\n",
      "  (4088, 15192)\t1\n",
      "  (4089, 1902)\t1\n",
      "  (4089, 7196)\t1\n",
      "  (4089, 9537)\t1\n",
      "  (4090, 2108)\t1\n",
      "  (4090, 2126)\t1\n",
      "  (4090, 2473)\t1\n",
      "  (4090, 7362)\t1\n",
      "  (4090, 8279)\t1\n",
      "  (4090, 9509)\t1\n",
      "  (4090, 9744)\t1\n",
      "  (4090, 12810)\t1\n",
      "  (4090, 13812)\t1\n",
      "  (4090, 15355)\t1\n",
      "  (4090, 15684)\t1 \n",
      "\n",
      "\n",
      " X_train_CV:\n",
      "[[0 0 0 ... 0 0 0]\n",
      " [0 0 0 ... 0 0 0]\n",
      " [0 0 0 ... 0 0 0]\n",
      " ...\n",
      " [0 0 0 ... 0 0 0]\n",
      " [0 0 0 ... 0 0 0]\n",
      " [0 0 0 ... 0 0 0]] \n",
      "\n",
      "\n",
      " X_test_CV:\n",
      "[[0 0 0 ... 0 0 0]\n",
      " [0 0 0 ... 0 0 0]\n",
      " [0 0 0 ... 0 0 0]\n",
      " ...\n",
      " [0 0 0 ... 0 0 0]\n",
      " [0 0 0 ... 0 0 0]\n",
      " [0 0 0 ... 0 0 0]] \n",
      "\n"
     ]
    }
   ],
   "source": [
    "from sklearn.feature_extraction.text import CountVectorizer\n",
    "\n",
    "vectorizer = CountVectorizer()\n",
    "X_train_CV = vectorizer.fit_transform(X_train)\n",
    "X_test_CV = vectorizer.transform(X_test)\n",
    "\n",
    "print(f\"\\n X_train_CV:\\n{X_train_CV} \\n\")\n",
    "print(f\"\\n X_test_CV:\\n{X_test_CV} \\n\")\n",
    "print(f\"\\n X_train_CV:\\n{X_train_CV.toarray()} \\n\")\n",
    "print(f\"\\n X_test_CV:\\n{X_test_CV.toarray()} \\n\")\n"
   ]
  },
  {
   "cell_type": "markdown",
   "metadata": {},
   "source": [
    "\n",
    "* 5 Entraîne maintenant une régression logistique avec les paramètres par défaut. Tu devrais obtenir les résultats suivants : 0.966 pour le test d'entraînement, et * 0.877 pour l'ensemble de test.\n",
    "*  6 Étape bonus : essaye d'afficher 10 tweets qui ont été mal prédits (faux positifs ou faux négatifs). Aurais-tu fait mieux que l'algorithme ?"
   ]
  },
  {
   "cell_type": "markdown",
   "metadata": {},
   "source": [
    "6. Entraînement d'une Régression Logistique"
   ]
  },
  {
   "cell_type": "code",
   "execution_count": 50,
   "metadata": {},
   "outputs": [
    {
     "name": "stdout",
     "output_type": "stream",
     "text": [
      "\n",
      " accuracy_train:0.966 \n",
      "\n",
      " accuracy_test:0.877 \n"
     ]
    }
   ],
   "source": [
    "from sklearn.linear_model import LogisticRegression\n",
    "from sklearn.metrics import accuracy_score\n",
    "\n",
    "model = LogisticRegression(max_iter=1000)\n",
    "model.fit(X_train_CV, y_train)\n",
    "\n",
    "# Évaluer le modèle\n",
    "accuracy_train = model.score(X_train_CV, y_train)\n",
    "accuracy_test = model.score(X_test_CV, y_test)\n",
    "\n",
    "print(f\"\\n accuracy_train:{accuracy_train:.3f} \")\n",
    "print(f\"\\n accuracy_test:{accuracy_test:.3f} \")\n"
   ]
  },
  {
   "cell_type": "markdown",
   "metadata": {},
   "source": [
    "Étape Bonus : Affichage des Tweets Mal Prédits"
   ]
  },
  {
   "cell_type": "code",
   "execution_count": 51,
   "metadata": {},
   "outputs": [
    {
     "name": "stdout",
     "output_type": "stream",
     "text": [
      "2670     HollowbabesHere comes the utter shite #bgt <I ...\n",
      "18731     SUFFICATION NO BREATHING. It`s okay. There`ll...\n",
      "12054    i wanna vote for Miley Cyrus for the mtv movie...\n",
      "21823    I love music so much that i`ve gone through pa...\n",
      "18464    I can only message those who message me, if we...\n",
      "2975     wish I could feel no pain (8)  but it`s ok, at...\n",
      "3921                        so glad i`m not at uni anymore\n",
      "5198      You`re not here. I hope you`re still resting....\n",
      "467        you`re missing out, bb! i`m such a cereal nu...\n",
      "15215     have an amazing time with your mommas tomorro...\n",
      "Name: text, dtype: object\n"
     ]
    }
   ],
   "source": [
    "y_pred = model.predict(X_test_CV)\n",
    "mal_predits = X_test[(y_pred != y_test)]\n",
    "print(mal_predits.head(10))\n",
    "# performance globale du modele avec f1\n",
    "# utiliser recall pour avoir le % de positifs bien predits\n",
    "#   df.niveau1.value_counts()\n",
    "#  faire un tfidf\n"
   ]
  }
 ],
 "metadata": {
  "kernelspec": {
   "display_name": "Python 3",
   "language": "python",
   "name": "python3"
  },
  "language_info": {
   "codemirror_mode": {
    "name": "ipython",
    "version": 3
   },
   "file_extension": ".py",
   "mimetype": "text/x-python",
   "name": "python",
   "nbconvert_exporter": "python",
   "pygments_lexer": "ipython3",
   "version": "3.12.1"
  }
 },
 "nbformat": 4,
 "nbformat_minor": 2
}
