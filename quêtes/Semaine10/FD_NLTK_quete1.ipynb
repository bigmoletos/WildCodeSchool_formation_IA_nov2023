{
 "cells": [
  {
   "cell_type": "markdown",
   "metadata": {},
   "source": [
    "# NTLK Quetes 1"
   ]
  },
  {
   "cell_type": "markdown",
   "metadata": {},
   "source": [
    "#### Importe NLTK et télécharge les fonctions dont tu auras besoin (au fur et à mesure si nécessaire).\n",
    "#### Récupère le texte d'un article de presse de ton choix sur internet (en anglais ce sera plus simple, mais tu peux prendre la langue de ton choix). \n",
    "#### Affecte-le à une variable via un copier/coller dans ton notebook. Par simplicité pour la suite de cette quête, nous te conseillons de prendre un texte qui fait entre 10 et 30 lignes environ. \n",
    "#### Transforme ton texte en tokens de phrases\n",
    "#### Transforme ton texte en tokens de mots\n",
    "#### Compte la fréquence d'apparition de chaque mot et réalise un graphique (si possible un diagramme en barre) qui représente les 20 mots les plus présents dans ton texte. Y a-t-il beaucoup de mots qui te semblent être des stopwords ?\n",
    "#### Enlève les stop words et la ponctuation, et regarde à nouveau quels sont les mots les plus présents. Là encore, réalise le même graphique pour comparer."
   ]
  },
  {
   "cell_type": "code",
   "execution_count": 57,
   "metadata": {},
   "outputs": [],
   "source": [
    "import nltk\n",
    "from nltk.stem import PorterStemmer\n",
    "from nltk.tokenize import word_tokenize\n",
    "from nltk.tokenize import sent_tokenize\n",
    "from nltk.corpus import stopwords\n",
    "import os\n",
    "import io\n",
    "import random\n",
    "import requests\n",
    "import numpy as np\n",
    "import pandas as pd\n",
    "import seaborn as sns\n",
    "import matplotlib.pyplot as plt\n",
    "import plotly.express as px\n",
    "from collections import Counter\n",
    "import string\n",
    "import spacy\n",
    "import plotly.graph_objects as go\n"
   ]
  },
  {
   "cell_type": "code",
   "execution_count": null,
   "metadata": {},
   "outputs": [],
   "source": [
    "# Télécharger le popular plus de 50min!!\n",
    "nltk.download()\n"
   ]
  },
  {
   "cell_type": "code",
   "execution_count": 3,
   "metadata": {},
   "outputs": [
    {
     "name": "stdout",
     "output_type": "stream",
     "text": [
      "['au', 'aux', 'avec', 'ce', 'ces', 'dans', 'de', 'des', 'du', 'elle', 'en', 'et', 'eux', 'il', 'ils', 'je', 'la', 'le', 'les', 'leur', 'lui', 'ma', 'mais', 'me', 'même', 'mes', 'moi', 'mon', 'ne', 'nos', 'notre', 'nous', 'on', 'ou', 'par', 'pas', 'pour', 'qu', 'que', 'qui', 'sa', 'se', 'ses', 'son', 'sur', 'ta', 'te', 'tes', 'toi', 'ton', 'tu', 'un', 'une', 'vos', 'votre', 'vous', 'c', 'd', 'j', 'l', 'à', 'm', 'n', 's', 't', 'y', 'été', 'étée', 'étées', 'étés', 'étant', 'étante', 'étants', 'étantes', 'suis', 'es', 'est', 'sommes', 'êtes', 'sont', 'serai', 'seras', 'sera', 'serons', 'serez', 'seront', 'serais', 'serait', 'serions', 'seriez', 'seraient', 'étais', 'était', 'étions', 'étiez', 'étaient', 'fus', 'fut', 'fûmes', 'fûtes', 'furent', 'sois', 'soit', 'soyons', 'soyez', 'soient', 'fusse', 'fusses', 'fût', 'fussions', 'fussiez', 'fussent', 'ayant', 'ayante', 'ayantes', 'ayants', 'eu', 'eue', 'eues', 'eus', 'ai', 'as', 'avons', 'avez', 'ont', 'aurai', 'auras', 'aura', 'aurons', 'aurez', 'auront', 'aurais', 'aurait', 'aurions', 'auriez', 'auraient', 'avais', 'avait', 'avions', 'aviez', 'avaient', 'eut', 'eûmes', 'eûtes', 'eurent', 'aie', 'aies', 'ait', 'ayons', 'ayez', 'aient', 'eusse', 'eusses', 'eût', 'eussions', 'eussiez', 'eussent']\n"
     ]
    },
    {
     "name": "stderr",
     "output_type": "stream",
     "text": [
      "[nltk_data] Downloading package stopwords to\n",
      "[nltk_data]     C:\\Users\\romar\\AppData\\Roaming\\nltk_data...\n",
      "[nltk_data]   Package stopwords is already up-to-date!\n",
      "[nltk_data] Downloading package punkt to\n",
      "[nltk_data]     C:\\Users\\romar\\AppData\\Roaming\\nltk_data...\n",
      "[nltk_data]   Package punkt is already up-to-date!\n"
     ]
    },
    {
     "data": {
      "text/plain": [
       "True"
      ]
     },
     "execution_count": 3,
     "metadata": {},
     "output_type": "execute_result"
    }
   ],
   "source": [
    "# Télécharger les stopwords en français\n",
    "nltk.download(\"stopwords\")\n",
    "# Vérifier que les stopwords en français sont disponibles\n",
    "print(stopwords.words(\"french\"))\n",
    "\n",
    "# Télécharger le corpus Punkt pour toekniser les phrases\n",
    "nltk.download(\"punkt\")\n",
    "# Vérifier que les stopwords en français sont disponibles\n"
   ]
  },
  {
   "cell_type": "code",
   "execution_count": 51,
   "metadata": {},
   "outputs": [
    {
     "name": "stdout",
     "output_type": "stream",
     "text": [
      "Collecting spacy\n",
      "  Using cached spacy-3.7.2-cp312-cp312-win_amd64.whl.metadata (26 kB)\n",
      "Collecting spacy-legacy<3.1.0,>=3.0.11 (from spacy)\n",
      "  Using cached spacy_legacy-3.0.12-py2.py3-none-any.whl (29 kB)\n",
      "Collecting spacy-loggers<2.0.0,>=1.0.0 (from spacy)\n",
      "  Using cached spacy_loggers-1.0.5-py3-none-any.whl.metadata (23 kB)\n",
      "Collecting murmurhash<1.1.0,>=0.28.0 (from spacy)\n",
      "  Using cached murmurhash-1.0.10-cp312-cp312-win_amd64.whl.metadata (2.0 kB)\n",
      "Collecting cymem<2.1.0,>=2.0.2 (from spacy)\n",
      "  Using cached cymem-2.0.8-cp312-cp312-win_amd64.whl.metadata (8.6 kB)\n",
      "Collecting preshed<3.1.0,>=3.0.2 (from spacy)\n",
      "  Using cached preshed-3.0.9-cp312-cp312-win_amd64.whl.metadata (2.2 kB)\n",
      "Collecting thinc<8.3.0,>=8.1.8 (from spacy)\n",
      "  Using cached thinc-8.2.2-cp312-cp312-win_amd64.whl.metadata (15 kB)\n",
      "Collecting wasabi<1.2.0,>=0.9.1 (from spacy)\n",
      "  Using cached wasabi-1.1.2-py3-none-any.whl.metadata (28 kB)\n",
      "Collecting srsly<3.0.0,>=2.4.3 (from spacy)\n",
      "  Using cached srsly-2.4.8-cp312-cp312-win_amd64.whl.metadata (20 kB)\n",
      "Collecting catalogue<2.1.0,>=2.0.6 (from spacy)\n",
      "  Using cached catalogue-2.0.10-py3-none-any.whl.metadata (14 kB)\n",
      "Collecting weasel<0.4.0,>=0.1.0 (from spacy)\n",
      "  Using cached weasel-0.3.4-py3-none-any.whl.metadata (4.7 kB)\n",
      "Requirement already satisfied: typer<0.10.0,>=0.3.0 in c:\\users\\romar\\appdata\\local\\programs\\python\\python312\\lib\\site-packages (from spacy) (0.9.0)\n",
      "Collecting smart-open<7.0.0,>=5.2.1 (from spacy)\n",
      "  Using cached smart_open-6.4.0-py3-none-any.whl.metadata (21 kB)\n",
      "Requirement already satisfied: tqdm<5.0.0,>=4.38.0 in c:\\users\\romar\\appdata\\local\\programs\\python\\python312\\lib\\site-packages (from spacy) (4.66.1)\n",
      "Requirement already satisfied: requests<3.0.0,>=2.13.0 in c:\\users\\romar\\appdata\\local\\programs\\python\\python312\\lib\\site-packages (from spacy) (2.31.0)\n",
      "Requirement already satisfied: pydantic!=1.8,!=1.8.1,<3.0.0,>=1.7.4 in c:\\users\\romar\\appdata\\local\\programs\\python\\python312\\lib\\site-packages (from spacy) (2.5.1)\n",
      "Requirement already satisfied: jinja2 in c:\\users\\romar\\appdata\\local\\programs\\python\\python312\\lib\\site-packages (from spacy) (3.1.2)\n",
      "Requirement already satisfied: setuptools in c:\\users\\romar\\appdata\\local\\programs\\python\\python312\\lib\\site-packages (from spacy) (69.0.2)\n",
      "Requirement already satisfied: packaging>=20.0 in c:\\users\\romar\\appdata\\roaming\\python\\python312\\site-packages (from spacy) (23.2)\n",
      "Collecting langcodes<4.0.0,>=3.2.0 (from spacy)\n",
      "  Using cached langcodes-3.3.0-py3-none-any.whl (181 kB)\n",
      "Requirement already satisfied: numpy>=1.19.0 in c:\\users\\romar\\appdata\\local\\programs\\python\\python312\\lib\\site-packages (from spacy) (1.26.1)\n",
      "Requirement already satisfied: annotated-types>=0.4.0 in c:\\users\\romar\\appdata\\local\\programs\\python\\python312\\lib\\site-packages (from pydantic!=1.8,!=1.8.1,<3.0.0,>=1.7.4->spacy) (0.6.0)\n",
      "Requirement already satisfied: pydantic-core==2.14.3 in c:\\users\\romar\\appdata\\local\\programs\\python\\python312\\lib\\site-packages (from pydantic!=1.8,!=1.8.1,<3.0.0,>=1.7.4->spacy) (2.14.3)\n",
      "Requirement already satisfied: typing-extensions>=4.6.1 in c:\\users\\romar\\appdata\\local\\programs\\python\\python312\\lib\\site-packages (from pydantic!=1.8,!=1.8.1,<3.0.0,>=1.7.4->spacy) (4.8.0)\n",
      "Requirement already satisfied: charset-normalizer<4,>=2 in c:\\users\\romar\\appdata\\local\\programs\\python\\python312\\lib\\site-packages (from requests<3.0.0,>=2.13.0->spacy) (3.3.1)\n",
      "Requirement already satisfied: idna<4,>=2.5 in c:\\users\\romar\\appdata\\local\\programs\\python\\python312\\lib\\site-packages (from requests<3.0.0,>=2.13.0->spacy) (3.4)\n",
      "Requirement already satisfied: urllib3<3,>=1.21.1 in c:\\users\\romar\\appdata\\local\\programs\\python\\python312\\lib\\site-packages (from requests<3.0.0,>=2.13.0->spacy) (2.0.7)\n",
      "Requirement already satisfied: certifi>=2017.4.17 in c:\\users\\romar\\appdata\\local\\programs\\python\\python312\\lib\\site-packages (from requests<3.0.0,>=2.13.0->spacy) (2023.7.22)\n",
      "Collecting blis<0.8.0,>=0.7.8 (from thinc<8.3.0,>=8.1.8->spacy)\n",
      "  Using cached blis-0.7.11-cp312-cp312-win_amd64.whl.metadata (7.6 kB)\n",
      "Collecting confection<1.0.0,>=0.0.1 (from thinc<8.3.0,>=8.1.8->spacy)\n",
      "  Using cached confection-0.1.4-py3-none-any.whl.metadata (19 kB)\n",
      "Requirement already satisfied: colorama in c:\\users\\romar\\appdata\\roaming\\python\\python312\\site-packages (from tqdm<5.0.0,>=4.38.0->spacy) (0.4.6)\n",
      "Requirement already satisfied: click<9.0.0,>=7.1.1 in c:\\users\\romar\\appdata\\local\\programs\\python\\python312\\lib\\site-packages (from typer<0.10.0,>=0.3.0->spacy) (8.1.7)\n",
      "Collecting cloudpathlib<0.17.0,>=0.7.0 (from weasel<0.4.0,>=0.1.0->spacy)\n",
      "  Using cached cloudpathlib-0.16.0-py3-none-any.whl.metadata (14 kB)\n",
      "Requirement already satisfied: MarkupSafe>=2.0 in c:\\users\\romar\\appdata\\local\\programs\\python\\python312\\lib\\site-packages (from jinja2->spacy) (2.1.3)\n",
      "Using cached spacy-3.7.2-cp312-cp312-win_amd64.whl (11.7 MB)\n",
      "Using cached catalogue-2.0.10-py3-none-any.whl (17 kB)\n",
      "Using cached cymem-2.0.8-cp312-cp312-win_amd64.whl (39 kB)\n",
      "Using cached murmurhash-1.0.10-cp312-cp312-win_amd64.whl (25 kB)\n",
      "Using cached preshed-3.0.9-cp312-cp312-win_amd64.whl (122 kB)\n",
      "Using cached smart_open-6.4.0-py3-none-any.whl (57 kB)\n",
      "Using cached spacy_loggers-1.0.5-py3-none-any.whl (22 kB)\n",
      "Using cached srsly-2.4.8-cp312-cp312-win_amd64.whl (478 kB)\n",
      "Using cached thinc-8.2.2-cp312-cp312-win_amd64.whl (1.4 MB)\n",
      "Using cached wasabi-1.1.2-py3-none-any.whl (27 kB)\n",
      "Using cached weasel-0.3.4-py3-none-any.whl (50 kB)\n",
      "Using cached blis-0.7.11-cp312-cp312-win_amd64.whl (6.6 MB)\n",
      "Using cached cloudpathlib-0.16.0-py3-none-any.whl (45 kB)\n",
      "Using cached confection-0.1.4-py3-none-any.whl (35 kB)\n",
      "Installing collected packages: cymem, wasabi, spacy-loggers, spacy-legacy, smart-open, murmurhash, langcodes, cloudpathlib, catalogue, blis, srsly, preshed, confection, weasel, thinc, spacy\n",
      "Successfully installed blis-0.7.11 catalogue-2.0.10 cloudpathlib-0.16.0 confection-0.1.4 cymem-2.0.8 langcodes-3.3.0 murmurhash-1.0.10 preshed-3.0.9 smart-open-6.4.0 spacy-3.7.2 spacy-legacy-3.0.12 spacy-loggers-1.0.5 srsly-2.4.8 thinc-8.2.2 wasabi-1.1.2 weasel-0.3.4\n",
      "Collecting fr-core-news-sm==3.7.0\n",
      "  Using cached https://github.com/explosion/spacy-models/releases/download/fr_core_news_sm-3.7.0/fr_core_news_sm-3.7.0-py3-none-any.whl (16.3 MB)\n",
      "Requirement already satisfied: spacy<3.8.0,>=3.7.0 in c:\\users\\romar\\appdata\\local\\programs\\python\\python312\\lib\\site-packages (from fr-core-news-sm==3.7.0) (3.7.2)\n",
      "Requirement already satisfied: spacy-legacy<3.1.0,>=3.0.11 in c:\\users\\romar\\appdata\\local\\programs\\python\\python312\\lib\\site-packages (from spacy<3.8.0,>=3.7.0->fr-core-news-sm==3.7.0) (3.0.12)\n",
      "Requirement already satisfied: spacy-loggers<2.0.0,>=1.0.0 in c:\\users\\romar\\appdata\\local\\programs\\python\\python312\\lib\\site-packages (from spacy<3.8.0,>=3.7.0->fr-core-news-sm==3.7.0) (1.0.5)\n",
      "Requirement already satisfied: murmurhash<1.1.0,>=0.28.0 in c:\\users\\romar\\appdata\\local\\programs\\python\\python312\\lib\\site-packages (from spacy<3.8.0,>=3.7.0->fr-core-news-sm==3.7.0) (1.0.10)\n",
      "Requirement already satisfied: cymem<2.1.0,>=2.0.2 in c:\\users\\romar\\appdata\\local\\programs\\python\\python312\\lib\\site-packages (from spacy<3.8.0,>=3.7.0->fr-core-news-sm==3.7.0) (2.0.8)\n",
      "Requirement already satisfied: preshed<3.1.0,>=3.0.2 in c:\\users\\romar\\appdata\\local\\programs\\python\\python312\\lib\\site-packages (from spacy<3.8.0,>=3.7.0->fr-core-news-sm==3.7.0) (3.0.9)\n",
      "Requirement already satisfied: thinc<8.3.0,>=8.1.8 in c:\\users\\romar\\appdata\\local\\programs\\python\\python312\\lib\\site-packages (from spacy<3.8.0,>=3.7.0->fr-core-news-sm==3.7.0) (8.2.2)\n",
      "Requirement already satisfied: wasabi<1.2.0,>=0.9.1 in c:\\users\\romar\\appdata\\local\\programs\\python\\python312\\lib\\site-packages (from spacy<3.8.0,>=3.7.0->fr-core-news-sm==3.7.0) (1.1.2)\n",
      "Requirement already satisfied: srsly<3.0.0,>=2.4.3 in c:\\users\\romar\\appdata\\local\\programs\\python\\python312\\lib\\site-packages (from spacy<3.8.0,>=3.7.0->fr-core-news-sm==3.7.0) (2.4.8)\n",
      "Requirement already satisfied: catalogue<2.1.0,>=2.0.6 in c:\\users\\romar\\appdata\\local\\programs\\python\\python312\\lib\\site-packages (from spacy<3.8.0,>=3.7.0->fr-core-news-sm==3.7.0) (2.0.10)\n",
      "Requirement already satisfied: weasel<0.4.0,>=0.1.0 in c:\\users\\romar\\appdata\\local\\programs\\python\\python312\\lib\\site-packages (from spacy<3.8.0,>=3.7.0->fr-core-news-sm==3.7.0) (0.3.4)\n",
      "Requirement already satisfied: typer<0.10.0,>=0.3.0 in c:\\users\\romar\\appdata\\local\\programs\\python\\python312\\lib\\site-packages (from spacy<3.8.0,>=3.7.0->fr-core-news-sm==3.7.0) (0.9.0)\n",
      "Requirement already satisfied: smart-open<7.0.0,>=5.2.1 in c:\\users\\romar\\appdata\\local\\programs\\python\\python312\\lib\\site-packages (from spacy<3.8.0,>=3.7.0->fr-core-news-sm==3.7.0) (6.4.0)\n",
      "Requirement already satisfied: tqdm<5.0.0,>=4.38.0 in c:\\users\\romar\\appdata\\local\\programs\\python\\python312\\lib\\site-packages (from spacy<3.8.0,>=3.7.0->fr-core-news-sm==3.7.0) (4.66.1)\n",
      "Requirement already satisfied: requests<3.0.0,>=2.13.0 in c:\\users\\romar\\appdata\\local\\programs\\python\\python312\\lib\\site-packages (from spacy<3.8.0,>=3.7.0->fr-core-news-sm==3.7.0) (2.31.0)\n",
      "Requirement already satisfied: pydantic!=1.8,!=1.8.1,<3.0.0,>=1.7.4 in c:\\users\\romar\\appdata\\local\\programs\\python\\python312\\lib\\site-packages (from spacy<3.8.0,>=3.7.0->fr-core-news-sm==3.7.0) (2.5.1)\n",
      "Requirement already satisfied: jinja2 in c:\\users\\romar\\appdata\\local\\programs\\python\\python312\\lib\\site-packages (from spacy<3.8.0,>=3.7.0->fr-core-news-sm==3.7.0) (3.1.2)\n",
      "Requirement already satisfied: setuptools in c:\\users\\romar\\appdata\\local\\programs\\python\\python312\\lib\\site-packages (from spacy<3.8.0,>=3.7.0->fr-core-news-sm==3.7.0) (69.0.2)\n",
      "Requirement already satisfied: packaging>=20.0 in c:\\users\\romar\\appdata\\roaming\\python\\python312\\site-packages (from spacy<3.8.0,>=3.7.0->fr-core-news-sm==3.7.0) (23.2)\n",
      "Requirement already satisfied: langcodes<4.0.0,>=3.2.0 in c:\\users\\romar\\appdata\\local\\programs\\python\\python312\\lib\\site-packages (from spacy<3.8.0,>=3.7.0->fr-core-news-sm==3.7.0) (3.3.0)\n",
      "Requirement already satisfied: numpy>=1.19.0 in c:\\users\\romar\\appdata\\local\\programs\\python\\python312\\lib\\site-packages (from spacy<3.8.0,>=3.7.0->fr-core-news-sm==3.7.0) (1.26.1)\n",
      "Requirement already satisfied: annotated-types>=0.4.0 in c:\\users\\romar\\appdata\\local\\programs\\python\\python312\\lib\\site-packages (from pydantic!=1.8,!=1.8.1,<3.0.0,>=1.7.4->spacy<3.8.0,>=3.7.0->fr-core-news-sm==3.7.0) (0.6.0)\n",
      "Requirement already satisfied: pydantic-core==2.14.3 in c:\\users\\romar\\appdata\\local\\programs\\python\\python312\\lib\\site-packages (from pydantic!=1.8,!=1.8.1,<3.0.0,>=1.7.4->spacy<3.8.0,>=3.7.0->fr-core-news-sm==3.7.0) (2.14.3)\n",
      "Requirement already satisfied: typing-extensions>=4.6.1 in c:\\users\\romar\\appdata\\local\\programs\\python\\python312\\lib\\site-packages (from pydantic!=1.8,!=1.8.1,<3.0.0,>=1.7.4->spacy<3.8.0,>=3.7.0->fr-core-news-sm==3.7.0) (4.8.0)\n",
      "Requirement already satisfied: charset-normalizer<4,>=2 in c:\\users\\romar\\appdata\\local\\programs\\python\\python312\\lib\\site-packages (from requests<3.0.0,>=2.13.0->spacy<3.8.0,>=3.7.0->fr-core-news-sm==3.7.0) (3.3.1)\n",
      "Requirement already satisfied: idna<4,>=2.5 in c:\\users\\romar\\appdata\\local\\programs\\python\\python312\\lib\\site-packages (from requests<3.0.0,>=2.13.0->spacy<3.8.0,>=3.7.0->fr-core-news-sm==3.7.0) (3.4)\n",
      "Requirement already satisfied: urllib3<3,>=1.21.1 in c:\\users\\romar\\appdata\\local\\programs\\python\\python312\\lib\\site-packages (from requests<3.0.0,>=2.13.0->spacy<3.8.0,>=3.7.0->fr-core-news-sm==3.7.0) (2.0.7)\n",
      "Requirement already satisfied: certifi>=2017.4.17 in c:\\users\\romar\\appdata\\local\\programs\\python\\python312\\lib\\site-packages (from requests<3.0.0,>=2.13.0->spacy<3.8.0,>=3.7.0->fr-core-news-sm==3.7.0) (2023.7.22)\n",
      "Requirement already satisfied: blis<0.8.0,>=0.7.8 in c:\\users\\romar\\appdata\\local\\programs\\python\\python312\\lib\\site-packages (from thinc<8.3.0,>=8.1.8->spacy<3.8.0,>=3.7.0->fr-core-news-sm==3.7.0) (0.7.11)\n",
      "Requirement already satisfied: confection<1.0.0,>=0.0.1 in c:\\users\\romar\\appdata\\local\\programs\\python\\python312\\lib\\site-packages (from thinc<8.3.0,>=8.1.8->spacy<3.8.0,>=3.7.0->fr-core-news-sm==3.7.0) (0.1.4)\n",
      "Requirement already satisfied: colorama in c:\\users\\romar\\appdata\\roaming\\python\\python312\\site-packages (from tqdm<5.0.0,>=4.38.0->spacy<3.8.0,>=3.7.0->fr-core-news-sm==3.7.0) (0.4.6)\n",
      "Requirement already satisfied: click<9.0.0,>=7.1.1 in c:\\users\\romar\\appdata\\local\\programs\\python\\python312\\lib\\site-packages (from typer<0.10.0,>=0.3.0->spacy<3.8.0,>=3.7.0->fr-core-news-sm==3.7.0) (8.1.7)\n",
      "Requirement already satisfied: cloudpathlib<0.17.0,>=0.7.0 in c:\\users\\romar\\appdata\\local\\programs\\python\\python312\\lib\\site-packages (from weasel<0.4.0,>=0.1.0->spacy<3.8.0,>=3.7.0->fr-core-news-sm==3.7.0) (0.16.0)\n",
      "Requirement already satisfied: MarkupSafe>=2.0 in c:\\users\\romar\\appdata\\local\\programs\\python\\python312\\lib\\site-packages (from jinja2->spacy<3.8.0,>=3.7.0->fr-core-news-sm==3.7.0) (2.1.3)\n",
      "Installing collected packages: fr-core-news-sm\n",
      "Successfully installed fr-core-news-sm-3.7.0\n",
      "\u001b[38;5;2m✔ Download and installation successful\u001b[0m\n",
      "You can now load the package via spacy.load('fr_core_news_sm')\n"
     ]
    }
   ],
   "source": [
    "# !pip install spacy\n",
    "# !python -m spacy download fr_core_news_sm\n"
   ]
  },
  {
   "cell_type": "code",
   "execution_count": 65,
   "metadata": {},
   "outputs": [
    {
     "name": "stdout",
     "output_type": "stream",
     "text": [
      "\n",
      " fichier_to_test :\n",
      "./le_bonheur.txt \n",
      "\n",
      "\n",
      " token_phrases:\n",
      "['Le bonheur, mes chers amis, est ce phare éternel vers lequel toutes les âmes naviguent avec espoir.', \"Mais qu'est-ce que le bonheur, sinon l'harmonie entre l'homme et l'existence qu'il mène ?\", \"Ce n'est pas un lieu lointain ou un sommet à atteindre, mais plutôt un chemin sur lequel on marche, un ensemble de petits moments, une suite de respirations conscientes.\", 'Socrate, dans son humilité, nous a enseigné que la connaissance de soi est la clé de la sagesse et, par extension, du bonheur.', 'Car en se connaissant, on comprend mieux ses désirs et on distingue les plaisirs éphémères des joies durables.', \"Épicure, quant à lui, a souligné l'importance des plaisirs simples : le chant des oiseaux, la douceur d'une brise, la compagnie d'un bon ami.\", \"Il nous a invités à chercher le bonheur dans la modération et dans la liberté des tourments de l'âme.\", \"Et que dire de Sénèque, ce stoïcien qui a prôné la vertu, la patience et l'acceptation ?\", \"Le bonheur n'est pas l'absence de souffrance, mais la façon dont on y fait face.\", 'Il nous rappelle que les vagues de la vie doivent être naviguées avec courage et que le bonheur est souvent le fruit de notre capacité à ne pas vouloir contrôler ce qui échappe à notre contrôle.', \"Enfin, Montaigne, avec son esprit libre et curieux, nous a appris que le bonheur réside dans l'appréciation des joies de la vie quotidienne, dans l'acceptation de soi et dans le courage d'être authentique.\", \"Cherchons donc le bonheur non pas comme une terre promise que l'on conquiert, mais comme un jardin que l'on cultive chaque jour.\", \"Que chaque pas soit guidé par l'amour, la gratitude et la bienveillance.\", 'Que chaque regard posé sur le monde soit empreint de merveille et de respect.', \"Le bonheur est là, dans l'ici et maintenant, dans la pleine conscience de chaque instant vécu, dans l'union paisible de notre esprit avec le cœur battant de l'univers.\", \"Vivez, aimez, riez et trouvez votre bonheur dans cette merveilleuse aventure qu'est la vie.\", \"Aristote nous disait que le bonheur est l'activité de l'âme conforme à la vertu.\", 'Il voyait le bonheur non comme un état passif, mais comme une activité pleine et engagée dans la poursuite du bien et de la vertu.', \"Pour lui, le bonheur était l'aboutissement d'une vie de pratique et de réflexion, un point culminant de l'excellence humaine et de la réalisation de soi.\", 'Pascal, avec sa profondeur et sa perspicacité, a considéré le bonheur comme un état insaisissable et éphémère.', \"Il croyait que le vrai bonheur ne pouvait être trouvé que dans la recherche de l'infini, dans la quête d'une transcendance qui dépasse les plaisirs et les peines de ce monde.\", \"Pour Pascal, le bonheur résidait dans la foi et dans la lutte intérieure vers une compréhension plus profonde de l'existence.\", \"Nietzsche, d'autre part, a contesté les idées traditionnelles sur le bonheur.\", \"Il a proclamé que le bonheur n'était pas le produit de la conformité ou du confort, mais plutôt le résultat de l'acceptation et de l'affirmation de la vie dans toute sa complexité.\", \"Pour lui, le bonheur était intimement lié à la volonté de puissance, à l'aspiration de l'individu à surmonter les défis et à forger son propre chemin dans la vie.\", \"Kierkegaard a exploré le bonheur à travers le prisme de l'existence individuelle et de la subjectivité.\", \"Il a soutenu que le bonheur dépend de la capacité de l'individu à se comprendre soi-même, à faire des choix authentiques et à embrasser pleinement son existence unique.\", \"Pour Kierkegaard, le bonheur était profondément personnel et inextricablement lié à la quête de sens et de vérité dans la vie d'une personne.\", \"Rumi, le poète soufi, a vu le bonheur comme une union avec le divin, une immersion dans l'amour et la spiritualité.\", \"Il a parlé du bonheur comme d'un voyage vers l'intérieur, une quête pour découvrir la lumière et la vérité qui résident au cœur de chaque être.\", \"Pour Rumi, le bonheur était une expérience de l'extase et de la connexion profonde avec le tout.\", \"Emerson, dans ses réflexions sur la nature et l'âme humaine, a suggéré que le bonheur réside dans l'harmonie avec le monde naturel et dans l'expression authentique de soi.\", \"Il a encouragé une approche de la vie qui embrasse l'individualité, la créativité et un lien profond avec le monde naturel comme sources de bonheur et d'épanouissement.\", \"Thoreau, dans sa vie simple à Walden, a cherché le bonheur dans la simplicité et l'autosuffisance.\", 'Il a vu le bonheur comme quelque chose qui vient de vivre intentionnellement, en harmonie avec la nature et en accord avec ses propres convictions et valeurs.', \"Camus, avec sa philosophie de l'absurde, a considéré le bonheur comme une révolte contre l'absurdité de l'existence.\", \"Il a suggéré que trouver le bonheur nécessite une acceptation de l'absurde tout en se révoltant contre lui par la recherche de sens, de passion et de beauté dans la vie.\", \"Tagore, le poète et philosophe indien, a parlé du bonheur comme d'une communion avec l'univers, une célébration de la beauté et de la diversité de la vie.\", \"Il a vu le bonheur comme un état d'émerveillement et d'appréciation pour la richesse de l'existence.\", 'Lao Tseu, dans son enseignement taoïste, a vu le bonheur comme une question de vivre en harmonie avec le Tao, le chemin naturel des choses.', \"Pour lui, le bonheur vient de l'acceptation, de la simplicité et de l'alignement avec le flux naturel de la vie.\", \"Confucius a souligné l'importance de l'harmonie sociale, de la moralité et du devoir comme chemins vers le bonheur.\", \"Pour lui, le bonheur était lié à la réalisation de soi dans le contexte de relations saines et d'une société juste.\", 'Baudelaire, dans ses poèmes, a exploré le bonheur dans les plaisirs fugaces et les beautés cachées du monde.', \"Il a vu le bonheur dans les moments de révélation et de beauté qui émergent même dans les aspects les plus sombres de l'existence.\", 'Gandhi, dans sa quête de vérité et de justice, a vu le bonheur comme inséparable de la vie de service et de dévouement aux autres.', 'Pour lui, le bonheur venait de vivre en accord avec des principes moraux élevés et de travailler pour le bien-être des autres.', 'Schopenhauer, avec son pessimisme philosophique, a vu le bonheur comme un idéal souvent inaccessible, compte tenu de la nature souffrante de la vie.', 'Néanmoins, il a suggéré que le bonheur, dans la mesure où il peut être atteint, vient de la contemplation esthétique, de la compassion et de la modération des désirs.'] \n",
      "\n",
      "\n",
      " tokens_words:\n",
      "['Le', 'bonheur', ',', 'mes', 'chers', 'amis', ',', 'est', 'ce', 'phare', 'éternel', 'vers', 'lequel', 'toutes', 'les', 'âmes', 'naviguent', 'avec', 'espoir', '.', 'Mais', \"qu'est-ce\", 'que', 'le', 'bonheur', ',', 'sinon', \"l'harmonie\", 'entre', \"l'homme\", 'et', \"l'existence\", \"qu'il\", 'mène', '?', 'Ce', \"n'est\", 'pas', 'un', 'lieu', 'lointain', 'ou', 'un', 'sommet', 'à', 'atteindre', ',', 'mais', 'plutôt', 'un', 'chemin', 'sur', 'lequel', 'on', 'marche', ',', 'un', 'ensemble', 'de', 'petits', 'moments', ',', 'une', 'suite', 'de', 'respirations', 'conscientes', '.', 'Socrate', ',', 'dans', 'son', 'humilité', ',', 'nous', 'a', 'enseigné', 'que', 'la', 'connaissance', 'de', 'soi', 'est', 'la', 'clé', 'de', 'la', 'sagesse', 'et', ',', 'par', 'extension', ',', 'du', 'bonheur', '.', 'Car', 'en', 'se', 'connaissant', ',', 'on', 'comprend', 'mieux', 'ses', 'désirs', 'et', 'on', 'distingue', 'les', 'plaisirs', 'éphémères', 'des', 'joies', 'durables', '.', 'Épicure', ',', 'quant', 'à', 'lui', ',', 'a', 'souligné', \"l'importance\", 'des', 'plaisirs', 'simples', ':', 'le', 'chant', 'des', 'oiseaux', ',', 'la', 'douceur', \"d'une\", 'brise', ',', 'la', 'compagnie', \"d'un\", 'bon', 'ami', '.', 'Il', 'nous', 'a', 'invités', 'à', 'chercher', 'le', 'bonheur', 'dans', 'la', 'modération', 'et', 'dans', 'la', 'liberté', 'des', 'tourments', 'de', \"l'âme\", '.', 'Et', 'que', 'dire', 'de', 'Sénèque', ',', 'ce', 'stoïcien', 'qui', 'a', 'prôné', 'la', 'vertu', ',', 'la', 'patience', 'et', \"l'acceptation\", '?', 'Le', 'bonheur', \"n'est\", 'pas', \"l'absence\", 'de', 'souffrance', ',', 'mais', 'la', 'façon', 'dont', 'on', 'y', 'fait', 'face', '.', 'Il', 'nous', 'rappelle', 'que', 'les', 'vagues', 'de', 'la', 'vie', 'doivent', 'être', 'naviguées', 'avec', 'courage', 'et', 'que', 'le', 'bonheur', 'est', 'souvent', 'le', 'fruit', 'de', 'notre', 'capacité', 'à', 'ne', 'pas', 'vouloir', 'contrôler', 'ce', 'qui', 'échappe', 'à', 'notre', 'contrôle', '.', 'Enfin', ',', 'Montaigne', ',', 'avec', 'son', 'esprit', 'libre', 'et', 'curieux', ',', 'nous', 'a', 'appris', 'que', 'le', 'bonheur', 'réside', 'dans', \"l'appréciation\", 'des', 'joies', 'de', 'la', 'vie', 'quotidienne', ',', 'dans', \"l'acceptation\", 'de', 'soi', 'et', 'dans', 'le', 'courage', \"d'être\", 'authentique', '.', 'Cherchons', 'donc', 'le', 'bonheur', 'non', 'pas', 'comme', 'une', 'terre', 'promise', 'que', \"l'on\", 'conquiert', ',', 'mais', 'comme', 'un', 'jardin', 'que', \"l'on\", 'cultive', 'chaque', 'jour', '.', 'Que', 'chaque', 'pas', 'soit', 'guidé', 'par', \"l'amour\", ',', 'la', 'gratitude', 'et', 'la', 'bienveillance', '.', 'Que', 'chaque', 'regard', 'posé', 'sur', 'le', 'monde', 'soit', 'empreint', 'de', 'merveille', 'et', 'de', 'respect', '.', 'Le', 'bonheur', 'est', 'là', ',', 'dans', \"l'ici\", 'et', 'maintenant', ',', 'dans', 'la', 'pleine', 'conscience', 'de', 'chaque', 'instant', 'vécu', ',', 'dans', \"l'union\", 'paisible', 'de', 'notre', 'esprit', 'avec', 'le', 'cœur', 'battant', 'de', \"l'univers\", '.', 'Vivez', ',', 'aimez', ',', 'riez', 'et', 'trouvez', 'votre', 'bonheur', 'dans', 'cette', 'merveilleuse', 'aventure', \"qu'est\", 'la', 'vie', '.', 'Aristote', 'nous', 'disait', 'que', 'le', 'bonheur', 'est', \"l'activité\", 'de', \"l'âme\", 'conforme', 'à', 'la', 'vertu', '.', 'Il', 'voyait', 'le', 'bonheur', 'non', 'comme', 'un', 'état', 'passif', ',', 'mais', 'comme', 'une', 'activité', 'pleine', 'et', 'engagée', 'dans', 'la', 'poursuite', 'du', 'bien', 'et', 'de', 'la', 'vertu', '.', 'Pour', 'lui', ',', 'le', 'bonheur', 'était', \"l'aboutissement\", \"d'une\", 'vie', 'de', 'pratique', 'et', 'de', 'réflexion', ',', 'un', 'point', 'culminant', 'de', \"l'excellence\", 'humaine', 'et', 'de', 'la', 'réalisation', 'de', 'soi', '.', 'Pascal', ',', 'avec', 'sa', 'profondeur', 'et', 'sa', 'perspicacité', ',', 'a', 'considéré', 'le', 'bonheur', 'comme', 'un', 'état', 'insaisissable', 'et', 'éphémère', '.', 'Il', 'croyait', 'que', 'le', 'vrai', 'bonheur', 'ne', 'pouvait', 'être', 'trouvé', 'que', 'dans', 'la', 'recherche', 'de', \"l'infini\", ',', 'dans', 'la', 'quête', \"d'une\", 'transcendance', 'qui', 'dépasse', 'les', 'plaisirs', 'et', 'les', 'peines', 'de', 'ce', 'monde', '.', 'Pour', 'Pascal', ',', 'le', 'bonheur', 'résidait', 'dans', 'la', 'foi', 'et', 'dans', 'la', 'lutte', 'intérieure', 'vers', 'une', 'compréhension', 'plus', 'profonde', 'de', \"l'existence\", '.', 'Nietzsche', ',', \"d'autre\", 'part', ',', 'a', 'contesté', 'les', 'idées', 'traditionnelles', 'sur', 'le', 'bonheur', '.', 'Il', 'a', 'proclamé', 'que', 'le', 'bonheur', \"n'était\", 'pas', 'le', 'produit', 'de', 'la', 'conformité', 'ou', 'du', 'confort', ',', 'mais', 'plutôt', 'le', 'résultat', 'de', \"l'acceptation\", 'et', 'de', \"l'affirmation\", 'de', 'la', 'vie', 'dans', 'toute', 'sa', 'complexité', '.', 'Pour', 'lui', ',', 'le', 'bonheur', 'était', 'intimement', 'lié', 'à', 'la', 'volonté', 'de', 'puissance', ',', 'à', \"l'aspiration\", 'de', \"l'individu\", 'à', 'surmonter', 'les', 'défis', 'et', 'à', 'forger', 'son', 'propre', 'chemin', 'dans', 'la', 'vie', '.', 'Kierkegaard', 'a', 'exploré', 'le', 'bonheur', 'à', 'travers', 'le', 'prisme', 'de', \"l'existence\", 'individuelle', 'et', 'de', 'la', 'subjectivité', '.', 'Il', 'a', 'soutenu', 'que', 'le', 'bonheur', 'dépend', 'de', 'la', 'capacité', 'de', \"l'individu\", 'à', 'se', 'comprendre', 'soi-même', ',', 'à', 'faire', 'des', 'choix', 'authentiques', 'et', 'à', 'embrasser', 'pleinement', 'son', 'existence', 'unique', '.', 'Pour', 'Kierkegaard', ',', 'le', 'bonheur', 'était', 'profondément', 'personnel', 'et', 'inextricablement', 'lié', 'à', 'la', 'quête', 'de', 'sens', 'et', 'de', 'vérité', 'dans', 'la', 'vie', \"d'une\", 'personne', '.', 'Rumi', ',', 'le', 'poète', 'soufi', ',', 'a', 'vu', 'le', 'bonheur', 'comme', 'une', 'union', 'avec', 'le', 'divin', ',', 'une', 'immersion', 'dans', \"l'amour\", 'et', 'la', 'spiritualité', '.', 'Il', 'a', 'parlé', 'du', 'bonheur', 'comme', \"d'un\", 'voyage', 'vers', \"l'intérieur\", ',', 'une', 'quête', 'pour', 'découvrir', 'la', 'lumière', 'et', 'la', 'vérité', 'qui', 'résident', 'au', 'cœur', 'de', 'chaque', 'être', '.', 'Pour', 'Rumi', ',', 'le', 'bonheur', 'était', 'une', 'expérience', 'de', \"l'extase\", 'et', 'de', 'la', 'connexion', 'profonde', 'avec', 'le', 'tout', '.', 'Emerson', ',', 'dans', 'ses', 'réflexions', 'sur', 'la', 'nature', 'et', \"l'âme\", 'humaine', ',', 'a', 'suggéré', 'que', 'le', 'bonheur', 'réside', 'dans', \"l'harmonie\", 'avec', 'le', 'monde', 'naturel', 'et', 'dans', \"l'expression\", 'authentique', 'de', 'soi', '.', 'Il', 'a', 'encouragé', 'une', 'approche', 'de', 'la', 'vie', 'qui', 'embrasse', \"l'individualité\", ',', 'la', 'créativité', 'et', 'un', 'lien', 'profond', 'avec', 'le', 'monde', 'naturel', 'comme', 'sources', 'de', 'bonheur', 'et', \"d'épanouissement\", '.', 'Thoreau', ',', 'dans', 'sa', 'vie', 'simple', 'à', 'Walden', ',', 'a', 'cherché', 'le', 'bonheur', 'dans', 'la', 'simplicité', 'et', \"l'autosuffisance\", '.', 'Il', 'a', 'vu', 'le', 'bonheur', 'comme', 'quelque', 'chose', 'qui', 'vient', 'de', 'vivre', 'intentionnellement', ',', 'en', 'harmonie', 'avec', 'la', 'nature', 'et', 'en', 'accord', 'avec', 'ses', 'propres', 'convictions', 'et', 'valeurs', '.', 'Camus', ',', 'avec', 'sa', 'philosophie', 'de', \"l'absurde\", ',', 'a', 'considéré', 'le', 'bonheur', 'comme', 'une', 'révolte', 'contre', \"l'absurdité\", 'de', \"l'existence\", '.', 'Il', 'a', 'suggéré', 'que', 'trouver', 'le', 'bonheur', 'nécessite', 'une', 'acceptation', 'de', \"l'absurde\", 'tout', 'en', 'se', 'révoltant', 'contre', 'lui', 'par', 'la', 'recherche', 'de', 'sens', ',', 'de', 'passion', 'et', 'de', 'beauté', 'dans', 'la', 'vie', '.', 'Tagore', ',', 'le', 'poète', 'et', 'philosophe', 'indien', ',', 'a', 'parlé', 'du', 'bonheur', 'comme', \"d'une\", 'communion', 'avec', \"l'univers\", ',', 'une', 'célébration', 'de', 'la', 'beauté', 'et', 'de', 'la', 'diversité', 'de', 'la', 'vie', '.', 'Il', 'a', 'vu', 'le', 'bonheur', 'comme', 'un', 'état', \"d'émerveillement\", 'et', \"d'appréciation\", 'pour', 'la', 'richesse', 'de', \"l'existence\", '.', 'Lao', 'Tseu', ',', 'dans', 'son', 'enseignement', 'taoïste', ',', 'a', 'vu', 'le', 'bonheur', 'comme', 'une', 'question', 'de', 'vivre', 'en', 'harmonie', 'avec', 'le', 'Tao', ',', 'le', 'chemin', 'naturel', 'des', 'choses', '.', 'Pour', 'lui', ',', 'le', 'bonheur', 'vient', 'de', \"l'acceptation\", ',', 'de', 'la', 'simplicité', 'et', 'de', \"l'alignement\", 'avec', 'le', 'flux', 'naturel', 'de', 'la', 'vie', '.', 'Confucius', 'a', 'souligné', \"l'importance\", 'de', \"l'harmonie\", 'sociale', ',', 'de', 'la', 'moralité', 'et', 'du', 'devoir', 'comme', 'chemins', 'vers', 'le', 'bonheur', '.', 'Pour', 'lui', ',', 'le', 'bonheur', 'était', 'lié', 'à', 'la', 'réalisation', 'de', 'soi', 'dans', 'le', 'contexte', 'de', 'relations', 'saines', 'et', \"d'une\", 'société', 'juste', '.', 'Baudelaire', ',', 'dans', 'ses', 'poèmes', ',', 'a', 'exploré', 'le', 'bonheur', 'dans', 'les', 'plaisirs', 'fugaces', 'et', 'les', 'beautés', 'cachées', 'du', 'monde', '.', 'Il', 'a', 'vu', 'le', 'bonheur', 'dans', 'les', 'moments', 'de', 'révélation', 'et', 'de', 'beauté', 'qui', 'émergent', 'même', 'dans', 'les', 'aspects', 'les', 'plus', 'sombres', 'de', \"l'existence\", '.', 'Gandhi', ',', 'dans', 'sa', 'quête', 'de', 'vérité', 'et', 'de', 'justice', ',', 'a', 'vu', 'le', 'bonheur', 'comme', 'inséparable', 'de', 'la', 'vie', 'de', 'service', 'et', 'de', 'dévouement', 'aux', 'autres', '.', 'Pour', 'lui', ',', 'le', 'bonheur', 'venait', 'de', 'vivre', 'en', 'accord', 'avec', 'des', 'principes', 'moraux', 'élevés', 'et', 'de', 'travailler', 'pour', 'le', 'bien-être', 'des', 'autres', '.', 'Schopenhauer', ',', 'avec', 'son', 'pessimisme', 'philosophique', ',', 'a', 'vu', 'le', 'bonheur', 'comme', 'un', 'idéal', 'souvent', 'inaccessible', ',', 'compte', 'tenu', 'de', 'la', 'nature', 'souffrante', 'de', 'la', 'vie', '.', 'Néanmoins', ',', 'il', 'a', 'suggéré', 'que', 'le', 'bonheur', ',', 'dans', 'la', 'mesure', 'où', 'il', 'peut', 'être', 'atteint', ',', 'vient', 'de', 'la', 'contemplation', 'esthétique', ',', 'de', 'la', 'compassion', 'et', 'de', 'la', 'modération', 'des', 'désirs', '.'] \n",
      "\n",
      "\n",
      " stop_words:\n",
      "{'à', 'sera', 'eurent', 'qu', 'seriez', 'étants', 'les', 'avait', 'seras', 'sa', 'serez', 'était', 'aurai', 'ayants', 'ce', 'tu', 'seraient', 'eus', 'étantes', 'fussiez', 'lui', 'sont', 'fusses', 'eussent', 'étante', 'es', 'mon', 'est', 'fussions', 'étée', 'avez', 'furent', 'ayantes', 'sommes', 'aviez', 'eusses', 'ayant', 'je', 'ces', 'soyez', 'pour', 'mais', 'de', 'toi', 'fut', 'ayons', 'auriez', 'y', 'étant', 'son', 'aurons', 'aux', 'eut', 'ayez', 'nous', 'aurions', 'soyons', 'étées', 'ayante', 'fus', 'eussions', 'eûtes', 'on', 'serions', 'étais', 'sois', 'aurait', 'serait', 'ils', 'au', 'eussiez', 'seront', 'fût', 'pas', 'aurez', 'des', 's', 'ont', 'avions', 'aient', 'et', 'd', 'serais', 'nos', 'ne', 'mes', 'étés', 'as', 'elle', 'eues', 'la', 'se', 'soient', 'j', 'étiez', 'eût', 'soit', 'qui', 'étions', 'auras', 'auront', 'un', 'eûmes', 'êtes', 'suis', 'même', 'me', 'avaient', 'notre', 'tes', 'ait', 'aie', 'dans', 'serons', 'eu', 'l', 'une', 'le', 'ses', 'eux', 't', 'fûmes', 'fûtes', 'il', 'fusse', 'avec', 'du', 'eue', 'n', 'étaient', 'avais', 'serai', 'été', 'par', 'fussent', 'ai', 'vous', 'te', 'sur', 'avons', 'en', 'm', 'auraient', 'leur', 'ma', 'aura', 'aurais', 'eusse', 'moi', 'votre', 'aies', 'que', 'ta', 'vos', 'c', 'ou', 'ton'} \n",
      "\n",
      "\n",
      " freq:\n",
      "Counter({',': 79, 'de': 79, 'la': 58, 'le': 54, 'et': 49, '.': 47, 'bonheur': 43, 'dans': 33, 'a': 27, 'avec': 17, 'à': 17, 'que': 16, 'comme': 16, 'vie': 14, 'une': 13, 'les': 12, 'Il': 12, 'un': 11, 'des': 10, 'Pour': 8, 'du': 7, 'lui': 7, 'qui': 7, 'vu': 7, \"l'existence\": 6, 'pas': 6, 'son': 6, 'en': 6, \"d'une\": 6, 'sa': 6, 'est': 5, 'mais': 5, 'nous': 5, 'soi': 5, 'chaque': 5, 'monde': 5, 'était': 5, 'ce': 4, 'vers': 4, 'sur': 4, 'on': 4, 'ses': 4, 'plaisirs': 4, \"l'acceptation\": 4, 'être': 4, 'quête': 4, 'naturel': 4, 'Le': 3, \"l'harmonie\": 3, 'chemin': 3, 'par': 3, 'se': 3, \"l'âme\": 3, 'vertu': 3, 'notre': 3, 'état': 3, 'lié': 3, 'vérité': 3, 'pour': 3, 'nature': 3, 'suggéré': 3, 'vient': 3, 'vivre': 3, 'beauté': 3, 'lequel': 2, '?': 2, \"n'est\": 2, 'ou': 2, 'plutôt': 2, 'moments': 2, 'désirs': 2, 'joies': 2, 'souligné': 2, \"l'importance\": 2, \"d'un\": 2, 'modération': 2, 'courage': 2, 'souvent': 2, 'capacité': 2, 'ne': 2, 'esprit': 2, 'réside': 2, 'authentique': 2, 'non': 2, \"l'on\": 2, 'Que': 2, 'soit': 2, \"l'amour\": 2, 'pleine': 2, 'cœur': 2, \"l'univers\": 2, 'humaine': 2, 'réalisation': 2, 'Pascal': 2, 'considéré': 2, 'recherche': 2, 'plus': 2, 'profonde': 2, \"l'individu\": 2, 'Kierkegaard': 2, 'exploré': 2, 'sens': 2, 'Rumi': 2, 'poète': 2, 'parlé': 2, 'tout': 2, 'simplicité': 2, 'harmonie': 2, 'accord': 2, \"l'absurde\": 2, 'contre': 2, 'autres': 2, 'il': 2, 'mes': 1, 'chers': 1, 'amis': 1, 'phare': 1, 'éternel': 1, 'toutes': 1, 'âmes': 1, 'naviguent': 1, 'espoir': 1, 'Mais': 1, \"qu'est-ce\": 1, 'sinon': 1, 'entre': 1, \"l'homme\": 1, \"qu'il\": 1, 'mène': 1, 'Ce': 1, 'lieu': 1, 'lointain': 1, 'sommet': 1, 'atteindre': 1, 'marche': 1, 'ensemble': 1, 'petits': 1, 'suite': 1, 'respirations': 1, 'conscientes': 1, 'Socrate': 1, 'humilité': 1, 'enseigné': 1, 'connaissance': 1, 'clé': 1, 'sagesse': 1, 'extension': 1, 'Car': 1, 'connaissant': 1, 'comprend': 1, 'mieux': 1, 'distingue': 1, 'éphémères': 1, 'durables': 1, 'Épicure': 1, 'quant': 1, 'simples': 1, ':': 1, 'chant': 1, 'oiseaux': 1, 'douceur': 1, 'brise': 1, 'compagnie': 1, 'bon': 1, 'ami': 1, 'invités': 1, 'chercher': 1, 'liberté': 1, 'tourments': 1, 'Et': 1, 'dire': 1, 'Sénèque': 1, 'stoïcien': 1, 'prôné': 1, 'patience': 1, \"l'absence\": 1, 'souffrance': 1, 'façon': 1, 'dont': 1, 'y': 1, 'fait': 1, 'face': 1, 'rappelle': 1, 'vagues': 1, 'doivent': 1, 'naviguées': 1, 'fruit': 1, 'vouloir': 1, 'contrôler': 1, 'échappe': 1, 'contrôle': 1, 'Enfin': 1, 'Montaigne': 1, 'libre': 1, 'curieux': 1, 'appris': 1, \"l'appréciation\": 1, 'quotidienne': 1, \"d'être\": 1, 'Cherchons': 1, 'donc': 1, 'terre': 1, 'promise': 1, 'conquiert': 1, 'jardin': 1, 'cultive': 1, 'jour': 1, 'guidé': 1, 'gratitude': 1, 'bienveillance': 1, 'regard': 1, 'posé': 1, 'empreint': 1, 'merveille': 1, 'respect': 1, 'là': 1, \"l'ici\": 1, 'maintenant': 1, 'conscience': 1, 'instant': 1, 'vécu': 1, \"l'union\": 1, 'paisible': 1, 'battant': 1, 'Vivez': 1, 'aimez': 1, 'riez': 1, 'trouvez': 1, 'votre': 1, 'cette': 1, 'merveilleuse': 1, 'aventure': 1, \"qu'est\": 1, 'Aristote': 1, 'disait': 1, \"l'activité\": 1, 'conforme': 1, 'voyait': 1, 'passif': 1, 'activité': 1, 'engagée': 1, 'poursuite': 1, 'bien': 1, \"l'aboutissement\": 1, 'pratique': 1, 'réflexion': 1, 'point': 1, 'culminant': 1, \"l'excellence\": 1, 'profondeur': 1, 'perspicacité': 1, 'insaisissable': 1, 'éphémère': 1, 'croyait': 1, 'vrai': 1, 'pouvait': 1, 'trouvé': 1, \"l'infini\": 1, 'transcendance': 1, 'dépasse': 1, 'peines': 1, 'résidait': 1, 'foi': 1, 'lutte': 1, 'intérieure': 1, 'compréhension': 1, 'Nietzsche': 1, \"d'autre\": 1, 'part': 1, 'contesté': 1, 'idées': 1, 'traditionnelles': 1, 'proclamé': 1, \"n'était\": 1, 'produit': 1, 'conformité': 1, 'confort': 1, 'résultat': 1, \"l'affirmation\": 1, 'toute': 1, 'complexité': 1, 'intimement': 1, 'volonté': 1, 'puissance': 1, \"l'aspiration\": 1, 'surmonter': 1, 'défis': 1, 'forger': 1, 'propre': 1, 'travers': 1, 'prisme': 1, 'individuelle': 1, 'subjectivité': 1, 'soutenu': 1, 'dépend': 1, 'comprendre': 1, 'soi-même': 1, 'faire': 1, 'choix': 1, 'authentiques': 1, 'embrasser': 1, 'pleinement': 1, 'existence': 1, 'unique': 1, 'profondément': 1, 'personnel': 1, 'inextricablement': 1, 'personne': 1, 'soufi': 1, 'union': 1, 'divin': 1, 'immersion': 1, 'spiritualité': 1, 'voyage': 1, \"l'intérieur\": 1, 'découvrir': 1, 'lumière': 1, 'résident': 1, 'au': 1, 'expérience': 1, \"l'extase\": 1, 'connexion': 1, 'Emerson': 1, 'réflexions': 1, \"l'expression\": 1, 'encouragé': 1, 'approche': 1, 'embrasse': 1, \"l'individualité\": 1, 'créativité': 1, 'lien': 1, 'profond': 1, 'sources': 1, \"d'épanouissement\": 1, 'Thoreau': 1, 'simple': 1, 'Walden': 1, 'cherché': 1, \"l'autosuffisance\": 1, 'quelque': 1, 'chose': 1, 'intentionnellement': 1, 'propres': 1, 'convictions': 1, 'valeurs': 1, 'Camus': 1, 'philosophie': 1, 'révolte': 1, \"l'absurdité\": 1, 'trouver': 1, 'nécessite': 1, 'acceptation': 1, 'révoltant': 1, 'passion': 1, 'Tagore': 1, 'philosophe': 1, 'indien': 1, 'communion': 1, 'célébration': 1, 'diversité': 1, \"d'émerveillement\": 1, \"d'appréciation\": 1, 'richesse': 1, 'Lao': 1, 'Tseu': 1, 'enseignement': 1, 'taoïste': 1, 'question': 1, 'Tao': 1, 'choses': 1, \"l'alignement\": 1, 'flux': 1, 'Confucius': 1, 'sociale': 1, 'moralité': 1, 'devoir': 1, 'chemins': 1, 'contexte': 1, 'relations': 1, 'saines': 1, 'société': 1, 'juste': 1, 'Baudelaire': 1, 'poèmes': 1, 'fugaces': 1, 'beautés': 1, 'cachées': 1, 'révélation': 1, 'émergent': 1, 'même': 1, 'aspects': 1, 'sombres': 1, 'Gandhi': 1, 'justice': 1, 'inséparable': 1, 'service': 1, 'dévouement': 1, 'aux': 1, 'venait': 1, 'principes': 1, 'moraux': 1, 'élevés': 1, 'travailler': 1, 'bien-être': 1, 'Schopenhauer': 1, 'pessimisme': 1, 'philosophique': 1, 'idéal': 1, 'inaccessible': 1, 'compte': 1, 'tenu': 1, 'souffrante': 1, 'Néanmoins': 1, 'mesure': 1, 'où': 1, 'peut': 1, 'atteint': 1, 'contemplation': 1, 'esthétique': 1, 'compassion': 1})\n",
      "\n",
      " mots:\n",
      "420 \n",
      "\n",
      "\n",
      " mots:\n",
      "['Le', 'bonheur', ',', 'mes', 'chers', 'amis', 'est', 'ce', 'phare', 'éternel', 'vers', 'lequel', 'toutes', 'les', 'âmes', 'naviguent', 'avec', 'espoir', '.', 'Mais', \"qu'est-ce\", 'que', 'le', 'sinon', \"l'harmonie\", 'entre', \"l'homme\", 'et', \"l'existence\", \"qu'il\", 'mène', '?', 'Ce', \"n'est\", 'pas', 'un', 'lieu', 'lointain', 'ou', 'sommet', 'à', 'atteindre', 'mais', 'plutôt', 'chemin', 'sur', 'on', 'marche', 'ensemble', 'de', 'petits', 'moments', 'une', 'suite', 'respirations', 'conscientes', 'Socrate', 'dans', 'son', 'humilité', 'nous', 'a', 'enseigné', 'la', 'connaissance', 'soi', 'clé', 'sagesse', 'par', 'extension', 'du', 'Car', 'en', 'se', 'connaissant', 'comprend', 'mieux', 'ses', 'désirs', 'distingue', 'plaisirs', 'éphémères', 'des', 'joies', 'durables', 'Épicure', 'quant', 'lui', 'souligné', \"l'importance\", 'simples', ':', 'chant', 'oiseaux', 'douceur', \"d'une\", 'brise', 'compagnie', \"d'un\", 'bon', 'ami', 'Il', 'invités', 'chercher', 'modération', 'liberté', 'tourments', \"l'âme\", 'Et', 'dire', 'Sénèque', 'stoïcien', 'qui', 'prôné', 'vertu', 'patience', \"l'acceptation\", \"l'absence\", 'souffrance', 'façon', 'dont', 'y', 'fait', 'face', 'rappelle', 'vagues', 'vie', 'doivent', 'être', 'naviguées', 'courage', 'souvent', 'fruit', 'notre', 'capacité', 'ne', 'vouloir', 'contrôler', 'échappe', 'contrôle', 'Enfin', 'Montaigne', 'esprit', 'libre', 'curieux', 'appris', 'réside', \"l'appréciation\", 'quotidienne', \"d'être\", 'authentique', 'Cherchons', 'donc', 'non', 'comme', 'terre', 'promise', \"l'on\", 'conquiert', 'jardin', 'cultive', 'chaque', 'jour', 'Que', 'soit', 'guidé', \"l'amour\", 'gratitude', 'bienveillance', 'regard', 'posé', 'monde', 'empreint', 'merveille', 'respect', 'là', \"l'ici\", 'maintenant', 'pleine', 'conscience', 'instant', 'vécu', \"l'union\", 'paisible', 'cœur', 'battant', \"l'univers\", 'Vivez', 'aimez', 'riez', 'trouvez', 'votre', 'cette', 'merveilleuse', 'aventure', \"qu'est\", 'Aristote', 'disait', \"l'activité\", 'conforme', 'voyait', 'état', 'passif', 'activité', 'engagée', 'poursuite', 'bien', 'Pour', 'était', \"l'aboutissement\", 'pratique', 'réflexion', 'point', 'culminant', \"l'excellence\", 'humaine', 'réalisation', 'Pascal', 'sa', 'profondeur', 'perspicacité', 'considéré', 'insaisissable', 'éphémère', 'croyait', 'vrai', 'pouvait', 'trouvé', 'recherche', \"l'infini\", 'quête', 'transcendance', 'dépasse', 'peines', 'résidait', 'foi', 'lutte', 'intérieure', 'compréhension', 'plus', 'profonde', 'Nietzsche', \"d'autre\", 'part', 'contesté', 'idées', 'traditionnelles', 'proclamé', \"n'était\", 'produit', 'conformité', 'confort', 'résultat', \"l'affirmation\", 'toute', 'complexité', 'intimement', 'lié', 'volonté', 'puissance', \"l'aspiration\", \"l'individu\", 'surmonter', 'défis', 'forger', 'propre', 'Kierkegaard', 'exploré', 'travers', 'prisme', 'individuelle', 'subjectivité', 'soutenu', 'dépend', 'comprendre', 'soi-même', 'faire', 'choix', 'authentiques', 'embrasser', 'pleinement', 'existence', 'unique', 'profondément', 'personnel', 'inextricablement', 'sens', 'vérité', 'personne', 'Rumi', 'poète', 'soufi', 'vu', 'union', 'divin', 'immersion', 'spiritualité', 'parlé', 'voyage', \"l'intérieur\", 'pour', 'découvrir', 'lumière', 'résident', 'au', 'expérience', \"l'extase\", 'connexion', 'tout', 'Emerson', 'réflexions', 'nature', 'suggéré', 'naturel', \"l'expression\", 'encouragé', 'approche', 'embrasse', \"l'individualité\", 'créativité', 'lien', 'profond', 'sources', \"d'épanouissement\", 'Thoreau', 'simple', 'Walden', 'cherché', 'simplicité', \"l'autosuffisance\", 'quelque', 'chose', 'vient', 'vivre', 'intentionnellement', 'harmonie', 'accord', 'propres', 'convictions', 'valeurs', 'Camus', 'philosophie', \"l'absurde\", 'révolte', 'contre', \"l'absurdité\", 'trouver', 'nécessite', 'acceptation', 'révoltant', 'passion', 'beauté', 'Tagore', 'philosophe', 'indien', 'communion', 'célébration', 'diversité', \"d'émerveillement\", \"d'appréciation\", 'richesse', 'Lao', 'Tseu', 'enseignement', 'taoïste', 'question', 'Tao', 'choses', \"l'alignement\", 'flux', 'Confucius', 'sociale', 'moralité', 'devoir', 'chemins', 'contexte', 'relations', 'saines', 'société', 'juste', 'Baudelaire', 'poèmes', 'fugaces', 'beautés', 'cachées', 'révélation', 'émergent', 'même', 'aspects', 'sombres', 'Gandhi', 'justice', 'inséparable', 'service', 'dévouement', 'aux', 'autres', 'venait', 'principes', 'moraux', 'élevés', 'travailler', 'bien-être', 'Schopenhauer', 'pessimisme', 'philosophique', 'idéal', 'inaccessible', 'compte', 'tenu', 'souffrante', 'Néanmoins', 'il', 'mesure', 'où', 'peut', 'atteint', 'contemplation', 'esthétique', 'compassion'] \n",
      "\n",
      "\n",
      " frequences:\n",
      "[3, 43, 79, 1, 1, 1, 5, 4, 1, 1, 4, 2, 1, 12, 1, 1, 17, 1, 47, 1, 1, 16, 54, 1, 3, 1, 1, 49, 6, 1, 1, 2, 1, 2, 6, 11, 1, 1, 2, 1, 17, 1, 5, 2, 3, 4, 4, 1, 1, 79, 1, 2, 13, 1, 1, 1, 1, 33, 6, 1, 5, 27, 1, 58, 1, 5, 1, 1, 3, 1, 7, 1, 6, 3, 1, 1, 1, 4, 2, 1, 4, 1, 10, 2, 1, 1, 1, 7, 2, 2, 1, 1, 1, 1, 1, 6, 1, 1, 2, 1, 1, 12, 1, 1, 2, 1, 1, 3, 1, 1, 1, 1, 7, 1, 3, 1, 4, 1, 1, 1, 1, 1, 1, 1, 1, 1, 14, 1, 4, 1, 2, 2, 1, 3, 2, 2, 1, 1, 1, 1, 1, 1, 2, 1, 1, 1, 2, 1, 1, 1, 2, 1, 1, 2, 16, 1, 1, 2, 1, 1, 1, 5, 1, 2, 2, 1, 2, 1, 1, 1, 1, 5, 1, 1, 1, 1, 1, 1, 2, 1, 1, 1, 1, 1, 2, 1, 2, 1, 1, 1, 1, 1, 1, 1, 1, 1, 1, 1, 1, 1, 1, 3, 1, 1, 1, 1, 1, 8, 5, 1, 1, 1, 1, 1, 1, 2, 2, 2, 6, 1, 1, 2, 1, 1, 1, 1, 1, 1, 2, 1, 4, 1, 1, 1, 1, 1, 1, 1, 1, 2, 2, 1, 1, 1, 1, 1, 1, 1, 1, 1, 1, 1, 1, 1, 1, 1, 1, 3, 1, 1, 1, 2, 1, 1, 1, 1, 2, 2, 1, 1, 1, 1, 1, 1, 1, 1, 1, 1, 1, 1, 1, 1, 1, 1, 1, 1, 2, 3, 1, 2, 2, 1, 7, 1, 1, 1, 1, 2, 1, 1, 3, 1, 1, 1, 1, 1, 1, 1, 2, 1, 1, 3, 3, 4, 1, 1, 1, 1, 1, 1, 1, 1, 1, 1, 1, 1, 1, 1, 2, 1, 1, 1, 3, 3, 1, 2, 2, 1, 1, 1, 1, 1, 2, 1, 2, 1, 1, 1, 1, 1, 1, 3, 1, 1, 1, 1, 1, 1, 1, 1, 1, 1, 1, 1, 1, 1, 1, 1, 1, 1, 1, 1, 1, 1, 1, 1, 1, 1, 1, 1, 1, 1, 1, 1, 1, 1, 1, 1, 1, 1, 1, 1, 1, 1, 1, 1, 2, 1, 1, 1, 1, 1, 1, 1, 1, 1, 1, 1, 1, 1, 1, 1, 2, 1, 1, 1, 1, 1, 1, 1] \n",
      "\n"
     ]
    },
    {
     "data": {
      "image/png": "[encoded data removed]",
      "text/plain": [
       "<Figure size 1000x600 with 1 Axes>"
      ]
     },
     "metadata": {},
     "output_type": "display_data"
    }
   ],
   "source": [
    "# Définir le chemin d'accès au fichier\n",
    "from collections import Counter\n",
    "import matplotlib.pyplot as plt\n",
    "import nltk\n",
    "from nltk.corpus import stopwords\n",
    "\n",
    "fichier_to_test = \"./le_bonheur.txt\"\n",
    "print(f\"\\n fichier_to_test :\\n{fichier_to_test} \\n\")\n",
    "\n",
    "# Lire le fichier\n",
    "with open(fichier_to_test, \"r\", encoding=\"utf-8\") as file:\n",
    "    texte = file.read()\n",
    "\n",
    "# Tokenisation par phrase, liste les phrases dans le texte\n",
    "token_phrases = nltk.sent_tokenize(texte)\n",
    "print(f\"\\n token_phrases:\\n{token_phrases} \\n\")\n",
    "\n",
    "# Tokenisation par mots, liste les mots dans le texte\n",
    "tokens_words = nltk.word_tokenize(texte, language=\"french\")\n",
    "print(f\"\\n tokens_words:\\n{tokens_words} \\n\")\n",
    "\n",
    "# Création de la liste des stop words\n",
    "stop_words = set(stopwords.words(\"french\"))\n",
    "print(f\"\\n stop_words:\\n{stop_words} \\n\")\n",
    "\n",
    "# Compter la fréquence des mots\n",
    "freq_tokens_words = Counter(tokens_words)\n",
    "print(f\"\\n freq:\\n{freq_tokens_words}\")\n",
    "\n",
    "# Préparer les données pour le graphique\n",
    "mots = list(freq_tokens_words.keys())\n",
    "frequences = list(freq_tokens_words.values())\n",
    "print(f\"\\n mots:\\n{len(mots)} \\n\")\n",
    "print(f\"\\n mots:\\n{mots} \\n\")\n",
    "print(f\"\\n frequences:\\n{frequences} \\n\")\n",
    "\n",
    "# Créer un graphique en barres\n",
    "plt.figure(figsize=(10, 6))\n",
    "plt.bar(mots[:20], frequences[:20])  # Affiche les 20 premiers mots pour la lisibilité\n",
    "plt.xlabel(\"Mots\")\n",
    "plt.ylabel(\"Fréquence\")\n",
    "plt.title(\"Fréquence des mots dans le texte avant suppression des tokens_words\")\n",
    "plt.xticks(rotation=45)\n",
    "plt.show()\n"
   ]
  },
  {
   "cell_type": "code",
   "execution_count": 66,
   "metadata": {},
   "outputs": [
    {
     "name": "stdout",
     "output_type": "stream",
     "text": [
      "\n",
      " Tokens nettoyés:\n",
      "['bonheur', ',', 'chers', 'amis', ',', 'phare', 'éternel', 'vers', 'lequel', 'toutes', 'âmes', 'naviguent', 'espoir', '.', \"qu'est-ce\", 'bonheur', ',', 'sinon', \"l'harmonie\", 'entre', \"l'homme\", \"l'existence\", \"qu'il\", 'mène', '?', \"n'est\", 'lieu', 'lointain', 'sommet', 'atteindre', ',', 'plutôt', 'chemin', 'lequel', 'marche', ',', 'ensemble', 'petits', 'moments', ',', 'suite', 'respirations', 'conscientes', '.', 'Socrate', ',', 'humilité', ',', 'a', 'enseigné', 'connaissance', 'soi', 'clé', 'sagesse', ',', 'extension', ',', 'bonheur', '.', 'Car', 'connaissant', ',', 'comprend', 'mieux', 'désirs', 'distingue', 'plaisirs', 'éphémères', 'joies', 'durables', '.', 'Épicure', ',', 'quant', ',', 'a', 'souligné', \"l'importance\", 'plaisirs', 'simples', ':', 'chant', 'oiseaux', ',', 'douceur', \"d'une\", 'brise', ',', 'compagnie', \"d'un\", 'bon', 'ami', '.', 'a', 'invités', 'chercher', 'bonheur', 'modération', 'liberté', 'tourments', \"l'âme\", '.', 'dire', 'Sénèque', ',', 'stoïcien', 'a', 'prôné', 'vertu', ',', 'patience', \"l'acceptation\", '?', 'bonheur', \"n'est\", \"l'absence\", 'souffrance', ',', 'façon', 'dont', 'fait', 'face', '.', 'rappelle', 'vagues', 'vie', 'doivent', 'être', 'naviguées', 'courage', 'bonheur', 'souvent', 'fruit', 'capacité', 'vouloir', 'contrôler', 'échappe', 'contrôle', '.', 'Enfin', ',', 'Montaigne', ',', 'esprit', 'libre', 'curieux', ',', 'a', 'appris', 'bonheur', 'réside', \"l'appréciation\", 'joies', 'vie', 'quotidienne', ',', \"l'acceptation\", 'soi', 'courage', \"d'être\", 'authentique', '.', 'Cherchons', 'donc', 'bonheur', 'non', 'comme', 'terre', 'promise', \"l'on\", 'conquiert', ',', 'comme', 'jardin', \"l'on\", 'cultive', 'chaque', 'jour', '.', 'chaque', 'guidé', \"l'amour\", ',', 'gratitude', 'bienveillance', '.', 'chaque', 'regard', 'posé', 'monde', 'empreint', 'merveille', 'respect', '.', 'bonheur', 'là', ',', \"l'ici\", 'maintenant', ',', 'pleine', 'conscience', 'chaque', 'instant', 'vécu', ',', \"l'union\", 'paisible', 'esprit', 'cœur', 'battant', \"l'univers\", '.', 'Vivez', ',', 'aimez', ',', 'riez', 'trouvez', 'bonheur', 'cette', 'merveilleuse', 'aventure', \"qu'est\", 'vie', '.', 'Aristote', 'disait', 'bonheur', \"l'activité\", \"l'âme\", 'conforme', 'vertu', '.', 'voyait', 'bonheur', 'non', 'comme', 'état', 'passif', ',', 'comme', 'activité', 'pleine', 'engagée', 'poursuite', 'bien', 'vertu', '.', ',', 'bonheur', \"l'aboutissement\", \"d'une\", 'vie', 'pratique', 'réflexion', ',', 'point', 'culminant', \"l'excellence\", 'humaine', 'réalisation', 'soi', '.', 'Pascal', ',', 'profondeur', 'perspicacité', ',', 'a', 'considéré', 'bonheur', 'comme', 'état', 'insaisissable', 'éphémère', '.', 'croyait', 'vrai', 'bonheur', 'pouvait', 'être', 'trouvé', 'recherche', \"l'infini\", ',', 'quête', \"d'une\", 'transcendance', 'dépasse', 'plaisirs', 'peines', 'monde', '.', 'Pascal', ',', 'bonheur', 'résidait', 'foi', 'lutte', 'intérieure', 'vers', 'compréhension', 'plus', 'profonde', \"l'existence\", '.', 'Nietzsche', ',', \"d'autre\", 'part', ',', 'a', 'contesté', 'idées', 'traditionnelles', 'bonheur', '.', 'a', 'proclamé', 'bonheur', \"n'était\", 'produit', 'conformité', 'confort', ',', 'plutôt', 'résultat', \"l'acceptation\", \"l'affirmation\", 'vie', 'toute', 'complexité', '.', ',', 'bonheur', 'intimement', 'lié', 'volonté', 'puissance', ',', \"l'aspiration\", \"l'individu\", 'surmonter', 'défis', 'forger', 'propre', 'chemin', 'vie', '.', 'Kierkegaard', 'a', 'exploré', 'bonheur', 'travers', 'prisme', \"l'existence\", 'individuelle', 'subjectivité', '.', 'a', 'soutenu', 'bonheur', 'dépend', 'capacité', \"l'individu\", 'comprendre', 'soi-même', ',', 'faire', 'choix', 'authentiques', 'embrasser', 'pleinement', 'existence', 'unique', '.', 'Kierkegaard', ',', 'bonheur', 'profondément', 'personnel', 'inextricablement', 'lié', 'quête', 'sens', 'vérité', 'vie', \"d'une\", 'personne', '.', 'Rumi', ',', 'poète', 'soufi', ',', 'a', 'vu', 'bonheur', 'comme', 'union', 'divin', ',', 'immersion', \"l'amour\", 'spiritualité', '.', 'a', 'parlé', 'bonheur', 'comme', \"d'un\", 'voyage', 'vers', \"l'intérieur\", ',', 'quête', 'découvrir', 'lumière', 'vérité', 'résident', 'cœur', 'chaque', 'être', '.', 'Rumi', ',', 'bonheur', 'expérience', \"l'extase\", 'connexion', 'profonde', 'tout', '.', 'Emerson', ',', 'réflexions', 'nature', \"l'âme\", 'humaine', ',', 'a', 'suggéré', 'bonheur', 'réside', \"l'harmonie\", 'monde', 'naturel', \"l'expression\", 'authentique', 'soi', '.', 'a', 'encouragé', 'approche', 'vie', 'embrasse', \"l'individualité\", ',', 'créativité', 'lien', 'profond', 'monde', 'naturel', 'comme', 'sources', 'bonheur', \"d'épanouissement\", '.', 'Thoreau', ',', 'vie', 'simple', 'Walden', ',', 'a', 'cherché', 'bonheur', 'simplicité', \"l'autosuffisance\", '.', 'a', 'vu', 'bonheur', 'comme', 'quelque', 'chose', 'vient', 'vivre', 'intentionnellement', ',', 'harmonie', 'nature', 'accord', 'propres', 'convictions', 'valeurs', '.', 'Camus', ',', 'philosophie', \"l'absurde\", ',', 'a', 'considéré', 'bonheur', 'comme', 'révolte', 'contre', \"l'absurdité\", \"l'existence\", '.', 'a', 'suggéré', 'trouver', 'bonheur', 'nécessite', 'acceptation', \"l'absurde\", 'tout', 'révoltant', 'contre', 'recherche', 'sens', ',', 'passion', 'beauté', 'vie', '.', 'Tagore', ',', 'poète', 'philosophe', 'indien', ',', 'a', 'parlé', 'bonheur', 'comme', \"d'une\", 'communion', \"l'univers\", ',', 'célébration', 'beauté', 'diversité', 'vie', '.', 'a', 'vu', 'bonheur', 'comme', 'état', \"d'émerveillement\", \"d'appréciation\", 'richesse', \"l'existence\", '.', 'Lao', 'Tseu', ',', 'enseignement', 'taoïste', ',', 'a', 'vu', 'bonheur', 'comme', 'question', 'vivre', 'harmonie', 'Tao', ',', 'chemin', 'naturel', 'choses', '.', ',', 'bonheur', 'vient', \"l'acceptation\", ',', 'simplicité', \"l'alignement\", 'flux', 'naturel', 'vie', '.', 'Confucius', 'a', 'souligné', \"l'importance\", \"l'harmonie\", 'sociale', ',', 'moralité', 'devoir', 'comme', 'chemins', 'vers', 'bonheur', '.', ',', 'bonheur', 'lié', 'réalisation', 'soi', 'contexte', 'relations', 'saines', \"d'une\", 'société', 'juste', '.', 'Baudelaire', ',', 'poèmes', ',', 'a', 'exploré', 'bonheur', 'plaisirs', 'fugaces', 'beautés', 'cachées', 'monde', '.', 'a', 'vu', 'bonheur', 'moments', 'révélation', 'beauté', 'émergent', 'aspects', 'plus', 'sombres', \"l'existence\", '.', 'Gandhi', ',', 'quête', 'vérité', 'justice', ',', 'a', 'vu', 'bonheur', 'comme', 'inséparable', 'vie', 'service', 'dévouement', 'autres', '.', ',', 'bonheur', 'venait', 'vivre', 'accord', 'principes', 'moraux', 'élevés', 'travailler', 'bien-être', 'autres', '.', 'Schopenhauer', ',', 'pessimisme', 'philosophique', ',', 'a', 'vu', 'bonheur', 'comme', 'idéal', 'souvent', 'inaccessible', ',', 'compte', 'tenu', 'nature', 'souffrante', 'vie', '.', 'Néanmoins', ',', 'a', 'suggéré', 'bonheur', ',', 'mesure', 'où', 'peut', 'être', 'atteint', ',', 'vient', 'contemplation', 'esthétique', ',', 'compassion', 'modération', 'désirs', '.'] \n",
      "\n",
      "\n",
      " liste_ponctuation:\n",
      "!\"#$%&'()*+,-./:;<=>?@[\\]^_`{|}~ \n",
      "\n",
      "\n",
      " tokens_clean_ponctuation:\n",
      "['bonheur', '', 'chers', 'amis', '', 'phare', 'éternel', 'vers', 'lequel', 'toutes', 'âmes', 'naviguent', 'espoir', '', 'questce', 'bonheur', '', 'sinon', 'lharmonie', 'entre', 'lhomme', 'lexistence', 'quil', 'mène', '', 'nest', 'lieu', 'lointain', 'sommet', 'atteindre', '', 'plutôt', 'chemin', 'lequel', 'marche', '', 'ensemble', 'petits', 'moments', '', 'suite', 'respirations', 'conscientes', '', 'Socrate', '', 'humilité', '', 'a', 'enseigné', 'connaissance', 'soi', 'clé', 'sagesse', '', 'extension', '', 'bonheur', '', 'Car', 'connaissant', '', 'comprend', 'mieux', 'désirs', 'distingue', 'plaisirs', 'éphémères', 'joies', 'durables', '', 'Épicure', '', 'quant', '', 'a', 'souligné', 'limportance', 'plaisirs', 'simples', '', 'chant', 'oiseaux', '', 'douceur', 'dune', 'brise', '', 'compagnie', 'dun', 'bon', 'ami', '', 'a', 'invités', 'chercher', 'bonheur', 'modération', 'liberté', 'tourments', 'lâme', '', 'dire', 'Sénèque', '', 'stoïcien', 'a', 'prôné', 'vertu', '', 'patience', 'lacceptation', '', 'bonheur', 'nest', 'labsence', 'souffrance', '', 'façon', 'dont', 'fait', 'face', '', 'rappelle', 'vagues', 'vie', 'doivent', 'être', 'naviguées', 'courage', 'bonheur', 'souvent', 'fruit', 'capacité', 'vouloir', 'contrôler', 'échappe', 'contrôle', '', 'Enfin', '', 'Montaigne', '', 'esprit', 'libre', 'curieux', '', 'a', 'appris', 'bonheur', 'réside', 'lappréciation', 'joies', 'vie', 'quotidienne', '', 'lacceptation', 'soi', 'courage', 'dêtre', 'authentique', '', 'Cherchons', 'donc', 'bonheur', 'non', 'comme', 'terre', 'promise', 'lon', 'conquiert', '', 'comme', 'jardin', 'lon', 'cultive', 'chaque', 'jour', '', 'chaque', 'guidé', 'lamour', '', 'gratitude', 'bienveillance', '', 'chaque', 'regard', 'posé', 'monde', 'empreint', 'merveille', 'respect', '', 'bonheur', 'là', '', 'lici', 'maintenant', '', 'pleine', 'conscience', 'chaque', 'instant', 'vécu', '', 'lunion', 'paisible', 'esprit', 'cœur', 'battant', 'lunivers', '', 'Vivez', '', 'aimez', '', 'riez', 'trouvez', 'bonheur', 'cette', 'merveilleuse', 'aventure', 'quest', 'vie', '', 'Aristote', 'disait', 'bonheur', 'lactivité', 'lâme', 'conforme', 'vertu', '', 'voyait', 'bonheur', 'non', 'comme', 'état', 'passif', '', 'comme', 'activité', 'pleine', 'engagée', 'poursuite', 'bien', 'vertu', '', '', 'bonheur', 'laboutissement', 'dune', 'vie', 'pratique', 'réflexion', '', 'point', 'culminant', 'lexcellence', 'humaine', 'réalisation', 'soi', '', 'Pascal', '', 'profondeur', 'perspicacité', '', 'a', 'considéré', 'bonheur', 'comme', 'état', 'insaisissable', 'éphémère', '', 'croyait', 'vrai', 'bonheur', 'pouvait', 'être', 'trouvé', 'recherche', 'linfini', '', 'quête', 'dune', 'transcendance', 'dépasse', 'plaisirs', 'peines', 'monde', '', 'Pascal', '', 'bonheur', 'résidait', 'foi', 'lutte', 'intérieure', 'vers', 'compréhension', 'plus', 'profonde', 'lexistence', '', 'Nietzsche', '', 'dautre', 'part', '', 'a', 'contesté', 'idées', 'traditionnelles', 'bonheur', '', 'a', 'proclamé', 'bonheur', 'nétait', 'produit', 'conformité', 'confort', '', 'plutôt', 'résultat', 'lacceptation', 'laffirmation', 'vie', 'toute', 'complexité', '', '', 'bonheur', 'intimement', 'lié', 'volonté', 'puissance', '', 'laspiration', 'lindividu', 'surmonter', 'défis', 'forger', 'propre', 'chemin', 'vie', '', 'Kierkegaard', 'a', 'exploré', 'bonheur', 'travers', 'prisme', 'lexistence', 'individuelle', 'subjectivité', '', 'a', 'soutenu', 'bonheur', 'dépend', 'capacité', 'lindividu', 'comprendre', 'soimême', '', 'faire', 'choix', 'authentiques', 'embrasser', 'pleinement', 'existence', 'unique', '', 'Kierkegaard', '', 'bonheur', 'profondément', 'personnel', 'inextricablement', 'lié', 'quête', 'sens', 'vérité', 'vie', 'dune', 'personne', '', 'Rumi', '', 'poète', 'soufi', '', 'a', 'vu', 'bonheur', 'comme', 'union', 'divin', '', 'immersion', 'lamour', 'spiritualité', '', 'a', 'parlé', 'bonheur', 'comme', 'dun', 'voyage', 'vers', 'lintérieur', '', 'quête', 'découvrir', 'lumière', 'vérité', 'résident', 'cœur', 'chaque', 'être', '', 'Rumi', '', 'bonheur', 'expérience', 'lextase', 'connexion', 'profonde', 'tout', '', 'Emerson', '', 'réflexions', 'nature', 'lâme', 'humaine', '', 'a', 'suggéré', 'bonheur', 'réside', 'lharmonie', 'monde', 'naturel', 'lexpression', 'authentique', 'soi', '', 'a', 'encouragé', 'approche', 'vie', 'embrasse', 'lindividualité', '', 'créativité', 'lien', 'profond', 'monde', 'naturel', 'comme', 'sources', 'bonheur', 'dépanouissement', '', 'Thoreau', '', 'vie', 'simple', 'Walden', '', 'a', 'cherché', 'bonheur', 'simplicité', 'lautosuffisance', '', 'a', 'vu', 'bonheur', 'comme', 'quelque', 'chose', 'vient', 'vivre', 'intentionnellement', '', 'harmonie', 'nature', 'accord', 'propres', 'convictions', 'valeurs', '', 'Camus', '', 'philosophie', 'labsurde', '', 'a', 'considéré', 'bonheur', 'comme', 'révolte', 'contre', 'labsurdité', 'lexistence', '', 'a', 'suggéré', 'trouver', 'bonheur', 'nécessite', 'acceptation', 'labsurde', 'tout', 'révoltant', 'contre', 'recherche', 'sens', '', 'passion', 'beauté', 'vie', '', 'Tagore', '', 'poète', 'philosophe', 'indien', '', 'a', 'parlé', 'bonheur', 'comme', 'dune', 'communion', 'lunivers', '', 'célébration', 'beauté', 'diversité', 'vie', '', 'a', 'vu', 'bonheur', 'comme', 'état', 'démerveillement', 'dappréciation', 'richesse', 'lexistence', '', 'Lao', 'Tseu', '', 'enseignement', 'taoïste', '', 'a', 'vu', 'bonheur', 'comme', 'question', 'vivre', 'harmonie', 'Tao', '', 'chemin', 'naturel', 'choses', '', '', 'bonheur', 'vient', 'lacceptation', '', 'simplicité', 'lalignement', 'flux', 'naturel', 'vie', '', 'Confucius', 'a', 'souligné', 'limportance', 'lharmonie', 'sociale', '', 'moralité', 'devoir', 'comme', 'chemins', 'vers', 'bonheur', '', '', 'bonheur', 'lié', 'réalisation', 'soi', 'contexte', 'relations', 'saines', 'dune', 'société', 'juste', '', 'Baudelaire', '', 'poèmes', '', 'a', 'exploré', 'bonheur', 'plaisirs', 'fugaces', 'beautés', 'cachées', 'monde', '', 'a', 'vu', 'bonheur', 'moments', 'révélation', 'beauté', 'émergent', 'aspects', 'plus', 'sombres', 'lexistence', '', 'Gandhi', '', 'quête', 'vérité', 'justice', '', 'a', 'vu', 'bonheur', 'comme', 'inséparable', 'vie', 'service', 'dévouement', 'autres', '', '', 'bonheur', 'venait', 'vivre', 'accord', 'principes', 'moraux', 'élevés', 'travailler', 'bienêtre', 'autres', '', 'Schopenhauer', '', 'pessimisme', 'philosophique', '', 'a', 'vu', 'bonheur', 'comme', 'idéal', 'souvent', 'inaccessible', '', 'compte', 'tenu', 'nature', 'souffrante', 'vie', '', 'Néanmoins', '', 'a', 'suggéré', 'bonheur', '', 'mesure', 'où', 'peut', 'être', 'atteint', '', 'vient', 'contemplation', 'esthétique', '', 'compassion', 'modération', 'désirs', ''] \n",
      "\n",
      "\n",
      " tokens_clean_ponctuation_sans_espaces:\n",
      "['bonheur', 'chers', 'amis', 'phare', 'éternel', 'vers', 'lequel', 'toutes', 'âmes', 'naviguent', 'espoir', 'questce', 'bonheur', 'sinon', 'lharmonie', 'entre', 'lhomme', 'lexistence', 'quil', 'mène', 'nest', 'lieu', 'lointain', 'sommet', 'atteindre', 'plutôt', 'chemin', 'lequel', 'marche', 'ensemble', 'petits', 'moments', 'suite', 'respirations', 'conscientes', 'Socrate', 'humilité', 'enseigné', 'connaissance', 'soi', 'clé', 'sagesse', 'extension', 'bonheur', 'Car', 'connaissant', 'comprend', 'mieux', 'désirs', 'distingue', 'plaisirs', 'éphémères', 'joies', 'durables', 'Épicure', 'quant', 'souligné', 'limportance', 'plaisirs', 'simples', 'chant', 'oiseaux', 'douceur', 'dune', 'brise', 'compagnie', 'dun', 'bon', 'ami', 'invités', 'chercher', 'bonheur', 'modération', 'liberté', 'tourments', 'lâme', 'dire', 'Sénèque', 'stoïcien', 'prôné', 'vertu', 'patience', 'lacceptation', 'bonheur', 'nest', 'labsence', 'souffrance', 'façon', 'dont', 'fait', 'face', 'rappelle', 'vagues', 'vie', 'doivent', 'être', 'naviguées', 'courage', 'bonheur', 'souvent', 'fruit', 'capacité', 'vouloir', 'contrôler', 'échappe', 'contrôle', 'Enfin', 'Montaigne', 'esprit', 'libre', 'curieux', 'appris', 'bonheur', 'réside', 'lappréciation', 'joies', 'vie', 'quotidienne', 'lacceptation', 'soi', 'courage', 'dêtre', 'authentique', 'Cherchons', 'donc', 'bonheur', 'non', 'comme', 'terre', 'promise', 'lon', 'conquiert', 'comme', 'jardin', 'lon', 'cultive', 'chaque', 'jour', 'chaque', 'guidé', 'lamour', 'gratitude', 'bienveillance', 'chaque', 'regard', 'posé', 'monde', 'empreint', 'merveille', 'respect', 'bonheur', 'là', 'lici', 'maintenant', 'pleine', 'conscience', 'chaque', 'instant', 'vécu', 'lunion', 'paisible', 'esprit', 'cœur', 'battant', 'lunivers', 'Vivez', 'aimez', 'riez', 'trouvez', 'bonheur', 'cette', 'merveilleuse', 'aventure', 'quest', 'vie', 'Aristote', 'disait', 'bonheur', 'lactivité', 'lâme', 'conforme', 'vertu', 'voyait', 'bonheur', 'non', 'comme', 'état', 'passif', 'comme', 'activité', 'pleine', 'engagée', 'poursuite', 'bien', 'vertu', 'bonheur', 'laboutissement', 'dune', 'vie', 'pratique', 'réflexion', 'point', 'culminant', 'lexcellence', 'humaine', 'réalisation', 'soi', 'Pascal', 'profondeur', 'perspicacité', 'considéré', 'bonheur', 'comme', 'état', 'insaisissable', 'éphémère', 'croyait', 'vrai', 'bonheur', 'pouvait', 'être', 'trouvé', 'recherche', 'linfini', 'quête', 'dune', 'transcendance', 'dépasse', 'plaisirs', 'peines', 'monde', 'Pascal', 'bonheur', 'résidait', 'foi', 'lutte', 'intérieure', 'vers', 'compréhension', 'plus', 'profonde', 'lexistence', 'Nietzsche', 'dautre', 'part', 'contesté', 'idées', 'traditionnelles', 'bonheur', 'proclamé', 'bonheur', 'nétait', 'produit', 'conformité', 'confort', 'plutôt', 'résultat', 'lacceptation', 'laffirmation', 'vie', 'toute', 'complexité', 'bonheur', 'intimement', 'lié', 'volonté', 'puissance', 'laspiration', 'lindividu', 'surmonter', 'défis', 'forger', 'propre', 'chemin', 'vie', 'Kierkegaard', 'exploré', 'bonheur', 'travers', 'prisme', 'lexistence', 'individuelle', 'subjectivité', 'soutenu', 'bonheur', 'dépend', 'capacité', 'lindividu', 'comprendre', 'soimême', 'faire', 'choix', 'authentiques', 'embrasser', 'pleinement', 'existence', 'unique', 'Kierkegaard', 'bonheur', 'profondément', 'personnel', 'inextricablement', 'lié', 'quête', 'sens', 'vérité', 'vie', 'dune', 'personne', 'Rumi', 'poète', 'soufi', 'vu', 'bonheur', 'comme', 'union', 'divin', 'immersion', 'lamour', 'spiritualité', 'parlé', 'bonheur', 'comme', 'dun', 'voyage', 'vers', 'lintérieur', 'quête', 'découvrir', 'lumière', 'vérité', 'résident', 'cœur', 'chaque', 'être', 'Rumi', 'bonheur', 'expérience', 'lextase', 'connexion', 'profonde', 'tout', 'Emerson', 'réflexions', 'nature', 'lâme', 'humaine', 'suggéré', 'bonheur', 'réside', 'lharmonie', 'monde', 'naturel', 'lexpression', 'authentique', 'soi', 'encouragé', 'approche', 'vie', 'embrasse', 'lindividualité', 'créativité', 'lien', 'profond', 'monde', 'naturel', 'comme', 'sources', 'bonheur', 'dépanouissement', 'Thoreau', 'vie', 'simple', 'Walden', 'cherché', 'bonheur', 'simplicité', 'lautosuffisance', 'vu', 'bonheur', 'comme', 'quelque', 'chose', 'vient', 'vivre', 'intentionnellement', 'harmonie', 'nature', 'accord', 'propres', 'convictions', 'valeurs', 'Camus', 'philosophie', 'labsurde', 'considéré', 'bonheur', 'comme', 'révolte', 'contre', 'labsurdité', 'lexistence', 'suggéré', 'trouver', 'bonheur', 'nécessite', 'acceptation', 'labsurde', 'tout', 'révoltant', 'contre', 'recherche', 'sens', 'passion', 'beauté', 'vie', 'Tagore', 'poète', 'philosophe', 'indien', 'parlé', 'bonheur', 'comme', 'dune', 'communion', 'lunivers', 'célébration', 'beauté', 'diversité', 'vie', 'vu', 'bonheur', 'comme', 'état', 'démerveillement', 'dappréciation', 'richesse', 'lexistence', 'Lao', 'Tseu', 'enseignement', 'taoïste', 'vu', 'bonheur', 'comme', 'question', 'vivre', 'harmonie', 'Tao', 'chemin', 'naturel', 'choses', 'bonheur', 'vient', 'lacceptation', 'simplicité', 'lalignement', 'flux', 'naturel', 'vie', 'Confucius', 'souligné', 'limportance', 'lharmonie', 'sociale', 'moralité', 'devoir', 'comme', 'chemins', 'vers', 'bonheur', 'bonheur', 'lié', 'réalisation', 'soi', 'contexte', 'relations', 'saines', 'dune', 'société', 'juste', 'Baudelaire', 'poèmes', 'exploré', 'bonheur', 'plaisirs', 'fugaces', 'beautés', 'cachées', 'monde', 'vu', 'bonheur', 'moments', 'révélation', 'beauté', 'émergent', 'aspects', 'plus', 'sombres', 'lexistence', 'Gandhi', 'quête', 'vérité', 'justice', 'vu', 'bonheur', 'comme', 'inséparable', 'vie', 'service', 'dévouement', 'autres', 'bonheur', 'venait', 'vivre', 'accord', 'principes', 'moraux', 'élevés', 'travailler', 'bienêtre', 'autres', 'Schopenhauer', 'pessimisme', 'philosophique', 'vu', 'bonheur', 'comme', 'idéal', 'souvent', 'inaccessible', 'compte', 'tenu', 'nature', 'souffrante', 'vie', 'Néanmoins', 'suggéré', 'bonheur', 'mesure', 'où', 'peut', 'être', 'atteint', 'vient', 'contemplation', 'esthétique', 'compassion', 'modération', 'désirs'] \n",
      "\n",
      "\n",
      " freq:\n",
      "Counter({'bonheur': 43, 'comme': 16, 'vie': 14, 'vu': 7, 'lexistence': 6, 'dune': 6, 'soi': 5, 'chaque': 5, 'monde': 5, 'vers': 4, 'plaisirs': 4, 'lacceptation': 4, 'être': 4, 'quête': 4, 'naturel': 4, 'lharmonie': 3, 'chemin': 3, 'lâme': 3, 'vertu': 3, 'état': 3, 'lié': 3, 'vérité': 3, 'nature': 3, 'suggéré': 3, 'vient': 3, 'vivre': 3, 'beauté': 3, 'lequel': 2, 'nest': 2, 'plutôt': 2, 'moments': 2, 'désirs': 2, 'joies': 2, 'souligné': 2, 'limportance': 2, 'dun': 2, 'modération': 2, 'courage': 2, 'souvent': 2, 'capacité': 2, 'esprit': 2, 'réside': 2, 'authentique': 2, 'non': 2, 'lon': 2, 'lamour': 2, 'pleine': 2, 'cœur': 2, 'lunivers': 2, 'humaine': 2, 'réalisation': 2, 'Pascal': 2, 'considéré': 2, 'recherche': 2, 'plus': 2, 'profonde': 2, 'lindividu': 2, 'Kierkegaard': 2, 'exploré': 2, 'sens': 2, 'Rumi': 2, 'poète': 2, 'parlé': 2, 'tout': 2, 'simplicité': 2, 'harmonie': 2, 'accord': 2, 'labsurde': 2, 'contre': 2, 'autres': 2, 'chers': 1, 'amis': 1, 'phare': 1, 'éternel': 1, 'toutes': 1, 'âmes': 1, 'naviguent': 1, 'espoir': 1, 'questce': 1, 'sinon': 1, 'entre': 1, 'lhomme': 1, 'quil': 1, 'mène': 1, 'lieu': 1, 'lointain': 1, 'sommet': 1, 'atteindre': 1, 'marche': 1, 'ensemble': 1, 'petits': 1, 'suite': 1, 'respirations': 1, 'conscientes': 1, 'Socrate': 1, 'humilité': 1, 'enseigné': 1, 'connaissance': 1, 'clé': 1, 'sagesse': 1, 'extension': 1, 'Car': 1, 'connaissant': 1, 'comprend': 1, 'mieux': 1, 'distingue': 1, 'éphémères': 1, 'durables': 1, 'Épicure': 1, 'quant': 1, 'simples': 1, 'chant': 1, 'oiseaux': 1, 'douceur': 1, 'brise': 1, 'compagnie': 1, 'bon': 1, 'ami': 1, 'invités': 1, 'chercher': 1, 'liberté': 1, 'tourments': 1, 'dire': 1, 'Sénèque': 1, 'stoïcien': 1, 'prôné': 1, 'patience': 1, 'labsence': 1, 'souffrance': 1, 'façon': 1, 'dont': 1, 'fait': 1, 'face': 1, 'rappelle': 1, 'vagues': 1, 'doivent': 1, 'naviguées': 1, 'fruit': 1, 'vouloir': 1, 'contrôler': 1, 'échappe': 1, 'contrôle': 1, 'Enfin': 1, 'Montaigne': 1, 'libre': 1, 'curieux': 1, 'appris': 1, 'lappréciation': 1, 'quotidienne': 1, 'dêtre': 1, 'Cherchons': 1, 'donc': 1, 'terre': 1, 'promise': 1, 'conquiert': 1, 'jardin': 1, 'cultive': 1, 'jour': 1, 'guidé': 1, 'gratitude': 1, 'bienveillance': 1, 'regard': 1, 'posé': 1, 'empreint': 1, 'merveille': 1, 'respect': 1, 'là': 1, 'lici': 1, 'maintenant': 1, 'conscience': 1, 'instant': 1, 'vécu': 1, 'lunion': 1, 'paisible': 1, 'battant': 1, 'Vivez': 1, 'aimez': 1, 'riez': 1, 'trouvez': 1, 'cette': 1, 'merveilleuse': 1, 'aventure': 1, 'quest': 1, 'Aristote': 1, 'disait': 1, 'lactivité': 1, 'conforme': 1, 'voyait': 1, 'passif': 1, 'activité': 1, 'engagée': 1, 'poursuite': 1, 'bien': 1, 'laboutissement': 1, 'pratique': 1, 'réflexion': 1, 'point': 1, 'culminant': 1, 'lexcellence': 1, 'profondeur': 1, 'perspicacité': 1, 'insaisissable': 1, 'éphémère': 1, 'croyait': 1, 'vrai': 1, 'pouvait': 1, 'trouvé': 1, 'linfini': 1, 'transcendance': 1, 'dépasse': 1, 'peines': 1, 'résidait': 1, 'foi': 1, 'lutte': 1, 'intérieure': 1, 'compréhension': 1, 'Nietzsche': 1, 'dautre': 1, 'part': 1, 'contesté': 1, 'idées': 1, 'traditionnelles': 1, 'proclamé': 1, 'nétait': 1, 'produit': 1, 'conformité': 1, 'confort': 1, 'résultat': 1, 'laffirmation': 1, 'toute': 1, 'complexité': 1, 'intimement': 1, 'volonté': 1, 'puissance': 1, 'laspiration': 1, 'surmonter': 1, 'défis': 1, 'forger': 1, 'propre': 1, 'travers': 1, 'prisme': 1, 'individuelle': 1, 'subjectivité': 1, 'soutenu': 1, 'dépend': 1, 'comprendre': 1, 'soimême': 1, 'faire': 1, 'choix': 1, 'authentiques': 1, 'embrasser': 1, 'pleinement': 1, 'existence': 1, 'unique': 1, 'profondément': 1, 'personnel': 1, 'inextricablement': 1, 'personne': 1, 'soufi': 1, 'union': 1, 'divin': 1, 'immersion': 1, 'spiritualité': 1, 'voyage': 1, 'lintérieur': 1, 'découvrir': 1, 'lumière': 1, 'résident': 1, 'expérience': 1, 'lextase': 1, 'connexion': 1, 'Emerson': 1, 'réflexions': 1, 'lexpression': 1, 'encouragé': 1, 'approche': 1, 'embrasse': 1, 'lindividualité': 1, 'créativité': 1, 'lien': 1, 'profond': 1, 'sources': 1, 'dépanouissement': 1, 'Thoreau': 1, 'simple': 1, 'Walden': 1, 'cherché': 1, 'lautosuffisance': 1, 'quelque': 1, 'chose': 1, 'intentionnellement': 1, 'propres': 1, 'convictions': 1, 'valeurs': 1, 'Camus': 1, 'philosophie': 1, 'révolte': 1, 'labsurdité': 1, 'trouver': 1, 'nécessite': 1, 'acceptation': 1, 'révoltant': 1, 'passion': 1, 'Tagore': 1, 'philosophe': 1, 'indien': 1, 'communion': 1, 'célébration': 1, 'diversité': 1, 'démerveillement': 1, 'dappréciation': 1, 'richesse': 1, 'Lao': 1, 'Tseu': 1, 'enseignement': 1, 'taoïste': 1, 'question': 1, 'Tao': 1, 'choses': 1, 'lalignement': 1, 'flux': 1, 'Confucius': 1, 'sociale': 1, 'moralité': 1, 'devoir': 1, 'chemins': 1, 'contexte': 1, 'relations': 1, 'saines': 1, 'société': 1, 'juste': 1, 'Baudelaire': 1, 'poèmes': 1, 'fugaces': 1, 'beautés': 1, 'cachées': 1, 'révélation': 1, 'émergent': 1, 'aspects': 1, 'sombres': 1, 'Gandhi': 1, 'justice': 1, 'inséparable': 1, 'service': 1, 'dévouement': 1, 'venait': 1, 'principes': 1, 'moraux': 1, 'élevés': 1, 'travailler': 1, 'bienêtre': 1, 'Schopenhauer': 1, 'pessimisme': 1, 'philosophique': 1, 'idéal': 1, 'inaccessible': 1, 'compte': 1, 'tenu': 1, 'souffrante': 1, 'Néanmoins': 1, 'mesure': 1, 'où': 1, 'peut': 1, 'atteint': 1, 'contemplation': 1, 'esthétique': 1, 'compassion': 1}) \n",
      "\n",
      "\n",
      " mots:\n",
      "['bonheur', 'chers', 'amis', 'phare', 'éternel', 'vers', 'lequel', 'toutes', 'âmes', 'naviguent', 'espoir', 'questce', 'sinon', 'lharmonie', 'entre', 'lhomme', 'lexistence', 'quil', 'mène', 'nest', 'lieu', 'lointain', 'sommet', 'atteindre', 'plutôt', 'chemin', 'marche', 'ensemble', 'petits', 'moments', 'suite', 'respirations', 'conscientes', 'Socrate', 'humilité', 'enseigné', 'connaissance', 'soi', 'clé', 'sagesse', 'extension', 'Car', 'connaissant', 'comprend', 'mieux', 'désirs', 'distingue', 'plaisirs', 'éphémères', 'joies', 'durables', 'Épicure', 'quant', 'souligné', 'limportance', 'simples', 'chant', 'oiseaux', 'douceur', 'dune', 'brise', 'compagnie', 'dun', 'bon', 'ami', 'invités', 'chercher', 'modération', 'liberté', 'tourments', 'lâme', 'dire', 'Sénèque', 'stoïcien', 'prôné', 'vertu', 'patience', 'lacceptation', 'labsence', 'souffrance', 'façon', 'dont', 'fait', 'face', 'rappelle', 'vagues', 'vie', 'doivent', 'être', 'naviguées', 'courage', 'souvent', 'fruit', 'capacité', 'vouloir', 'contrôler', 'échappe', 'contrôle', 'Enfin', 'Montaigne', 'esprit', 'libre', 'curieux', 'appris', 'réside', 'lappréciation', 'quotidienne', 'dêtre', 'authentique', 'Cherchons', 'donc', 'non', 'comme', 'terre', 'promise', 'lon', 'conquiert', 'jardin', 'cultive', 'chaque', 'jour', 'guidé', 'lamour', 'gratitude', 'bienveillance', 'regard', 'posé', 'monde', 'empreint', 'merveille', 'respect', 'là', 'lici', 'maintenant', 'pleine', 'conscience', 'instant', 'vécu', 'lunion', 'paisible', 'cœur', 'battant', 'lunivers', 'Vivez', 'aimez', 'riez', 'trouvez', 'cette', 'merveilleuse', 'aventure', 'quest', 'Aristote', 'disait', 'lactivité', 'conforme', 'voyait', 'état', 'passif', 'activité', 'engagée', 'poursuite', 'bien', 'laboutissement', 'pratique', 'réflexion', 'point', 'culminant', 'lexcellence', 'humaine', 'réalisation', 'Pascal', 'profondeur', 'perspicacité', 'considéré', 'insaisissable', 'éphémère', 'croyait', 'vrai', 'pouvait', 'trouvé', 'recherche', 'linfini', 'quête', 'transcendance', 'dépasse', 'peines', 'résidait', 'foi', 'lutte', 'intérieure', 'compréhension', 'plus', 'profonde', 'Nietzsche', 'dautre', 'part', 'contesté', 'idées', 'traditionnelles', 'proclamé', 'nétait', 'produit', 'conformité', 'confort', 'résultat', 'laffirmation', 'toute', 'complexité', 'intimement', 'lié', 'volonté', 'puissance', 'laspiration', 'lindividu', 'surmonter', 'défis', 'forger', 'propre', 'Kierkegaard', 'exploré', 'travers', 'prisme', 'individuelle', 'subjectivité', 'soutenu', 'dépend', 'comprendre', 'soimême', 'faire', 'choix', 'authentiques', 'embrasser', 'pleinement', 'existence', 'unique', 'profondément', 'personnel', 'inextricablement', 'sens', 'vérité', 'personne', 'Rumi', 'poète', 'soufi', 'vu', 'union', 'divin', 'immersion', 'spiritualité', 'parlé', 'voyage', 'lintérieur', 'découvrir', 'lumière', 'résident', 'expérience', 'lextase', 'connexion', 'tout', 'Emerson', 'réflexions', 'nature', 'suggéré', 'naturel', 'lexpression', 'encouragé', 'approche', 'embrasse', 'lindividualité', 'créativité', 'lien', 'profond', 'sources', 'dépanouissement', 'Thoreau', 'simple', 'Walden', 'cherché', 'simplicité', 'lautosuffisance', 'quelque', 'chose', 'vient', 'vivre', 'intentionnellement', 'harmonie', 'accord', 'propres', 'convictions', 'valeurs', 'Camus', 'philosophie', 'labsurde', 'révolte', 'contre', 'labsurdité', 'trouver', 'nécessite', 'acceptation', 'révoltant', 'passion', 'beauté', 'Tagore', 'philosophe', 'indien', 'communion', 'célébration', 'diversité', 'démerveillement', 'dappréciation', 'richesse', 'Lao', 'Tseu', 'enseignement', 'taoïste', 'question', 'Tao', 'choses', 'lalignement', 'flux', 'Confucius', 'sociale', 'moralité', 'devoir', 'chemins', 'contexte', 'relations', 'saines', 'société', 'juste', 'Baudelaire', 'poèmes', 'fugaces', 'beautés', 'cachées', 'révélation', 'émergent', 'aspects', 'sombres', 'Gandhi', 'justice', 'inséparable', 'service', 'dévouement', 'autres', 'venait', 'principes', 'moraux', 'élevés', 'travailler', 'bienêtre', 'Schopenhauer', 'pessimisme', 'philosophique', 'idéal', 'inaccessible', 'compte', 'tenu', 'souffrante', 'Néanmoins', 'mesure', 'où', 'peut', 'atteint', 'contemplation', 'esthétique', 'compassion'] \n",
      "\n",
      "\n",
      " frequences:\n",
      "[43, 1, 1, 1, 1, 4, 2, 1, 1, 1, 1, 1, 1, 3, 1, 1, 6, 1, 1, 2, 1, 1, 1, 1, 2, 3, 1, 1, 1, 2, 1, 1, 1, 1, 1, 1, 1, 5, 1, 1, 1, 1, 1, 1, 1, 2, 1, 4, 1, 2, 1, 1, 1, 2, 2, 1, 1, 1, 1, 6, 1, 1, 2, 1, 1, 1, 1, 2, 1, 1, 3, 1, 1, 1, 1, 3, 1, 4, 1, 1, 1, 1, 1, 1, 1, 1, 14, 1, 4, 1, 2, 2, 1, 2, 1, 1, 1, 1, 1, 1, 2, 1, 1, 1, 2, 1, 1, 1, 2, 1, 1, 2, 16, 1, 1, 2, 1, 1, 1, 5, 1, 1, 2, 1, 1, 1, 1, 5, 1, 1, 1, 1, 1, 1, 2, 1, 1, 1, 1, 1, 2, 1, 2, 1, 1, 1, 1, 1, 1, 1, 1, 1, 1, 1, 1, 1, 3, 1, 1, 1, 1, 1, 1, 1, 1, 1, 1, 1, 2, 2, 2, 1, 1, 2, 1, 1, 1, 1, 1, 1, 2, 1, 4, 1, 1, 1, 1, 1, 1, 1, 1, 2, 2, 1, 1, 1, 1, 1, 1, 1, 1, 1, 1, 1, 1, 1, 1, 1, 1, 3, 1, 1, 1, 2, 1, 1, 1, 1, 2, 2, 1, 1, 1, 1, 1, 1, 1, 1, 1, 1, 1, 1, 1, 1, 1, 1, 1, 1, 2, 3, 1, 2, 2, 1, 7, 1, 1, 1, 1, 2, 1, 1, 1, 1, 1, 1, 1, 1, 2, 1, 1, 3, 3, 4, 1, 1, 1, 1, 1, 1, 1, 1, 1, 1, 1, 1, 1, 1, 2, 1, 1, 1, 3, 3, 1, 2, 2, 1, 1, 1, 1, 1, 2, 1, 2, 1, 1, 1, 1, 1, 1, 3, 1, 1, 1, 1, 1, 1, 1, 1, 1, 1, 1, 1, 1, 1, 1, 1, 1, 1, 1, 1, 1, 1, 1, 1, 1, 1, 1, 1, 1, 1, 1, 1, 1, 1, 1, 1, 1, 1, 1, 1, 1, 1, 2, 1, 1, 1, 1, 1, 1, 1, 1, 1, 1, 1, 1, 1, 1, 1, 1, 1, 1, 1, 1, 1, 1] \n",
      "\n"
     ]
    },
    {
     "data": {
      "image/png": "[encoded data removed]",
      "text/plain": [
       "<Figure size 1000x600 with 1 Axes>"
      ]
     },
     "metadata": {},
     "output_type": "display_data"
    }
   ],
   "source": [
    "# Nettoyage des mots vides, retire les stops words de la liste des tokens_words\n",
    "import string\n",
    "from collections import Counter\n",
    "\n",
    "import matplotlib.pyplot as plt\n",
    "\n",
    "tokens_clean = [word for word in tokens_words if word.lower() not in stop_words]\n",
    "print(f\"\\n Tokens nettoyés:\\n{tokens_clean} \\n\")  # Affiche les 20 premiers mots nettoyés pour vérification\n",
    "\n",
    "# suppression de la ponctuation avec string_ponctuation\n",
    "    # liste des ponctuations\n",
    "    # suppression ponctuation\n",
    "liste_ponctuation = string.punctuation\n",
    "\n",
    "print(f\"\\n liste_ponctuation:\\n{liste_ponctuation} \\n\")\n",
    "# liste en comprehension  prend chaque caractére de chaque mot de token_cleans s'il ne sont pas dans la liste des ponctuations, puis recreeé le mot avec le \"\".join\n",
    "tokens_clean_ponctuation = [\n",
    "    \"\".join(charactere for charactere in word if charactere not in liste_ponctuation)\n",
    "    for word in tokens_clean\n",
    "]\n",
    "\n",
    "print(f\"\\n tokens_clean_ponctuation:\\n{tokens_clean_ponctuation} \\n\")\n",
    "# Suppression des espaces de la liste\n",
    "tokens_clean_ponctuation_sans_espaces = [word for word in tokens_clean_ponctuation if len(word) > 1]\n",
    "\n",
    "print(f\"\\n tokens_clean_ponctuation_sans_espaces:\\n{tokens_clean_ponctuation_sans_espaces} \\n\")\n",
    "# Compter la fréquence des mots\n",
    "frequence_mots_clean_ponctuation_sans_espaces = Counter(tokens_clean_ponctuation_sans_espaces)\n",
    "print(f\"\\n freq:\\n{frequence_mots_clean_ponctuation_sans_espaces} \\n\")\n",
    "# Préparer les données pour le graphique\n",
    "frequence_mots = list(frequence_mots_clean_ponctuation_sans_espaces.keys())\n",
    "frequences_valeur = list(frequence_mots_clean_ponctuation_sans_espaces.values())\n",
    "print(f\"\\n mots:\\n{frequence_mots} \\n\")\n",
    "print(f\"\\n frequences:\\n{frequences_valeur} \\n\")\n",
    "# Créer un graphique en barres\n",
    "plt.figure(figsize=(10, 6))\n",
    "plt.bar(frequence_mots[:20], frequences_valeur[:20])  # Affiche les 20 premiers mots pour la lisibilité\n",
    "plt.xlabel(\"Mots\")\n",
    "plt.ylabel(\"Fréquence\")\n",
    "plt.title(\"Fréquence des mots dans le texte après suppression des tokens_words\")\n",
    "plt.xticks(rotation=45)\n",
    "plt.show()\n"
   ]
  },
  {
   "cell_type": "markdown",
   "metadata": {},
   "source": [
    "Aprés analyse on remarque que word_tokenize ne gere pas les contractions dse mots francais par ex:\n",
    " \"est-ce qu'il\" donnera \"estce\" et \"quil\"\n",
    " \"l'acceptaion\" donnera \"lacceptaion\"\n",
    " On va donc passer par spacy qui supporte le francais"
   ]
  },
  {
   "cell_type": "code",
   "execution_count": null,
   "metadata": {},
   "outputs": [],
   "source": [
    "!pip install spacy\n",
    "!python -m spacy download fr_core_news_sm\n"
   ]
  },
  {
   "cell_type": "code",
   "execution_count": 76,
   "metadata": {},
   "outputs": [
    {
     "name": "stdout",
     "output_type": "stream",
     "text": [
      "\n",
      " fichier_to_test :\n",
      "./le_bonheur.txt \n",
      "\n",
      "\n",
      " tokens_texte:\n",
      "Le bonheur, mes chers amis, est ce phare éternel vers lequel toutes les âmes naviguent avec espoir. Mais qu'est-ce que le bonheur, sinon l'harmonie entre l'homme et l'existence qu'il mène ? Ce n'est pas un lieu lointain ou un sommet à atteindre, mais plutôt un chemin sur lequel on marche, un ensemble de petits moments, une suite de respirations conscientes.\n",
      "\n",
      "Socrate, dans son humilité, nous a enseigné que la connaissance de soi est la clé de la sagesse et, par extension, du bonheur. Car en se connaissant, on comprend mieux ses désirs et on distingue les plaisirs éphémères des joies durables.\n",
      "\n",
      "Épicure, quant à lui, a souligné l'importance des plaisirs simples : le chant des oiseaux, la douceur d'une brise, la compagnie d'un bon ami. Il nous a invités à chercher le bonheur dans la modération et dans la liberté des tourments de l'âme.\n",
      "\n",
      "Et que dire de Sénèque, ce stoïcien qui a prôné la vertu, la patience et l'acceptation ? Le bonheur n'est pas l'absence de souffrance, mais la façon dont on y fait face. Il nous rappelle que les vagues de la vie doivent être naviguées avec courage et que le bonheur est souvent le fruit de notre capacité à ne pas vouloir contrôler ce qui échappe à notre contrôle.\n",
      "\n",
      "Enfin, Montaigne, avec son esprit libre et curieux, nous a appris que le bonheur réside dans l'appréciation des joies de la vie quotidienne, dans l'acceptation de soi et dans le courage d'être authentique.\n",
      "\n",
      "Cherchons donc le bonheur non pas comme une terre promise que l'on conquiert, mais comme un jardin que l'on cultive chaque jour. Que chaque pas soit guidé par l'amour, la gratitude et la bienveillance. Que chaque regard posé sur le monde soit empreint de merveille et de respect. Le bonheur est là, dans l'ici et maintenant, dans la pleine conscience de chaque instant vécu, dans l'union paisible de notre esprit avec le cœur battant de l'univers.\n",
      "\n",
      "Vivez, aimez, riez et trouvez votre bonheur dans cette merveilleuse aventure qu'est la vie.\n",
      "\n",
      "Aristote nous disait que le bonheur est l'activité de l'âme conforme à la vertu. Il voyait le bonheur non comme un état passif, mais comme une activité pleine et engagée dans la poursuite du bien et de la vertu. Pour lui, le bonheur était l'aboutissement d'une vie de pratique et de réflexion, un point culminant de l'excellence humaine et de la réalisation de soi.\n",
      "\n",
      "Pascal, avec sa profondeur et sa perspicacité, a considéré le bonheur comme un état insaisissable et éphémère. Il croyait que le vrai bonheur ne pouvait être trouvé que dans la recherche de l'infini, dans la quête d'une transcendance qui dépasse les plaisirs et les peines de ce monde. Pour Pascal, le bonheur résidait dans la foi et dans la lutte intérieure vers une compréhension plus profonde de l'existence.\n",
      "\n",
      "Nietzsche, d'autre part, a contesté les idées traditionnelles sur le bonheur. Il a proclamé que le bonheur n'était pas le produit de la conformité ou du confort, mais plutôt le résultat de l'acceptation et de l'affirmation de la vie dans toute sa complexité. Pour lui, le bonheur était intimement lié à la volonté de puissance, à l'aspiration de l'individu à surmonter les défis et à forger son propre chemin dans la vie.\n",
      "\n",
      "Kierkegaard a exploré le bonheur à travers le prisme de l'existence individuelle et de la subjectivité. Il a soutenu que le bonheur dépend de la capacité de l'individu à se comprendre soi-même, à faire des choix authentiques et à embrasser pleinement son existence unique. Pour Kierkegaard, le bonheur était profondément personnel et inextricablement lié à la quête de sens et de vérité dans la vie d'une personne.\n",
      "\n",
      "Rumi, le poète soufi, a vu le bonheur comme une union avec le divin, une immersion dans l'amour et la spiritualité. Il a parlé du bonheur comme d'un voyage vers l'intérieur, une quête pour découvrir la lumière et la vérité qui résident au cœur de chaque être. Pour Rumi, le bonheur était une expérience de l'extase et de la connexion profonde avec le tout.\n",
      "\n",
      "Emerson, dans ses réflexions sur la nature et l'âme humaine, a suggéré que le bonheur réside dans l'harmonie avec le monde naturel et dans l'expression authentique de soi. Il a encouragé une approche de la vie qui embrasse l'individualité, la créativité et un lien profond avec le monde naturel comme sources de bonheur et d'épanouissement.\n",
      "\n",
      "Thoreau, dans sa vie simple à Walden, a cherché le bonheur dans la simplicité et l'autosuffisance. Il a vu le bonheur comme quelque chose qui vient de vivre intentionnellement, en harmonie avec la nature et en accord avec ses propres convictions et valeurs.\n",
      "\n",
      "Camus, avec sa philosophie de l'absurde, a considéré le bonheur comme une révolte contre l'absurdité de l'existence. Il a suggéré que trouver le bonheur nécessite une acceptation de l'absurde tout en se révoltant contre lui par la recherche de sens, de passion et de beauté dans la vie.\n",
      "\n",
      "Tagore, le poète et philosophe indien, a parlé du bonheur comme d'une communion avec l'univers, une célébration de la beauté et de la diversité de la vie. Il a vu le bonheur comme un état d'émerveillement et d'appréciation pour la richesse de l'existence.\n",
      "\n",
      "Lao Tseu, dans son enseignement taoïste, a vu le bonheur comme une question de vivre en harmonie avec le Tao, le chemin naturel des choses. Pour lui, le bonheur vient de l'acceptation, de la simplicité et de l'alignement avec le flux naturel de la vie.\n",
      "\n",
      "Confucius a souligné l'importance de l'harmonie sociale, de la moralité et du devoir comme chemins vers le bonheur. Pour lui, le bonheur était lié à la réalisation de soi dans le contexte de relations saines et d'une société juste.\n",
      "\n",
      "Baudelaire, dans ses poèmes, a exploré le bonheur dans les plaisirs fugaces et les beautés cachées du monde. Il a vu le bonheur dans les moments de révélation et de beauté qui émergent même dans les aspects les plus sombres de l'existence.\n",
      "\n",
      "Gandhi, dans sa quête de vérité et de justice, a vu le bonheur comme inséparable de la vie de service et de dévouement aux autres. Pour lui, le bonheur venait de vivre en accord avec des principes moraux élevés et de travailler pour le bien-être des autres.\n",
      "\n",
      "Schopenhauer, avec son pessimisme philosophique, a vu le bonheur comme un idéal souvent inaccessible, compte tenu de la nature souffrante de la vie. Néanmoins, il a suggéré que le bonheur, dans la mesure où il peut être atteint, vient de la contemplation esthétique, de la compassion et de la modération des désirs. \n",
      "\n",
      "\n",
      " tokens_words:\n",
      "['Le', 'bonheur', ',', 'mes', 'chers', 'amis', ',', 'est', 'ce', 'phare', 'éternel', 'vers', 'lequel', 'toutes', 'les', 'âmes', 'naviguent', 'avec', 'espoir', '.', 'Mais', \"qu'\", 'est', '-ce', 'que', 'le', 'bonheur', ',', 'sinon', \"l'\", 'harmonie', 'entre', \"l'\", 'homme', 'et', \"l'\", 'existence', \"qu'\", 'il', 'mène', '?', 'Ce', \"n'\", 'est', 'pas', 'un', 'lieu', 'lointain', 'ou', 'un', 'sommet', 'à', 'atteindre', ',', 'mais', 'plutôt', 'un', 'chemin', 'sur', 'lequel', 'on', 'marche', ',', 'un', 'ensemble', 'de', 'petits', 'moments', ',', 'une', 'suite', 'de', 'respirations', 'conscientes', '.', '\\n\\n', 'Socrate', ',', 'dans', 'son', 'humilité', ',', 'nous', 'a', 'enseigné', 'que', 'la', 'connaissance', 'de', 'soi', 'est', 'la', 'clé', 'de', 'la', 'sagesse', 'et', ',', 'par', 'extension', ',', 'du', 'bonheur', '.', 'Car', 'en', 'se', 'connaissant', ',', 'on', 'comprend', 'mieux', 'ses', 'désirs', 'et', 'on', 'distingue', 'les', 'plaisirs', 'éphémères', 'des', 'joies', 'durables', '.', '\\n\\n', 'Épicure', ',', 'quant', 'à', 'lui', ',', 'a', 'souligné', \"l'\", 'importance', 'des', 'plaisirs', 'simples', ':', 'le', 'chant', 'des', 'oiseaux', ',', 'la', 'douceur', \"d'\", 'une', 'brise', ',', 'la', 'compagnie', \"d'\", 'un', 'bon', 'ami', '.', 'Il', 'nous', 'a', 'invités', 'à', 'chercher', 'le', 'bonheur', 'dans', 'la', 'modération', 'et', 'dans', 'la', 'liberté', 'des', 'tourments', 'de', \"l'\", 'âme', '.', '\\n\\n', 'Et', 'que', 'dire', 'de', 'Sénèque', ',', 'ce', 'stoïcien', 'qui', 'a', 'prôné', 'la', 'vertu', ',', 'la', 'patience', 'et', \"l'\", 'acceptation', '?', 'Le', 'bonheur', \"n'\", 'est', 'pas', \"l'\", 'absence', 'de', 'souffrance', ',', 'mais', 'la', 'façon', 'dont', 'on', 'y', 'fait', 'face', '.', 'Il', 'nous', 'rappelle', 'que', 'les', 'vagues', 'de', 'la', 'vie', 'doivent', 'être', 'naviguées', 'avec', 'courage', 'et', 'que', 'le', 'bonheur', 'est', 'souvent', 'le', 'fruit', 'de', 'notre', 'capacité', 'à', 'ne', 'pas', 'vouloir', 'contrôler', 'ce', 'qui', 'échappe', 'à', 'notre', 'contrôle', '.', '\\n\\n', 'Enfin', ',', 'Montaigne', ',', 'avec', 'son', 'esprit', 'libre', 'et', 'curieux', ',', 'nous', 'a', 'appris', 'que', 'le', 'bonheur', 'réside', 'dans', \"l'\", 'appréciation', 'des', 'joies', 'de', 'la', 'vie', 'quotidienne', ',', 'dans', \"l'\", 'acceptation', 'de', 'soi', 'et', 'dans', 'le', 'courage', \"d'\", 'être', 'authentique', '.', '\\n\\n', 'Cherchons', 'donc', 'le', 'bonheur', 'non', 'pas', 'comme', 'une', 'terre', 'promise', 'que', \"l'\", 'on', 'conquiert', ',', 'mais', 'comme', 'un', 'jardin', 'que', \"l'\", 'on', 'cultive', 'chaque', 'jour', '.', 'Que', 'chaque', 'pas', 'soit', 'guidé', 'par', \"l'\", 'amour', ',', 'la', 'gratitude', 'et', 'la', 'bienveillance', '.', 'Que', 'chaque', 'regard', 'posé', 'sur', 'le', 'monde', 'soit', 'empreint', 'de', 'merveille', 'et', 'de', 'respect', '.', 'Le', 'bonheur', 'est', 'là', ',', 'dans', \"l'\", 'ici', 'et', 'maintenant', ',', 'dans', 'la', 'pleine', 'conscience', 'de', 'chaque', 'instant', 'vécu', ',', 'dans', \"l'\", 'union', 'paisible', 'de', 'notre', 'esprit', 'avec', 'le', 'cœur', 'battant', 'de', \"l'\", 'univers', '.', '\\n\\n', 'Vivez', ',', 'aimez', ',', 'riez', 'et', 'trouvez', 'votre', 'bonheur', 'dans', 'cette', 'merveilleuse', 'aventure', \"qu'\", 'est', 'la', 'vie', '.', '\\n\\n', 'Aristote', 'nous', 'disait', 'que', 'le', 'bonheur', 'est', \"l'\", 'activité', 'de', \"l'\", 'âme', 'conforme', 'à', 'la', 'vertu', '.', 'Il', 'voyait', 'le', 'bonheur', 'non', 'comme', 'un', 'état', 'passif', ',', 'mais', 'comme', 'une', 'activité', 'pleine', 'et', 'engagée', 'dans', 'la', 'poursuite', 'du', 'bien', 'et', 'de', 'la', 'vertu', '.', 'Pour', 'lui', ',', 'le', 'bonheur', 'était', \"l'\", 'aboutissement', \"d'\", 'une', 'vie', 'de', 'pratique', 'et', 'de', 'réflexion', ',', 'un', 'point', 'culminant', 'de', \"l'\", 'excellence', 'humaine', 'et', 'de', 'la', 'réalisation', 'de', 'soi', '.', '\\n\\n', 'Pascal', ',', 'avec', 'sa', 'profondeur', 'et', 'sa', 'perspicacité', ',', 'a', 'considéré', 'le', 'bonheur', 'comme', 'un', 'état', 'insaisissable', 'et', 'éphémère', '.', 'Il', 'croyait', 'que', 'le', 'vrai', 'bonheur', 'ne', 'pouvait', 'être', 'trouvé', 'que', 'dans', 'la', 'recherche', 'de', \"l'\", 'infini', ',', 'dans', 'la', 'quête', \"d'\", 'une', 'transcendance', 'qui', 'dépasse', 'les', 'plaisirs', 'et', 'les', 'peines', 'de', 'ce', 'monde', '.', 'Pour', 'Pascal', ',', 'le', 'bonheur', 'résidait', 'dans', 'la', 'foi', 'et', 'dans', 'la', 'lutte', 'intérieure', 'vers', 'une', 'compréhension', 'plus', 'profonde', 'de', \"l'\", 'existence', '.', '\\n\\n', 'Nietzsche', ',', \"d'\", 'autre', 'part', ',', 'a', 'contesté', 'les', 'idées', 'traditionnelles', 'sur', 'le', 'bonheur', '.', 'Il', 'a', 'proclamé', 'que', 'le', 'bonheur', \"n'\", 'était', 'pas', 'le', 'produit', 'de', 'la', 'conformité', 'ou', 'du', 'confort', ',', 'mais', 'plutôt', 'le', 'résultat', 'de', \"l'\", 'acceptation', 'et', 'de', \"l'\", 'affirmation', 'de', 'la', 'vie', 'dans', 'toute', 'sa', 'complexité', '.', 'Pour', 'lui', ',', 'le', 'bonheur', 'était', 'intimement', 'lié', 'à', 'la', 'volonté', 'de', 'puissance', ',', 'à', \"l'\", 'aspiration', 'de', \"l'\", 'individu', 'à', 'surmonter', 'les', 'défis', 'et', 'à', 'forger', 'son', 'propre', 'chemin', 'dans', 'la', 'vie', '.', '\\n\\n', 'Kierkegaard', 'a', 'exploré', 'le', 'bonheur', 'à', 'travers', 'le', 'prisme', 'de', \"l'\", 'existence', 'individuelle', 'et', 'de', 'la', 'subjectivité', '.', 'Il', 'a', 'soutenu', 'que', 'le', 'bonheur', 'dépend', 'de', 'la', 'capacité', 'de', \"l'\", 'individu', 'à', 'se', 'comprendre', 'soi', '-', 'même', ',', 'à', 'faire', 'des', 'choix', 'authentiques', 'et', 'à', 'embrasser', 'pleinement', 'son', 'existence', 'unique', '.', 'Pour', 'Kierkegaard', ',', 'le', 'bonheur', 'était', 'profondément', 'personnel', 'et', 'inextricablement', 'lié', 'à', 'la', 'quête', 'de', 'sens', 'et', 'de', 'vérité', 'dans', 'la', 'vie', \"d'\", 'une', 'personne', '.', '\\n\\n', 'Rumi', ',', 'le', 'poète', 'soufi', ',', 'a', 'vu', 'le', 'bonheur', 'comme', 'une', 'union', 'avec', 'le', 'divin', ',', 'une', 'immersion', 'dans', \"l'\", 'amour', 'et', 'la', 'spiritualité', '.', 'Il', 'a', 'parlé', 'du', 'bonheur', 'comme', \"d'\", 'un', 'voyage', 'vers', \"l'\", 'intérieur', ',', 'une', 'quête', 'pour', 'découvrir', 'la', 'lumière', 'et', 'la', 'vérité', 'qui', 'résident', 'au', 'cœur', 'de', 'chaque', 'être', '.', 'Pour', 'Rumi', ',', 'le', 'bonheur', 'était', 'une', 'expérience', 'de', \"l'\", 'extase', 'et', 'de', 'la', 'connexion', 'profonde', 'avec', 'le', 'tout', '.', '\\n\\n', 'Emerson', ',', 'dans', 'ses', 'réflexions', 'sur', 'la', 'nature', 'et', \"l'\", 'âme', 'humaine', ',', 'a', 'suggéré', 'que', 'le', 'bonheur', 'réside', 'dans', \"l'\", 'harmonie', 'avec', 'le', 'monde', 'naturel', 'et', 'dans', \"l'\", 'expression', 'authentique', 'de', 'soi', '.', 'Il', 'a', 'encouragé', 'une', 'approche', 'de', 'la', 'vie', 'qui', 'embrasse', \"l'\", 'individualité', ',', 'la', 'créativité', 'et', 'un', 'lien', 'profond', 'avec', 'le', 'monde', 'naturel', 'comme', 'sources', 'de', 'bonheur', 'et', \"d'\", 'épanouissement', '.', '\\n\\n', 'Thoreau', ',', 'dans', 'sa', 'vie', 'simple', 'à', 'Walden', ',', 'a', 'cherché', 'le', 'bonheur', 'dans', 'la', 'simplicité', 'et', \"l'\", 'autosuffisance', '.', 'Il', 'a', 'vu', 'le', 'bonheur', 'comme', 'quelque', 'chose', 'qui', 'vient', 'de', 'vivre', 'intentionnellement', ',', 'en', 'harmonie', 'avec', 'la', 'nature', 'et', 'en', 'accord', 'avec', 'ses', 'propres', 'convictions', 'et', 'valeurs', '.', '\\n\\n', 'Camus', ',', 'avec', 'sa', 'philosophie', 'de', \"l'\", 'absurde', ',', 'a', 'considéré', 'le', 'bonheur', 'comme', 'une', 'révolte', 'contre', \"l'\", 'absurdité', 'de', \"l'\", 'existence', '.', 'Il', 'a', 'suggéré', 'que', 'trouver', 'le', 'bonheur', 'nécessite', 'une', 'acceptation', 'de', \"l'\", 'absurde', 'tout', 'en', 'se', 'révoltant', 'contre', 'lui', 'par', 'la', 'recherche', 'de', 'sens', ',', 'de', 'passion', 'et', 'de', 'beauté', 'dans', 'la', 'vie', '.', '\\n\\n', 'Tagore', ',', 'le', 'poète', 'et', 'philosophe', 'indien', ',', 'a', 'parlé', 'du', 'bonheur', 'comme', \"d'\", 'une', 'communion', 'avec', \"l'\", 'univers', ',', 'une', 'célébration', 'de', 'la', 'beauté', 'et', 'de', 'la', 'diversité', 'de', 'la', 'vie', '.', 'Il', 'a', 'vu', 'le', 'bonheur', 'comme', 'un', 'état', \"d'\", 'émerveillement', 'et', \"d'\", 'appréciation', 'pour', 'la', 'richesse', 'de', \"l'\", 'existence', '.', '\\n\\n', 'Lao', 'Tseu', ',', 'dans', 'son', 'enseignement', 'taoïste', ',', 'a', 'vu', 'le', 'bonheur', 'comme', 'une', 'question', 'de', 'vivre', 'en', 'harmonie', 'avec', 'le', 'Tao', ',', 'le', 'chemin', 'naturel', 'des', 'choses', '.', 'Pour', 'lui', ',', 'le', 'bonheur', 'vient', 'de', \"l'\", 'acceptation', ',', 'de', 'la', 'simplicité', 'et', 'de', \"l'\", 'alignement', 'avec', 'le', 'flux', 'naturel', 'de', 'la', 'vie', '.', '\\n\\n', 'Confucius', 'a', 'souligné', \"l'\", 'importance', 'de', \"l'\", 'harmonie', 'sociale', ',', 'de', 'la', 'moralité', 'et', 'du', 'devoir', 'comme', 'chemins', 'vers', 'le', 'bonheur', '.', 'Pour', 'lui', ',', 'le', 'bonheur', 'était', 'lié', 'à', 'la', 'réalisation', 'de', 'soi', 'dans', 'le', 'contexte', 'de', 'relations', 'saines', 'et', \"d'\", 'une', 'société', 'juste', '.', '\\n\\n', 'Baudelaire', ',', 'dans', 'ses', 'poèmes', ',', 'a', 'exploré', 'le', 'bonheur', 'dans', 'les', 'plaisirs', 'fugaces', 'et', 'les', 'beautés', 'cachées', 'du', 'monde', '.', 'Il', 'a', 'vu', 'le', 'bonheur', 'dans', 'les', 'moments', 'de', 'révélation', 'et', 'de', 'beauté', 'qui', 'émergent', 'même', 'dans', 'les', 'aspects', 'les', 'plus', 'sombres', 'de', \"l'\", 'existence', '.', '\\n\\n', 'Gandhi', ',', 'dans', 'sa', 'quête', 'de', 'vérité', 'et', 'de', 'justice', ',', 'a', 'vu', 'le', 'bonheur', 'comme', 'inséparable', 'de', 'la', 'vie', 'de', 'service', 'et', 'de', 'dévouement', 'aux', 'autres', '.', 'Pour', 'lui', ',', 'le', 'bonheur', 'venait', 'de', 'vivre', 'en', 'accord', 'avec', 'des', 'principes', 'moraux', 'élevés', 'et', 'de', 'travailler', 'pour', 'le', 'bien-être', 'des', 'autres', '.', '\\n\\n', 'Schopenhauer', ',', 'avec', 'son', 'pessimisme', 'philosophique', ',', 'a', 'vu', 'le', 'bonheur', 'comme', 'un', 'idéal', 'souvent', 'inaccessible', ',', 'compte', 'tenu', 'de', 'la', 'nature', 'souffrante', 'de', 'la', 'vie', '.', 'Néanmoins', ',', 'il', 'a', 'suggéré', 'que', 'le', 'bonheur', ',', 'dans', 'la', 'mesure', 'où', 'il', 'peut', 'être', 'atteint', ',', 'vient', 'de', 'la', 'contemplation', 'esthétique', ',', 'de', 'la', 'compassion', 'et', 'de', 'la', 'modération', 'des', 'désirs', '.'] \n",
      "\n",
      "\n",
      " stop_words:\n",
      "{'à', 'sera', 'eurent', 'qu', 'seriez', 'étants', 'les', 'avait', 'seras', 'sa', 'serez', 'était', 'aurai', 'ayants', 'ce', 'tu', 'seraient', 'eus', 'étantes', 'fussiez', 'lui', 'sont', 'fusses', 'eussent', 'étante', 'es', 'mon', 'est', 'fussions', 'étée', 'avez', 'furent', 'ayantes', 'sommes', 'aviez', 'eusses', 'ayant', 'je', 'ces', 'soyez', 'pour', 'mais', 'de', 'toi', 'fut', 'ayons', 'auriez', 'y', 'étant', 'son', 'aurons', 'aux', 'eut', 'ayez', 'nous', 'aurions', 'soyons', 'étées', 'ayante', 'fus', 'eussions', 'eûtes', 'on', 'serions', 'étais', 'sois', 'aurait', 'serait', 'ils', 'au', 'eussiez', 'seront', 'fût', 'pas', 'aurez', 'des', 's', 'ont', 'avions', 'aient', 'et', 'd', 'serais', 'nos', 'ne', 'mes', 'étés', 'as', 'elle', 'eues', 'la', 'se', 'soient', 'j', 'étiez', 'eût', 'soit', 'qui', 'étions', 'auras', 'auront', 'un', 'eûmes', 'êtes', 'suis', 'même', 'me', 'avaient', 'notre', 'tes', 'ait', 'aie', 'dans', 'serons', 'eu', 'l', 'une', 'le', 'ses', 'eux', 't', 'fûmes', 'fûtes', 'il', 'fusse', 'avec', 'du', 'eue', 'n', 'étaient', 'avais', 'serai', 'été', 'par', 'fussent', 'ai', 'vous', 'te', 'sur', 'avons', 'en', 'm', 'auraient', 'leur', 'ma', 'aura', 'aurais', 'eusse', 'moi', 'votre', 'aies', 'que', 'ta', 'vos', 'c', 'ou', 'ton'} \n",
      "\n",
      "\n",
      " Tokens nettoyés:\n",
      "['bonheur', ',', 'chers', 'amis', ',', 'phare', 'éternel', 'vers', 'lequel', 'toutes', 'âmes', 'naviguent', 'espoir', '.', \"qu'\", '-ce', 'bonheur', ',', 'sinon', \"l'\", 'harmonie', 'entre', \"l'\", 'homme', \"l'\", 'existence', \"qu'\", 'mène', '?', \"n'\", 'lieu', 'lointain', 'sommet', 'atteindre', ',', 'plutôt', 'chemin', 'lequel', 'marche', ',', 'ensemble', 'petits', 'moments', ',', 'suite', 'respirations', 'conscientes', '.', '\\n\\n', 'Socrate', ',', 'humilité', ',', 'a', 'enseigné', 'connaissance', 'soi', 'clé', 'sagesse', ',', 'extension', ',', 'bonheur', '.', 'Car', 'connaissant', ',', 'comprend', 'mieux', 'désirs', 'distingue', 'plaisirs', 'éphémères', 'joies', 'durables', '.', '\\n\\n', 'Épicure', ',', 'quant', ',', 'a', 'souligné', \"l'\", 'importance', 'plaisirs', 'simples', ':', 'chant', 'oiseaux', ',', 'douceur', \"d'\", 'brise', ',', 'compagnie', \"d'\", 'bon', 'ami', '.', 'a', 'invités', 'chercher', 'bonheur', 'modération', 'liberté', 'tourments', \"l'\", 'âme', '.', '\\n\\n', 'dire', 'Sénèque', ',', 'stoïcien', 'a', 'prôné', 'vertu', ',', 'patience', \"l'\", 'acceptation', '?', 'bonheur', \"n'\", \"l'\", 'absence', 'souffrance', ',', 'façon', 'dont', 'fait', 'face', '.', 'rappelle', 'vagues', 'vie', 'doivent', 'être', 'naviguées', 'courage', 'bonheur', 'souvent', 'fruit', 'capacité', 'vouloir', 'contrôler', 'échappe', 'contrôle', '.', '\\n\\n', 'Enfin', ',', 'Montaigne', ',', 'esprit', 'libre', 'curieux', ',', 'a', 'appris', 'bonheur', 'réside', \"l'\", 'appréciation', 'joies', 'vie', 'quotidienne', ',', \"l'\", 'acceptation', 'soi', 'courage', \"d'\", 'être', 'authentique', '.', '\\n\\n', 'Cherchons', 'donc', 'bonheur', 'non', 'comme', 'terre', 'promise', \"l'\", 'conquiert', ',', 'comme', 'jardin', \"l'\", 'cultive', 'chaque', 'jour', '.', 'chaque', 'guidé', \"l'\", 'amour', ',', 'gratitude', 'bienveillance', '.', 'chaque', 'regard', 'posé', 'monde', 'empreint', 'merveille', 'respect', '.', 'bonheur', 'là', ',', \"l'\", 'ici', 'maintenant', ',', 'pleine', 'conscience', 'chaque', 'instant', 'vécu', ',', \"l'\", 'union', 'paisible', 'esprit', 'cœur', 'battant', \"l'\", 'univers', '.', '\\n\\n', 'Vivez', ',', 'aimez', ',', 'riez', 'trouvez', 'bonheur', 'cette', 'merveilleuse', 'aventure', \"qu'\", 'vie', '.', '\\n\\n', 'Aristote', 'disait', 'bonheur', \"l'\", 'activité', \"l'\", 'âme', 'conforme', 'vertu', '.', 'voyait', 'bonheur', 'non', 'comme', 'état', 'passif', ',', 'comme', 'activité', 'pleine', 'engagée', 'poursuite', 'bien', 'vertu', '.', ',', 'bonheur', \"l'\", 'aboutissement', \"d'\", 'vie', 'pratique', 'réflexion', ',', 'point', 'culminant', \"l'\", 'excellence', 'humaine', 'réalisation', 'soi', '.', '\\n\\n', 'Pascal', ',', 'profondeur', 'perspicacité', ',', 'a', 'considéré', 'bonheur', 'comme', 'état', 'insaisissable', 'éphémère', '.', 'croyait', 'vrai', 'bonheur', 'pouvait', 'être', 'trouvé', 'recherche', \"l'\", 'infini', ',', 'quête', \"d'\", 'transcendance', 'dépasse', 'plaisirs', 'peines', 'monde', '.', 'Pascal', ',', 'bonheur', 'résidait', 'foi', 'lutte', 'intérieure', 'vers', 'compréhension', 'plus', 'profonde', \"l'\", 'existence', '.', '\\n\\n', 'Nietzsche', ',', \"d'\", 'autre', 'part', ',', 'a', 'contesté', 'idées', 'traditionnelles', 'bonheur', '.', 'a', 'proclamé', 'bonheur', \"n'\", 'produit', 'conformité', 'confort', ',', 'plutôt', 'résultat', \"l'\", 'acceptation', \"l'\", 'affirmation', 'vie', 'toute', 'complexité', '.', ',', 'bonheur', 'intimement', 'lié', 'volonté', 'puissance', ',', \"l'\", 'aspiration', \"l'\", 'individu', 'surmonter', 'défis', 'forger', 'propre', 'chemin', 'vie', '.', '\\n\\n', 'Kierkegaard', 'a', 'exploré', 'bonheur', 'travers', 'prisme', \"l'\", 'existence', 'individuelle', 'subjectivité', '.', 'a', 'soutenu', 'bonheur', 'dépend', 'capacité', \"l'\", 'individu', 'comprendre', 'soi', '-', ',', 'faire', 'choix', 'authentiques', 'embrasser', 'pleinement', 'existence', 'unique', '.', 'Kierkegaard', ',', 'bonheur', 'profondément', 'personnel', 'inextricablement', 'lié', 'quête', 'sens', 'vérité', 'vie', \"d'\", 'personne', '.', '\\n\\n', 'Rumi', ',', 'poète', 'soufi', ',', 'a', 'vu', 'bonheur', 'comme', 'union', 'divin', ',', 'immersion', \"l'\", 'amour', 'spiritualité', '.', 'a', 'parlé', 'bonheur', 'comme', \"d'\", 'voyage', 'vers', \"l'\", 'intérieur', ',', 'quête', 'découvrir', 'lumière', 'vérité', 'résident', 'cœur', 'chaque', 'être', '.', 'Rumi', ',', 'bonheur', 'expérience', \"l'\", 'extase', 'connexion', 'profonde', 'tout', '.', '\\n\\n', 'Emerson', ',', 'réflexions', 'nature', \"l'\", 'âme', 'humaine', ',', 'a', 'suggéré', 'bonheur', 'réside', \"l'\", 'harmonie', 'monde', 'naturel', \"l'\", 'expression', 'authentique', 'soi', '.', 'a', 'encouragé', 'approche', 'vie', 'embrasse', \"l'\", 'individualité', ',', 'créativité', 'lien', 'profond', 'monde', 'naturel', 'comme', 'sources', 'bonheur', \"d'\", 'épanouissement', '.', '\\n\\n', 'Thoreau', ',', 'vie', 'simple', 'Walden', ',', 'a', 'cherché', 'bonheur', 'simplicité', \"l'\", 'autosuffisance', '.', 'a', 'vu', 'bonheur', 'comme', 'quelque', 'chose', 'vient', 'vivre', 'intentionnellement', ',', 'harmonie', 'nature', 'accord', 'propres', 'convictions', 'valeurs', '.', '\\n\\n', 'Camus', ',', 'philosophie', \"l'\", 'absurde', ',', 'a', 'considéré', 'bonheur', 'comme', 'révolte', 'contre', \"l'\", 'absurdité', \"l'\", 'existence', '.', 'a', 'suggéré', 'trouver', 'bonheur', 'nécessite', 'acceptation', \"l'\", 'absurde', 'tout', 'révoltant', 'contre', 'recherche', 'sens', ',', 'passion', 'beauté', 'vie', '.', '\\n\\n', 'Tagore', ',', 'poète', 'philosophe', 'indien', ',', 'a', 'parlé', 'bonheur', 'comme', \"d'\", 'communion', \"l'\", 'univers', ',', 'célébration', 'beauté', 'diversité', 'vie', '.', 'a', 'vu', 'bonheur', 'comme', 'état', \"d'\", 'émerveillement', \"d'\", 'appréciation', 'richesse', \"l'\", 'existence', '.', '\\n\\n', 'Lao', 'Tseu', ',', 'enseignement', 'taoïste', ',', 'a', 'vu', 'bonheur', 'comme', 'question', 'vivre', 'harmonie', 'Tao', ',', 'chemin', 'naturel', 'choses', '.', ',', 'bonheur', 'vient', \"l'\", 'acceptation', ',', 'simplicité', \"l'\", 'alignement', 'flux', 'naturel', 'vie', '.', '\\n\\n', 'Confucius', 'a', 'souligné', \"l'\", 'importance', \"l'\", 'harmonie', 'sociale', ',', 'moralité', 'devoir', 'comme', 'chemins', 'vers', 'bonheur', '.', ',', 'bonheur', 'lié', 'réalisation', 'soi', 'contexte', 'relations', 'saines', \"d'\", 'société', 'juste', '.', '\\n\\n', 'Baudelaire', ',', 'poèmes', ',', 'a', 'exploré', 'bonheur', 'plaisirs', 'fugaces', 'beautés', 'cachées', 'monde', '.', 'a', 'vu', 'bonheur', 'moments', 'révélation', 'beauté', 'émergent', 'aspects', 'plus', 'sombres', \"l'\", 'existence', '.', '\\n\\n', 'Gandhi', ',', 'quête', 'vérité', 'justice', ',', 'a', 'vu', 'bonheur', 'comme', 'inséparable', 'vie', 'service', 'dévouement', 'autres', '.', ',', 'bonheur', 'venait', 'vivre', 'accord', 'principes', 'moraux', 'élevés', 'travailler', 'bien-être', 'autres', '.', '\\n\\n', 'Schopenhauer', ',', 'pessimisme', 'philosophique', ',', 'a', 'vu', 'bonheur', 'comme', 'idéal', 'souvent', 'inaccessible', ',', 'compte', 'tenu', 'nature', 'souffrante', 'vie', '.', 'Néanmoins', ',', 'a', 'suggéré', 'bonheur', ',', 'mesure', 'où', 'peut', 'être', 'atteint', ',', 'vient', 'contemplation', 'esthétique', ',', 'compassion', 'modération', 'désirs', '.'] \n",
      "\n",
      "\n",
      " liste_ponctuation:\n",
      "!\"#$%&'()*+,-./:;<=>?@[\\]^_`{|}~ \n",
      "\n",
      "\n",
      " tokens_clean_ponctuation:\n",
      "['bonheur', '', 'chers', 'amis', '', 'phare', 'éternel', 'vers', 'lequel', 'toutes', 'âmes', 'naviguent', 'espoir', '', 'qu', 'ce', 'bonheur', '', 'sinon', 'l', 'harmonie', 'entre', 'l', 'homme', 'l', 'existence', 'qu', 'mène', '', 'n', 'lieu', 'lointain', 'sommet', 'atteindre', '', 'plutôt', 'chemin', 'lequel', 'marche', '', 'ensemble', 'petits', 'moments', '', 'suite', 'respirations', 'conscientes', '', '\\n\\n', 'Socrate', '', 'humilité', '', 'a', 'enseigné', 'connaissance', 'soi', 'clé', 'sagesse', '', 'extension', '', 'bonheur', '', 'Car', 'connaissant', '', 'comprend', 'mieux', 'désirs', 'distingue', 'plaisirs', 'éphémères', 'joies', 'durables', '', '\\n\\n', 'Épicure', '', 'quant', '', 'a', 'souligné', 'l', 'importance', 'plaisirs', 'simples', '', 'chant', 'oiseaux', '', 'douceur', 'd', 'brise', '', 'compagnie', 'd', 'bon', 'ami', '', 'a', 'invités', 'chercher', 'bonheur', 'modération', 'liberté', 'tourments', 'l', 'âme', '', '\\n\\n', 'dire', 'Sénèque', '', 'stoïcien', 'a', 'prôné', 'vertu', '', 'patience', 'l', 'acceptation', '', 'bonheur', 'n', 'l', 'absence', 'souffrance', '', 'façon', 'dont', 'fait', 'face', '', 'rappelle', 'vagues', 'vie', 'doivent', 'être', 'naviguées', 'courage', 'bonheur', 'souvent', 'fruit', 'capacité', 'vouloir', 'contrôler', 'échappe', 'contrôle', '', '\\n\\n', 'Enfin', '', 'Montaigne', '', 'esprit', 'libre', 'curieux', '', 'a', 'appris', 'bonheur', 'réside', 'l', 'appréciation', 'joies', 'vie', 'quotidienne', '', 'l', 'acceptation', 'soi', 'courage', 'd', 'être', 'authentique', '', '\\n\\n', 'Cherchons', 'donc', 'bonheur', 'non', 'comme', 'terre', 'promise', 'l', 'conquiert', '', 'comme', 'jardin', 'l', 'cultive', 'chaque', 'jour', '', 'chaque', 'guidé', 'l', 'amour', '', 'gratitude', 'bienveillance', '', 'chaque', 'regard', 'posé', 'monde', 'empreint', 'merveille', 'respect', '', 'bonheur', 'là', '', 'l', 'ici', 'maintenant', '', 'pleine', 'conscience', 'chaque', 'instant', 'vécu', '', 'l', 'union', 'paisible', 'esprit', 'cœur', 'battant', 'l', 'univers', '', '\\n\\n', 'Vivez', '', 'aimez', '', 'riez', 'trouvez', 'bonheur', 'cette', 'merveilleuse', 'aventure', 'qu', 'vie', '', '\\n\\n', 'Aristote', 'disait', 'bonheur', 'l', 'activité', 'l', 'âme', 'conforme', 'vertu', '', 'voyait', 'bonheur', 'non', 'comme', 'état', 'passif', '', 'comme', 'activité', 'pleine', 'engagée', 'poursuite', 'bien', 'vertu', '', '', 'bonheur', 'l', 'aboutissement', 'd', 'vie', 'pratique', 'réflexion', '', 'point', 'culminant', 'l', 'excellence', 'humaine', 'réalisation', 'soi', '', '\\n\\n', 'Pascal', '', 'profondeur', 'perspicacité', '', 'a', 'considéré', 'bonheur', 'comme', 'état', 'insaisissable', 'éphémère', '', 'croyait', 'vrai', 'bonheur', 'pouvait', 'être', 'trouvé', 'recherche', 'l', 'infini', '', 'quête', 'd', 'transcendance', 'dépasse', 'plaisirs', 'peines', 'monde', '', 'Pascal', '', 'bonheur', 'résidait', 'foi', 'lutte', 'intérieure', 'vers', 'compréhension', 'plus', 'profonde', 'l', 'existence', '', '\\n\\n', 'Nietzsche', '', 'd', 'autre', 'part', '', 'a', 'contesté', 'idées', 'traditionnelles', 'bonheur', '', 'a', 'proclamé', 'bonheur', 'n', 'produit', 'conformité', 'confort', '', 'plutôt', 'résultat', 'l', 'acceptation', 'l', 'affirmation', 'vie', 'toute', 'complexité', '', '', 'bonheur', 'intimement', 'lié', 'volonté', 'puissance', '', 'l', 'aspiration', 'l', 'individu', 'surmonter', 'défis', 'forger', 'propre', 'chemin', 'vie', '', '\\n\\n', 'Kierkegaard', 'a', 'exploré', 'bonheur', 'travers', 'prisme', 'l', 'existence', 'individuelle', 'subjectivité', '', 'a', 'soutenu', 'bonheur', 'dépend', 'capacité', 'l', 'individu', 'comprendre', 'soi', '', '', 'faire', 'choix', 'authentiques', 'embrasser', 'pleinement', 'existence', 'unique', '', 'Kierkegaard', '', 'bonheur', 'profondément', 'personnel', 'inextricablement', 'lié', 'quête', 'sens', 'vérité', 'vie', 'd', 'personne', '', '\\n\\n', 'Rumi', '', 'poète', 'soufi', '', 'a', 'vu', 'bonheur', 'comme', 'union', 'divin', '', 'immersion', 'l', 'amour', 'spiritualité', '', 'a', 'parlé', 'bonheur', 'comme', 'd', 'voyage', 'vers', 'l', 'intérieur', '', 'quête', 'découvrir', 'lumière', 'vérité', 'résident', 'cœur', 'chaque', 'être', '', 'Rumi', '', 'bonheur', 'expérience', 'l', 'extase', 'connexion', 'profonde', 'tout', '', '\\n\\n', 'Emerson', '', 'réflexions', 'nature', 'l', 'âme', 'humaine', '', 'a', 'suggéré', 'bonheur', 'réside', 'l', 'harmonie', 'monde', 'naturel', 'l', 'expression', 'authentique', 'soi', '', 'a', 'encouragé', 'approche', 'vie', 'embrasse', 'l', 'individualité', '', 'créativité', 'lien', 'profond', 'monde', 'naturel', 'comme', 'sources', 'bonheur', 'd', 'épanouissement', '', '\\n\\n', 'Thoreau', '', 'vie', 'simple', 'Walden', '', 'a', 'cherché', 'bonheur', 'simplicité', 'l', 'autosuffisance', '', 'a', 'vu', 'bonheur', 'comme', 'quelque', 'chose', 'vient', 'vivre', 'intentionnellement', '', 'harmonie', 'nature', 'accord', 'propres', 'convictions', 'valeurs', '', '\\n\\n', 'Camus', '', 'philosophie', 'l', 'absurde', '', 'a', 'considéré', 'bonheur', 'comme', 'révolte', 'contre', 'l', 'absurdité', 'l', 'existence', '', 'a', 'suggéré', 'trouver', 'bonheur', 'nécessite', 'acceptation', 'l', 'absurde', 'tout', 'révoltant', 'contre', 'recherche', 'sens', '', 'passion', 'beauté', 'vie', '', '\\n\\n', 'Tagore', '', 'poète', 'philosophe', 'indien', '', 'a', 'parlé', 'bonheur', 'comme', 'd', 'communion', 'l', 'univers', '', 'célébration', 'beauté', 'diversité', 'vie', '', 'a', 'vu', 'bonheur', 'comme', 'état', 'd', 'émerveillement', 'd', 'appréciation', 'richesse', 'l', 'existence', '', '\\n\\n', 'Lao', 'Tseu', '', 'enseignement', 'taoïste', '', 'a', 'vu', 'bonheur', 'comme', 'question', 'vivre', 'harmonie', 'Tao', '', 'chemin', 'naturel', 'choses', '', '', 'bonheur', 'vient', 'l', 'acceptation', '', 'simplicité', 'l', 'alignement', 'flux', 'naturel', 'vie', '', '\\n\\n', 'Confucius', 'a', 'souligné', 'l', 'importance', 'l', 'harmonie', 'sociale', '', 'moralité', 'devoir', 'comme', 'chemins', 'vers', 'bonheur', '', '', 'bonheur', 'lié', 'réalisation', 'soi', 'contexte', 'relations', 'saines', 'd', 'société', 'juste', '', '\\n\\n', 'Baudelaire', '', 'poèmes', '', 'a', 'exploré', 'bonheur', 'plaisirs', 'fugaces', 'beautés', 'cachées', 'monde', '', 'a', 'vu', 'bonheur', 'moments', 'révélation', 'beauté', 'émergent', 'aspects', 'plus', 'sombres', 'l', 'existence', '', '\\n\\n', 'Gandhi', '', 'quête', 'vérité', 'justice', '', 'a', 'vu', 'bonheur', 'comme', 'inséparable', 'vie', 'service', 'dévouement', 'autres', '', '', 'bonheur', 'venait', 'vivre', 'accord', 'principes', 'moraux', 'élevés', 'travailler', 'bienêtre', 'autres', '', '\\n\\n', 'Schopenhauer', '', 'pessimisme', 'philosophique', '', 'a', 'vu', 'bonheur', 'comme', 'idéal', 'souvent', 'inaccessible', '', 'compte', 'tenu', 'nature', 'souffrante', 'vie', '', 'Néanmoins', '', 'a', 'suggéré', 'bonheur', '', 'mesure', 'où', 'peut', 'être', 'atteint', '', 'vient', 'contemplation', 'esthétique', '', 'compassion', 'modération', 'désirs', ''] \n",
      "\n",
      "\n",
      " tokens_clean_ponctuation_sans_espaces:\n",
      "['bonheur', 'chers', 'amis', 'phare', 'éternel', 'vers', 'lequel', 'toutes', 'âmes', 'naviguent', 'espoir', 'qu', 'ce', 'bonheur', 'sinon', 'harmonie', 'entre', 'homme', 'existence', 'qu', 'mène', 'lieu', 'lointain', 'sommet', 'atteindre', 'plutôt', 'chemin', 'lequel', 'marche', 'ensemble', 'petits', 'moments', 'suite', 'respirations', 'conscientes', '\\n\\n', 'Socrate', 'humilité', 'enseigné', 'connaissance', 'soi', 'clé', 'sagesse', 'extension', 'bonheur', 'Car', 'connaissant', 'comprend', 'mieux', 'désirs', 'distingue', 'plaisirs', 'éphémères', 'joies', 'durables', '\\n\\n', 'Épicure', 'quant', 'souligné', 'importance', 'plaisirs', 'simples', 'chant', 'oiseaux', 'douceur', 'brise', 'compagnie', 'bon', 'ami', 'invités', 'chercher', 'bonheur', 'modération', 'liberté', 'tourments', 'âme', '\\n\\n', 'dire', 'Sénèque', 'stoïcien', 'prôné', 'vertu', 'patience', 'acceptation', 'bonheur', 'absence', 'souffrance', 'façon', 'dont', 'fait', 'face', 'rappelle', 'vagues', 'vie', 'doivent', 'être', 'naviguées', 'courage', 'bonheur', 'souvent', 'fruit', 'capacité', 'vouloir', 'contrôler', 'échappe', 'contrôle', '\\n\\n', 'Enfin', 'Montaigne', 'esprit', 'libre', 'curieux', 'appris', 'bonheur', 'réside', 'appréciation', 'joies', 'vie', 'quotidienne', 'acceptation', 'soi', 'courage', 'être', 'authentique', '\\n\\n', 'Cherchons', 'donc', 'bonheur', 'non', 'comme', 'terre', 'promise', 'conquiert', 'comme', 'jardin', 'cultive', 'chaque', 'jour', 'chaque', 'guidé', 'amour', 'gratitude', 'bienveillance', 'chaque', 'regard', 'posé', 'monde', 'empreint', 'merveille', 'respect', 'bonheur', 'là', 'ici', 'maintenant', 'pleine', 'conscience', 'chaque', 'instant', 'vécu', 'union', 'paisible', 'esprit', 'cœur', 'battant', 'univers', '\\n\\n', 'Vivez', 'aimez', 'riez', 'trouvez', 'bonheur', 'cette', 'merveilleuse', 'aventure', 'qu', 'vie', '\\n\\n', 'Aristote', 'disait', 'bonheur', 'activité', 'âme', 'conforme', 'vertu', 'voyait', 'bonheur', 'non', 'comme', 'état', 'passif', 'comme', 'activité', 'pleine', 'engagée', 'poursuite', 'bien', 'vertu', 'bonheur', 'aboutissement', 'vie', 'pratique', 'réflexion', 'point', 'culminant', 'excellence', 'humaine', 'réalisation', 'soi', '\\n\\n', 'Pascal', 'profondeur', 'perspicacité', 'considéré', 'bonheur', 'comme', 'état', 'insaisissable', 'éphémère', 'croyait', 'vrai', 'bonheur', 'pouvait', 'être', 'trouvé', 'recherche', 'infini', 'quête', 'transcendance', 'dépasse', 'plaisirs', 'peines', 'monde', 'Pascal', 'bonheur', 'résidait', 'foi', 'lutte', 'intérieure', 'vers', 'compréhension', 'plus', 'profonde', 'existence', '\\n\\n', 'Nietzsche', 'autre', 'part', 'contesté', 'idées', 'traditionnelles', 'bonheur', 'proclamé', 'bonheur', 'produit', 'conformité', 'confort', 'plutôt', 'résultat', 'acceptation', 'affirmation', 'vie', 'toute', 'complexité', 'bonheur', 'intimement', 'lié', 'volonté', 'puissance', 'aspiration', 'individu', 'surmonter', 'défis', 'forger', 'propre', 'chemin', 'vie', '\\n\\n', 'Kierkegaard', 'exploré', 'bonheur', 'travers', 'prisme', 'existence', 'individuelle', 'subjectivité', 'soutenu', 'bonheur', 'dépend', 'capacité', 'individu', 'comprendre', 'soi', 'faire', 'choix', 'authentiques', 'embrasser', 'pleinement', 'existence', 'unique', 'Kierkegaard', 'bonheur', 'profondément', 'personnel', 'inextricablement', 'lié', 'quête', 'sens', 'vérité', 'vie', 'personne', '\\n\\n', 'Rumi', 'poète', 'soufi', 'vu', 'bonheur', 'comme', 'union', 'divin', 'immersion', 'amour', 'spiritualité', 'parlé', 'bonheur', 'comme', 'voyage', 'vers', 'intérieur', 'quête', 'découvrir', 'lumière', 'vérité', 'résident', 'cœur', 'chaque', 'être', 'Rumi', 'bonheur', 'expérience', 'extase', 'connexion', 'profonde', 'tout', '\\n\\n', 'Emerson', 'réflexions', 'nature', 'âme', 'humaine', 'suggéré', 'bonheur', 'réside', 'harmonie', 'monde', 'naturel', 'expression', 'authentique', 'soi', 'encouragé', 'approche', 'vie', 'embrasse', 'individualité', 'créativité', 'lien', 'profond', 'monde', 'naturel', 'comme', 'sources', 'bonheur', 'épanouissement', '\\n\\n', 'Thoreau', 'vie', 'simple', 'Walden', 'cherché', 'bonheur', 'simplicité', 'autosuffisance', 'vu', 'bonheur', 'comme', 'quelque', 'chose', 'vient', 'vivre', 'intentionnellement', 'harmonie', 'nature', 'accord', 'propres', 'convictions', 'valeurs', '\\n\\n', 'Camus', 'philosophie', 'absurde', 'considéré', 'bonheur', 'comme', 'révolte', 'contre', 'absurdité', 'existence', 'suggéré', 'trouver', 'bonheur', 'nécessite', 'acceptation', 'absurde', 'tout', 'révoltant', 'contre', 'recherche', 'sens', 'passion', 'beauté', 'vie', '\\n\\n', 'Tagore', 'poète', 'philosophe', 'indien', 'parlé', 'bonheur', 'comme', 'communion', 'univers', 'célébration', 'beauté', 'diversité', 'vie', 'vu', 'bonheur', 'comme', 'état', 'émerveillement', 'appréciation', 'richesse', 'existence', '\\n\\n', 'Lao', 'Tseu', 'enseignement', 'taoïste', 'vu', 'bonheur', 'comme', 'question', 'vivre', 'harmonie', 'Tao', 'chemin', 'naturel', 'choses', 'bonheur', 'vient', 'acceptation', 'simplicité', 'alignement', 'flux', 'naturel', 'vie', '\\n\\n', 'Confucius', 'souligné', 'importance', 'harmonie', 'sociale', 'moralité', 'devoir', 'comme', 'chemins', 'vers', 'bonheur', 'bonheur', 'lié', 'réalisation', 'soi', 'contexte', 'relations', 'saines', 'société', 'juste', '\\n\\n', 'Baudelaire', 'poèmes', 'exploré', 'bonheur', 'plaisirs', 'fugaces', 'beautés', 'cachées', 'monde', 'vu', 'bonheur', 'moments', 'révélation', 'beauté', 'émergent', 'aspects', 'plus', 'sombres', 'existence', '\\n\\n', 'Gandhi', 'quête', 'vérité', 'justice', 'vu', 'bonheur', 'comme', 'inséparable', 'vie', 'service', 'dévouement', 'autres', 'bonheur', 'venait', 'vivre', 'accord', 'principes', 'moraux', 'élevés', 'travailler', 'bienêtre', 'autres', '\\n\\n', 'Schopenhauer', 'pessimisme', 'philosophique', 'vu', 'bonheur', 'comme', 'idéal', 'souvent', 'inaccessible', 'compte', 'tenu', 'nature', 'souffrante', 'vie', 'Néanmoins', 'suggéré', 'bonheur', 'mesure', 'où', 'peut', 'être', 'atteint', 'vient', 'contemplation', 'esthétique', 'compassion', 'modération', 'désirs'] \n",
      "\n",
      "\n",
      " tokens_clean_ponctuation_sans_espaces2:\n",
      "['bonheur', 'chers', 'amis', 'phare', 'éternel', 'vers', 'lequel', 'toutes', 'âmes', 'naviguent', 'espoir', 'bonheur', 'sinon', 'harmonie', 'entre', 'homme', 'existence', 'mène', 'lieu', 'lointain', 'sommet', 'atteindre', 'plutôt', 'chemin', 'lequel', 'marche', 'ensemble', 'petits', 'moments', 'suite', 'respirations', 'conscientes', '\\n\\n', 'Socrate', 'humilité', 'enseigné', 'connaissance', 'soi', 'clé', 'sagesse', 'extension', 'bonheur', 'Car', 'connaissant', 'comprend', 'mieux', 'désirs', 'distingue', 'plaisirs', 'éphémères', 'joies', 'durables', '\\n\\n', 'Épicure', 'quant', 'souligné', 'importance', 'plaisirs', 'simples', 'chant', 'oiseaux', 'douceur', 'brise', 'compagnie', 'bon', 'ami', 'invités', 'chercher', 'bonheur', 'modération', 'liberté', 'tourments', 'âme', '\\n\\n', 'dire', 'Sénèque', 'stoïcien', 'prôné', 'vertu', 'patience', 'acceptation', 'bonheur', 'absence', 'souffrance', 'façon', 'dont', 'fait', 'face', 'rappelle', 'vagues', 'vie', 'doivent', 'être', 'naviguées', 'courage', 'bonheur', 'souvent', 'fruit', 'capacité', 'vouloir', 'contrôler', 'échappe', 'contrôle', '\\n\\n', 'Enfin', 'Montaigne', 'esprit', 'libre', 'curieux', 'appris', 'bonheur', 'réside', 'appréciation', 'joies', 'vie', 'quotidienne', 'acceptation', 'soi', 'courage', 'être', 'authentique', '\\n\\n', 'Cherchons', 'donc', 'bonheur', 'non', 'comme', 'terre', 'promise', 'conquiert', 'comme', 'jardin', 'cultive', 'chaque', 'jour', 'chaque', 'guidé', 'amour', 'gratitude', 'bienveillance', 'chaque', 'regard', 'posé', 'monde', 'empreint', 'merveille', 'respect', 'bonheur', 'là', 'ici', 'maintenant', 'pleine', 'conscience', 'chaque', 'instant', 'vécu', 'union', 'paisible', 'esprit', 'cœur', 'battant', 'univers', '\\n\\n', 'Vivez', 'aimez', 'riez', 'trouvez', 'bonheur', 'cette', 'merveilleuse', 'aventure', 'vie', '\\n\\n', 'Aristote', 'disait', 'bonheur', 'activité', 'âme', 'conforme', 'vertu', 'voyait', 'bonheur', 'non', 'comme', 'état', 'passif', 'comme', 'activité', 'pleine', 'engagée', 'poursuite', 'bien', 'vertu', 'bonheur', 'aboutissement', 'vie', 'pratique', 'réflexion', 'point', 'culminant', 'excellence', 'humaine', 'réalisation', 'soi', '\\n\\n', 'Pascal', 'profondeur', 'perspicacité', 'considéré', 'bonheur', 'comme', 'état', 'insaisissable', 'éphémère', 'croyait', 'vrai', 'bonheur', 'pouvait', 'être', 'trouvé', 'recherche', 'infini', 'quête', 'transcendance', 'dépasse', 'plaisirs', 'peines', 'monde', 'Pascal', 'bonheur', 'résidait', 'foi', 'lutte', 'intérieure', 'vers', 'compréhension', 'plus', 'profonde', 'existence', '\\n\\n', 'Nietzsche', 'autre', 'part', 'contesté', 'idées', 'traditionnelles', 'bonheur', 'proclamé', 'bonheur', 'produit', 'conformité', 'confort', 'plutôt', 'résultat', 'acceptation', 'affirmation', 'vie', 'toute', 'complexité', 'bonheur', 'intimement', 'lié', 'volonté', 'puissance', 'aspiration', 'individu', 'surmonter', 'défis', 'forger', 'propre', 'chemin', 'vie', '\\n\\n', 'Kierkegaard', 'exploré', 'bonheur', 'travers', 'prisme', 'existence', 'individuelle', 'subjectivité', 'soutenu', 'bonheur', 'dépend', 'capacité', 'individu', 'comprendre', 'soi', 'faire', 'choix', 'authentiques', 'embrasser', 'pleinement', 'existence', 'unique', 'Kierkegaard', 'bonheur', 'profondément', 'personnel', 'inextricablement', 'lié', 'quête', 'sens', 'vérité', 'vie', 'personne', '\\n\\n', 'Rumi', 'poète', 'soufi', 'vu', 'bonheur', 'comme', 'union', 'divin', 'immersion', 'amour', 'spiritualité', 'parlé', 'bonheur', 'comme', 'voyage', 'vers', 'intérieur', 'quête', 'découvrir', 'lumière', 'vérité', 'résident', 'cœur', 'chaque', 'être', 'Rumi', 'bonheur', 'expérience', 'extase', 'connexion', 'profonde', 'tout', '\\n\\n', 'Emerson', 'réflexions', 'nature', 'âme', 'humaine', 'suggéré', 'bonheur', 'réside', 'harmonie', 'monde', 'naturel', 'expression', 'authentique', 'soi', 'encouragé', 'approche', 'vie', 'embrasse', 'individualité', 'créativité', 'lien', 'profond', 'monde', 'naturel', 'comme', 'sources', 'bonheur', 'épanouissement', '\\n\\n', 'Thoreau', 'vie', 'simple', 'Walden', 'cherché', 'bonheur', 'simplicité', 'autosuffisance', 'vu', 'bonheur', 'comme', 'quelque', 'chose', 'vient', 'vivre', 'intentionnellement', 'harmonie', 'nature', 'accord', 'propres', 'convictions', 'valeurs', '\\n\\n', 'Camus', 'philosophie', 'absurde', 'considéré', 'bonheur', 'comme', 'révolte', 'contre', 'absurdité', 'existence', 'suggéré', 'trouver', 'bonheur', 'nécessite', 'acceptation', 'absurde', 'tout', 'révoltant', 'contre', 'recherche', 'sens', 'passion', 'beauté', 'vie', '\\n\\n', 'Tagore', 'poète', 'philosophe', 'indien', 'parlé', 'bonheur', 'comme', 'communion', 'univers', 'célébration', 'beauté', 'diversité', 'vie', 'vu', 'bonheur', 'comme', 'état', 'émerveillement', 'appréciation', 'richesse', 'existence', '\\n\\n', 'Lao', 'Tseu', 'enseignement', 'taoïste', 'vu', 'bonheur', 'comme', 'question', 'vivre', 'harmonie', 'Tao', 'chemin', 'naturel', 'choses', 'bonheur', 'vient', 'acceptation', 'simplicité', 'alignement', 'flux', 'naturel', 'vie', '\\n\\n', 'Confucius', 'souligné', 'importance', 'harmonie', 'sociale', 'moralité', 'devoir', 'comme', 'chemins', 'vers', 'bonheur', 'bonheur', 'lié', 'réalisation', 'soi', 'contexte', 'relations', 'saines', 'société', 'juste', '\\n\\n', 'Baudelaire', 'poèmes', 'exploré', 'bonheur', 'plaisirs', 'fugaces', 'beautés', 'cachées', 'monde', 'vu', 'bonheur', 'moments', 'révélation', 'beauté', 'émergent', 'aspects', 'plus', 'sombres', 'existence', '\\n\\n', 'Gandhi', 'quête', 'vérité', 'justice', 'vu', 'bonheur', 'comme', 'inséparable', 'vie', 'service', 'dévouement', 'autres', 'bonheur', 'venait', 'vivre', 'accord', 'principes', 'moraux', 'élevés', 'travailler', 'bienêtre', 'autres', '\\n\\n', 'Schopenhauer', 'pessimisme', 'philosophique', 'vu', 'bonheur', 'comme', 'idéal', 'souvent', 'inaccessible', 'compte', 'tenu', 'nature', 'souffrante', 'vie', 'Néanmoins', 'suggéré', 'bonheur', 'mesure', 'où', 'peut', 'être', 'atteint', 'vient', 'contemplation', 'esthétique', 'compassion', 'modération', 'désirs'] \n",
      "\n",
      "\n",
      " freq:\n",
      "Counter({'bonheur': 43, '\\n\\n': 20, 'comme': 16, 'vie': 14, 'existence': 7, 'vu': 7, 'soi': 6, 'harmonie': 5, 'acceptation': 5, 'être': 5, 'chaque': 5, 'monde': 5, 'vers': 4, 'plaisirs': 4, 'quête': 4, 'naturel': 4, 'chemin': 3, 'âme': 3, 'vertu': 3, 'état': 3, 'lié': 3, 'vérité': 3, 'nature': 3, 'suggéré': 3, 'vient': 3, 'vivre': 3, 'beauté': 3, 'lequel': 2, 'plutôt': 2, 'moments': 2, 'désirs': 2, 'joies': 2, 'souligné': 2, 'importance': 2, 'modération': 2, 'courage': 2, 'souvent': 2, 'capacité': 2, 'esprit': 2, 'réside': 2, 'appréciation': 2, 'authentique': 2, 'non': 2, 'amour': 2, 'pleine': 2, 'union': 2, 'cœur': 2, 'univers': 2, 'activité': 2, 'humaine': 2, 'réalisation': 2, 'Pascal': 2, 'considéré': 2, 'recherche': 2, 'plus': 2, 'profonde': 2, 'individu': 2, 'Kierkegaard': 2, 'exploré': 2, 'sens': 2, 'Rumi': 2, 'poète': 2, 'parlé': 2, 'tout': 2, 'simplicité': 2, 'accord': 2, 'absurde': 2, 'contre': 2, 'autres': 2, 'chers': 1, 'amis': 1, 'phare': 1, 'éternel': 1, 'toutes': 1, 'âmes': 1, 'naviguent': 1, 'espoir': 1, 'sinon': 1, 'entre': 1, 'homme': 1, 'mène': 1, 'lieu': 1, 'lointain': 1, 'sommet': 1, 'atteindre': 1, 'marche': 1, 'ensemble': 1, 'petits': 1, 'suite': 1, 'respirations': 1, 'conscientes': 1, 'Socrate': 1, 'humilité': 1, 'enseigné': 1, 'connaissance': 1, 'clé': 1, 'sagesse': 1, 'extension': 1, 'Car': 1, 'connaissant': 1, 'comprend': 1, 'mieux': 1, 'distingue': 1, 'éphémères': 1, 'durables': 1, 'Épicure': 1, 'quant': 1, 'simples': 1, 'chant': 1, 'oiseaux': 1, 'douceur': 1, 'brise': 1, 'compagnie': 1, 'bon': 1, 'ami': 1, 'invités': 1, 'chercher': 1, 'liberté': 1, 'tourments': 1, 'dire': 1, 'Sénèque': 1, 'stoïcien': 1, 'prôné': 1, 'patience': 1, 'absence': 1, 'souffrance': 1, 'façon': 1, 'dont': 1, 'fait': 1, 'face': 1, 'rappelle': 1, 'vagues': 1, 'doivent': 1, 'naviguées': 1, 'fruit': 1, 'vouloir': 1, 'contrôler': 1, 'échappe': 1, 'contrôle': 1, 'Enfin': 1, 'Montaigne': 1, 'libre': 1, 'curieux': 1, 'appris': 1, 'quotidienne': 1, 'Cherchons': 1, 'donc': 1, 'terre': 1, 'promise': 1, 'conquiert': 1, 'jardin': 1, 'cultive': 1, 'jour': 1, 'guidé': 1, 'gratitude': 1, 'bienveillance': 1, 'regard': 1, 'posé': 1, 'empreint': 1, 'merveille': 1, 'respect': 1, 'là': 1, 'ici': 1, 'maintenant': 1, 'conscience': 1, 'instant': 1, 'vécu': 1, 'paisible': 1, 'battant': 1, 'Vivez': 1, 'aimez': 1, 'riez': 1, 'trouvez': 1, 'cette': 1, 'merveilleuse': 1, 'aventure': 1, 'Aristote': 1, 'disait': 1, 'conforme': 1, 'voyait': 1, 'passif': 1, 'engagée': 1, 'poursuite': 1, 'bien': 1, 'aboutissement': 1, 'pratique': 1, 'réflexion': 1, 'point': 1, 'culminant': 1, 'excellence': 1, 'profondeur': 1, 'perspicacité': 1, 'insaisissable': 1, 'éphémère': 1, 'croyait': 1, 'vrai': 1, 'pouvait': 1, 'trouvé': 1, 'infini': 1, 'transcendance': 1, 'dépasse': 1, 'peines': 1, 'résidait': 1, 'foi': 1, 'lutte': 1, 'intérieure': 1, 'compréhension': 1, 'Nietzsche': 1, 'autre': 1, 'part': 1, 'contesté': 1, 'idées': 1, 'traditionnelles': 1, 'proclamé': 1, 'produit': 1, 'conformité': 1, 'confort': 1, 'résultat': 1, 'affirmation': 1, 'toute': 1, 'complexité': 1, 'intimement': 1, 'volonté': 1, 'puissance': 1, 'aspiration': 1, 'surmonter': 1, 'défis': 1, 'forger': 1, 'propre': 1, 'travers': 1, 'prisme': 1, 'individuelle': 1, 'subjectivité': 1, 'soutenu': 1, 'dépend': 1, 'comprendre': 1, 'faire': 1, 'choix': 1, 'authentiques': 1, 'embrasser': 1, 'pleinement': 1, 'unique': 1, 'profondément': 1, 'personnel': 1, 'inextricablement': 1, 'personne': 1, 'soufi': 1, 'divin': 1, 'immersion': 1, 'spiritualité': 1, 'voyage': 1, 'intérieur': 1, 'découvrir': 1, 'lumière': 1, 'résident': 1, 'expérience': 1, 'extase': 1, 'connexion': 1, 'Emerson': 1, 'réflexions': 1, 'expression': 1, 'encouragé': 1, 'approche': 1, 'embrasse': 1, 'individualité': 1, 'créativité': 1, 'lien': 1, 'profond': 1, 'sources': 1, 'épanouissement': 1, 'Thoreau': 1, 'simple': 1, 'Walden': 1, 'cherché': 1, 'autosuffisance': 1, 'quelque': 1, 'chose': 1, 'intentionnellement': 1, 'propres': 1, 'convictions': 1, 'valeurs': 1, 'Camus': 1, 'philosophie': 1, 'révolte': 1, 'absurdité': 1, 'trouver': 1, 'nécessite': 1, 'révoltant': 1, 'passion': 1, 'Tagore': 1, 'philosophe': 1, 'indien': 1, 'communion': 1, 'célébration': 1, 'diversité': 1, 'émerveillement': 1, 'richesse': 1, 'Lao': 1, 'Tseu': 1, 'enseignement': 1, 'taoïste': 1, 'question': 1, 'Tao': 1, 'choses': 1, 'alignement': 1, 'flux': 1, 'Confucius': 1, 'sociale': 1, 'moralité': 1, 'devoir': 1, 'chemins': 1, 'contexte': 1, 'relations': 1, 'saines': 1, 'société': 1, 'juste': 1, 'Baudelaire': 1, 'poèmes': 1, 'fugaces': 1, 'beautés': 1, 'cachées': 1, 'révélation': 1, 'émergent': 1, 'aspects': 1, 'sombres': 1, 'Gandhi': 1, 'justice': 1, 'inséparable': 1, 'service': 1, 'dévouement': 1, 'venait': 1, 'principes': 1, 'moraux': 1, 'élevés': 1, 'travailler': 1, 'bienêtre': 1, 'Schopenhauer': 1, 'pessimisme': 1, 'philosophique': 1, 'idéal': 1, 'inaccessible': 1, 'compte': 1, 'tenu': 1, 'souffrante': 1, 'Néanmoins': 1, 'mesure': 1, 'où': 1, 'peut': 1, 'atteint': 1, 'contemplation': 1, 'esthétique': 1, 'compassion': 1}) \n",
      "\n",
      "\n",
      " mots:\n",
      "['bonheur', 'chers', 'amis', 'phare', 'éternel', 'vers', 'lequel', 'toutes', 'âmes', 'naviguent', 'espoir', 'sinon', 'harmonie', 'entre', 'homme', 'existence', 'mène', 'lieu', 'lointain', 'sommet', 'atteindre', 'plutôt', 'chemin', 'marche', 'ensemble', 'petits', 'moments', 'suite', 'respirations', 'conscientes', '\\n\\n', 'Socrate', 'humilité', 'enseigné', 'connaissance', 'soi', 'clé', 'sagesse', 'extension', 'Car', 'connaissant', 'comprend', 'mieux', 'désirs', 'distingue', 'plaisirs', 'éphémères', 'joies', 'durables', 'Épicure', 'quant', 'souligné', 'importance', 'simples', 'chant', 'oiseaux', 'douceur', 'brise', 'compagnie', 'bon', 'ami', 'invités', 'chercher', 'modération', 'liberté', 'tourments', 'âme', 'dire', 'Sénèque', 'stoïcien', 'prôné', 'vertu', 'patience', 'acceptation', 'absence', 'souffrance', 'façon', 'dont', 'fait', 'face', 'rappelle', 'vagues', 'vie', 'doivent', 'être', 'naviguées', 'courage', 'souvent', 'fruit', 'capacité', 'vouloir', 'contrôler', 'échappe', 'contrôle', 'Enfin', 'Montaigne', 'esprit', 'libre', 'curieux', 'appris', 'réside', 'appréciation', 'quotidienne', 'authentique', 'Cherchons', 'donc', 'non', 'comme', 'terre', 'promise', 'conquiert', 'jardin', 'cultive', 'chaque', 'jour', 'guidé', 'amour', 'gratitude', 'bienveillance', 'regard', 'posé', 'monde', 'empreint', 'merveille', 'respect', 'là', 'ici', 'maintenant', 'pleine', 'conscience', 'instant', 'vécu', 'union', 'paisible', 'cœur', 'battant', 'univers', 'Vivez', 'aimez', 'riez', 'trouvez', 'cette', 'merveilleuse', 'aventure', 'Aristote', 'disait', 'activité', 'conforme', 'voyait', 'état', 'passif', 'engagée', 'poursuite', 'bien', 'aboutissement', 'pratique', 'réflexion', 'point', 'culminant', 'excellence', 'humaine', 'réalisation', 'Pascal', 'profondeur', 'perspicacité', 'considéré', 'insaisissable', 'éphémère', 'croyait', 'vrai', 'pouvait', 'trouvé', 'recherche', 'infini', 'quête', 'transcendance', 'dépasse', 'peines', 'résidait', 'foi', 'lutte', 'intérieure', 'compréhension', 'plus', 'profonde', 'Nietzsche', 'autre', 'part', 'contesté', 'idées', 'traditionnelles', 'proclamé', 'produit', 'conformité', 'confort', 'résultat', 'affirmation', 'toute', 'complexité', 'intimement', 'lié', 'volonté', 'puissance', 'aspiration', 'individu', 'surmonter', 'défis', 'forger', 'propre', 'Kierkegaard', 'exploré', 'travers', 'prisme', 'individuelle', 'subjectivité', 'soutenu', 'dépend', 'comprendre', 'faire', 'choix', 'authentiques', 'embrasser', 'pleinement', 'unique', 'profondément', 'personnel', 'inextricablement', 'sens', 'vérité', 'personne', 'Rumi', 'poète', 'soufi', 'vu', 'divin', 'immersion', 'spiritualité', 'parlé', 'voyage', 'intérieur', 'découvrir', 'lumière', 'résident', 'expérience', 'extase', 'connexion', 'tout', 'Emerson', 'réflexions', 'nature', 'suggéré', 'naturel', 'expression', 'encouragé', 'approche', 'embrasse', 'individualité', 'créativité', 'lien', 'profond', 'sources', 'épanouissement', 'Thoreau', 'simple', 'Walden', 'cherché', 'simplicité', 'autosuffisance', 'quelque', 'chose', 'vient', 'vivre', 'intentionnellement', 'accord', 'propres', 'convictions', 'valeurs', 'Camus', 'philosophie', 'absurde', 'révolte', 'contre', 'absurdité', 'trouver', 'nécessite', 'révoltant', 'passion', 'beauté', 'Tagore', 'philosophe', 'indien', 'communion', 'célébration', 'diversité', 'émerveillement', 'richesse', 'Lao', 'Tseu', 'enseignement', 'taoïste', 'question', 'Tao', 'choses', 'alignement', 'flux', 'Confucius', 'sociale', 'moralité', 'devoir', 'chemins', 'contexte', 'relations', 'saines', 'société', 'juste', 'Baudelaire', 'poèmes', 'fugaces', 'beautés', 'cachées', 'révélation', 'émergent', 'aspects', 'sombres', 'Gandhi', 'justice', 'inséparable', 'service', 'dévouement', 'autres', 'venait', 'principes', 'moraux', 'élevés', 'travailler', 'bienêtre', 'Schopenhauer', 'pessimisme', 'philosophique', 'idéal', 'inaccessible', 'compte', 'tenu', 'souffrante', 'Néanmoins', 'mesure', 'où', 'peut', 'atteint', 'contemplation', 'esthétique', 'compassion'] \n",
      "\n",
      "\n",
      " frequences:\n",
      "[43, 1, 1, 1, 1, 4, 2, 1, 1, 1, 1, 1, 5, 1, 1, 7, 1, 1, 1, 1, 1, 2, 3, 1, 1, 1, 2, 1, 1, 1, 20, 1, 1, 1, 1, 6, 1, 1, 1, 1, 1, 1, 1, 2, 1, 4, 1, 2, 1, 1, 1, 2, 2, 1, 1, 1, 1, 1, 1, 1, 1, 1, 1, 2, 1, 1, 3, 1, 1, 1, 1, 3, 1, 5, 1, 1, 1, 1, 1, 1, 1, 1, 14, 1, 5, 1, 2, 2, 1, 2, 1, 1, 1, 1, 1, 1, 2, 1, 1, 1, 2, 2, 1, 2, 1, 1, 2, 16, 1, 1, 1, 1, 1, 5, 1, 1, 2, 1, 1, 1, 1, 5, 1, 1, 1, 1, 1, 1, 2, 1, 1, 1, 2, 1, 2, 1, 2, 1, 1, 1, 1, 1, 1, 1, 1, 1, 2, 1, 1, 3, 1, 1, 1, 1, 1, 1, 1, 1, 1, 1, 2, 2, 2, 1, 1, 2, 1, 1, 1, 1, 1, 1, 2, 1, 4, 1, 1, 1, 1, 1, 1, 1, 1, 2, 2, 1, 1, 1, 1, 1, 1, 1, 1, 1, 1, 1, 1, 1, 1, 1, 3, 1, 1, 1, 2, 1, 1, 1, 1, 2, 2, 1, 1, 1, 1, 1, 1, 1, 1, 1, 1, 1, 1, 1, 1, 1, 1, 2, 3, 1, 2, 2, 1, 7, 1, 1, 1, 2, 1, 1, 1, 1, 1, 1, 1, 1, 2, 1, 1, 3, 3, 4, 1, 1, 1, 1, 1, 1, 1, 1, 1, 1, 1, 1, 1, 1, 2, 1, 1, 1, 3, 3, 1, 2, 1, 1, 1, 1, 1, 2, 1, 2, 1, 1, 1, 1, 1, 3, 1, 1, 1, 1, 1, 1, 1, 1, 1, 1, 1, 1, 1, 1, 1, 1, 1, 1, 1, 1, 1, 1, 1, 1, 1, 1, 1, 1, 1, 1, 1, 1, 1, 1, 1, 1, 1, 1, 1, 1, 1, 2, 1, 1, 1, 1, 1, 1, 1, 1, 1, 1, 1, 1, 1, 1, 1, 1, 1, 1, 1, 1, 1, 1] \n",
      "\n"
     ]
    },
    {
     "data": {
      "application/vnd.plotly.v1+json": {
       "config": {
        "plotlyServerURL": "https://plot.ly"
       },
       "data": [
        {
         "type": "bar",
         "x": [
          "bonheur",
          "chers",
          "amis",
          "phare",
          "éternel",
          "vers",
          "lequel",
          "toutes",
          "âmes",
          "naviguent",
          "espoir",
          "sinon",
          "harmonie",
          "entre",
          "homme",
          "existence",
          "mène",
          "lieu",
          "lointain",
          "sommet"
         ],
         "y": [
          43,
          1,
          1,
          1,
          1,
          4,
          2,
          1,
          1,
          1,
          1,
          1,
          5,
          1,
          1,
          7,
          1,
          1,
          1,
          1
         ]
        }
       ],
       "layout": {
        "template": {
         "data": {
          "bar": [
           {
            "error_x": {
             "color": "#2a3f5f"
            },
            "error_y": {
             "color": "#2a3f5f"
            },
            "marker": {
             "line": {
              "color": "#E5ECF6",
              "width": 0.5
             },
             "pattern": {
              "fillmode": "overlay",
              "size": 10,
              "solidity": 0.2
             }
            },
            "type": "bar"
           }
          ],
          "barpolar": [
           {
            "marker": {
             "line": {
              "color": "#E5ECF6",
              "width": 0.5
             },
             "pattern": {
              "fillmode": "overlay",
              "size": 10,
              "solidity": 0.2
             }
            },
            "type": "barpolar"
           }
          ],
          "carpet": [
           {
            "aaxis": {
             "endlinecolor": "#2a3f5f",
             "gridcolor": "white",
             "linecolor": "white",
             "minorgridcolor": "white",
             "startlinecolor": "#2a3f5f"
            },
            "baxis": {
             "endlinecolor": "#2a3f5f",
             "gridcolor": "white",
             "linecolor": "white",
             "minorgridcolor": "white",
             "startlinecolor": "#2a3f5f"
            },
            "type": "carpet"
           }
          ],
          "choropleth": [
           {
            "colorbar": {
             "outlinewidth": 0,
             "ticks": ""
            },
            "type": "choropleth"
           }
          ],
          "contour": [
           {
            "colorbar": {
             "outlinewidth": 0,
             "ticks": ""
            },
            "colorscale": [
             [
              0,
              "#0d0887"
             ],
             [
              0.1111111111111111,
              "#46039f"
             ],
             [
              0.2222222222222222,
              "#7201a8"
             ],
             [
              0.3333333333333333,
              "#9c179e"
             ],
             [
              0.4444444444444444,
              "#bd3786"
             ],
             [
              0.5555555555555556,
              "#d8576b"
             ],
             [
              0.6666666666666666,
              "#ed7953"
             ],
             [
              0.7777777777777778,
              "#fb9f3a"
             ],
             [
              0.8888888888888888,
              "#fdca26"
             ],
             [
              1,
              "#f0f921"
             ]
            ],
            "type": "contour"
           }
          ],
          "contourcarpet": [
           {
            "colorbar": {
             "outlinewidth": 0,
             "ticks": ""
            },
            "type": "contourcarpet"
           }
          ],
          "heatmap": [
           {
            "colorbar": {
             "outlinewidth": 0,
             "ticks": ""
            },
            "colorscale": [
             [
              0,
              "#0d0887"
             ],
             [
              0.1111111111111111,
              "#46039f"
             ],
             [
              0.2222222222222222,
              "#7201a8"
             ],
             [
              0.3333333333333333,
              "#9c179e"
             ],
             [
              0.4444444444444444,
              "#bd3786"
             ],
             [
              0.5555555555555556,
              "#d8576b"
             ],
             [
              0.6666666666666666,
              "#ed7953"
             ],
             [
              0.7777777777777778,
              "#fb9f3a"
             ],
             [
              0.8888888888888888,
              "#fdca26"
             ],
             [
              1,
              "#f0f921"
             ]
            ],
            "type": "heatmap"
           }
          ],
          "heatmapgl": [
           {
            "colorbar": {
             "outlinewidth": 0,
             "ticks": ""
            },
            "colorscale": [
             [
              0,
              "#0d0887"
             ],
             [
              0.1111111111111111,
              "#46039f"
             ],
             [
              0.2222222222222222,
              "#7201a8"
             ],
             [
              0.3333333333333333,
              "#9c179e"
             ],
             [
              0.4444444444444444,
              "#bd3786"
             ],
             [
              0.5555555555555556,
              "#d8576b"
             ],
             [
              0.6666666666666666,
              "#ed7953"
             ],
             [
              0.7777777777777778,
              "#fb9f3a"
             ],
             [
              0.8888888888888888,
              "#fdca26"
             ],
             [
              1,
              "#f0f921"
             ]
            ],
            "type": "heatmapgl"
           }
          ],
          "histogram": [
           {
            "marker": {
             "pattern": {
              "fillmode": "overlay",
              "size": 10,
              "solidity": 0.2
             }
            },
            "type": "histogram"
           }
          ],
          "histogram2d": [
           {
            "colorbar": {
             "outlinewidth": 0,
             "ticks": ""
            },
            "colorscale": [
             [
              0,
              "#0d0887"
             ],
             [
              0.1111111111111111,
              "#46039f"
             ],
             [
              0.2222222222222222,
              "#7201a8"
             ],
             [
              0.3333333333333333,
              "#9c179e"
             ],
             [
              0.4444444444444444,
              "#bd3786"
             ],
             [
              0.5555555555555556,
              "#d8576b"
             ],
             [
              0.6666666666666666,
              "#ed7953"
             ],
             [
              0.7777777777777778,
              "#fb9f3a"
             ],
             [
              0.8888888888888888,
              "#fdca26"
             ],
             [
              1,
              "#f0f921"
             ]
            ],
            "type": "histogram2d"
           }
          ],
          "histogram2dcontour": [
           {
            "colorbar": {
             "outlinewidth": 0,
             "ticks": ""
            },
            "colorscale": [
             [
              0,
              "#0d0887"
             ],
             [
              0.1111111111111111,
              "#46039f"
             ],
             [
              0.2222222222222222,
              "#7201a8"
             ],
             [
              0.3333333333333333,
              "#9c179e"
             ],
             [
              0.4444444444444444,
              "#bd3786"
             ],
             [
              0.5555555555555556,
              "#d8576b"
             ],
             [
              0.6666666666666666,
              "#ed7953"
             ],
             [
              0.7777777777777778,
              "#fb9f3a"
             ],
             [
              0.8888888888888888,
              "#fdca26"
             ],
             [
              1,
              "#f0f921"
             ]
            ],
            "type": "histogram2dcontour"
           }
          ],
          "mesh3d": [
           {
            "colorbar": {
             "outlinewidth": 0,
             "ticks": ""
            },
            "type": "mesh3d"
           }
          ],
          "parcoords": [
           {
            "line": {
             "colorbar": {
              "outlinewidth": 0,
              "ticks": ""
             }
            },
            "type": "parcoords"
           }
          ],
          "pie": [
           {
            "automargin": true,
            "type": "pie"
           }
          ],
          "scatter": [
           {
            "fillpattern": {
             "fillmode": "overlay",
             "size": 10,
             "solidity": 0.2
            },
            "type": "scatter"
           }
          ],
          "scatter3d": [
           {
            "line": {
             "colorbar": {
              "outlinewidth": 0,
              "ticks": ""
             }
            },
            "marker": {
             "colorbar": {
              "outlinewidth": 0,
              "ticks": ""
             }
            },
            "type": "scatter3d"
           }
          ],
          "scattercarpet": [
           {
            "marker": {
             "colorbar": {
              "outlinewidth": 0,
              "ticks": ""
             }
            },
            "type": "scattercarpet"
           }
          ],
          "scattergeo": [
           {
            "marker": {
             "colorbar": {
              "outlinewidth": 0,
              "ticks": ""
             }
            },
            "type": "scattergeo"
           }
          ],
          "scattergl": [
           {
            "marker": {
             "colorbar": {
              "outlinewidth": 0,
              "ticks": ""
             }
            },
            "type": "scattergl"
           }
          ],
          "scattermapbox": [
           {
            "marker": {
             "colorbar": {
              "outlinewidth": 0,
              "ticks": ""
             }
            },
            "type": "scattermapbox"
           }
          ],
          "scatterpolar": [
           {
            "marker": {
             "colorbar": {
              "outlinewidth": 0,
              "ticks": ""
             }
            },
            "type": "scatterpolar"
           }
          ],
          "scatterpolargl": [
           {
            "marker": {
             "colorbar": {
              "outlinewidth": 0,
              "ticks": ""
             }
            },
            "type": "scatterpolargl"
           }
          ],
          "scatterternary": [
           {
            "marker": {
             "colorbar": {
              "outlinewidth": 0,
              "ticks": ""
             }
            },
            "type": "scatterternary"
           }
          ],
          "surface": [
           {
            "colorbar": {
             "outlinewidth": 0,
             "ticks": ""
            },
            "colorscale": [
             [
              0,
              "#0d0887"
             ],
             [
              0.1111111111111111,
              "#46039f"
             ],
             [
              0.2222222222222222,
              "#7201a8"
             ],
             [
              0.3333333333333333,
              "#9c179e"
             ],
             [
              0.4444444444444444,
              "#bd3786"
             ],
             [
              0.5555555555555556,
              "#d8576b"
             ],
             [
              0.6666666666666666,
              "#ed7953"
             ],
             [
              0.7777777777777778,
              "#fb9f3a"
             ],
             [
              0.8888888888888888,
              "#fdca26"
             ],
             [
              1,
              "#f0f921"
             ]
            ],
            "type": "surface"
           }
          ],
          "table": [
           {
            "cells": {
             "fill": {
              "color": "#EBF0F8"
             },
             "line": {
              "color": "white"
             }
            },
            "header": {
             "fill": {
              "color": "#C8D4E3"
             },
             "line": {
              "color": "white"
             }
            },
            "type": "table"
           }
          ]
         },
         "layout": {
          "annotationdefaults": {
           "arrowcolor": "#2a3f5f",
           "arrowhead": 0,
           "arrowwidth": 1
          },
          "autotypenumbers": "strict",
          "coloraxis": {
           "colorbar": {
            "outlinewidth": 0,
            "ticks": ""
           }
          },
          "colorscale": {
           "diverging": [
            [
             0,
             "#8e0152"
            ],
            [
             0.1,
             "#c51b7d"
            ],
            [
             0.2,
             "#de77ae"
            ],
            [
             0.3,
             "#f1b6da"
            ],
            [
             0.4,
             "#fde0ef"
            ],
            [
             0.5,
             "#f7f7f7"
            ],
            [
             0.6,
             "#e6f5d0"
            ],
            [
             0.7,
             "#b8e186"
            ],
            [
             0.8,
             "#7fbc41"
            ],
            [
             0.9,
             "#4d9221"
            ],
            [
             1,
             "#276419"
            ]
           ],
           "sequential": [
            [
             0,
             "#0d0887"
            ],
            [
             0.1111111111111111,
             "#46039f"
            ],
            [
             0.2222222222222222,
             "#7201a8"
            ],
            [
             0.3333333333333333,
             "#9c179e"
            ],
            [
             0.4444444444444444,
             "#bd3786"
            ],
            [
             0.5555555555555556,
             "#d8576b"
            ],
            [
             0.6666666666666666,
             "#ed7953"
            ],
            [
             0.7777777777777778,
             "#fb9f3a"
            ],
            [
             0.8888888888888888,
             "#fdca26"
            ],
            [
             1,
             "#f0f921"
            ]
           ],
           "sequentialminus": [
            [
             0,
             "#0d0887"
            ],
            [
             0.1111111111111111,
             "#46039f"
            ],
            [
             0.2222222222222222,
             "#7201a8"
            ],
            [
             0.3333333333333333,
             "#9c179e"
            ],
            [
             0.4444444444444444,
             "#bd3786"
            ],
            [
             0.5555555555555556,
             "#d8576b"
            ],
            [
             0.6666666666666666,
             "#ed7953"
            ],
            [
             0.7777777777777778,
             "#fb9f3a"
            ],
            [
             0.8888888888888888,
             "#fdca26"
            ],
            [
             1,
             "#f0f921"
            ]
           ]
          },
          "colorway": [
           "#636efa",
           "#EF553B",
           "#00cc96",
           "#ab63fa",
           "#FFA15A",
           "#19d3f3",
           "#FF6692",
           "#B6E880",
           "#FF97FF",
           "#FECB52"
          ],
          "font": {
           "color": "#2a3f5f"
          },
          "geo": {
           "bgcolor": "white",
           "lakecolor": "white",
           "landcolor": "#E5ECF6",
           "showlakes": true,
           "showland": true,
           "subunitcolor": "white"
          },
          "hoverlabel": {
           "align": "left"
          },
          "hovermode": "closest",
          "mapbox": {
           "style": "light"
          },
          "paper_bgcolor": "white",
          "plot_bgcolor": "#E5ECF6",
          "polar": {
           "angularaxis": {
            "gridcolor": "white",
            "linecolor": "white",
            "ticks": ""
           },
           "bgcolor": "#E5ECF6",
           "radialaxis": {
            "gridcolor": "white",
            "linecolor": "white",
            "ticks": ""
           }
          },
          "scene": {
           "xaxis": {
            "backgroundcolor": "#E5ECF6",
            "gridcolor": "white",
            "gridwidth": 2,
            "linecolor": "white",
            "showbackground": true,
            "ticks": "",
            "zerolinecolor": "white"
           },
           "yaxis": {
            "backgroundcolor": "#E5ECF6",
            "gridcolor": "white",
            "gridwidth": 2,
            "linecolor": "white",
            "showbackground": true,
            "ticks": "",
            "zerolinecolor": "white"
           },
           "zaxis": {
            "backgroundcolor": "#E5ECF6",
            "gridcolor": "white",
            "gridwidth": 2,
            "linecolor": "white",
            "showbackground": true,
            "ticks": "",
            "zerolinecolor": "white"
           }
          },
          "shapedefaults": {
           "line": {
            "color": "#2a3f5f"
           }
          },
          "ternary": {
           "aaxis": {
            "gridcolor": "white",
            "linecolor": "white",
            "ticks": ""
           },
           "baxis": {
            "gridcolor": "white",
            "linecolor": "white",
            "ticks": ""
           },
           "bgcolor": "#E5ECF6",
           "caxis": {
            "gridcolor": "white",
            "linecolor": "white",
            "ticks": ""
           }
          },
          "title": {
           "x": 0.05
          },
          "xaxis": {
           "automargin": true,
           "gridcolor": "white",
           "linecolor": "white",
           "ticks": "",
           "title": {
            "standoff": 15
           },
           "zerolinecolor": "white",
           "zerolinewidth": 2
          },
          "yaxis": {
           "automargin": true,
           "gridcolor": "white",
           "linecolor": "white",
           "ticks": "",
           "title": {
            "standoff": 15
           },
           "zerolinecolor": "white",
           "zerolinewidth": 2
          }
         }
        },
        "title": {
         "text": "Fréquence des mots dans le texte après suppression des tokens_words"
        },
        "xaxis": {
         "title": {
          "text": "Mots"
         }
        },
        "yaxis": {
         "title": {
          "text": "Fréquence"
         }
        }
       }
      }
     },
     "metadata": {},
     "output_type": "display_data"
    }
   ],
   "source": [
    "import string\n",
    "from typing import Counter\n",
    "\n",
    "import spacy\n",
    "\n",
    "fichier_to_test = \"./le_bonheur.txt\"\n",
    "print(f\"\\n fichier_to_test :\\n{fichier_to_test} \\n\")\n",
    "\n",
    "# Lire le fichier\n",
    "with open(fichier_to_test, \"r\", encoding=\"utf-8\") as file:\n",
    "    fichier_to_test = file.read()\n",
    "\n",
    "# traitement du texte avec spaCy\n",
    "# Charger le modèle français\n",
    "nlp = spacy.load(\"fr_core_news_sm\")\n",
    "\n",
    "# Tokeniser le texte\n",
    "tokens_texte = nlp(fichier_to_test)\n",
    "print(f\"\\n tokens_texte:\\n{tokens_texte} \\n\")\n",
    "\n",
    "# Afficher les tokens\n",
    "tokens_words = [token.text for token in tokens_texte]\n",
    "print(f\"\\n tokens_words:\\n{tokens_words} \\n\")\n",
    "\n",
    "# Création de la liste des stop words\n",
    "stop_words = set(stopwords.words(\"french\"))\n",
    "print(f\"\\n stop_words:\\n{stop_words} \\n\")\n",
    "# Nettoyage des mots vides, retire les stop words de la liste des tokens_words\n",
    "tokens_clean = [word for word in tokens_words if word.lower() not in stop_words]\n",
    "print(f\"\\n Tokens nettoyés:\\n{tokens_clean} \\n\")  # Affiche les 20 premiers mots nettoyés pour vérification\n",
    "\n",
    "# suppression de la ponctuation avec string_ponctuation\n",
    "liste_ponctuation = string.punctuation\n",
    "print(f\"\\n liste_ponctuation:\\n{liste_ponctuation} \\n\")\n",
    "# liste en comprehension  prend chaque caractére de chaque mot de token_cleans s'il ne sont pas dans la liste des ponctuations, puis recreeé le mot avec le \"\".join\n",
    "tokens_clean_ponctuation = [\n",
    "    \"\".join(charactere for charactere in word if charactere not in liste_ponctuation)\n",
    "    for word in tokens_clean\n",
    "]\n",
    "\n",
    "print(f\"\\n tokens_clean_ponctuation:\\n{tokens_clean_ponctuation} \\n\")\n",
    "\n",
    "# Suppression des espaces de la liste\n",
    "tokens_clean_ponctuation_sans_espaces = [word for word in tokens_clean_ponctuation if len(word) > 1]\n",
    "print(f\"\\n tokens_clean_ponctuation_sans_espaces:\\n{tokens_clean_ponctuation_sans_espaces} \\n\")\n",
    "\n",
    "# Nouvelle suppression des stop words car on voit qu'il en reste\n",
    "tokens_clean_ponctuation_sans_espaces2 = [\n",
    "    word for word in tokens_clean_ponctuation_sans_espaces if word not in stop_words\n",
    "]\n",
    "\n",
    "print(f\"\\n tokens_clean_ponctuation_sans_espaces2:\\n{tokens_clean_ponctuation_sans_espaces2} \\n\")\n",
    "\n",
    "\n",
    "# Compter la fréquence des mots\n",
    "frequence_mots_clean_ponctuation_sans_espaces = Counter(tokens_clean_ponctuation_sans_espaces2)\n",
    "print(f\"\\n freq:\\n{frequence_mots_clean_ponctuation_sans_espaces} \\n\")\n",
    "# Préparer les données pour le graphique\n",
    "frequence_mots = list(frequence_mots_clean_ponctuation_sans_espaces.keys())\n",
    "frequences_valeur = list(frequence_mots_clean_ponctuation_sans_espaces.values())\n",
    "print(f\"\\n mots:\\n{frequence_mots} \\n\")\n",
    "print(f\"\\n frequences:\\n{frequences_valeur} \\n\")\n",
    "# Créer un graphique en barres\n",
    "\n",
    "\n",
    "# Créer un graphique en barres\n",
    "fig = go.Figure(data=[go.Bar(x=frequence_mots[:20], y=frequences_valeur[:20])])\n",
    "\n",
    "# Mettre à jour le layout\n",
    "fig.update_layout(\n",
    "    title_text=\"Fréquence des mots dans le texte après suppression des tokens_words\",\n",
    "    xaxis_title=\"Mots\",\n",
    "    yaxis_title=\"Fréquence\",\n",
    ")\n",
    "\n",
    "fig.show()\n"
   ]
  },
  {
   "cell_type": "code",
   "execution_count": null,
   "metadata": {},
   "outputs": [],
   "source": []
  }
 ],
 "metadata": {
  "kernelspec": {
   "display_name": "Python 3",
   "language": "python",
   "name": "python3"
  },
  "language_info": {
   "codemirror_mode": {
    "name": "ipython",
    "version": 3
   },
   "file_extension": ".py",
   "mimetype": "text/x-python",
   "name": "python",
   "nbconvert_exporter": "python",
   "pygments_lexer": "ipython3",
   "version": "3.12.1"
  }
 },
 "nbformat": 4,
 "nbformat_minor": 2
}
