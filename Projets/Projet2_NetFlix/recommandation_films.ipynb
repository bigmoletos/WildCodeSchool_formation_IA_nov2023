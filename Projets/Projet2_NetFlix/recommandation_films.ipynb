{
 "cells": [
  {
   "cell_type": "markdown",
   "metadata": {},
   "source": [
    "# PROJET APPLICATION DE RECOMMANDATION DE FILMS"
   ]
  },
  {
   "cell_type": "markdown",
   "metadata": {},
   "source": [
    "## PARTIE 1 : KPI"
   ]
  },
  {
   "cell_type": "code",
   "execution_count": 1,
   "metadata": {},
   "outputs": [],
   "source": [
    "import os\n",
    "import io\n",
    "import gzip\n",
    "import random\n",
    "import secrets\n",
    "import datetime\n",
    "import requests\n",
    "import numpy as np\n",
    "import pandas as pd\n",
    "import seaborn as sns\n",
    "from sklearn import svm\n",
    "import plotly.io as pio\n",
    "from sklearn import tree\n",
    "import plotly.express as px\n",
    "from bs4 import BeautifulSoup\n",
    "import matplotlib.pyplot as plt\n",
    "import plotly.graph_objects as go\n",
    "from sklearn.cluster import KMeans\n",
    "from scipy.cluster import hierarchy\n",
    "from sklearn.decomposition import PCA\n",
    "from sklearn.pipeline import make_pipeline\n",
    "from sklearn.metrics import accuracy_score\n",
    "from sklearn.metrics import silhouette_score\n",
    "from sklearn.compose import ColumnTransformer\n",
    "from sklearn.linear_model import SGDRegressor\n",
    "from sklearn.tree import DecisionTreeRegressor\n",
    "from sklearn.tree import DecisionTreeClassifier\n",
    "from sklearn.model_selection import GridSearchCV\n",
    "from sklearn.linear_model import LinearRegression\n",
    "from sklearn.neighbors import KNeighborsRegressor\n",
    "from sklearn.metrics import classification_report\n",
    "from sklearn.neighbors import KNeighborsClassifier\n",
    "from sklearn.model_selection import cross_validate\n",
    "from sklearn.linear_model import LogisticRegression\n",
    "from sklearn.cluster import AgglomerativeClustering\n",
    "from sklearn.ensemble import RandomForestClassifier\n",
    "from sklearn.linear_model import LogisticRegression\n",
    "from sklearn.model_selection import train_test_split\n",
    "from sklearn.metrics import accuracy_score, r2_score\n",
    "from scipy.spatial.distance import pdist, squareform\n",
    "from sklearn.ensemble import HistGradientBoostingRegressor\n",
    "from scipy.cluster.hierarchy import dendrogram, linkage, fcluster\n",
    "from flask import Flask, request, render_template, session, url_for, redirect\n",
    "from sklearn.preprocessing import (\n",
    "    MaxAbsScaler,\n",
    "    MinMaxScaler,\n",
    "    Normalizer,\n",
    "    PowerTransformer,\n",
    "    QuantileTransformer,\n",
    "    RobustScaler,\n",
    "    StandardScaler,\n",
    "    minmax_scale,\n",
    ")\n",
    "from sklearn.preprocessing import OneHotEncoder, OrdinalEncoder, TargetEncoder"
   ]
  },
  {
   "cell_type": "markdown",
   "metadata": {},
   "source": [
    "#### chargement des datasets de type TSV"
   ]
  },
  {
   "cell_type": "code",
   "execution_count": 3,
   "metadata": {},
   "outputs": [
    {
     "name": "stdout",
     "output_type": "stream",
     "text": [
      "\n",
      " fichiers:\n",
      "['https://datasets.imdbws.com/name.basics.tsv.gz', 'https://datasets.imdbws.com/title.akas.tsv.gz', 'https://datasets.imdbws.com/title.basics.tsv.gz', 'https://datasets.imdbws.com/title.crew.tsv.gz', 'https://datasets.imdbws.com/title.episode.tsv.gz', 'https://datasets.imdbws.com/title.principals.tsv.gz', 'https://datasets.imdbws.com/title.ratings.tsv.gz'] \n",
      "\n"
     ]
    }
   ],
   "source": [
    "# scrapping des noms des fichiers\n",
    "url = \"https://datasets.imdbws.com/\"\n",
    "\n",
    "# contournement d'éventuels protection anti-scrapping\n",
    "navigator = \"Mozilla/5.0 (Windows NT 10.0; Win64; x64) AppleWebKit/537.36 (KHTML, like Gecko) Chrome/58.0.3029.110 Safari/537.3\"\n",
    "\n",
    "response = requests.get(url, headers={\"User-Agent\": navigator})\n",
    "# response = requests.get(url)\n",
    "soup = BeautifulSoup(response.text, \"html.parser\")\n",
    "\n",
    "# Trouver tous les liens sur la page\n",
    "liens = soup.find_all(\"a\")\n",
    "\n",
    "# création de la liste des fichiers\n",
    "fichiers = []\n",
    "for lien in liens:\n",
    "    #  choisir uniquement les liens de type href\n",
    "    nom_fichier = lien.get(\"href\")\n",
    "    #  choisir uniquement les liens se terminant par .tsv.gz\n",
    "    if nom_fichier.endswith(\".tsv.gz\"):\n",
    "        # print(nom_fichier)\n",
    "        fichiers.append(nom_fichier)\n",
    "print(f\"\\n fichiers:\\n{fichiers} \\n\")\n",
    "\n",
    "# Liste des noms de fichiers à télécharger\n",
    "# fichiers = ['title.principals.tsv.gz',\n",
    "#             'title.akas.tsv.gz',\n",
    "#             'name.basics.tsv.gz',\n",
    "#             'title.basics.tsv.gz',\n",
    "#             'title.crew.tsv.gz',\n",
    "#             'title.episode.tsv.gz',\n",
    "#             'title.ratings.tsv.gz' ]"
   ]
  },
  {
   "cell_type": "code",
   "execution_count": 4,
   "metadata": {},
   "outputs": [
    {
     "name": "stdout",
     "output_type": "stream",
     "text": [
      "\n",
      "nom_sans_extension :\n",
      "name_basics \n",
      "\n",
      "\n",
      "nom_sans_extension :\n",
      "title_akas \n",
      "\n",
      "\n",
      "nom_sans_extension :\n",
      "title_basics \n",
      "\n",
      "\n",
      "nom_sans_extension :\n",
      "title_crew \n",
      "\n",
      "\n",
      "nom_sans_extension :\n",
      "title_episode \n",
      "\n"
     ]
    }
   ],
   "source": [
    "# Dictionnaire pour stocker les dataframes\n",
    "dfs = {}\n",
    "\n",
    "for fichier in fichiers:\n",
    "    # url = f'https://datasets.imdbws.com/{fichier}'\n",
    "    response = requests.get(fichier)\n",
    "    gzip_file = gzip.open(io.BytesIO(response.content), \"rt\", encoding=\"utf-8\")\n",
    "    df = pd.read_csv(gzip_file, sep=\"\\t\", low_memory=False)\n",
    "    # Chaque dataframe porte le nom du fichier sans l'extension\n",
    "    nom_sans_extension = os.path.splitext(os.path.basename(fichier))[0]\n",
    "    # suppression du tz et remplacement des . par des _\n",
    "    nom_sans_extension = os.path.splitext(nom_sans_extension)[0]\n",
    "    nom_sans_extension = nom_sans_extension.replace(\".\", \"_\")\n",
    "    print(f\"\\nnom_sans_extension :\\n{nom_sans_extension} \\n\")\n",
    "    dfs[nom_sans_extension] = df\n",
    "\n",
    "    # dfs[fichier] = df"
   ]
  },
  {
   "cell_type": "code",
   "execution_count": 94,
   "metadata": {},
   "outputs": [],
   "source": [
    "# sauvegarde des datafdrames sur le disque au format csv\n",
    "for nom, df in dfs.items():\n",
    "    df.to_csv(f\"data_csv/{nom}.csv\", index=False)"
   ]
  },
  {
   "cell_type": "code",
   "execution_count": 11,
   "metadata": {},
   "outputs": [
    {
     "name": "stdout",
     "output_type": "stream",
     "text": [
      "name_basics \n",
      "title_akas \n",
      "title_basics \n",
      "title_crew \n",
      "title_episode \n",
      "title_principals \n",
      "title_ratings \n"
     ]
    }
   ],
   "source": [
    "# liste des datafdrames\n",
    "for df in dfs:\n",
    "    print(f\"{df} \")"
   ]
  },
  {
   "cell_type": "code",
   "execution_count": null,
   "metadata": {},
   "outputs": [],
   "source": [
    "# Résumé des informations des dataframes\n",
    "# for df in dfs:\n",
    "#     print(f\"\\ndf :{df} \")\n",
    "#     your_dataframe = dfs[df]\n",
    "#     print(f\"shape: {your_dataframe.shape} - list columns :{your_dataframe.columns.tolist()} \\nliste des colonnes numeriques: {your_dataframe.select_dtypes(include=[np.number]).columns.tolist()} \\nliste des colonnes non numeriques: {your_dataframe.select_dtypes(exclude=[np.number]).columns.tolist()} \\nColonne avec des na :\\n{your_dataframe.isna().sum()}\")\n",
    "#     print(f\"Noms des colonnes avec au moins une valeur NA : {your_dataframe.columns[your_dataframe.isna().any()].tolist()}\")\n",
    "#     print(f\"Nombre de lignes avec au moins une valeur NA : {your_dataframe.isna().any(axis=1).sum()}\")\n",
    "#     print(f\"head : \\n{your_dataframe.head(2)}\")"
   ]
  },
  {
   "cell_type": "markdown",
   "metadata": {},
   "source": [
    "### Preprocessing dataframes"
   ]
  },
  {
   "cell_type": "code",
   "execution_count": 54,
   "metadata": {},
   "outputs": [],
   "source": [
    "# création d'un fichier de synthése des dataframes au format markdown\n",
    "import datetime\n",
    "\n",
    "# date et heure actuelles\n",
    "now = datetime.datetime.now()\n",
    "# Formatage date et heure au format 2024-01-01-9h30\n",
    "date_time = now.strftime(\"%Y-%m-%d-%Hh%M\")\n",
    "# Ajouter la date et l'heure au nom du fichier\n",
    "filename = f\"synthése_dataframes_{date_time}.md\"\n",
    "with open(filename, \"w\", encoding=\"utf-8\") as f:\n",
    "    for df in dfs:\n",
    "        your_dataframe = dfs[df]\n",
    "        f.write(f\"\\n## DataFrame : {df}\\n\")\n",
    "        f.write(f\"- **Shape** : `{your_dataframe.shape}`\\n\")\n",
    "        f.write(f\"- **Liste des colonnes** : `{your_dataframe.columns.tolist()}`\\n\")\n",
    "        f.write(\n",
    "            f\"- **Liste des colonnes numériques** : `{your_dataframe.select_dtypes(include=[np.number]).columns.tolist()}`\\n\"\n",
    "        )\n",
    "        f.write(\n",
    "            f\"- **Liste des colonnes non numériques** : `{your_dataframe.select_dtypes(exclude=[np.number]).columns.tolist()}`\\n\"\n",
    "        )\n",
    "        f.write(\n",
    "            f\"- **Colonnes avec des NA** :\\n```\\n{your_dataframe.isna().sum()}\\n```\\n\"\n",
    "        )\n",
    "        f.write(\n",
    "            f\"- **Noms des colonnes avec au moins une valeur NA** : `{your_dataframe.columns[your_dataframe.isna().any()].tolist()}`\\n\"\n",
    "        )\n",
    "        f.write(\n",
    "            f\"- **Nombre de lignes avec au moins une valeur NA** : `{your_dataframe.isna().any(axis=1).sum()}`\\n\"\n",
    "        )\n",
    "        headers = \" | \".join(your_dataframe.columns.tolist())\n",
    "        # Obtenir les lignes\n",
    "        rows = [\" | \".join(row) for row in your_dataframe.head(2).astype(str).values]\n",
    "        # Écrire les en-têtes et les lignes dans le fichier\n",
    "        f.write(f\"- **head** :\\n```\\n{headers}\\n{'\\n'.join(rows)}\\n```\\n\")"
   ]
  },
  {
   "cell_type": "code",
   "execution_count": null,
   "metadata": {},
   "outputs": [],
   "source": [
    "# df=dfs[\"name_basics\"].copy()\n",
    "# df.explode(\"knownForTitles\")"
   ]
  },
  {
   "cell_type": "markdown",
   "metadata": {},
   "source": [
    "prétraitement de vos DataFrames :\n",
    "\n",
    "1. **name_basics** : Vous pouvez convertir les colonnes `birthYear` et `deathYear` en type numérique. De plus, la colonne `primaryProfession` semble contenir plusieurs professions pour une même personne, vous pourriez diviser cette colonne en plusieurs colonnes binaires (une pour chaque profession).\n",
    "\n",
    "2. **title_akas** : La colonne `isOriginalTitle` pourrait être convertie en booléen. De plus, si vous n'avez pas besoin de toutes les régions ou langues, vous pourriez filtrer ces colonnes pour ne garder que les lignes pertinentes.\n",
    "\n",
    "3. **title_basics** : Les colonnes `startYear` et `endYear` pourraient être converties en type numérique. La colonne `genres` semble contenir plusieurs genres pour un même titre, vous pourriez diviser cette colonne en plusieurs colonnes binaires (une pour chaque genre).\n",
    "\n",
    "4. **title_crew** : Les colonnes `directors` et `writers` semblent contenir plusieurs personnes pour un même titre, vous pourriez diviser ces colonnes en plusieurs colonnes (une pour chaque personne).\n",
    "\n",
    "5. **title_episode** : Les colonnes `seasonNumber` et `episodeNumber` pourraient être converties en type numérique.\n",
    "\n",
    "6. **title_principals** : La colonne `characters` semble contenir plusieurs personnages pour une même personne, vous pourriez diviser cette colonne en plusieurs colonnes (une pour chaque personnage).\n",
    "\n",
    "7. **title_ratings** : Les colonnes `averageRating` et `numVotes` pourraient être converties en type numérique.\n",
    "\n",
    " gérer les valeurs manquantes, de supprimer les doublons, effectuer une normalisation ou une standardisation des données si nécessaire. \n",
    " fusionner des DataFrames en utilisant les colonnes appropriées comme clés. \n"
   ]
  },
  {
   "cell_type": "markdown",
   "metadata": {},
   "source": [
    " KPI des DataFrames, possibilités :\n",
    "\n",
    "1. **name_basics** : Nombre total d'acteurs, nombre d'acteurs par profession, nombre d'acteurs nés chaque année, etc.\n",
    "2. **title_akas** : Nombre total de titres, nombre de titres par région ou par langue, etc.\n",
    "3. **title_basics** : Nombre total de titres par type (film, série, etc.), durée moyenne des titres, nombre de titres par genre, etc.\n",
    "4. **title_crew** : Nombre de réalisateurs et scénaristes uniques, nombre moyen de réalisateurs et scénaristes par titre, etc.\n",
    "5. **title_episode** : Nombre total d'épisodes, nombre moyen d'épisodes par saison, etc.\n",
    "6. **title_principals** : Nombre moyen de personnages par titre, nombre de titres par acteur, etc.\n",
    "7. **title_ratings** : Note moyenne des titres, nombre moyen de votes par titre, etc.\n",
    "\n",
    "Pour proposer 10 suggestions de films en fonction du choix d'un film d'un utilisateur, vous pouvez utiliser une approche de filtrage collaboratif ou basée sur le contenu. Voici une approche simple basée sur le contenu :\n",
    "\n",
    "1. **Sélectionnez le film choisi par l'utilisateur** dans votre DataFrame `title_basics`.\n",
    "2. **Identifiez les genres** de ce film.\n",
    "3. **Filtrez** votre DataFrame `title_basics` pour ne garder que les films qui partagent au moins un genre avec le film choisi par l'utilisateur.\n",
    "4. **Classez** ces films en fonction de leur note moyenne dans votre DataFrame `title_ratings` (vous pouvez également prendre en compte le nombre de votes pour éviter les films avec une note moyenne élevée mais un faible nombre de votes).\n",
    "5. **Sélectionnez les 10 premiers films** de cette liste.\n"
   ]
  },
  {
   "cell_type": "code",
   "execution_count": 95,
   "metadata": {},
   "outputs": [
    {
     "name": "stdout",
     "output_type": "stream",
     "text": [
      "\n",
      "dfs2['title_basics'].shape :\n",
      "(10450471, 9) \n",
      "\n"
     ]
    }
   ],
   "source": [
    "dfs2 = dfs.copy()\n",
    "dfs3 = dfs.copy()\n",
    "dfs4 = dfs.copy()\n",
    "print(f\"\\ndfs2['title_basics'].shape :\\n{dfs2['title_basics'].shape} \\n\")"
   ]
  },
  {
   "cell_type": "code",
   "execution_count": null,
   "metadata": {},
   "outputs": [],
   "source": [
    "# suppression des na des colonnes concernées\n",
    "dfs2[\"title_basics\"].dropna(\n",
    "    subset=[\"primaryTitle\", \"originalTitle\", \"genres\"], inplace=True\n",
    ")\n",
    "print(f\"\\ndfs2['title_basics'].shape :\\n{dfs2['title_basics'].shape} \\n\")"
   ]
  },
  {
   "cell_type": "code",
   "execution_count": null,
   "metadata": {},
   "outputs": [],
   "source": [
    "# clustering\n",
    "from sklearn.cluster import KMeans\n",
    "\n",
    "# Sélectionnez les colonnes pour le clustering\n",
    "data = dfs2[\"title_basics\"][[\"startYear\", \"endYear\"]]  # Remplacez par vos colonnes\n",
    "\n",
    "# Créez l'objet KMeans\n",
    "kmeans = KMeans(n_clusters=3)  # Remplacez 3 par le nombre de clusters que vous voulez\n",
    "\n",
    "# Ajustez le modèle aux données\n",
    "kmeans.fit(data)\n",
    "\n",
    "# Obtenez les labels de cluster pour chaque observation\n",
    "labels = kmeans.labels_"
   ]
  },
  {
   "cell_type": "code",
   "execution_count": null,
   "metadata": {},
   "outputs": [],
   "source": [
    "# for df in dfs2:\n",
    "#     # supprime les valeurs manquantes sur les colonnes\n",
    "#     # dfs2[df].dropna(axis=0, inplace=True)\n",
    "#     # supprime les valeurs manquantes sur les lignes\n",
    "#     dfs2[df].dropna(axis=1, inplace=True)\n",
    "#     print(f\"\\nshape {df}:\\n{dfs2[df].shape} \\n\")"
   ]
  },
  {
   "cell_type": "code",
   "execution_count": 76,
   "metadata": {},
   "outputs": [],
   "source": [
    "# suppression des na des colonnes concernées\n",
    "dfs2[\"title_basics\"].dropna(\n",
    "    subset=[\"primaryTitle\", \"originalTitle\", \"genres\"], inplace=True\n",
    ")\n",
    "\n",
    "\n",
    "def regrouper_genres(genre):\n",
    "    if genre in [\"Action\", \"Adventure\", \"Thriller\", \"War\"]:\n",
    "        return \"Action et Aventure\"\n",
    "    elif genre in [\"Comedy\", \"Romance\", \"Family\"]:\n",
    "        return \"Comédies\"\n",
    "    elif genre in [\"Drama\", \"Crime\", \"Mystery\"]:\n",
    "        return \"Drames\"\n",
    "    elif genre in [\"Horror\", \"Sci-Fi\"]:\n",
    "        return \"Science-Fiction et Fantastique\"\n",
    "    elif genre in [\"Biography\", \"History\", \"Documentary\"]:\n",
    "        return \"Documentaires\"\n",
    "    elif genre in [\"Music\", \"Musical\"]:\n",
    "        return \"Musique et Comédies Musicales\"\n",
    "    else:\n",
    "        return \"Autres\"\n",
    "\n",
    "\n",
    "# Appliquer la fonction de regroupement aux genres\n",
    "dfs2[\"title_basics\"][\"genres\"] = dfs2[\"title_basics\"][\"genres\"].apply(regrouper_genres)\n",
    "\n",
    "# Utiliser get_dummies sur la colonne de genres regroupés\n",
    "dfs2[\"title_basics\"] = dfs2[\"title_basics\"].join(\n",
    "    dfs2[\"title_basics\"][\"genres\"].str.get_dummies(\",\")\n",
    ")"
   ]
  },
  {
   "cell_type": "code",
   "execution_count": 77,
   "metadata": {},
   "outputs": [
    {
     "name": "stdout",
     "output_type": "stream",
     "text": [
      "\n",
      "shape: (10450471, 16) \n",
      "list columns :\n",
      "['tconst', 'titleType', 'primaryTitle', 'originalTitle', 'isAdult', 'startYear', 'endYear', 'runtimeMinutes', 'genres', 'Action et Aventure', 'Autres', 'Comédies', 'Documentaires', 'Drames', 'Musique et Comédies Musicales', 'Science-Fiction et Fantastique'] \n",
      "liste des colonnes numeriques: \n",
      "['startYear', 'endYear', 'Action et Aventure', 'Autres', 'Comédies', 'Documentaires', 'Drames', 'Musique et Comédies Musicales', 'Science-Fiction et Fantastique']\n",
      "\n",
      "liste des colonnes non numeriques: \n",
      "['tconst', 'titleType', 'primaryTitle', 'originalTitle', 'isAdult', 'runtimeMinutes', 'genres'] \n",
      "Noms des colonnes avec au moins une valeur NA : ['primaryTitle', 'originalTitle', 'startYear', 'endYear']\n",
      "Nombre de lignes avec au moins une valeur NA : 10333737\n",
      "Colonne avec des na :tconst                                   0\n",
      "titleType                                0\n",
      "primaryTitle                            17\n",
      "originalTitle                           17\n",
      "isAdult                                  0\n",
      "startYear                          1390187\n",
      "endYear                           10333737\n",
      "runtimeMinutes                           0\n",
      "genres                                   0\n",
      "Action et Aventure                       0\n",
      "Autres                                   0\n",
      "Comédies                                 0\n",
      "Documentaires                            0\n",
      "Drames                                   0\n",
      "Musique et Comédies Musicales            0\n",
      "Science-Fiction et Fantastique           0\n",
      "dtype: int64 \n",
      "\n",
      "\n",
      "df head :\n",
      "      tconst titleType                                 primaryTitle  \\\n",
      "0  tt0000001     short                                   Carmencita   \n",
      "1  tt0000002     short                       Le clown et ses chiens   \n",
      "2  tt0000003     short                               Pauvre Pierrot   \n",
      "3  tt0000004     short                                  Un bon bock   \n",
      "4  tt0000005     short                             Blacksmith Scene   \n",
      "5  tt0000006     short                            Chinese Opium Den   \n",
      "6  tt0000007     short  Corbett and Courtney Before the Kinetograph   \n",
      "7  tt0000008     short       Edison Kinetoscopic Record of a Sneeze   \n",
      "8  tt0000009     movie                                   Miss Jerry   \n",
      "9  tt0000010     short                          Leaving the Factory   \n",
      "\n",
      "                                 originalTitle isAdult  startYear  endYear  \\\n",
      "0                                   Carmencita       0     1894.0      NaN   \n",
      "1                       Le clown et ses chiens       0     1892.0      NaN   \n",
      "2                               Pauvre Pierrot       0     1892.0      NaN   \n",
      "3                                  Un bon bock       0     1892.0      NaN   \n",
      "4                             Blacksmith Scene       0     1893.0      NaN   \n",
      "5                            Chinese Opium Den       0     1894.0      NaN   \n",
      "6  Corbett and Courtney Before the Kinetograph       0     1894.0      NaN   \n",
      "7       Edison Kinetoscopic Record of a Sneeze       0     1894.0      NaN   \n",
      "8                                   Miss Jerry       0     1894.0      NaN   \n",
      "9          La sortie de l'usine Lumière à Lyon       0     1895.0      NaN   \n",
      "\n",
      "  runtimeMinutes    genres  Action et Aventure  Autres  Comédies  \\\n",
      "0              1    Autres                   0       1         0   \n",
      "1              5    Autres                   0       1         0   \n",
      "2              4    Autres                   0       1         0   \n",
      "3             12    Autres                   0       1         0   \n",
      "4              1    Autres                   0       1         0   \n",
      "5              1    Autres                   0       1         0   \n",
      "6              1    Autres                   0       1         0   \n",
      "7              1    Autres                   0       1         0   \n",
      "8             45  Comédies                   0       0         1   \n",
      "9              1    Autres                   0       1         0   \n",
      "\n",
      "   Documentaires  Drames  Musique et Comédies Musicales  \\\n",
      "0              0       0                              0   \n",
      "1              0       0                              0   \n",
      "2              0       0                              0   \n",
      "3              0       0                              0   \n",
      "4              0       0                              0   \n",
      "5              0       0                              0   \n",
      "6              0       0                              0   \n",
      "7              0       0                              0   \n",
      "8              0       0                              0   \n",
      "9              0       0                              0   \n",
      "\n",
      "   Science-Fiction et Fantastique  \n",
      "0                               0  \n",
      "1                               0  \n",
      "2                               0  \n",
      "3                               0  \n",
      "4                               0  \n",
      "5                               0  \n",
      "6                               0  \n",
      "7                               0  \n",
      "8                               0  \n",
      "9                               0   \n",
      "\n",
      "\n",
      "df describe :\n",
      "          startYear        endYear  Action et Aventure        Autres  \\\n",
      "count  9.060284e+06  116734.000000        1.045047e+07  1.045047e+07   \n",
      "mean   2.005504e+03    2006.525263        1.064191e-02  7.025759e-01   \n",
      "std    2.011394e+01      16.383865        1.026093e-01  4.571247e-01   \n",
      "min    1.874000e+03    1906.000000        0.000000e+00  0.000000e+00   \n",
      "25%    2.001000e+03    1999.000000        0.000000e+00  0.000000e+00   \n",
      "50%    2.013000e+03    2013.000000        0.000000e+00  1.000000e+00   \n",
      "75%    2.018000e+03    2019.000000        0.000000e+00  1.000000e+00   \n",
      "max    2.031000e+03    2030.000000        1.000000e+00  1.000000e+00   \n",
      "\n",
      "           Comédies  Documentaires        Drames  \\\n",
      "count  1.045047e+07   1.045047e+07  1.045047e+07   \n",
      "mean   9.524068e-02   5.204962e-02  1.218935e-01   \n",
      "std    2.935471e-01   2.221271e-01  3.271628e-01   \n",
      "min    0.000000e+00   0.000000e+00  0.000000e+00   \n",
      "25%    0.000000e+00   0.000000e+00  0.000000e+00   \n",
      "50%    0.000000e+00   0.000000e+00  0.000000e+00   \n",
      "75%    0.000000e+00   0.000000e+00  0.000000e+00   \n",
      "max    1.000000e+00   1.000000e+00  1.000000e+00   \n",
      "\n",
      "       Musique et Comédies Musicales  Science-Fiction et Fantastique  \n",
      "count                   1.045047e+07                    1.045047e+07  \n",
      "mean                    1.190798e-02                    5.690366e-03  \n",
      "std                     1.084720e-01                    7.521958e-02  \n",
      "min                     0.000000e+00                    0.000000e+00  \n",
      "25%                     0.000000e+00                    0.000000e+00  \n",
      "50%                     0.000000e+00                    0.000000e+00  \n",
      "75%                     0.000000e+00                    0.000000e+00  \n",
      "max                     1.000000e+00                    1.000000e+00   \n",
      "\n"
     ]
    }
   ],
   "source": [
    "# Résumé des informations du dataframe\n",
    "your_dataframe = dfs2[\"title_basics\"]\n",
    "print(\n",
    "    f\"\\nshape: {your_dataframe.shape} \\nlist columns :\\n{your_dataframe.columns.tolist()} \"\n",
    ")\n",
    "print(\n",
    "    f\"liste des colonnes numeriques: \\n{your_dataframe.select_dtypes(include=[np.number]).columns.tolist()}\\n\"\n",
    ")\n",
    "print(\n",
    "    f\"liste des colonnes non numeriques: \\n{your_dataframe.select_dtypes(exclude=[np.number]).columns.tolist()} \"\n",
    ")\n",
    "print(\n",
    "    f\"Noms des colonnes avec au moins une valeur NA : {your_dataframe.columns[your_dataframe.isna().any()].tolist()}\"\n",
    ")\n",
    "print(\n",
    "    f\"Nombre de lignes avec au moins une valeur NA : {your_dataframe.isna().any(axis=1).sum()}\"\n",
    ")\n",
    "print(f\"Colonne avec des na :{your_dataframe.isna().sum()} \\n\")\n",
    "print(f\"\\ndf head :\\n{your_dataframe.head(10)} \\n\")\n",
    "print(f\"\\ndf describe :\\n{your_dataframe.describe()} \\n\")"
   ]
  },
  {
   "cell_type": "markdown",
   "metadata": {},
   "source": []
  },
  {
   "cell_type": "code",
   "execution_count": 79,
   "metadata": {},
   "outputs": [
    {
     "name": "stdout",
     "output_type": "stream",
     "text": [
      "Nombre de films pour adultes :  331925\n"
     ]
    }
   ],
   "source": [
    "nombre_de_films_pour_adultes = dfs2[\"title_basics\"][\n",
    "    dfs2[\"title_basics\"][\"isAdult\"] == \"1\"\n",
    "].shape[0]\n",
    "print(\"Nombre de films pour adultes : \", nombre_de_films_pour_adultes)"
   ]
  },
  {
   "cell_type": "code",
   "execution_count": null,
   "metadata": {},
   "outputs": [],
   "source": [
    "# Prétraitement pour title_crew\n",
    "dfs2[\"title_crew\"] = dfs2[\"title_crew\"].join(\n",
    "    dfs2[\"title_crew\"][\"directors\"].str.get_dummies(\",\").add_prefix(\"director_\")\n",
    ")\n",
    "dfs2[\"title_crew\"] = dfs2[\"title_crew\"].join(\n",
    "    dfs2[\"title_crew\"][\"writers\"].str.get_dummies(\",\").add_prefix(\"writer_\")\n",
    ")"
   ]
  },
  {
   "cell_type": "code",
   "execution_count": null,
   "metadata": {},
   "outputs": [],
   "source": [
    "# Prétraitement pour title_episode\n",
    "dfs2[\"title_episode\"][\"seasonNumber\"] = pd.to_numeric(\n",
    "    dfs2[\"title_episode\"][\"seasonNumber\"], errors=\"coerce\"\n",
    ")\n",
    "dfs2[\"title_episode\"][\"episodeNumber\"] = pd.to_numeric(\n",
    "    dfs2[\"title_episode\"][\"episodeNumber\"], errors=\"coerce\"\n",
    ")"
   ]
  },
  {
   "cell_type": "code",
   "execution_count": null,
   "metadata": {},
   "outputs": [],
   "source": [
    "# Prétraitement pour title_principals\n",
    "dfs2[\"title_principals\"] = dfs2[\"title_principals\"].join(\n",
    "    dfs2[\"title_principals\"][\"characters\"].str.get_dummies(\",\").add_prefix(\"character_\")\n",
    ")"
   ]
  },
  {
   "cell_type": "code",
   "execution_count": null,
   "metadata": {},
   "outputs": [],
   "source": [
    "# Prétraitement pour title_ratings\n",
    "dfs2[\"title_ratings\"][\"averageRating\"] = pd.to_numeric(\n",
    "    dfs2[\"title_ratings\"][\"averageRating\"], errors=\"coerce\"\n",
    ")\n",
    "dfs2[\"title_ratings\"][\"numVotes\"] = pd.to_numeric(\n",
    "    dfs2[\"title_ratings\"][\"numVotes\"], errors=\"coerce\"\n",
    ")"
   ]
  },
  {
   "cell_type": "code",
   "execution_count": null,
   "metadata": {},
   "outputs": [],
   "source": [
    "# Fusion des tables\n",
    "df_titles = dfs2[\"title_basics\"].merge(dfs2[\"title_crew\"], on=\"tconst\", how=\"left\")\n",
    "df_titles = df_titles.merge(dfs2[\"title_episode\"], on=\"tconst\", how=\"left\")\n",
    "df_titles = df_titles.merge(dfs2[\"title_principals\"], on=\"tconst\", how=\"left\")\n",
    "df_titles = df_titles.merge(dfs2[\"title_ratings\"], on=\"tconst\", how=\"left\")\n",
    "\n",
    "print(df.head())"
   ]
  },
  {
   "cell_type": "code",
   "execution_count": null,
   "metadata": {},
   "outputs": [],
   "source": [
    "# KPI pour name_basics\n",
    "print(\"Nombre total d'acteurs : \", dfs2[\"name_basics\"][\"nconst\"].nunique())\n",
    "print(\n",
    "    \"Nombre d'acteurs par profession : \",\n",
    "    dfs2[\"name_basics\"][\"primaryProfession\"].value_counts(),\n",
    ")\n",
    "\n",
    "# KPI pour title_basics\n",
    "print(\n",
    "    \"Nombre total de titres par type : \",\n",
    "    dfs2[\"title_basics\"][\"titleType\"].value_counts(),\n",
    ")\n",
    "print(\"Durée moyenne des titres : \", dfs2[\"title_basics\"][\"runtimeMinutes\"].mean())\n",
    "\n",
    "# KPI pour title_ratings\n",
    "print(\"Note moyenne des titres : \", dfs2[\"title_ratings\"][\"averageRating\"].mean())\n",
    "print(\"Nombre moyen de votes par titre : \", dfs2[\"title_ratings\"][\"numVotes\"].mean())\n",
    "\n",
    "\n",
    "# Suggestions de films\n",
    "def suggest_movies(movie_title):\n",
    "    # Sélectionnez le film choisi par l'utilisateur\n",
    "    movie = dfs2[\"title_basics\"][\n",
    "        dfs2[\"title_basics\"][\"primaryTitle\"] == movie_title\n",
    "    ].iloc[0]\n",
    "\n",
    "    # Identifiez les genres de ce film\n",
    "    genres = movie[\"genres\"].split(\",\")\n",
    "\n",
    "    # Filtrez votre DataFrame pour ne garder que les films qui partagent au moins un genre avec le film choisi\n",
    "    similar_movies = dfs2[\"title_basics\"][\n",
    "        dfs2[\"title_basics\"][\"genres\"].apply(\n",
    "            lambda x: any(genre in x for genre in genres)\n",
    "        )\n",
    "    ]\n",
    "\n",
    "    # Fusionnez avec title_ratings\n",
    "    similar_movies = similar_movies.merge(dfs2[\"title_ratings\"], on=\"tconst\")\n",
    "\n",
    "    # Classez ces films en fonction de leur note moyenne\n",
    "    similar_movies = similar_movies.sort_values(by=\"averageRating\", ascending=False)\n",
    "\n",
    "    # Sélectionnez les 10 premiers films de cette liste\n",
    "    top_10_movies = similar_movies.head(10)\n",
    "\n",
    "    return top_10_movies\n",
    "\n",
    "\n",
    "# Remplacez par le titre du film choisi par l'utilisateur\n",
    "movie_title = \"Carmencita\"\n",
    "print(\"Voici 10 suggestions de films basées sur le film \", movie_title, \" :\")\n",
    "print(suggest_movies(movie_title))"
   ]
  },
  {
   "cell_type": "code",
   "execution_count": null,
   "metadata": {},
   "outputs": [],
   "source": []
  }
 ],
 "metadata": {
  "kernelspec": {
   "display_name": "Python 3",
   "language": "python",
   "name": "python3"
  },
  "language_info": {
   "codemirror_mode": {
    "name": "ipython",
    "version": 3
   },
   "file_extension": ".py",
   "mimetype": "text/x-python",
   "name": "python",
   "nbconvert_exporter": "python",
   "pygments_lexer": "ipython3",
   "version": "3.12.0"
  }
 },
 "nbformat": 4,
 "nbformat_minor": 2
}
