{
 "cells": [
  {
   "cell_type": "markdown",
   "metadata": {},
   "source": [
    "# PROJET APPLICATION DE RECOMMANDATION DE FILMS"
   ]
  },
  {
   "cell_type": "markdown",
   "metadata": {},
   "source": [
    "## PARTIE 1 : KPI"
   ]
  },
  {
   "cell_type": "code",
   "execution_count": 1,
   "metadata": {},
   "outputs": [],
   "source": [
    "import os\n",
    "import io\n",
    "import gzip\n",
    "import random\n",
    "import secrets\n",
    "import datetime\n",
    "import requests\n",
    "import numpy as np\n",
    "import pandas as pd\n",
    "import seaborn as sns\n",
    "from sklearn import svm\n",
    "import plotly.io as pio\n",
    "from sklearn import tree\n",
    "import plotly.express as px\n",
    "from bs4 import BeautifulSoup\n",
    "import matplotlib.pyplot as plt\n",
    "import plotly.graph_objects as go\n",
    "from sklearn.cluster import KMeans\n",
    "from scipy.cluster import hierarchy\n",
    "from sklearn.decomposition import PCA\n",
    "from sklearn.pipeline import make_pipeline\n",
    "from sklearn.metrics import accuracy_score\n",
    "from sklearn.metrics import silhouette_score\n",
    "from sklearn.compose import ColumnTransformer\n",
    "from sklearn.linear_model import SGDRegressor\n",
    "from sklearn.tree import DecisionTreeRegressor\n",
    "from sklearn.tree import DecisionTreeClassifier\n",
    "from sklearn.model_selection import GridSearchCV\n",
    "from sklearn.linear_model import LinearRegression\n",
    "from sklearn.neighbors import KNeighborsRegressor\n",
    "from sklearn.metrics import classification_report\n",
    "from sklearn.neighbors import KNeighborsClassifier\n",
    "from sklearn.model_selection import cross_validate\n",
    "from sklearn.linear_model import LogisticRegression\n",
    "from sklearn.cluster import AgglomerativeClustering\n",
    "from sklearn.ensemble import RandomForestClassifier\n",
    "from sklearn.linear_model import LogisticRegression\n",
    "from sklearn.model_selection import train_test_split\n",
    "from sklearn.metrics import accuracy_score, r2_score\n",
    "from scipy.spatial.distance import pdist, squareform\n",
    "from sklearn.ensemble import HistGradientBoostingRegressor\n",
    "from scipy.cluster.hierarchy import dendrogram, linkage, fcluster\n",
    "from flask import Flask, request, render_template, session, url_for, redirect\n",
    "from sklearn.preprocessing import (\n",
    "    MaxAbsScaler,\n",
    "    MinMaxScaler,\n",
    "    Normalizer,\n",
    "    PowerTransformer,\n",
    "    QuantileTransformer,\n",
    "    RobustScaler,\n",
    "    StandardScaler,\n",
    "    minmax_scale,\n",
    ")\n",
    "from sklearn.preprocessing import OneHotEncoder, OrdinalEncoder, TargetEncoder"
   ]
  },
  {
   "cell_type": "markdown",
   "metadata": {},
   "source": [
    "#### chargement des datasets de type TSV"
   ]
  },
  {
   "cell_type": "code",
   "execution_count": 2,
   "metadata": {},
   "outputs": [
    {
     "name": "stdout",
     "output_type": "stream",
     "text": [
      "\n",
      " fichiers:\n",
      "['https://datasets.imdbws.com/name.basics.tsv.gz', 'https://datasets.imdbws.com/title.akas.tsv.gz', 'https://datasets.imdbws.com/title.basics.tsv.gz', 'https://datasets.imdbws.com/title.crew.tsv.gz', 'https://datasets.imdbws.com/title.episode.tsv.gz', 'https://datasets.imdbws.com/title.principals.tsv.gz', 'https://datasets.imdbws.com/title.ratings.tsv.gz'] \n",
      "\n"
     ]
    }
   ],
   "source": [
    "# scrapping des noms des fichiers\n",
    "url = \"https://datasets.imdbws.com/\"\n",
    "\n",
    "# contournement d'éventuels protection anti-scrapping\n",
    "navigator = \"Mozilla/5.0 (Windows NT 10.0; Win64; x64) AppleWebKit/537.36 (KHTML, like Gecko) Chrome/58.0.3029.110 Safari/537.3\"\n",
    "\n",
    "response = requests.get(url, headers={\"User-Agent\": navigator})\n",
    "# response = requests.get(url)\n",
    "soup = BeautifulSoup(response.text, \"html.parser\")\n",
    "\n",
    "# Trouver tous les liens sur la page\n",
    "liens = soup.find_all(\"a\")\n",
    "\n",
    "# création de la liste des fichiers\n",
    "fichiers = []\n",
    "for lien in liens:\n",
    "    #  choisir uniquement les liens de type href\n",
    "    nom_fichier = lien.get(\"href\")\n",
    "    #  choisir uniquement les liens se terminant par .tsv.gz\n",
    "    if nom_fichier.endswith(\".tsv.gz\"):\n",
    "        # print(nom_fichier)\n",
    "        fichiers.append(nom_fichier)\n",
    "print(f\"\\n fichiers:\\n{fichiers} \\n\")\n",
    "\n",
    "# Liste des noms de fichiers à télécharger\n",
    "# fichiers = ['title.principals.tsv.gz',\n",
    "#             'title.akas.tsv.gz',\n",
    "#             'name.basics.tsv.gz',\n",
    "#             'title.basics.tsv.gz',\n",
    "#             'title.crew.tsv.gz',\n",
    "#             'title.episode.tsv.gz',\n",
    "#             'title.ratings.tsv.gz' ]"
   ]
  },
  {
   "cell_type": "code",
   "execution_count": null,
   "metadata": {},
   "outputs": [],
   "source": [
    "# Création du dictionnaire pour stocker les DataFrames\n",
    "dfs = {}\n",
    "liste_noms_df=[]\n",
    "\n",
    "for fichier in fichiers:\n",
    "    # url = f'https://datasets.imdbws.com/{fichier}'\n",
    "    response = requests.get(fichier)\n",
    "    gzip_file = gzip.open(io.BytesIO(response.content), \"rt\", encoding=\"utf-8\")\n",
    "    df = pd.read_csv(gzip_file, sep=\"\\t\", low_memory=False)\n",
    "    # Chaque DataFrame porte le nom du fichier sans l'extension\n",
    "    nom_sans_extension = os.path.splitext(os.path.basename(fichier))[0]\n",
    "    # Suppression du tz et remplacement des . par des _\n",
    "    nom_sans_extension = os.path.splitext(nom_sans_extension)[0].replace(\".\", \"_\")\n",
    "    dfs[nom_sans_extension] = df\n",
    "    liste_noms_df.append(nom_sans_extension)\n",
    "    print(f\"\\nNom du DataFrame : {nom_sans_extension}\")\n",
    "\n",
    "# séparation des df du dico dfs afin qu'il soient tous séparés\n",
    "for nom_df in dfs:\n",
    "    df = dfs[nom_df].apply(pd.Series)\n",
    "    print(f\"\\nDataFrame {nom_df} :\\n{df.shape}\")"
   ]
  },
  {
   "cell_type": "markdown",
   "metadata": {},
   "source": [
    "### Echantillonnage"
   ]
  },
  {
   "cell_type": "code",
   "execution_count": 28,
   "metadata": {},
   "outputs": [
    {
     "name": "stdout",
     "output_type": "stream",
     "text": [
      "\n",
      " liste_noms_df: ['name_basics', 'title_akas', 'title_basics', 'title_crew', 'title_episode', 'title_principals', 'title_ratings'] \n",
      "\n",
      "\n",
      "             tconst  averageRating  numVotes\n",
      "0        tt0000001            5.7      2014\n",
      "1        tt0000002            5.7       272\n",
      "2        tt0000003            6.5      1938\n",
      "3        tt0000004            5.4       179\n",
      "4        tt0000005            6.2      2710\n",
      "...            ...            ...       ...\n",
      "1387445  tt9916730            7.6        11\n",
      "1387446  tt9916766            7.1        23\n",
      "1387447  tt9916778            7.2        36\n",
      "1387448  tt9916840            8.8         6\n",
      "1387449  tt9916880            8.2         6\n",
      "\n",
      "[1387450 rows x 3 columns] :\n",
      "       tconst  averageRating  numVotes\n",
      "0   tt0000001            5.7      2014\n",
      "1   tt0000002            5.7       272\n",
      "2   tt0000003            6.5      1938\n",
      "3   tt0000004            5.4       179\n",
      "4   tt0000005            6.2      2710\n",
      "..        ...            ...       ...\n",
      "95  tt0000097            4.9        34\n",
      "96  tt0000098            5.2        37\n",
      "97  tt0000099            4.6        33\n",
      "98  tt0000100            4.8        58\n",
      "99  tt0000101            4.5        29\n",
      "\n",
      "[100 rows x 3 columns] \n",
      "\n"
     ]
    }
   ],
   "source": [
    "# df = dfs[\"title_principals\"]\n",
    "print(f\"\\n liste_noms_df: {liste_noms_df} \\n\")\n",
    "\n",
    "print(f\"\\n {title_ratings} :\\n{title_ratings.head(100)} \\n\")"
   ]
  },
  {
   "cell_type": "code",
   "execution_count": 32,
   "metadata": {},
   "outputs": [
    {
     "data": {
      "text/plain": [
       "array(['UA', 'DE', 'HU', 'GR', 'RU', 'US', '\\\\N', 'JP', 'FR', 'RO', 'GB',\n",
       "       'CA', 'PT', 'AU', 'ES', 'FI', 'PL', 'AR', 'RS', 'UY', 'IT', 'BR',\n",
       "       'DK', 'TR', 'XWW', 'XEU', 'SK', 'CZ', 'SE', 'NZ', 'KZ', 'MX', 'NO',\n",
       "       'XYU', 'AT', 'VE', 'CSHH', 'SI', 'SUHH', 'IN', 'CN', 'LT', 'TW',\n",
       "       'NL', 'HR', 'CO', 'IR', 'BG', 'SG', 'BE', 'VN', 'PH', 'DZ', 'CH',\n",
       "       'BF', 'EC', 'XWG', 'HK', 'XSA', 'EE', 'IS', 'PR', 'DDDE', 'IL',\n",
       "       'EG', 'XKO', 'CL', 'IE', 'JM', 'KR', 'PE', 'GE', 'BY', 'BA', 'DO',\n",
       "       'AE', 'PA', 'TH', 'ZA', 'TJ', 'XSI', 'MY', 'LV', 'ID', 'PK', 'BD',\n",
       "       'CU', 'AL', 'BO', 'XAS', 'CR', 'PY', 'GT', 'SV', 'KP', 'UZ',\n",
       "       'BUMM', 'MM', 'YUCS', 'XPI', 'BJ', 'AZ', 'NG', 'CM', 'MA', 'GL',\n",
       "       'MN', 'LI', 'LU', 'MZ', 'MK', 'BM', 'MD', 'ME', 'LB', 'IQ', 'TM',\n",
       "       'TN', 'HT', 'AM', 'LK', 'CG', 'CI', 'SY', 'NP', 'QA', 'TO', 'SN',\n",
       "       'GH', 'JO', 'KG', 'NE', 'GN', 'VDVN', 'TD', 'SO', 'SD', 'MC', 'TT',\n",
       "       'GA', 'BS', 'LY', 'AO', 'KH', 'MR', 'AF', 'MG', 'ML', 'GY', 'CY',\n",
       "       'ET', 'GU', 'SR', 'MT', 'TG', 'PG', 'MU', 'BI', 'CF', 'NI', 'ZW',\n",
       "       'ZM', 'GW', 'DJ', 'RW', 'TZ', 'GI', 'LA', 'SC', 'GP', 'XAU', 'FO',\n",
       "       'PS', 'ZRCD', 'MO', 'AW', 'KW', 'CV', 'SL', 'SM', 'CD', 'BT', 'LS',\n",
       "       'HN', 'KE', 'MQ', 'AD', 'ER', nan, 'SA', 'CSXX', 'IM', 'XKV', 'BH',\n",
       "       'BB', 'BZ', 'UG', 'AG', 'NU', 'OM', 'BW', 'LR', 'AN', 'MV', 'YE',\n",
       "       'GM', 'KY', 'NC', 'DM', 'TL', 'MP', 'VA', 'GQ', 'FJ', 'SZ', 'RE',\n",
       "       'EH', 'PF', 'VG', 'LC', 'MW', 'BN', 'ST', 'KM', 'FM', 'AI', 'GD',\n",
       "       'VI', 'SB', 'GF', 'AQ', 'MH', 'CW', 'WS', 'VC', 'AS', 'XNA', 'MS',\n",
       "       'VU', 'SH', 'KI', 'KN', 'CC', 'TC', 'TV', 'CK', 'PW', 'NR', 'JE'],\n",
       "      dtype=object)"
      ]
     },
     "execution_count": 32,
     "metadata": {},
     "output_type": "execute_result"
    }
   ],
   "source": [
    "title_akas['region'].unique()"
   ]
  },
  {
   "cell_type": "code",
   "execution_count": 36,
   "metadata": {},
   "outputs": [
    {
     "name": "stdout",
     "output_type": "stream",
     "text": [
      "\n",
      " title_akas: (4610251, 8) \n"
     ]
    }
   ],
   "source": [
    "#  Traitement du df \"title_akas\"\n",
    "# on ne filtre que les films francais\n",
    "filtre_fr = title_akas['region'] == \"FR\"\n",
    "title_akas_fr = title_akas[filtre_fr]\n",
    "print(f\"\\n title_akas: {title_akas_fr.shape} \")"
   ]
  },
  {
   "cell_type": "code",
   "execution_count": null,
   "metadata": {},
   "outputs": [],
   "source": [
    "# remplacement de la colonne index par titleId\n",
    "title_akas_fr.reset_index(drop=True, inplace=True)\n",
    "title_akas_fr.set_index(\"titlesId\", inplace=True)\n",
    "print(f\"\\n title_akas: {title_akas_fr.info} \")"
   ]
  },
  {
   "cell_type": "code",
   "execution_count": 39,
   "metadata": {},
   "outputs": [
    {
     "name": "stdout",
     "output_type": "stream",
     "text": [
      "\n",
      " title_akas: (4610251, 4) \n"
     ]
    },
    {
     "name": "stderr",
     "output_type": "stream",
     "text": [
      "C:\\Users\\romar\\AppData\\Local\\Temp\\ipykernel_32000\\510341100.py:2: SettingWithCopyWarning: \n",
      "A value is trying to be set on a copy of a slice from a DataFrame\n",
      "\n",
      "See the caveats in the documentation: https://pandas.pydata.org/pandas-docs/stable/user_guide/indexing.html#returning-a-view-versus-a-copy\n",
      "  title_akas_fr.drop(columns=[\"language\", \"ordering\",\n"
     ]
    }
   ],
   "source": [
    "# plutot que de supprimer des colonnes il est preferable de garder celles qui nous interessent car  les BDD du site imdb sont mises à jour quotidiennement et peuvent changer de type ou de nom ['titleId', 'ordering', 'title', 'region', 'language', 'types', 'attributes', 'isOriginalTitle']`\n",
    "# on garde les  colonnes suivantes ['titleId', 'title', 'region', 'types']`\n",
    "title_akas_fr.drop(columns=[\"language\", \"ordering\",\n",
    "                   \"attributes\", \"isOriginalTitle\"], inplace=True)\n",
    "\n",
    "print(f\"\\n title_akas: {title_akas_fr.shape} \")"
   ]
  },
  {
   "cell_type": "code",
   "execution_count": 42,
   "metadata": {},
   "outputs": [
    {
     "data": {
      "text/plain": [
       "['imdbDisplay',\n",
       " 'alternative',\n",
       " '\\\\N',\n",
       " 'tv',\n",
       " 'video',\n",
       " 'dvd',\n",
       " 'working',\n",
       " 'festival']"
      ]
     },
     "execution_count": 42,
     "metadata": {},
     "output_type": "execute_result"
    }
   ],
   "source": [
    "types_film=title_akas_fr[\"types\"].unique().tolist()\n",
    "types_film"
   ]
  },
  {
   "cell_type": "code",
   "execution_count": null,
   "metadata": {},
   "outputs": [],
   "source": [
    "# pour travailler sur du bigdata on peut prendre un échantillon des datasets\n",
    "# df_sample =df.samples(n=20000, random_state=1)\n",
    "\n",
    "#  autre possibilite en passant par un chunk\n",
    "# n = 200000 # taille des chunks\n",
    "# list_df = [df[i:i+n] for i in range(0, df.shape[0], n)]\n",
    "# Dans les deux cas, list_df est une liste de DataFrames. Vous pouvez accéder à chaque chunk avec list_df[0], list_df[1], etc.\n",
    "# Réassembler les chunks : Si vous voulez réassembler les chunks en un seul DataFrame, vous pouvez utiliser pd.concat\n",
    "# df = pd.concat(list_df)"
   ]
  },
  {
   "cell_type": "code",
   "execution_count": 94,
   "metadata": {},
   "outputs": [],
   "source": [
    "# sauvegarde des datafdrames sur le disque au format csv\n",
    "# for nom, df in dfs.items():\n",
    "#     df.to_csv(f\"data_csv/{nom}.csv\", index=False)"
   ]
  },
  {
   "cell_type": "code",
   "execution_count": 5,
   "metadata": {},
   "outputs": [
    {
     "name": "stdout",
     "output_type": "stream",
     "text": [
      "name_basics \n",
      "title_akas \n",
      "title_basics \n",
      "title_crew \n",
      "title_episode \n",
      "title_principals \n",
      "title_ratings \n"
     ]
    }
   ],
   "source": [
    "# liste des datafdrames\n",
    "for df in dfs:\n",
    "    print(f\"{df} \")"
   ]
  },
  {
   "cell_type": "code",
   "execution_count": 7,
   "metadata": {},
   "outputs": [
    {
     "name": "stdout",
     "output_type": "stream",
     "text": [
      "\n",
      "df :name_basics \n",
      "shape: (13149959, 6) - list columns :['nconst', 'primaryName', 'birthYear', 'deathYear', 'primaryProfession', 'knownForTitles'] \n",
      "liste des colonnes numeriques: [] \n",
      "liste des colonnes non numeriques: ['nconst', 'primaryName', 'birthYear', 'deathYear', 'primaryProfession', 'knownForTitles'] \n",
      "Colonne avec des na :\n",
      "nconst                     0\n",
      "primaryName                7\n",
      "birthYear                  0\n",
      "deathYear                  0\n",
      "primaryProfession    2631479\n",
      "knownForTitles             0\n",
      "dtype: int64\n",
      "\n",
      "df :title_akas \n",
      "shape: (38367336, 8) - list columns :['titleId', 'ordering', 'title', 'region', 'language', 'types', 'attributes', 'isOriginalTitle'] \n",
      "liste des colonnes numeriques: ['ordering'] \n",
      "liste des colonnes non numeriques: ['titleId', 'title', 'region', 'language', 'types', 'attributes', 'isOriginalTitle'] \n",
      "Colonne avec des na :\n",
      "titleId              0\n",
      "ordering             0\n",
      "title               18\n",
      "region             117\n",
      "language             0\n",
      "types                0\n",
      "attributes           0\n",
      "isOriginalTitle      0\n",
      "dtype: int64\n",
      "\n",
      "df :title_basics \n",
      "shape: (10455620, 9) - list columns :['tconst', 'titleType', 'primaryTitle', 'originalTitle', 'isAdult', 'startYear', 'endYear', 'runtimeMinutes', 'genres'] \n",
      "liste des colonnes numeriques: [] \n",
      "liste des colonnes non numeriques: ['tconst', 'titleType', 'primaryTitle', 'originalTitle', 'isAdult', 'startYear', 'endYear', 'runtimeMinutes', 'genres'] \n",
      "Colonne avec des na :\n",
      "tconst             0\n",
      "titleType          0\n",
      "primaryTitle      17\n",
      "originalTitle     17\n",
      "isAdult            0\n",
      "startYear          0\n",
      "endYear            0\n",
      "runtimeMinutes     0\n",
      "genres            18\n",
      "dtype: int64\n",
      "\n",
      "df :title_crew \n",
      "shape: (10455620, 3) - list columns :['tconst', 'directors', 'writers'] \n",
      "liste des colonnes numeriques: [] \n",
      "liste des colonnes non numeriques: ['tconst', 'directors', 'writers'] \n",
      "Colonne avec des na :\n",
      "tconst       0\n",
      "directors    0\n",
      "writers      0\n",
      "dtype: int64\n",
      "\n",
      "df :title_episode \n",
      "shape: (7989109, 4) - list columns :['tconst', 'parentTconst', 'seasonNumber', 'episodeNumber'] \n",
      "liste des colonnes numeriques: [] \n",
      "liste des colonnes non numeriques: ['tconst', 'parentTconst', 'seasonNumber', 'episodeNumber'] \n",
      "Colonne avec des na :\n",
      "tconst           0\n",
      "parentTconst     0\n",
      "seasonNumber     0\n",
      "episodeNumber    0\n",
      "dtype: int64\n",
      "\n",
      "df :title_principals \n",
      "shape: (59926958, 6) - list columns :['tconst', 'ordering', 'nconst', 'category', 'job', 'characters'] \n",
      "liste des colonnes numeriques: ['ordering'] \n",
      "liste des colonnes non numeriques: ['tconst', 'nconst', 'category', 'job', 'characters'] \n",
      "Colonne avec des na :\n",
      "tconst        0\n",
      "ordering      0\n",
      "nconst        0\n",
      "category      0\n",
      "job           0\n",
      "characters    0\n",
      "dtype: int64\n",
      "\n",
      "df :title_ratings \n",
      "shape: (1386928, 3) - list columns :['tconst', 'averageRating', 'numVotes'] \n",
      "liste des colonnes numeriques: ['averageRating', 'numVotes'] \n",
      "liste des colonnes non numeriques: ['tconst'] \n",
      "Colonne avec des na :\n",
      "tconst           0\n",
      "averageRating    0\n",
      "numVotes         0\n",
      "dtype: int64\n"
     ]
    }
   ],
   "source": [
    "# Résumé des informations des dataframes\n",
    "for df in dfs:\n",
    "    print(f\"\\ndf :{df} \")\n",
    "    your_dataframe = dfs[df]\n",
    "    print(f\"shape: {your_dataframe.shape} - list columns :{your_dataframe.columns.tolist()} \\nliste des colonnes numeriques: {your_dataframe.select_dtypes(include=[np.number]).columns.tolist(\n",
    "    )} \\nliste des colonnes non numeriques: {your_dataframe.select_dtypes(exclude=[np.number]).columns.tolist()} \\nColonne avec des na :\\n{your_dataframe.isna().sum()}\")\n",
    "    # print(f\"Noms des colonnes avec au moins une valeur NA : {your_dataframe.columns[your_dataframe.isna().any()].tolist()}\")\n",
    "    # print(f\"Nombre de lignes avec au moins une valeur NA : {your_dataframe.isna().any(axis=1).sum()}\")\n",
    "    # print(f\"head : \\n{your_dataframe.head(2)}\")"
   ]
  },
  {
   "cell_type": "code",
   "execution_count": 8,
   "metadata": {},
   "outputs": [
    {
     "name": "stdout",
     "output_type": "stream",
     "text": [
      "\n",
      "df :name_basics \n",
      "shape: (13149959, 6)\n",
      "list columns :['nconst', 'primaryName', 'birthYear', 'deathYear', 'primaryProfession', 'knownForTitles'] \n",
      "liste des colonnes numeriques: [] \n",
      "liste des colonnes non numeriques: ['nconst', 'primaryName', 'birthYear', 'deathYear', 'primaryProfession', 'knownForTitles']\n",
      "\n",
      "df :title_akas \n",
      "shape: (38367336, 8)\n",
      "list columns :['titleId', 'ordering', 'title', 'region', 'language', 'types', 'attributes', 'isOriginalTitle'] \n",
      "liste des colonnes numeriques: ['ordering'] \n",
      "liste des colonnes non numeriques: ['titleId', 'title', 'region', 'language', 'types', 'attributes', 'isOriginalTitle']\n",
      "\n",
      "df :title_basics \n",
      "shape: (10455620, 9)\n",
      "list columns :['tconst', 'titleType', 'primaryTitle', 'originalTitle', 'isAdult', 'startYear', 'endYear', 'runtimeMinutes', 'genres'] \n",
      "liste des colonnes numeriques: [] \n",
      "liste des colonnes non numeriques: ['tconst', 'titleType', 'primaryTitle', 'originalTitle', 'isAdult', 'startYear', 'endYear', 'runtimeMinutes', 'genres']\n",
      "\n",
      "df :title_crew \n",
      "shape: (10455620, 3)\n",
      "list columns :['tconst', 'directors', 'writers'] \n",
      "liste des colonnes numeriques: [] \n",
      "liste des colonnes non numeriques: ['tconst', 'directors', 'writers']\n",
      "\n",
      "df :title_episode \n",
      "shape: (7989109, 4)\n",
      "list columns :['tconst', 'parentTconst', 'seasonNumber', 'episodeNumber'] \n",
      "liste des colonnes numeriques: [] \n",
      "liste des colonnes non numeriques: ['tconst', 'parentTconst', 'seasonNumber', 'episodeNumber']\n",
      "\n",
      "df :title_principals \n",
      "shape: (59926958, 6)\n",
      "list columns :['tconst', 'ordering', 'nconst', 'category', 'job', 'characters'] \n",
      "liste des colonnes numeriques: ['ordering'] \n",
      "liste des colonnes non numeriques: ['tconst', 'nconst', 'category', 'job', 'characters']\n",
      "\n",
      "df :title_ratings \n",
      "shape: (1386928, 3)\n",
      "list columns :['tconst', 'averageRating', 'numVotes'] \n",
      "liste des colonnes numeriques: ['averageRating', 'numVotes'] \n",
      "liste des colonnes non numeriques: ['tconst']\n"
     ]
    }
   ],
   "source": [
    "for df in dfs:\n",
    "    print(f\"\\ndf :{df} \")\n",
    "    your_dataframe = dfs[df]\n",
    "    print(f\"shape: {your_dataframe.shape}\\nlist columns :{your_dataframe.columns.tolist()} \\nliste des colonnes numeriques: {your_dataframe.select_dtypes(include=[\n",
    "          np.number]).columns.tolist()} \\nliste des colonnes non numeriques: {your_dataframe.select_dtypes(exclude=[np.number]).columns.tolist()}\")"
   ]
  },
  {
   "cell_type": "markdown",
   "metadata": {},
   "source": [
    "### Preprocessing dataframes"
   ]
  },
  {
   "cell_type": "code",
   "execution_count": 54,
   "metadata": {},
   "outputs": [],
   "source": [
    "# # création d'un fichier de synthése des dataframes au format markdown\n",
    "# import datetime\n",
    "\n",
    "# # date et heure actuelles\n",
    "# now = datetime.datetime.now()\n",
    "# # Formatage date et heure au format 2024-01-01-9h30\n",
    "# date_time = now.strftime(\"%Y-%m-%d-%Hh%M\")\n",
    "# # Ajouter la date et l'heure au nom du fichier\n",
    "# filename = f\"synthése_dataframes_{date_time}.md\"\n",
    "# with open(filename, \"w\", encoding=\"utf-8\") as f:\n",
    "#     for df in dfs:\n",
    "#         your_dataframe = dfs[df]\n",
    "#         f.write(f\"\\n## DataFrame : {df}\\n\")\n",
    "#         f.write(f\"- **Shape** : `{your_dataframe.shape}`\\n\")\n",
    "#         f.write(\n",
    "#             f\"- **Liste des colonnes** : `{your_dataframe.columns.tolist()}`\\n\")\n",
    "#         f.write(\n",
    "#             f\"- **Liste des colonnes numériques** : `{\n",
    "#                 your_dataframe.select_dtypes(include=[np.number]).columns.tolist()}`\\n\"\n",
    "#         )\n",
    "#         f.write(\n",
    "#             f\"- **Liste des colonnes non numériques** : `{\n",
    "#                 your_dataframe.select_dtypes(exclude=[np.number]).columns.tolist()}`\\n\"\n",
    "#         )\n",
    "#         f.write(\n",
    "#             f\"- **Colonnes avec des NA** :\\n```\\n{\n",
    "#                 your_dataframe.isna().sum()}\\n```\\n\"\n",
    "#         )\n",
    "#         f.write(\n",
    "#             f\"- **Noms des colonnes avec au moins une valeur NA** : `{\n",
    "#                 your_dataframe.columns[your_dataframe.isna().any()].tolist()}`\\n\"\n",
    "#         )\n",
    "#         f.write(\n",
    "#             f\"- **Nombre de lignes avec au moins une valeur NA** : `{\n",
    "#                 your_dataframe.isna().any(axis=1).sum()}`\\n\"\n",
    "#         )\n",
    "#         headers = \" | \".join(your_dataframe.columns.tolist())\n",
    "#         # Obtenir les lignes\n",
    "#         rows = [\" | \".join(row)\n",
    "#                 for row in your_dataframe.head(2).astype(str).values]\n",
    "#         # Écrire les en-têtes et les lignes dans le fichier\n",
    "#         f.write(f\"- **head** :\\n```\\n{headers}\\n{'\\n'.join(rows)}\\n```\\n\")"
   ]
  },
  {
   "cell_type": "markdown",
   "metadata": {},
   "source": [
    "### Suite Analyse du fichier de synthése, choix des colonnes\n",
    "les colonnes les plus interessantes pour faire des recommendations de films sont:\n",
    "\n",
    "Ratings : averageRating dans title_ratings pour recommander les films les mieux notés.\n",
    "\n",
    "Popularité : numVotes dans title_ratings \n",
    "\n",
    "Métadonnées du film : genres, startYear, etc. pour recommander des films similaires à ceux que l’utilisateur a aimés par le passé.\n",
    "\n",
    "Collaborations : title_crew et name_basics, pour recommander des films basés sur les réalisateurs, les scénaristes ou les acteurs "
   ]
  },
  {
   "cell_type": "markdown",
   "metadata": {},
   "source": [
    "### Nous allons garder les colonnes suivantes:\n",
    "\n",
    "1. **name_basics** : \n",
    "    - `nconst` : \n",
    "    - `primaryName` : Le nom de la personne peut être utile pour identifier les acteurs, réalisateurs, etc. que l'utilisateur aime.\n",
    "    - `primaryProfession` : La profession principale peut aider à identifier si la personne est un acteur, un réalisateur, etc.\n",
    "    - `knownForTitles` : Les titres pour lesquels la personne est connue peuvent aider à identifier les films populaires.\n",
    "\n",
    "2. **title_akas** :\n",
    "    - `titleId` \n",
    "    - `title` \n",
    "    - `region` \n",
    "3. **title_basics** :\n",
    "    - `tconst` : Identifiant unique du film, utile pour relier les différents datasets.\n",
    "    - `primaryTitle` et `originalTitle` \n",
    "    - `startYear` \n",
    "    - `genres` \n",
    "4. **title_crew** :\n",
    "    - `tconst` : Identifiant unique du film, utile pour relier les différents datasets.\n",
    "    - `directors` et `writers` : Les réalisateurs et les scénaristes \n",
    "5. **title_principals** :\n",
    "    - `tconst` : Identifiant unique du film, utile pour relier les différents datasets.\n",
    "    - `nconst` : Identifiant unique de la personne, utile pour relier les personnes aux films.\n",
    "    - `category` : La catégorie (par exemple, acteur, réalisateur)\n",
    "6. **title_ratings** :\n",
    "    - `tconst` : Identifiant unique du film, utile pour relier les différents datasets.\n",
    "    - `averageRating` et `numVotes` : La note moyenne et le nombre de votes \n"
   ]
  },
  {
   "cell_type": "code",
   "execution_count": 6,
   "metadata": {},
   "outputs": [
    {
     "name": "stdout",
     "output_type": "stream",
     "text": [
      "name_basics \n",
      ":['nconst', 'primaryName', 'primaryProfession', 'knownForTitles']\n",
      "title_akas \n",
      ":['titleId', 'title', 'region']\n",
      "title_basics \n",
      ":['tconst', 'primaryTitle', 'originalTitle', 'startYear', 'genres']\n",
      "title_crew \n",
      ":['tconst', 'directors', 'writers']\n",
      "title_episode \n",
      ":['tconst', 'episodeNumber', 'seasonNumber']\n",
      "title_principals \n",
      ":['tconst', 'nconst', 'category']\n",
      "title_ratings \n",
      ":['tconst', 'averageRating', 'numVotes']\n"
     ]
    }
   ],
   "source": [
    "# Création d'un nouveau dataframe Liste des colonnes à conserver\n",
    "import pandas as pd\n",
    "\n",
    "cols_to_keep = {\n",
    "    \"name_basics\": [\"nconst\", \"primaryName\", \"primaryProfession\", \"knownForTitles\"],\n",
    "    \"title_akas\": [\"titleId\", \"title\", \"region\"],\n",
    "    \"title_basics\": [\"tconst\", \"primaryTitle\", \"originalTitle\", \"startYear\", \"genres\"],\n",
    "    \"title_crew\": [\"tconst\", \"directors\", \"writers\"],\n",
    "    \"title_episode\": [\"tconst\", \"episodeNumber\", \"seasonNumber\"],\n",
    "    \"title_principals\": [\"tconst\", \"nconst\", \"category\"],\n",
    "    \"title_ratings\": [\"tconst\", \"averageRating\", \"numVotes\"],\n",
    "}\n",
    "\n",
    "\n",
    "# Création du nouveau dataset\n",
    "# Création du nouveau dataset\n",
    "dfsd_light = {}\n",
    "for k, v in cols_to_keep.items():\n",
    "    print(f\"{k} \")\n",
    "    print(f\":{v}\")\n",
    "    dfsd_light[k] = dfs[k][v]"
   ]
  },
  {
   "cell_type": "code",
   "execution_count": null,
   "metadata": {},
   "outputs": [],
   "source": [
    "# dfs_light_df = pd.DataFrame(dfs_light_df)"
   ]
  },
  {
   "cell_type": "code",
   "execution_count": 71,
   "metadata": {},
   "outputs": [
    {
     "name": "stdout",
     "output_type": "stream",
     "text": [
      "\n",
      "df :name_basics \n",
      "shape: (13149959, 6)\n",
      "list columns :['nconst', 'primaryName', 'birthYear', 'deathYear', 'primaryProfession', 'knownForTitles'] \n",
      "liste des colonnes numeriques: [] \n",
      "liste des colonnes non numeriques: ['nconst', 'primaryName', 'birthYear', 'deathYear', 'primaryProfession', 'knownForTitles']\n",
      "\n",
      "df :title_akas \n",
      "shape: (38367336, 8)\n",
      "list columns :['titleId', 'ordering', 'title', 'region', 'language', 'types', 'attributes', 'isOriginalTitle'] \n",
      "liste des colonnes numeriques: ['ordering'] \n",
      "liste des colonnes non numeriques: ['titleId', 'title', 'region', 'language', 'types', 'attributes', 'isOriginalTitle']\n",
      "\n",
      "df :title_basics \n",
      "shape: (10455620, 9)\n",
      "list columns :['tconst', 'titleType', 'primaryTitle', 'originalTitle', 'isAdult', 'startYear', 'endYear', 'runtimeMinutes', 'genres'] \n",
      "liste des colonnes numeriques: [] \n",
      "liste des colonnes non numeriques: ['tconst', 'titleType', 'primaryTitle', 'originalTitle', 'isAdult', 'startYear', 'endYear', 'runtimeMinutes', 'genres']\n",
      "\n",
      "df :title_crew \n",
      "shape: (10455620, 3)\n",
      "list columns :['tconst', 'directors', 'writers'] \n",
      "liste des colonnes numeriques: [] \n",
      "liste des colonnes non numeriques: ['tconst', 'directors', 'writers']\n",
      "\n",
      "df :title_episode \n",
      "shape: (7989109, 4)\n",
      "list columns :['tconst', 'parentTconst', 'seasonNumber', 'episodeNumber'] \n",
      "liste des colonnes numeriques: [] \n",
      "liste des colonnes non numeriques: ['tconst', 'parentTconst', 'seasonNumber', 'episodeNumber']\n",
      "\n",
      "df :title_principals \n",
      "shape: (59926958, 6)\n",
      "list columns :['tconst', 'ordering', 'nconst', 'category', 'job', 'characters'] \n",
      "liste des colonnes numeriques: ['ordering'] \n",
      "liste des colonnes non numeriques: ['tconst', 'nconst', 'category', 'job', 'characters']\n",
      "\n",
      "df :title_ratings \n",
      "shape: (1386928, 3)\n",
      "list columns :['tconst', 'averageRating', 'numVotes'] \n",
      "liste des colonnes numeriques: ['averageRating', 'numVotes'] \n",
      "liste des colonnes non numeriques: ['tconst']\n"
     ]
    }
   ],
   "source": [
    "# controle des noms de colonnes\n",
    "for df in dfsd_light:\n",
    "    print(f\"\\ndf :{df} \")\n",
    "    your_dataframe = dfs[df]\n",
    "    print(f\"shape: {your_dataframe.shape}\\nlist columns :{your_dataframe.columns.tolist()} \\nliste des colonnes numeriques: {your_dataframe.select_dtypes(include=[\n",
    "          np.number]).columns.tolist()} \\nliste des colonnes non numeriques: {your_dataframe.select_dtypes(exclude=[np.number]).columns.tolist()}\")"
   ]
  },
  {
   "cell_type": "code",
   "execution_count": 7,
   "metadata": {},
   "outputs": [],
   "source": [
    "# Créez une copie explicite de votre DataFrame\n",
    "df_sauve = dfsd_light[\"name_basics\"].copy()\n",
    "df = df_sauve.copy()"
   ]
  },
  {
   "cell_type": "code",
   "execution_count": 8,
   "metadata": {},
   "outputs": [],
   "source": [
    "# Séparez les titres dans 'knownForTitles'\n",
    "df[\"knownForTitles\"] = df[\"knownForTitles\"].str.split(\",\")"
   ]
  },
  {
   "cell_type": "code",
   "execution_count": 9,
   "metadata": {},
   "outputs": [],
   "source": [
    "# Exploser la colonne 'knownForTitles' et la renommer en 'tconst'\n",
    "df = df.explode(\"knownForTitles\").rename(columns={\"knownForTitles\": \"tconst\"})"
   ]
  },
  {
   "cell_type": "code",
   "execution_count": 10,
   "metadata": {},
   "outputs": [],
   "source": [
    "# Remplacer les '\\n' par des valeurs vides\n",
    "df[\"tconst\"] = df[\"tconst\"].str.replace(\"\\\\N\", \"\")"
   ]
  },
  {
   "cell_type": "code",
   "execution_count": 11,
   "metadata": {},
   "outputs": [],
   "source": [
    "dfsd_light[\"name_basics\"] = df\n",
    "dfsd_light[\"name_basics\"][\"tconst\"] = dfsd_light[\"name_basics\"][\"tconst\"].str.replace(\n",
    "    \"\\\\N\", \"\"\n",
    ")"
   ]
  },
  {
   "cell_type": "code",
   "execution_count": 12,
   "metadata": {},
   "outputs": [
    {
     "name": "stdout",
     "output_type": "stream",
     "text": [
      "\n",
      "shape: (23010421, 4) \n",
      "list columns :\n",
      "['nconst', 'primaryName', 'primaryProfession', 'tconst'] \n",
      "liste des colonnes numeriques: \n",
      "[]\n",
      "\n",
      "liste des colonnes non numeriques: \n",
      "['nconst', 'primaryName', 'primaryProfession', 'tconst'] \n",
      "Noms des colonnes avec au moins une valeur NA : ['primaryName', 'primaryProfession']\n",
      "Nombre de lignes avec au moins une valeur NA : 3061205\n",
      "Colonne avec des na :nconst                     0\n",
      "primaryName               10\n",
      "primaryProfession    3061196\n",
      "tconst                     0\n",
      "dtype: int64 \n",
      "\n",
      "\n",
      "df head :\n",
      "      nconst   primaryName               primaryProfession     tconst\n",
      "0  nm0000001  Fred Astaire  soundtrack,actor,miscellaneous  tt0050419\n",
      "0  nm0000001  Fred Astaire  soundtrack,actor,miscellaneous  tt0072308 \n",
      "\n",
      "\n",
      "df describe :\n",
      "           nconst  primaryName primaryProfession    tconst\n",
      "count    23010421     23010411          19949225  23010421\n",
      "unique   13153024     10154062             21649   1949805\n",
      "top     nm5907173  David Smith             actor          \n",
      "freq            6          599           3679670   1474751 \n",
      "\n"
     ]
    }
   ],
   "source": [
    "dfsd_light[\"name_basics\"]\n",
    "# Résumé des informations du dataframe\n",
    "your_dataframe = dfsd_light[\"name_basics\"]\n",
    "print(f\"\\nshape: {your_dataframe.shape} \\nlist columns :\\n{\n",
    "      your_dataframe.columns.tolist()} \")\n",
    "print(f\"liste des colonnes numeriques: \\n{\n",
    "      your_dataframe.select_dtypes(include=[np.number]).columns.tolist()}\\n\")\n",
    "print(f\"liste des colonnes non numeriques: \\n{\n",
    "      your_dataframe.select_dtypes(exclude=[np.number]).columns.tolist()} \")\n",
    "print(f\"Noms des colonnes avec au moins une valeur NA : {\n",
    "      your_dataframe.columns[your_dataframe.isna().any()].tolist()}\")\n",
    "print(f\"Nombre de lignes avec au moins une valeur NA : {\n",
    "      your_dataframe.isna().any(axis=1).sum()}\")\n",
    "print(f\"Colonne avec des na :{your_dataframe.isna().sum()} \\n\")\n",
    "print(f\"\\ndf head :\\n{your_dataframe.head(2)} \\n\")\n",
    "print(f\"\\ndf describe :\\n{your_dataframe.describe()} \\n\")"
   ]
  },
  {
   "cell_type": "code",
   "execution_count": null,
   "metadata": {},
   "outputs": [],
   "source": [
    "# Merge de name_basics et title_akas\n",
    "df1 = dfsd_light[\"name_basics\"]\n",
    "df2 = dfsd_light[\"title_akas\"]\n",
    "\n",
    "# Merge des dataframes :\n",
    "df_nconst = df1.merge(df2, how=\"inner\", left_on=\"tconst\", right_on=\"titleId\")"
   ]
  },
  {
   "cell_type": "code",
   "execution_count": 62,
   "metadata": {},
   "outputs": [
    {
     "name": "stdout",
     "output_type": "stream",
     "text": [
      "\n",
      "colonnes :\n",
      "['nconst', 'primaryName', 'primaryProfession', 'knownForTitles', 'titleId', 'title', 'region'] \n",
      "\n",
      "Shape avec des espaces tous les milliers : ('51 517 295', '7')\n"
     ]
    }
   ],
   "source": [
    "df = df_nconst\n",
    "print(f\"\\ncolonnes :\\n{df.columns.tolist()} \\n\")\n",
    "# Conversion avec des espaces tous les milliers\n",
    "shape = df.shape\n",
    "shape_format = tuple(\"{:,}\".format(x).replace(\",\", \" \") for x in shape)\n",
    "print(\"Shape avec des espaces tous les milliers :\", shape_format)"
   ]
  },
  {
   "cell_type": "code",
   "execution_count": 42,
   "metadata": {},
   "outputs": [],
   "source": [
    "# merge des df ayant la colonne tconst en commun\n",
    "df3 = dfsd_light[\"title_basics\"]\n",
    "df4 = dfsd_light[\"title_crew\"]\n",
    "df5 = dfsd_light[\"title_principals\"]\n",
    "df6 = dfsd_light[\"title_ratings\"]\n",
    "df7 = dfsd_light[\"title_episode\"]\n",
    "# Merge des dataframes :\n",
    "df_tconst = df3.merge(df4, how=\"outer\", on=\"tconst\")\n",
    "df_tconst = df_tconst.merge(df5, how=\"inner\", on=\"tconst\")\n",
    "df_tconst = df_tconst.merge(df6, how=\"inner\", on=\"tconst\")\n",
    "df_tconst = df_tconst.merge(df7, how=\"inner\", on=\"tconst\")"
   ]
  },
  {
   "cell_type": "code",
   "execution_count": 58,
   "metadata": {},
   "outputs": [
    {
     "name": "stdout",
     "output_type": "stream",
     "text": [
      "\n",
      "colonnes :\n",
      "['tconst', 'primaryTitle', 'originalTitle', 'startYear', 'genres', 'directors', 'writers', 'nconst', 'category', 'averageRating', 'numVotes', 'episodeNumber', 'seasonNumber'] \n",
      "\n",
      "Shape avec des espaces tous les milliers : ('60 909 999', '13')\n"
     ]
    }
   ],
   "source": [
    "df = df_tconst\n",
    "print(f\"\\ncolonnes :\\n{df.columns.tolist()} \\n\")\n",
    "# Conversion avec des espaces tous les milliers\n",
    "shape = df.shape\n",
    "shape_format = tuple(\"{:,}\".format(x).replace(\",\", \" \") for x in shape)\n",
    "print(\"Shape avec des espaces tous les milliers :\", shape_format)"
   ]
  },
  {
   "cell_type": "code",
   "execution_count": null,
   "metadata": {},
   "outputs": [],
   "source": [
    "# merge des 2 df df_nconst et df_tconst\n",
    "df_nconst = df1.merge(df2, how=\"outer\", left_on=\"nconst\", right_on=\"titleId\")"
   ]
  },
  {
   "cell_type": "code",
   "execution_count": null,
   "metadata": {},
   "outputs": [],
   "source": [
    "# Fusionner tous les dataframes en un seul\n",
    "dfsd_light_df = pd.concat(dfsd_light.values(), ignore_index=True)\n",
    "\n",
    "# Afficher les premières lignes du dataframe\n",
    "print(dfsd_light_df.head())"
   ]
  },
  {
   "cell_type": "code",
   "execution_count": 14,
   "metadata": {},
   "outputs": [
    {
     "data": {
      "text/plain": [
       "{'name_basics':              nconst         primaryName                    primaryProfession  \\\n",
       " 0         nm0000001        Fred Astaire       soundtrack,actor,miscellaneous   \n",
       " 1         nm0000002       Lauren Bacall                   actress,soundtrack   \n",
       " 2         nm0000003     Brigitte Bardot  actress,soundtrack,music_department   \n",
       " 3         nm0000004        John Belushi              actor,soundtrack,writer   \n",
       " 4         nm0000005      Ingmar Bergman                writer,director,actor   \n",
       " ...             ...                 ...                                  ...   \n",
       " 13149954  nm9993714   Romeo del Rosario  animation_department,art_department   \n",
       " 13149955  nm9993716       Essias Loberg                                  NaN   \n",
       " 13149956  nm9993717  Harikrishnan Rajan                      cinematographer   \n",
       " 13149957  nm9993718         Aayush Nair                      cinematographer   \n",
       " 13149958  nm9993719          Andre Hill                                  NaN   \n",
       " \n",
       "                                    knownForTitles  \n",
       " 0         tt0053137,tt0031983,tt0050419,tt0072308  \n",
       " 1         tt0037382,tt0038355,tt0075213,tt0117057  \n",
       " 2         tt0049189,tt0054452,tt0056404,tt0057345  \n",
       " 3         tt0080455,tt0078723,tt0077975,tt0072562  \n",
       " 4         tt0083922,tt0050976,tt0050986,tt0069467  \n",
       " ...                                           ...  \n",
       " 13149954          tt14069590,tt2455546,tt11657662  \n",
       " 13149955                                       \\N  \n",
       " 13149956                                tt8736744  \n",
       " 13149957                                tt8736744  \n",
       " 13149958                                       \\N  \n",
       " \n",
       " [13149959 rows x 4 columns],\n",
       " 'title_akas':             titleId                      title region\n",
       " 0         tt0000001                 Карменсіта     UA\n",
       " 1         tt0000001                 Carmencita     DE\n",
       " 2         tt0000001  Carmencita - spanyol tánc     HU\n",
       " 3         tt0000001                 Καρμενσίτα     GR\n",
       " 4         tt0000001                 Карменсита     RU\n",
       " ...             ...                        ...    ...\n",
       " 38367331  tt9916852             Episódio #3.20     PT\n",
       " 38367332  tt9916852             Episodio #3.20     IT\n",
       " 38367333  tt9916852               एपिसोड #3.20     IN\n",
       " 38367334  tt9916856                   The Wind     DE\n",
       " 38367335  tt9916856                   The Wind     \\N\n",
       " \n",
       " [38367336 rows x 3 columns],\n",
       " 'title_basics':              tconst               primaryTitle              originalTitle  \\\n",
       " 0         tt0000001                 Carmencita                 Carmencita   \n",
       " 1         tt0000002     Le clown et ses chiens     Le clown et ses chiens   \n",
       " 2         tt0000003             Pauvre Pierrot             Pauvre Pierrot   \n",
       " 3         tt0000004                Un bon bock                Un bon bock   \n",
       " 4         tt0000005           Blacksmith Scene           Blacksmith Scene   \n",
       " ...             ...                        ...                        ...   \n",
       " 10455615  tt9916848              Episode #3.17              Episode #3.17   \n",
       " 10455616  tt9916850              Episode #3.19              Episode #3.19   \n",
       " 10455617  tt9916852              Episode #3.20              Episode #3.20   \n",
       " 10455618  tt9916856                   The Wind                   The Wind   \n",
       " 10455619  tt9916880  Horrid Henry Knows It All  Horrid Henry Knows It All   \n",
       " \n",
       "          startYear                      genres  \n",
       " 0             1894           Documentary,Short  \n",
       " 1             1892             Animation,Short  \n",
       " 2             1892    Animation,Comedy,Romance  \n",
       " 3             1892             Animation,Short  \n",
       " 4             1893                Comedy,Short  \n",
       " ...            ...                         ...  \n",
       " 10455615      2009         Action,Drama,Family  \n",
       " 10455616      2010         Action,Drama,Family  \n",
       " 10455617      2010         Action,Drama,Family  \n",
       " 10455618      2015                       Short  \n",
       " 10455619      2014  Adventure,Animation,Comedy  \n",
       " \n",
       " [10455620 rows x 5 columns],\n",
       " 'title_crew':              tconst            directors  \\\n",
       " 0         tt0000001            nm0005690   \n",
       " 1         tt0000002            nm0721526   \n",
       " 2         tt0000003            nm0721526   \n",
       " 3         tt0000004            nm0721526   \n",
       " 4         tt0000005            nm0005690   \n",
       " ...             ...                  ...   \n",
       " 10455615  tt9916848            nm1485677   \n",
       " 10455616  tt9916850            nm1485677   \n",
       " 10455617  tt9916852            nm1485677   \n",
       " 10455618  tt9916856           nm10538645   \n",
       " 10455619  tt9916880  nm0584014,nm0996406   \n",
       " \n",
       "                                                     writers  \n",
       " 0                                                        \\N  \n",
       " 1                                                        \\N  \n",
       " 2                                                        \\N  \n",
       " 3                                                        \\N  \n",
       " 4                                                        \\N  \n",
       " ...                                                     ...  \n",
       " 10455615  nm9187127,nm1485677,nm9826385,nm9299459,nm1628284  \n",
       " 10455616            nm9187127,nm1485677,nm9826385,nm1628284  \n",
       " 10455617  nm9187127,nm1485677,nm9826385,nm9299459,nm1628284  \n",
       " 10455618                                          nm6951431  \n",
       " 10455619                                nm1482639,nm2586970  \n",
       " \n",
       " [10455620 rows x 3 columns],\n",
       " 'title_principals':              tconst     nconst         category\n",
       " 0         tt0000001  nm1588970             self\n",
       " 1         tt0000001  nm0005690         director\n",
       " 2         tt0000001  nm0374658  cinematographer\n",
       " 3         tt0000002  nm0721526         director\n",
       " 4         tt0000002  nm1335271         composer\n",
       " ...             ...        ...              ...\n",
       " 59926953  tt9916880  nm0584014         director\n",
       " 59926954  tt9916880  nm0996406         director\n",
       " 59926955  tt9916880  nm1482639           writer\n",
       " 59926956  tt9916880  nm2586970           writer\n",
       " 59926957  tt9916880  nm1594058         producer\n",
       " \n",
       " [59926958 rows x 3 columns],\n",
       " 'title_ratings':             tconst  averageRating  numVotes\n",
       " 0        tt0000001            5.7      2014\n",
       " 1        tt0000002            5.7       272\n",
       " 2        tt0000003            6.5      1938\n",
       " 3        tt0000004            5.4       179\n",
       " 4        tt0000005            6.2      2708\n",
       " ...            ...            ...       ...\n",
       " 1386923  tt9916730            7.6        11\n",
       " 1386924  tt9916766            7.1        23\n",
       " 1386925  tt9916778            7.2        36\n",
       " 1386926  tt9916840            8.8         6\n",
       " 1386927  tt9916880            8.2         6\n",
       " \n",
       " [1386928 rows x 3 columns]}"
      ]
     },
     "execution_count": 14,
     "metadata": {},
     "output_type": "execute_result"
    }
   ],
   "source": [
    "dfsd_light"
   ]
  },
  {
   "cell_type": "code",
   "execution_count": null,
   "metadata": {},
   "outputs": [],
   "source": [
    "# suppression des colonnes\n",
    "dfs[\"title_basics\"].drop(\n",
    "    [\"colonne_a_supprimer1\", \"colonne_a_supprimer2\"], axis=1, inplace=True\n",
    ")"
   ]
  },
  {
   "cell_type": "code",
   "execution_count": null,
   "metadata": {},
   "outputs": [],
   "source": []
  },
  {
   "cell_type": "code",
   "execution_count": null,
   "metadata": {},
   "outputs": [],
   "source": [
    "# df=dfs[\"name_basics\"].copy()\n",
    "# df.explode(\"knownForTitles\")"
   ]
  },
  {
   "cell_type": "code",
   "execution_count": null,
   "metadata": {},
   "outputs": [],
   "source": [
    "# Test indépendance entre deux variables quantitatives / Test de corrélation Pearson\n",
    "# Test d'indépendance entre deux variables qualitatives / Test du Chi²\n",
    "# Test d'indépendance entre une variable qualitative et une quantitative / Test de Fisher avec l'analyse de la variance (ANOVA)"
   ]
  },
  {
   "cell_type": "markdown",
   "metadata": {},
   "source": [
    "prétraitement de vos DataFrames :\n",
    "\n",
    "1. **name_basics** : Vous pouvez convertir les colonnes `birthYear` et `deathYear` en type numérique. De plus, la colonne `primaryProfession` semble contenir plusieurs professions pour une même personne, vous pourriez diviser cette colonne en plusieurs colonnes binaires (une pour chaque profession).\n",
    "\n",
    "2. **title_akas** : La colonne `isOriginalTitle` pourrait être convertie en booléen. De plus, si vous n'avez pas besoin de toutes les régions ou langues, vous pourriez filtrer ces colonnes pour ne garder que les lignes pertinentes.\n",
    "\n",
    "3. **title_basics** : Les colonnes `startYear` et `endYear` pourraient être converties en type numérique. La colonne `genres` semble contenir plusieurs genres pour un même titre, vous pourriez diviser cette colonne en plusieurs colonnes binaires (une pour chaque genre).\n",
    "\n",
    "4. **title_crew** : Les colonnes `directors` et `writers` semblent contenir plusieurs personnes pour un même titre, vous pourriez diviser ces colonnes en plusieurs colonnes (une pour chaque personne).\n",
    "\n",
    "5. **title_episode** : Les colonnes `seasonNumber` et `episodeNumber` pourraient être converties en type numérique.\n",
    "\n",
    "6. **title_principals** : La colonne `characters` semble contenir plusieurs personnages pour une même personne, vous pourriez diviser cette colonne en plusieurs colonnes (une pour chaque personnage).\n",
    "\n",
    "7. **title_ratings** : Les colonnes `averageRating` et `numVotes` pourraient être converties en type numérique.\n",
    "\n",
    " gérer les valeurs manquantes, de supprimer les doublons, effectuer une normalisation ou une standardisation des données si nécessaire. \n",
    " fusionner des DataFrames en utilisant les colonnes appropriées comme clés. \n"
   ]
  },
  {
   "cell_type": "markdown",
   "metadata": {},
   "source": [
    " KPI des DataFrames, possibilités :\n",
    "\n",
    "1. **name_basics** : Nombre total d'acteurs, nombre d'acteurs par profession, nombre d'acteurs nés chaque année, etc.\n",
    "2. **title_akas** : Nombre total de titres, nombre de titres par région ou par langue, etc.\n",
    "3. **title_basics** : Nombre total de titres par type (film, série, etc.), durée moyenne des titres, nombre de titres par genre, etc.\n",
    "4. **title_crew** : Nombre de réalisateurs et scénaristes uniques, nombre moyen de réalisateurs et scénaristes par titre, etc.\n",
    "5. **title_episode** : Nombre total d'épisodes, nombre moyen d'épisodes par saison, etc.\n",
    "6. **title_principals** : Nombre moyen de personnages par titre, nombre de titres par acteur, etc.\n",
    "7. **title_ratings** : Note moyenne des titres, nombre moyen de votes par titre, etc.\n",
    "\n",
    "Pour proposer 10 suggestions de films en fonction du choix d'un film d'un utilisateur, vous pouvez utiliser une approche de filtrage collaboratif ou basée sur le contenu. Voici une approche simple basée sur le contenu :\n",
    "\n",
    "1. **Sélectionnez le film choisi par l'utilisateur** dans votre DataFrame `title_basics`.\n",
    "2. **Identifiez les genres** de ce film.\n",
    "3. **Filtrez** votre DataFrame `title_basics` pour ne garder que les films qui partagent au moins un genre avec le film choisi par l'utilisateur.\n",
    "4. **Classez** ces films en fonction de leur note moyenne dans votre DataFrame `title_ratings` (vous pouvez également prendre en compte le nombre de votes pour éviter les films avec une note moyenne élevée mais un faible nombre de votes).\n",
    "5. **Sélectionnez les 10 premiers films** de cette liste.\n"
   ]
  },
  {
   "cell_type": "code",
   "execution_count": 95,
   "metadata": {},
   "outputs": [
    {
     "name": "stdout",
     "output_type": "stream",
     "text": [
      "\n",
      "dfs2['title_basics'].shape :\n",
      "(10450471, 9) \n",
      "\n"
     ]
    }
   ],
   "source": [
    "dfs2 = dfs.copy()\n",
    "dfs3 = dfs.copy()\n",
    "dfs4 = dfs.copy()\n",
    "print(f\"\\ndfs2['title_basics'].shape :\\n{dfs2['title_basics'].shape} \\n\")"
   ]
  },
  {
   "cell_type": "code",
   "execution_count": null,
   "metadata": {},
   "outputs": [],
   "source": [
    "# suppression des na des colonnes concernées\n",
    "dfs2[\"title_basics\"].dropna(\n",
    "    subset=[\"primaryTitle\", \"originalTitle\", \"genres\"], inplace=True\n",
    ")\n",
    "print(f\"\\ndfs2['title_basics'].shape :\\n{dfs2['title_basics'].shape} \\n\")"
   ]
  },
  {
   "cell_type": "code",
   "execution_count": null,
   "metadata": {},
   "outputs": [],
   "source": [
    "# clustering\n",
    "from sklearn.cluster import KMeans\n",
    "\n",
    "# Sélectionnez les colonnes pour le clustering\n",
    "# Remplacez par vos colonnes\n",
    "data = dfs2[\"title_basics\"][[\"startYear\", \"endYear\"]]\n",
    "\n",
    "# Créez l'objet KMeans\n",
    "# Remplacez 3 par le nombre de clusters que vous voulez\n",
    "kmeans = KMeans(n_clusters=3)\n",
    "\n",
    "# Ajustez le modèle aux données\n",
    "kmeans.fit(data)\n",
    "\n",
    "# Obtenez les labels de cluster pour chaque observation\n",
    "labels = kmeans.labels_"
   ]
  },
  {
   "cell_type": "code",
   "execution_count": null,
   "metadata": {},
   "outputs": [],
   "source": [
    "# for df in dfs2:\n",
    "#     # supprime les valeurs manquantes sur les colonnes\n",
    "#     # dfs2[df].dropna(axis=0, inplace=True)\n",
    "#     # supprime les valeurs manquantes sur les lignes\n",
    "#     dfs2[df].dropna(axis=1, inplace=True)\n",
    "#     print(f\"\\nshape {df}:\\n{dfs2[df].shape} \\n\")"
   ]
  },
  {
   "cell_type": "code",
   "execution_count": 76,
   "metadata": {},
   "outputs": [],
   "source": [
    "# suppression des na des colonnes concernées\n",
    "dfs2[\"title_basics\"].dropna(\n",
    "    subset=[\"primaryTitle\", \"originalTitle\", \"genres\"], inplace=True\n",
    ")\n",
    "\n",
    "\n",
    "def regrouper_genres(genre):\n",
    "    if genre in [\"Action\", \"Adventure\", \"Thriller\", \"War\"]:\n",
    "        return \"Action et Aventure\"\n",
    "    elif genre in [\"Comedy\", \"Romance\", \"Family\"]:\n",
    "        return \"Comédies\"\n",
    "    elif genre in [\"Drama\", \"Crime\", \"Mystery\"]:\n",
    "        return \"Drames\"\n",
    "    elif genre in [\"Horror\", \"Sci-Fi\"]:\n",
    "        return \"Science-Fiction et Fantastique\"\n",
    "    elif genre in [\"Biography\", \"History\", \"Documentary\"]:\n",
    "        return \"Documentaires\"\n",
    "    elif genre in [\"Music\", \"Musical\"]:\n",
    "        return \"Musique et Comédies Musicales\"\n",
    "    else:\n",
    "        return \"Autres\"\n",
    "\n",
    "\n",
    "# Appliquer la fonction de regroupement aux genres\n",
    "dfs2[\"title_basics\"][\"genres\"] = dfs2[\"title_basics\"][\"genres\"].apply(\n",
    "    regrouper_genres)\n",
    "\n",
    "# Utiliser get_dummies sur la colonne de genres regroupés\n",
    "dfs2[\"title_basics\"] = dfs2[\"title_basics\"].join(\n",
    "    dfs2[\"title_basics\"][\"genres\"].str.get_dummies(\",\")\n",
    ")"
   ]
  },
  {
   "cell_type": "code",
   "execution_count": 77,
   "metadata": {},
   "outputs": [
    {
     "name": "stdout",
     "output_type": "stream",
     "text": [
      "\n",
      "shape: (10450471, 16) \n",
      "list columns :\n",
      "['tconst', 'titleType', 'primaryTitle', 'originalTitle', 'isAdult', 'startYear', 'endYear', 'runtimeMinutes', 'genres', 'Action et Aventure', 'Autres', 'Comédies', 'Documentaires', 'Drames', 'Musique et Comédies Musicales', 'Science-Fiction et Fantastique'] \n",
      "liste des colonnes numeriques: \n",
      "['startYear', 'endYear', 'Action et Aventure', 'Autres', 'Comédies', 'Documentaires', 'Drames', 'Musique et Comédies Musicales', 'Science-Fiction et Fantastique']\n",
      "\n",
      "liste des colonnes non numeriques: \n",
      "['tconst', 'titleType', 'primaryTitle', 'originalTitle', 'isAdult', 'runtimeMinutes', 'genres'] \n",
      "Noms des colonnes avec au moins une valeur NA : ['primaryTitle', 'originalTitle', 'startYear', 'endYear']\n",
      "Nombre de lignes avec au moins une valeur NA : 10333737\n",
      "Colonne avec des na :tconst                                   0\n",
      "titleType                                0\n",
      "primaryTitle                            17\n",
      "originalTitle                           17\n",
      "isAdult                                  0\n",
      "startYear                          1390187\n",
      "endYear                           10333737\n",
      "runtimeMinutes                           0\n",
      "genres                                   0\n",
      "Action et Aventure                       0\n",
      "Autres                                   0\n",
      "Comédies                                 0\n",
      "Documentaires                            0\n",
      "Drames                                   0\n",
      "Musique et Comédies Musicales            0\n",
      "Science-Fiction et Fantastique           0\n",
      "dtype: int64 \n",
      "\n",
      "\n",
      "df head :\n",
      "      tconst titleType                                 primaryTitle  \\\n",
      "0  tt0000001     short                                   Carmencita   \n",
      "1  tt0000002     short                       Le clown et ses chiens   \n",
      "2  tt0000003     short                               Pauvre Pierrot   \n",
      "3  tt0000004     short                                  Un bon bock   \n",
      "4  tt0000005     short                             Blacksmith Scene   \n",
      "5  tt0000006     short                            Chinese Opium Den   \n",
      "6  tt0000007     short  Corbett and Courtney Before the Kinetograph   \n",
      "7  tt0000008     short       Edison Kinetoscopic Record of a Sneeze   \n",
      "8  tt0000009     movie                                   Miss Jerry   \n",
      "9  tt0000010     short                          Leaving the Factory   \n",
      "\n",
      "                                 originalTitle isAdult  startYear  endYear  \\\n",
      "0                                   Carmencita       0     1894.0      NaN   \n",
      "1                       Le clown et ses chiens       0     1892.0      NaN   \n",
      "2                               Pauvre Pierrot       0     1892.0      NaN   \n",
      "3                                  Un bon bock       0     1892.0      NaN   \n",
      "4                             Blacksmith Scene       0     1893.0      NaN   \n",
      "5                            Chinese Opium Den       0     1894.0      NaN   \n",
      "6  Corbett and Courtney Before the Kinetograph       0     1894.0      NaN   \n",
      "7       Edison Kinetoscopic Record of a Sneeze       0     1894.0      NaN   \n",
      "8                                   Miss Jerry       0     1894.0      NaN   \n",
      "9          La sortie de l'usine Lumière à Lyon       0     1895.0      NaN   \n",
      "\n",
      "  runtimeMinutes    genres  Action et Aventure  Autres  Comédies  \\\n",
      "0              1    Autres                   0       1         0   \n",
      "1              5    Autres                   0       1         0   \n",
      "2              4    Autres                   0       1         0   \n",
      "3             12    Autres                   0       1         0   \n",
      "4              1    Autres                   0       1         0   \n",
      "5              1    Autres                   0       1         0   \n",
      "6              1    Autres                   0       1         0   \n",
      "7              1    Autres                   0       1         0   \n",
      "8             45  Comédies                   0       0         1   \n",
      "9              1    Autres                   0       1         0   \n",
      "\n",
      "   Documentaires  Drames  Musique et Comédies Musicales  \\\n",
      "0              0       0                              0   \n",
      "1              0       0                              0   \n",
      "2              0       0                              0   \n",
      "3              0       0                              0   \n",
      "4              0       0                              0   \n",
      "5              0       0                              0   \n",
      "6              0       0                              0   \n",
      "7              0       0                              0   \n",
      "8              0       0                              0   \n",
      "9              0       0                              0   \n",
      "\n",
      "   Science-Fiction et Fantastique  \n",
      "0                               0  \n",
      "1                               0  \n",
      "2                               0  \n",
      "3                               0  \n",
      "4                               0  \n",
      "5                               0  \n",
      "6                               0  \n",
      "7                               0  \n",
      "8                               0  \n",
      "9                               0   \n",
      "\n",
      "\n",
      "df describe :\n",
      "          startYear        endYear  Action et Aventure        Autres  \\\n",
      "count  9.060284e+06  116734.000000        1.045047e+07  1.045047e+07   \n",
      "mean   2.005504e+03    2006.525263        1.064191e-02  7.025759e-01   \n",
      "std    2.011394e+01      16.383865        1.026093e-01  4.571247e-01   \n",
      "min    1.874000e+03    1906.000000        0.000000e+00  0.000000e+00   \n",
      "25%    2.001000e+03    1999.000000        0.000000e+00  0.000000e+00   \n",
      "50%    2.013000e+03    2013.000000        0.000000e+00  1.000000e+00   \n",
      "75%    2.018000e+03    2019.000000        0.000000e+00  1.000000e+00   \n",
      "max    2.031000e+03    2030.000000        1.000000e+00  1.000000e+00   \n",
      "\n",
      "           Comédies  Documentaires        Drames  \\\n",
      "count  1.045047e+07   1.045047e+07  1.045047e+07   \n",
      "mean   9.524068e-02   5.204962e-02  1.218935e-01   \n",
      "std    2.935471e-01   2.221271e-01  3.271628e-01   \n",
      "min    0.000000e+00   0.000000e+00  0.000000e+00   \n",
      "25%    0.000000e+00   0.000000e+00  0.000000e+00   \n",
      "50%    0.000000e+00   0.000000e+00  0.000000e+00   \n",
      "75%    0.000000e+00   0.000000e+00  0.000000e+00   \n",
      "max    1.000000e+00   1.000000e+00  1.000000e+00   \n",
      "\n",
      "       Musique et Comédies Musicales  Science-Fiction et Fantastique  \n",
      "count                   1.045047e+07                    1.045047e+07  \n",
      "mean                    1.190798e-02                    5.690366e-03  \n",
      "std                     1.084720e-01                    7.521958e-02  \n",
      "min                     0.000000e+00                    0.000000e+00  \n",
      "25%                     0.000000e+00                    0.000000e+00  \n",
      "50%                     0.000000e+00                    0.000000e+00  \n",
      "75%                     0.000000e+00                    0.000000e+00  \n",
      "max                     1.000000e+00                    1.000000e+00   \n",
      "\n"
     ]
    }
   ],
   "source": [
    "# Résumé des informations du dataframe\n",
    "your_dataframe = dfs2[\"title_basics\"]\n",
    "print(\n",
    "    f\"\\nshape: {your_dataframe.shape} \\nlist columns :\\n{\n",
    "        your_dataframe.columns.tolist()} \"\n",
    ")\n",
    "print(\n",
    "    f\"liste des colonnes numeriques: \\n{\n",
    "        your_dataframe.select_dtypes(include=[np.number]).columns.tolist()}\\n\"\n",
    ")\n",
    "print(\n",
    "    f\"liste des colonnes non numeriques: \\n{\n",
    "        your_dataframe.select_dtypes(exclude=[np.number]).columns.tolist()} \"\n",
    ")\n",
    "print(\n",
    "    f\"Noms des colonnes avec au moins une valeur NA : {\n",
    "        your_dataframe.columns[your_dataframe.isna().any()].tolist()}\"\n",
    ")\n",
    "print(\n",
    "    f\"Nombre de lignes avec au moins une valeur NA : {\n",
    "        your_dataframe.isna().any(axis=1).sum()}\"\n",
    ")\n",
    "print(f\"Colonne avec des na :{your_dataframe.isna().sum()} \\n\")\n",
    "print(f\"\\ndf head :\\n{your_dataframe.head(10)} \\n\")\n",
    "print(f\"\\ndf describe :\\n{your_dataframe.describe()} \\n\")"
   ]
  },
  {
   "cell_type": "markdown",
   "metadata": {},
   "source": []
  },
  {
   "cell_type": "code",
   "execution_count": 79,
   "metadata": {},
   "outputs": [
    {
     "name": "stdout",
     "output_type": "stream",
     "text": [
      "Nombre de films pour adultes :  331925\n"
     ]
    }
   ],
   "source": [
    "nombre_de_films_pour_adultes = dfs2[\"title_basics\"][\n",
    "    dfs2[\"title_basics\"][\"isAdult\"] == \"1\"\n",
    "].shape[0]\n",
    "print(\"Nombre de films pour adultes : \", nombre_de_films_pour_adultes)"
   ]
  },
  {
   "cell_type": "code",
   "execution_count": null,
   "metadata": {},
   "outputs": [],
   "source": [
    "# Prétraitement pour title_crew\n",
    "dfs2[\"title_crew\"] = dfs2[\"title_crew\"].join(\n",
    "    dfs2[\"title_crew\"][\"directors\"].str.get_dummies(\n",
    "        \",\").add_prefix(\"director_\")\n",
    ")\n",
    "dfs2[\"title_crew\"] = dfs2[\"title_crew\"].join(\n",
    "    dfs2[\"title_crew\"][\"writers\"].str.get_dummies(\",\").add_prefix(\"writer_\")\n",
    ")"
   ]
  },
  {
   "cell_type": "code",
   "execution_count": null,
   "metadata": {},
   "outputs": [],
   "source": [
    "# Prétraitement pour title_episode\n",
    "dfs2[\"title_episode\"][\"seasonNumber\"] = pd.to_numeric(\n",
    "    dfs2[\"title_episode\"][\"seasonNumber\"], errors=\"coerce\"\n",
    ")\n",
    "dfs2[\"title_episode\"][\"episodeNumber\"] = pd.to_numeric(\n",
    "    dfs2[\"title_episode\"][\"episodeNumber\"], errors=\"coerce\"\n",
    ")"
   ]
  },
  {
   "cell_type": "code",
   "execution_count": null,
   "metadata": {},
   "outputs": [],
   "source": [
    "# Prétraitement pour title_principals\n",
    "dfs2[\"title_principals\"] = dfs2[\"title_principals\"].join(\n",
    "    dfs2[\"title_principals\"][\"characters\"].str.get_dummies(\n",
    "        \",\").add_prefix(\"character_\")\n",
    ")"
   ]
  },
  {
   "cell_type": "code",
   "execution_count": null,
   "metadata": {},
   "outputs": [],
   "source": [
    "# Prétraitement pour title_ratings\n",
    "dfs2[\"title_ratings\"][\"averageRating\"] = pd.to_numeric(\n",
    "    dfs2[\"title_ratings\"][\"averageRating\"], errors=\"coerce\"\n",
    ")\n",
    "dfs2[\"title_ratings\"][\"numVotes\"] = pd.to_numeric(\n",
    "    dfs2[\"title_ratings\"][\"numVotes\"], errors=\"coerce\"\n",
    ")"
   ]
  },
  {
   "cell_type": "code",
   "execution_count": null,
   "metadata": {},
   "outputs": [],
   "source": [
    "# Fusion des tables\n",
    "df_titles = dfs2[\"title_basics\"].merge(\n",
    "    dfs2[\"title_crew\"], on=\"tconst\", how=\"left\")\n",
    "df_titles = df_titles.merge(dfs2[\"title_episode\"], on=\"tconst\", how=\"left\")\n",
    "df_titles = df_titles.merge(dfs2[\"title_principals\"], on=\"tconst\", how=\"left\")\n",
    "df_titles = df_titles.merge(dfs2[\"title_ratings\"], on=\"tconst\", how=\"left\")\n",
    "\n",
    "print(df.head())"
   ]
  },
  {
   "cell_type": "code",
   "execution_count": null,
   "metadata": {},
   "outputs": [],
   "source": [
    "# KPI pour name_basics\n",
    "print(\"Nombre total d'acteurs : \", dfs2[\"name_basics\"][\"nconst\"].nunique())\n",
    "print(\n",
    "    \"Nombre d'acteurs par profession : \",\n",
    "    dfs2[\"name_basics\"][\"primaryProfession\"].value_counts(),\n",
    ")\n",
    "\n",
    "# KPI pour title_basics\n",
    "print(\n",
    "    \"Nombre total de titres par type : \",\n",
    "    dfs2[\"title_basics\"][\"titleType\"].value_counts(),\n",
    ")\n",
    "print(\"Durée moyenne des titres : \",\n",
    "      dfs2[\"title_basics\"][\"runtimeMinutes\"].mean())\n",
    "\n",
    "# KPI pour title_ratings\n",
    "print(\"Note moyenne des titres : \",\n",
    "      dfs2[\"title_ratings\"][\"averageRating\"].mean())\n",
    "print(\"Nombre moyen de votes par titre : \",\n",
    "      dfs2[\"title_ratings\"][\"numVotes\"].mean())\n",
    "\n",
    "\n",
    "# Suggestions de films\n",
    "def suggest_movies(movie_title):\n",
    "    # Sélectionnez le film choisi par l'utilisateur\n",
    "    movie = dfs2[\"title_basics\"][\n",
    "        dfs2[\"title_basics\"][\"primaryTitle\"] == movie_title\n",
    "    ].iloc[0]\n",
    "\n",
    "    # Identifiez les genres de ce film\n",
    "    genres = movie[\"genres\"].split(\",\")\n",
    "\n",
    "    # Filtrez votre DataFrame pour ne garder que les films qui partagent au moins un genre avec le film choisi\n",
    "    similar_movies = dfs2[\"title_basics\"][\n",
    "        dfs2[\"title_basics\"][\"genres\"].apply(\n",
    "            lambda x: any(genre in x for genre in genres)\n",
    "        )\n",
    "    ]\n",
    "\n",
    "    # Fusionnez avec title_ratings\n",
    "    similar_movies = similar_movies.merge(dfs2[\"title_ratings\"], on=\"tconst\")\n",
    "\n",
    "    # Classez ces films en fonction de leur note moyenne\n",
    "    similar_movies = similar_movies.sort_values(\n",
    "        by=\"averageRating\", ascending=False)\n",
    "\n",
    "    # Sélectionnez les 10 premiers films de cette liste\n",
    "    top_10_movies = similar_movies.head(10)\n",
    "\n",
    "    return top_10_movies\n",
    "\n",
    "\n",
    "# Remplacez par le titre du film choisi par l'utilisateur\n",
    "movie_title = \"Carmencita\"\n",
    "print(\"Voici 10 suggestions de films basées sur le film \", movie_title, \" :\")\n",
    "print(suggest_movies(movie_title))"
   ]
  },
  {
   "cell_type": "code",
   "execution_count": null,
   "metadata": {},
   "outputs": [],
   "source": []
  }
 ],
 "metadata": {
  "kernelspec": {
   "display_name": "Python 3",
   "language": "python",
   "name": "python3"
  },
  "language_info": {
   "codemirror_mode": {
    "name": "ipython",
    "version": 3
   },
   "file_extension": ".py",
   "mimetype": "text/x-python",
   "name": "python",
   "nbconvert_exporter": "python",
   "pygments_lexer": "ipython3",
   "version": "3.12.0"
  }
 },
 "nbformat": 4,
 "nbformat_minor": 2
}
