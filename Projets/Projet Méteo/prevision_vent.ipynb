{
 "cells": [
  {
   "cell_type": "code",
   "execution_count": 10,
   "metadata": {},
   "outputs": [],
   "source": [
    "import pandas as pd\n",
    "import numpy as np\n",
    "import pandas as pd\n",
    "import seaborn as sns\n",
    "import plotly.express as px\n",
    "import plotly.graph_objects as go\n",
    "import matplotlib.pyplot as plt\n"
   ]
  },
  {
   "cell_type": "code",
   "execution_count": null,
   "metadata": {},
   "outputs": [],
   "source": [
    "import os\n",
    "import io\n",
    "import re\n",
    "import nltk\n",
    "import gzip\n",
    "import spacy\n",
    "import string\n",
    "import random\n",
    "import secrets\n",
    "import datetime\n",
    "import requests\n",
    "import numpy as np\n",
    "import pandas as pd\n",
    "import seaborn as sns\n",
    "from sklearn import svm\n",
    "import plotly.io as pio\n",
    "from sklearn import tree\n",
    "from typing import Counter\n",
    "import plotly.express as px\n",
    "# from fuzzywuzzy import fuzz\n",
    "from joblib import dump, load\n",
    "from bs4 import BeautifulSoup\n",
    "# import category_encoders as ce\n",
    "# from wordcloud import WordCloud\n",
    "from collections import Counter\n",
    "import matplotlib.pyplot as plt\n",
    "from nltk.corpus import stopwords\n",
    "import plotly.graph_objects as go\n",
    "import plotly.graph_objects as go\n",
    "from sklearn.cluster import KMeans\n",
    "# from textblob import TextBlob, Word\n",
    "from scipy.cluster import hierarchy\n",
    "from nltk.stem import PorterStemmer\n",
    "from nltk.probability import FreqDist\n",
    "from nltk.stem import SnowballStemmer\n",
    "from sklearn.decomposition import PCA\n",
    "from nltk.tokenize import word_tokenize\n",
    "from nltk.tokenize import sent_tokenize\n",
    "from nltk.stem import WordNetLemmatizer\n",
    "from sklearn.pipeline import make_pipeline\n",
    "from sklearn.metrics import accuracy_score\n",
    "from sklearn.metrics import silhouette_score\n",
    "from sklearn.ensemble import IsolationForest\n",
    "from sklearn.compose import ColumnTransformer\n",
    "from sklearn.linear_model import SGDRegressor\n",
    "from sklearn.tree import DecisionTreeRegressor\n",
    "from sklearn.tree import DecisionTreeClassifier\n",
    "from sklearn.model_selection import GridSearchCV\n",
    "from sklearn.linear_model import LinearRegression\n",
    "from sklearn.neighbors import KNeighborsRegressor\n",
    "from sklearn.metrics import classification_report\n",
    "from sklearn.neighbors import KNeighborsClassifier\n",
    "from sklearn.model_selection import cross_validate\n",
    "from sklearn.linear_model import LogisticRegression\n",
    "from sklearn.cluster import AgglomerativeClustering\n",
    "from sklearn.ensemble import RandomForestClassifier\n",
    "from sklearn.linear_model import LogisticRegression\n",
    "from sklearn.model_selection import train_test_split\n",
    "from sklearn.metrics import accuracy_score, r2_score\n",
    "from scipy.spatial.distance import pdist, squareform\n",
    "# from textblob_fr import PatternTagger, PatternAnalyzer\n",
    "from sklearn.ensemble import HistGradientBoostingRegressor\n",
    "from sklearn.feature_extraction.text import CountVectorizer\n",
    "from sklearn.feature_extraction.text import TfidfVectorizer\n",
    "from scipy.cluster.hierarchy import dendrogram, linkage, fcluster\n",
    "from flask import Flask, request, render_template, session, url_for, redirect\n",
    "from sklearn.preprocessing import (MaxAbsScaler, MinMaxScaler, Normalizer, PowerTransformer, QuantileTransformer, RobustScaler, StandardScaler)\n",
    "from sklearn.preprocessing import OneHotEncoder, OrdinalEncoder, TargetEncoder\n"
   ]
  },
  {
   "cell_type": "code",
   "execution_count": 2,
   "metadata": {},
   "outputs": [
    {
     "name": "stdout",
     "output_type": "stream",
     "text": [
      "     Timestamp (UTC+0)  humidity_digital_Avg  pressure_digital_Avg  \\\n",
      "0     2024-01-23 09:50                 72.70                  1033   \n",
      "1     2024-01-23 09:40                 71.89                  1033   \n",
      "2     2024-01-23 09:30                 72.29                  1033   \n",
      "3     2024-01-23 09:20                 72.07                  1032   \n",
      "4     2024-01-23 09:10                 72.80                  1032   \n",
      "...                ...                   ...                   ...   \n",
      "3154  2024-01-01 11:40                 73.26                  1018   \n",
      "3155  2024-01-01 11:30                 72.69                  1018   \n",
      "3156  2024-01-01 11:20                 70.97                  1018   \n",
      "3157  2024-01-01 11:10                 70.80                  1018   \n",
      "3158  2024-01-01 11:00                 71.50                  1018   \n",
      "\n",
      "      temperature_digital_Avg  wind_direction_digital  wind_speed_digital  \n",
      "0                       12.45                   285.9               21.94  \n",
      "1                       12.50                   285.5               22.37  \n",
      "2                       12.36                   284.4               22.05  \n",
      "3                       12.45                   286.0               22.22  \n",
      "4                       12.43                   287.6               23.25  \n",
      "...                       ...                     ...                 ...  \n",
      "3154                    11.14                   293.2               17.46  \n",
      "3155                    11.18                   298.6               16.98  \n",
      "3156                    11.19                   305.0               17.12  \n",
      "3157                    11.04                   305.6               16.24  \n",
      "3158                    10.98                   299.5               15.81  \n",
      "\n",
      "[3159 rows x 6 columns]\n"
     ]
    },
    {
     "data": {
      "text/plain": [
       "<module 'pandas' from 'c:\\\\ProgramData\\\\Anaconda3\\\\Lib\\\\site-packages\\\\pandas\\\\__init__.py'>"
      ]
     },
     "execution_count": 2,
     "metadata": {},
     "output_type": "execute_result"
    }
   ],
   "source": [
    "#  Charger les données   ('test.csv', sep=',', dtype={'a': str})\n",
    "mobilis = pd.read_csv(\"data_mobilis/Data_Planier_Export.csv\")\n",
    "# Afficher le jeu de données Titanic\n",
    "print(mobilis)\n",
    "\n",
    "# with open(\"data_mobilis/Data_Planier_Export.csv\", 'rb') as f:\n",
    "#     contents = f.read()\n",
    "\n",
    "# data = pd.read_csv(io.StringIO(contents.decode('utf-8')))\n",
    "# print(data)\n",
    "pd\n"
   ]
  },
  {
   "cell_type": "code",
   "execution_count": 3,
   "metadata": {},
   "outputs": [
    {
     "data": {
      "text/html": [
       "<div>\n",
       "<style scoped>\n",
       "    .dataframe tbody tr th:only-of-type {\n",
       "        vertical-align: middle;\n",
       "    }\n",
       "\n",
       "    .dataframe tbody tr th {\n",
       "        vertical-align: top;\n",
       "    }\n",
       "\n",
       "    .dataframe thead th {\n",
       "        text-align: right;\n",
       "    }\n",
       "</style>\n",
       "<table border=\"1\" class=\"dataframe\">\n",
       "  <thead>\n",
       "    <tr style=\"text-align: right;\">\n",
       "      <th></th>\n",
       "      <th>Timestamp (UTC+0)</th>\n",
       "      <th>humidity_digital_Avg</th>\n",
       "      <th>pressure_digital_Avg</th>\n",
       "      <th>temperature_digital_Avg</th>\n",
       "      <th>wind_direction_digital</th>\n",
       "      <th>wind_speed_digital</th>\n",
       "    </tr>\n",
       "  </thead>\n",
       "  <tbody>\n",
       "    <tr>\n",
       "      <th>0</th>\n",
       "      <td>2024-01-23 09:50</td>\n",
       "      <td>72.70</td>\n",
       "      <td>1033</td>\n",
       "      <td>12.45</td>\n",
       "      <td>285.9</td>\n",
       "      <td>21.94</td>\n",
       "    </tr>\n",
       "    <tr>\n",
       "      <th>1</th>\n",
       "      <td>2024-01-23 09:40</td>\n",
       "      <td>71.89</td>\n",
       "      <td>1033</td>\n",
       "      <td>12.50</td>\n",
       "      <td>285.5</td>\n",
       "      <td>22.37</td>\n",
       "    </tr>\n",
       "    <tr>\n",
       "      <th>2</th>\n",
       "      <td>2024-01-23 09:30</td>\n",
       "      <td>72.29</td>\n",
       "      <td>1033</td>\n",
       "      <td>12.36</td>\n",
       "      <td>284.4</td>\n",
       "      <td>22.05</td>\n",
       "    </tr>\n",
       "    <tr>\n",
       "      <th>3</th>\n",
       "      <td>2024-01-23 09:20</td>\n",
       "      <td>72.07</td>\n",
       "      <td>1032</td>\n",
       "      <td>12.45</td>\n",
       "      <td>286.0</td>\n",
       "      <td>22.22</td>\n",
       "    </tr>\n",
       "    <tr>\n",
       "      <th>4</th>\n",
       "      <td>2024-01-23 09:10</td>\n",
       "      <td>72.80</td>\n",
       "      <td>1032</td>\n",
       "      <td>12.43</td>\n",
       "      <td>287.6</td>\n",
       "      <td>23.25</td>\n",
       "    </tr>\n",
       "    <tr>\n",
       "      <th>...</th>\n",
       "      <td>...</td>\n",
       "      <td>...</td>\n",
       "      <td>...</td>\n",
       "      <td>...</td>\n",
       "      <td>...</td>\n",
       "      <td>...</td>\n",
       "    </tr>\n",
       "    <tr>\n",
       "      <th>3154</th>\n",
       "      <td>2024-01-01 11:40</td>\n",
       "      <td>73.26</td>\n",
       "      <td>1018</td>\n",
       "      <td>11.14</td>\n",
       "      <td>293.2</td>\n",
       "      <td>17.46</td>\n",
       "    </tr>\n",
       "    <tr>\n",
       "      <th>3155</th>\n",
       "      <td>2024-01-01 11:30</td>\n",
       "      <td>72.69</td>\n",
       "      <td>1018</td>\n",
       "      <td>11.18</td>\n",
       "      <td>298.6</td>\n",
       "      <td>16.98</td>\n",
       "    </tr>\n",
       "    <tr>\n",
       "      <th>3156</th>\n",
       "      <td>2024-01-01 11:20</td>\n",
       "      <td>70.97</td>\n",
       "      <td>1018</td>\n",
       "      <td>11.19</td>\n",
       "      <td>305.0</td>\n",
       "      <td>17.12</td>\n",
       "    </tr>\n",
       "    <tr>\n",
       "      <th>3157</th>\n",
       "      <td>2024-01-01 11:10</td>\n",
       "      <td>70.80</td>\n",
       "      <td>1018</td>\n",
       "      <td>11.04</td>\n",
       "      <td>305.6</td>\n",
       "      <td>16.24</td>\n",
       "    </tr>\n",
       "    <tr>\n",
       "      <th>3158</th>\n",
       "      <td>2024-01-01 11:00</td>\n",
       "      <td>71.50</td>\n",
       "      <td>1018</td>\n",
       "      <td>10.98</td>\n",
       "      <td>299.5</td>\n",
       "      <td>15.81</td>\n",
       "    </tr>\n",
       "  </tbody>\n",
       "</table>\n",
       "<p>3159 rows × 6 columns</p>\n",
       "</div>"
      ],
      "text/plain": [
       "     Timestamp (UTC+0)  humidity_digital_Avg  pressure_digital_Avg  \\\n",
       "0     2024-01-23 09:50                 72.70                  1033   \n",
       "1     2024-01-23 09:40                 71.89                  1033   \n",
       "2     2024-01-23 09:30                 72.29                  1033   \n",
       "3     2024-01-23 09:20                 72.07                  1032   \n",
       "4     2024-01-23 09:10                 72.80                  1032   \n",
       "...                ...                   ...                   ...   \n",
       "3154  2024-01-01 11:40                 73.26                  1018   \n",
       "3155  2024-01-01 11:30                 72.69                  1018   \n",
       "3156  2024-01-01 11:20                 70.97                  1018   \n",
       "3157  2024-01-01 11:10                 70.80                  1018   \n",
       "3158  2024-01-01 11:00                 71.50                  1018   \n",
       "\n",
       "      temperature_digital_Avg  wind_direction_digital  wind_speed_digital  \n",
       "0                       12.45                   285.9               21.94  \n",
       "1                       12.50                   285.5               22.37  \n",
       "2                       12.36                   284.4               22.05  \n",
       "3                       12.45                   286.0               22.22  \n",
       "4                       12.43                   287.6               23.25  \n",
       "...                       ...                     ...                 ...  \n",
       "3154                    11.14                   293.2               17.46  \n",
       "3155                    11.18                   298.6               16.98  \n",
       "3156                    11.19                   305.0               17.12  \n",
       "3157                    11.04                   305.6               16.24  \n",
       "3158                    10.98                   299.5               15.81  \n",
       "\n",
       "[3159 rows x 6 columns]"
      ]
     },
     "execution_count": 3,
     "metadata": {},
     "output_type": "execute_result"
    }
   ],
   "source": [
    "mobilis\n"
   ]
  },
  {
   "cell_type": "code",
   "execution_count": null,
   "metadata": {},
   "outputs": [],
   "source": [
    "df=mobilis\n",
    "df[\"Timestamp (UTC+0)\"]\n"
   ]
  },
  {
   "cell_type": "code",
   "execution_count": 32,
   "metadata": {},
   "outputs": [
    {
     "data": {
      "image/png": "[encoded data removed]",
      "text/plain": [
       "<Figure size 640x480 with 1 Axes>"
      ]
     },
     "metadata": {},
     "output_type": "display_data"
    }
   ],
   "source": [
    "import matplotlib.pyplot as plt\n",
    "\n",
    "# Assurez-vous que 'date' est de type datetime\n",
    "df['Timestamp (UTC+0)'] = pd.to_datetime(df['Timestamp (UTC+0)'])\n",
    "\n",
    "df.set_index('Timestamp (UTC+0)', inplace=True)\n",
    "\n",
    "df['temperature_digital_Avg'].plot()\n",
    "plt.title('Température au fil du temps')\n",
    "plt.xlabel('Date')\n",
    "plt.ylabel('Température')\n",
    "plt.show()\n"
   ]
  },
  {
   "cell_type": "code",
   "execution_count": 6,
   "metadata": {},
   "outputs": [],
   "source": [
    "df = pd.read_csv(\"data_mobilis/Data_Planier_Export.csv\")\n"
   ]
  },
  {
   "cell_type": "code",
   "execution_count": 7,
   "metadata": {},
   "outputs": [
    {
     "name": "stdout",
     "output_type": "stream",
     "text": [
      "df_jan_20.mean()        Timestamp (UTC+0)  humidity_digital_Avg  pressure_digital_Avg  \\\n",
      "348 2024-01-20 23:50:00                 67.26                  1031   \n",
      "349 2024-01-20 23:40:00                 69.46                  1031   \n",
      "350 2024-01-20 23:30:00                 69.63                  1031   \n",
      "351 2024-01-20 23:20:00                 66.91                  1031   \n",
      "352 2024-01-20 23:10:00                 67.83                  1031   \n",
      "..                  ...                   ...                   ...   \n",
      "487 2024-01-20 00:40:00                 70.06                  1014   \n",
      "488 2024-01-20 00:30:00                 69.99                  1014   \n",
      "489 2024-01-20 00:20:00                 70.57                  1014   \n",
      "490 2024-01-20 00:10:00                 70.29                  1014   \n",
      "491 2024-01-20 00:00:00                 70.91                  1014   \n",
      "\n",
      "     temperature_digital_Avg  wind_direction_digital  wind_speed_digital  \n",
      "348                    8.850                   53.15               8.290  \n",
      "349                    8.870                   51.91               8.280  \n",
      "350                    9.020                   50.90               7.729  \n",
      "351                    8.920                   42.65               6.886  \n",
      "352                    8.840                   36.18               7.431  \n",
      "..                       ...                     ...                 ...  \n",
      "487                    8.240                   23.78              16.950  \n",
      "488                    8.170                   21.29              16.920  \n",
      "489                    7.979                   18.54              16.610  \n",
      "490                    7.763                   13.55              17.470  \n",
      "491                    7.809                   13.67              16.950  \n",
      "\n",
      "[144 rows x 6 columns]  \n"
     ]
    }
   ],
   "source": [
    "# Assurez-vous que la colonne 'date' est de type datetime\n",
    "df['Timestamp (UTC+0)'] = pd.to_datetime(df['Timestamp (UTC+0)'])\n",
    "\n",
    "# Créez un masque pour le 20 janvier\n",
    "mask = (df['Timestamp (UTC+0)'].dt.day == 20) & (df['Timestamp (UTC+0)'].dt.month == 1)\n",
    "\n",
    "# Appliquez le masque pour obtenir les données du 20 janvier\n",
    "df_jan_20 = df[mask]\n",
    "\n",
    "print(f\"df_jan_20.mean()  {df_jan_20}  \")\n"
   ]
  },
  {
   "cell_type": "code",
   "execution_count": 8,
   "metadata": {},
   "outputs": [
    {
     "name": "stdout",
     "output_type": "stream",
     "text": [
      "<class 'pandas.core.frame.DataFrame'>\n",
      "RangeIndex: 3159 entries, 0 to 3158\n",
      "Data columns (total 6 columns):\n",
      " #   Column                   Non-Null Count  Dtype  \n",
      "---  ------                   --------------  -----  \n",
      " 0   Timestamp (UTC+0)        3159 non-null   object \n",
      " 1   humidity_digital_Avg     3159 non-null   float64\n",
      " 2   pressure_digital_Avg     3159 non-null   int64  \n",
      " 3   temperature_digital_Avg  3159 non-null   float64\n",
      " 4   wind_direction_digital   3159 non-null   float64\n",
      " 5   wind_speed_digital       3159 non-null   float64\n",
      "dtypes: float64(4), int64(1), object(1)\n",
      "memory usage: 148.2+ KB\n",
      "\n",
      " info :\n",
      "None \n",
      "\n",
      "Timestamp (UTC+0)  humidity_digital_Avg  pressure_digital_Avg  temperature_digital_Avg  wind_direction_digital  wind_speed_digital\n",
      "2024-01-01 11:00   71.50                 1018                  10.980                   299.5                   15.81                 1\n",
      "2024-01-16 01:10   72.65                 1008                  10.220                   334.7                   18.22                 1\n",
      "2024-01-16 01:30   70.11                 1008                  10.250                   339.3                   18.80                 1\n",
      "2024-01-16 01:40   69.27                 1008                  10.020                   336.9                   19.91                 1\n",
      "2024-01-16 01:50   70.24                 1008                  9.930                    330.9                   19.59                 1\n",
      "                                                                                                                                     ..\n",
      "2024-01-08 19:00   72.03                 1014                  4.783                    313.1                   21.78                 1\n",
      "2024-01-08 19:10   73.03                 1014                  4.693                    312.5                   22.58                 1\n",
      "2024-01-08 19:20   73.61                 1015                  4.691                    311.2                   22.57                 1\n",
      "2024-01-08 19:30   73.16                 1015                  4.539                    315.1                   21.53                 1\n",
      "2024-01-23 09:50   72.70                 1033                  12.450                   285.9                   21.94                 1\n",
      "Name: count, Length: 3159, dtype: int64\n"
     ]
    },
    {
     "data": {
      "text/plain": [
       "0       2024-01-23 09:50\n",
       "1       2024-01-23 09:40\n",
       "2       2024-01-23 09:30\n",
       "3       2024-01-23 09:20\n",
       "4       2024-01-23 09:10\n",
       "              ...       \n",
       "3154    2024-01-01 11:40\n",
       "3155    2024-01-01 11:30\n",
       "3156    2024-01-01 11:20\n",
       "3157    2024-01-01 11:10\n",
       "3158    2024-01-01 11:00\n",
       "Name: Timestamp (UTC+0), Length: 3159, dtype: object"
      ]
     },
     "execution_count": 8,
     "metadata": {},
     "output_type": "execute_result"
    },
    {
     "data": {
      "image/png": "[encoded data removed]",
      "text/plain": [
       "<Figure size 640x480 with 1 Axes>"
      ]
     },
     "metadata": {},
     "output_type": "display_data"
    }
   ],
   "source": [
    "your_dataframe=mobilis\n",
    "df=mobilis\n",
    "pd.set_option('display.max_row' ,111)\n",
    "print(f\"\\n info :\\n{df.info()} \\n\")\n",
    "df.value_counts()\n",
    "print(df.value_counts())\n",
    "your_dataframe.dtypes.value_counts().plot.pie()\n",
    "df[\"Timestamp (UTC+0)\"]\n"
   ]
  },
  {
   "cell_type": "code",
   "execution_count": 11,
   "metadata": {},
   "outputs": [
    {
     "ename": "KeyError",
     "evalue": "\"None of [Index(['Age', 'Sex', 'Survived'], dtype='object')] are in the [columns]\"",
     "output_type": "error",
     "traceback": [
      "\u001b[1;31m---------------------------------------------------------------------------\u001b[0m",
      "\u001b[1;31mKeyError\u001b[0m                                  Traceback (most recent call last)",
      "Cell \u001b[1;32mIn[11], line 2\u001b[0m\n\u001b[0;32m      1\u001b[0m plt\u001b[38;5;241m.\u001b[39mfigure(figsize \u001b[38;5;241m=\u001b[39m(\u001b[38;5;241m20\u001b[39m,\u001b[38;5;241m10\u001b[39m))\n\u001b[1;32m----> 2\u001b[0m sns\u001b[38;5;241m.\u001b[39mhistplot(df[[\u001b[38;5;124m'\u001b[39m\u001b[38;5;124mAge\u001b[39m\u001b[38;5;124m'\u001b[39m,\u001b[38;5;124m'\u001b[39m\u001b[38;5;124mSex\u001b[39m\u001b[38;5;124m'\u001b[39m,\u001b[38;5;124m'\u001b[39m\u001b[38;5;124mSurvived\u001b[39m\u001b[38;5;124m'\u001b[39m]]\u001b[38;5;241m.\u001b[39mdropna()\u001b[38;5;241m.\u001b[39mcorr())\n\u001b[0;32m      3\u001b[0m sns\u001b[38;5;241m.\u001b[39mdisplot(df[[\u001b[38;5;124m'\u001b[39m\u001b[38;5;124mAge\u001b[39m\u001b[38;5;124m'\u001b[39m,\u001b[38;5;124m'\u001b[39m\u001b[38;5;124mSex\u001b[39m\u001b[38;5;124m'\u001b[39m,\u001b[38;5;124m'\u001b[39m\u001b[38;5;124mSurvived\u001b[39m\u001b[38;5;124m'\u001b[39m]], label\u001b[38;5;241m=\u001b[39m\u001b[38;5;124m'\u001b[39m\u001b[38;5;124mSurvived\u001b[39m\u001b[38;5;124m'\u001b[39m)\n\u001b[0;32m      4\u001b[0m sns\u001b[38;5;241m.\u001b[39mclustermap(df[[\u001b[38;5;124m'\u001b[39m\u001b[38;5;124mAge\u001b[39m\u001b[38;5;124m'\u001b[39m,\u001b[38;5;124m'\u001b[39m\u001b[38;5;124mSex\u001b[39m\u001b[38;5;124m'\u001b[39m,\u001b[38;5;124m'\u001b[39m\u001b[38;5;124mSurvived\u001b[39m\u001b[38;5;124m'\u001b[39m]]\u001b[38;5;241m.\u001b[39mdropna()\u001b[38;5;241m.\u001b[39mcorr())\n",
      "File \u001b[1;32mc:\\ProgramData\\Anaconda3\\Lib\\site-packages\\pandas\\core\\frame.py:3767\u001b[0m, in \u001b[0;36mDataFrame.__getitem__\u001b[1;34m(self, key)\u001b[0m\n\u001b[0;32m   3765\u001b[0m     \u001b[38;5;28;01mif\u001b[39;00m is_iterator(key):\n\u001b[0;32m   3766\u001b[0m         key \u001b[38;5;241m=\u001b[39m \u001b[38;5;28mlist\u001b[39m(key)\n\u001b[1;32m-> 3767\u001b[0m     indexer \u001b[38;5;241m=\u001b[39m \u001b[38;5;28mself\u001b[39m\u001b[38;5;241m.\u001b[39mcolumns\u001b[38;5;241m.\u001b[39m_get_indexer_strict(key, \u001b[38;5;124m\"\u001b[39m\u001b[38;5;124mcolumns\u001b[39m\u001b[38;5;124m\"\u001b[39m)[\u001b[38;5;241m1\u001b[39m]\n\u001b[0;32m   3769\u001b[0m \u001b[38;5;66;03m# take() does not accept boolean indexers\u001b[39;00m\n\u001b[0;32m   3770\u001b[0m \u001b[38;5;28;01mif\u001b[39;00m \u001b[38;5;28mgetattr\u001b[39m(indexer, \u001b[38;5;124m\"\u001b[39m\u001b[38;5;124mdtype\u001b[39m\u001b[38;5;124m\"\u001b[39m, \u001b[38;5;28;01mNone\u001b[39;00m) \u001b[38;5;241m==\u001b[39m \u001b[38;5;28mbool\u001b[39m:\n",
      "File \u001b[1;32mc:\\ProgramData\\Anaconda3\\Lib\\site-packages\\pandas\\core\\indexes\\base.py:5877\u001b[0m, in \u001b[0;36mIndex._get_indexer_strict\u001b[1;34m(self, key, axis_name)\u001b[0m\n\u001b[0;32m   5874\u001b[0m \u001b[38;5;28;01melse\u001b[39;00m:\n\u001b[0;32m   5875\u001b[0m     keyarr, indexer, new_indexer \u001b[38;5;241m=\u001b[39m \u001b[38;5;28mself\u001b[39m\u001b[38;5;241m.\u001b[39m_reindex_non_unique(keyarr)\n\u001b[1;32m-> 5877\u001b[0m \u001b[38;5;28mself\u001b[39m\u001b[38;5;241m.\u001b[39m_raise_if_missing(keyarr, indexer, axis_name)\n\u001b[0;32m   5879\u001b[0m keyarr \u001b[38;5;241m=\u001b[39m \u001b[38;5;28mself\u001b[39m\u001b[38;5;241m.\u001b[39mtake(indexer)\n\u001b[0;32m   5880\u001b[0m \u001b[38;5;28;01mif\u001b[39;00m \u001b[38;5;28misinstance\u001b[39m(key, Index):\n\u001b[0;32m   5881\u001b[0m     \u001b[38;5;66;03m# GH 42790 - Preserve name from an Index\u001b[39;00m\n",
      "File \u001b[1;32mc:\\ProgramData\\Anaconda3\\Lib\\site-packages\\pandas\\core\\indexes\\base.py:5938\u001b[0m, in \u001b[0;36mIndex._raise_if_missing\u001b[1;34m(self, key, indexer, axis_name)\u001b[0m\n\u001b[0;32m   5936\u001b[0m     \u001b[38;5;28;01mif\u001b[39;00m use_interval_msg:\n\u001b[0;32m   5937\u001b[0m         key \u001b[38;5;241m=\u001b[39m \u001b[38;5;28mlist\u001b[39m(key)\n\u001b[1;32m-> 5938\u001b[0m     \u001b[38;5;28;01mraise\u001b[39;00m \u001b[38;5;167;01mKeyError\u001b[39;00m(\u001b[38;5;124mf\u001b[39m\u001b[38;5;124m\"\u001b[39m\u001b[38;5;124mNone of [\u001b[39m\u001b[38;5;132;01m{\u001b[39;00mkey\u001b[38;5;132;01m}\u001b[39;00m\u001b[38;5;124m] are in the [\u001b[39m\u001b[38;5;132;01m{\u001b[39;00maxis_name\u001b[38;5;132;01m}\u001b[39;00m\u001b[38;5;124m]\u001b[39m\u001b[38;5;124m\"\u001b[39m)\n\u001b[0;32m   5940\u001b[0m not_found \u001b[38;5;241m=\u001b[39m \u001b[38;5;28mlist\u001b[39m(ensure_index(key)[missing_mask\u001b[38;5;241m.\u001b[39mnonzero()[\u001b[38;5;241m0\u001b[39m]]\u001b[38;5;241m.\u001b[39munique())\n\u001b[0;32m   5941\u001b[0m \u001b[38;5;28;01mraise\u001b[39;00m \u001b[38;5;167;01mKeyError\u001b[39;00m(\u001b[38;5;124mf\u001b[39m\u001b[38;5;124m\"\u001b[39m\u001b[38;5;132;01m{\u001b[39;00mnot_found\u001b[38;5;132;01m}\u001b[39;00m\u001b[38;5;124m not in index\u001b[39m\u001b[38;5;124m\"\u001b[39m)\n",
      "\u001b[1;31mKeyError\u001b[0m: \"None of [Index(['Age', 'Sex', 'Survived'], dtype='object')] are in the [columns]\""
     ]
    },
    {
     "data": {
      "text/plain": [
       "<Figure size 2000x1000 with 0 Axes>"
      ]
     },
     "metadata": {},
     "output_type": "display_data"
    }
   ],
   "source": [
    "\n",
    "plt.figure(figsize =(20,10))\n",
    "sns.histplot(df[['Age','Sex','Survived']].dropna().corr())\n",
    "sns.displot(df[['Age','Sex','Survived']], label='Survived')\n",
    "sns.clustermap(df[['Age','Sex','Survived']].dropna().corr())\n",
    "sns.countplot(df[['Age','Sex','Survived']].dropna().corr())\n"
   ]
  },
  {
   "cell_type": "code",
   "execution_count": 5,
   "metadata": {},
   "outputs": [
    {
     "ename": "KeyError",
     "evalue": "'Sex'",
     "output_type": "error",
     "traceback": [
      "\u001b[1;31m---------------------------------------------------------------------------\u001b[0m",
      "\u001b[1;31mKeyError\u001b[0m                                  Traceback (most recent call last)",
      "File \u001b[1;32mc:\\ProgramData\\Anaconda3\\Lib\\site-packages\\pandas\\core\\indexes\\base.py:3653\u001b[0m, in \u001b[0;36mIndex.get_loc\u001b[1;34m(self, key)\u001b[0m\n\u001b[0;32m   3652\u001b[0m \u001b[38;5;28;01mtry\u001b[39;00m:\n\u001b[1;32m-> 3653\u001b[0m     \u001b[38;5;28;01mreturn\u001b[39;00m \u001b[38;5;28mself\u001b[39m\u001b[38;5;241m.\u001b[39m_engine\u001b[38;5;241m.\u001b[39mget_loc(casted_key)\n\u001b[0;32m   3654\u001b[0m \u001b[38;5;28;01mexcept\u001b[39;00m \u001b[38;5;167;01mKeyError\u001b[39;00m \u001b[38;5;28;01mas\u001b[39;00m err:\n",
      "File \u001b[1;32mc:\\ProgramData\\Anaconda3\\Lib\\site-packages\\pandas\\_libs\\index.pyx:147\u001b[0m, in \u001b[0;36mpandas._libs.index.IndexEngine.get_loc\u001b[1;34m()\u001b[0m\n",
      "File \u001b[1;32mc:\\ProgramData\\Anaconda3\\Lib\\site-packages\\pandas\\_libs\\index.pyx:176\u001b[0m, in \u001b[0;36mpandas._libs.index.IndexEngine.get_loc\u001b[1;34m()\u001b[0m\n",
      "File \u001b[1;32mpandas\\_libs\\hashtable_class_helper.pxi:7080\u001b[0m, in \u001b[0;36mpandas._libs.hashtable.PyObjectHashTable.get_item\u001b[1;34m()\u001b[0m\n",
      "File \u001b[1;32mpandas\\_libs\\hashtable_class_helper.pxi:7088\u001b[0m, in \u001b[0;36mpandas._libs.hashtable.PyObjectHashTable.get_item\u001b[1;34m()\u001b[0m\n",
      "\u001b[1;31mKeyError\u001b[0m: 'Sex'",
      "\nThe above exception was the direct cause of the following exception:\n",
      "\u001b[1;31mKeyError\u001b[0m                                  Traceback (most recent call last)",
      "Cell \u001b[1;32mIn[5], line 4\u001b[0m\n\u001b[0;32m      1\u001b[0m \u001b[38;5;28;01mfrom\u001b[39;00m \u001b[38;5;21;01msklearn\u001b[39;00m\u001b[38;5;21;01m.\u001b[39;00m\u001b[38;5;21;01mpreprocessing\u001b[39;00m \u001b[38;5;28;01mimport\u001b[39;00m StandardScaler, MinMaxScaler, Normalizer, OneHotEncoder\n\u001b[0;32m      3\u001b[0m df\u001b[38;5;241m=\u001b[39mmobilis\n\u001b[1;32m----> 4\u001b[0m df[\u001b[38;5;124m'\u001b[39m\u001b[38;5;124mSex\u001b[39m\u001b[38;5;124m'\u001b[39m]\u001b[38;5;241m.\u001b[39mreplace({\u001b[38;5;124m'\u001b[39m\u001b[38;5;124mmale\u001b[39m\u001b[38;5;124m'\u001b[39m:\u001b[38;5;241m0\u001b[39m, \u001b[38;5;124m'\u001b[39m\u001b[38;5;124mfemale\u001b[39m\u001b[38;5;124m'\u001b[39m:\u001b[38;5;241m1\u001b[39m}, inplace\u001b[38;5;241m=\u001b[39m\u001b[38;5;28;01mTrue\u001b[39;00m)\n\u001b[0;32m      5\u001b[0m colonne_texte\u001b[38;5;241m=\u001b[39mdf\u001b[38;5;241m.\u001b[39mselect_dtypes(\u001b[38;5;124m'\u001b[39m\u001b[38;5;124mobject\u001b[39m\u001b[38;5;124m'\u001b[39m)\u001b[38;5;241m.\u001b[39mcolumns\n\u001b[0;32m      6\u001b[0m colonne_numerique\u001b[38;5;241m=\u001b[39mdf\u001b[38;5;241m.\u001b[39mselect_dtypes(include\u001b[38;5;241m=\u001b[39m[\u001b[38;5;124m'\u001b[39m\u001b[38;5;124mfloat\u001b[39m\u001b[38;5;124m'\u001b[39m,\u001b[38;5;124m'\u001b[39m\u001b[38;5;124mint64\u001b[39m\u001b[38;5;124m'\u001b[39m])\u001b[38;5;241m.\u001b[39mcolumns\n",
      "File \u001b[1;32mc:\\ProgramData\\Anaconda3\\Lib\\site-packages\\pandas\\core\\frame.py:3761\u001b[0m, in \u001b[0;36mDataFrame.__getitem__\u001b[1;34m(self, key)\u001b[0m\n\u001b[0;32m   3759\u001b[0m \u001b[38;5;28;01mif\u001b[39;00m \u001b[38;5;28mself\u001b[39m\u001b[38;5;241m.\u001b[39mcolumns\u001b[38;5;241m.\u001b[39mnlevels \u001b[38;5;241m>\u001b[39m \u001b[38;5;241m1\u001b[39m:\n\u001b[0;32m   3760\u001b[0m     \u001b[38;5;28;01mreturn\u001b[39;00m \u001b[38;5;28mself\u001b[39m\u001b[38;5;241m.\u001b[39m_getitem_multilevel(key)\n\u001b[1;32m-> 3761\u001b[0m indexer \u001b[38;5;241m=\u001b[39m \u001b[38;5;28mself\u001b[39m\u001b[38;5;241m.\u001b[39mcolumns\u001b[38;5;241m.\u001b[39mget_loc(key)\n\u001b[0;32m   3762\u001b[0m \u001b[38;5;28;01mif\u001b[39;00m is_integer(indexer):\n\u001b[0;32m   3763\u001b[0m     indexer \u001b[38;5;241m=\u001b[39m [indexer]\n",
      "File \u001b[1;32mc:\\ProgramData\\Anaconda3\\Lib\\site-packages\\pandas\\core\\indexes\\base.py:3655\u001b[0m, in \u001b[0;36mIndex.get_loc\u001b[1;34m(self, key)\u001b[0m\n\u001b[0;32m   3653\u001b[0m     \u001b[38;5;28;01mreturn\u001b[39;00m \u001b[38;5;28mself\u001b[39m\u001b[38;5;241m.\u001b[39m_engine\u001b[38;5;241m.\u001b[39mget_loc(casted_key)\n\u001b[0;32m   3654\u001b[0m \u001b[38;5;28;01mexcept\u001b[39;00m \u001b[38;5;167;01mKeyError\u001b[39;00m \u001b[38;5;28;01mas\u001b[39;00m err:\n\u001b[1;32m-> 3655\u001b[0m     \u001b[38;5;28;01mraise\u001b[39;00m \u001b[38;5;167;01mKeyError\u001b[39;00m(key) \u001b[38;5;28;01mfrom\u001b[39;00m \u001b[38;5;21;01merr\u001b[39;00m\n\u001b[0;32m   3656\u001b[0m \u001b[38;5;28;01mexcept\u001b[39;00m \u001b[38;5;167;01mTypeError\u001b[39;00m:\n\u001b[0;32m   3657\u001b[0m     \u001b[38;5;66;03m# If we have a listlike key, _check_indexing_error will raise\u001b[39;00m\n\u001b[0;32m   3658\u001b[0m     \u001b[38;5;66;03m#  InvalidIndexError. Otherwise we fall through and re-raise\u001b[39;00m\n\u001b[0;32m   3659\u001b[0m     \u001b[38;5;66;03m#  the TypeError.\u001b[39;00m\n\u001b[0;32m   3660\u001b[0m     \u001b[38;5;28mself\u001b[39m\u001b[38;5;241m.\u001b[39m_check_indexing_error(key)\n",
      "\u001b[1;31mKeyError\u001b[0m: 'Sex'"
     ]
    }
   ],
   "source": [
    "\n",
    "from sklearn.preprocessing import StandardScaler, MinMaxScaler, Normalizer, OneHotEncoder\n",
    "\n",
    "df=mobilis\n",
    "df['Sex'].replace({'male':0, 'female':1}, inplace=True)\n",
    "colonne_texte=df.select_dtypes('object').columns\n",
    "colonne_numerique=df.select_dtypes(include=['float','int64']).columns\n",
    "print(f\"\\n colonne_texte:\\n{colonne_texte} \\n\")\n",
    "print(f\"\\n colonne_numerique\\n{colonne_numerique} \\n\")\n",
    "# standaridisation avec onehotencoder\n",
    "preprocessing_onehotencoder=OneHotEncoder(handle_unknown='ignore')\n",
    "preprocessing_onehotencoder.fit_transform(df[colonne_texte])\n",
    "print(f\"\\n colonne_texte:\\n{df.head(5)} \\n\")\n",
    "print(f\"\\n colonne_texte:\\n{preprocessing_onehotencoder} \\n\")\n"
   ]
  },
  {
   "cell_type": "code",
   "execution_count": 17,
   "metadata": {},
   "outputs": [
    {
     "name": "stdout",
     "output_type": "stream",
     "text": [
      "Moyenne humidity_digital_Avg----------------------------------------  76.08 \n",
      "Moyenne pressure_digital_Avg----------------------------------------  1014.34 \n",
      "Moyenne temperature_digital_Avg-------------------------------------  10.25 \n",
      "Moyenne wind_direction_digital--------------------------------------  242.70 \n",
      "Moyenne wind_speed_digital------------------------------------------  14.77 \n"
     ]
    }
   ],
   "source": [
    "for col in df.select_dtypes(include=['float64','int64']):\n",
    "    print(f\"Moyenne {col:-<60}  {df[col].mean():.2f} \")\n"
   ]
  }
 ],
 "metadata": {
  "kernelspec": {
   "display_name": "base",
   "language": "python",
   "name": "python3"
  },
  "language_info": {
   "codemirror_mode": {
    "name": "ipython",
    "version": 3
   },
   "file_extension": ".py",
   "mimetype": "text/x-python",
   "name": "python",
   "nbconvert_exporter": "python",
   "pygments_lexer": "ipython3",
   "version": "3.11.5"
  }
 },
 "nbformat": 4,
 "nbformat_minor": 2
}
