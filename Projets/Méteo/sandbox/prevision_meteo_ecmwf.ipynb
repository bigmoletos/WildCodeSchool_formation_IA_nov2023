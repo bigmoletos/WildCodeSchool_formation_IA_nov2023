{
 "cells": [
  {
   "cell_type": "code",
   "execution_count": 1,
   "metadata": {},
   "outputs": [
    {
     "data": {
      "application/vnd.jupyter.widget-view+json": {
       "model_id": "81bd8e38b56d4cc0aa01a7c1b40d794e",
       "version_major": 2,
       "version_minor": 0
      },
      "text/plain": [
       "20231213000000-240h-oper-fc.grib2:   0%|          | 0.00/219k [00:00<?, ?B/s]"
      ]
     },
     "metadata": {},
     "output_type": "display_data"
    },
    {
     "data": {
      "text/plain": [
       "<ecmwf.opendata.client.Result at 0x22a0582ade0>"
      ]
     },
     "execution_count": 1,
     "metadata": {},
     "output_type": "execute_result"
    }
   ],
   "source": [
    "from ecmwf.opendata import Client\n",
    "\n",
    "client = Client()\n",
    "\n",
    "client.retrieve(\n",
    "    step=240,\n",
    "    type=\"fc\",\n",
    "    param=\"msl\",\n",
    "    target=\"data.grib2\",\n",
    ")"
   ]
  },
  {
   "cell_type": "code",
   "execution_count": 3,
   "metadata": {},
   "outputs": [
    {
     "ename": "AttributeError",
     "evalue": "'Client' object has no attribute 'info'",
     "output_type": "error",
     "traceback": [
      "\u001b[1;31m---------------------------------------------------------------------------\u001b[0m",
      "\u001b[1;31mAttributeError\u001b[0m                            Traceback (most recent call last)",
      "Cell \u001b[1;32mIn[3], line 1\u001b[0m\n\u001b[1;32m----> 1\u001b[0m \u001b[43mclient\u001b[49m\u001b[38;5;241;43m.\u001b[39;49m\u001b[43minfo\u001b[49m()\n",
      "\u001b[1;31mAttributeError\u001b[0m: 'Client' object has no attribute 'info'"
     ]
    }
   ],
   "source": [
    "client"
   ]
  },
  {
   "cell_type": "code",
   "execution_count": null,
   "metadata": {},
   "outputs": [],
   "source": [
    "from selenium import webdriver\n",
    "from selenium.webdriver.support.ui import WebDriverWait\n",
    "from selenium.webdriver.support import expected_conditions as EC\n",
    "from selenium.webdriver.common.by import By\n",
    "import pandas as pd\n",
    "\n",
    "# Créer une nouvelle instance de navigateur\n",
    "driver = webdriver.Edge() #webdriver.Firefox()  # ou webdriver.Chrome(), selon votre navigateur\n",
    "\n",
    "# Aller à la page web\n",
    "url = \"https://www.wunderground.com/dashboard/pws/IPROVENC35/table/2023-12-14/2023-12-14/daily\"\n",
    "driver.get(url)\n",
    "\n",
    "# Attendre que la page soit complètement chargée\n",
    "wait = WebDriverWait(driver, 10)\n",
    "wait.until(EC.presence_of_element_located((By.TAG_NAME, 'table')))\n",
    "\n",
    "# Récupérer le tableau avec les données météo\n",
    "table = driver.find_element_by_tag_name('table')\n",
    "\n",
    "# Utiliser pandas pour lire le tableau HTML\n",
    "df = pd.read_html(table.get_attribute('outerHTML'))[0]\n",
    "\n",
    "# Afficher le DataFrame\n",
    "print(df)\n",
    "\n",
    "# Fermer le navigateur\n",
    "driver.quit()"
   ]
  },
  {
   "cell_type": "code",
   "execution_count": 6,
   "metadata": {},
   "outputs": [
    {
     "name": "stdout",
     "output_type": "stream",
     "text": [
      "        Time Temperature Dew Point Humidity  Wind      Speed       Gust  \\\n",
      "0        NaN         NaN       NaN      NaN   NaN        NaN        NaN   \n",
      "1   12:00 AM     55.4 °F   49.0 °F    78 °%   WNW  24.0 °mph  27.0 °mph   \n",
      "2   12:15 AM     54.7 °F   47.0 °F    75 °%   WNW  10.0 °mph  27.0 °mph   \n",
      "3   12:30 AM     54.3 °F   47.0 °F    75 °%   WNW   8.0 °mph  27.0 °mph   \n",
      "4   12:45 AM     53.8 °F   46.0 °F    76 °%   WNW   3.0 °mph  27.0 °mph   \n",
      "5    1:00 AM     53.2 °F   46.0 °F    77 °%    NW   7.0 °mph  27.0 °mph   \n",
      "6    1:15 AM     52.8 °F   46.0 °F    77 °%    NW   9.0 °mph  27.0 °mph   \n",
      "7    1:30 AM     52.4 °F   45.0 °F    77 °%    NW   7.0 °mph  27.0 °mph   \n",
      "8    1:45 AM     52.0 °F   45.0 °F    78 °%    NW   5.0 °mph  27.0 °mph   \n",
      "9    2:00 AM     51.8 °F   45.0 °F    78 °%   NNW   9.0 °mph  27.0 °mph   \n",
      "10   2:15 AM     51.8 °F   45.0 °F    78 °%  West  11.0 °mph  27.0 °mph   \n",
      "11   2:30 AM     51.6 °F   45.0 °F    77 °%  West  12.0 °mph  27.0 °mph   \n",
      "12   2:45 AM     51.7 °F   45.0 °F    77 °%    NW   8.0 °mph  27.0 °mph   \n",
      "13   3:00 AM     51.5 °F   45.0 °F    77 °%   WNW  10.0 °mph  27.0 °mph   \n",
      "14   3:15 AM     51.4 °F   45.0 °F    78 °%   ENE   9.0 °mph  27.0 °mph   \n",
      "15   3:30 AM     51.2 °F   45.0 °F    78 °%   WNW   8.0 °mph  27.0 °mph   \n",
      "16   3:45 AM     51.2 °F   45.0 °F    78 °%    NW  11.0 °mph  27.0 °mph   \n",
      "17   4:00 AM     51.3 °F   45.0 °F    78 °%   WNW  13.0 °mph  27.0 °mph   \n",
      "18   4:15 AM     51.1 °F   44.0 °F    78 °%    NW   7.0 °mph  27.0 °mph   \n",
      "19   4:30 AM     51.4 °F   45.0 °F    78 °%   NNE   8.0 °mph  27.0 °mph   \n",
      "20   4:45 AM     51.2 °F   45.0 °F    78 °%   WNW  10.0 °mph  27.0 °mph   \n",
      "21   5:00 AM     51.5 °F   45.0 °F    77 °%  West   8.0 °mph  27.0 °mph   \n",
      "22   5:15 AM     51.7 °F   45.0 °F    77 °%  West   9.0 °mph  27.0 °mph   \n",
      "23   5:30 AM     51.5 °F   45.0 °F    77 °%   NNW  10.0 °mph  27.0 °mph   \n",
      "24   5:45 AM     51.6 °F   44.0 °F    76 °%   WNW  10.0 °mph  27.0 °mph   \n",
      "25   6:00 AM     51.8 °F   44.0 °F    76 °%    NW   8.0 °mph  27.0 °mph   \n",
      "26   6:15 AM     51.4 °F   44.0 °F    76 °%   WNW   8.0 °mph  27.0 °mph   \n",
      "27   6:30 AM     51.8 °F   44.0 °F    76 °%   NaN  14.0 °mph  23.0 °mph   \n",
      "28   6:45 AM     51.9 °F   45.0 °F    76 °%   ENE  12.0 °mph  24.0 °mph   \n",
      "29   7:00 AM     52.0 °F   44.0 °F    75 °%   WNW   9.0 °mph  24.0 °mph   \n",
      "30   7:15 AM     51.9 °F   45.0 °F    77 °%    NW  15.0 °mph  24.0 °mph   \n",
      "31   7:30 AM     51.7 °F   45.0 °F    77 °%   WNW   5.0 °mph  24.0 °mph   \n",
      "32   7:45 AM     51.2 °F   44.0 °F    77 °%   WNW  12.0 °mph  24.0 °mph   \n",
      "33   8:00 AM     51.0 °F   44.0 °F    77 °%   WNW  12.0 °mph  24.0 °mph   \n",
      "34   8:15 AM     51.4 °F   44.0 °F    76 °%   NNW   6.0 °mph  28.0 °mph   \n",
      "35   8:30 AM     51.7 °F   44.0 °F    76 °%   WNW  15.0 °mph  28.0 °mph   \n",
      "36   8:45 AM     51.6 °F   45.0 °F    77 °%   NNW  11.0 °mph  30.0 °mph   \n",
      "37   9:00 AM     51.7 °F   45.0 °F    77 °%   WNW   7.0 °mph  30.0 °mph   \n",
      "38   9:15 AM     51.9 °F   44.0 °F    75 °%  West   8.0 °mph  30.0 °mph   \n",
      "39   9:30 AM     52.2 °F   45.0 °F    75 °%   WNW  16.0 °mph  30.0 °mph   \n",
      "40   9:45 AM     51.9 °F   44.0 °F    75 °%   NNW  12.0 °mph  30.0 °mph   \n",
      "41  10:00 AM     52.4 °F   45.0 °F    75 °%    NW   9.0 °mph  30.0 °mph   \n",
      "42  10:15 AM     52.8 °F   45.0 °F    74 °%   NNW   9.0 °mph  30.0 °mph   \n",
      "43  10:30 AM     52.8 °F   44.0 °F    71 °%   WNW  14.0 °mph  30.0 °mph   \n",
      "44  10:45 AM     53.1 °F   44.0 °F    71 °%  West  12.0 °mph  30.0 °mph   \n",
      "45  11:00 AM     53.3 °F   44.0 °F    72 °%    NE  12.0 °mph  30.0 °mph   \n",
      "\n",
      "     Pressure Precip. Rate. Precip. Accum.   UV   Solar  \n",
      "0         NaN           NaN            NaN  NaN     NaN  \n",
      "1   29.78 °in      0.00 °in       0.00 °in  0.0  0 w/m²  \n",
      "2   29.78 °in      0.00 °in       0.00 °in  0.0  0 w/m²  \n",
      "3   29.78 °in      0.00 °in       0.00 °in  0.0  0 w/m²  \n",
      "4   29.78 °in      0.00 °in       0.00 °in  0.0  0 w/m²  \n",
      "5   29.79 °in      0.00 °in       0.00 °in  0.0  0 w/m²  \n",
      "6   29.79 °in      0.00 °in       0.00 °in  0.0  0 w/m²  \n",
      "7   29.79 °in      0.00 °in       0.00 °in  0.0  0 w/m²  \n",
      "8   29.79 °in      0.00 °in       0.00 °in  0.0  0 w/m²  \n",
      "9   29.80 °in      0.00 °in       0.00 °in  0.0  0 w/m²  \n",
      "10  29.80 °in      0.00 °in       0.00 °in  0.0  0 w/m²  \n",
      "11  29.80 °in      0.00 °in       0.00 °in  0.0  0 w/m²  \n",
      "12  29.80 °in      0.00 °in       0.00 °in  0.0  0 w/m²  \n",
      "13  29.81 °in      0.00 °in       0.00 °in  0.0  0 w/m²  \n",
      "14  29.81 °in      0.00 °in       0.00 °in  0.0  0 w/m²  \n",
      "15  29.81 °in      0.00 °in       0.00 °in  0.0  0 w/m²  \n",
      "16  29.81 °in      0.00 °in       0.00 °in  0.0  0 w/m²  \n",
      "17  29.81 °in      0.00 °in       0.00 °in  0.0  0 w/m²  \n",
      "18  29.82 °in      0.00 °in       0.00 °in  0.0  0 w/m²  \n",
      "19  29.82 °in      0.00 °in       0.00 °in  0.0  0 w/m²  \n",
      "20  29.83 °in      0.00 °in       0.00 °in  0.0  0 w/m²  \n",
      "21  29.83 °in      0.00 °in       0.00 °in  0.0  0 w/m²  \n",
      "22  29.83 °in      0.00 °in       0.00 °in  0.0  0 w/m²  \n",
      "23  29.83 °in      0.00 °in       0.00 °in  0.0  0 w/m²  \n",
      "24  29.84 °in      0.00 °in       0.00 °in  0.0  0 w/m²  \n",
      "25  29.84 °in      0.00 °in       0.00 °in  0.0  0 w/m²  \n",
      "26  29.86 °in      0.00 °in       0.00 °in  0.0  0 w/m²  \n",
      "27  29.86 °in      0.00 °in       0.00 °in  0.0  0 w/m²  \n",
      "28  29.87 °in      0.00 °in       0.00 °in  0.0  0 w/m²  \n",
      "29  29.87 °in      0.00 °in       0.00 °in  0.0  0 w/m²  \n",
      "30  29.88 °in      0.00 °in       0.00 °in  0.0  0 w/m²  \n",
      "31  29.89 °in      0.00 °in       0.00 °in  0.0  0 w/m²  \n",
      "32  29.89 °in      0.00 °in       0.00 °in  0.0  0 w/m²  \n",
      "33  29.89 °in      0.00 °in       0.00 °in  0.0  0 w/m²  \n",
      "34  29.90 °in      0.00 °in       0.00 °in  0.0  0 w/m²  \n",
      "35  29.91 °in      0.00 °in       0.00 °in  0.0  0 w/m²  \n",
      "36  29.91 °in      0.00 °in       0.00 °in  0.0  0 w/m²  \n",
      "37  29.92 °in      0.00 °in       0.00 °in  0.0  0 w/m²  \n",
      "38  29.93 °in      0.00 °in       0.00 °in  0.0  0 w/m²  \n",
      "39  29.94 °in      0.00 °in       0.00 °in  0.0  0 w/m²  \n",
      "40  29.94 °in      0.00 °in       0.00 °in  0.0  0 w/m²  \n",
      "41  29.94 °in      0.01 °in       0.01 °in  0.0  0 w/m²  \n",
      "42  29.94 °in      0.02 °in       0.02 °in  0.0  0 w/m²  \n",
      "43  29.95 °in      0.02 °in       0.02 °in  0.0  0 w/m²  \n",
      "44  29.95 °in      0.02 °in       0.02 °in  0.0  0 w/m²  \n",
      "45  29.96 °in      0.02 °in       0.02 °in  0.0  0 w/m²  \n"
     ]
    },
    {
     "name": "stderr",
     "output_type": "stream",
     "text": [
      "C:\\Users\\romar\\AppData\\Local\\Temp\\ipykernel_47336\\3290731344.py:19: FutureWarning: Passing literal html to 'read_html' is deprecated and will be removed in a future version. To read from a literal string, wrap it in a 'StringIO' object.\n",
      "  df = pd.read_html(str(table))[0]\n"
     ]
    }
   ],
   "source": [
    "import requests\n",
    "import pandas as pd\n",
    "from bs4 import BeautifulSoup\n",
    "\n",
    "# Faire une requête GET à l'URL de la page web\n",
    "url = \"https://www.wunderground.com/dashboard/pws/IPROVENC35/table/2023-12-14/2023-12-14/daily\"\n",
    "response = requests.get(url)\n",
    "\n",
    "# Créer un objet BeautifulSoup à partir du contenu HTML de la réponse\n",
    "soup = BeautifulSoup(response.content, \"html.parser\")\n",
    "\n",
    "# Trouver le tableau qui contient les données météo\n",
    "table = soup.find(\n",
    "    \"table\", class_=\"history-table desktop-table\")\n",
    "# table = soup.find(\n",
    "#     \"table\", class_=\"mat-table cdk-table mat-sort ng-star-inserted\")\n",
    "\n",
    "# Convertir le tableau en un objet DataFrame de pandas\n",
    "df = pd.read_html(str(table))[0]\n",
    "\n",
    "# Afficher ou sauvegarder le DataFrame\n",
    "print(df)\n",
    "# df.to_csv(\"weather_data.csv\")"
   ]
  },
  {
   "cell_type": "code",
   "execution_count": null,
   "metadata": {},
   "outputs": [],
   "source": []
  }
 ],
 "metadata": {
  "kernelspec": {
   "display_name": "Python 3",
   "language": "python",
   "name": "python3"
  },
  "language_info": {
   "codemirror_mode": {
    "name": "ipython",
    "version": 3
   },
   "file_extension": ".py",
   "mimetype": "text/x-python",
   "name": "python",
   "nbconvert_exporter": "python",
   "pygments_lexer": "ipython3",
   "version": "3.12.0"
  }
 },
 "nbformat": 4,
 "nbformat_minor": 2
}
