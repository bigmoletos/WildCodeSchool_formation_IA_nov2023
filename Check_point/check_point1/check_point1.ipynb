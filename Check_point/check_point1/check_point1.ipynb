{
 "cells": [
  {
   "cell_type": "code",
   "execution_count": 4,
   "metadata": {},
   "outputs": [
    {
     "name": "stdout",
     "output_type": "stream",
     "text": [
      "**\n",
      "***\n",
      "****\n",
      "*****\n",
      "******\n",
      "*******\n",
      "********\n",
      "*********\n",
      "**********\n"
     ]
    }
   ],
   "source": [
    "# hauteur_triangel = input(\"Veuillez entre la hauteur de triangle: \")\n",
    "# hauteur_triangel = int(hauteur_triangel)\n",
    "hauteur_triange= 10\n",
    "message = \"*\"\n",
    "for i in range(1, hauteur_triangel):\n",
    "    # print(i)\n",
    "    message += \"*\"\n",
    "    print(message)\n"
   ]
  },
  {
   "cell_type": "code",
   "execution_count": 8,
   "metadata": {},
   "outputs": [
    {
     "name": "stdout",
     "output_type": "stream",
     "text": [
      "         *\n",
      "        **\n",
      "       ***\n",
      "      ****\n",
      "     *****\n",
      "    ******\n",
      "   *******\n",
      "  ********\n",
      " *********\n",
      "**********\n"
     ]
    }
   ],
   "source": [
    "hauteur_triangle = 10\n",
    "hauteur_triangle = int( input(\n",
    "    \"Veuillez entre la hauteur de triangle: \"))\n",
    "\n",
    "# hauteur_triangle = 4\n",
    "for i in range(1, hauteur_triangle + 1):\n",
    "    espaces = ' ' * (hauteur_triangle - i)\n",
    "    astérisques = '*' * i\n",
    "    ligne = espaces + astérisques\n",
    "    print(ligne)"
   ]
  },
  {
   "cell_type": "code",
   "execution_count": 9,
   "metadata": {},
   "outputs": [],
   "source": [
    "hauteur_triangle = 10\n",
    "message = \"*\"\n",
    "for i in range(hauteur_triangle + 1, 1):\n",
    "    nombre_espaces = ' ' * ((hauteur_triangle - i))\n",
    "    print(i)\n",
    "    # print(nombre_espaces)\n",
    "    decalage_symbol = 2*i-1\n",
    "    # print(decalage_symbol)\n",
    "    nombre_symbol = 'X' * decalage_symbol\n",
    "\n",
    "    # print(nombre_symbol)\n",
    "    ligne = nombre_espaces + nombre_symbol\n",
    "    print(ligne)"
   ]
  },
  {
   "cell_type": "code",
   "execution_count": 11,
   "metadata": {},
   "outputs": [
    {
     "name": "stdout",
     "output_type": "stream",
     "text": [
      "    k\n",
      "   k0k\n",
      "  k444k\n",
      " k88888k\n",
      "kkkkkkkkk\n",
      "    h\n",
      "   h4h\n",
      "  h666h\n",
      " h44444h\n",
      "hhhhhhhhh\n"
     ]
    }
   ],
   "source": [
    "import random\n",
    "\n",
    "\n",
    "# def triangle_plein():\n",
    "#   while True:\n",
    "#     try:\n",
    "#       hauteur_triangle = int(input(\"Veuillez entrer la hauteur du triangle: \"))\n",
    "#       if hauteur_triangle < 3:\n",
    "#         raise ValueError(\"Erreur : veuillez saisir une hauteur minimale de 3 \")\n",
    "#       symbol = input(\"Veuillez entrer le symbole constituant votre triangle: \")\n",
    "#       for i in range(1, hauteur_triangle+1):\n",
    "#         if i == 1 or i == hauteur_triangle:\n",
    "#           # Pour la première et la dernière ligne, on n'ajoute pas de nombre\n",
    "#           ligne = symbol * (2*i - 1)\n",
    "#         else:\n",
    "#           # Pour les autres lignes, on ajoute un nombre aléatoire entre 0 et 9 à l'intérieur du triangle\n",
    "#           parasite = str(random.randint(0, 9))\n",
    "#           ligne = symbol + parasite * (2*i - 3) + symbol\n",
    "#         # On centre la ligne\n",
    "#         ligne = ' ' * (hauteur_triangle - i) + ligne\n",
    "#         print(ligne)\n",
    "#     except ValueError as e:\n",
    "#         print(e)\n",
    "#         message = input(\"\"\"Vous avez saisi des erreurs voulez-vous arrêter le programme ou continuer ?\n",
    "#                         tapez Oui(o) pour arrêter\n",
    "#                         tapez sur n'importe quelle touche pour continuer:  \"\"\")\n",
    "#         if message.lower() in ['o', 'oui', 'y', 'yes']:\n",
    "#             break\n",
    "\n",
    "# test\n",
    "triangle_plein()"
   ]
  },
  {
   "cell_type": "code",
   "execution_count": 56,
   "metadata": {},
   "outputs": [
    {
     "name": "stdout",
     "output_type": "stream",
     "text": [
      "hh\n",
      "hh0\n",
      "hhhh\n",
      "hhhhh\n",
      "hhhhhh\n",
      "hhhhhhh\n",
      "hhhhhhhh\n",
      "hhhhhhhhh\n",
      "hhhhhhhhhh\n",
      "hhhhhhhhhhh\n"
     ]
    }
   ],
   "source": [
    "import random\n",
    "hauteur_triangle=10\n",
    "symbol=\"h\"\n",
    "message = symbol\n",
    "insertion_parasite=False\n",
    "parasite=random.randint(0,9)\n",
    "for i in range(1,hauteur_triangle):\n",
    "    if i == 1 or i == hauteur_triangle:\n",
    "        message+=symbol\n",
    "        print(message)\n",
    "    if insertion_parasite!=True:\n",
    "        if i !=1 or i !=hauteur_triangle :\n",
    "            # cp== random.randint(2,hauteur_triangle-1)\n",
    "            message+=str(parasite)\n",
    "            insertion_parasite=True\n",
    "            print(message)\n",
    "    else:\n",
    "        message+=symbol\n",
    "        message=message.replace(str(parasite),symbol)\n",
    "        print(message)"
   ]
  },
  {
   "cell_type": "code",
   "execution_count": 70,
   "metadata": {},
   "outputs": [
    {
     "name": "stdout",
     "output_type": "stream",
     "text": [
      "@\n",
      "10\n",
      "@@\n",
      "@@@\n",
      "@@@@\n",
      "@@@@@\n",
      "@@@@@@\n",
      "@@@@@@@\n",
      "@@@@@@@@\n",
      "@@@@@@@@@\n",
      "@@@@@@@@@@\n",
      "@@@@@@@@@@@\n"
     ]
    }
   ],
   "source": [
    "symbol=\"@\"\n",
    "message=symbol\n",
    "print(message)\n",
    "parasite=random.randint(0,10)\n",
    "print (parasite)\n",
    "\n",
    "for i in range(1, hauteur_triangle):\n",
    "        if i == 1 or i == hauteur_triangle:\n",
    "            message += symbol\n",
    "            print(message)\n",
    "        if insertion_parasite ==False:\n",
    "            for j in random.randint(i+1,hauteur_triangle-1) :\n",
    "            # if i == random.randint(2,hauteur_triangle-1) :\n",
    "                # cp== random.randint(2,hauteur_triangle-1)\n",
    "                message += str(parasite)\n",
    "                insertion_parasite = True\n",
    "                print(message)\n",
    "        else:\n",
    "            message += symbol\n",
    "            message = message.replace(str(parasite),symbol)\n",
    "            print(message)\n",
    "\n"
   ]
  },
  {
   "cell_type": "code",
   "execution_count": 145,
   "metadata": {},
   "outputs": [
    {
     "name": "stdout",
     "output_type": "stream",
     "text": [
      "@\n",
      "@@\n",
      "@@@\n",
      "@@@@\n",
      "@@@@@\n",
      "@@@@@@\n",
      "@@@@@@@\n",
      "@@@@@@@@\n",
      "@@@@@@@@@\n",
      "@@@@@@@@@@\n"
     ]
    }
   ],
   "source": [
    "parasitesymbol = \"@\"\n",
    "message = symbol\n",
    "print(message)\n",
    "insertion_parasite=False\n",
    "parasite = random.randint(0, 10)\n",
    "# print(parasite)\n",
    "for i in range(1, hauteur_triangle):\n",
    "\n",
    "        ligne = random.randint(2, hauteur_triangle-1)\n",
    "        # print(\"ligne=\",ligne)\n",
    "        if i == 1 | i == hauteur_triangle:\n",
    "                message += symbol\n",
    "                print(message)\n",
    "        if i == ligne:\n",
    "                message += str(parasite)\n",
    "                insertion_parasite = True\n",
    "                #     message+=\" \".join(str(parasite))\n",
    "                print(message)\n",
    "        else:\n",
    "                message += symbol\n",
    "                message = message.replace(str(parasite), symbol)\n",
    "                print(message)"
   ]
  },
  {
   "cell_type": "code",
   "execution_count": 88,
   "metadata": {},
   "outputs": [
    {
     "name": "stdout",
     "output_type": "stream",
     "text": [
      "7\n"
     ]
    }
   ],
   "source": [
    "parasite = random.randint(0, 10)\n",
    "print(parasite)"
   ]
  },
  {
   "cell_type": "code",
   "execution_count": 4,
   "metadata": {},
   "outputs": [
    {
     "name": "stdout",
     "output_type": "stream",
     "text": [
      "k\n",
      "kk\n",
      "kkk\n",
      "kkkk\n",
      "kkkkk\n",
      "kkkkkk\n",
      "kkkkkkk\n",
      "kkkkkkkk4\n",
      "kkkkkkkkk\n",
      "h\n",
      "hh\n",
      "hhh\n",
      "hhhh0\n",
      "hhhhh\n",
      "hhhhhh\n"
     ]
    }
   ],
   "source": []
  },
  {
   "cell_type": "code",
   "execution_count": 6,
   "metadata": {},
   "outputs": [
    {
     "name": "stdout",
     "output_type": "stream",
     "text": [
      "j\n",
      "jj\n",
      "jjj\n",
      "jjjj\n",
      "jjjjj\n",
      "jjjjjj\n",
      "jjjjjjj\n",
      "jjjjjjjj\n",
      "g\n",
      "gg\n",
      "ggg\n",
      "gggg\n",
      "ggg7g\n",
      "gggggg\n",
      "ggggggg\n",
      "gggggggg\n",
      "ggggggggg\n",
      "gggggggggg\n",
      "d\n",
      "2d\n",
      "ddd\n",
      "dddd\n",
      "ddddd\n",
      "dddddd\n",
      "ddddddd\n",
      "dddddddd\n"
     ]
    }
   ],
   "source": [
    "import random\n",
    "\n",
    "\n",
    "def triangle_plein():\n",
    "  while True:\n",
    "    hauteur_triangle = input(\"Veuillez entre la hauteur de triangle: \")\n",
    "    if hauteur_triangle.isdigit():\n",
    "      hauteur_triangle = int(hauteur_triangle)\n",
    "    else:\n",
    "      hauteur_triangle = traduire_texte_chiffre(hauteur_triangle)\n",
    "    symbol = input(\"Veuillez entre le symbole constituant votre triangle: \")\n",
    "    insertion_parasite = False\n",
    "    parasite = random.randint(0, 10)\n",
    "\n",
    "    # controle de la hauteur\n",
    "    if hauteur_triangle < 3 or hauteur_triangle > 10:\n",
    "      print(\"Erreur : veuillez saisir une hauteur minimale de 3 et maximale de dix \")\n",
    "    else:\n",
    "      # impression triangle\n",
    "      for i in range(1, hauteur_triangle+1):\n",
    "        message = symbol * i\n",
    "        if not insertion_parasite and i == random.randint(2, hauteur_triangle-1):\n",
    "          pos_parasite = random.randint(0, len(message)-1)\n",
    "          message = message[:pos_parasite] + \\\n",
    "              str(parasite) + message[pos_parasite+1:]\n",
    "          insertion_parasite = True\n",
    "        print(message)\n",
    "\n",
    "    message = input(\"\"\"Voulez-vous arreter le programme ou continuer ?\n",
    "                  tapez Oui(o) pour arreter\n",
    "                  tapez sur n'importe quelle touche pour continuer:  \"\"\")\n",
    "\n",
    "    if message.lower() in ['o', 'oui', 'y', 'yes']:\n",
    "        break\n",
    "\n",
    "\n",
    "def traduire_texte_chiffre(texte):\n",
    "  dico = {\n",
    "      'un': 1,\n",
    "      'deux': 2,\n",
    "      'trois': 3,\n",
    "      'quatre': 4,\n",
    "      'cinq': 5,\n",
    "      'six': 6,\n",
    "      'sept': 7,\n",
    "      'huit': 8,\n",
    "      'neuf': 9,\n",
    "      'dix': 10\n",
    "  }\n",
    "  chiffre = dico.get(texte.lower(), 0)\n",
    "  return chiffre\n",
    "\n",
    "\n",
    "#  test\n",
    "triangle_plein()"
   ]
  },
  {
   "cell_type": "code",
   "execution_count": 1,
   "metadata": {},
   "outputs": [
    {
     "name": "stdout",
     "output_type": "stream",
     "text": [
      "k\n",
      "kk\n",
      "kkk\n",
      "kkkk\n",
      "kkkkk\n",
      "kkkkkk\n",
      "kkkkkkk10\n",
      "kkkkkkkk\n",
      "d\n",
      "dd\n",
      "ddd\n",
      "dddd6\n",
      "ddddd\n",
      "dddddd\n",
      "ddddddd\n",
      "dddddddd\n",
      "ddddddddd\n",
      "dddddddddd\n",
      "g\n",
      "gg\n",
      "ggg\n",
      "gggg\n",
      "ggggg\n",
      "gggggg10\n",
      "ggggggg\n",
      "gggggggg\n",
      "ggggggggg\n"
     ]
    }
   ],
   "source": [
    "import random\n",
    "\n",
    "\n",
    "def triangle_plein():\n",
    "  while True:\n",
    "    hauteur_triangle = input(\"Veuillez entre la hauteur de triangle: \")\n",
    "    if hauteur_triangle.isdigit():\n",
    "      hauteur_triangle = int(hauteur_triangle)\n",
    "    else:\n",
    "      hauteur_triangle = traduire_texte_chiffre(hauteur_triangle)\n",
    "    symbol = input(\"Veuillez entre le symbole constituant votre triangle: \")\n",
    "    insertion_parasite = False\n",
    "    parasite = random.randint(0, 10)\n",
    "\n",
    "    # controle de la hauteur\n",
    "    if hauteur_triangle < 3 or hauteur_triangle > 10:\n",
    "      print(\"Erreur : veuillez saisir une hauteur minimale de 3 et maximale de dix \")\n",
    "    else:\n",
    "      # impression triangle\n",
    "      for i in range(1, hauteur_triangle+1):\n",
    "        message = symbol * i\n",
    "        if not insertion_parasite and i == random.randint(2, hauteur_triangle-1):\n",
    "          message += str(parasite)\n",
    "          insertion_parasite = True\n",
    "        print(message)\n",
    "\n",
    "    message = input(\"\"\"Vous avez saisi des erreurs voulez-vous arreter le programme ou continuer ?\n",
    "                  tapez Oui(o) pour arreter\n",
    "                  tapez sur n'importe quelle touche pour continuer:  \"\"\")\n",
    "\n",
    "    if message.lower() in ['o', 'oui', 'y', 'yes']:\n",
    "        break\n",
    "\n",
    "\n",
    "def traduire_texte_chiffre(texte):\n",
    "  dico = {\n",
    "      'un': 1,\n",
    "      'deux': 2,\n",
    "      'trois': 3,\n",
    "      'quatre': 4,\n",
    "      'cinq': 5,\n",
    "      'six': 6,\n",
    "      'sept': 7,\n",
    "      'huit': 8,\n",
    "      'neuf': 9,\n",
    "      'dix': 10\n",
    "  }\n",
    "  chiffre = dico.get(texte.lower(), 0)\n",
    "  return chiffre\n",
    "\n",
    "\n",
    "#  test\n",
    "triangle_plein()"
   ]
  }
 ],
 "metadata": {
  "kernelspec": {
   "display_name": "Python 3",
   "language": "python",
   "name": "python3"
  },
  "language_info": {
   "codemirror_mode": {
    "name": "ipython",
    "version": 3
   },
   "file_extension": ".py",
   "mimetype": "text/x-python",
   "name": "python",
   "nbconvert_exporter": "python",
   "pygments_lexer": "ipython3",
   "version": "3.12.0"
  }
 },
 "nbformat": 4,
 "nbformat_minor": 2
}
