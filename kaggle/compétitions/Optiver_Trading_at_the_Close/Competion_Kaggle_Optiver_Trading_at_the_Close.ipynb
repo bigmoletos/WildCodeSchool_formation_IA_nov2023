{
 "cells": [
  {
   "cell_type": "markdown",
   "metadata": {},
   "source": [
    "# COMPETTION KAGGLE FEV2024 \n",
    "# Optiver - Trading at the Close"
   ]
  },
  {
   "cell_type": "markdown",
   "metadata": {},
   "source": [
    "## Connexion à la compétition via l' API"
   ]
  },
  {
   "cell_type": "code",
   "execution_count": 13,
   "metadata": {},
   "outputs": [
    {
     "name": "stdout",
     "output_type": "stream",
     "text": [
      "optiver2023/__init__.py\n",
      "optiver2023/competition.cpython-310-x86_64-linux-gnu.so\n",
      "example_test_files/revealed_targets.csv\n",
      "example_test_files/sample_submission.csv\n",
      "example_test_files/test.csv\n",
      "train.csv\n",
      "public_timeseries_testing_util.py\n"
     ]
    }
   ],
   "source": [
    "# /path/to/kaggle_interaction.py\n",
    "import os\n",
    "import json\n",
    "from kaggle.api.kaggle_api_extended import KaggleApi\n",
    "\n",
    "# Chemin du fichier kaggle.json\n",
    "kaggle_json_path = 'c:/users/romar/.kaggle/kaggle.json'  # Remplacez par le chemin réel du fichier kaggle.json\n",
    "\n",
    "# Chargement des identifiants Kaggle depuis kaggle.json\n",
    "try:\n",
    "    with open(kaggle_json_path) as f:\n",
    "        kaggle_credentials = json.load(f)\n",
    "    os.environ['KAGGLE_USERNAME'] = kaggle_credentials['username']\n",
    "    os.environ['KAGGLE_KEY'] = kaggle_credentials['key']\n",
    "except FileNotFoundError:\n",
    "    raise FileNotFoundError(f\"Le fichier {kaggle_json_path} n'a pas été trouvé.\")\n",
    "\n",
    "api = KaggleApi()\n",
    "api.authenticate()\n",
    "\n",
    "# Exemple pour interagir avec une compétition spécifique\n",
    "competition_name = \"optiver-trading-at-the-close\"\n",
    "\n",
    "# Récupérer des informations sur la compétition\n",
    "competition = api.competition_list_files(competition_name)\n",
    "# print(f\"Titre de la compétition: {competition.name}\")\n",
    "# print(f\"Description: {competition.description}\")\n",
    "\n",
    "# Pour récupérer la liste des fichiers de la compétition\n",
    "competition_files = api.competition_list_files(competition_name)\n",
    "for file in competition_files:\n",
    "    print(file.name)\n",
    "\n",
    "# Ajouter ici d'autres interactions avec l'API selon vos besoins\n"
   ]
  },
  {
   "cell_type": "code",
   "execution_count": 20,
   "metadata": {},
   "outputs": [
    {
     "name": "stdout",
     "output_type": "stream",
     "text": [
      "Téléchargement de optiver2023/__init__.py dans kaggle/compétitions/Optiver_Trading_at_the_Close\\files/py...\n",
      "Erreur lors du téléchargement du fichier optiver2023/__init__.py: (403)\n",
      "Reason: Forbidden\n",
      "HTTP response headers: HTTPHeaderDict({'Content-Type': 'application/json', 'Date': 'Mon, 29 Jan 2024 10:13:24 GMT', 'Access-Control-Allow-Credentials': 'true', 'Access-Control-Allow-Origin': '*', 'Set-Cookie': 'ka_sessionid=03f61031213f00da73fed88bb5edf044; max-age=2626560; path=/, .AspNetCore.Mvc.CookieTempDataProvider=CfDJ8Jb542g13x5Fq5jkjrFEDO2G2_dv-rPtw7weKI1PcuREvk1qmd4XfyPW79DOQGNGzwjcOYSgMgqtbojzVZOIa5ZBvHjrzEVkmBl42NyE86p8iVg31ekhflZjZ-iSH0QRpN5DPjXiUd4yUXIROELzDZgTV64oo-D0iLboSVhWqCU-bvGZgiHkpevuT6mhf866XkvTwRwNOH6I_nJaFmtiNmYlbxDe2fiUJN2XWdfNPPreSga6ab0iNpeZPh0CCiSLYjJlHXYAZFgklw; path=/; samesite=lax; httponly, GCLB=CJiQ3t-EztuSJg; path=/; HttpOnly', 'Vary': 'Accept-Encoding', 'Turbolinks-Location': 'https://www.kaggle.com/api/v1/competitions/data/download/optiver-trading-at-the-close/optiver2023%2F__init__.py', 'X-Kaggle-MillisecondsElapsed': '98', 'X-Kaggle-RequestId': '078a8d9f029a7a83cde176fdb119b16d', 'X-Kaggle-ApiVersion': '1.6.3', 'X-Kaggle-HubVersion': '0.1.6', 'X-Frame-Options': 'SAMEORIGIN', 'Strict-Transport-Security': 'max-age=63072000; includeSubDomains; preload', 'Content-Security-Policy': \"object-src 'none'; script-src 'nonce-kJkbTOrG3PAkGOv7OBVoSw==' 'report-sample' 'unsafe-inline' 'unsafe-eval' 'strict-dynamic' https: http:; base-uri 'none'; report-uri https://csp.withgoogle.com/csp/kaggle/20201130; frame-src 'self' https://www.kaggleusercontent.com https://www.youtube.com/embed/ https://polygraph-cool.github.io https://www.google.com/recaptcha/ https://www.docdroid.com https://www.docdroid.net https://kaggle-static.storage.googleapis.com https://kkb-production.jupyter-proxy.kaggle.net https://kkb-production.firebaseapp.com https://kaggle-metastore.firebaseapp.com https://apis.google.com https://content-sheets.googleapis.com/ https://accounts.google.com/ https://storage.googleapis.com https://docs.google.com https://drive.google.com https://calendar.google.com/;\", 'X-Content-Type-Options': 'nosniff', 'Referrer-Policy': 'strict-origin-when-cross-origin', 'Via': '1.1 google', 'Alt-Svc': 'h3=\":443\"; ma=2592000,h3-29=\":443\"; ma=2592000', 'Transfer-Encoding': 'chunked'})\n",
      "HTTP response body: b'{\"code\":403,\"message\":\"You must accept this competition\\\\u0027s rules before you\\\\u0027ll be able to download files.\"}'\n",
      "\n",
      "Téléchargement de optiver2023/competition.cpython-310-x86_64-linux-gnu.so dans kaggle/compétitions/Optiver_Trading_at_the_Close\\files/doc...\n",
      "Erreur lors du téléchargement du fichier optiver2023/competition.cpython-310-x86_64-linux-gnu.so: (403)\n",
      "Reason: Forbidden\n",
      "HTTP response headers: HTTPHeaderDict({'Content-Type': 'application/json', 'Date': 'Mon, 29 Jan 2024 10:13:24 GMT', 'Access-Control-Allow-Credentials': 'true', 'Access-Control-Allow-Origin': '*', 'Set-Cookie': 'ka_sessionid=fc543e3f4b1a15f28f8a0461295edc3e; max-age=2626560; path=/, .AspNetCore.Mvc.CookieTempDataProvider=CfDJ8Jb542g13x5Fq5jkjrFEDO28Xnp6T0nsJrxx6vsPY9QDC5IXEVnb-mLjCj3JrBWKBkKK-5PqF529HTqmzoYYp-jpSq-WqIBwR8_YYQKqNvOajwLhFnOccQWwKF4zHAlhjz7rkdhyqEeUR2tiSeh1cReVuI5TOk5L7PlfQtdyph56Q76IB_EPR_gVZ4yFJHUKK5ANzGZrFol5jxUkZAdh1syzqgc_pZnqGKyvahA75MIh8dqGmQhuRORYsZVBI105CU1Bv2qLlxOIoQ; path=/; samesite=lax; httponly, GCLB=CLSwm-On3sn9qAE; path=/; HttpOnly', 'Vary': 'Accept-Encoding', 'Turbolinks-Location': 'https://www.kaggle.com/api/v1/competitions/data/download/optiver-trading-at-the-close/optiver2023%2Fcompetition.cpython-310-x86_64-linux-gnu.so', 'X-Kaggle-MillisecondsElapsed': '129', 'X-Kaggle-RequestId': '4617612f6f90c4ebf8c2eaef84137265', 'X-Kaggle-ApiVersion': '1.6.3', 'X-Kaggle-HubVersion': '0.1.6', 'X-Frame-Options': 'SAMEORIGIN', 'Strict-Transport-Security': 'max-age=63072000; includeSubDomains; preload', 'Content-Security-Policy': \"object-src 'none'; script-src 'nonce-S4HmNgp1QR5Vyhb8h2x6+w==' 'report-sample' 'unsafe-inline' 'unsafe-eval' 'strict-dynamic' https: http:; base-uri 'none'; report-uri https://csp.withgoogle.com/csp/kaggle/20201130; frame-src 'self' https://www.kaggleusercontent.com https://www.youtube.com/embed/ https://polygraph-cool.github.io https://www.google.com/recaptcha/ https://www.docdroid.com https://www.docdroid.net https://kaggle-static.storage.googleapis.com https://kkb-production.jupyter-proxy.kaggle.net https://kkb-production.firebaseapp.com https://kaggle-metastore.firebaseapp.com https://apis.google.com https://content-sheets.googleapis.com/ https://accounts.google.com/ https://storage.googleapis.com https://docs.google.com https://drive.google.com https://calendar.google.com/;\", 'X-Content-Type-Options': 'nosniff', 'Referrer-Policy': 'strict-origin-when-cross-origin', 'Via': '1.1 google', 'Alt-Svc': 'h3=\":443\"; ma=2592000,h3-29=\":443\"; ma=2592000', 'Transfer-Encoding': 'chunked'})\n",
      "HTTP response body: b'{\"code\":403,\"message\":\"You must accept this competition\\\\u0027s rules before you\\\\u0027ll be able to download files.\"}'\n",
      "\n",
      "Téléchargement de example_test_files/revealed_targets.csv dans kaggle/compétitions/Optiver_Trading_at_the_Close\\files/data...\n",
      "Erreur lors du téléchargement du fichier example_test_files/revealed_targets.csv: (403)\n",
      "Reason: Forbidden\n",
      "HTTP response headers: HTTPHeaderDict({'Content-Type': 'application/json', 'Date': 'Mon, 29 Jan 2024 10:13:24 GMT', 'Access-Control-Allow-Credentials': 'true', 'Access-Control-Allow-Origin': '*', 'Set-Cookie': 'ka_sessionid=7d532dd77df5ba77ac91a267f1377595; max-age=2626560; path=/, .AspNetCore.Mvc.CookieTempDataProvider=CfDJ8Jb542g13x5Fq5jkjrFEDO06REmgMQJ4cc89cHyz_ckDHDGsWRRTnN3MYu7jfhg1ADZABmmCHBjtcWH0OrYSxiwgmSkpaVAnf80YhZ2tVHXbdFQNXElYX3XNvbL_1ARP_5iUHQT28FibBrIEODjhcoDYCQiAXuzYlrWSAuS79FhfZUkqDG0yRnNfToS71YYyFs_t8TrCqtbK3jP0jhPcD0AWHZDkGrmL160IBkR6mQsREM8xFbik1UB23Xa84C75P01fl5U2dUEu_A; path=/; samesite=lax; httponly, GCLB=CLTW88-bzuiDEQ; path=/; HttpOnly', 'Vary': 'Accept-Encoding', 'Turbolinks-Location': 'https://www.kaggle.com/api/v1/competitions/data/download/optiver-trading-at-the-close/example_test_files%2Frevealed_targets.csv', 'X-Kaggle-MillisecondsElapsed': '249', 'X-Kaggle-RequestId': '7b38e331b1f4b12a0e75b1ae52a2392f', 'X-Kaggle-ApiVersion': '1.6.3', 'X-Kaggle-HubVersion': '0.1.6', 'X-Frame-Options': 'SAMEORIGIN', 'Strict-Transport-Security': 'max-age=63072000; includeSubDomains; preload', 'Content-Security-Policy': \"object-src 'none'; script-src 'nonce-ofvhLqyfjdyk6QegnSS/Cg==' 'report-sample' 'unsafe-inline' 'unsafe-eval' 'strict-dynamic' https: http:; base-uri 'none'; report-uri https://csp.withgoogle.com/csp/kaggle/20201130; frame-src 'self' https://www.kaggleusercontent.com https://www.youtube.com/embed/ https://polygraph-cool.github.io https://www.google.com/recaptcha/ https://www.docdroid.com https://www.docdroid.net https://kaggle-static.storage.googleapis.com https://kkb-production.jupyter-proxy.kaggle.net https://kkb-production.firebaseapp.com https://kaggle-metastore.firebaseapp.com https://apis.google.com https://content-sheets.googleapis.com/ https://accounts.google.com/ https://storage.googleapis.com https://docs.google.com https://drive.google.com https://calendar.google.com/;\", 'X-Content-Type-Options': 'nosniff', 'Referrer-Policy': 'strict-origin-when-cross-origin', 'Via': '1.1 google', 'Alt-Svc': 'h3=\":443\"; ma=2592000,h3-29=\":443\"; ma=2592000', 'Transfer-Encoding': 'chunked'})\n",
      "HTTP response body: b'{\"code\":403,\"message\":\"You must accept this competition\\\\u0027s rules before you\\\\u0027ll be able to download files.\"}'\n",
      "\n",
      "Téléchargement de example_test_files/sample_submission.csv dans kaggle/compétitions/Optiver_Trading_at_the_Close\\files/data...\n",
      "Erreur lors du téléchargement du fichier example_test_files/sample_submission.csv: (403)\n",
      "Reason: Forbidden\n",
      "HTTP response headers: HTTPHeaderDict({'Content-Type': 'application/json', 'Date': 'Mon, 29 Jan 2024 10:13:25 GMT', 'Access-Control-Allow-Credentials': 'true', 'Access-Control-Allow-Origin': '*', 'Set-Cookie': 'ka_sessionid=96fb60d9961b5bce6806845e7551a959; max-age=2626560; path=/, .AspNetCore.Mvc.CookieTempDataProvider=CfDJ8Jb542g13x5Fq5jkjrFEDO1lQEF9uhWATRNUJ6u1_kx92wsoikJ8UxuxJBtInUCEtC5a3ihpRHRZ_Anu-l51C-E7AMhiS44B_FNV6Xp6i-zMxiuhoLAVzbIqSoBFPfAn3QYvVdC9Hmhy7JpJeCSFrwK8T3T74Pkk9yNH2XK_ePDChU4b31_9_13k1og5R4IR8QEcB9dGdIwFS8Jnhzy6FQFeFYAGoRzygCjDiy_M5WX3PXTfXXM9n7m8NdxGvLCtbOcIzGA0Ols1YA; path=/; samesite=lax; httponly, GCLB=CLH2sPKOkLqSUA; path=/; HttpOnly', 'Vary': 'Accept-Encoding', 'Turbolinks-Location': 'https://www.kaggle.com/api/v1/competitions/data/download/optiver-trading-at-the-close/example_test_files%2Fsample_submission.csv', 'X-Kaggle-MillisecondsElapsed': '103', 'X-Kaggle-RequestId': 'd99c7c32af111d8e5cd5c177da47d201', 'X-Kaggle-ApiVersion': '1.6.3', 'X-Kaggle-HubVersion': '0.1.6', 'X-Frame-Options': 'SAMEORIGIN', 'Strict-Transport-Security': 'max-age=63072000; includeSubDomains; preload', 'Content-Security-Policy': \"object-src 'none'; script-src 'nonce-7RmFklhFd4wZing7gKq+Fw==' 'report-sample' 'unsafe-inline' 'unsafe-eval' 'strict-dynamic' https: http:; base-uri 'none'; report-uri https://csp.withgoogle.com/csp/kaggle/20201130; frame-src 'self' https://www.kaggleusercontent.com https://www.youtube.com/embed/ https://polygraph-cool.github.io https://www.google.com/recaptcha/ https://www.docdroid.com https://www.docdroid.net https://kaggle-static.storage.googleapis.com https://kkb-production.jupyter-proxy.kaggle.net https://kkb-production.firebaseapp.com https://kaggle-metastore.firebaseapp.com https://apis.google.com https://content-sheets.googleapis.com/ https://accounts.google.com/ https://storage.googleapis.com https://docs.google.com https://drive.google.com https://calendar.google.com/;\", 'X-Content-Type-Options': 'nosniff', 'Referrer-Policy': 'strict-origin-when-cross-origin', 'Via': '1.1 google', 'Alt-Svc': 'h3=\":443\"; ma=2592000,h3-29=\":443\"; ma=2592000', 'Transfer-Encoding': 'chunked'})\n",
      "HTTP response body: b'{\"code\":403,\"message\":\"You must accept this competition\\\\u0027s rules before you\\\\u0027ll be able to download files.\"}'\n",
      "\n",
      "Téléchargement de example_test_files/test.csv dans kaggle/compétitions/Optiver_Trading_at_the_Close\\files/data...\n",
      "Erreur lors du téléchargement du fichier example_test_files/test.csv: (403)\n",
      "Reason: Forbidden\n",
      "HTTP response headers: HTTPHeaderDict({'Content-Type': 'application/json', 'Date': 'Mon, 29 Jan 2024 10:13:25 GMT', 'Access-Control-Allow-Credentials': 'true', 'Access-Control-Allow-Origin': '*', 'Set-Cookie': 'ka_sessionid=238b0ee7930b475561ed17e343f69340; max-age=2626560; path=/, .AspNetCore.Mvc.CookieTempDataProvider=CfDJ8Jb542g13x5Fq5jkjrFEDO1TTqravWpBex79FA_gcermWMfPehalMWQOABvq5GDDibsJzL3CMgArH5hp8TY1jcOEmGPSxeWhsuXOQLgl3gn_4EHzUNLqhiA8ny2lYccYA9Crv6QXYp0VHbICBm0v15o_Pk0R9oK-CMXITgm4Nm-QWhbiLJMBVqqmfvzNGI53bcy8zxc0O4sayehaBDpHEw8QqeFwKB7PKOO-cirqZYgsi-T_qncRImhXL3qGLgm3udhgstjD38E16A; path=/; samesite=lax; httponly, GCLB=CP3Un83xpsuVIw; path=/; HttpOnly', 'Vary': 'Accept-Encoding', 'Turbolinks-Location': 'https://www.kaggle.com/api/v1/competitions/data/download/optiver-trading-at-the-close/example_test_files%2Ftest.csv', 'X-Kaggle-MillisecondsElapsed': '71', 'X-Kaggle-RequestId': '4d1559cdb46485be6125ade450c6c33f', 'X-Kaggle-ApiVersion': '1.6.3', 'X-Kaggle-HubVersion': '0.1.6', 'X-Frame-Options': 'SAMEORIGIN', 'Strict-Transport-Security': 'max-age=63072000; includeSubDomains; preload', 'Content-Security-Policy': \"object-src 'none'; script-src 'nonce-sLPcHgk2YMXNuRgLre4LNA==' 'report-sample' 'unsafe-inline' 'unsafe-eval' 'strict-dynamic' https: http:; base-uri 'none'; report-uri https://csp.withgoogle.com/csp/kaggle/20201130; frame-src 'self' https://www.kaggleusercontent.com https://www.youtube.com/embed/ https://polygraph-cool.github.io https://www.google.com/recaptcha/ https://www.docdroid.com https://www.docdroid.net https://kaggle-static.storage.googleapis.com https://kkb-production.jupyter-proxy.kaggle.net https://kkb-production.firebaseapp.com https://kaggle-metastore.firebaseapp.com https://apis.google.com https://content-sheets.googleapis.com/ https://accounts.google.com/ https://storage.googleapis.com https://docs.google.com https://drive.google.com https://calendar.google.com/;\", 'X-Content-Type-Options': 'nosniff', 'Referrer-Policy': 'strict-origin-when-cross-origin', 'Via': '1.1 google', 'Alt-Svc': 'h3=\":443\"; ma=2592000,h3-29=\":443\"; ma=2592000', 'Transfer-Encoding': 'chunked'})\n",
      "HTTP response body: b'{\"code\":403,\"message\":\"You must accept this competition\\\\u0027s rules before you\\\\u0027ll be able to download files.\"}'\n",
      "\n",
      "Téléchargement de train.csv dans kaggle/compétitions/Optiver_Trading_at_the_Close\\files/data...\n",
      "Erreur lors du téléchargement du fichier train.csv: (403)\n",
      "Reason: Forbidden\n",
      "HTTP response headers: HTTPHeaderDict({'Content-Type': 'application/json', 'Date': 'Mon, 29 Jan 2024 10:13:25 GMT', 'Access-Control-Allow-Credentials': 'true', 'Access-Control-Allow-Origin': '*', 'Set-Cookie': 'ka_sessionid=af7f5b97a05b3bd7b3dde81534b14b78; max-age=2626560; path=/, .AspNetCore.Mvc.CookieTempDataProvider=CfDJ8Jb542g13x5Fq5jkjrFEDO1H9KUG5lf6RmkLELSUMtShgKJXUqs7Zd4KkTQ5v7YEjHbRDDKUnWiXdfhoPAxNUWlf_kxHrALSYUsmcSykqhmQDzjwLmPsRkyZR85f55rZvkH5k3yZfrRY5skgrTG5Z86I8ORbOcLhcMsTpuVtN3fa2pz9u24WVmGzg2rgDULBYe5MnZhfmVUNYBEKrdkaTG-vo2zj5IKKJGCGH_N_HhHoPmEgbK1MWIlg8EGlcsXeZZynYXApH2BoTw; path=/; samesite=lax; httponly, GCLB=COKk2ZDHkMm01QE; path=/; HttpOnly', 'Vary': 'Accept-Encoding', 'Turbolinks-Location': 'https://www.kaggle.com/api/v1/competitions/data/download/optiver-trading-at-the-close/train.csv', 'X-Kaggle-MillisecondsElapsed': '231', 'X-Kaggle-RequestId': 'd4da4e12b50353ba12fd6edaab4addd5', 'X-Kaggle-ApiVersion': '1.6.3', 'X-Kaggle-HubVersion': '0.1.6', 'X-Frame-Options': 'SAMEORIGIN', 'Strict-Transport-Security': 'max-age=63072000; includeSubDomains; preload', 'Content-Security-Policy': \"object-src 'none'; script-src 'nonce-muk5B7gcPmPdaXVoD2P//Q==' 'report-sample' 'unsafe-inline' 'unsafe-eval' 'strict-dynamic' https: http:; base-uri 'none'; report-uri https://csp.withgoogle.com/csp/kaggle/20201130; frame-src 'self' https://www.kaggleusercontent.com https://www.youtube.com/embed/ https://polygraph-cool.github.io https://www.google.com/recaptcha/ https://www.docdroid.com https://www.docdroid.net https://kaggle-static.storage.googleapis.com https://kkb-production.jupyter-proxy.kaggle.net https://kkb-production.firebaseapp.com https://kaggle-metastore.firebaseapp.com https://apis.google.com https://content-sheets.googleapis.com/ https://accounts.google.com/ https://storage.googleapis.com https://docs.google.com https://drive.google.com https://calendar.google.com/;\", 'X-Content-Type-Options': 'nosniff', 'Referrer-Policy': 'strict-origin-when-cross-origin', 'Via': '1.1 google', 'Alt-Svc': 'h3=\":443\"; ma=2592000,h3-29=\":443\"; ma=2592000', 'Transfer-Encoding': 'chunked'})\n",
      "HTTP response body: b'{\"code\":403,\"message\":\"You must accept this competition\\\\u0027s rules before you\\\\u0027ll be able to download files.\"}'\n",
      "\n",
      "Téléchargement de public_timeseries_testing_util.py dans kaggle/compétitions/Optiver_Trading_at_the_Close\\files/py...\n",
      "Erreur lors du téléchargement du fichier public_timeseries_testing_util.py: (403)\n",
      "Reason: Forbidden\n",
      "HTTP response headers: HTTPHeaderDict({'Content-Type': 'application/json', 'Date': 'Mon, 29 Jan 2024 10:13:26 GMT', 'Access-Control-Allow-Credentials': 'true', 'Access-Control-Allow-Origin': '*', 'Set-Cookie': 'ka_sessionid=af2d17eda4a12915f64c7d253e7ec2ed; max-age=2626560; path=/, .AspNetCore.Mvc.CookieTempDataProvider=CfDJ8Jb542g13x5Fq5jkjrFEDO2ZsOfDHRXD1j90ek4XCH_wH6o1KjKblMPGeEeGLvB62QSxrWA2i_YhR6WMvKk6ib4dTYYET_gInzWmEFcI6KLvzM_GzFnFwxoHMS0jHrfFGrcmjJaFeBS7CSdcUwN76r-M-89Tuv-WK8LyyWVmjC1aN1zKVukwCbYmYprTS0dEzwlvFgt_NlSe1SLSGEqchn_welX65Lp0sBIdnVEnLx4ViMMOh1vc1G3x_q7tAta_scf0XKSCgm2gcw; path=/; samesite=lax; httponly, GCLB=CObIyfe_8rnZ7wE; path=/; HttpOnly', 'Vary': 'Accept-Encoding', 'Turbolinks-Location': 'https://www.kaggle.com/api/v1/competitions/data/download/optiver-trading-at-the-close/public_timeseries_testing_util.py', 'X-Kaggle-MillisecondsElapsed': '202', 'X-Kaggle-RequestId': '02f3fc459d926a482fa9c54f9ae09706', 'X-Kaggle-ApiVersion': '1.6.3', 'X-Kaggle-HubVersion': '0.1.6', 'X-Frame-Options': 'SAMEORIGIN', 'Strict-Transport-Security': 'max-age=63072000; includeSubDomains; preload', 'Content-Security-Policy': \"object-src 'none'; script-src 'nonce-KIi5EpKkausz3DlTAeF1SA==' 'report-sample' 'unsafe-inline' 'unsafe-eval' 'strict-dynamic' https: http:; base-uri 'none'; report-uri https://csp.withgoogle.com/csp/kaggle/20201130; frame-src 'self' https://www.kaggleusercontent.com https://www.youtube.com/embed/ https://polygraph-cool.github.io https://www.google.com/recaptcha/ https://www.docdroid.com https://www.docdroid.net https://kaggle-static.storage.googleapis.com https://kkb-production.jupyter-proxy.kaggle.net https://kkb-production.firebaseapp.com https://kaggle-metastore.firebaseapp.com https://apis.google.com https://content-sheets.googleapis.com/ https://accounts.google.com/ https://storage.googleapis.com https://docs.google.com https://drive.google.com https://calendar.google.com/;\", 'X-Content-Type-Options': 'nosniff', 'Referrer-Policy': 'strict-origin-when-cross-origin', 'Via': '1.1 google', 'Alt-Svc': 'h3=\":443\"; ma=2592000,h3-29=\":443\"; ma=2592000', 'Transfer-Encoding': 'chunked'})\n",
      "HTTP response body: b'{\"code\":403,\"message\":\"You must accept this competition\\\\u0027s rules before you\\\\u0027ll be able to download files.\"}'\n",
      "\n"
     ]
    }
   ],
   "source": [
    "import os\n",
    "import json\n",
    "from kaggle.api.kaggle_api_extended import KaggleApi\n",
    "\n",
    "# Chemin du fichier kaggle.json\n",
    "kaggle_json_path = 'c:/users/romar/.kaggle/kaggle.json'\n",
    "\n",
    "# Chargement des identifiants Kaggle depuis kaggle.json\n",
    "try:\n",
    "    with open(kaggle_json_path) as f:\n",
    "        kaggle_credentials = json.load(f)\n",
    "    os.environ['KAGGLE_USERNAME'] = kaggle_credentials['username']\n",
    "    os.environ['KAGGLE_KEY'] = kaggle_credentials['key']\n",
    "except FileNotFoundError:\n",
    "    raise FileNotFoundError(f\"Le fichier {kaggle_json_path} n'a pas été trouvé.\")\n",
    "\n",
    "api = KaggleApi()\n",
    "api.authenticate()\n",
    "\n",
    "def download_and_save_files_by_type(competition_name, base_path):\n",
    "    competition_files = api.competition_list_files(competition_name)\n",
    "\n",
    "    for file in competition_files:\n",
    "        file_name = file.name\n",
    "\n",
    "        if file_name.endswith('.py'):\n",
    "            save_path = os.path.join(base_path, 'files/py')\n",
    "        elif file_name.endswith('.csv'):\n",
    "            save_path = os.path.join(base_path, 'files/data')\n",
    "        elif file_name.endswith('.so'):\n",
    "            save_path = os.path.join(base_path, 'files/doc')\n",
    "        else:\n",
    "            save_path = os.path.join(base_path, 'files/other')\n",
    "\n",
    "        if not os.path.exists(save_path):\n",
    "            os.makedirs(save_path)\n",
    "\n",
    "        try:\n",
    "            print(f\"Téléchargement de {file_name} dans {save_path}...\")\n",
    "            api.competition_download_file(competition_name, file_name, path=save_path)\n",
    "            print(f\"{file_name} téléchargé et enregistré dans {save_path}\")\n",
    "        except Exception as e:\n",
    "            print(f\"Erreur lors du téléchargement du fichier {file_name}: {e}\")\n",
    "\n",
    "competition_name = \"optiver-trading-at-the-close\"\n",
    "base_path = \"kaggle/compétitions/Optiver_Trading_at_the_Close\"  # Remplacez par le chemin de base de vos répertoires\n",
    "\n",
    "download_and_save_files_by_type(competition_name, base_path)\n"
   ]
  },
  {
   "cell_type": "markdown",
   "metadata": {},
   "source": [
    "### 1. Fonction de Calcul de la MAE"
   ]
  },
  {
   "cell_type": "code",
   "execution_count": null,
   "metadata": {},
   "outputs": [],
   "source": [
    "# /path/to/metrics.py\n",
    "import numpy as np\n",
    "\n",
    "def calculate_mae(y_true, y_pred):\n",
    "    \"\"\"\n",
    "    Calcule l'Erreur Absolue Moyenne (MAE) avec gestion des valeurs manquantes.\n",
    "\n",
    "    :param y_true: Valeurs réelles\n",
    "    :param y_pred: Valeurs prédites\n",
    "    :return: MAE\n",
    "    \"\"\"\n",
    "    # Supprimer les paires où l'une des valeurs est NaN\n",
    "    mask = ~np.isnan(y_true) & ~np.isnan(y_pred)\n",
    "    y_true_filtered = y_true[mask]\n",
    "    y_pred_filtered = y_pred[mask]\n",
    "\n",
    "    mae = np.mean(np.abs(y_true_filtered - y_pred_filtered))\n",
    "    return mae\n"
   ]
  },
  {
   "cell_type": "markdown",
   "metadata": {},
   "source": [
    "### 2. Fonction de Visualisation"
   ]
  },
  {
   "cell_type": "code",
   "execution_count": null,
   "metadata": {},
   "outputs": [],
   "source": [
    "# /path/to/visualization.py\n",
    "import plotly.graph_objs as go\n",
    "\n",
    "def plot_predictions_interactive(y_true, y_pred, title=\"Prédictions vs Réelles\"):\n",
    "    \"\"\"\n",
    "    Affiche un graphique interactif comparatif des valeurs prédites et réelles.\n",
    "\n",
    "    :param y_true: Valeurs réelles\n",
    "    :param y_pred: Valeurs prédites\n",
    "    :param title: Titre du graphique\n",
    "    \"\"\"\n",
    "    trace1 = go.Scatter(y=y_true, mode='lines', name='Réelles')\n",
    "    trace2 = go.Scatter(y=y_pred, mode='lines', name='Prédites')\n",
    "\n",
    "    layout = go.Layout(title=title, xaxis=dict(title='Temps'), yaxis=dict(title='Valeur'))\n",
    "    fig = go.Figure(data=[trace1, trace2], layout=layout)\n",
    "    fig.show()\n"
   ]
  },
  {
   "cell_type": "markdown",
   "metadata": {},
   "source": [
    "### 3. Fonction de Gestion des Hyperparamètres\n",
    "Cette fonction dépend de votre choix de modèle (par exemple, un modèle LSTM avec Keras) et de la bibliothèque utilisée pour le réglage des hyperparamètres (comme GridSearchCV de scikit-learn ou keras-tuner). Voici un exemple générique utilisant GridSearchCV :"
   ]
  },
  {
   "cell_type": "markdown",
   "metadata": {},
   "source": [
    "####  Utilisation de GridSearchCV pour l'Optimisation des Hyperparamètres"
   ]
  },
  {
   "cell_type": "code",
   "execution_count": null,
   "metadata": {},
   "outputs": [],
   "source": [
    "# /path/to/hyperparameter_tuning.py\n",
    "from sklearn.model_selection import GridSearchCV\n",
    "\n",
    "def tune_hyperparameters(model, param_grid, X_train, y_train, cv=3):\n",
    "    \"\"\"\n",
    "    Ajuste les hyperparamètres d'un modèle donné.\n",
    "\n",
    "    :param model: Modèle à ajuster\n",
    "    :param param_grid: Grille des paramètres à tester\n",
    "    :param X_train: Données d'entraînement\n",
    "    :param y_train: Cibles d'entraînement\n",
    "    :param cv: Nombre de plis pour la validation croisée\n",
    "    :return: Meilleur modèle ajusté\n",
    "    \"\"\"\n",
    "    grid_search = GridSearchCV(model, param_grid, cv=cv, scoring='neg_mean_absolute_error')\n",
    "    grid_search.fit(X_train, y_train)\n",
    "    return grid_search.best_estimator_\n"
   ]
  },
  {
   "cell_type": "markdown",
   "metadata": {},
   "source": [
    "####  Utilisation de RandomizedSearchCV pour l'Optimisation des Hyperparamètres\n"
   ]
  },
  {
   "cell_type": "code",
   "execution_count": null,
   "metadata": {},
   "outputs": [],
   "source": [
    "# /path/to/hyperparameter_tuning.py\n",
    "from sklearn.model_selection import RandomizedSearchCV\n",
    "\n",
    "def randomized_hyperparameter_tuning(model, param_distributions, X_train, y_train, n_iter=10, cv=3):\n",
    "    \"\"\"\n",
    "    Ajuste les hyperparamètres d'un modèle en utilisant RandomizedSearchCV.\n",
    "\n",
    "    :param model: Modèle à ajuster\n",
    "    :param param_distributions: Distributions des paramètres à tester\n",
    "    :param X_train: Données d'entraînement\n",
    "    :param y_train: Cibles d'entraînement\n",
    "    :param n_iter: Nombre d'itérations de réglage\n",
    "    :param cv: Nombre de plis pour la validation croisée\n",
    "    :return: Meilleur modèle ajusté\n",
    "    \"\"\"\n",
    "    randomized_search = RandomizedSearchCV(model, param_distributions, n_iter=n_iter, cv=cv, scoring='neg_mean_absolute_error')\n",
    "    randomized_search.fit(X_train, y_train)\n",
    "    return randomized_search.best_estimator_\n"
   ]
  },
  {
   "cell_type": "markdown",
   "metadata": {},
   "source": [
    "Historique : Code fourni pour le calcul de la MAE, la visualisation des prédictions, et la gestion des hyperparamètres.\n",
    "\n",
    "Arbre des Sources :\n",
    "\n",
    "(💾=sauvegardé: /path/to/metrics.py)\n",
    "✅ calculate_mae\n",
    "(💾=sauvegardé: /path/to/visualization.py)\n",
    "✅ plot_predictions\n",
    "(💾=sauvegardé: /path/to/hyperparameter_tuning.py)\n",
    "✅ tune_hyperparameters\n",
    "Prochaine Tâche : FINISHED=Améliorations possibles ou optimisations de performance pour le code fourni."
   ]
  },
  {
   "cell_type": "code",
   "execution_count": null,
   "metadata": {},
   "outputs": [],
   "source": []
  },
  {
   "cell_type": "code",
   "execution_count": null,
   "metadata": {},
   "outputs": [],
   "source": []
  },
  {
   "cell_type": "code",
   "execution_count": null,
   "metadata": {},
   "outputs": [],
   "source": []
  }
 ],
 "metadata": {
  "kernelspec": {
   "display_name": "base",
   "language": "python",
   "name": "python3"
  },
  "language_info": {
   "codemirror_mode": {
    "name": "ipython",
    "version": 3
   },
   "file_extension": ".py",
   "mimetype": "text/x-python",
   "name": "python",
   "nbconvert_exporter": "python",
   "pygments_lexer": "ipython3",
   "version": "3.11.5"
  }
 },
 "nbformat": 4,
 "nbformat_minor": 2
}
