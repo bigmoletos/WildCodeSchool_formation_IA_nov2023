{
 "cells": [
  {
   "cell_type": "code",
   "execution_count": 1,
   "metadata": {},
   "outputs": [
    {
     "ename": "ModuleNotFoundError",
     "evalue": "No module named 'mojo'",
     "output_type": "error",
     "traceback": [
      "\u001b[1;31m---------------------------------------------------------------------------\u001b[0m",
      "\u001b[1;31mModuleNotFoundError\u001b[0m                       Traceback (most recent call last)",
      "\u001b[1;32mg:\\programmation\\WildCodeSchool\\Formation_IA_DATA_nov2023\\Projet_docker\\notebook_mojo.ipynb Cellule 1\u001b[0m line \u001b[0;36m2\n\u001b[0;32m      <a href='vscode-notebook-cell:/g%3A/programmation/WildCodeSchool/Formation_IA_DATA_nov2023/Projet_docker/notebook_mojo.ipynb#W0sZmlsZQ%3D%3D?line=0'>1</a>\u001b[0m \u001b[39m# Importez la bibliothèque Mojo\u001b[39;00m\n\u001b[1;32m----> <a href='vscode-notebook-cell:/g%3A/programmation/WildCodeSchool/Formation_IA_DATA_nov2023/Projet_docker/notebook_mojo.ipynb#W0sZmlsZQ%3D%3D?line=1'>2</a>\u001b[0m \u001b[39mimport\u001b[39;00m \u001b[39mmojo\u001b[39;00m\n\u001b[0;32m      <a href='vscode-notebook-cell:/g%3A/programmation/WildCodeSchool/Formation_IA_DATA_nov2023/Projet_docker/notebook_mojo.ipynb#W0sZmlsZQ%3D%3D?line=3'>4</a>\u001b[0m \u001b[39m# Créez une fonction Mojo\u001b[39;00m\n\u001b[0;32m      <a href='vscode-notebook-cell:/g%3A/programmation/WildCodeSchool/Formation_IA_DATA_nov2023/Projet_docker/notebook_mojo.ipynb#W0sZmlsZQ%3D%3D?line=6'>7</a>\u001b[0m \u001b[39mdef\u001b[39;00m \u001b[39mhello_world\u001b[39m():\n\u001b[0;32m      <a href='vscode-notebook-cell:/g%3A/programmation/WildCodeSchool/Formation_IA_DATA_nov2023/Projet_docker/notebook_mojo.ipynb#W0sZmlsZQ%3D%3D?line=7'>8</a>\u001b[0m   \u001b[39m# Imprimez \"Hello, world!\"\u001b[39;00m\n",
      "\u001b[1;31mModuleNotFoundError\u001b[0m: No module named 'mojo'"
     ]
    }
   ],
   "source": [
    "# Importez la bibliothèque Mojo\n",
    "import mojo\n",
    "\n",
    "# Créez une fonction Mojo\n",
    "\n",
    "\n",
    "def hello_world():\n",
    "  # Imprimez \"Hello, world!\"\n",
    "  print(\"Hello, world!\")\n",
    "\n",
    "\n",
    "# Exécutez la fonction Mojo\n",
    "hello_world()"
   ]
  }
 ],
 "metadata": {
  "kernelspec": {
   "display_name": "Python 3",
   "language": "python",
   "name": "python3"
  },
  "language_info": {
   "name": "python",
   "version": "3.11.5"
  }
 },
 "nbformat": 4,
 "nbformat_minor": 2
}
