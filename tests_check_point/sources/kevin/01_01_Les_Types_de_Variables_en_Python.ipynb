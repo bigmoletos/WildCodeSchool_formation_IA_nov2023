{
 "cells": [
  {
   "cell_type": "code",
   "execution_count": null,
   "metadata": {
    "id": "fIiBVo_zDrOf"
   },
   "outputs": [],
   "source": []
  },
  {
   "cell_type": "markdown",
   "metadata": {
    "id": "TsYlZyrKJsr0"
   },
   "source": [
    "# Les Variables et opérateurs"
   ]
  },
  {
   "cell_type": "markdown",
   "metadata": {
    "id": "MwOQGNSfJsr6"
   },
   "source": [
    "Une variable est comme une case de mémoire dans notre ordinateur, à laquelle on donne un nom et une valeur qui peut changer. Sur la figure suivante, nous avons un carton appélé `Variable` et dans laquelle on met de la donnée (Data). On peut changer le contenu du carton ou y ajouter plusieurs autres éléments."
   ]
  },
  {
   "cell_type": "markdown",
   "metadata": {},
   "source": [
    "![Variable](images/variables.png)"
   ]
  },
  {
   "cell_type": "markdown",
   "metadata": {},
   "source": [
    "Voici comment définir une variable avec sa valeur en Python : "
   ]
  },
  {
   "cell_type": "code",
   "execution_count": 1,
   "metadata": {
    "id": "mEOPJ5ULJsr7"
   },
   "outputs": [],
   "source": [
    "poids = 89"
   ]
  },
  {
   "cell_type": "markdown",
   "metadata": {
    "id": "JdJGa6zSJsr8"
   },
   "source": [
    "Ici, nous avons donné le nom `poids` à notre variable et elle contient la valeur 89. La valeur d'une variable peut changer, donc on peut faire ceci:"
   ]
  },
  {
   "cell_type": "code",
   "execution_count": 2,
   "metadata": {
    "id": "Hf5g6moNJsr8"
   },
   "outputs": [],
   "source": [
    "poids = 82"
   ]
  },
  {
   "cell_type": "markdown",
   "metadata": {
    "id": "YRELxTBSJsr9"
   },
   "source": [
    "Désormais, notre variable `poids` contient la valeur 82. On peut l'afficher pour vérifier avec le fonction `print`"
   ]
  },
  {
   "cell_type": "code",
   "execution_count": 3,
   "metadata": {
    "id": "rxppGTcSJsr9",
    "outputId": "67585524-d038-4f15-d402-e65ff60a999b"
   },
   "outputs": [
    {
     "name": "stdout",
     "output_type": "stream",
     "text": [
      "82\n"
     ]
    }
   ],
   "source": [
    "print(poids)"
   ]
  },
  {
   "cell_type": "markdown",
   "metadata": {
    "id": "tHNl3weNJsr-"
   },
   "source": [
    "Pour donc affichier la valeur d'une variable, il faut écrire `print` suivi de parathèses `()` avec à l'intérieur le nom de notre variable. Puisqu'on est dans un notebook, on peut aussi afficher la valeur d'une variable simplement en tapant le nom comme ceci : "
   ]
  },
  {
   "cell_type": "code",
   "execution_count": null,
   "metadata": {
    "id": "80kS2_d4Jsr-",
    "outputId": "a420e593-7ba8-4c5e-c72e-61ae5664e325"
   },
   "outputs": [],
   "source": [
    "poids"
   ]
  },
  {
   "cell_type": "markdown",
   "metadata": {
    "id": "BQ0vqoM2Jsr_"
   },
   "source": [
    "Que se passe-t-il quand je nomme ma variable `2poids` pour dire que c'est un second poids ? Essayons:"
   ]
  },
  {
   "cell_type": "code",
   "execution_count": null,
   "metadata": {
    "id": "B0vOkYyCJsr_",
    "outputId": "46b4fd25-e2fc-4f2b-c538-515042dc61fc"
   },
   "outputs": [],
   "source": [
    "2poids = 25"
   ]
  },
  {
   "cell_type": "markdown",
   "metadata": {
    "id": "W_Bjzg80JssA"
   },
   "source": [
    "On obtient une erreur. Cela est dû au fait qu'en Python le nom d'une variable ne peut commencer par un chiffre. Par convention, il est recommandé d'utiliser les lettres miniscules et le tiret du 8 `_` pour nommer une variable. N'oublions pas que le nom ne peut contenir un espace. Une variable pour designer l'âge de Kevin pourrait donc s'appeler `lage_de_kevin`."
   ]
  },
  {
   "cell_type": "code",
   "execution_count": 4,
   "metadata": {
    "id": "u0Hy22jWJssA"
   },
   "outputs": [],
   "source": [
    "lage_de_kevin = 20"
   ]
  },
  {
   "cell_type": "markdown",
   "metadata": {
    "id": "rHxLluEzJssA"
   },
   "source": [
    "On peut faire des opérations mathématiques sur les variables : "
   ]
  },
  {
   "cell_type": "markdown",
   "metadata": {
    "id": "wRrg08tUJssB"
   },
   "source": [
    "**addiction**"
   ]
  },
  {
   "cell_type": "code",
   "execution_count": 5,
   "metadata": {
    "id": "9pvruivwJssB",
    "outputId": "09b77cc8-85c9-4df3-fa46-9c34a4e951c9"
   },
   "outputs": [
    {
     "data": {
      "text/plain": [
       "45"
      ]
     },
     "execution_count": 5,
     "metadata": {},
     "output_type": "execute_result"
    }
   ],
   "source": [
    "15 + 30"
   ]
  },
  {
   "cell_type": "code",
   "execution_count": 6,
   "metadata": {
    "id": "nLKz1oR4JssB",
    "outputId": "d6f8ef11-da09-4429-b16e-25da797a7c59"
   },
   "outputs": [
    {
     "name": "stdout",
     "output_type": "stream",
     "text": [
      "9\n"
     ]
    }
   ],
   "source": [
    "nombre = 5\n",
    "print(nombre + 4)"
   ]
  },
  {
   "cell_type": "markdown",
   "metadata": {
    "id": "wKoZ09vDJssB"
   },
   "source": [
    "**soustraction**"
   ]
  },
  {
   "cell_type": "code",
   "execution_count": 7,
   "metadata": {
    "id": "KQbV_Mh4JssC",
    "outputId": "7275f73a-fe29-4418-c1e5-2d319e8b3ed5"
   },
   "outputs": [
    {
     "data": {
      "text/plain": [
       "84"
      ]
     },
     "execution_count": 7,
     "metadata": {},
     "output_type": "execute_result"
    }
   ],
   "source": [
    "96 - 12"
   ]
  },
  {
   "cell_type": "code",
   "execution_count": 8,
   "metadata": {
    "id": "4JEU36_4JssC",
    "outputId": "3dec55d4-06aa-4677-cdb5-0fbb2ce7111e"
   },
   "outputs": [
    {
     "name": "stdout",
     "output_type": "stream",
     "text": [
      "3\n"
     ]
    }
   ],
   "source": [
    "print(nombre - 2)"
   ]
  },
  {
   "cell_type": "markdown",
   "metadata": {
    "id": "S3v18HL6JssC"
   },
   "source": [
    "**Multiplication**"
   ]
  },
  {
   "cell_type": "code",
   "execution_count": 9,
   "metadata": {
    "id": "LK86qZPjJssD",
    "outputId": "0b50cf8a-9136-4fb3-8952-14067864f9c1"
   },
   "outputs": [
    {
     "data": {
      "text/plain": [
       "15"
      ]
     },
     "execution_count": 9,
     "metadata": {},
     "output_type": "execute_result"
    }
   ],
   "source": [
    "5 * 3"
   ]
  },
  {
   "cell_type": "code",
   "execution_count": 10,
   "metadata": {
    "id": "zUz_BZNNJssD",
    "outputId": "580aec60-66b7-4e8e-cbde-c717c00f858e"
   },
   "outputs": [
    {
     "name": "stdout",
     "output_type": "stream",
     "text": [
      "10\n"
     ]
    }
   ],
   "source": [
    "print(nombre * 2)"
   ]
  },
  {
   "cell_type": "markdown",
   "metadata": {
    "id": "afjB3mbPJssD"
   },
   "source": [
    "**Division**"
   ]
  },
  {
   "cell_type": "code",
   "execution_count": 11,
   "metadata": {
    "id": "TjbhNu2GJssD",
    "outputId": "302b4b4d-7d14-4f85-c7f2-56a04e663d83"
   },
   "outputs": [
    {
     "data": {
      "text/plain": [
       "3.0"
      ]
     },
     "execution_count": 11,
     "metadata": {},
     "output_type": "execute_result"
    }
   ],
   "source": [
    "27 / 9"
   ]
  },
  {
   "cell_type": "code",
   "execution_count": 12,
   "metadata": {
    "id": "JTzwG3t-JssE",
    "outputId": "014abfac-5a5d-47ac-8fd3-523834d20a3f"
   },
   "outputs": [
    {
     "data": {
      "text/plain": [
       "12.5"
      ]
     },
     "execution_count": 12,
     "metadata": {},
     "output_type": "execute_result"
    }
   ],
   "source": [
    "25 / 2"
   ]
  },
  {
   "cell_type": "markdown",
   "metadata": {
    "id": "c0T7mtJoJssE"
   },
   "source": [
    "On peut décider d'extraire uniquement le quotient de la division"
   ]
  },
  {
   "cell_type": "code",
   "execution_count": 14,
   "metadata": {
    "id": "kqzH0XVlJssE",
    "outputId": "1314340d-a8fe-4bd0-a8b3-484f2b7264c0"
   },
   "outputs": [
    {
     "data": {
      "text/plain": [
       "12"
      ]
     },
     "execution_count": 14,
     "metadata": {},
     "output_type": "execute_result"
    }
   ],
   "source": [
    "25 // 2"
   ]
  },
  {
   "cell_type": "markdown",
   "metadata": {
    "id": "XkCNb1B9JssF"
   },
   "source": [
    "**Exposant**"
   ]
  },
  {
   "cell_type": "code",
   "execution_count": 15,
   "metadata": {
    "id": "K-krY4EdJssF",
    "outputId": "131877c8-fa94-44cc-855a-175fd792a688"
   },
   "outputs": [
    {
     "data": {
      "text/plain": [
       "32"
      ]
     },
     "execution_count": 15,
     "metadata": {},
     "output_type": "execute_result"
    }
   ],
   "source": [
    "2 ** 5"
   ]
  },
  {
   "cell_type": "code",
   "execution_count": 16,
   "metadata": {
    "id": "pi_SkejXJssF",
    "outputId": "f63aade5-9520-4691-f59f-aff69c744261"
   },
   "outputs": [
    {
     "data": {
      "text/plain": [
       "1"
      ]
     },
     "execution_count": 16,
     "metadata": {},
     "output_type": "execute_result"
    }
   ],
   "source": [
    "15 ** 0"
   ]
  },
  {
   "cell_type": "markdown",
   "metadata": {
    "id": "6otBPhSfJssF"
   },
   "source": [
    "**Modulo (Reste de la division)**"
   ]
  },
  {
   "cell_type": "code",
   "execution_count": 17,
   "metadata": {
    "id": "ZP8CXnAlJssG",
    "outputId": "3f5a2707-20f4-4e4f-fd1b-40f397234d16"
   },
   "outputs": [
    {
     "data": {
      "text/plain": [
       "1"
      ]
     },
     "execution_count": 17,
     "metadata": {},
     "output_type": "execute_result"
    }
   ],
   "source": [
    "89 % 2"
   ]
  },
  {
   "cell_type": "markdown",
   "metadata": {
    "id": "4kIMVv0wJssG"
   },
   "source": [
    "On peut donc dire qu'un nombre est pair par exemple si ce nombre modulo 2 est 1 et non 0"
   ]
  },
  {
   "cell_type": "code",
   "execution_count": 18,
   "metadata": {
    "id": "7439TaUeJssG"
   },
   "outputs": [],
   "source": [
    "est_pair = 27 % 2"
   ]
  },
  {
   "cell_type": "code",
   "execution_count": 19,
   "metadata": {
    "id": "IUa_o8KVJssG",
    "outputId": "7a7e64f4-5af8-41d4-ce49-519a18038361"
   },
   "outputs": [
    {
     "data": {
      "text/plain": [
       "1"
      ]
     },
     "execution_count": 19,
     "metadata": {},
     "output_type": "execute_result"
    }
   ],
   "source": [
    "est_pair"
   ]
  },
  {
   "cell_type": "markdown",
   "metadata": {
    "id": "KjMC5R-cJssH"
   },
   "source": [
    "On peut stocker le resultat de l'opération sur une variable avec le même nom"
   ]
  },
  {
   "cell_type": "code",
   "execution_count": 20,
   "metadata": {
    "id": "FBL543CqJssH"
   },
   "outputs": [],
   "source": [
    "nombres_de_voitures = 5"
   ]
  },
  {
   "cell_type": "code",
   "execution_count": 21,
   "metadata": {
    "id": "HaY6hFZzJssH"
   },
   "outputs": [],
   "source": [
    "nombres_de_voitures = nombres_de_voitures + 15"
   ]
  },
  {
   "cell_type": "code",
   "execution_count": 22,
   "metadata": {
    "id": "dFx9dqUdJssH",
    "outputId": "72cc774d-b351-4a0a-b130-0f360f9025f9"
   },
   "outputs": [
    {
     "data": {
      "text/plain": [
       "20"
      ]
     },
     "execution_count": 22,
     "metadata": {},
     "output_type": "execute_result"
    }
   ],
   "source": [
    "nombres_de_voitures"
   ]
  },
  {
   "cell_type": "markdown",
   "metadata": {
    "id": "YciAx_yCJssI"
   },
   "source": [
    "on peut réecrire l'opération de cette manière"
   ]
  },
  {
   "cell_type": "code",
   "execution_count": 23,
   "metadata": {
    "id": "nY0v0Cs0JssI"
   },
   "outputs": [],
   "source": [
    "nombres_de_voitures += 15 "
   ]
  },
  {
   "cell_type": "code",
   "execution_count": 24,
   "metadata": {
    "id": "dpHRL_EfJssI",
    "outputId": "bcec7835-cce0-4113-cd92-a3fc581dd6a0"
   },
   "outputs": [
    {
     "data": {
      "text/plain": [
       "35"
      ]
     },
     "execution_count": 24,
     "metadata": {},
     "output_type": "execute_result"
    }
   ],
   "source": [
    "nombres_de_voitures"
   ]
  },
  {
   "cell_type": "code",
   "execution_count": 25,
   "metadata": {
    "id": "0Mlsw3DIJssI"
   },
   "outputs": [],
   "source": [
    "nombres_de_voitures -= 3"
   ]
  },
  {
   "cell_type": "code",
   "execution_count": 26,
   "metadata": {
    "id": "iVbFgLA9JssJ",
    "outputId": "8b6fad36-2277-4411-ce12-66b3536430af"
   },
   "outputs": [
    {
     "data": {
      "text/plain": [
       "32"
      ]
     },
     "execution_count": 26,
     "metadata": {},
     "output_type": "execute_result"
    }
   ],
   "source": [
    "nombres_de_voitures"
   ]
  },
  {
   "cell_type": "code",
   "execution_count": 27,
   "metadata": {
    "id": "4MCijTamJssJ"
   },
   "outputs": [],
   "source": [
    "nombres_de_voitures /= 2"
   ]
  },
  {
   "cell_type": "code",
   "execution_count": 28,
   "metadata": {
    "id": "-njxXlRvJssJ",
    "outputId": "89473d52-123f-4eb8-dc84-1673b6b8ec95"
   },
   "outputs": [
    {
     "data": {
      "text/plain": [
       "16.0"
      ]
     },
     "execution_count": 28,
     "metadata": {},
     "output_type": "execute_result"
    }
   ],
   "source": [
    "nombres_de_voitures"
   ]
  },
  {
   "cell_type": "code",
   "execution_count": 29,
   "metadata": {
    "id": "Q_bUb5cIJssJ"
   },
   "outputs": [],
   "source": [
    "nombres_de_voitures *= 3"
   ]
  },
  {
   "cell_type": "code",
   "execution_count": 30,
   "metadata": {
    "id": "NoJdGOc_JssK",
    "outputId": "f72d05d3-4329-4a38-d96c-a27527f2bbea"
   },
   "outputs": [
    {
     "data": {
      "text/plain": [
       "48.0"
      ]
     },
     "execution_count": 30,
     "metadata": {},
     "output_type": "execute_result"
    }
   ],
   "source": [
    "nombres_de_voitures"
   ]
  },
  {
   "cell_type": "markdown",
   "metadata": {
    "id": "HaVBhmDwJssK"
   },
   "source": [
    "**Ordre de priorité des opération: P E M D A S**"
   ]
  },
  {
   "cell_type": "markdown",
   "metadata": {},
   "source": [
    "Il existe un ordre d'exécution des opérations en Python. Il s'agit de :\n",
    "* Parenthèses\n",
    "* Exposants\n",
    "* Multiplication\n",
    "* Division\n",
    "* Addition\n",
    "* Soustraction"
   ]
  },
  {
   "cell_type": "code",
   "execution_count": 31,
   "metadata": {
    "id": "AalHiYAlJssK"
   },
   "outputs": [
    {
     "data": {
      "text/plain": [
       "87"
      ]
     },
     "execution_count": 31,
     "metadata": {},
     "output_type": "execute_result"
    }
   ],
   "source": [
    "15 + 8 * 3 ** 2"
   ]
  },
  {
   "cell_type": "code",
   "execution_count": 32,
   "metadata": {
    "id": "K_QZyzI4JssK"
   },
   "outputs": [
    {
     "data": {
      "text/plain": [
       "207"
      ]
     },
     "execution_count": 32,
     "metadata": {},
     "output_type": "execute_result"
    }
   ],
   "source": [
    "(15 + 8) * 3 ** 2"
   ]
  },
  {
   "cell_type": "code",
   "execution_count": null,
   "metadata": {
    "id": "NTY-UfIDJssL"
   },
   "outputs": [],
   "source": []
  },
  {
   "cell_type": "markdown",
   "metadata": {
    "id": "bAkgM3AWJssL"
   },
   "source": [
    "# Les Types de variables en Python"
   ]
  },
  {
   "cell_type": "markdown",
   "metadata": {
    "id": "qM6cMi-6JssL"
   },
   "source": [
    "Il existe plusieurs types de variables en Python."
   ]
  },
  {
   "cell_type": "markdown",
   "metadata": {
    "id": "UySdINyHJssL"
   },
   "source": [
    "## Les nombres entiers"
   ]
  },
  {
   "cell_type": "code",
   "execution_count": 33,
   "metadata": {
    "id": "MlhqqBm_JssM"
   },
   "outputs": [],
   "source": [
    "age = 15"
   ]
  },
  {
   "cell_type": "markdown",
   "metadata": {
    "id": "iZaX4g0SJssM"
   },
   "source": [
    "15 est un nombre entier. En anglais, on dit que 15 est un `integer` ou encore `int` pour faire court. On peut vérifier le type d'une variable en utilisant la fonction `type` comme ceci : "
   ]
  },
  {
   "cell_type": "code",
   "execution_count": 34,
   "metadata": {
    "id": "RXnKgYKQJssM",
    "outputId": "ca8c9940-ec56-4b0e-c81e-bce603a7bbb7"
   },
   "outputs": [
    {
     "data": {
      "text/plain": [
       "int"
      ]
     },
     "execution_count": 34,
     "metadata": {},
     "output_type": "execute_result"
    }
   ],
   "source": [
    "type(age)"
   ]
  },
  {
   "cell_type": "markdown",
   "metadata": {
    "id": "iJtgqmvtJssM"
   },
   "source": [
    "## Les nombres à virgules"
   ]
  },
  {
   "cell_type": "code",
   "execution_count": 35,
   "metadata": {
    "id": "2kclaWgnJssM"
   },
   "outputs": [],
   "source": [
    "taille = 1.83"
   ]
  },
  {
   "cell_type": "markdown",
   "metadata": {
    "id": "WxzDb3RaJssN"
   },
   "source": [
    "1.83 est un nombre à virgule. Il faut noter ici que la virgule est représentée par un point. C'est la convention en anglais. `1,83` n'est donc pas un nombre à virgule si vous l'ecrivez comme ca. En anglais, on appelle un nombre à virgule, `float`"
   ]
  },
  {
   "cell_type": "code",
   "execution_count": 36,
   "metadata": {
    "id": "Zez5KAsqJssN",
    "outputId": "c6b7b61d-ff50-4e21-8f6b-95305ef3de16"
   },
   "outputs": [
    {
     "data": {
      "text/plain": [
       "float"
      ]
     },
     "execution_count": 36,
     "metadata": {},
     "output_type": "execute_result"
    }
   ],
   "source": [
    "type(taille)"
   ]
  },
  {
   "cell_type": "markdown",
   "metadata": {
    "id": "ef6n_0MYJssN"
   },
   "source": [
    "## Les chaînes de caractères"
   ]
  },
  {
   "cell_type": "markdown",
   "metadata": {
    "id": "Mwgaq7qWJssN"
   },
   "source": [
    "On a vu les nombres. Place aux chaines de caractères. Un mot est une chaine de caractères. Une lettre est une chaine de caractères avec un seul élément. Pour dire à Python qu'une variable est une chaine de caractère ou encore `string`, on la met en des guillemets comme ceci `\"blabla\"` ou `'blabla'`."
   ]
  },
  {
   "cell_type": "code",
   "execution_count": 37,
   "metadata": {
    "id": "v4ZtQxd8JssO"
   },
   "outputs": [],
   "source": [
    "nom = \"Kevin\""
   ]
  },
  {
   "cell_type": "code",
   "execution_count": 38,
   "metadata": {
    "id": "tAU8syLHJssO",
    "outputId": "1b980969-f80a-4dc7-d2f0-0701cc059246"
   },
   "outputs": [
    {
     "data": {
      "text/plain": [
       "str"
      ]
     },
     "execution_count": 38,
     "metadata": {},
     "output_type": "execute_result"
    }
   ],
   "source": [
    "type(nom)"
   ]
  },
  {
   "cell_type": "markdown",
   "metadata": {
    "id": "DSxdb7fnJssO"
   },
   "source": [
    "Que se passe-t-il si je mets un nombre entre des guillemets. Essayons et vérifions le type."
   ]
  },
  {
   "cell_type": "code",
   "execution_count": 39,
   "metadata": {
    "id": "UEVhblqJJssO"
   },
   "outputs": [],
   "source": [
    "nombre = \"15\""
   ]
  },
  {
   "cell_type": "code",
   "execution_count": 40,
   "metadata": {
    "id": "jLo2k1mSJssP",
    "outputId": "575c9ee0-725c-4c08-f6ea-2804dcb683cc"
   },
   "outputs": [
    {
     "data": {
      "text/plain": [
       "str"
      ]
     },
     "execution_count": 40,
     "metadata": {},
     "output_type": "execute_result"
    }
   ],
   "source": [
    "type(nombre)"
   ]
  },
  {
   "cell_type": "markdown",
   "metadata": {
    "id": "33gSgXyRJssP"
   },
   "source": [
    "nombre est apparemment un `str (string)`, ce qui veut dire que toute chose qu'on mettra entre des guillemets est une chaine de caractères"
   ]
  },
  {
   "cell_type": "markdown",
   "metadata": {
    "id": "b9fi6_cVJssP"
   },
   "source": [
    "## Changement de Type"
   ]
  },
  {
   "cell_type": "markdown",
   "metadata": {},
   "source": [
    "Il est possible de modifier le type d'une variable après l'avoir créer."
   ]
  },
  {
   "cell_type": "code",
   "execution_count": 41,
   "metadata": {
    "id": "w2JiF7g4JssP"
   },
   "outputs": [],
   "source": [
    "numero = \"15\""
   ]
  },
  {
   "cell_type": "code",
   "execution_count": 42,
   "metadata": {
    "id": "TwiJsIRVJssP",
    "outputId": "f3c00543-30b3-4e56-d048-28f01d80a946"
   },
   "outputs": [
    {
     "data": {
      "text/plain": [
       "str"
      ]
     },
     "execution_count": 42,
     "metadata": {},
     "output_type": "execute_result"
    }
   ],
   "source": [
    "type(numero)"
   ]
  },
  {
   "cell_type": "code",
   "execution_count": 43,
   "metadata": {
    "id": "4UDhltxtJssQ"
   },
   "outputs": [],
   "source": [
    "numero_int =  int(numero)"
   ]
  },
  {
   "cell_type": "code",
   "execution_count": 44,
   "metadata": {
    "id": "r7V1HXp9JssQ",
    "outputId": "2853fa73-dd0e-41d2-ebd7-f519223a9ac7"
   },
   "outputs": [
    {
     "data": {
      "text/plain": [
       "int"
      ]
     },
     "execution_count": 44,
     "metadata": {},
     "output_type": "execute_result"
    }
   ],
   "source": [
    "type(numero_int)"
   ]
  },
  {
   "cell_type": "markdown",
   "metadata": {},
   "source": [
    "Mais attention, il faut que la variable soit convertible."
   ]
  },
  {
   "cell_type": "code",
   "execution_count": 45,
   "metadata": {
    "id": "9PhsdvEOJssQ"
   },
   "outputs": [],
   "source": [
    "numero = \"1589kil\""
   ]
  },
  {
   "cell_type": "code",
   "execution_count": 46,
   "metadata": {
    "id": "fkJv_6HuJssQ",
    "outputId": "34804155-dc07-4bf8-cc51-230f49217be8"
   },
   "outputs": [
    {
     "ename": "ValueError",
     "evalue": "invalid literal for int() with base 10: '1589kil'",
     "output_type": "error",
     "traceback": [
      "\u001b[0;31m---------------------------------------------------------------------------\u001b[0m",
      "\u001b[0;31mValueError\u001b[0m                                Traceback (most recent call last)",
      "\u001b[0;32m<ipython-input-46-e782938469f3>\u001b[0m in \u001b[0;36m<module>\u001b[0;34m\u001b[0m\n\u001b[0;32m----> 1\u001b[0;31m \u001b[0mint\u001b[0m\u001b[0;34m(\u001b[0m\u001b[0mnumero\u001b[0m\u001b[0;34m)\u001b[0m\u001b[0;34m\u001b[0m\u001b[0;34m\u001b[0m\u001b[0m\n\u001b[0m",
      "\u001b[0;31mValueError\u001b[0m: invalid literal for int() with base 10: '1589kil'"
     ]
    }
   ],
   "source": [
    "int(numero)"
   ]
  },
  {
   "cell_type": "code",
   "execution_count": 47,
   "metadata": {
    "id": "uUfN4KmPJssR"
   },
   "outputs": [],
   "source": [
    "age = 15"
   ]
  },
  {
   "cell_type": "code",
   "execution_count": 48,
   "metadata": {
    "id": "TigCFxs8JssR",
    "outputId": "72c0ea48-cd41-4c2b-97be-31ff4b17f89d"
   },
   "outputs": [
    {
     "data": {
      "text/plain": [
       "'15'"
      ]
     },
     "execution_count": 48,
     "metadata": {},
     "output_type": "execute_result"
    }
   ],
   "source": [
    "str(age)"
   ]
  },
  {
   "cell_type": "code",
   "execution_count": 49,
   "metadata": {
    "id": "2pANcwI2JssR"
   },
   "outputs": [],
   "source": [
    "poids = \"18.69\""
   ]
  },
  {
   "cell_type": "code",
   "execution_count": 50,
   "metadata": {
    "id": "Utn7Qm8UJssR",
    "outputId": "b9fb6d13-9d6f-4f05-b89a-752735a67729"
   },
   "outputs": [
    {
     "data": {
      "text/plain": [
       "18.69"
      ]
     },
     "execution_count": 50,
     "metadata": {},
     "output_type": "execute_result"
    }
   ],
   "source": [
    "float(poids)"
   ]
  },
  {
   "cell_type": "code",
   "execution_count": 51,
   "metadata": {
    "id": "2pxccs7TJssR"
   },
   "outputs": [],
   "source": [
    "poids = float(poids)"
   ]
  },
  {
   "cell_type": "code",
   "execution_count": 52,
   "metadata": {
    "id": "0TPIDCJzJssS",
    "outputId": "1444547f-75d5-48e9-f8cd-bc69fb3a0f94"
   },
   "outputs": [
    {
     "data": {
      "text/plain": [
       "18.69"
      ]
     },
     "execution_count": 52,
     "metadata": {},
     "output_type": "execute_result"
    }
   ],
   "source": [
    "poids"
   ]
  },
  {
   "cell_type": "markdown",
   "metadata": {
    "id": "MGSBKcAGJssS"
   },
   "source": [
    "En resumé, on peut modifier les types int et float en str. Mais pour convertir un str en int ou float, il faut que le str ait un nombre entre les guillemets. En convertissant un float en int, on perd la partie après la virgule, et en converstissant un int en float, on lui ajoute `.0` à la fin."
   ]
  },
  {
   "cell_type": "markdown",
   "metadata": {
    "id": "-1TC_73UJssS"
   },
   "source": [
    "## Les listes"
   ]
  },
  {
   "cell_type": "markdown",
   "metadata": {},
   "source": [
    "Les 3 types que nous avons vu sont des types primitifs. Les autres types que nous verrons seront des `collections` de ces types primitifs."
   ]
  },
  {
   "cell_type": "markdown",
   "metadata": {},
   "source": [
    "Le premier type est le type list. Une liste est simplement une collection ordonnée d'éléments. Comment créer une liste en Python ?"
   ]
  },
  {
   "cell_type": "code",
   "execution_count": 53,
   "metadata": {
    "id": "KNCsTDs7JssS"
   },
   "outputs": [],
   "source": [
    "notes = [18, 15, 13, 20]"
   ]
  },
  {
   "cell_type": "markdown",
   "metadata": {},
   "source": [
    "Une liste ne contient pas que des nombres.On peut stocker n'importe quel type de données dans une liste. La liste suivante contient même une liste:"
   ]
  },
  {
   "cell_type": "code",
   "execution_count": 54,
   "metadata": {
    "id": "YjG5IGO_JssT"
   },
   "outputs": [],
   "source": [
    "blabla = [\"Kevin\", 15, 25.25, [5], \"1\"]"
   ]
  },
  {
   "cell_type": "markdown",
   "metadata": {},
   "source": [
    "On a dit qu'une liste était une collection ordonnée d'éléments. C'est à dire que chaque élément de la liste a une position. On peut donc référencer un élément ou l'extraire avec sa position. **En Python, les positions commencent à partir de 0, on parle de l'index d'un élément dans une liste**. Essayons d'extraire le premier élémént de la liste `notes`, c'est l'élément `18` dont l'index est 0."
   ]
  },
  {
   "cell_type": "code",
   "execution_count": 55,
   "metadata": {
    "id": "7RgCvnFEJssT",
    "outputId": "d0d583d0-b41d-4806-f3b9-a050897d5c58"
   },
   "outputs": [
    {
     "data": {
      "text/plain": [
       "18"
      ]
     },
     "execution_count": 55,
     "metadata": {},
     "output_type": "execute_result"
    }
   ],
   "source": [
    "notes[0]"
   ]
  },
  {
   "cell_type": "markdown",
   "metadata": {},
   "source": [
    "Troisième élément de la liste: index 2 ?"
   ]
  },
  {
   "cell_type": "code",
   "execution_count": 58,
   "metadata": {
    "id": "3tCF0ODUJssT",
    "outputId": "df4a7465-70c6-436d-a376-93429750a9b4"
   },
   "outputs": [
    {
     "data": {
      "text/plain": [
       "13"
      ]
     },
     "execution_count": 58,
     "metadata": {},
     "output_type": "execute_result"
    }
   ],
   "source": [
    "notes[2]"
   ]
  },
  {
   "cell_type": "markdown",
   "metadata": {},
   "source": [
    "Pour donc extraire un élément d'une liste, on fait `nom_de_la_variable`[index].\n",
    "\n",
    "L'index peut aussi être négatif. Dans ce genre de cas, on compte les éléments à partir du dernier élément de la liste. Notre liste `notes` se termine par 20. Son index est 3, mais aussi -1"
   ]
  },
  {
   "cell_type": "code",
   "execution_count": 59,
   "metadata": {},
   "outputs": [
    {
     "data": {
      "text/plain": [
       "20"
      ]
     },
     "execution_count": 59,
     "metadata": {},
     "output_type": "execute_result"
    }
   ],
   "source": [
    "notes[-1]"
   ]
  },
  {
   "cell_type": "code",
   "execution_count": 60,
   "metadata": {
    "id": "ay242PPuJssT",
    "outputId": "0f81a9c9-8bd0-41e5-fcbf-5401e67542f8"
   },
   "outputs": [
    {
     "data": {
      "text/plain": [
       "13"
      ]
     },
     "execution_count": 60,
     "metadata": {},
     "output_type": "execute_result"
    }
   ],
   "source": [
    "notes[-2]"
   ]
  },
  {
   "cell_type": "markdown",
   "metadata": {},
   "source": [
    "Je peux attirer ton attention sur la liste blabla, qui contient à l'index 3 une liste qui contient un seul élément. Essayons de l'afficher:"
   ]
  },
  {
   "cell_type": "code",
   "execution_count": 61,
   "metadata": {
    "id": "9NSMJz6qJssU",
    "outputId": "b87cd5af-283e-40ab-f63c-3f993e8486e1"
   },
   "outputs": [
    {
     "data": {
      "text/plain": [
       "[5]"
      ]
     },
     "execution_count": 61,
     "metadata": {},
     "output_type": "execute_result"
    }
   ],
   "source": [
    "blabla[3]"
   ]
  },
  {
   "cell_type": "markdown",
   "metadata": {},
   "source": [
    "Vérifions son type :"
   ]
  },
  {
   "cell_type": "code",
   "execution_count": 62,
   "metadata": {
    "id": "6rvk9eJZJssU",
    "outputId": "421a8f52-66ca-42bf-fcb4-36374356113d"
   },
   "outputs": [
    {
     "data": {
      "text/plain": [
       "list"
      ]
     },
     "execution_count": 62,
     "metadata": {},
     "output_type": "execute_result"
    }
   ],
   "source": [
    "type(blabla[3])"
   ]
  },
  {
   "cell_type": "markdown",
   "metadata": {},
   "source": [
    "Il est possible de modifier les éléments d'une liste. Dans notre liste `notes`, l'étudiant qui a eu 13 a reçu un bonus de 2 points. S nouvelle note est 15. Faisons la modification."
   ]
  },
  {
   "cell_type": "code",
   "execution_count": 63,
   "metadata": {
    "id": "JR-qMiLMJssU"
   },
   "outputs": [],
   "source": [
    "notes = [18, 15, 13, 20]"
   ]
  },
  {
   "cell_type": "code",
   "execution_count": 64,
   "metadata": {},
   "outputs": [
    {
     "data": {
      "text/plain": [
       "13"
      ]
     },
     "execution_count": 64,
     "metadata": {},
     "output_type": "execute_result"
    }
   ],
   "source": [
    "notes[-2]"
   ]
  },
  {
   "cell_type": "code",
   "execution_count": 65,
   "metadata": {
    "id": "hx2HpDHzJssU"
   },
   "outputs": [],
   "source": [
    "notes[-2] = 15"
   ]
  },
  {
   "cell_type": "code",
   "execution_count": 66,
   "metadata": {
    "id": "zi0vaLWZJssV",
    "outputId": "bcb35019-908d-44bf-e5f6-85f2e3f97205"
   },
   "outputs": [
    {
     "data": {
      "text/plain": [
       "[18, 15, 15, 20]"
      ]
     },
     "execution_count": 66,
     "metadata": {},
     "output_type": "execute_result"
    }
   ],
   "source": [
    "notes"
   ]
  },
  {
   "cell_type": "markdown",
   "metadata": {},
   "source": [
    "Pour donc modifier un élément dans une liste, il faut extraire et faire `= nouvelle valeur ou élément`."
   ]
  },
  {
   "cell_type": "markdown",
   "metadata": {},
   "source": [
    "Il est possible d'extraire une plage d'élément dans une liste. Par exemple, on se demande quelles sont 2 premiers éléments dans notre liste, c'est à dire les éléments dont les indexs sont 0 et 1. Il s'agit de 18 et 15. Voyons comment faire:"
   ]
  },
  {
   "cell_type": "code",
   "execution_count": 68,
   "metadata": {
    "id": "4bo_JVdPJssV",
    "outputId": "b102a853-f935-4fda-c62c-a967bf938574"
   },
   "outputs": [
    {
     "data": {
      "text/plain": [
       "[18, 15]"
      ]
     },
     "execution_count": 68,
     "metadata": {},
     "output_type": "execute_result"
    }
   ],
   "source": [
    "notes[0:2]"
   ]
  },
  {
   "cell_type": "markdown",
   "metadata": {},
   "source": [
    "Oh, il s'agit là d'une nouvelle notation. Entre les crochets, on a `0:2`. On dirait qu'on a fait `index du premier element : index du dernier element + 1`. Verifions si c'est vrai en extrayant les 3 derniers éléments, c'est à dire les élements 15, 15 et 20. L'index du premier élément est 1 et le dernier est 3, on fera donc `1:3+1`. Essayons:"
   ]
  },
  {
   "cell_type": "code",
   "execution_count": 69,
   "metadata": {},
   "outputs": [
    {
     "data": {
      "text/plain": [
       "[15, 15, 20]"
      ]
     },
     "execution_count": 69,
     "metadata": {},
     "output_type": "execute_result"
    }
   ],
   "source": [
    "notes[1:4]"
   ]
  },
  {
   "cell_type": "markdown",
   "metadata": {},
   "source": [
    "On dirait que ca marche. C'ext excellent. Est-ce que c'est possible de faire la même extraction avec les indexs négatifs. Essayons d'extraire les deux 15 au milieu de la liste. L'index du premier 15 est -3 et celui du second 15 est -2, on fera donc `-3: -2+1`. Essayons:"
   ]
  },
  {
   "cell_type": "code",
   "execution_count": 70,
   "metadata": {},
   "outputs": [
    {
     "data": {
      "text/plain": [
       "[15, 15]"
      ]
     },
     "execution_count": 70,
     "metadata": {},
     "output_type": "execute_result"
    }
   ],
   "source": [
    "notes[-3: -1]"
   ]
  },
  {
   "cell_type": "markdown",
   "metadata": {},
   "source": [
    "> Question : Que se passe-t-il quand j'omet, l'index avant le : et quand j'omet celui après le : .\n",
    "En gros, que me donnera `notes[ : 2]` et `notes[-3 : ]`"
   ]
  },
  {
   "cell_type": "markdown",
   "metadata": {},
   "source": [
    "Pour la suite de notre découverte des listes, nous allons utiliser une liste qui contient différents types d'éléments."
   ]
  },
  {
   "cell_type": "code",
   "execution_count": 71,
   "metadata": {
    "id": "7JzOyURSJssV"
   },
   "outputs": [],
   "source": [
    "liste_aleatoire = [ 14, 58, 45, -9, \"ballon\", \"kevin\", 12]"
   ]
  },
  {
   "cell_type": "markdown",
   "metadata": {},
   "source": [
    "Quelle est la taille de cette liste ?"
   ]
  },
  {
   "cell_type": "code",
   "execution_count": 72,
   "metadata": {},
   "outputs": [
    {
     "data": {
      "text/plain": [
       "7"
      ]
     },
     "execution_count": 72,
     "metadata": {},
     "output_type": "execute_result"
    }
   ],
   "source": [
    "len(liste_aleatoire)"
   ]
  },
  {
   "cell_type": "markdown",
   "metadata": {},
   "source": [
    "On a 7 éléments dans notre liste, donc les indexs vont de 0 à 6. `len()` est une fonction utilisé pour connaitre la taille d'une collection, nous verra qu'elle est aussi utilisé pour les prochaines collections."
   ]
  },
  {
   "cell_type": "markdown",
   "metadata": {},
   "source": [
    "Comment ajouter le mot `python` à notre liste. Cet élément aura l'index 7. Peut-on faire\n",
    "\n",
    "`liste_aleatoire[7] = \"python\"` ? Essayons voir :"
   ]
  },
  {
   "cell_type": "code",
   "execution_count": 73,
   "metadata": {},
   "outputs": [
    {
     "ename": "IndexError",
     "evalue": "list assignment index out of range",
     "output_type": "error",
     "traceback": [
      "\u001b[0;31m---------------------------------------------------------------------------\u001b[0m",
      "\u001b[0;31mIndexError\u001b[0m                                Traceback (most recent call last)",
      "\u001b[0;32m<ipython-input-73-97f05cbe6698>\u001b[0m in \u001b[0;36m<module>\u001b[0;34m\u001b[0m\n\u001b[0;32m----> 1\u001b[0;31m \u001b[0mliste_aleatoire\u001b[0m\u001b[0;34m[\u001b[0m\u001b[0;36m7\u001b[0m\u001b[0;34m]\u001b[0m \u001b[0;34m=\u001b[0m \u001b[0;34m\"python\"\u001b[0m\u001b[0;34m\u001b[0m\u001b[0;34m\u001b[0m\u001b[0m\n\u001b[0m",
      "\u001b[0;31mIndexError\u001b[0m: list assignment index out of range"
     ]
    }
   ],
   "source": [
    "liste_aleatoire[7] = \"python\""
   ]
  },
  {
   "cell_type": "markdown",
   "metadata": {},
   "source": [
    "On obtient une erreur. Quand je traduis cette erreur en Français, ca donne :\n",
    "> IndexError: index d'affectation de liste hors limites\n",
    "\n",
    "On dirait que Python a essayé de faire une modification et l'index 7 est hors des limites 0-6 de notre liste.\n",
    "Comment faire alors ? Voici une opportunité de chercher sur Google `Comment ajouter un élément à une liste Python ?`. Apprendre à trouver les solutions à ces problèmes grâce à Google est une qualité important de tout programmeur."
   ]
  },
  {
   "cell_type": "markdown",
   "metadata": {},
   "source": [
    "Voici la solution :"
   ]
  },
  {
   "cell_type": "code",
   "execution_count": 74,
   "metadata": {},
   "outputs": [],
   "source": [
    "liste_aleatoire.append('python')"
   ]
  },
  {
   "cell_type": "code",
   "execution_count": 75,
   "metadata": {
    "id": "JP8sm2zvJssY"
   },
   "outputs": [
    {
     "data": {
      "text/plain": [
       "[14, 58, 45, -9, 'ballon', 'kevin', 12, 'python']"
      ]
     },
     "execution_count": 75,
     "metadata": {},
     "output_type": "execute_result"
    }
   ],
   "source": [
    "liste_aleatoire"
   ]
  },
  {
   "cell_type": "markdown",
   "metadata": {},
   "source": [
    "C'est bien tout ça, mais et si je souhaite ajouter le mot `data` entre 45 et -9 au lieu de l'ajouter à la fin de la liste. On parle alors d'insertion dans une liste. Tu peux également chercher sur Google rapidement avant de continuer."
   ]
  },
  {
   "cell_type": "markdown",
   "metadata": {},
   "source": [
    "L'index de 45 est 2. Si un mot est ajouté juste à côté de 45, il aura donc l'index 3. On peut utiliser la fonction `insert()` pour le faire."
   ]
  },
  {
   "cell_type": "code",
   "execution_count": 76,
   "metadata": {},
   "outputs": [],
   "source": [
    "liste_aleatoire.insert(3, 'data')"
   ]
  },
  {
   "cell_type": "code",
   "execution_count": 77,
   "metadata": {},
   "outputs": [
    {
     "data": {
      "text/plain": [
       "[14, 58, 45, 'data', -9, 'ballon', 'kevin', 12, 'python']"
      ]
     },
     "execution_count": 77,
     "metadata": {},
     "output_type": "execute_result"
    }
   ],
   "source": [
    "liste_aleatoire"
   ]
  },
  {
   "cell_type": "markdown",
   "metadata": {},
   "source": [
    "Maintenant, on veut supprimer l'élément -9 pour n'avoir que des nombres positifs. Encore une opportunité de chercher sur Google `Comment supprimer un élément d'une liste Python`. "
   ]
  },
  {
   "cell_type": "code",
   "execution_count": 79,
   "metadata": {},
   "outputs": [],
   "source": [
    "liste_aleatoire.remove(-9)"
   ]
  },
  {
   "cell_type": "code",
   "execution_count": 80,
   "metadata": {},
   "outputs": [
    {
     "data": {
      "text/plain": [
       "[14, 58, 45, 'data', 'ballon', 'kevin', 12, 'python']"
      ]
     },
     "execution_count": 80,
     "metadata": {},
     "output_type": "execute_result"
    }
   ],
   "source": [
    "liste_aleatoire"
   ]
  },
  {
   "cell_type": "markdown",
   "metadata": {},
   "source": [
    "L'élément -9 a été supprimé. C'est parfait. On utilise donc la fonction remove pour supprimer l'élément.\n",
    "> Question : Et si on avait -9 plusieurs fois dans la liste, la fonction remove va-t-elle tous les supprimer ?"
   ]
  },
  {
   "cell_type": "markdown",
   "metadata": {},
   "source": [
    "Et si on ne connait pas l'élément qu'on veut supprimer mais son index. Comment le supprimer ?\n",
    "> Toi: C'est simple, on affiche l'élement avec `liste_aleatoire[index]` et on fait `remove()` avec l'élément qui s'est affiché\n",
    "\n",
    "> Moi: Bravo, c'est une très bonne technique. Mais je te propose un raccourci. Tu peux supprimer l'élément avec `del liste_aleatoire[index]`.Le mot clé `del` permet de supprimer un élément sans le connaitre.\n",
    "\n",
    "> Toi: Hummmmm, très interessant ça. J'ai une question: Comment puis-je récuperer l'index d'un élément que je connais. Imagine que ma liste contient 156 éléments et que je ne peux pas le voir. Comment je peux recuperer l'index de l'élément - 9\n",
    "\n",
    "> Moi: Google est ton ami. Voilà encore une occassion de chercher. Si tu trouves la solution, informe-moi sur Discord à https://discord.gg/sHE5exZ  ."
   ]
  },
  {
   "cell_type": "code",
   "execution_count": 81,
   "metadata": {
    "id": "tWNEWdUCJssa"
   },
   "outputs": [],
   "source": [
    "del liste_aleatoire[1]"
   ]
  },
  {
   "cell_type": "code",
   "execution_count": 82,
   "metadata": {
    "colab": {
     "base_uri": "https://localhost:8080/"
    },
    "id": "XHFrgeMXPIjV",
    "outputId": "ad48eb66-13f0-4aab-ddaf-3553e91b3ac9"
   },
   "outputs": [
    {
     "data": {
      "text/plain": [
       "[14, 45, 'data', 'ballon', 'kevin', 12, 'python']"
      ]
     },
     "execution_count": 82,
     "metadata": {},
     "output_type": "execute_result"
    }
   ],
   "source": [
    "liste_aleatoire"
   ]
  },
  {
   "cell_type": "markdown",
   "metadata": {
    "id": "2WnEQu-UQhM_"
   },
   "source": [
    "Nous venons de voir plusieurs concepts concernant les listes. Prend le temps de créer une liste, y ajouter des éléments, extraire une plage d'élément, supprimer un élément ou une plage d'élément. Cela te permettra de consolider ce que tu as appris pour la suite. Tu peux également Faire les exercices de Python qui se trouvent [ici](https://www.w3schools.com/python/exercise.asp?filename=exercise_lists1).\n",
    "\n",
    "Nous n'avons pas vu toutes les fonctions de Python pour les listes. Tu peux en découvrir d'autres [ici](https://www.w3schools.com/python/python_lists_methods.asp)\n",
    "Voici quelques questions pour guider tes recherches : \n",
    "* Comment trier une liste de nombres du plus petit au plus grand, et inversement ?\n",
    "* Peut-on ordonner une liste qui contient des nombres et des chaines de caractères ?\n",
    "* Comment compter le nombre de fois qu'apparait un élément dans une liste ?"
   ]
  },
  {
   "cell_type": "code",
   "execution_count": null,
   "metadata": {
    "id": "LLlrnmDq1N1Z"
   },
   "outputs": [],
   "source": []
  },
  {
   "cell_type": "markdown",
   "metadata": {
    "id": "Bs5Uf4NEJssc"
   },
   "source": [
    "## Les tuples"
   ]
  },
  {
   "cell_type": "markdown",
   "metadata": {},
   "source": [
    "Le second type de collections de données que nous allons voir est le type **tuple**. Les tuples sont commes les listes mais avec des parenthèses **( )** au lieu des crochets **[ ]**."
   ]
  },
  {
   "cell_type": "code",
   "execution_count": 83,
   "metadata": {
    "id": "9Jl6f0UNQpC_"
   },
   "outputs": [],
   "source": [
    "un_tuple = (2, 5 , 9)"
   ]
  },
  {
   "cell_type": "code",
   "execution_count": 84,
   "metadata": {
    "colab": {
     "base_uri": "https://localhost:8080/"
    },
    "id": "a3pfGOx_QotQ",
    "outputId": "e7a283f5-ae67-46f6-e00b-331da63d1204"
   },
   "outputs": [
    {
     "data": {
      "text/plain": [
       "tuple"
      ]
     },
     "execution_count": 84,
     "metadata": {},
     "output_type": "execute_result"
    }
   ],
   "source": [
    "type(un_tuple)"
   ]
  },
  {
   "cell_type": "markdown",
   "metadata": {},
   "source": [
    "Mais en quoi différe-t-il des listes? Essayons de voir si on peut faire les mêmes opérations qu'on a faite avec les listes."
   ]
  },
  {
   "cell_type": "markdown",
   "metadata": {},
   "source": [
    "EXtraire un élément ?"
   ]
  },
  {
   "cell_type": "code",
   "execution_count": 85,
   "metadata": {
    "colab": {
     "base_uri": "https://localhost:8080/"
    },
    "id": "MM-xxwmqQ6c4",
    "outputId": "3f33164f-168e-4fd9-d65e-6437a8f525e4"
   },
   "outputs": [
    {
     "data": {
      "text/plain": [
       "9"
      ]
     },
     "execution_count": 85,
     "metadata": {},
     "output_type": "execute_result"
    }
   ],
   "source": [
    "un_tuple[2]"
   ]
  },
  {
   "cell_type": "markdown",
   "metadata": {},
   "source": [
    "Peut-on remplacer les crochets par les parenthèses pour l'extraction ?"
   ]
  },
  {
   "cell_type": "code",
   "execution_count": 87,
   "metadata": {
    "colab": {
     "base_uri": "https://localhost:8080/",
     "height": 162
    },
    "id": "jUzXlbYLQ6Mi",
    "outputId": "1d4f2472-8bab-4169-fb67-644636b69614"
   },
   "outputs": [
    {
     "ename": "TypeError",
     "evalue": "'tuple' object is not callable",
     "output_type": "error",
     "traceback": [
      "\u001b[0;31m---------------------------------------------------------------------------\u001b[0m",
      "\u001b[0;31mTypeError\u001b[0m                                 Traceback (most recent call last)",
      "\u001b[0;32m<ipython-input-87-b89e85d2b07a>\u001b[0m in \u001b[0;36m<module>\u001b[0;34m\u001b[0m\n\u001b[0;32m----> 1\u001b[0;31m \u001b[0mun_tuple\u001b[0m\u001b[0;34m(\u001b[0m\u001b[0;36m2\u001b[0m\u001b[0;34m)\u001b[0m\u001b[0;34m\u001b[0m\u001b[0;34m\u001b[0m\u001b[0m\n\u001b[0m",
      "\u001b[0;31mTypeError\u001b[0m: 'tuple' object is not callable"
     ]
    }
   ],
   "source": [
    "un_tuple(2)"
   ]
  },
  {
   "cell_type": "markdown",
   "metadata": {},
   "source": [
    "Oh, les parenthèses comme ca, c'est pour les fonctions qu'on verra plus tard."
   ]
  },
  {
   "cell_type": "markdown",
   "metadata": {},
   "source": [
    "Extraire une plage d'éléments dans un tuple:"
   ]
  },
  {
   "cell_type": "code",
   "execution_count": 88,
   "metadata": {
    "colab": {
     "base_uri": "https://localhost:8080/"
    },
    "id": "nHPjUjuYQoTS",
    "outputId": "0cb03ae7-c173-42b3-c737-d851812e538a"
   },
   "outputs": [
    {
     "data": {
      "text/plain": [
       "(2, 5)"
      ]
     },
     "execution_count": 88,
     "metadata": {},
     "output_type": "execute_result"
    }
   ],
   "source": [
    "un_tuple[0:2]"
   ]
  },
  {
   "cell_type": "markdown",
   "metadata": {},
   "source": [
    "Modifier les éléments d'un tuple : "
   ]
  },
  {
   "cell_type": "code",
   "execution_count": 89,
   "metadata": {
    "colab": {
     "base_uri": "https://localhost:8080/",
     "height": 162
    },
    "id": "WzCoe8-SJssd",
    "outputId": "1b5558a5-469f-4b2c-c89f-74c56baf4b4c"
   },
   "outputs": [
    {
     "ename": "TypeError",
     "evalue": "'tuple' object does not support item assignment",
     "output_type": "error",
     "traceback": [
      "\u001b[0;31m---------------------------------------------------------------------------\u001b[0m",
      "\u001b[0;31mTypeError\u001b[0m                                 Traceback (most recent call last)",
      "\u001b[0;32m<ipython-input-89-50f5cb4db3c3>\u001b[0m in \u001b[0;36m<module>\u001b[0;34m\u001b[0m\n\u001b[0;32m----> 1\u001b[0;31m \u001b[0mun_tuple\u001b[0m\u001b[0;34m[\u001b[0m\u001b[0;36m1\u001b[0m\u001b[0;34m]\u001b[0m \u001b[0;34m=\u001b[0m \u001b[0;36m15000\u001b[0m\u001b[0;34m\u001b[0m\u001b[0;34m\u001b[0m\u001b[0m\n\u001b[0m",
      "\u001b[0;31mTypeError\u001b[0m: 'tuple' object does not support item assignment"
     ]
    }
   ],
   "source": [
    "un_tuple[1] = 15000"
   ]
  },
  {
   "cell_type": "markdown",
   "metadata": {},
   "source": [
    "Oh, apparemment, on ne peut pas modifier un tuple. Peut-on lui ajouter un élément ?"
   ]
  },
  {
   "cell_type": "code",
   "execution_count": 90,
   "metadata": {
    "colab": {
     "base_uri": "https://localhost:8080/",
     "height": 162
    },
    "id": "4cDAOgUGRfl4",
    "outputId": "36723bea-9b74-4ae3-e0f9-b20541e611cc"
   },
   "outputs": [
    {
     "ename": "AttributeError",
     "evalue": "'tuple' object has no attribute 'append'",
     "output_type": "error",
     "traceback": [
      "\u001b[0;31m---------------------------------------------------------------------------\u001b[0m",
      "\u001b[0;31mAttributeError\u001b[0m                            Traceback (most recent call last)",
      "\u001b[0;32m<ipython-input-90-10f9f390e3fd>\u001b[0m in \u001b[0;36m<module>\u001b[0;34m\u001b[0m\n\u001b[0;32m----> 1\u001b[0;31m \u001b[0mun_tuple\u001b[0m\u001b[0;34m.\u001b[0m\u001b[0mappend\u001b[0m\u001b[0;34m(\u001b[0m\u001b[0;36m15000\u001b[0m\u001b[0;34m)\u001b[0m\u001b[0;34m\u001b[0m\u001b[0;34m\u001b[0m\u001b[0m\n\u001b[0m",
      "\u001b[0;31mAttributeError\u001b[0m: 'tuple' object has no attribute 'append'"
     ]
    }
   ],
   "source": [
    "un_tuple.append(15000)"
   ]
  },
  {
   "cell_type": "markdown",
   "metadata": {},
   "source": [
    "Apparemment, non plus. Peut-on supprimer un élément ?"
   ]
  },
  {
   "cell_type": "code",
   "execution_count": 91,
   "metadata": {
    "colab": {
     "base_uri": "https://localhost:8080/",
     "height": 162
    },
    "id": "FFQNelO9RfSy",
    "outputId": "2f3f0f78-a90f-47a5-a0dd-d3e13b174740"
   },
   "outputs": [
    {
     "ename": "TypeError",
     "evalue": "'tuple' object doesn't support item deletion",
     "output_type": "error",
     "traceback": [
      "\u001b[0;31m---------------------------------------------------------------------------\u001b[0m",
      "\u001b[0;31mTypeError\u001b[0m                                 Traceback (most recent call last)",
      "\u001b[0;32m<ipython-input-91-a4858ed01ac1>\u001b[0m in \u001b[0;36m<module>\u001b[0;34m\u001b[0m\n\u001b[0;32m----> 1\u001b[0;31m \u001b[0;32mdel\u001b[0m \u001b[0mun_tuple\u001b[0m\u001b[0;34m[\u001b[0m\u001b[0;36m1\u001b[0m\u001b[0;34m]\u001b[0m\u001b[0;34m\u001b[0m\u001b[0;34m\u001b[0m\u001b[0m\n\u001b[0m",
      "\u001b[0;31mTypeError\u001b[0m: 'tuple' object doesn't support item deletion"
     ]
    }
   ],
   "source": [
    "del un_tuple[1]"
   ]
  },
  {
   "cell_type": "markdown",
   "metadata": {},
   "source": [
    "Impossible. Donc on peut dire qu'un tuple est pas modifiable une fois qu'il a été crée. On dit qu'un tuple est immuable. Ce type de variable peut être utilisé pour sauvegarder des éléments qui ne changent pas, comme le nom des jours de la semaine, la température à laquelle, l'eau devient glace et autres"
   ]
  },
  {
   "cell_type": "code",
   "execution_count": 92,
   "metadata": {
    "id": "FbCpFFlcJssd"
   },
   "outputs": [],
   "source": [
    "jours = ('lundi', 'mardi', 'mercredi', 'jeudi', 'vendredi', 'samedi', 'dimanche')"
   ]
  },
  {
   "cell_type": "markdown",
   "metadata": {
    "id": "d9GGmdz_Jssd"
   },
   "source": [
    "Ici se trouve 4 exercices pour toi sur les tuples : https://www.w3schools.com/python/exercise.asp?filename=exercise_tuples1.\n",
    "Il existe un second type de variable qui ressemble aux listes, qu'on appelle **sets**. Je t'encourage à le chercher et comprendre comment on l'utilise et à quoi ca sert. Voici un lien pour t'aider : https://www.w3schools.com/python/python_sets.asp"
   ]
  },
  {
   "cell_type": "markdown",
   "metadata": {
    "id": "l6MGJvGuJssd"
   },
   "source": [
    "## Les dictionnaires"
   ]
  },
  {
   "cell_type": "markdown",
   "metadata": {},
   "source": [
    "Le dernier type de variable que nous allons voir est le type **dictionnaire**. Un dictionnaire est simplement une collection de clé-valeurs comme par exemple un annuaire qui est une collection de nom-numero de téléphone. Créeons justement un annuaire."
   ]
  },
  {
   "cell_type": "code",
   "execution_count": 93,
   "metadata": {
    "id": "paH_4Z3SSHXi"
   },
   "outputs": [],
   "source": [
    "annuaire = {\"kevin\": \"06545885852\",\n",
    "            \"radji\": \"06466548454\"}"
   ]
  },
  {
   "cell_type": "markdown",
   "metadata": {},
   "source": [
    "Un dictionnaire c'est donc le format **clé : valeur** séparé par une virgule et le tout est dans des accolades **{}**"
   ]
  },
  {
   "cell_type": "code",
   "execution_count": 94,
   "metadata": {
    "colab": {
     "base_uri": "https://localhost:8080/"
    },
    "id": "8geQvkxRSGhB",
    "outputId": "9c044d9b-bc0b-43a1-d257-a49f103987e8"
   },
   "outputs": [
    {
     "data": {
      "text/plain": [
       "dict"
      ]
     },
     "execution_count": 94,
     "metadata": {},
     "output_type": "execute_result"
    }
   ],
   "source": [
    "type(annuaire)"
   ]
  },
  {
   "cell_type": "markdown",
   "metadata": {},
   "source": [
    "Quel est le numéro de kevin ?"
   ]
  },
  {
   "cell_type": "code",
   "execution_count": 95,
   "metadata": {
    "colab": {
     "base_uri": "https://localhost:8080/",
     "height": 35
    },
    "id": "coNPmdkqJssd",
    "outputId": "75fc4fac-526d-4d6f-80e1-806d15ada93d"
   },
   "outputs": [
    {
     "data": {
      "text/plain": [
       "'06545885852'"
      ]
     },
     "execution_count": 95,
     "metadata": {},
     "output_type": "execute_result"
    }
   ],
   "source": [
    "annuaire[\"kevin\"]"
   ]
  },
  {
   "cell_type": "markdown",
   "metadata": {},
   "source": [
    "Cela ressemble à comment on a extrait les élements d'une liste. Mais cette fois-ci, au lieu de l'index, on met le clé entre les crochets."
   ]
  },
  {
   "cell_type": "markdown",
   "metadata": {},
   "source": [
    "Dans notre exemple, la clé et la valeur sont des chaines de caractères. Peut-on avoir comme valeur une liste par exemple ?"
   ]
  },
  {
   "cell_type": "code",
   "execution_count": 96,
   "metadata": {
    "id": "vptWtghUJssd"
   },
   "outputs": [],
   "source": [
    "annuaire = {\"kevin\": \"06545885852\",\n",
    "            \"radji\": \"06466548454\",\n",
    "            \"rock_ray\": [\"066545\", \"06454\"]}"
   ]
  },
  {
   "cell_type": "code",
   "execution_count": 97,
   "metadata": {},
   "outputs": [
    {
     "name": "stdout",
     "output_type": "stream",
     "text": [
      "{'kevin': '06545885852', 'radji': '06466548454', 'rock_ray': ['066545', '06454']}\n"
     ]
    }
   ],
   "source": [
    "print(annuaire)"
   ]
  },
  {
   "cell_type": "markdown",
   "metadata": {},
   "source": [
    "C'est possible. Combinons nos compétences en listes et dictionnaires pour extraire le 1er numéro de rock_ray"
   ]
  },
  {
   "cell_type": "code",
   "execution_count": 98,
   "metadata": {
    "colab": {
     "base_uri": "https://localhost:8080/"
    },
    "id": "Z_n9rfZjJsse",
    "outputId": "679892c8-b2de-46bf-8a25-aff8921c5dd9"
   },
   "outputs": [
    {
     "data": {
      "text/plain": [
       "['066545', '06454']"
      ]
     },
     "execution_count": 98,
     "metadata": {},
     "output_type": "execute_result"
    }
   ],
   "source": [
    "annuaire[\"rock_ray\"]"
   ]
  },
  {
   "cell_type": "code",
   "execution_count": 99,
   "metadata": {
    "colab": {
     "base_uri": "https://localhost:8080/",
     "height": 35
    },
    "id": "KfHR9HDlTkNz",
    "outputId": "ae35ccfe-44c6-4783-de9d-14a5aa5a8bca"
   },
   "outputs": [
    {
     "data": {
      "text/plain": [
       "'066545'"
      ]
     },
     "execution_count": 99,
     "metadata": {},
     "output_type": "execute_result"
    }
   ],
   "source": [
    "annuaire[\"rock_ray\"][0]"
   ]
  },
  {
   "cell_type": "markdown",
   "metadata": {},
   "source": [
    "Peut-on lui ajouter un 3ème numéro ?"
   ]
  },
  {
   "cell_type": "code",
   "execution_count": 100,
   "metadata": {
    "id": "Z3Q77elfTpjq"
   },
   "outputs": [],
   "source": [
    "annuaire[\"rock_ray\"].append(\"06545451\")"
   ]
  },
  {
   "cell_type": "code",
   "execution_count": 101,
   "metadata": {
    "colab": {
     "base_uri": "https://localhost:8080/"
    },
    "id": "aQA-NxoITp4V",
    "outputId": "c55a8b96-d8be-47d4-c086-e06551b8c05d"
   },
   "outputs": [
    {
     "data": {
      "text/plain": [
       "{'kevin': '06545885852',\n",
       " 'radji': '06466548454',\n",
       " 'rock_ray': ['066545', '06454', '06545451']}"
      ]
     },
     "execution_count": 101,
     "metadata": {},
     "output_type": "execute_result"
    }
   ],
   "source": [
    "annuaire"
   ]
  },
  {
   "cell_type": "markdown",
   "metadata": {
    "id": "M5g971cPT053"
   },
   "source": [
    "> Question : Peut-on créer une liste de dictionnaire ?,\n",
    "La clé peut-elle être un nombre (int ou float) ?\n",
    "La clé peut-elle être un dictionnaire ?"
   ]
  },
  {
   "cell_type": "markdown",
   "metadata": {},
   "source": [
    "Comment modifier un dictionnaire ? Ici on veut modifier le numero de kevin."
   ]
  },
  {
   "cell_type": "code",
   "execution_count": 110,
   "metadata": {},
   "outputs": [],
   "source": [
    "annuaire['kevin'] = \"0606060606\""
   ]
  },
  {
   "cell_type": "code",
   "execution_count": 111,
   "metadata": {},
   "outputs": [
    {
     "data": {
      "text/plain": [
       "{'kevin': '0606060606',\n",
       " 'radji': '06466548454',\n",
       " 'rock_ray': ['066545', '06454', '06545451']}"
      ]
     },
     "execution_count": 111,
     "metadata": {},
     "output_type": "execute_result"
    }
   ],
   "source": [
    "annuaire"
   ]
  },
  {
   "cell_type": "markdown",
   "metadata": {},
   "source": [
    "Et si on veut changer la clé ? C'est comme si on voulait changer l'index d'une liste: C'est impossible. IL faut supprimer l'élément et y ajouter la nouvelle clé-valeur. Alors comment supprimer une clé-valeur ?"
   ]
  },
  {
   "cell_type": "code",
   "execution_count": 112,
   "metadata": {},
   "outputs": [],
   "source": [
    "del annuaire['rock_ray']"
   ]
  },
  {
   "cell_type": "code",
   "execution_count": 113,
   "metadata": {},
   "outputs": [
    {
     "data": {
      "text/plain": [
       "{'kevin': '0606060606', 'radji': '06466548454'}"
      ]
     },
     "execution_count": 113,
     "metadata": {},
     "output_type": "execute_result"
    }
   ],
   "source": [
    "annuaire"
   ]
  },
  {
   "cell_type": "markdown",
   "metadata": {},
   "source": [
    "Ca fonctionne. Comment ajouter une nouvelle clé-valeur. Il suffit de faire :"
   ]
  },
  {
   "cell_type": "code",
   "execution_count": 114,
   "metadata": {},
   "outputs": [],
   "source": [
    "annuaire['sos'] = \"911\""
   ]
  },
  {
   "cell_type": "code",
   "execution_count": 115,
   "metadata": {},
   "outputs": [
    {
     "data": {
      "text/plain": [
       "{'kevin': '0606060606', 'radji': '06466548454', 'sos': '911'}"
      ]
     },
     "execution_count": 115,
     "metadata": {},
     "output_type": "execute_result"
    }
   ],
   "source": [
    "annuaire"
   ]
  },
  {
   "cell_type": "code",
   "execution_count": null,
   "metadata": {},
   "outputs": [],
   "source": []
  },
  {
   "cell_type": "code",
   "execution_count": 103,
   "metadata": {
    "id": "2hEErCpATqDv"
   },
   "outputs": [],
   "source": [
    "un_dict = {2: \"deux\",\n",
    "           5:\"cinq\",\n",
    "           3:\"trois\"}"
   ]
  },
  {
   "cell_type": "markdown",
   "metadata": {},
   "source": [
    "Quelle est la taille de ce nouveau dictionnaire ? C'est à dire combien de clé-valeurs. On avait utilisé la fonction **len** pour les listes. Est-ce que ca marche pour les dictionnaires ?"
   ]
  },
  {
   "cell_type": "code",
   "execution_count": 105,
   "metadata": {
    "colab": {
     "base_uri": "https://localhost:8080/"
    },
    "id": "YKA071a-WOOM",
    "outputId": "81d4f5b4-cb88-4d15-808c-752e807dc4b4"
   },
   "outputs": [
    {
     "data": {
      "text/plain": [
       "3"
      ]
     },
     "execution_count": 105,
     "metadata": {},
     "output_type": "execute_result"
    }
   ],
   "source": [
    "len(un_dict)"
   ]
  },
  {
   "cell_type": "markdown",
   "metadata": {},
   "source": [
    "La réponse est Oui"
   ]
  },
  {
   "cell_type": "code",
   "execution_count": 106,
   "metadata": {
    "colab": {
     "base_uri": "https://localhost:8080/",
     "height": 35
    },
    "id": "WJWpI4V6TqTI",
    "outputId": "c19b0427-2f06-45bb-89af-b6ce29159edc"
   },
   "outputs": [
    {
     "data": {
      "text/plain": [
       "'deux'"
      ]
     },
     "execution_count": 106,
     "metadata": {},
     "output_type": "execute_result"
    }
   ],
   "source": [
    "un_dict[2]"
   ]
  },
  {
   "cell_type": "code",
   "execution_count": 107,
   "metadata": {
    "colab": {
     "base_uri": "https://localhost:8080/",
     "height": 162
    },
    "id": "PaZJTkC1UGlr",
    "outputId": "48774bbf-aceb-4c7e-fc2a-5116f7dafffb"
   },
   "outputs": [
    {
     "ename": "KeyError",
     "evalue": "1",
     "output_type": "error",
     "traceback": [
      "\u001b[0;31m---------------------------------------------------------------------------\u001b[0m",
      "\u001b[0;31mKeyError\u001b[0m                                  Traceback (most recent call last)",
      "\u001b[0;32m<ipython-input-107-d3ff6f2df384>\u001b[0m in \u001b[0;36m<module>\u001b[0;34m\u001b[0m\n\u001b[0;32m----> 1\u001b[0;31m \u001b[0mun_dict\u001b[0m\u001b[0;34m[\u001b[0m\u001b[0;36m1\u001b[0m\u001b[0;34m]\u001b[0m\u001b[0;34m\u001b[0m\u001b[0;34m\u001b[0m\u001b[0m\n\u001b[0m",
      "\u001b[0;31mKeyError\u001b[0m: 1"
     ]
    }
   ],
   "source": [
    "un_dict[1]"
   ]
  },
  {
   "cell_type": "code",
   "execution_count": 109,
   "metadata": {
    "colab": {
     "base_uri": "https://localhost:8080/",
     "height": 35
    },
    "id": "Pkb0eTdeUGzt",
    "outputId": "190abea3-94e8-44ae-bd88-f943217e847c"
   },
   "outputs": [
    {
     "data": {
      "text/plain": [
       "'cinq'"
      ]
     },
     "execution_count": 109,
     "metadata": {},
     "output_type": "execute_result"
    }
   ],
   "source": [
    "un_dict[5]"
   ]
  },
  {
   "cell_type": "markdown",
   "metadata": {},
   "source": [
    "Revenons à notre annuaire. Comment l'organiser par ordre alphabétique selon la clé. Je t'invite à chercher une fois de plus la réponse sur Google"
   ]
  },
  {
   "cell_type": "code",
   "execution_count": 117,
   "metadata": {},
   "outputs": [
    {
     "data": {
      "text/plain": [
       "{'kevin': '0606060606', 'radji': '06466548454', 'sos': '911', 'bob': '568978'}"
      ]
     },
     "execution_count": 117,
     "metadata": {},
     "output_type": "execute_result"
    }
   ],
   "source": [
    "annuaire['bob'] = \"568978\"\n",
    "annuaire"
   ]
  },
  {
   "cell_type": "code",
   "execution_count": 118,
   "metadata": {},
   "outputs": [
    {
     "data": {
      "text/plain": [
       "[('bob', '568978'),\n",
       " ('kevin', '0606060606'),\n",
       " ('radji', '06466548454'),\n",
       " ('sos', '911')]"
      ]
     },
     "execution_count": 118,
     "metadata": {},
     "output_type": "execute_result"
    }
   ],
   "source": [
    "sorted(annuaire.items(), key=lambda t: t[0])"
   ]
  },
  {
   "cell_type": "markdown",
   "metadata": {},
   "source": [
    "Tu n'es pas censé comprendre ce qu'on vient de faire. On a utilisé la fonction **lambda** qui est une fonction spéciale en Python. Ce qu'il faut retenir c'est la fonction items()"
   ]
  },
  {
   "cell_type": "code",
   "execution_count": 119,
   "metadata": {},
   "outputs": [
    {
     "data": {
      "text/plain": [
       "dict_items([('kevin', '0606060606'), ('radji', '06466548454'), ('sos', '911'), ('bob', '568978')])"
      ]
     },
     "execution_count": 119,
     "metadata": {},
     "output_type": "execute_result"
    }
   ],
   "source": [
    "annuaire.items()"
   ]
  },
  {
   "cell_type": "markdown",
   "metadata": {
    "id": "LRiVxDs5nyyK"
   },
   "source": [
    "Cette fonction nous retourne une liste de tuple, chaque tuple contenant la clé et la valeur."
   ]
  },
  {
   "cell_type": "markdown",
   "metadata": {},
   "source": [
    "Voici 2 autres fonctions qui peuvent t'interesser"
   ]
  },
  {
   "cell_type": "code",
   "execution_count": 121,
   "metadata": {},
   "outputs": [
    {
     "data": {
      "text/plain": [
       "dict_keys(['kevin', 'radji', 'sos', 'bob'])"
      ]
     },
     "execution_count": 121,
     "metadata": {},
     "output_type": "execute_result"
    }
   ],
   "source": [
    "annuaire.keys()"
   ]
  },
  {
   "cell_type": "code",
   "execution_count": 122,
   "metadata": {},
   "outputs": [
    {
     "data": {
      "text/plain": [
       "dict_values(['0606060606', '06466548454', '911', '568978'])"
      ]
     },
     "execution_count": 122,
     "metadata": {},
     "output_type": "execute_result"
    }
   ],
   "source": [
    "annuaire.values()"
   ]
  },
  {
   "cell_type": "markdown",
   "metadata": {},
   "source": [
    "Nous venons donc finir de voir le type dictionnaire. C'est le moment une fois de plus de pauser et reprendre ce qu'on a fait. Créer un dictionnaire, modifie le, ajoute des élements et supprime également quelques uns.\n",
    "Tu peux aussi explorer d'autres fonctions de dictionnaires ici : https://www.w3schools.com/python/python_dictionaries_methods.asp et faire des exercices ici : https://www.w3schools.com/python/exercise.asp?filename=exercise_dictionaries1"
   ]
  },
  {
   "cell_type": "markdown",
   "metadata": {
    "id": "Ll3lqDsXV82O"
   },
   "source": [
    "## Chaine de caractères: Es-tu une collection comme liste ?"
   ]
  },
  {
   "cell_type": "markdown",
   "metadata": {},
   "source": [
    "Quand on y pense, les chaînes de caractères peuvent être considérerés comme une collection de caractères. Par exemple, sa taille serait le nombre de caractères et chaque caractère aura un index comme dans les liste. Essayons voir."
   ]
  },
  {
   "cell_type": "code",
   "execution_count": 123,
   "metadata": {
    "id": "fYwDtuSRVwXj"
   },
   "outputs": [],
   "source": [
    "nom = \"Kevin\""
   ]
  },
  {
   "cell_type": "code",
   "execution_count": 124,
   "metadata": {
    "colab": {
     "base_uri": "https://localhost:8080/"
    },
    "id": "KIjuN1LPVwES",
    "outputId": "6ff06a6c-1cad-44be-aab0-a01f382f6221"
   },
   "outputs": [
    {
     "data": {
      "text/plain": [
       "5"
      ]
     },
     "execution_count": 124,
     "metadata": {},
     "output_type": "execute_result"
    }
   ],
   "source": [
    "len(nom)"
   ]
  },
  {
   "cell_type": "code",
   "execution_count": 125,
   "metadata": {
    "colab": {
     "base_uri": "https://localhost:8080/",
     "height": 35
    },
    "id": "mMwk8EnTVv2X",
    "outputId": "97602b16-3ec8-4b13-bed9-e5983f719388"
   },
   "outputs": [
    {
     "data": {
      "text/plain": [
       "'K'"
      ]
     },
     "execution_count": 125,
     "metadata": {},
     "output_type": "execute_result"
    }
   ],
   "source": [
    "nom[0]"
   ]
  },
  {
   "cell_type": "code",
   "execution_count": 126,
   "metadata": {
    "colab": {
     "base_uri": "https://localhost:8080/",
     "height": 35
    },
    "id": "b0cpJgsgVvn7",
    "outputId": "0c1f23d5-17ee-4258-e804-0072e4fb4aae"
   },
   "outputs": [
    {
     "data": {
      "text/plain": [
       "'Kevi'"
      ]
     },
     "execution_count": 126,
     "metadata": {},
     "output_type": "execute_result"
    }
   ],
   "source": [
    "nom[:4]"
   ]
  },
  {
   "cell_type": "markdown",
   "metadata": {},
   "source": [
    "Eh bah, ca fonctionne. Essayons de modifier une lettre."
   ]
  },
  {
   "cell_type": "code",
   "execution_count": 128,
   "metadata": {
    "colab": {
     "base_uri": "https://localhost:8080/",
     "height": 162
    },
    "id": "Jebm1Qm1VvZp",
    "outputId": "6867f959-5c46-48bf-fe27-a26360a2cc32"
   },
   "outputs": [
    {
     "ename": "TypeError",
     "evalue": "'str' object does not support item assignment",
     "output_type": "error",
     "traceback": [
      "\u001b[0;31m---------------------------------------------------------------------------\u001b[0m",
      "\u001b[0;31mTypeError\u001b[0m                                 Traceback (most recent call last)",
      "\u001b[0;32m<ipython-input-128-65a3eae51b6a>\u001b[0m in \u001b[0;36m<module>\u001b[0;34m\u001b[0m\n\u001b[0;32m----> 1\u001b[0;31m \u001b[0mnom\u001b[0m\u001b[0;34m[\u001b[0m\u001b[0;36m0\u001b[0m\u001b[0;34m]\u001b[0m \u001b[0;34m=\u001b[0m \u001b[0;34m\"k\"\u001b[0m\u001b[0;34m\u001b[0m\u001b[0;34m\u001b[0m\u001b[0m\n\u001b[0m",
      "\u001b[0;31mTypeError\u001b[0m: 'str' object does not support item assignment"
     ]
    }
   ],
   "source": [
    "nom[0] = \"k\""
   ]
  },
  {
   "cell_type": "markdown",
   "metadata": {},
   "source": [
    "Apparement, on ne peut pas modifier une lettre dans une chaine de caractère. Par contre on peut concatener des chaines de caractères comme ceci:"
   ]
  },
  {
   "cell_type": "code",
   "execution_count": 129,
   "metadata": {},
   "outputs": [
    {
     "data": {
      "text/plain": [
       "'Kevin'"
      ]
     },
     "execution_count": 129,
     "metadata": {},
     "output_type": "execute_result"
    }
   ],
   "source": [
    "nom"
   ]
  },
  {
   "cell_type": "code",
   "execution_count": 130,
   "metadata": {},
   "outputs": [
    {
     "data": {
      "text/plain": [
       "'Kevin Degila'"
      ]
     },
     "execution_count": 130,
     "metadata": {},
     "output_type": "execute_result"
    }
   ],
   "source": [
    "nom + \" Degila\""
   ]
  },
  {
   "cell_type": "code",
   "execution_count": 131,
   "metadata": {},
   "outputs": [
    {
     "data": {
      "text/plain": [
       "'bonjoura toi'"
      ]
     },
     "execution_count": 131,
     "metadata": {},
     "output_type": "execute_result"
    }
   ],
   "source": [
    "\"bonjour\" +  \"a toi\""
   ]
  },
  {
   "cell_type": "markdown",
   "metadata": {},
   "source": [
    "> Question: Que se passe-t-il quand on additionne des listes ou des dictionnaires ? Si on peut additionner, peut-on multiplier ? Et la soustraction, c'est possible ?"
   ]
  },
  {
   "cell_type": "markdown",
   "metadata": {},
   "source": [
    "Voyons désormais quelques fonctions interessantes pour les str"
   ]
  },
  {
   "cell_type": "code",
   "execution_count": 132,
   "metadata": {
    "id": "84MrWckVVvFq"
   },
   "outputs": [],
   "source": [
    "bootcamp = 'data science'"
   ]
  },
  {
   "cell_type": "code",
   "execution_count": 133,
   "metadata": {},
   "outputs": [
    {
     "data": {
      "text/plain": [
       "'Data Science'"
      ]
     },
     "execution_count": 133,
     "metadata": {},
     "output_type": "execute_result"
    }
   ],
   "source": [
    "bootcamp.title()"
   ]
  },
  {
   "cell_type": "code",
   "execution_count": 135,
   "metadata": {
    "colab": {
     "base_uri": "https://localhost:8080/",
     "height": 35
    },
    "id": "fh6kRHUvVu17",
    "outputId": "cd80ad11-0a0a-4614-c751-0a20f56493f2"
   },
   "outputs": [
    {
     "data": {
      "text/plain": [
       "'data science'"
      ]
     },
     "execution_count": 135,
     "metadata": {},
     "output_type": "execute_result"
    }
   ],
   "source": [
    "bootcamp.lower()"
   ]
  },
  {
   "cell_type": "code",
   "execution_count": 136,
   "metadata": {},
   "outputs": [
    {
     "data": {
      "text/plain": [
       "'DATA SCIENCE'"
      ]
     },
     "execution_count": 136,
     "metadata": {},
     "output_type": "execute_result"
    }
   ],
   "source": [
    "bootcamp.upper()"
   ]
  },
  {
   "cell_type": "code",
   "execution_count": 142,
   "metadata": {},
   "outputs": [
    {
     "data": {
      "text/plain": [
       "2"
      ]
     },
     "execution_count": 142,
     "metadata": {},
     "output_type": "execute_result"
    }
   ],
   "source": [
    "bootcamp.count('a')"
   ]
  },
  {
   "cell_type": "markdown",
   "metadata": {
    "id": "1GMK1oIXXKN4"
   },
   "source": [
    "Comme d'habitude, Voici où trouver d'autres fonctions : https://www.w3schools.com/python/python_strings_methods.asp\n",
    "\n",
    "Et Voici quelques exercices intéressants : https://www.w3schools.com/python/exercise.asp?filename=exercise_strings1"
   ]
  },
  {
   "cell_type": "markdown",
   "metadata": {},
   "source": [
    "## Les F-strings"
   ]
  },
  {
   "cell_type": "markdown",
   "metadata": {
    "id": "47eeYuLRUHRy"
   },
   "source": [
    "Avant de cloturer ce notebook, parlons d'un concept particulier."
   ]
  },
  {
   "cell_type": "markdown",
   "metadata": {},
   "source": [
    "On a les variables `nom`, `prenom`,  `age` et on aimerait afficher un message spécial du genre:\n",
    "> Je suis `prenom` `nom` et j'ai `age` ans. Voici comment le faire :"
   ]
  },
  {
   "cell_type": "code",
   "execution_count": 143,
   "metadata": {},
   "outputs": [],
   "source": [
    "nom = \"Degila\"\n",
    "prenom = \"Kevin\"\n",
    "age = 23"
   ]
  },
  {
   "cell_type": "code",
   "execution_count": 144,
   "metadata": {},
   "outputs": [],
   "source": [
    "message = f\"Je suis {prenom} {nom} et j'ai {age} ans\""
   ]
  },
  {
   "cell_type": "code",
   "execution_count": 145,
   "metadata": {},
   "outputs": [
    {
     "name": "stdout",
     "output_type": "stream",
     "text": [
      "Je suis Kevin Degila et j'ai 23 ans\n"
     ]
    }
   ],
   "source": [
    "print(message)"
   ]
  },
  {
   "cell_type": "markdown",
   "metadata": {},
   "source": [
    "Un f-string est une chaine de caractères qui commence par un f avant les \" \", et dans laquelle on garde le nom des variables mais en les gardant entre des accolades { }. Ce qui est intéressant, c'est qu'entre ces { }, du code python peut s'executer. Exemple : "
   ]
  },
  {
   "cell_type": "code",
   "execution_count": 146,
   "metadata": {},
   "outputs": [
    {
     "name": "stdout",
     "output_type": "stream",
     "text": [
      "Je suis Kevin Degila et j'ai 43 ans\n"
     ]
    }
   ],
   "source": [
    "print(f\"Je suis {prenom} {nom} et j'ai {age + 20} ans\")"
   ]
  },
  {
   "cell_type": "markdown",
   "metadata": {},
   "source": [
    "On a ajouté 20 à mon age dans les accolades et la somme a été faite. Voilà le strict nécéssaire à savoir concernant les f-strings. Je t'invite à [lire](https://realpython.com/python-f-strings/) un peu plus sur ces chaines de caractères particulieres et tout ce qu'on peut faire avec."
   ]
  }
 ],
 "metadata": {
  "colab": {
   "name": "01_Les Bases_de_Python.ipynb",
   "provenance": []
  },
  "kernelspec": {
   "display_name": "Python 3",
   "language": "python",
   "name": "python3"
  },
  "language_info": {
   "codemirror_mode": {
    "name": "ipython",
    "version": 3
   },
   "file_extension": ".py",
   "mimetype": "text/x-python",
   "name": "python",
   "nbconvert_exporter": "python",
   "pygments_lexer": "ipython3",
   "version": "3.7.6"
  },
  "toc": {
   "base_numbering": 1,
   "nav_menu": {},
   "number_sections": true,
   "sideBar": true,
   "skip_h1_title": false,
   "title_cell": "Table of Contents",
   "title_sidebar": "Contents",
   "toc_cell": false,
   "toc_position": {
    "height": "calc(100% - 180px)",
    "left": "10px",
    "top": "150px",
    "width": "374.2px"
   },
   "toc_section_display": true,
   "toc_window_display": true
  },
  "varInspector": {
   "cols": {
    "lenName": 16,
    "lenType": 16,
    "lenVar": 40
   },
   "kernels_config": {
    "python": {
     "delete_cmd_postfix": "",
     "delete_cmd_prefix": "del ",
     "library": "var_list.py",
     "varRefreshCmd": "print(var_dic_list())"
    },
    "r": {
     "delete_cmd_postfix": ") ",
     "delete_cmd_prefix": "rm(",
     "library": "var_list.r",
     "varRefreshCmd": "cat(var_dic_list()) "
    }
   },
   "types_to_exclude": [
    "module",
    "function",
    "builtin_function_or_method",
    "instance",
    "_Feature"
   ],
   "window_display": false
  }
 },
 "nbformat": 4,
 "nbformat_minor": 1
}
