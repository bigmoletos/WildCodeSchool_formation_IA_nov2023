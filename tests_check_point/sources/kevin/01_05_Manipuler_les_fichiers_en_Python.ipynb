{
 "cells": [
  {
   "cell_type": "markdown",
   "metadata": {},
   "source": [
    "Dans ce notebook, nous allons apprendre à manipuler les fichiers en Python. Au lieu de recevoir des entrées de façon interactive, vous pouvez simplement les recevoir dans un fichier, d'où l'importance de savoir importer un fichier dans Python. Vous pouvez aussi avoir besoin de stocker de la donnée dans une fichier, il peut s'agir par exemple des affichages de votre programme."
   ]
  },
  {
   "cell_type": "markdown",
   "metadata": {},
   "source": [
    "# Importer un fichier "
   ]
  },
  {
   "cell_type": "markdown",
   "metadata": {},
   "source": [
    "Nous avons un fichier `identite.txt` dans le dossier `datasets` qui contient des informations relatives à l'identité d'un utilisateur. Ce fichier contient 6 lignes et dans l'ordre on a : \n",
    "* nom\n",
    "* prenom\n",
    "* pays d'origine\n",
    "* pays de residence\n",
    "* age\n",
    "* sexe\n",
    "\n",
    "L'objectif est d'importer le fichier et d'afficher un message personnalisé à notre utilisateur."
   ]
  },
  {
   "cell_type": "markdown",
   "metadata": {},
   "source": [
    "Nous avons d'abord besoin du chemin de notre fichier, que ce soit sur Google drive ou en local"
   ]
  },
  {
   "cell_type": "code",
   "execution_count": 3,
   "metadata": {},
   "outputs": [],
   "source": [
    "fichier = 'datasets/identite.txt'"
   ]
  },
  {
   "cell_type": "markdown",
   "metadata": {},
   "source": [
    "On peut desormais l'ouvrir et avoir accès au contenu"
   ]
  },
  {
   "cell_type": "code",
   "execution_count": 7,
   "metadata": {},
   "outputs": [],
   "source": [
    "with open(fichier, 'r') as f:\n",
    "    lines = f.readlines()"
   ]
  },
  {
   "cell_type": "markdown",
   "metadata": {},
   "source": [
    "le code précédent demande à Python d'ouvrir notre fichier en mode lecture( `'r'`) et de le nommer f. A la seconde ligne, nous utilisons `f.readlines()` pour importer les lignes de nos fichiers. Affichons les lignes:"
   ]
  },
  {
   "cell_type": "code",
   "execution_count": 8,
   "metadata": {},
   "outputs": [
    {
     "data": {
      "text/plain": [
       "['Degila\\n', 'Kevin\\n', 'Benin\\n', 'Maroc\\n', '24\\n', 'Masculin\\n']"
      ]
     },
     "execution_count": 8,
     "metadata": {},
     "output_type": "execute_result"
    }
   ],
   "source": [
    "lines"
   ]
  },
  {
   "cell_type": "markdown",
   "metadata": {},
   "source": [
    "On peut voir le contenu de chaque ligne et les sauts de lignes représenté par les \\n. On peut les effacer:"
   ]
  },
  {
   "cell_type": "code",
   "execution_count": 9,
   "metadata": {},
   "outputs": [
    {
     "name": "stdout",
     "output_type": "stream",
     "text": [
      "['Degila', 'Kevin', 'Benin', 'Maroc', '24', 'Masculin']\n"
     ]
    }
   ],
   "source": [
    "for i, line in enumerate(lines):\n",
    "    lines[i] = line.replace('\\n', '')\n",
    "print(lines)"
   ]
  },
  {
   "cell_type": "markdown",
   "metadata": {},
   "source": [
    "On a désormais chaque ligne dans notre liste `lines`. On peut désormais afficher un gentil message personnalisé"
   ]
  },
  {
   "cell_type": "code",
   "execution_count": 10,
   "metadata": {},
   "outputs": [
    {
     "name": "stdout",
     "output_type": "stream",
     "text": [
      "Bonjour Kevin Degila. Vous avez 24 ans.\n"
     ]
    }
   ],
   "source": [
    "nom = lines[0]\n",
    "prenom = lines[1]\n",
    "age = lines[-2]\n",
    "\n",
    "salutation = f'Bonjour {prenom} {nom}. Vous avez {age} ans.'\n",
    "print(salutation)"
   ]
  },
  {
   "cell_type": "markdown",
   "metadata": {},
   "source": [
    "# Ecrire dans un fichier avec Python"
   ]
  },
  {
   "cell_type": "markdown",
   "metadata": {},
   "source": [
    "L'objectif ici est de générer un fichier correspondant à chaque fichier identité qu'on recoit. Ce fichier contiendra notre message de salutation et s'appellera `{nom}.txt`. Il nous faut specifier le chemin du fichier: là où on souhaite le stocker"
   ]
  },
  {
   "cell_type": "code",
   "execution_count": 11,
   "metadata": {},
   "outputs": [],
   "source": [
    "chemin_du_fichier = f'datasets/{nom}.txt'"
   ]
  },
  {
   "cell_type": "code",
   "execution_count": 12,
   "metadata": {},
   "outputs": [],
   "source": [
    "with open(chemin_du_fichier, 'w') as f:\n",
    "    f.write(salutation)"
   ]
  },
  {
   "cell_type": "markdown",
   "metadata": {},
   "source": [
    "Comparer à la section précédente, ce qui a changé c'est qu'on a ouvert le fichier en mode écriture avec `'w'` et avons utilisé la fonction `f.write()` pour écrire dans le fichier. Dans notre dossier dataset se trouve désormais un fichier `Degila.txt` qui contient la salutation"
   ]
  },
  {
   "cell_type": "code",
   "execution_count": 13,
   "metadata": {},
   "outputs": [],
   "source": [
    "import os"
   ]
  },
  {
   "cell_type": "code",
   "execution_count": 14,
   "metadata": {},
   "outputs": [
    {
     "data": {
      "text/plain": [
       "['SalesAnalysis', 'count.txt', 'identite.txt', 'Degila.txt', 'movie.csv']"
      ]
     },
     "execution_count": 14,
     "metadata": {},
     "output_type": "execute_result"
    }
   ],
   "source": [
    "os.listdir('datasets')"
   ]
  },
  {
   "cell_type": "markdown",
   "metadata": {},
   "source": [
    "------"
   ]
  },
  {
   "cell_type": "markdown",
   "metadata": {},
   "source": [
    "https://www.w3schools.com/python/python_file_handling.asp pour en savoir plus sur les modes d'ouvertures d'un fichier et l'exercice 15 du  notebook 01_07 pour pratiquer cette nouvelle compétence."
   ]
  },
  {
   "cell_type": "code",
   "execution_count": null,
   "metadata": {},
   "outputs": [],
   "source": []
  }
 ],
 "metadata": {
  "kernelspec": {
   "display_name": "Python 3",
   "language": "python",
   "name": "python3"
  },
  "language_info": {
   "codemirror_mode": {
    "name": "ipython",
    "version": 3
   },
   "file_extension": ".py",
   "mimetype": "text/x-python",
   "name": "python",
   "nbconvert_exporter": "python",
   "pygments_lexer": "ipython3",
   "version": "3.7.6"
  },
  "toc": {
   "base_numbering": 1,
   "nav_menu": {},
   "number_sections": true,
   "sideBar": true,
   "skip_h1_title": false,
   "title_cell": "Table of Contents",
   "title_sidebar": "Contents",
   "toc_cell": false,
   "toc_position": {},
   "toc_section_display": true,
   "toc_window_display": false
  },
  "varInspector": {
   "cols": {
    "lenName": 16,
    "lenType": 16,
    "lenVar": 40
   },
   "kernels_config": {
    "python": {
     "delete_cmd_postfix": "",
     "delete_cmd_prefix": "del ",
     "library": "var_list.py",
     "varRefreshCmd": "print(var_dic_list())"
    },
    "r": {
     "delete_cmd_postfix": ") ",
     "delete_cmd_prefix": "rm(",
     "library": "var_list.r",
     "varRefreshCmd": "cat(var_dic_list()) "
    }
   },
   "types_to_exclude": [
    "module",
    "function",
    "builtin_function_or_method",
    "instance",
    "_Feature"
   ],
   "window_display": false
  }
 },
 "nbformat": 4,
 "nbformat_minor": 4
}
