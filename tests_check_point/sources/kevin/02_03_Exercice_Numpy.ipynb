{
 "cells": [
  {
   "cell_type": "code",
   "execution_count": 2,
   "metadata": {},
   "outputs": [],
   "source": [
    "import numpy as np"
   ]
  },
  {
   "cell_type": "markdown",
   "metadata": {
    "id": "4Lf-v0SC6b4c"
   },
   "source": [
    "# Exercice 1:"
   ]
  },
  {
   "cell_type": "code",
   "execution_count": null,
   "metadata": {},
   "outputs": [],
   "source": [
    "x # Math, Physique, SVT"
   ]
  },
  {
   "cell_type": "code",
   "execution_count": 3,
   "metadata": {
    "colab": {
     "base_uri": "https://localhost:8080/"
    },
    "id": "15FvCVg96b9A",
    "outputId": "aa4a4411-3cd2-40d4-ab31-3087de97d538"
   },
   "outputs": [
    {
     "data": {
      "text/plain": [
       "array([[ 0, 13,  5],\n",
       "       [ 5,  8,  2],\n",
       "       [ 3,  7, 12],\n",
       "       [ 2,  8,  0],\n",
       "       [ 7,  4,  1]])"
      ]
     },
     "execution_count": 3,
     "metadata": {},
     "output_type": "execute_result"
    }
   ],
   "source": [
    "x = np.random.randint(15, size=(5, 3))\n",
    "x"
   ]
  },
  {
   "cell_type": "markdown",
   "metadata": {},
   "source": [
    "x représente les notes de 5 étudiants en Maths, physique et biologie"
   ]
  },
  {
   "cell_type": "markdown",
   "metadata": {},
   "source": [
    "* Combien de notes sont supérieur à 5 ?\n",
    "* Quel est le nombre de notes supérieur à 8 pour chaque étudiants ?\n",
    "* Quel est le nombre d'élèves ayant au moins 2 notes supérieures à 8 ?\n",
    "* Est-ce que tous les élèves ont une note supérieur à 3 ?\n",
    "* Est-ce qu'il y au moins un élève ayant au moins une note supérieur à 12 ?\n",
    "* Quelle est la moyenne en Math et Physique de la classe si on considère uniquement les  3 élèves dont les notes apparaissent en premier ?\n",
    "* Combien d'élèves ont au moins 2 notes supérieurs à la médiane des  moyennes (élèves) de la classe ?"
   ]
  },
  {
   "cell_type": "markdown",
   "metadata": {},
   "source": [
    "# Solution 1 :"
   ]
  },
  {
   "cell_type": "markdown",
   "metadata": {
    "id": "hZ49pHk48BXW"
   },
   "source": [
    "Le nombre de notes supérieur 5"
   ]
  },
  {
   "cell_type": "code",
   "execution_count": null,
   "metadata": {
    "id": "CNR28YwA8Abz"
   },
   "outputs": [],
   "source": []
  },
  {
   "cell_type": "code",
   "execution_count": null,
   "metadata": {
    "colab": {
     "base_uri": "https://localhost:8080/"
    },
    "id": "_DAvDpRa6cBr",
    "outputId": "6c8dd692-82c1-4398-e746-eff4518dc4a4"
   },
   "outputs": [
    {
     "data": {
      "text/plain": [
       "array([[ True, False,  True],\n",
       "       [ True, False, False],\n",
       "       [False, False, False],\n",
       "       [False,  True,  True],\n",
       "       [False,  True,  True]])"
      ]
     },
     "execution_count": 56,
     "metadata": {
      "tags": []
     },
     "output_type": "execute_result"
    }
   ],
   "source": [
    "x > 5"
   ]
  },
  {
   "cell_type": "code",
   "execution_count": null,
   "metadata": {
    "colab": {
     "base_uri": "https://localhost:8080/"
    },
    "id": "bGU-M6e06cFo",
    "outputId": "7b60cc70-70c7-49e0-d02b-a0a242af511a"
   },
   "outputs": [
    {
     "data": {
      "text/plain": [
       "7"
      ]
     },
     "execution_count": 60,
     "metadata": {
      "tags": []
     },
     "output_type": "execute_result"
    }
   ],
   "source": [
    "np.sum(x>5)"
   ]
  },
  {
   "cell_type": "code",
   "execution_count": null,
   "metadata": {
    "colab": {
     "base_uri": "https://localhost:8080/"
    },
    "id": "mGuTcGTm6cKG",
    "outputId": "3c54c2ee-03e2-414c-b810-eabeb7ef5e08"
   },
   "outputs": [
    {
     "data": {
      "text/plain": [
       "7"
      ]
     },
     "execution_count": 58,
     "metadata": {
      "tags": []
     },
     "output_type": "execute_result"
    }
   ],
   "source": [
    "np.count_nonzero(x>5)"
   ]
  },
  {
   "cell_type": "markdown",
   "metadata": {
    "id": "zOWYu1au8HK9"
   },
   "source": [
    "Le nombre des notes supérieur à  8 pour chaque élève ?"
   ]
  },
  {
   "cell_type": "code",
   "execution_count": null,
   "metadata": {
    "colab": {
     "base_uri": "https://localhost:8080/"
    },
    "id": "NU9lvStO6cOD",
    "outputId": "84e8754e-3567-4d7f-f0f8-3157b335715e"
   },
   "outputs": [
    {
     "data": {
      "text/plain": [
       "array([[11,  2, 10],\n",
       "       [10,  2,  5],\n",
       "       [ 3,  3,  1],\n",
       "       [ 2,  9,  9],\n",
       "       [ 5,  7, 11]])"
      ]
     },
     "execution_count": 61,
     "metadata": {
      "tags": []
     },
     "output_type": "execute_result"
    }
   ],
   "source": [
    "x"
   ]
  },
  {
   "cell_type": "code",
   "execution_count": null,
   "metadata": {
    "colab": {
     "base_uri": "https://localhost:8080/"
    },
    "id": "L5e0x0_w8PzI",
    "outputId": "d9fa0bc7-4247-424b-cb34-aa2c5d06a996"
   },
   "outputs": [
    {
     "data": {
      "text/plain": [
       "array([2, 1, 0, 2, 1])"
      ]
     },
     "execution_count": 63,
     "metadata": {
      "tags": []
     },
     "output_type": "execute_result"
    }
   ],
   "source": [
    "y = np.sum(x > 8, axis=1)\n",
    "y"
   ]
  },
  {
   "cell_type": "markdown",
   "metadata": {
    "id": "eT5rfugx8Z4F"
   },
   "source": [
    "Le nombre d'élèves ayant au moins 2 notes supérieures à 8 ?\n",
    "\n"
   ]
  },
  {
   "cell_type": "code",
   "execution_count": null,
   "metadata": {
    "colab": {
     "base_uri": "https://localhost:8080/"
    },
    "id": "TuMDo5T28UY8",
    "outputId": "5269670b-122b-4c6c-d9b3-d0b02fa40393"
   },
   "outputs": [
    {
     "data": {
      "text/plain": [
       "array([ True, False, False,  True, False])"
      ]
     },
     "execution_count": 65,
     "metadata": {
      "tags": []
     },
     "output_type": "execute_result"
    }
   ],
   "source": [
    "y >= 2"
   ]
  },
  {
   "cell_type": "code",
   "execution_count": null,
   "metadata": {
    "colab": {
     "base_uri": "https://localhost:8080/"
    },
    "id": "03uPZ_Sc89T6",
    "outputId": "ce022bfd-8321-4f6e-e8b8-ea74f3a8fde5"
   },
   "outputs": [
    {
     "data": {
      "text/plain": [
       "2"
      ]
     },
     "execution_count": 66,
     "metadata": {
      "tags": []
     },
     "output_type": "execute_result"
    }
   ],
   "source": [
    "np.sum(y >= 2)"
   ]
  },
  {
   "cell_type": "markdown",
   "metadata": {
    "id": "WTtoSVFu9daU"
   },
   "source": [
    "Est-ce que tous les élèves ont une note supérieur à 3 ?"
   ]
  },
  {
   "cell_type": "code",
   "execution_count": null,
   "metadata": {
    "colab": {
     "base_uri": "https://localhost:8080/"
    },
    "id": "Ebk4WFv79mbC",
    "outputId": "decdb538-b800-473e-8c15-b41312b565a9"
   },
   "outputs": [
    {
     "data": {
      "text/plain": [
       "array([[ True, False,  True],\n",
       "       [ True, False,  True],\n",
       "       [False, False, False],\n",
       "       [False,  True,  True],\n",
       "       [ True,  True,  True]])"
      ]
     },
     "execution_count": 67,
     "metadata": {
      "tags": []
     },
     "output_type": "execute_result"
    }
   ],
   "source": [
    "x > 3"
   ]
  },
  {
   "cell_type": "code",
   "execution_count": null,
   "metadata": {
    "colab": {
     "base_uri": "https://localhost:8080/"
    },
    "id": "e2CDYZcQ9NJd",
    "outputId": "c86a5235-a339-4093-e114-629c42eb6712"
   },
   "outputs": [
    {
     "data": {
      "text/plain": [
       "False"
      ]
     },
     "execution_count": 68,
     "metadata": {
      "tags": []
     },
     "output_type": "execute_result"
    }
   ],
   "source": [
    "np.all( x > 3)"
   ]
  },
  {
   "cell_type": "code",
   "execution_count": null,
   "metadata": {
    "colab": {
     "base_uri": "https://localhost:8080/"
    },
    "id": "GHhxNF029qvj",
    "outputId": "956cc753-249a-4160-f979-50e733afd61d"
   },
   "outputs": [
    {
     "data": {
      "text/plain": [
       "True"
      ]
     },
     "execution_count": 69,
     "metadata": {
      "tags": []
     },
     "output_type": "execute_result"
    }
   ],
   "source": [
    "np.all( x > 0)"
   ]
  },
  {
   "cell_type": "markdown",
   "metadata": {
    "id": "WNZV98Jm9yGz"
   },
   "source": [
    "Est-ce qu'il y a un élève dont la note est supérieur à 12"
   ]
  },
  {
   "cell_type": "code",
   "execution_count": null,
   "metadata": {
    "colab": {
     "base_uri": "https://localhost:8080/"
    },
    "id": "LmH9fmmv9wQk",
    "outputId": "3ed1834b-4503-4a8d-8fa2-8020cdd4e675"
   },
   "outputs": [
    {
     "data": {
      "text/plain": [
       "array([[False, False, False],\n",
       "       [False, False, False],\n",
       "       [False, False, False],\n",
       "       [False, False, False],\n",
       "       [False, False, False]])"
      ]
     },
     "execution_count": 70,
     "metadata": {
      "tags": []
     },
     "output_type": "execute_result"
    }
   ],
   "source": [
    " x > 12"
   ]
  },
  {
   "cell_type": "code",
   "execution_count": null,
   "metadata": {
    "colab": {
     "base_uri": "https://localhost:8080/"
    },
    "id": "uxBJyWN-96hx",
    "outputId": "5bb51222-0ec9-4fdc-d333-cbd9f829e44b"
   },
   "outputs": [
    {
     "data": {
      "text/plain": [
       "False"
      ]
     },
     "execution_count": 71,
     "metadata": {
      "tags": []
     },
     "output_type": "execute_result"
    }
   ],
   "source": [
    "np.any(x > 12)"
   ]
  },
  {
   "cell_type": "code",
   "execution_count": null,
   "metadata": {
    "colab": {
     "base_uri": "https://localhost:8080/"
    },
    "id": "iuTWExQO-DRE",
    "outputId": "1c1c1da9-c428-46c1-e6e4-4e3c18ba9757"
   },
   "outputs": [
    {
     "data": {
      "text/plain": [
       "True"
      ]
     },
     "execution_count": 72,
     "metadata": {
      "tags": []
     },
     "output_type": "execute_result"
    }
   ],
   "source": [
    "np.any(x > 10)"
   ]
  },
  {
   "cell_type": "code",
   "execution_count": null,
   "metadata": {
    "colab": {
     "base_uri": "https://localhost:8080/"
    },
    "id": "MKoIjzjM-GsM",
    "outputId": "e8acf928-e788-4134-97ed-374078cd6562"
   },
   "outputs": [
    {
     "data": {
      "text/plain": [
       "array([[11,  2, 10],\n",
       "       [10,  2,  5],\n",
       "       [ 3,  3,  1],\n",
       "       [ 2,  9,  9],\n",
       "       [ 5,  7, 11]])"
      ]
     },
     "execution_count": 73,
     "metadata": {
      "tags": []
     },
     "output_type": "execute_result"
    }
   ],
   "source": [
    "x # Math, Physique, SVT"
   ]
  },
  {
   "cell_type": "markdown",
   "metadata": {
    "id": "-nqcX9RM-QLi"
   },
   "source": [
    "Quelle est la moyenne en Math et Physique de la classe si on considère uniquement les  3 élèves dont les notes apparaissent en premier ?"
   ]
  },
  {
   "cell_type": "code",
   "execution_count": null,
   "metadata": {
    "colab": {
     "base_uri": "https://localhost:8080/"
    },
    "id": "64n3tmk1_jfF",
    "outputId": "6471def1-c0cb-43d9-ff5a-b43c688d7517"
   },
   "outputs": [
    {
     "data": {
      "text/plain": [
       "array([8.        , 2.33333333])"
      ]
     },
     "execution_count": 74,
     "metadata": {
      "tags": []
     },
     "output_type": "execute_result"
    }
   ],
   "source": [
    "np.mean(x[0:3, 0:2 ], axis=0)"
   ]
  },
  {
   "cell_type": "code",
   "execution_count": null,
   "metadata": {
    "colab": {
     "base_uri": "https://localhost:8080/"
    },
    "id": "ZwlY6mRo-OzO",
    "outputId": "4eb81d52-decb-472d-e91e-5db412031d37"
   },
   "outputs": [
    {
     "data": {
      "text/plain": [
       "array([[11,  2, 10],\n",
       "       [10,  2,  5],\n",
       "       [ 3,  3,  1],\n",
       "       [ 2,  9,  9],\n",
       "       [ 5,  7, 11]])"
      ]
     },
     "execution_count": 75,
     "metadata": {
      "tags": []
     },
     "output_type": "execute_result"
    }
   ],
   "source": [
    "x # Math, Physique, SVT"
   ]
  },
  {
   "cell_type": "markdown",
   "metadata": {
    "id": "VRP_6pAj-mL7"
   },
   "source": [
    "Combien d'élèves ont au moins 2 notes supérieurs à la médiane des  moyennes (élèves) de la classe ?"
   ]
  },
  {
   "cell_type": "code",
   "execution_count": null,
   "metadata": {
    "colab": {
     "base_uri": "https://localhost:8080/"
    },
    "id": "gkNL1n_GBlRd",
    "outputId": "2a96e536-8135-4d8c-a2e5-4fb79ad902e4"
   },
   "outputs": [
    {
     "data": {
      "text/plain": [
       "array([7.66666667, 5.66666667, 2.33333333, 6.66666667, 7.66666667])"
      ]
     },
     "execution_count": 77,
     "metadata": {
      "tags": []
     },
     "output_type": "execute_result"
    }
   ],
   "source": [
    "y = np.mean(x, axis=1)\n",
    "y"
   ]
  },
  {
   "cell_type": "code",
   "execution_count": null,
   "metadata": {
    "colab": {
     "base_uri": "https://localhost:8080/"
    },
    "id": "tmtJctZJ-j4K",
    "outputId": "b1551346-ec3c-45c9-8df2-cc93e3cd4a24"
   },
   "outputs": [
    {
     "data": {
      "text/plain": [
       "6.666666666666667"
      ]
     },
     "execution_count": 78,
     "metadata": {
      "tags": []
     },
     "output_type": "execute_result"
    }
   ],
   "source": [
    "mediane = np.median(y)\n",
    "mediane"
   ]
  },
  {
   "cell_type": "code",
   "execution_count": null,
   "metadata": {
    "colab": {
     "base_uri": "https://localhost:8080/"
    },
    "id": "NSoDk5djC3J-",
    "outputId": "028ba677-e62f-4c15-c017-4cfe1fa97375"
   },
   "outputs": [
    {
     "data": {
      "text/plain": [
       "array([[ True, False,  True],\n",
       "       [ True, False, False],\n",
       "       [False, False, False],\n",
       "       [False,  True,  True],\n",
       "       [False,  True,  True]])"
      ]
     },
     "execution_count": 80,
     "metadata": {
      "tags": []
     },
     "output_type": "execute_result"
    }
   ],
   "source": [
    "x > mediane"
   ]
  },
  {
   "cell_type": "code",
   "execution_count": null,
   "metadata": {
    "colab": {
     "base_uri": "https://localhost:8080/"
    },
    "id": "w7VMgbCr-kFY",
    "outputId": "0c5a7863-584e-4057-b023-3abffc55b699"
   },
   "outputs": [
    {
     "data": {
      "text/plain": [
       "array([2, 1, 0, 2, 2])"
      ]
     },
     "execution_count": 82,
     "metadata": {
      "tags": []
     },
     "output_type": "execute_result"
    }
   ],
   "source": [
    "n = np.sum(x > mediane, axis = 1)\n",
    "n"
   ]
  },
  {
   "cell_type": "code",
   "execution_count": null,
   "metadata": {
    "colab": {
     "base_uri": "https://localhost:8080/"
    },
    "id": "Ok53Y4ULCdYT",
    "outputId": "e7f1f2da-5b8f-436c-9a47-f5a02735c6dd"
   },
   "outputs": [
    {
     "data": {
      "text/plain": [
       "3"
      ]
     },
     "execution_count": 83,
     "metadata": {
      "tags": []
     },
     "output_type": "execute_result"
    }
   ],
   "source": [
    "np.sum(n >= 2)"
   ]
  },
  {
   "cell_type": "markdown",
   "metadata": {
    "id": "DTHjflgyEKbL"
   },
   "source": [
    "* Creer un tableau aléatoire de shape (3, 5)\n",
    "* Modifier le shape à (5, 3)\n",
    "* Est-ce que c'est possible de modifier le shape à (4, 5)\n",
    "Creer un tableau qui contient les valeurs de 1 à 9 avec np.arange et donner lui un shape de (3, 3)\n",
    "* Faites la somme des 2 tableaux\n",
    "* Choisi un sous tableau aléatoire et extrait le\n"
   ]
  }
 ],
 "metadata": {
  "colab": {
   "collapsed_sections": [
    "jHnNEfzTZQQd",
    "1jocM6VVZQQd",
    "oOTfgCv0ZQQe",
    "xeWqnye8ZQQe",
    "aIRn0XoSZQQf",
    "Xc_avV_HZQQf",
    "6IPwr1n3ZQQg",
    "vj9wz2TyZQQg"
   ],
   "name": "02_Introduction_au_calcul_numerique_avec_Python.ipynb",
   "provenance": [],
   "toc_visible": true
  },
  "kernelspec": {
   "display_name": "Python 3",
   "language": "python",
   "name": "python3"
  },
  "language_info": {
   "codemirror_mode": {
    "name": "ipython",
    "version": 3
   },
   "file_extension": ".py",
   "mimetype": "text/x-python",
   "name": "python",
   "nbconvert_exporter": "python",
   "pygments_lexer": "ipython3",
   "version": "3.7.6"
  },
  "toc": {
   "base_numbering": 1,
   "nav_menu": {},
   "number_sections": true,
   "sideBar": true,
   "skip_h1_title": false,
   "title_cell": "Table of Contents",
   "title_sidebar": "Contents",
   "toc_cell": false,
   "toc_position": {},
   "toc_section_display": true,
   "toc_window_display": true
  },
  "varInspector": {
   "cols": {
    "lenName": 16,
    "lenType": 16,
    "lenVar": 40
   },
   "kernels_config": {
    "python": {
     "delete_cmd_postfix": "",
     "delete_cmd_prefix": "del ",
     "library": "var_list.py",
     "varRefreshCmd": "print(var_dic_list())"
    },
    "r": {
     "delete_cmd_postfix": ") ",
     "delete_cmd_prefix": "rm(",
     "library": "var_list.r",
     "varRefreshCmd": "cat(var_dic_list()) "
    }
   },
   "types_to_exclude": [
    "module",
    "function",
    "builtin_function_or_method",
    "instance",
    "_Feature"
   ],
   "window_display": false
  }
 },
 "nbformat": 4,
 "nbformat_minor": 1
}
