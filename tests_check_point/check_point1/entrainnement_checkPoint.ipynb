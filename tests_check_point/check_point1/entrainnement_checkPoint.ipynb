{
 "cells": [
  {
   "cell_type": "code",
   "execution_count": 1,
   "metadata": {},
   "outputs": [
    {
     "name": "stdout",
     "output_type": "stream",
     "text": [
      "C'est chargé, ta matrice numpy est disponible sous le nom de variable : temperatures_array\n"
     ]
    }
   ],
   "source": [
    "# Exécute le code ci-dessous sans rien modifier\n",
    "import numpy as np\n",
    "import pandas as pd\n",
    "temperatures_df = pd.read_csv(\n",
    "    \"https://raw.githubusercontent.com/murpi/wilddata/master/temp2019.csv\", skiprows=3)\n",
    "temperatures_df['jour'] = temperatures_df['DATE'].apply(lambda x: x[8:10])\n",
    "temperatures_df['mois'] = temperatures_df['DATE'].apply(lambda x: x[5:7])\n",
    "temperatures_array = temperatures_df.pivot_table(\n",
    "    values='MAX_TEMPERATURE_C', index='jour', columns='mois').to_numpy()\n",
    "print(\"C'est chargé, ta matrice numpy est disponible sous le nom de variable : temperatures_array\")"
   ]
  },
  {
   "cell_type": "markdown",
   "metadata": {},
   "source": [
    "#### Affiche un array NumPy à partir de l'array \"temperatures_array\",\n",
    "#### avec le nombre de jours par mois où la température a été strictement inférieure à 10 degrés."
   ]
  },
  {
   "cell_type": "code",
   "execution_count": 9,
   "metadata": {},
   "outputs": [
    {
     "name": "stdout",
     "output_type": "stream",
     "text": [
      "(31, 12)\n",
      "(31,)\n",
      "[3, 3, 3, 3, 2, 1, 0, 0, 1, 1, 1, 1, 1, 1, 2, 2, 2, 1, 1, 2, 1, 1, 1, 1, 0, 0, 1, 1, 2, 2, 1]\n",
      "31\n"
     ]
    }
   ],
   "source": [
    "print(temperatures_array.shape)\n",
    "\n",
    "filtre_tps = temperatures_array<10\n",
    "nombre_jours = np.sum(filtre_tps, axis=1)\n",
    "print(nombre_jours.shape)\n",
    "print(nombre_jours.tolist())\n",
    "print(nombre_jours.size)"
   ]
  },
  {
   "cell_type": "markdown",
   "metadata": {},
   "source": [
    "### Au total sur l'année, combien y a-t-il eu de jours où la température était supérieure à 20 degrés ?"
   ]
  },
  {
   "cell_type": "code",
   "execution_count": 14,
   "metadata": {},
   "outputs": [
    {
     "name": "stdout",
     "output_type": "stream",
     "text": [
      "248\n"
     ]
    }
   ],
   "source": [
    "filtre_tps = temperatures_array < 20\n",
    "nombre_jours=len(temperatures_array[filtre_tps])\n",
    "#  autre solution:\n",
    "# nombre_jours = np.count_nonzero(filtre_tps)\n",
    "# nombre_jours = np.sum(filtre_tps, axis=1)\n",
    "\n",
    "print(nombre_jours)\n"
   ]
  },
  {
   "cell_type": "markdown",
   "metadata": {},
   "source": [
    "###  Quelle a été la température moyenne du mois de mars ?"
   ]
  },
  {
   "cell_type": "code",
   "execution_count": 18,
   "metadata": {},
   "outputs": [
    {
     "name": "stdout",
     "output_type": "stream",
     "text": [
      "13.064516129032258\n"
     ]
    }
   ],
   "source": [
    "temperature_moyenne_mars = temperatures_array[:,2].mean()\n",
    "print(temperature_moyenne_mars)"
   ]
  },
  {
   "cell_type": "markdown",
   "metadata": {},
   "source": [
    "####  Quelle a été la température minimale du mois de juin ?"
   ]
  },
  {
   "cell_type": "code",
   "execution_count": 25,
   "metadata": {},
   "outputs": [
    {
     "name": "stdout",
     "output_type": "stream",
     "text": [
      "15.0\n"
     ]
    }
   ],
   "source": [
    "temperature_mini_juin =np.nanmin(temperatures_array[:, 5])\n",
    "print(temperature_mini_juin)"
   ]
  },
  {
   "cell_type": "code",
   "execution_count": null,
   "metadata": {},
   "outputs": [],
   "source": []
  }
 ],
 "metadata": {
  "kernelspec": {
   "display_name": "base",
   "language": "python",
   "name": "python3"
  },
  "language_info": {
   "codemirror_mode": {
    "name": "ipython",
    "version": 3
   },
   "file_extension": ".py",
   "mimetype": "text/x-python",
   "name": "python",
   "nbconvert_exporter": "python",
   "pygments_lexer": "ipython3",
   "version": "3.12.0"
  }
 },
 "nbformat": 4,
 "nbformat_minor": 2
}
