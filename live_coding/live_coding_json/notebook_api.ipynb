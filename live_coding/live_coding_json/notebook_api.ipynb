{
 "cells": [
  {
   "cell_type": "code",
   "execution_count": 1,
   "metadata": {},
   "outputs": [],
   "source": [
    "import pandas as pd\n",
    "import requests\n",
    "import json\n"
   ]
  },
  {
   "cell_type": "code",
   "execution_count": 3,
   "metadata": {},
   "outputs": [
    {
     "data": {
      "text/plain": [
       "'{\\n  \"localidsation\": [\\n    \"thailande\",\\n    \"thailande\",\\n    \"canada\",\\n    \"canada\",\\n    \"thailande\",\\n    \"canada\",\\n    \"thailande\",\\n    \"france\",\\n    \"thailande\",\\n    \"canada\",\\n    \"thailande\",\\n    \"canada\",\\n    \"thailande\",\\n    \"canada\",\\n    \"canada\",\\n    \"france\",\\n    \"thailande\",\\n    \"canada\",\\n    \"thailande\",\\n    \"france\",\\n    \"canada\",\\n    \"thailande\",\\n    \"canada\",\\n    \"france\",\\n    \"thailande\",\\n    \"france\",\\n    \"france\",\\n    \"thailande\",\\n    \"thailande\",\\n    \"france\",\\n    \"france\",\\n    \"france\",\\n    \"france\",\\n    \"thailande\",\\n    \"france\",\\n    \"thailande\",\\n    \"thailande\",\\n    \"thailande\",\\n    \"france\",\\n    \"canada\",\\n    \"canada\",\\n    \"france\",\\n    \"canada\",\\n    \"thailande\",\\n    \"canada\",\\n    \"canada\",\\n    \"canada\",\\n    \"thailande\",\\n    \"france\",\\n    \"france\",\\n    \"france\",\\n    \"canada\",\\n    \"france\",\\n    \"canada\",\\n    \"canada\",\\n    \"canada\",\\n    \"thailande\",\\n    \"france\",\\n    \"thailande\",\\n    \"canada\",\\n    \"thailande\",\\n    \"thailande\",\\n    \"canada\",\\n    \"france\",\\n    \"canada\",\\n    \"canada\",\\n    \"canada\",\\n    \"canada\",\\n    \"france\",\\n    \"thailande\",\\n    \"france\",\\n    \"canada\",\\n    \"france\",\\n    \"thailande\",\\n    \"france\",\\n    \"france\",\\n    \"thailande\",\\n    \"canada\",\\n    \"thailande\",\\n    \"thailande\",\\n    \"canada\",\\n    \"thailande\",\\n    \"canada\",\\n    \"france\",\\n    \"thailande\",\\n    \"france\",\\n    \"france\",\\n    \"thailande\",\\n    \"france\",\\n    \"france\",\\n    \"france\",\\n    \"canada\",\\n    \"thailande\",\\n    \"thailande\",\\n    \"france\",\\n    \"france\",\\n    \"thailande\",\\n    \"france\",\\n    \"france\",\\n    \"thailande\",\\n    \"canada\",\\n    \"thailande\",\\n    \"canada\",\\n    \"canada\",\\n    \"thailande\",\\n    \"canada\",\\n    \"france\",\\n    \"thailande\",\\n    \"canada\",\\n    \"canada\",\\n    \"canada\",\\n    \"thailande\",\\n    \"thailande\",\\n    \"france\",\\n    \"canada\",\\n    \"thailande\",\\n    \"thailande\",\\n    \"canada\",\\n    \"canada\",\\n    \"france\",\\n    \"thailande\",\\n    \"thailande\",\\n    \"thailande\",\\n    \"france\",\\n    \"thailande\",\\n    \"france\",\\n    \"france\",\\n    \"france\",\\n    \"canada\",\\n    \"france\",\\n    \"thailande\",\\n    \"thailande\",\\n    \"canada\",\\n    \"canada\",\\n    \"france\",\\n    \"france\",\\n    \"thailande\",\\n    \"canada\",\\n    \"france\",\\n    \"thailande\",\\n    \"france\",\\n    \"thailande\",\\n    \"canada\",\\n    \"thailande\",\\n    \"france\",\\n    \"thailande\",\\n    \"france\",\\n    \"thailande\",\\n    \"france\",\\n    \"france\",\\n    \"france\",\\n    \"thailande\",\\n    \"thailande\",\\n    \"thailande\",\\n    \"france\",\\n    \"thailande\",\\n    \"france\",\\n    \"canada\",\\n    \"france\",\\n    \"canada\",\\n    \"thailande\",\\n    \"thailande\",\\n    \"france\",\\n    \"canada\",\\n    \"thailande\",\\n    \"france\",\\n    \"france\",\\n    \"canada\",\\n    \"thailande\",\\n    \"canada\",\\n    \"thailande\",\\n    \"canada\",\\n    \"canada\",\\n    \"thailande\",\\n    \"thailande\",\\n    \"thailande\",\\n    \"france\",\\n    \"france\",\\n    \"france\",\\n    \"thailande\",\\n    \"canada\",\\n    \"canada\",\\n    \"canada\",\\n    \"canada\",\\n    \"thailande\",\\n    \"canada\",\\n    \"thailande\",\\n    \"thailande\",\\n    \"canada\",\\n    \"canada\",\\n    \"canada\",\\n    \"canada\",\\n    \"france\",\\n    \"france\",\\n    \"canada\",\\n    \"canada\",\\n    \"thailande\",\\n    \"france\",\\n    \"france\",\\n    \"thailande\",\\n    \"canada\",\\n    \"canada\",\\n    \"france\",\\n    \"france\",\\n    \"thailande\",\\n    \"france\",\\n    \"thailande\",\\n    \"thailande\",\\n    \"canada\",\\n    \"canada\",\\n    \"canada\",\\n    \"thailande\",\\n    \"canada\",\\n    \"canada\",\\n    \"france\",\\n    \"thailande\",\\n    \"canada\",\\n    \"france\",\\n    \"canada\",\\n    \"thailande\",\\n    \"thailande\",\\n    \"canada\",\\n    \"canada\",\\n    \"canada\",\\n    \"france\",\\n    \"thailande\",\\n    \"france\",\\n    \"canada\",\\n    \"canada\",\\n    \"thailande\",\\n    \"france\",\\n    \"canada\",\\n    \"canada\",\\n    \"thailande\",\\n    \"france\",\\n    \"france\",\\n    \"canada\",\\n    \"canada\",\\n    \"france\",\\n    \"canada\",\\n    \"canada\",\\n    \"canada\",\\n    \"canada\",\\n    \"canada\",\\n    \"canada\",\\n    \"canada\",\\n    \"canada\",\\n    \"thailande\",\\n    \"canada\",\\n    \"canada\",\\n    \"france\",\\n    \"thailande\",\\n    \"thailande\",\\n    \"france\",\\n    \"thailande\",\\n    \"thailande\",\\n    \"canada\",\\n    \"france\",\\n    \"canada\",\\n    \"france\",\\n    \"france\",\\n    \"thailande\",\\n    \"canada\",\\n    \"canada\",\\n    \"thailande\",\\n    \"france\",\\n    \"thailande\",\\n    \"thailande\",\\n    \"thailande\",\\n    \"france\",\\n    \"thailande\",\\n    \"thailande\",\\n    \"france\",\\n    \"thailande\",\\n    \"france\",\\n    \"thailande\",\\n    \"thailande\",\\n    \"france\",\\n    \"canada\",\\n    \"thailande\",\\n    \"france\",\\n    \"france\",\\n    \"france\",\\n    \"france\",\\n    \"thailande\",\\n    \"thailande\",\\n    \"france\",\\n    \"france\",\\n    \"thailande\",\\n    \"france\",\\n    \"canada\",\\n    \"thailande\",\\n    \"france\",\\n    \"thailande\",\\n    \"canada\",\\n    \"france\",\\n    \"thailande\",\\n    \"thailande\",\\n    \"thailande\"\\n  ],\\n  \"prenoms\": [\\n    \"Fabrice\",\\n    \"Yvan\",\\n    \"Michel\",\\n    \"Paul\",\\n    \"Imad\",\\n    \"Imad\",\\n    \"Paul\",\\n    \"Yvan\",\\n    \"Paul\",\\n    \"Yvan\",\\n    \"Eric\",\\n    \"Yvan\",\\n    \"Franck\",\\n    \"Michel\",\\n    \"Paul\",\\n    \"Eric\",\\n    \"Imad\",\\n    \"Caroline\",\\n    \"Fabrice\",\\n    \"Franck\",\\n    \"Imad\",\\n    \"Franck\",\\n    \"Caroline\",\\n    \"Imad\",\\n    \"Eric\",\\n    \"Paul\",\\n    \"Paul\",\\n    \"Fabrice\",\\n    \"Imad\",\\n    \"Franck\",\\n    \"Fabrice\",\\n    \"Yvan\",\\n    \"Franck\",\\n    \"Paul\",\\n    \"Eric\",\\n    \"Eric\",\\n    \"Franck\",\\n    \"Yvan\",\\n    \"Franck\",\\n    \"Imad\",\\n    \"Yvan\",\\n    \"Michel\",\\n    \"Imad\",\\n    \"Franck\",\\n    \"Paul\",\\n    \"Franck\",\\n    \"Caroline\",\\n    \"Eric\",\\n    \"Fabrice\",\\n    \"Eric\",\\n    \"Eric\",\\n    \"Franck\",\\n    \"Paul\",\\n    \"Yvan\",\\n    \"Imad\",\\n    \"Eric\",\\n    \"Yvan\",\\n    \"Paul\",\\n    \"Fabrice\",\\n    \"Paul\",\\n    \"Eric\",\\n    \"Caroline\",\\n    \"Fabrice\",\\n    \"Yvan\",\\n    \"Paul\",\\n    \"Caroline\",\\n    \"Caroline\",\\n    \"Imad\",\\n    \"Yvan\",\\n    \"Michel\",\\n    \"Paul\",\\n    \"Caroline\",\\n    \"Michel\",\\n    \"Caroline\",\\n    \"Imad\",\\n    \"Imad\",\\n    \"Eric\",\\n    \"Michel\",\\n    \"Paul\",\\n    \"Caroline\",\\n    \"Yvan\",\\n    \"Franck\",\\n    \"Paul\",\\n    \"Caroline\",\\n    \"Michel\",\\n    \"Michel\",\\n    \"Franck\",\\n    \"Eric\",\\n    \"Paul\",\\n    \"Fabrice\",\\n    \"Imad\",\\n    \"Michel\",\\n    \"Fabrice\",\\n    \"Franck\",\\n    \"Yvan\",\\n    \"Yvan\",\\n    \"Imad\",\\n    \"Caroline\",\\n    \"Franck\",\\n    \"Eric\",\\n    \"Fabrice\",\\n    \"Imad\",\\n    \"Fabrice\",\\n    \"Franck\",\\n    \"Yvan\",\\n    \"Yvan\",\\n    \"Caroline\",\\n    \"Yvan\",\\n    \"Michel\",\\n    \"Caroline\",\\n    \"Fabrice\",\\n    \"Yvan\",\\n    \"Fabrice\",\\n    \"Michel\",\\n    \"Eric\",\\n    \"Imad\",\\n    \"Paul\",\\n    \"Yvan\",\\n    \"Fabrice\",\\n    \"Fabrice\",\\n    \"Imad\",\\n    \"Eric\",\\n    \"Yvan\",\\n    \"Caroline\",\\n    \"Paul\",\\n    \"Fabrice\",\\n    \"Caroline\",\\n    \"Caroline\",\\n    \"Yvan\",\\n    \"Fabrice\",\\n    \"Franck\",\\n    \"Fabrice\",\\n    \"Imad\",\\n    \"Eric\",\\n    \"Paul\",\\n    \"Caroline\",\\n    \"Fabrice\",\\n    \"Yvan\",\\n    \"Fabrice\",\\n    \"Michel\",\\n    \"Fabrice\",\\n    \"Fabrice\",\\n    \"Caroline\",\\n    \"Fabrice\",\\n    \"Michel\",\\n    \"Imad\",\\n    \"Imad\",\\n    \"Imad\",\\n    \"Caroline\",\\n    \"Yvan\",\\n    \"Fabrice\",\\n    \"Eric\",\\n    \"Franck\",\\n    \"Fabrice\",\\n    \"Franck\",\\n    \"Michel\",\\n    \"Michel\",\\n    \"Eric\",\\n    \"Franck\",\\n    \"Paul\",\\n    \"Imad\",\\n    \"Imad\",\\n    \"Caroline\",\\n    \"Michel\",\\n    \"Michel\",\\n    \"Imad\",\\n    \"Franck\",\\n    \"Caroline\",\\n    \"Michel\",\\n    \"Imad\",\\n    \"Eric\",\\n    \"Yvan\",\\n    \"Paul\",\\n    \"Franck\",\\n    \"Caroline\",\\n    \"Yvan\",\\n    \"Caroline\",\\n    \"Franck\",\\n    \"Michel\",\\n    \"Michel\",\\n    \"Eric\",\\n    \"Imad\",\\n    \"Yvan\",\\n    \"Caroline\",\\n    \"Fabrice\",\\n    \"Eric\",\\n    \"Caroline\",\\n    \"Michel\",\\n    \"Fabrice\",\\n    \"Imad\",\\n    \"Fabrice\",\\n    \"Caroline\",\\n    \"Yvan\",\\n    \"Michel\",\\n    \"Yvan\",\\n    \"Fabrice\",\\n    \"Fabrice\",\\n    \"Fabrice\",\\n    \"Michel\",\\n    \"Michel\",\\n    \"Eric\",\\n    \"Michel\",\\n    \"Imad\",\\n    \"Michel\",\\n    \"Eric\",\\n    \"Michel\",\\n    \"Michel\",\\n    \"Franck\",\\n    \"Franck\",\\n    \"Caroline\",\\n    \"Michel\",\\n    \"Imad\",\\n    \"Franck\",\\n    \"Fabrice\",\\n    \"Eric\",\\n    \"Imad\",\\n    \"Fabrice\",\\n    \"Franck\",\\n    \"Fabrice\",\\n    \"Fabrice\",\\n    \"Paul\",\\n    \"Paul\",\\n    \"Fabrice\",\\n    \"Imad\",\\n    \"Franck\",\\n    \"Paul\",\\n    \"Paul\",\\n    \"Franck\",\\n    \"Yvan\",\\n    \"Fabrice\",\\n    \"Paul\",\\n    \"Fabrice\",\\n    \"Fabrice\",\\n    \"Caroline\",\\n    \"Imad\",\\n    \"Michel\",\\n    \"Michel\",\\n    \"Caroline\",\\n    \"Caroline\",\\n    \"Fabrice\",\\n    \"Eric\",\\n    \"Caroline\",\\n    \"Michel\",\\n    \"Eric\",\\n    \"Yvan\",\\n    \"Paul\",\\n    \"Caroline\",\\n    \"Yvan\",\\n    \"Eric\",\\n    \"Michel\",\\n    \"Michel\",\\n    \"Michel\",\\n    \"Caroline\",\\n    \"Fabrice\",\\n    \"Michel\",\\n    \"Yvan\",\\n    \"Michel\",\\n    \"Imad\",\\n    \"Fabrice\",\\n    \"Eric\",\\n    \"Paul\",\\n    \"Franck\",\\n    \"Michel\",\\n    \"Fabrice\",\\n    \"Yvan\",\\n    \"Yvan\",\\n    \"Yvan\",\\n    \"Paul\",\\n    \"Eric\",\\n    \"Caroline\",\\n    \"Caroline\",\\n    \"Fabrice\",\\n    \"Paul\",\\n    \"Imad\",\\n    \"Yvan\",\\n    \"Fabrice\",\\n    \"Caroline\",\\n    \"Eric\",\\n    \"Michel\",\\n    \"Fabrice\",\\n    \"Eric\",\\n    \"Imad\",\\n    \"Paul\",\\n    \"Caroline\",\\n    \"Fabrice\",\\n    \"Caroline\",\\n    \"Caroline\",\\n    \"Franck\",\\n    \"Imad\",\\n    \"Yvan\",\\n    \"Fabrice\",\\n    \"Michel\",\\n    \"Michel\",\\n    \"Paul\",\\n    \"Michel\",\\n    \"Imad\",\\n    \"Fabrice\",\\n    \"Eric\",\\n    \"Caroline\"\\n  ],\\n  \"salaire\": [\\n    4500,\\n    2000,\\n    6000,\\n    4000,\\n    4000,\\n    5000,\\n    4500,\\n    5000,\\n    4500,\\n    2000,\\n    2000,\\n    3500,\\n    6000,\\n    5000,\\n    5500,\\n    5000,\\n    4500,\\n    4500,\\n    2000,\\n    6000,\\n    6000,\\n    3000,\\n    5000,\\n    4500,\\n    2000,\\n    2000,\\n    5500,\\n    3500,\\n    5500,\\n    3500,\\n    6000,\\n    5000,\\n    3000,\\n    4000,\\n    2000,\\n    4500,\\n    2000,\\n    5500,\\n    4000,\\n    4500,\\n    3000,\\n    5000,\\n    3500,\\n    6000,\\n    2000,\\n    5000,\\n    5500,\\n    3500,\\n    4000,\\n    6000,\\n    4500,\\n    5000,\\n    4500,\\n    4500,\\n    4500,\\n    6000,\\n    5000,\\n    2000,\\n    5500,\\n    3000,\\n    4000,\\n    4500,\\n    5500,\\n    5000,\\n    6000,\\n    3500,\\n    5500,\\n    6000,\\n    2000,\\n    3500,\\n    5500,\\n    3500,\\n    2000,\\n    5000,\\n    3500,\\n    2000,\\n    2000,\\n    5000,\\n    5000,\\n    2000,\\n    3000,\\n    6000,\\n    5500,\\n    3500,\\n    2000,\\n    5000,\\n    4000,\\n    5500,\\n    5500,\\n    2000,\\n    5000,\\n    6000,\\n    3000,\\n    3000,\\n    3500,\\n    3000,\\n    3500,\\n    2000,\\n    5000,\\n    4500,\\n    6000,\\n    4500,\\n    6000,\\n    6000,\\n    2000,\\n    5000,\\n    5000,\\n    6000,\\n    4500,\\n    5500,\\n    2000,\\n    5500,\\n    3500,\\n    3000,\\n    4500,\\n    2000,\\n    3500,\\n    6000,\\n    4000,\\n    4500,\\n    5000,\\n    3500,\\n    2000,\\n    5500,\\n    3000,\\n    2000,\\n    5500,\\n    2000,\\n    3000,\\n    5000,\\n    2000,\\n    4000,\\n    5500,\\n    3000,\\n    3500,\\n    4500,\\n    2000,\\n    3000,\\n    3000,\\n    4000,\\n    2000,\\n    6000,\\n    4500,\\n    6000,\\n    6000,\\n    5000,\\n    6000,\\n    2000,\\n    2000,\\n    5000,\\n    5000,\\n    3500,\\n    4000,\\n    6000,\\n    3500,\\n    2000,\\n    4000,\\n    4000,\\n    2000,\\n    3500,\\n    4000,\\n    4000,\\n    3500,\\n    4500,\\n    5000,\\n    5500,\\n    3000,\\n    6000,\\n    5000,\\n    3500,\\n    4000,\\n    5000,\\n    6000,\\n    5500,\\n    6000,\\n    3000,\\n    4000,\\n    3000,\\n    2000,\\n    3000,\\n    3000,\\n    5000,\\n    4500,\\n    4500,\\n    3500,\\n    5000,\\n    2000,\\n    3500,\\n    4500,\\n    4500,\\n    3500,\\n    4000,\\n    4500,\\n    4000,\\n    4000,\\n    4000,\\n    3000,\\n    6000,\\n    5000,\\n    4500,\\n    5000,\\n    3500,\\n    6000,\\n    4000,\\n    5000,\\n    5000,\\n    4500,\\n    5000,\\n    4000,\\n    3000,\\n    3000,\\n    4500,\\n    2000,\\n    6000,\\n    5500,\\n    4000,\\n    2000,\\n    4500,\\n    4000,\\n    5000,\\n    4500,\\n    6000,\\n    4500,\\n    6000,\\n    4000,\\n    5500,\\n    5000,\\n    6000,\\n    5500,\\n    5000,\\n    3500,\\n    5000,\\n    3500,\\n    6000,\\n    3500,\\n    6000,\\n    5000,\\n    4000,\\n    4000,\\n    5000,\\n    5500,\\n    3000,\\n    6000,\\n    4500,\\n    5500,\\n    2000,\\n    6000,\\n    5500,\\n    3000,\\n    5500,\\n    3000,\\n    6000,\\n    6000,\\n    3500,\\n    4500,\\n    5500,\\n    5000,\\n    5000,\\n    5500,\\n    3500,\\n    4000,\\n    5500,\\n    5500,\\n    4500,\\n    5000,\\n    5000,\\n    5000,\\n    3000,\\n    5000,\\n    4000,\\n    3000,\\n    4500,\\n    2000,\\n    4500,\\n    4500,\\n    5000,\\n    2000,\\n    5500,\\n    5500,\\n    5500,\\n    5000,\\n    4500,\\n    3000,\\n    5500,\\n    4500,\\n    4500,\\n    5000,\\n    6000,\\n    3500,\\n    3500,\\n    4000,\\n    3000,\\n    2000,\\n    3500,\\n    4000,\\n    2000,\\n    6000,\\n    2000,\\n    2000\\n  ],\\n  \"typeDePoste\": [\\n    \"freelance\",\\n    \"Portage\",\\n    \"CDD\",\\n    \"Portage\",\\n    \"CDI\",\\n    \"freelance\",\\n    \"Portage\",\\n    \"Portage\",\\n    \"freelance\",\\n    \"freelance\",\\n    \"CDI\",\\n    \"Portage\",\\n    \"CDI\",\\n    \"freelance\",\\n    \"Portage\",\\n    \"Portage\",\\n    \"CDD\",\\n    \"CDD\",\\n    \"CDI\",\\n    \"CDD\",\\n    \"CDD\",\\n    \"Portage\",\\n    \"CDI\",\\n    \"Portage\",\\n    \"freelance\",\\n    \"CDI\",\\n    \"freelance\",\\n    \"Portage\",\\n    \"CDD\",\\n    \"CDD\",\\n    \"Portage\",\\n    \"freelance\",\\n    \"CDI\",\\n    \"CDI\",\\n    \"Portage\",\\n    \"freelance\",\\n    \"CDD\",\\n    \"CDI\",\\n    \"CDD\",\\n    \"CDD\",\\n    \"CDD\",\\n    \"freelance\",\\n    \"Portage\",\\n    \"CDI\",\\n    \"Portage\",\\n    \"CDD\",\\n    \"Portage\",\\n    \"Portage\",\\n    \"CDD\",\\n    \"CDI\",\\n    \"CDD\",\\n    \"CDD\",\\n    \"Portage\",\\n    \"CDD\",\\n    \"freelance\",\\n    \"Portage\",\\n    \"Portage\",\\n    \"freelance\",\\n    \"CDI\",\\n    \"CDD\",\\n    \"CDI\",\\n    \"CDI\",\\n    \"CDI\",\\n    \"CDD\",\\n    \"Portage\",\\n    \"Portage\",\\n    \"CDD\",\\n    \"CDD\",\\n    \"Portage\",\\n    \"freelance\",\\n    \"CDI\",\\n    \"Portage\",\\n    \"CDD\",\\n    \"freelance\",\\n    \"CDI\",\\n    \"freelance\",\\n    \"CDI\",\\n    \"freelance\",\\n    \"freelance\",\\n    \"Portage\",\\n    \"Portage\",\\n    \"CDI\",\\n    \"freelance\",\\n    \"freelance\",\\n    \"freelance\",\\n    \"Portage\",\\n    \"CDI\",\\n    \"CDI\",\\n    \"Portage\",\\n    \"CDD\",\\n    \"CDI\",\\n    \"CDI\",\\n    \"Portage\",\\n    \"Portage\",\\n    \"CDD\",\\n    \"CDI\",\\n    \"CDI\",\\n    \"CDD\",\\n    \"freelance\",\\n    \"freelance\",\\n    \"Portage\",\\n    \"CDI\",\\n    \"CDI\",\\n    \"freelance\",\\n    \"CDI\",\\n    \"freelance\",\\n    \"CDD\",\\n    \"CDI\",\\n    \"Portage\",\\n    \"CDD\",\\n    \"freelance\",\\n    \"CDD\",\\n    \"CDD\",\\n    \"freelance\",\\n    \"CDD\",\\n    \"Portage\",\\n    \"Portage\",\\n    \"freelance\",\\n    \"CDD\",\\n    \"CDI\",\\n    \"CDD\",\\n    \"Portage\",\\n    \"CDD\",\\n    \"freelance\",\\n    \"freelance\",\\n    \"CDI\",\\n    \"CDI\",\\n    \"freelance\",\\n    \"freelance\",\\n    \"CDI\",\\n    \"Portage\",\\n    \"CDD\",\\n    \"CDD\",\\n    \"CDI\",\\n    \"Portage\",\\n    \"CDI\",\\n    \"Portage\",\\n    \"CDI\",\\n    \"freelance\",\\n    \"Portage\",\\n    \"CDD\",\\n    \"freelance\",\\n    \"CDI\",\\n    \"CDD\",\\n    \"Portage\",\\n    \"Portage\",\\n    \"CDD\",\\n    \"freelance\",\\n    \"Portage\",\\n    \"Portage\",\\n    \"Portage\",\\n    \"freelance\",\\n    \"freelance\",\\n    \"freelance\",\\n    \"CDI\",\\n    \"CDD\",\\n    \"CDD\",\\n    \"CDD\",\\n    \"CDI\",\\n    \"Portage\",\\n    \"freelance\",\\n    \"CDI\",\\n    \"CDD\",\\n    \"CDI\",\\n    \"CDD\",\\n    \"CDD\",\\n    \"CDI\",\\n    \"CDI\",\\n    \"CDI\",\\n    \"CDD\",\\n    \"CDD\",\\n    \"CDI\",\\n    \"CDD\",\\n    \"CDI\",\\n    \"Portage\",\\n    \"freelance\",\\n    \"CDD\",\\n    \"Portage\",\\n    \"Portage\",\\n    \"Portage\",\\n    \"Portage\",\\n    \"freelance\",\\n    \"freelance\",\\n    \"freelance\",\\n    \"freelance\",\\n    \"Portage\",\\n    \"freelance\",\\n    \"CDD\",\\n    \"freelance\",\\n    \"Portage\",\\n    \"CDD\",\\n    \"freelance\",\\n    \"Portage\",\\n    \"CDI\",\\n    \"freelance\",\\n    \"freelance\",\\n    \"Portage\",\\n    \"CDI\",\\n    \"freelance\",\\n    \"CDI\",\\n    \"CDD\",\\n    \"freelance\",\\n    \"freelance\",\\n    \"freelance\",\\n    \"CDI\",\\n    \"CDD\",\\n    \"CDD\",\\n    \"freelance\",\\n    \"freelance\",\\n    \"Portage\",\\n    \"CDD\",\\n    \"CDI\",\\n    \"freelance\",\\n    \"Portage\",\\n    \"Portage\",\\n    \"CDI\",\\n    \"CDI\",\\n    \"Portage\",\\n    \"CDI\",\\n    \"CDI\",\\n    \"CDD\",\\n    \"Portage\",\\n    \"freelance\",\\n    \"CDI\",\\n    \"CDI\",\\n    \"Portage\",\\n    \"CDI\",\\n    \"CDI\",\\n    \"CDD\",\\n    \"freelance\",\\n    \"freelance\",\\n    \"CDD\",\\n    \"freelance\",\\n    \"CDD\",\\n    \"freelance\",\\n    \"CDI\",\\n    \"CDD\",\\n    \"CDI\",\\n    \"CDI\",\\n    \"freelance\",\\n    \"CDD\",\\n    \"freelance\",\\n    \"Portage\",\\n    \"CDD\",\\n    \"freelance\",\\n    \"CDD\",\\n    \"CDD\",\\n    \"CDD\",\\n    \"CDD\",\\n    \"freelance\",\\n    \"CDD\",\\n    \"CDI\",\\n    \"Portage\",\\n    \"CDI\",\\n    \"CDI\",\\n    \"CDI\",\\n    \"CDI\",\\n    \"Portage\",\\n    \"Portage\",\\n    \"CDI\",\\n    \"CDD\",\\n    \"CDI\",\\n    \"CDD\",\\n    \"CDI\",\\n    \"CDD\",\\n    \"CDD\",\\n    \"CDD\",\\n    \"CDD\",\\n    \"Portage\",\\n    \"Portage\",\\n    \"CDD\",\\n    \"CDI\",\\n    \"CDD\",\\n    \"CDD\",\\n    \"CDI\",\\n    \"CDD\",\\n    \"Portage\",\\n    \"CDI\",\\n    \"freelance\",\\n    \"freelance\",\\n    \"freelance\",\\n    \"freelance\",\\n    \"CDI\",\\n    \"CDI\",\\n    \"CDI\",\\n    \"CDD\",\\n    \"freelance\",\\n    \"freelance\",\\n    \"Portage\",\\n    \"CDD\",\\n    \"Portage\",\\n    \"CDD\",\\n    \"Portage\",\\n    \"Portage\",\\n    \"CDD\",\\n    \"freelance\",\\n    \"Portage\",\\n    \"freelance\",\\n    \"CDD\"\\n  ]\\n}\\n'"
      ]
     },
     "execution_count": 3,
     "metadata": {},
     "output_type": "execute_result"
    }
   ],
   "source": [
    "requests.get(\"http://127.0.0.1:5000/\").text\n"
   ]
  },
  {
   "cell_type": "code",
   "execution_count": 4,
   "metadata": {},
   "outputs": [],
   "source": [
    "data=json.loads(requests.get(\"http://127.0.0.1:5000/\").text)\n"
   ]
  },
  {
   "cell_type": "code",
   "execution_count": 5,
   "metadata": {},
   "outputs": [
    {
     "data": {
      "text/plain": [
       "localidsation  prenoms   salaire  typeDePoste\n",
       "thailande      Imad      4000     CDI            3\n",
       "               Franck    6000     CDI            3\n",
       "               Fabrice   4500     CDI            2\n",
       "france         Caroline  5500     CDI            2\n",
       "canada         Fabrice   6000     Portage        2\n",
       "                                                ..\n",
       "france         Caroline  4000     Portage        1\n",
       "                         4500     CDI            1\n",
       "                         5000     CDD            1\n",
       "                                  freelance      1\n",
       "thailande      Yvan      6000     CDI            1\n",
       "Name: count, Length: 256, dtype: int64"
      ]
     },
     "execution_count": 5,
     "metadata": {},
     "output_type": "execute_result"
    }
   ],
   "source": [
    "pd.DataFrame(data).value_counts()\n"
   ]
  },
  {
   "cell_type": "code",
   "execution_count": 6,
   "metadata": {},
   "outputs": [
    {
     "data": {
      "text/plain": [
       "prenoms\n",
       "Caroline    45\n",
       "Michel      45\n",
       "Paul        44\n",
       "Yvan        40\n",
       "Eric        34\n",
       "Imad        32\n",
       "Fabrice     31\n",
       "Franck      28\n",
       "Name: count, dtype: int64"
      ]
     },
     "execution_count": 6,
     "metadata": {},
     "output_type": "execute_result"
    }
   ],
   "source": [
    "pd.DataFrame(data).prenoms.value_counts()\n"
   ]
  },
  {
   "cell_type": "code",
   "execution_count": null,
   "metadata": {},
   "outputs": [],
   "source": []
  },
  {
   "cell_type": "code",
   "execution_count": null,
   "metadata": {},
   "outputs": [],
   "source": []
  },
  {
   "cell_type": "code",
   "execution_count": null,
   "metadata": {},
   "outputs": [],
   "source": []
  },
  {
   "cell_type": "code",
   "execution_count": null,
   "metadata": {},
   "outputs": [],
   "source": []
  },
  {
   "cell_type": "code",
   "execution_count": null,
   "metadata": {},
   "outputs": [],
   "source": []
  },
  {
   "cell_type": "markdown",
   "metadata": {},
   "source": []
  }
 ],
 "metadata": {
  "kernelspec": {
   "display_name": "Python 3",
   "language": "python",
   "name": "python3"
  },
  "language_info": {
   "codemirror_mode": {
    "name": "ipython",
    "version": 3
   },
   "file_extension": ".py",
   "mimetype": "text/x-python",
   "name": "python",
   "nbconvert_exporter": "python",
   "pygments_lexer": "ipython3",
   "version": "3.11.5"
  }
 },
 "nbformat": 4,
 "nbformat_minor": 2
}
