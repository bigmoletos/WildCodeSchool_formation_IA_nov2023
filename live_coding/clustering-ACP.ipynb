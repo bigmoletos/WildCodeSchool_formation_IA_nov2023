{
 "cells": [
  {
   "cell_type": "markdown",
   "metadata": {},
   "source": [
    "### CLUSTERING"
   ]
  },
  {
   "cell_type": "code",
   "execution_count": null,
   "metadata": {},
   "outputs": [],
   "source": [
    "import pandas as pd\n",
    "import numpy as np\n",
    "import random\n",
    "import seaborn as sns\n",
    "import matplotlib.pyplot as pltent.\n",
    "from sklearn import svm\n",
    "from sklearn import tree\n",
    "from sklearn.model_selection import train_test_split\n",
    "from sklearn.linear_model import LogisticRegression\n",
    "from sklearn.metrics import classification_report\n",
    "from sklearn.metrics import accuracy_score\n",
    "from sklearn.tree import DecisionTreeClassifier\n",
    "from sklearn.tree import DecisionTreeRegressor\n",
    "from sklearn.linear_model import SGDRegressor\n",
    "from sklearn.neighbors import KNeighborsRegressor\n",
    "from sklearn.neighbors import KNeighborsClassifier\n",
    "from sklearn.model_selection import GridSearchCV\n",
    "from sklearn.ensemble import RandomForestClassifier\n",
    "from sklearn.linear_model import LinearRegression\n",
    "from sklearn.metrics import accuracy_score, r2_score\n",
    "from sklearn.cluster import KMeans\n",
    "import plotly.express as px\n",
    "import plotly.graph_objects as go\n"
   ]
  },
  {
   "cell_type": "code",
   "execution_count": 25,
   "metadata": {},
   "outputs": [],
   "source": [
    "from sklearn.preprocessing import StandardScaler\n",
    "df = sns.load_dataset('iris')\n",
    "# Supprimer la colonne 'species'\n",
    "df_numeric = df.drop(columns='species')\n",
    "\n",
    "# Normaliser les données\n",
    "scaler = StandardScaler()\n",
    "df = scaler.fit_transform(df_numeric)\n"
   ]
  },
  {
   "cell_type": "markdown",
   "metadata": {},
   "source": [
    "ACP  diminution de dimensions"
   ]
  },
  {
   "cell_type": "markdown",
   "metadata": {},
   "source": []
  },
  {
   "cell_type": "code",
   "execution_count": 26,
   "metadata": {},
   "outputs": [],
   "source": [
    "from sklearn.decomposition import PCA\n",
    "from sklearn.svm import SVC\n",
    "\n",
    "# modele ACP\n",
    "acp=PCA()\n",
    "acp.fit(df)\n",
    "ratio=acp.explained_variance_ratio_*100\n",
    "# print(f\"\\nratio :\\n{ratio} \\n\")\n"
   ]
  },
  {
   "cell_type": "code",
   "execution_count": 31,
   "metadata": {},
   "outputs": [
    {
     "data": {
      "application/vnd.plotly.v1+json": {
       "config": {
        "plotlyServerURL": "https://plot.ly"
       },
       "data": [
        {
         "hovertemplate": "species=setosa<br>PC1=%{x}<br>PC2=%{y}<extra></extra>",
         "legendgroup": "setosa",
         "marker": {
          "color": "#636efa",
          "symbol": "circle"
         },
         "mode": "markers",
         "name": "setosa",
         "orientation": "v",
         "showlegend": true,
         "type": "scatter",
         "x": [
          -2.2647028088075953,
          -2.0809611519657705,
          -2.364229053890302,
          -2.299384217042709,
          -2.3898421663138447,
          -2.075630948176512,
          -2.4440288351341524,
          -2.2328471588720156,
          -2.3346404779076226,
          -2.1843281749339427,
          -2.1663101007013226,
          -2.3261308664426994,
          -2.2184508988224096,
          -2.6331006957652288,
          -2.19874060326669,
          -2.2622145316010207,
          -2.2075876958245915,
          -2.190349509192299,
          -1.8985719958028417,
          -2.3433690530749933,
          -1.914322996082568,
          -2.207012843194798,
          -2.7743447029273325,
          -1.8186695286958496,
          -2.2271633057066387,
          -1.9518463309003766,
          -2.0511513727294157,
          -2.1685771746542164,
          -2.139563451301332,
          -2.265261493154242,
          -2.1401221356479847,
          -1.8315947706760285,
          -2.6149479358589343,
          -2.4461773916965144,
          -2.109974875318653,
          -2.207808899078266,
          -2.0451462067542012,
          -2.5273319131704866,
          -2.4296325750845473,
          -2.169710711630664,
          -2.2864751433456703,
          -1.8581224563735723,
          -2.5536383956143567,
          -1.9644476837637408,
          -2.137059005811623,
          -2.06974429959183,
          -2.384733165778263,
          -2.3943763142196337,
          -2.2294465479426746,
          -2.2038334355191305
         ],
         "xaxis": "x",
         "y": [
          0.48002659652098795,
          -0.6741335566053531,
          -0.3419080238846762,
          -0.5973945076746753,
          0.6468353829020264,
          1.4891775233211655,
          0.047644197630014117,
          0.22314807268959128,
          -1.1153276754616654,
          -0.46901356140237566,
          1.0436906530538588,
          0.13307833523923138,
          -0.7286761653165703,
          -0.9615067291701623,
          1.8600571132939292,
          2.68628448511059,
          1.483609363155571,
          0.4888383164863271,
          1.405018794466548,
          1.1278493819084754,
          0.40885570775590546,
          0.9241214267468976,
          0.45834366775291496,
          0.08555852628736581,
          0.13725445536342715,
          -0.6256185877766764,
          0.24216355266166661,
          0.5271495253082666,
          0.3132178101399512,
          -0.3377319037604805,
          -0.5045406901415181,
          0.423695067603785,
          1.793575856104427,
          2.150727877392922,
          -0.46020184143703724,
          -0.20610739768843717,
          0.6615581114631073,
          0.5922927741908091,
          -0.9041800403761472,
          0.26887896143547035,
          0.44171538769904944,
          -2.337415157553346,
          -0.47910069012231377,
          0.4723266677192603,
          1.142229262039408,
          -0.7110527253858936,
          1.1204297019845355,
          -0.38624687258915696,
          0.9979597643079794,
          0.009216357521275888
         ],
         "yaxis": "y"
        },
        {
         "hovertemplate": "species=versicolor<br>PC1=%{x}<br>PC2=%{y}<extra></extra>",
         "legendgroup": "versicolor",
         "marker": {
          "color": "#EF553B",
          "symbol": "circle"
         },
         "mode": "markers",
         "name": "versicolor",
         "orientation": "v",
         "showlegend": true,
         "type": "scatter",
         "x": [
          1.1017811830529487,
          0.7313374253960879,
          1.2409793195158318,
          0.4074830588173847,
          1.0754747006090783,
          0.3886873365356647,
          0.7465297413291613,
          -0.4873227421256406,
          0.9279016383549459,
          0.01142618873697974,
          -0.11019628000062989,
          0.4406934489830785,
          0.5621083064431783,
          0.7195618886754965,
          -0.03335470317877247,
          0.8754071908577382,
          0.3502516679950828,
          0.1588100475479711,
          1.2250936335624316,
          0.1649178993863269,
          0.7376826487712586,
          0.47628719094097144,
          1.2341780976571493,
          0.6328581997098218,
          0.7026611831361825,
          0.8742736538812909,
          1.2565091165418838,
          1.3584051214406325,
          0.6648003672253949,
          -0.040258610900595904,
          0.13079517549786018,
          0.023452688970550414,
          0.24153827295451077,
          1.0610946088426139,
          0.22397877351237952,
          0.4291391155161612,
          1.048728051209088,
          1.044531384396279,
          0.0695883211164227,
          0.283477238287575,
          0.2790777760554604,
          0.6245697914985716,
          0.3365303701314356,
          -0.362183384619384,
          0.28858623882315704,
          0.09136065565450516,
          0.22771686553469989,
          0.5763882886534789,
          -0.4476670190286123,
          0.25673058888758454
         ],
         "xaxis": "x",
         "y": [
          0.8629724182621579,
          0.594614725669424,
          0.6162976544374976,
          -1.7544039893234094,
          -0.2084210460509656,
          -0.5932836359900745,
          0.7730193120985961,
          -1.8524290868575728,
          0.032226077891153636,
          -1.0340182751294398,
          -2.6540728185365623,
          -0.06329518843800139,
          -1.7647243806169437,
          -0.18622460583150552,
          -0.43900320998162445,
          0.5090639567734079,
          -0.19631173455144355,
          -0.7920957424327207,
          -1.6222438030915005,
          -1.3026092302957715,
          0.3965715619602388,
          -0.4173202812135509,
          -0.9333257287992776,
          -0.4163877208890991,
          -0.0634118197248003,
          0.2507933929006117,
          -0.07725601969586922,
          0.33131168179089765,
          -0.22592785469484344,
          -1.0587185465539077,
          -1.5622718342099666,
          -1.5724755942167037,
          -0.7772563825848412,
          -0.6338432447349462,
          -0.2877735120432017,
          0.845582240905078,
          0.522051796862942,
          -1.3829887191907806,
          -0.21950333464771463,
          -1.3293246390695754,
          -1.1200285237424024,
          0.024923029254012723,
          -0.9884040176703595,
          -2.0192378732386103,
          -0.8557303199870656,
          -0.18119212582577499,
          -0.3849200809873534,
          -0.15487359721655872,
          -1.543792034397755,
          -0.5988517961556689
         ],
         "yaxis": "y"
        },
        {
         "hovertemplate": "species=virginica<br>PC1=%{x}<br>PC2=%{y}<extra></extra>",
         "legendgroup": "virginica",
         "marker": {
          "color": "#00cc96",
          "symbol": "circle"
         },
         "mode": "markers",
         "name": "virginica",
         "orientation": "v",
         "showlegend": true,
         "type": "scatter",
         "x": [
          1.8445688677230299,
          1.1578816132057799,
          2.205266791075379,
          1.44015066382754,
          1.867812220330538,
          2.7518733356662777,
          0.3670176878607236,
          2.3024394446251977,
          2.006686467676606,
          2.259777349012502,
          1.3641754921860088,
          1.602678670477931,
          1.8839007017032432,
          1.2601150991975076,
          1.4676452010173244,
          1.5900773176145664,
          1.4714314611333188,
          2.4263289873157023,
          3.3106955839338883,
          1.263766673639828,
          2.0377163014694055,
          0.9779807342494218,
          2.8976514907341695,
          1.3332321759732093,
          1.700733897491218,
          1.954326705853072,
          1.175103631554933,
          1.0209505506957914,
          1.7883499201796662,
          1.863647553328262,
          2.435953727922705,
          2.304927721831766,
          1.8627032197949565,
          1.114147740686475,
          1.2024733016783908,
          2.7987704475781094,
          1.576255910194755,
          1.3462921036270625,
          0.9248249165424197,
          1.852045051767671,
          2.0148104299548764,
          1.9017840902621899,
          1.1578816132057799,
          2.0405582280520935,
          1.9981470959523773,
          1.8705032929564116,
          1.5645804830303283,
          1.5211704996278381,
          1.3727877895140739,
          0.9606560300371283
         ],
         "xaxis": "x",
         "y": [
          0.870421312324823,
          -0.6988698623306897,
          0.562010477008355,
          -0.04698758810580629,
          0.2950448244570196,
          0.8004092010275413,
          -1.5615028914765043,
          0.4200655796427759,
          -0.7114386535471582,
          1.9210103764598847,
          0.6927564544903863,
          -0.421700449772617,
          0.4192496506051232,
          -1.1622604214064625,
          -0.44227158737708194,
          0.6762448057233196,
          0.25562182447147047,
          2.55666125079549,
          0.01778094932062687,
          -1.7067453803762658,
          0.9104674096183101,
          -0.571764324812991,
          0.41364105959564734,
          -0.48181121864942905,
          1.0139218673227908,
          1.0077775961534514,
          -0.31639447230979095,
          0.06434602923956197,
          -0.1873612145908287,
          0.562290725886144,
          0.2592844331442798,
          2.626323468232376,
          -0.17854949462549033,
          -0.2929226233357311,
          -0.8113152708396675,
          0.8568033294971045,
          1.068581107320807,
          0.4224306108525081,
          0.017223100452284278,
          0.6761281744365207,
          0.6138856369235746,
          0.6895754942430016,
          -0.6988698623306897,
          0.8675206009552278,
          1.0491687471841442,
          0.38696608166572505,
          -0.8966868088965256,
          0.26906914427795137,
          1.0112544185267924,
          -0.02433166816939901
         ],
         "yaxis": "y"
        }
       ],
       "layout": {
        "legend": {
         "title": {
          "text": "species"
         },
         "tracegroupgap": 0
        },
        "margin": {
         "t": 60
        },
        "template": {
         "data": {
          "bar": [
           {
            "error_x": {
             "color": "#2a3f5f"
            },
            "error_y": {
             "color": "#2a3f5f"
            },
            "marker": {
             "line": {
              "color": "#E5ECF6",
              "width": 0.5
             },
             "pattern": {
              "fillmode": "overlay",
              "size": 10,
              "solidity": 0.2
             }
            },
            "type": "bar"
           }
          ],
          "barpolar": [
           {
            "marker": {
             "line": {
              "color": "#E5ECF6",
              "width": 0.5
             },
             "pattern": {
              "fillmode": "overlay",
              "size": 10,
              "solidity": 0.2
             }
            },
            "type": "barpolar"
           }
          ],
          "carpet": [
           {
            "aaxis": {
             "endlinecolor": "#2a3f5f",
             "gridcolor": "white",
             "linecolor": "white",
             "minorgridcolor": "white",
             "startlinecolor": "#2a3f5f"
            },
            "baxis": {
             "endlinecolor": "#2a3f5f",
             "gridcolor": "white",
             "linecolor": "white",
             "minorgridcolor": "white",
             "startlinecolor": "#2a3f5f"
            },
            "type": "carpet"
           }
          ],
          "choropleth": [
           {
            "colorbar": {
             "outlinewidth": 0,
             "ticks": ""
            },
            "type": "choropleth"
           }
          ],
          "contour": [
           {
            "colorbar": {
             "outlinewidth": 0,
             "ticks": ""
            },
            "colorscale": [
             [
              0,
              "#0d0887"
             ],
             [
              0.1111111111111111,
              "#46039f"
             ],
             [
              0.2222222222222222,
              "#7201a8"
             ],
             [
              0.3333333333333333,
              "#9c179e"
             ],
             [
              0.4444444444444444,
              "#bd3786"
             ],
             [
              0.5555555555555556,
              "#d8576b"
             ],
             [
              0.6666666666666666,
              "#ed7953"
             ],
             [
              0.7777777777777778,
              "#fb9f3a"
             ],
             [
              0.8888888888888888,
              "#fdca26"
             ],
             [
              1,
              "#f0f921"
             ]
            ],
            "type": "contour"
           }
          ],
          "contourcarpet": [
           {
            "colorbar": {
             "outlinewidth": 0,
             "ticks": ""
            },
            "type": "contourcarpet"
           }
          ],
          "heatmap": [
           {
            "colorbar": {
             "outlinewidth": 0,
             "ticks": ""
            },
            "colorscale": [
             [
              0,
              "#0d0887"
             ],
             [
              0.1111111111111111,
              "#46039f"
             ],
             [
              0.2222222222222222,
              "#7201a8"
             ],
             [
              0.3333333333333333,
              "#9c179e"
             ],
             [
              0.4444444444444444,
              "#bd3786"
             ],
             [
              0.5555555555555556,
              "#d8576b"
             ],
             [
              0.6666666666666666,
              "#ed7953"
             ],
             [
              0.7777777777777778,
              "#fb9f3a"
             ],
             [
              0.8888888888888888,
              "#fdca26"
             ],
             [
              1,
              "#f0f921"
             ]
            ],
            "type": "heatmap"
           }
          ],
          "heatmapgl": [
           {
            "colorbar": {
             "outlinewidth": 0,
             "ticks": ""
            },
            "colorscale": [
             [
              0,
              "#0d0887"
             ],
             [
              0.1111111111111111,
              "#46039f"
             ],
             [
              0.2222222222222222,
              "#7201a8"
             ],
             [
              0.3333333333333333,
              "#9c179e"
             ],
             [
              0.4444444444444444,
              "#bd3786"
             ],
             [
              0.5555555555555556,
              "#d8576b"
             ],
             [
              0.6666666666666666,
              "#ed7953"
             ],
             [
              0.7777777777777778,
              "#fb9f3a"
             ],
             [
              0.8888888888888888,
              "#fdca26"
             ],
             [
              1,
              "#f0f921"
             ]
            ],
            "type": "heatmapgl"
           }
          ],
          "histogram": [
           {
            "marker": {
             "pattern": {
              "fillmode": "overlay",
              "size": 10,
              "solidity": 0.2
             }
            },
            "type": "histogram"
           }
          ],
          "histogram2d": [
           {
            "colorbar": {
             "outlinewidth": 0,
             "ticks": ""
            },
            "colorscale": [
             [
              0,
              "#0d0887"
             ],
             [
              0.1111111111111111,
              "#46039f"
             ],
             [
              0.2222222222222222,
              "#7201a8"
             ],
             [
              0.3333333333333333,
              "#9c179e"
             ],
             [
              0.4444444444444444,
              "#bd3786"
             ],
             [
              0.5555555555555556,
              "#d8576b"
             ],
             [
              0.6666666666666666,
              "#ed7953"
             ],
             [
              0.7777777777777778,
              "#fb9f3a"
             ],
             [
              0.8888888888888888,
              "#fdca26"
             ],
             [
              1,
              "#f0f921"
             ]
            ],
            "type": "histogram2d"
           }
          ],
          "histogram2dcontour": [
           {
            "colorbar": {
             "outlinewidth": 0,
             "ticks": ""
            },
            "colorscale": [
             [
              0,
              "#0d0887"
             ],
             [
              0.1111111111111111,
              "#46039f"
             ],
             [
              0.2222222222222222,
              "#7201a8"
             ],
             [
              0.3333333333333333,
              "#9c179e"
             ],
             [
              0.4444444444444444,
              "#bd3786"
             ],
             [
              0.5555555555555556,
              "#d8576b"
             ],
             [
              0.6666666666666666,
              "#ed7953"
             ],
             [
              0.7777777777777778,
              "#fb9f3a"
             ],
             [
              0.8888888888888888,
              "#fdca26"
             ],
             [
              1,
              "#f0f921"
             ]
            ],
            "type": "histogram2dcontour"
           }
          ],
          "mesh3d": [
           {
            "colorbar": {
             "outlinewidth": 0,
             "ticks": ""
            },
            "type": "mesh3d"
           }
          ],
          "parcoords": [
           {
            "line": {
             "colorbar": {
              "outlinewidth": 0,
              "ticks": ""
             }
            },
            "type": "parcoords"
           }
          ],
          "pie": [
           {
            "automargin": true,
            "type": "pie"
           }
          ],
          "scatter": [
           {
            "fillpattern": {
             "fillmode": "overlay",
             "size": 10,
             "solidity": 0.2
            },
            "type": "scatter"
           }
          ],
          "scatter3d": [
           {
            "line": {
             "colorbar": {
              "outlinewidth": 0,
              "ticks": ""
             }
            },
            "marker": {
             "colorbar": {
              "outlinewidth": 0,
              "ticks": ""
             }
            },
            "type": "scatter3d"
           }
          ],
          "scattercarpet": [
           {
            "marker": {
             "colorbar": {
              "outlinewidth": 0,
              "ticks": ""
             }
            },
            "type": "scattercarpet"
           }
          ],
          "scattergeo": [
           {
            "marker": {
             "colorbar": {
              "outlinewidth": 0,
              "ticks": ""
             }
            },
            "type": "scattergeo"
           }
          ],
          "scattergl": [
           {
            "marker": {
             "colorbar": {
              "outlinewidth": 0,
              "ticks": ""
             }
            },
            "type": "scattergl"
           }
          ],
          "scattermapbox": [
           {
            "marker": {
             "colorbar": {
              "outlinewidth": 0,
              "ticks": ""
             }
            },
            "type": "scattermapbox"
           }
          ],
          "scatterpolar": [
           {
            "marker": {
             "colorbar": {
              "outlinewidth": 0,
              "ticks": ""
             }
            },
            "type": "scatterpolar"
           }
          ],
          "scatterpolargl": [
           {
            "marker": {
             "colorbar": {
              "outlinewidth": 0,
              "ticks": ""
             }
            },
            "type": "scatterpolargl"
           }
          ],
          "scatterternary": [
           {
            "marker": {
             "colorbar": {
              "outlinewidth": 0,
              "ticks": ""
             }
            },
            "type": "scatterternary"
           }
          ],
          "surface": [
           {
            "colorbar": {
             "outlinewidth": 0,
             "ticks": ""
            },
            "colorscale": [
             [
              0,
              "#0d0887"
             ],
             [
              0.1111111111111111,
              "#46039f"
             ],
             [
              0.2222222222222222,
              "#7201a8"
             ],
             [
              0.3333333333333333,
              "#9c179e"
             ],
             [
              0.4444444444444444,
              "#bd3786"
             ],
             [
              0.5555555555555556,
              "#d8576b"
             ],
             [
              0.6666666666666666,
              "#ed7953"
             ],
             [
              0.7777777777777778,
              "#fb9f3a"
             ],
             [
              0.8888888888888888,
              "#fdca26"
             ],
             [
              1,
              "#f0f921"
             ]
            ],
            "type": "surface"
           }
          ],
          "table": [
           {
            "cells": {
             "fill": {
              "color": "#EBF0F8"
             },
             "line": {
              "color": "white"
             }
            },
            "header": {
             "fill": {
              "color": "#C8D4E3"
             },
             "line": {
              "color": "white"
             }
            },
            "type": "table"
           }
          ]
         },
         "layout": {
          "annotationdefaults": {
           "arrowcolor": "#2a3f5f",
           "arrowhead": 0,
           "arrowwidth": 1
          },
          "autotypenumbers": "strict",
          "coloraxis": {
           "colorbar": {
            "outlinewidth": 0,
            "ticks": ""
           }
          },
          "colorscale": {
           "diverging": [
            [
             0,
             "#8e0152"
            ],
            [
             0.1,
             "#c51b7d"
            ],
            [
             0.2,
             "#de77ae"
            ],
            [
             0.3,
             "#f1b6da"
            ],
            [
             0.4,
             "#fde0ef"
            ],
            [
             0.5,
             "#f7f7f7"
            ],
            [
             0.6,
             "#e6f5d0"
            ],
            [
             0.7,
             "#b8e186"
            ],
            [
             0.8,
             "#7fbc41"
            ],
            [
             0.9,
             "#4d9221"
            ],
            [
             1,
             "#276419"
            ]
           ],
           "sequential": [
            [
             0,
             "#0d0887"
            ],
            [
             0.1111111111111111,
             "#46039f"
            ],
            [
             0.2222222222222222,
             "#7201a8"
            ],
            [
             0.3333333333333333,
             "#9c179e"
            ],
            [
             0.4444444444444444,
             "#bd3786"
            ],
            [
             0.5555555555555556,
             "#d8576b"
            ],
            [
             0.6666666666666666,
             "#ed7953"
            ],
            [
             0.7777777777777778,
             "#fb9f3a"
            ],
            [
             0.8888888888888888,
             "#fdca26"
            ],
            [
             1,
             "#f0f921"
            ]
           ],
           "sequentialminus": [
            [
             0,
             "#0d0887"
            ],
            [
             0.1111111111111111,
             "#46039f"
            ],
            [
             0.2222222222222222,
             "#7201a8"
            ],
            [
             0.3333333333333333,
             "#9c179e"
            ],
            [
             0.4444444444444444,
             "#bd3786"
            ],
            [
             0.5555555555555556,
             "#d8576b"
            ],
            [
             0.6666666666666666,
             "#ed7953"
            ],
            [
             0.7777777777777778,
             "#fb9f3a"
            ],
            [
             0.8888888888888888,
             "#fdca26"
            ],
            [
             1,
             "#f0f921"
            ]
           ]
          },
          "colorway": [
           "#636efa",
           "#EF553B",
           "#00cc96",
           "#ab63fa",
           "#FFA15A",
           "#19d3f3",
           "#FF6692",
           "#B6E880",
           "#FF97FF",
           "#FECB52"
          ],
          "font": {
           "color": "#2a3f5f"
          },
          "geo": {
           "bgcolor": "white",
           "lakecolor": "white",
           "landcolor": "#E5ECF6",
           "showlakes": true,
           "showland": true,
           "subunitcolor": "white"
          },
          "hoverlabel": {
           "align": "left"
          },
          "hovermode": "closest",
          "mapbox": {
           "style": "light"
          },
          "paper_bgcolor": "white",
          "plot_bgcolor": "#E5ECF6",
          "polar": {
           "angularaxis": {
            "gridcolor": "white",
            "linecolor": "white",
            "ticks": ""
           },
           "bgcolor": "#E5ECF6",
           "radialaxis": {
            "gridcolor": "white",
            "linecolor": "white",
            "ticks": ""
           }
          },
          "scene": {
           "xaxis": {
            "backgroundcolor": "#E5ECF6",
            "gridcolor": "white",
            "gridwidth": 2,
            "linecolor": "white",
            "showbackground": true,
            "ticks": "",
            "zerolinecolor": "white"
           },
           "yaxis": {
            "backgroundcolor": "#E5ECF6",
            "gridcolor": "white",
            "gridwidth": 2,
            "linecolor": "white",
            "showbackground": true,
            "ticks": "",
            "zerolinecolor": "white"
           },
           "zaxis": {
            "backgroundcolor": "#E5ECF6",
            "gridcolor": "white",
            "gridwidth": 2,
            "linecolor": "white",
            "showbackground": true,
            "ticks": "",
            "zerolinecolor": "white"
           }
          },
          "shapedefaults": {
           "line": {
            "color": "#2a3f5f"
           }
          },
          "ternary": {
           "aaxis": {
            "gridcolor": "white",
            "linecolor": "white",
            "ticks": ""
           },
           "baxis": {
            "gridcolor": "white",
            "linecolor": "white",
            "ticks": ""
           },
           "bgcolor": "#E5ECF6",
           "caxis": {
            "gridcolor": "white",
            "linecolor": "white",
            "ticks": ""
           }
          },
          "title": {
           "x": 0.05
          },
          "xaxis": {
           "automargin": true,
           "gridcolor": "white",
           "linecolor": "white",
           "ticks": "",
           "title": {
            "standoff": 15
           },
           "zerolinecolor": "white",
           "zerolinewidth": 2
          },
          "yaxis": {
           "automargin": true,
           "gridcolor": "white",
           "linecolor": "white",
           "ticks": "",
           "title": {
            "standoff": 15
           },
           "zerolinecolor": "white",
           "zerolinewidth": 2
          }
         }
        },
        "xaxis": {
         "anchor": "y",
         "domain": [
          0,
          1
         ],
         "title": {
          "text": "PC1"
         }
        },
        "yaxis": {
         "anchor": "x",
         "domain": [
          0,
          1
         ],
         "title": {
          "text": "PC2"
         }
        }
       }
      }
     },
     "metadata": {},
     "output_type": "display_data"
    }
   ],
   "source": [
    "import plotly.express as px\n",
    "from sklearn.decomposition import PCA\n",
    "from sklearn.preprocessing import StandardScaler\n",
    "import seaborn as sns\n",
    "import pandas as pd\n",
    "\n",
    "# preparation du dataframe\n",
    "df = sns.load_dataset('iris')\n",
    "# Supprimer la colonne 'species'\n",
    "df_numeric = df.drop(columns='species')\n",
    "# Normaliser les données\n",
    "scaler = StandardScaler()\n",
    "df_scaled = scaler.fit_transform(df_numeric)\n",
    "\n",
    "# Effectuer l'ACP\n",
    "acp = PCA(n_components=2)\n",
    "principalComponents = acp.fit_transform(df_scaled)\n",
    "\n",
    "# Créer un DataFrame avec les résultats\n",
    "principalDf = pd.DataFrame(data=principalComponents, columns=['PC1', 'PC2'])\n",
    "\n",
    "# Ajouter les étiquettes 'species' au DataFrame\n",
    "principalDf['species'] = df['species']\n",
    "\n",
    "# Créer le graphique de dispersion avec plotly\n",
    "fig = px.scatter(principalDf, x='PC1', y='PC2', color='species')\n",
    "\n",
    "# Afficher le graphique\n",
    "fig.show()\n"
   ]
  },
  {
   "cell_type": "code",
   "execution_count": null,
   "metadata": {},
   "outputs": [],
   "source": [
    "\"# load dataframe\",\n",
    "\"# preparation du dataframe\",\n",
    "\"df = sns.load_dataset('iris')\",\n",
    "\"# Supprimer la colonne 'species'\",\n",
    "\"df_numeric = df.drop(columns='species')\",\n",
    "\"# Normaliser les données\",\n",
    "\"scaler = StandardScaler()\",\n",
    "\"df_scaled = scaler.fit_transform(df_numeric)\",\n"
   ]
  },
  {
   "cell_type": "code",
   "execution_count": null,
   "metadata": {},
   "outputs": [],
   "source": [
    "your_dataframe, your_colonne = df , 'your_colonne'\n",
    "X = your_dataframe\n",
    "X.drop(your_colonne, axis=1, inplace=True)\n",
    "y = your_dataframe[your_colonne]\n",
    "# load dataframe\n",
    "# preparation du dataframe\n",
    "df = sns.load_dataset('iris')\n",
    "# Supprimer la colonne 'species'\n",
    "df = df.drop(columns='species')\n",
    "# Normaliser les données\n",
    "scaler = StandardScaler()\n",
    "df_scaled = scaler.fit_transform(df)\n"
   ]
  }
 ],
 "metadata": {
  "kernelspec": {
   "display_name": "Python 3",
   "language": "python",
   "name": "python3"
  },
  "language_info": {
   "codemirror_mode": {
    "name": "ipython",
    "version": 3
   },
   "file_extension": ".py",
   "mimetype": "text/x-python",
   "name": "python",
   "nbconvert_exporter": "python",
   "pygments_lexer": "ipython3",
   "version": "3.12.0"
  }
 },
 "nbformat": 4,
 "nbformat_minor": 2
}
