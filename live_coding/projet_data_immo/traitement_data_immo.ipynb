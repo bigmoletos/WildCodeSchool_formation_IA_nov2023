{
 "cells": [
  {
   "cell_type": "code",
   "execution_count": 22,
   "metadata": {},
   "outputs": [
    {
     "name": "stderr",
     "output_type": "stream",
     "text": [
      "C:\\Users\\romar\\AppData\\Local\\Temp\\ipykernel_7500\\1344169189.py:5: DtypeWarning: Columns (20,26,42,43) have mixed types. Specify dtype option on import or set low_memory=False.\n",
      "  df = pd.read_csv(\"G:\\\\programmation\\\\WildCodeSchool\\\\Formation_IA_DATA_nov2023\\\\quêtes\\\\Semaine3\\\\live_coding\\\\Base_de_données_et_SQL\\\\Data_Immo.csv\",\n"
     ]
    }
   ],
   "source": [
    "import pandas as pd\n",
    "import numpy as np\n",
    "from scipy.stats import zscore\n",
    "\n",
    "df = pd.read_csv(\"G:\\\\programmation\\\\WildCodeSchool\\\\Formation_IA_DATA_nov2023\\\\quêtes\\\\Semaine3\\\\live_coding\\\\Base_de_données_et_SQL\\\\Data_Immo.csv\",\n",
    "                 sep=\";\", header=0, skiprows=1,encoding='ISO-8859-1')\n",
    "# header=0 pour indiquer que la deuxiéme ligne contient les entetes\n",
    "#  sep=\";\"pour indiquer que le séparateur est un ; et non  ,\n",
    "#  pour eviter l'erreur d'encodage encoding='ISO-8859-1'\n",
    "#  skiprows=1  pour eviter la premiere ligne qui dans notre cas contient des infos inutiles"
   ]
  },
  {
   "cell_type": "code",
   "execution_count": 35,
   "metadata": {},
   "outputs": [
    {
     "data": {
      "text/html": [
       "<div>\n",
       "<style scoped>\n",
       "    .dataframe tbody tr th:only-of-type {\n",
       "        vertical-align: middle;\n",
       "    }\n",
       "\n",
       "    .dataframe tbody tr th {\n",
       "        vertical-align: top;\n",
       "    }\n",
       "\n",
       "    .dataframe thead th {\n",
       "        text-align: right;\n",
       "    }\n",
       "</style>\n",
       "<table border=\"1\" class=\"dataframe\">\n",
       "  <thead>\n",
       "    <tr style=\"text-align: right;\">\n",
       "      <th></th>\n",
       "      <th>No disposition</th>\n",
       "      <th>No voie</th>\n",
       "      <th>Code type de voie</th>\n",
       "      <th>Code ID commune</th>\n",
       "      <th>Code postal</th>\n",
       "      <th>Code commune</th>\n",
       "      <th>Prefixe de section</th>\n",
       "      <th>No plan</th>\n",
       "      <th>Nombre de lots</th>\n",
       "      <th>Code type local</th>\n",
       "      <th>Surface reelle bati</th>\n",
       "      <th>Nombre pieces principales</th>\n",
       "      <th>Surface terrain</th>\n",
       "    </tr>\n",
       "  </thead>\n",
       "  <tbody>\n",
       "    <tr>\n",
       "      <th>0</th>\n",
       "      <td>1.0</td>\n",
       "      <td>NaN</td>\n",
       "      <td>0.0</td>\n",
       "      <td>0</td>\n",
       "      <td>1370.0</td>\n",
       "      <td>350.0</td>\n",
       "      <td>736.810149</td>\n",
       "      <td>NaN</td>\n",
       "      <td>1.0</td>\n",
       "      <td>2.0</td>\n",
       "      <td>52.0</td>\n",
       "      <td>2.0</td>\n",
       "      <td>355.529644</td>\n",
       "    </tr>\n",
       "    <tr>\n",
       "      <th>1</th>\n",
       "      <td>1.0</td>\n",
       "      <td>NaN</td>\n",
       "      <td>0.0</td>\n",
       "      <td>1</td>\n",
       "      <td>1170.0</td>\n",
       "      <td>103.0</td>\n",
       "      <td>736.810149</td>\n",
       "      <td>302.0</td>\n",
       "      <td>2.0</td>\n",
       "      <td>2.0</td>\n",
       "      <td>48.0</td>\n",
       "      <td>3.0</td>\n",
       "      <td>355.529644</td>\n",
       "    </tr>\n",
       "    <tr>\n",
       "      <th>2</th>\n",
       "      <td>1.0</td>\n",
       "      <td>58.0</td>\n",
       "      <td>1.0</td>\n",
       "      <td>2</td>\n",
       "      <td>1220.0</td>\n",
       "      <td>143.0</td>\n",
       "      <td>736.810149</td>\n",
       "      <td>563.0</td>\n",
       "      <td>2.0</td>\n",
       "      <td>2.0</td>\n",
       "      <td>NaN</td>\n",
       "      <td>NaN</td>\n",
       "      <td>355.529644</td>\n",
       "    </tr>\n",
       "    <tr>\n",
       "      <th>3</th>\n",
       "      <td>1.0</td>\n",
       "      <td>NaN</td>\n",
       "      <td>0.0</td>\n",
       "      <td>3</td>\n",
       "      <td>1630.0</td>\n",
       "      <td>288.0</td>\n",
       "      <td>736.810149</td>\n",
       "      <td>NaN</td>\n",
       "      <td>1.0</td>\n",
       "      <td>NaN</td>\n",
       "      <td>109.0</td>\n",
       "      <td>NaN</td>\n",
       "      <td>355.529644</td>\n",
       "    </tr>\n",
       "    <tr>\n",
       "      <th>4</th>\n",
       "      <td>1.0</td>\n",
       "      <td>39.0</td>\n",
       "      <td>0.0</td>\n",
       "      <td>4</td>\n",
       "      <td>1200.0</td>\n",
       "      <td>33.0</td>\n",
       "      <td>736.810149</td>\n",
       "      <td>440.0</td>\n",
       "      <td>2.0</td>\n",
       "      <td>2.0</td>\n",
       "      <td>91.0</td>\n",
       "      <td>4.0</td>\n",
       "      <td>355.529644</td>\n",
       "    </tr>\n",
       "  </tbody>\n",
       "</table>\n",
       "</div>"
      ],
      "text/plain": [
       "   No disposition  No voie  Code type de voie  Code ID commune  Code postal  \\\n",
       "0             1.0      NaN                0.0                0       1370.0   \n",
       "1             1.0      NaN                0.0                1       1170.0   \n",
       "2             1.0     58.0                1.0                2       1220.0   \n",
       "3             1.0      NaN                0.0                3       1630.0   \n",
       "4             1.0     39.0                0.0                4       1200.0   \n",
       "\n",
       "   Code commune  Prefixe de section  No plan  Nombre de lots  Code type local  \\\n",
       "0         350.0          736.810149      NaN             1.0              2.0   \n",
       "1         103.0          736.810149    302.0             2.0              2.0   \n",
       "2         143.0          736.810149    563.0             2.0              2.0   \n",
       "3         288.0          736.810149      NaN             1.0              NaN   \n",
       "4          33.0          736.810149    440.0             2.0              2.0   \n",
       "\n",
       "   Surface reelle bati  Nombre pieces principales  Surface terrain  \n",
       "0                 52.0                        2.0       355.529644  \n",
       "1                 48.0                        3.0       355.529644  \n",
       "2                  NaN                        NaN       355.529644  \n",
       "3                109.0                        NaN       355.529644  \n",
       "4                 91.0                        4.0       355.529644  "
      ]
     },
     "execution_count": 35,
     "metadata": {},
     "output_type": "execute_result"
    }
   ],
   "source": [
    "df.head()  # Affiche les 5 premières lignes du DataFrame"
   ]
  },
  {
   "cell_type": "code",
   "execution_count": 24,
   "metadata": {},
   "outputs": [
    {
     "name": "stdout",
     "output_type": "stream",
     "text": [
      "(34169, 45)\n"
     ]
    }
   ],
   "source": [
    "print(df.shape)"
   ]
  },
  {
   "cell_type": "code",
   "execution_count": 25,
   "metadata": {},
   "outputs": [
    {
     "name": "stdout",
     "output_type": "stream",
     "text": [
      "<class 'pandas.core.frame.DataFrame'>\n",
      "RangeIndex: 34169 entries, 0 to 34168\n",
      "Data columns (total 45 columns):\n",
      " #   Column                      Non-Null Count  Dtype  \n",
      "---  ------                      --------------  -----  \n",
      " 0   Code service CH             0 non-null      float64\n",
      " 1   Reference document          0 non-null      float64\n",
      " 2   1 Articles CGI              0 non-null      float64\n",
      " 3   2 Articles CGI              0 non-null      float64\n",
      " 4   3 Articles CGI              0 non-null      float64\n",
      " 5   4 Articles CGI              0 non-null      float64\n",
      " 6   5 Articles CGI              0 non-null      float64\n",
      " 7   No disposition              34169 non-null  int64  \n",
      " 8   Date mutation               34169 non-null  object \n",
      " 9   Nature mutation             34169 non-null  object \n",
      " 10  Valeur fonciere             34151 non-null  object \n",
      " 11  No voie                     34036 non-null  float64\n",
      " 12  B/T/Q                       2174 non-null   object \n",
      " 13  Code type de voie           34169 non-null  int64  \n",
      " 14  Type de voie                33229 non-null  object \n",
      " 15  Code voie                   34169 non-null  object \n",
      " 16  Voie                        34169 non-null  object \n",
      " 17  Code ID commune             34169 non-null  int64  \n",
      " 18  Code postal                 34168 non-null  float64\n",
      " 19  Commune                     34169 non-null  object \n",
      " 20  Code departement            34169 non-null  object \n",
      " 21  Code commune                34169 non-null  int64  \n",
      " 22  Prefixe de section          1143 non-null   float64\n",
      " 23  Section                     34168 non-null  object \n",
      " 24  No plan                     34169 non-null  int64  \n",
      " 25  No Volume                   0 non-null      float64\n",
      " 26  1er lot                     34169 non-null  object \n",
      " 27  Surface Carrez du 1er lot   34169 non-null  object \n",
      " 28  2eme lot                    0 non-null      float64\n",
      " 29  Surface Carrez du 2eme lot  0 non-null      float64\n",
      " 30  3eme lot                    0 non-null      float64\n",
      " 31  Surface Carrez du 3eme lot  0 non-null      float64\n",
      " 32  4eme lot                    0 non-null      float64\n",
      " 33  Surface Carrez du 4eme lot  0 non-null      float64\n",
      " 34  5eme lot                    0 non-null      float64\n",
      " 35  Surface Carrez du 5eme lot  0 non-null      float64\n",
      " 36  Nombre de lots              34169 non-null  int64  \n",
      " 37  Code type local             34169 non-null  int64  \n",
      " 38  Type local                  34169 non-null  object \n",
      " 39  Identifiant local           0 non-null      float64\n",
      " 40  Surface reelle bati         34169 non-null  int64  \n",
      " 41  Nombre pieces principales   34169 non-null  int64  \n",
      " 42  Nature culture              253 non-null    object \n",
      " 43  Nature culture speciale     8 non-null      object \n",
      " 44  Surface terrain             253 non-null    float64\n",
      "dtypes: float64(21), int64(9), object(15)\n",
      "memory usage: 11.7+ MB\n"
     ]
    }
   ],
   "source": [
    "df.info()  # Affiche un résumé concis du DataFrame"
   ]
  },
  {
   "cell_type": "code",
   "execution_count": 38,
   "metadata": {},
   "outputs": [
    {
     "data": {
      "text/html": [
       "<div>\n",
       "<style scoped>\n",
       "    .dataframe tbody tr th:only-of-type {\n",
       "        vertical-align: middle;\n",
       "    }\n",
       "\n",
       "    .dataframe tbody tr th {\n",
       "        vertical-align: top;\n",
       "    }\n",
       "\n",
       "    .dataframe thead th {\n",
       "        text-align: right;\n",
       "    }\n",
       "</style>\n",
       "<table border=\"1\" class=\"dataframe\">\n",
       "  <thead>\n",
       "    <tr style=\"text-align: right;\">\n",
       "      <th></th>\n",
       "      <th>No disposition</th>\n",
       "      <th>No voie</th>\n",
       "      <th>Code type de voie</th>\n",
       "      <th>Code ID commune</th>\n",
       "      <th>Code postal</th>\n",
       "      <th>Code commune</th>\n",
       "      <th>Prefixe de section</th>\n",
       "      <th>No plan</th>\n",
       "      <th>Nombre de lots</th>\n",
       "      <th>Code type local</th>\n",
       "      <th>Surface reelle bati</th>\n",
       "      <th>Nombre pieces principales</th>\n",
       "      <th>Surface terrain</th>\n",
       "    </tr>\n",
       "  </thead>\n",
       "  <tbody>\n",
       "    <tr>\n",
       "      <th>count</th>\n",
       "      <td>34093.0</td>\n",
       "      <td>29204.000000</td>\n",
       "      <td>27635.000000</td>\n",
       "      <td>34169.000000</td>\n",
       "      <td>34169.000000</td>\n",
       "      <td>32768.000000</td>\n",
       "      <td>3.302600e+04</td>\n",
       "      <td>31338.00000</td>\n",
       "      <td>33810.000000</td>\n",
       "      <td>31378.0</td>\n",
       "      <td>33345.000000</td>\n",
       "      <td>31952.000000</td>\n",
       "      <td>33916.000000</td>\n",
       "    </tr>\n",
       "    <tr>\n",
       "      <th>mean</th>\n",
       "      <td>1.0</td>\n",
       "      <td>28.020408</td>\n",
       "      <td>0.524154</td>\n",
       "      <td>2009.368931</td>\n",
       "      <td>62089.903243</td>\n",
       "      <td>170.664734</td>\n",
       "      <td>7.368101e+02</td>\n",
       "      <td>180.18977</td>\n",
       "      <td>1.361520</td>\n",
       "      <td>2.0</td>\n",
       "      <td>54.147039</td>\n",
       "      <td>2.433025</td>\n",
       "      <td>355.529644</td>\n",
       "    </tr>\n",
       "    <tr>\n",
       "      <th>std</th>\n",
       "      <td>0.0</td>\n",
       "      <td>29.630609</td>\n",
       "      <td>1.073620</td>\n",
       "      <td>1051.410563</td>\n",
       "      <td>28259.245358</td>\n",
       "      <td>140.556396</td>\n",
       "      <td>1.136886e-13</td>\n",
       "      <td>170.80615</td>\n",
       "      <td>0.543207</td>\n",
       "      <td>0.0</td>\n",
       "      <td>24.497569</td>\n",
       "      <td>1.008751</td>\n",
       "      <td>0.000000</td>\n",
       "    </tr>\n",
       "    <tr>\n",
       "      <th>min</th>\n",
       "      <td>1.0</td>\n",
       "      <td>1.000000</td>\n",
       "      <td>0.000000</td>\n",
       "      <td>0.000000</td>\n",
       "      <td>1090.000000</td>\n",
       "      <td>1.000000</td>\n",
       "      <td>7.368101e+02</td>\n",
       "      <td>1.00000</td>\n",
       "      <td>1.000000</td>\n",
       "      <td>2.0</td>\n",
       "      <td>1.000000</td>\n",
       "      <td>1.000000</td>\n",
       "      <td>355.529644</td>\n",
       "    </tr>\n",
       "    <tr>\n",
       "      <th>25%</th>\n",
       "      <td>1.0</td>\n",
       "      <td>6.000000</td>\n",
       "      <td>0.000000</td>\n",
       "      <td>1054.000000</td>\n",
       "      <td>38000.000000</td>\n",
       "      <td>64.000000</td>\n",
       "      <td>7.368101e+02</td>\n",
       "      <td>46.00000</td>\n",
       "      <td>1.000000</td>\n",
       "      <td>2.0</td>\n",
       "      <td>35.000000</td>\n",
       "      <td>2.000000</td>\n",
       "      <td>355.529644</td>\n",
       "    </tr>\n",
       "    <tr>\n",
       "      <th>50%</th>\n",
       "      <td>1.0</td>\n",
       "      <td>17.000000</td>\n",
       "      <td>0.000000</td>\n",
       "      <td>2288.000000</td>\n",
       "      <td>75008.000000</td>\n",
       "      <td>118.000000</td>\n",
       "      <td>7.368101e+02</td>\n",
       "      <td>121.00000</td>\n",
       "      <td>1.000000</td>\n",
       "      <td>2.0</td>\n",
       "      <td>52.000000</td>\n",
       "      <td>2.000000</td>\n",
       "      <td>355.529644</td>\n",
       "    </tr>\n",
       "    <tr>\n",
       "      <th>75%</th>\n",
       "      <td>1.0</td>\n",
       "      <td>39.000000</td>\n",
       "      <td>1.000000</td>\n",
       "      <td>3011.000000</td>\n",
       "      <td>83610.000000</td>\n",
       "      <td>243.000000</td>\n",
       "      <td>7.368101e+02</td>\n",
       "      <td>268.00000</td>\n",
       "      <td>2.000000</td>\n",
       "      <td>2.0</td>\n",
       "      <td>70.000000</td>\n",
       "      <td>3.000000</td>\n",
       "      <td>355.529644</td>\n",
       "    </tr>\n",
       "    <tr>\n",
       "      <th>max</th>\n",
       "      <td>1.0</td>\n",
       "      <td>132.000000</td>\n",
       "      <td>5.000000</td>\n",
       "      <td>3214.000000</td>\n",
       "      <td>97490.000000</td>\n",
       "      <td>563.000000</td>\n",
       "      <td>7.368101e+02</td>\n",
       "      <td>721.00000</td>\n",
       "      <td>3.000000</td>\n",
       "      <td>2.0</td>\n",
       "      <td>125.000000</td>\n",
       "      <td>4.000000</td>\n",
       "      <td>355.529644</td>\n",
       "    </tr>\n",
       "  </tbody>\n",
       "</table>\n",
       "</div>"
      ],
      "text/plain": [
       "       No disposition       No voie  Code type de voie  Code ID commune  \\\n",
       "count         34093.0  29204.000000       27635.000000     34169.000000   \n",
       "mean              1.0     28.020408           0.524154      2009.368931   \n",
       "std               0.0     29.630609           1.073620      1051.410563   \n",
       "min               1.0      1.000000           0.000000         0.000000   \n",
       "25%               1.0      6.000000           0.000000      1054.000000   \n",
       "50%               1.0     17.000000           0.000000      2288.000000   \n",
       "75%               1.0     39.000000           1.000000      3011.000000   \n",
       "max               1.0    132.000000           5.000000      3214.000000   \n",
       "\n",
       "        Code postal  Code commune  Prefixe de section      No plan  \\\n",
       "count  34169.000000  32768.000000        3.302600e+04  31338.00000   \n",
       "mean   62089.903243    170.664734        7.368101e+02    180.18977   \n",
       "std    28259.245358    140.556396        1.136886e-13    170.80615   \n",
       "min     1090.000000      1.000000        7.368101e+02      1.00000   \n",
       "25%    38000.000000     64.000000        7.368101e+02     46.00000   \n",
       "50%    75008.000000    118.000000        7.368101e+02    121.00000   \n",
       "75%    83610.000000    243.000000        7.368101e+02    268.00000   \n",
       "max    97490.000000    563.000000        7.368101e+02    721.00000   \n",
       "\n",
       "       Nombre de lots  Code type local  Surface reelle bati  \\\n",
       "count    33810.000000          31378.0         33345.000000   \n",
       "mean         1.361520              2.0            54.147039   \n",
       "std          0.543207              0.0            24.497569   \n",
       "min          1.000000              2.0             1.000000   \n",
       "25%          1.000000              2.0            35.000000   \n",
       "50%          1.000000              2.0            52.000000   \n",
       "75%          2.000000              2.0            70.000000   \n",
       "max          3.000000              2.0           125.000000   \n",
       "\n",
       "       Nombre pieces principales  Surface terrain  \n",
       "count               31952.000000     33916.000000  \n",
       "mean                    2.433025       355.529644  \n",
       "std                     1.008751         0.000000  \n",
       "min                     1.000000       355.529644  \n",
       "25%                     2.000000       355.529644  \n",
       "50%                     2.000000       355.529644  \n",
       "75%                     3.000000       355.529644  \n",
       "max                     4.000000       355.529644  "
      ]
     },
     "execution_count": 38,
     "metadata": {},
     "output_type": "execute_result"
    }
   ],
   "source": [
    "df.describe()  # Affiche des statistiques descriptives du DataFrame"
   ]
  },
  {
   "cell_type": "code",
   "execution_count": 39,
   "metadata": {},
   "outputs": [
    {
     "name": "stdout",
     "output_type": "stream",
     "text": [
      "count    33345.000000\n",
      "mean        54.147039\n",
      "std         24.497569\n",
      "min          1.000000\n",
      "25%         35.000000\n",
      "50%         52.000000\n",
      "75%         70.000000\n",
      "max        125.000000\n",
      "Name: Surface reelle bati, dtype: float64\n"
     ]
    }
   ],
   "source": [
    "#  un résumé du contenu d’une colonne dans un DataFrame\n",
    "nom_de_la_colonne=\"Surface reelle bati\"\n",
    "print(df[nom_de_la_colonne].describe())\n"
   ]
  },
  {
   "cell_type": "code",
   "execution_count": 36,
   "metadata": {},
   "outputs": [
    {
     "data": {
      "text/plain": [
       "Index([], dtype='object')"
      ]
     },
     "execution_count": 36,
     "metadata": {},
     "output_type": "execute_result"
    }
   ],
   "source": [
    "# vérifie si toutes les valeurs d’une colonne sont manquantes (NaN).\n",
    "colonnes_vides = df.columns[df.isnull().all()]\n",
    "colonnes_vides\n",
    "# autre solutions  vérifie si toutes les valeurs d’une colonne sont des chaînes vides ou des espaces.\n",
    "# colonnes_vides = df.columns[(df == '' | df.isspace()).all()]\n"
   ]
  },
  {
   "cell_type": "code",
   "execution_count": 27,
   "metadata": {},
   "outputs": [
    {
     "name": "stdout",
     "output_type": "stream",
     "text": [
      "(34169, 28)\n"
     ]
    }
   ],
   "source": [
    "# suppression des colonnes vides\n",
    "df = df.drop(colonnes_vides, axis=1)\n",
    "print(df.shape)\n"
   ]
  },
  {
   "cell_type": "code",
   "execution_count": 32,
   "metadata": {},
   "outputs": [
    {
     "data": {
      "text/plain": [
       "No disposition                 76\n",
       "No voie                      4965\n",
       "Code type de voie            6534\n",
       "Code ID commune                 0\n",
       "Code postal                     0\n",
       "Code commune                 1401\n",
       "Prefixe de section           1143\n",
       "No plan                      2831\n",
       "Nombre de lots                359\n",
       "Code type local              2791\n",
       "Surface reelle bati           824\n",
       "Nombre pieces principales    2217\n",
       "Surface terrain               253\n",
       "dtype: int64"
      ]
     },
     "execution_count": 32,
     "metadata": {},
     "output_type": "execute_result"
    }
   ],
   "source": [
    "# Voir les valeurs manquantes :\n",
    "df.isnull().sum()"
   ]
  },
  {
   "cell_type": "code",
   "execution_count": 21,
   "metadata": {},
   "outputs": [
    {
     "name": "stdout",
     "output_type": "stream",
     "text": [
      "(0, 28)\n"
     ]
    }
   ],
   "source": [
    "# supprime les lignes contenant des valeurs manquantes,\n",
    "nom_de_la_colonne=\"Valeur fonciere\"\n",
    "df = df.dropna()\n",
    "print(df.shape)"
   ]
  },
  {
   "cell_type": "code",
   "execution_count": null,
   "metadata": {},
   "outputs": [],
   "source": [
    "# remplacer les valeurs manquantes par une valeur spécifique (par exemple, 0)\n",
    "df = df.fillna(0)\n",
    "print(df.shape)"
   ]
  },
  {
   "cell_type": "code",
   "execution_count": null,
   "metadata": {},
   "outputs": [],
   "source": [
    "# Calculer le z-score pour chaque colonne\n",
    "df_zscore = df.apply(zscore)\n",
    "\n",
    "# Remplacer les valeurs manquantes par le z-score\n",
    "df_filled = df.fillna(df_zscore)\n",
    "print(df.shape)\n",
    "\n"
   ]
  },
  {
   "cell_type": "markdown",
   "metadata": {},
   "source": [
    "TRAITEMENT DES VALEURS ABERRANTES"
   ]
  },
  {
   "cell_type": "code",
   "execution_count": 30,
   "metadata": {},
   "outputs": [],
   "source": [
    "# La règle de l’écart interquartile (IQR) : Cette méthode, également connue sous le nom de règle de Tukey, consiste à calculer l’IQR (Q3 - Q1) de vos données. Ensuite, vous déterminez vos limites pour les valeurs aberrantes avec l’IQR. La limite inférieure est calculée comme Q1 - 1,5 * IQR et la limite supérieure comme Q3 + 1,5 * IQR. Les données en dehors de ces limites sont considérées comme des valeurs aberrantes1.\n",
    "#  calcul des quartiles\n",
    "Q1 = df.quantile(0.25)\n",
    "Q3 = df.quantile(0.75)\n",
    "IQR = Q3 - Q1\n",
    "# applique la fonction zscore à chaque colonne de votre DataFrame df en utilisant la méthode apply(). Le résultat est un nouveau DataFrame df_zscore où chaque valeur a été remplacée par son score z.\n",
    "filtre = (df < (Q1 - 1.5 * IQR)) | (df > (Q3 + 1.5 * IQR))\n",
    "#  remplace toutes les valeurs aberrantes dans votre DataFrame original df par np.nan, qui représente une valeur manquante ou non définie en Python.\n",
    "df[filtre] = np.nan"
   ]
  },
  {
   "cell_type": "code",
   "execution_count": 33,
   "metadata": {},
   "outputs": [
    {
     "name": "stdout",
     "output_type": "stream",
     "text": [
      "<class 'pandas.core.frame.DataFrame'>\n",
      "RangeIndex: 34169 entries, 0 to 34168\n",
      "Data columns (total 13 columns):\n",
      " #   Column                     Non-Null Count  Dtype  \n",
      "---  ------                     --------------  -----  \n",
      " 0   No disposition             34093 non-null  float64\n",
      " 1   No voie                    29204 non-null  float64\n",
      " 2   Code type de voie          27635 non-null  float64\n",
      " 3   Code ID commune            34169 non-null  int64  \n",
      " 4   Code postal                34169 non-null  float64\n",
      " 5   Code commune               32768 non-null  float64\n",
      " 6   Prefixe de section         33026 non-null  float64\n",
      " 7   No plan                    31338 non-null  float64\n",
      " 8   Nombre de lots             33810 non-null  float64\n",
      " 9   Code type local            31378 non-null  float64\n",
      " 10  Surface reelle bati        33345 non-null  float64\n",
      " 11  Nombre pieces principales  31952 non-null  float64\n",
      " 12  Surface terrain            33916 non-null  float64\n",
      "dtypes: float64(12), int64(1)\n",
      "memory usage: 3.4 MB\n"
     ]
    }
   ],
   "source": [
    "df.info()  # Affiche un résumé concis du DataFrame"
   ]
  },
  {
   "cell_type": "code",
   "execution_count": 41,
   "metadata": {},
   "outputs": [
    {
     "data": {
      "image/png": "[encoded data removed]",
      "text/plain": [
       "<Figure size 640x480 with 1 Axes>"
      ]
     },
     "metadata": {},
     "output_type": "display_data"
    }
   ],
   "source": [
    "# Boîtes à moustaches (Boxplots) : Les boîtes à moustaches sont un excellent moyen de visualiser les valeurs aberrantes. Les “moustaches” du graphique indiquent la plage dans laquelle se trouvent la plupart des données, et les points en dehors de cette plage sont souvent considérés comme des valeurs aberrantes2.\n",
    "import matplotlib.pyplot as plt\n",
    "\n",
    "nom_de_la_colonne=\"Surface reelle bati\"\n",
    "plt.boxplot(df[nom_de_la_colonne].dropna())\n",
    "plt.show()"
   ]
  },
  {
   "cell_type": "code",
   "execution_count": 28,
   "metadata": {},
   "outputs": [
    {
     "name": "stdout",
     "output_type": "stream",
     "text": [
      "No disposition               0\n",
      "No voie                      0\n",
      "Code type de voie            0\n",
      "Code ID commune              0\n",
      "Code postal                  0\n",
      "Code commune                 0\n",
      "Prefixe de section           0\n",
      "No plan                      0\n",
      "Nombre de lots               0\n",
      "Code type local              0\n",
      "Surface reelle bati          0\n",
      "Nombre pieces principales    0\n",
      "Surface terrain              0\n",
      "dtype: int64\n"
     ]
    }
   ],
   "source": [
    "\n",
    "# Z-score : Le z-score est une mesure qui indique combien de fois l’écart-type une valeur est éloignée de la moyenne. Les valeurs avec un z-score très élevé ou très faible (par exemple, plus de 3 ou moins de -3) sont souvent considérées comme des valeurs aberrantes1.\n",
    "\n",
    "# avant de faire le z-scrore il faut faire un peu de nettoyage\n",
    "\n",
    "# Sélectionner uniquement les colonnes numériques\n",
    "df_numerique = df.select_dtypes(include=[np.number])\n",
    "\n",
    "# Calculer la moyenne pour chaque colonne numérique\n",
    "moyenne = df_numerique.mean()\n",
    "\n",
    "# Remplacer les valeurs manquantes par la moyenne\n",
    "df = df.fillna(moyenne)\n",
    "\n",
    "\n",
    "# Exclure les colonnes non numériques\n",
    "df = df.select_dtypes(include=[np.number])\n",
    "\n",
    "# Appliquer la fonction zscore\n",
    "df_zscore = df.apply(zscore)\n",
    "\n",
    "# calcul du z-score\n",
    "\n",
    "from scipy.stats import zscore\n",
    "df_zscore = df.apply(zscore)\n",
    "filtre = (df_zscore < -3) | (df_zscore > 3)\n",
    "df[filtre] = np.nan\n",
    "\n",
    "# TRAITEMENT DE TOUTES LES COLONNES POUR CONNAITRES CELLES QUI ONT LE PLUS DE VALEURS ABERRANTES\n",
    "# Calculer le score z pour chaque colonne\n",
    "df_zscore = df.apply(zscore)\n",
    "\n",
    "# Identifier les valeurs aberrantes\n",
    "filtre = (df_zscore < -3) | (df_zscore > 3)\n",
    "\n",
    "# Compter le nombre de valeurs aberrantes dans chaque colonne\n",
    "nombre_aberrantes = filtre.sum()\n",
    "\n",
    "# Afficher le nombre de valeurs aberrantes pour chaque colonne\n",
    "print(nombre_aberrantes)"
   ]
  },
  {
   "cell_type": "code",
   "execution_count": null,
   "metadata": {},
   "outputs": [],
   "source": [
    "\n",
    "# Méthode de la distance de Cook : Cette méthode est souvent utilisée en régression pour identifier les valeurs aberrantes qui ont une grande influence sur l’ajustement du modèle2.\n",
    "import statsmodels.api as sm\n",
    "model = sm.OLS(y, X).fit()\n",
    "influence = model.get_influence()\n",
    "cooks_distance = influence.cooks_distance[0]\n",
    "seuil = 4 / (len(y) - X.shape[1] - 1)\n",
    "filtre = cooks_distance > seuil\n",
    "df[filtre] = np.nan"
   ]
  },
  {
   "cell_type": "code",
   "execution_count": null,
   "metadata": {},
   "outputs": [],
   "source": [
    "# FORMATAGE DES DONNEES"
   ]
  },
  {
   "cell_type": "code",
   "execution_count": null,
   "metadata": {},
   "outputs": [],
   "source": [
    "# formate les prix en € par ex 56000 -> 56 000€ l\n",
    "# La fonction lambda prend chaque valeur dans la colonne, la formate avec des espaces comme séparateurs de milliers et ajoute le symbole ‘€’ à la fin. Le résultat est une colonne où chaque cellule a le format que vous voulez.\n",
    "#  rajoute un espace et le symbole €\n",
    "nom_de_la_colonne=\"Surface reelle bati\"\n",
    "df[nom_de_la_colonne] = df[nom_de_la_colonne].apply(lambda x: f'{x:,} €'.replace(',', ' '))"
   ]
  },
  {
   "cell_type": "code",
   "execution_count": null,
   "metadata": {},
   "outputs": [],
   "source": []
  },
  {
   "cell_type": "code",
   "execution_count": null,
   "metadata": {},
   "outputs": [],
   "source": []
  },
  {
   "cell_type": "code",
   "execution_count": null,
   "metadata": {},
   "outputs": [],
   "source": []
  },
  {
   "cell_type": "markdown",
   "metadata": {},
   "source": []
  }
 ],
 "metadata": {
  "kernelspec": {
   "display_name": "Python 3",
   "language": "python",
   "name": "python3"
  },
  "language_info": {
   "codemirror_mode": {
    "name": "ipython",
    "version": 3
   },
   "file_extension": ".py",
   "mimetype": "text/x-python",
   "name": "python",
   "nbconvert_exporter": "python",
   "pygments_lexer": "ipython3",
   "version": "3.12.0"
  }
 },
 "nbformat": 4,
 "nbformat_minor": 2
}
