{
 "cells": [
  {
   "cell_type": "markdown",
   "metadata": {},
   "source": [
    "revision machine learning"
   ]
  },
  {
   "cell_type": "code",
   "execution_count": 1,
   "metadata": {},
   "outputs": [],
   "source": [
    "import os\n",
    "import io\n",
    "import gzip\n",
    "import random\n",
    "import secrets\n",
    "import datetime\n",
    "import requests\n",
    "import numpy as np\n",
    "import pandas as pd\n",
    "import seaborn as sns\n",
    "from sklearn import svm\n",
    "import plotly.io as pio\n",
    "from sklearn import tree\n",
    "import plotly.express as px\n",
    "from bs4 import BeautifulSoup\n",
    "import matplotlib.pyplot as plt\n",
    "import plotly.graph_objects as go\n",
    "from sklearn.cluster import KMeans\n",
    "from scipy.cluster import hierarchy\n",
    "from sklearn.metrics import accuracy_score\n",
    "from sklearn.metrics import silhouette_score\n",
    "from sklearn.linear_model import SGDRegressor\n",
    "from sklearn.tree import DecisionTreeRegressor\n",
    "from sklearn.tree import DecisionTreeClassifier\n",
    "from sklearn.model_selection import GridSearchCV\n",
    "from sklearn.preprocessing import StandardScaler\n",
    "from sklearn.linear_model import LinearRegression\n",
    "from sklearn.neighbors import KNeighborsRegressor\n",
    "from sklearn.metrics import classification_report\n",
    "from sklearn.neighbors import KNeighborsClassifier\n",
    "from sklearn.linear_model import LogisticRegression\n",
    "from sklearn.cluster import AgglomerativeClustering\n",
    "from sklearn.ensemble import RandomForestClassifier\n",
    "from sklearn.linear_model import LogisticRegression\n",
    "from sklearn.model_selection import train_test_split\n",
    "from sklearn.metrics import accuracy_score, r2_score\n",
    "from scipy.spatial.distance import pdist, squareform\n",
    "from scipy.cluster.hierarchy import dendrogram, linkage, fcluster\n",
    "from flask import Flask, request, render_template, session, url_for, redirect"
   ]
  },
  {
   "cell_type": "markdown",
   "metadata": {},
   "source": [
    "DASH"
   ]
  },
  {
   "cell_type": "code",
   "execution_count": 8,
   "metadata": {},
   "outputs": [
    {
     "name": "stdout",
     "output_type": "stream",
     "text": [
      "Requirement already satisfied: dash in c:\\users\\romar\\appdata\\local\\programs\\python\\python312\\lib\\site-packages (2.14.2)\n",
      "Requirement already satisfied: Flask<3.1,>=1.0.4 in c:\\users\\romar\\appdata\\local\\programs\\python\\python312\\lib\\site-packages (from dash) (3.0.0)\n",
      "Requirement already satisfied: Werkzeug<3.1 in c:\\users\\romar\\appdata\\local\\programs\\python\\python312\\lib\\site-packages (from dash) (3.0.1)\n",
      "Requirement already satisfied: plotly>=5.0.0 in c:\\users\\romar\\appdata\\local\\programs\\python\\python312\\lib\\site-packages (from dash) (5.18.0)\n",
      "Requirement already satisfied: dash-html-components==2.0.0 in c:\\users\\romar\\appdata\\local\\programs\\python\\python312\\lib\\site-packages (from dash) (2.0.0)\n",
      "Requirement already satisfied: dash-core-components==2.0.0 in c:\\users\\romar\\appdata\\local\\programs\\python\\python312\\lib\\site-packages (from dash) (2.0.0)\n",
      "Requirement already satisfied: dash-table==5.0.0 in c:\\users\\romar\\appdata\\local\\programs\\python\\python312\\lib\\site-packages (from dash) (5.0.0)\n",
      "Requirement already satisfied: typing-extensions>=4.1.1 in c:\\users\\romar\\appdata\\local\\programs\\python\\python312\\lib\\site-packages (from dash) (4.8.0)\n",
      "Requirement already satisfied: requests in c:\\users\\romar\\appdata\\local\\programs\\python\\python312\\lib\\site-packages (from dash) (2.31.0)\n",
      "Requirement already satisfied: retrying in c:\\users\\romar\\appdata\\local\\programs\\python\\python312\\lib\\site-packages (from dash) (1.3.4)\n",
      "Requirement already satisfied: ansi2html in c:\\users\\romar\\appdata\\local\\programs\\python\\python312\\lib\\site-packages (from dash) (1.9.1)\n",
      "Requirement already satisfied: nest-asyncio in c:\\users\\romar\\appdata\\roaming\\python\\python312\\site-packages (from dash) (1.5.8)\n",
      "Requirement already satisfied: setuptools in c:\\users\\romar\\appdata\\local\\programs\\python\\python312\\lib\\site-packages (from dash) (69.0.2)\n",
      "Requirement already satisfied: importlib-metadata in c:\\users\\romar\\appdata\\local\\programs\\python\\python312\\lib\\site-packages (from dash) (6.8.0)\n",
      "Requirement already satisfied: Jinja2>=3.1.2 in c:\\users\\romar\\appdata\\local\\programs\\python\\python312\\lib\\site-packages (from Flask<3.1,>=1.0.4->dash) (3.1.2)\n",
      "Requirement already satisfied: itsdangerous>=2.1.2 in c:\\users\\romar\\appdata\\local\\programs\\python\\python312\\lib\\site-packages (from Flask<3.1,>=1.0.4->dash) (2.1.2)\n",
      "Requirement already satisfied: click>=8.1.3 in c:\\users\\romar\\appdata\\local\\programs\\python\\python312\\lib\\site-packages (from Flask<3.1,>=1.0.4->dash) (8.1.7)\n",
      "Requirement already satisfied: blinker>=1.6.2 in c:\\users\\romar\\appdata\\local\\programs\\python\\python312\\lib\\site-packages (from Flask<3.1,>=1.0.4->dash) (1.7.0)\n",
      "Requirement already satisfied: tenacity>=6.2.0 in c:\\users\\romar\\appdata\\local\\programs\\python\\python312\\lib\\site-packages (from plotly>=5.0.0->dash) (8.2.3)\n",
      "Requirement already satisfied: packaging in c:\\users\\romar\\appdata\\roaming\\python\\python312\\site-packages (from plotly>=5.0.0->dash) (23.2)\n",
      "Requirement already satisfied: MarkupSafe>=2.1.1 in c:\\users\\romar\\appdata\\local\\programs\\python\\python312\\lib\\site-packages (from Werkzeug<3.1->dash) (2.1.3)\n",
      "Requirement already satisfied: zipp>=0.5 in c:\\users\\romar\\appdata\\local\\programs\\python\\python312\\lib\\site-packages (from importlib-metadata->dash) (3.17.0)\n",
      "Requirement already satisfied: charset-normalizer<4,>=2 in c:\\users\\romar\\appdata\\local\\programs\\python\\python312\\lib\\site-packages (from requests->dash) (3.3.1)\n",
      "Requirement already satisfied: idna<4,>=2.5 in c:\\users\\romar\\appdata\\local\\programs\\python\\python312\\lib\\site-packages (from requests->dash) (3.4)\n",
      "Requirement already satisfied: urllib3<3,>=1.21.1 in c:\\users\\romar\\appdata\\local\\programs\\python\\python312\\lib\\site-packages (from requests->dash) (2.0.7)\n",
      "Requirement already satisfied: certifi>=2017.4.17 in c:\\users\\romar\\appdata\\local\\programs\\python\\python312\\lib\\site-packages (from requests->dash) (2023.7.22)\n",
      "Requirement already satisfied: six>=1.7.0 in c:\\users\\romar\\appdata\\roaming\\python\\python312\\site-packages (from retrying->dash) (1.16.0)\n",
      "Requirement already satisfied: colorama in c:\\users\\romar\\appdata\\roaming\\python\\python312\\site-packages (from click>=8.1.3->Flask<3.1,>=1.0.4->dash) (0.4.6)\n",
      "Collecting dash-bootstrap-components\n",
      "  Using cached dash_bootstrap_components-1.5.0-py3-none-any.whl.metadata (5.2 kB)\n",
      "Requirement already satisfied: dash>=2.0.0 in c:\\users\\romar\\appdata\\local\\programs\\python\\python312\\lib\\site-packages (from dash-bootstrap-components) (2.14.2)\n",
      "Requirement already satisfied: Flask<3.1,>=1.0.4 in c:\\users\\romar\\appdata\\local\\programs\\python\\python312\\lib\\site-packages (from dash>=2.0.0->dash-bootstrap-components) (3.0.0)\n",
      "Requirement already satisfied: Werkzeug<3.1 in c:\\users\\romar\\appdata\\local\\programs\\python\\python312\\lib\\site-packages (from dash>=2.0.0->dash-bootstrap-components) (3.0.1)\n",
      "Requirement already satisfied: plotly>=5.0.0 in c:\\users\\romar\\appdata\\local\\programs\\python\\python312\\lib\\site-packages (from dash>=2.0.0->dash-bootstrap-components) (5.18.0)\n",
      "Requirement already satisfied: dash-html-components==2.0.0 in c:\\users\\romar\\appdata\\local\\programs\\python\\python312\\lib\\site-packages (from dash>=2.0.0->dash-bootstrap-components) (2.0.0)\n",
      "Requirement already satisfied: dash-core-components==2.0.0 in c:\\users\\romar\\appdata\\local\\programs\\python\\python312\\lib\\site-packages (from dash>=2.0.0->dash-bootstrap-components) (2.0.0)\n",
      "Requirement already satisfied: dash-table==5.0.0 in c:\\users\\romar\\appdata\\local\\programs\\python\\python312\\lib\\site-packages (from dash>=2.0.0->dash-bootstrap-components) (5.0.0)\n",
      "Requirement already satisfied: typing-extensions>=4.1.1 in c:\\users\\romar\\appdata\\local\\programs\\python\\python312\\lib\\site-packages (from dash>=2.0.0->dash-bootstrap-components) (4.8.0)\n",
      "Requirement already satisfied: requests in c:\\users\\romar\\appdata\\local\\programs\\python\\python312\\lib\\site-packages (from dash>=2.0.0->dash-bootstrap-components) (2.31.0)\n",
      "Requirement already satisfied: retrying in c:\\users\\romar\\appdata\\local\\programs\\python\\python312\\lib\\site-packages (from dash>=2.0.0->dash-bootstrap-components) (1.3.4)\n",
      "Requirement already satisfied: ansi2html in c:\\users\\romar\\appdata\\local\\programs\\python\\python312\\lib\\site-packages (from dash>=2.0.0->dash-bootstrap-components) (1.9.1)\n",
      "Requirement already satisfied: nest-asyncio in c:\\users\\romar\\appdata\\roaming\\python\\python312\\site-packages (from dash>=2.0.0->dash-bootstrap-components) (1.5.8)\n",
      "Requirement already satisfied: setuptools in c:\\users\\romar\\appdata\\local\\programs\\python\\python312\\lib\\site-packages (from dash>=2.0.0->dash-bootstrap-components) (69.0.2)\n",
      "Requirement already satisfied: importlib-metadata in c:\\users\\romar\\appdata\\local\\programs\\python\\python312\\lib\\site-packages (from dash>=2.0.0->dash-bootstrap-components) (6.8.0)\n",
      "Requirement already satisfied: Jinja2>=3.1.2 in c:\\users\\romar\\appdata\\local\\programs\\python\\python312\\lib\\site-packages (from Flask<3.1,>=1.0.4->dash>=2.0.0->dash-bootstrap-components) (3.1.2)\n",
      "Requirement already satisfied: itsdangerous>=2.1.2 in c:\\users\\romar\\appdata\\local\\programs\\python\\python312\\lib\\site-packages (from Flask<3.1,>=1.0.4->dash>=2.0.0->dash-bootstrap-components) (2.1.2)\n",
      "Requirement already satisfied: click>=8.1.3 in c:\\users\\romar\\appdata\\local\\programs\\python\\python312\\lib\\site-packages (from Flask<3.1,>=1.0.4->dash>=2.0.0->dash-bootstrap-components) (8.1.7)\n",
      "Requirement already satisfied: blinker>=1.6.2 in c:\\users\\romar\\appdata\\local\\programs\\python\\python312\\lib\\site-packages (from Flask<3.1,>=1.0.4->dash>=2.0.0->dash-bootstrap-components) (1.7.0)\n",
      "Requirement already satisfied: tenacity>=6.2.0 in c:\\users\\romar\\appdata\\local\\programs\\python\\python312\\lib\\site-packages (from plotly>=5.0.0->dash>=2.0.0->dash-bootstrap-components) (8.2.3)\n",
      "Requirement already satisfied: packaging in c:\\users\\romar\\appdata\\roaming\\python\\python312\\site-packages (from plotly>=5.0.0->dash>=2.0.0->dash-bootstrap-components) (23.2)\n",
      "Requirement already satisfied: MarkupSafe>=2.1.1 in c:\\users\\romar\\appdata\\local\\programs\\python\\python312\\lib\\site-packages (from Werkzeug<3.1->dash>=2.0.0->dash-bootstrap-components) (2.1.3)\n",
      "Requirement already satisfied: zipp>=0.5 in c:\\users\\romar\\appdata\\local\\programs\\python\\python312\\lib\\site-packages (from importlib-metadata->dash>=2.0.0->dash-bootstrap-components) (3.17.0)\n",
      "Requirement already satisfied: charset-normalizer<4,>=2 in c:\\users\\romar\\appdata\\local\\programs\\python\\python312\\lib\\site-packages (from requests->dash>=2.0.0->dash-bootstrap-components) (3.3.1)\n",
      "Requirement already satisfied: idna<4,>=2.5 in c:\\users\\romar\\appdata\\local\\programs\\python\\python312\\lib\\site-packages (from requests->dash>=2.0.0->dash-bootstrap-components) (3.4)\n",
      "Requirement already satisfied: urllib3<3,>=1.21.1 in c:\\users\\romar\\appdata\\local\\programs\\python\\python312\\lib\\site-packages (from requests->dash>=2.0.0->dash-bootstrap-components) (2.0.7)\n",
      "Requirement already satisfied: certifi>=2017.4.17 in c:\\users\\romar\\appdata\\local\\programs\\python\\python312\\lib\\site-packages (from requests->dash>=2.0.0->dash-bootstrap-components) (2023.7.22)\n",
      "Requirement already satisfied: six>=1.7.0 in c:\\users\\romar\\appdata\\roaming\\python\\python312\\site-packages (from retrying->dash>=2.0.0->dash-bootstrap-components) (1.16.0)\n",
      "Requirement already satisfied: colorama in c:\\users\\romar\\appdata\\roaming\\python\\python312\\site-packages (from click>=8.1.3->Flask<3.1,>=1.0.4->dash>=2.0.0->dash-bootstrap-components) (0.4.6)\n",
      "Using cached dash_bootstrap_components-1.5.0-py3-none-any.whl (221 kB)\n",
      "Installing collected packages: dash-bootstrap-components\n",
      "Successfully installed dash-bootstrap-components-1.5.0\n"
     ]
    }
   ],
   "source": [
    "!pip install dash\n",
    "!pip install dash-bootstrap-components"
   ]
  },
  {
   "cell_type": "code",
   "execution_count": 9,
   "metadata": {},
   "outputs": [
    {
     "data": {
      "text/html": [
       "\n",
       "        <iframe\n",
       "            width=\"100%\"\n",
       "            height=\"650\"\n",
       "            src=\"http://127.0.0.1:8050/\"\n",
       "            frameborder=\"0\"\n",
       "            allowfullscreen\n",
       "            \n",
       "        ></iframe>\n",
       "        "
      ],
      "text/plain": [
       "<IPython.lib.display.IFrame at 0x271bb8214f0>"
      ]
     },
     "metadata": {},
     "output_type": "display_data"
    }
   ],
   "source": [
    "import dash\n",
    "import dash_bootstrap_components as dbc\n",
    "from dash import html, dcc\n",
    "from dash.dependencies import Input, Output, State\n",
    "\n",
    "app = dash.Dash(__name__, external_stylesheets=[dbc.themes.BOOTSTRAP])\n",
    "\n",
    "app.layout = dbc.Container([\n",
    "    dbc.Row(dbc.Col(html.H3(\"Cliquez sur le Bouton\"))),\n",
    "    dbc.Row([\n",
    "        dbc.Col(dcc.Input(id='input-text', type='text',\n",
    "                placeholder='Entrez un texte')),\n",
    "        dbc.Col(html.Button('Mettre à Jour', id='submit-button', n_clicks=0)),\n",
    "        dbc.Col(html.Div(id='output-text'))\n",
    "    ])\n",
    "])\n",
    "\n",
    "\n",
    "@app.callback(\n",
    "    Output('output-text', 'children'),\n",
    "    [Input('submit-button', 'n_clicks')],\n",
    "    [State('input-text', 'value')]\n",
    ")\n",
    "def update_output(n_clicks, text):\n",
    "    if n_clicks > 0:\n",
    "        return text\n",
    "    else:\n",
    "        return 'Cliquez sur le bouton pour afficher le texte'\n",
    "\n",
    "\n",
    "if __name__ == '__main__':\n",
    "    app.run_server(debug=True)"
   ]
  },
  {
   "cell_type": "code",
   "execution_count": null,
   "metadata": {},
   "outputs": [],
   "source": [
    "pi2   quali/qauli\n",
    "kewness\n",
    "annov"
   ]
  },
  {
   "cell_type": "code",
   "execution_count": null,
   "metadata": {},
   "outputs": [],
   "source": [
    "#  test annova pour voir une correlation entre dse valeur qualitative et qualitative\n",
    "def anova(dataframe, colonneNumerique, colonneQualitative, p_value=0.05):\n",
    "  import pandas as pd\n",
    "  from statsmodels.formula.api import ols\n",
    "  from statsmodels.stats.anova import anova_lm\n",
    "\n",
    "  traitement = ols(f\"{colonneNumerique} ~ {colonneQualitative}\", dataframe)\n",
    "  traitement.fit()\n",
    "  resultat = anova_lm(traitement.fit())\n",
    "  print(resultat)\n",
    "  print(\"La p-value vaut\", resultat.loc[f\"{colonneQualitative}\", \"PR(>F)\"])\n",
    "\n",
    "  if resultat.loc[f\"{colonneQualitative}\", \"PR(>F)\"] > p_value:\n",
    "    print(f\"Il n'y a pas de corrélation entre la colonne {\n",
    "          colonneNumerique} et {colonneQualitative}\")\n",
    "  elif resultat.loc[f\"{colonneQualitative}\", \"PR(>F)\"] < p_value:\n",
    "    print(f\"Il a une corrélation entre la colonne {\n",
    "          colonneNumerique} et {colonneQualitative}\")"
   ]
  }
 ],
 "metadata": {
  "kernelspec": {
   "display_name": "Python 3",
   "language": "python",
   "name": "python3"
  },
  "language_info": {
   "codemirror_mode": {
    "name": "ipython",
    "version": 3
   },
   "file_extension": ".py",
   "mimetype": "text/x-python",
   "name": "python",
   "nbconvert_exporter": "python",
   "pygments_lexer": "ipython3",
   "version": "3.12.0"
  }
 },
 "nbformat": 4,
 "nbformat_minor": 2
}
